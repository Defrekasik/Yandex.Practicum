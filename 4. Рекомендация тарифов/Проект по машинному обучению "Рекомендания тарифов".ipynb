{
 "cells": [
  {
   "cell_type": "markdown",
   "metadata": {},
   "source": [
    "# Рекомендация тарифов"
   ]
  },
  {
   "cell_type": "markdown",
   "metadata": {},
   "source": [
    "### Цель проекта: построить модель для предложения пользователям нового тарифа с максимальным значением accuracy"
   ]
  },
  {
   "cell_type": "markdown",
   "metadata": {},
   "source": [
    "### Описание проекта:"
   ]
  },
  {
   "cell_type": "markdown",
   "metadata": {},
   "source": [
    "Оператор мобильной связи «Мегалайн» выяснил: многие клиенты пользуются архивными тарифами. Они хотят построить систему, способную проанализировать поведение клиентов и предложить пользователям новый тариф: «Смарт» или «Ультра».\n",
    "В нашем распоряжении данные о поведении клиентов, которые уже перешли на эти тарифы. Необходимо построить модель для задачи классификации, которая выберет подходящий тариф."
   ]
  },
  {
   "cell_type": "code",
   "execution_count": 14,
   "metadata": {},
   "outputs": [],
   "source": [
    "# Импортируем библиотеки\n",
    "\n",
    "import pandas as pd\n",
    "import numpy as np\n",
    "from sklearn.model_selection import train_test_split\n",
    "from sklearn.linear_model import LogisticRegression\n",
    "from sklearn.ensemble import RandomForestClassifier\n",
    "from sklearn.tree import DecisionTreeClassifier\n",
    "from sklearn.dummy import DummyClassifier\n",
    "from sklearn.metrics import accuracy_score"
   ]
  },
  {
   "cell_type": "markdown",
   "metadata": {},
   "source": [
    "## Загрузка и изучение данных"
   ]
  },
  {
   "cell_type": "code",
   "execution_count": 15,
   "metadata": {},
   "outputs": [
    {
     "data": {
      "text/html": [
       "<div>\n",
       "<style scoped>\n",
       "    .dataframe tbody tr th:only-of-type {\n",
       "        vertical-align: middle;\n",
       "    }\n",
       "\n",
       "    .dataframe tbody tr th {\n",
       "        vertical-align: top;\n",
       "    }\n",
       "\n",
       "    .dataframe thead th {\n",
       "        text-align: right;\n",
       "    }\n",
       "</style>\n",
       "<table border=\"1\" class=\"dataframe\">\n",
       "  <thead>\n",
       "    <tr style=\"text-align: right;\">\n",
       "      <th></th>\n",
       "      <th>calls</th>\n",
       "      <th>minutes</th>\n",
       "      <th>messages</th>\n",
       "      <th>mb_used</th>\n",
       "      <th>is_ultra</th>\n",
       "    </tr>\n",
       "  </thead>\n",
       "  <tbody>\n",
       "    <tr>\n",
       "      <th>0</th>\n",
       "      <td>40.0</td>\n",
       "      <td>311.90</td>\n",
       "      <td>83.0</td>\n",
       "      <td>19915.42</td>\n",
       "      <td>0</td>\n",
       "    </tr>\n",
       "    <tr>\n",
       "      <th>1</th>\n",
       "      <td>85.0</td>\n",
       "      <td>516.75</td>\n",
       "      <td>56.0</td>\n",
       "      <td>22696.96</td>\n",
       "      <td>0</td>\n",
       "    </tr>\n",
       "    <tr>\n",
       "      <th>2</th>\n",
       "      <td>77.0</td>\n",
       "      <td>467.66</td>\n",
       "      <td>86.0</td>\n",
       "      <td>21060.45</td>\n",
       "      <td>0</td>\n",
       "    </tr>\n",
       "    <tr>\n",
       "      <th>3</th>\n",
       "      <td>106.0</td>\n",
       "      <td>745.53</td>\n",
       "      <td>81.0</td>\n",
       "      <td>8437.39</td>\n",
       "      <td>1</td>\n",
       "    </tr>\n",
       "    <tr>\n",
       "      <th>4</th>\n",
       "      <td>66.0</td>\n",
       "      <td>418.74</td>\n",
       "      <td>1.0</td>\n",
       "      <td>14502.75</td>\n",
       "      <td>0</td>\n",
       "    </tr>\n",
       "  </tbody>\n",
       "</table>\n",
       "</div>"
      ],
      "text/plain": [
       "   calls  minutes  messages   mb_used  is_ultra\n",
       "0   40.0   311.90      83.0  19915.42         0\n",
       "1   85.0   516.75      56.0  22696.96         0\n",
       "2   77.0   467.66      86.0  21060.45         0\n",
       "3  106.0   745.53      81.0   8437.39         1\n",
       "4   66.0   418.74       1.0  14502.75         0"
      ]
     },
     "execution_count": 15,
     "metadata": {},
     "output_type": "execute_result"
    }
   ],
   "source": [
    "data = pd.read_csv('/datasets/users_behavior.csv')\n",
    "data.head()"
   ]
  },
  {
   "cell_type": "markdown",
   "metadata": {},
   "source": [
    "Данные в столбцах 'messages' и 'calls' можно привести к целочисленному типу. "
   ]
  },
  {
   "cell_type": "code",
   "execution_count": 16,
   "metadata": {},
   "outputs": [],
   "source": [
    "data['messages'] = data['messages'].astype(int)\n",
    "data['calls'] = data['calls'].astype(int)"
   ]
  },
  {
   "cell_type": "code",
   "execution_count": 17,
   "metadata": {},
   "outputs": [
    {
     "name": "stdout",
     "output_type": "stream",
     "text": [
      "<class 'pandas.core.frame.DataFrame'>\n",
      "RangeIndex: 3214 entries, 0 to 3213\n",
      "Data columns (total 5 columns):\n",
      " #   Column    Non-Null Count  Dtype  \n",
      "---  ------    --------------  -----  \n",
      " 0   calls     3214 non-null   int64  \n",
      " 1   minutes   3214 non-null   float64\n",
      " 2   messages  3214 non-null   int64  \n",
      " 3   mb_used   3214 non-null   float64\n",
      " 4   is_ultra  3214 non-null   int64  \n",
      "dtypes: float64(2), int64(3)\n",
      "memory usage: 125.7 KB\n"
     ]
    }
   ],
   "source": [
    "data.info()"
   ]
  },
  {
   "cell_type": "code",
   "execution_count": 18,
   "metadata": {},
   "outputs": [
    {
     "data": {
      "text/plain": [
       "calls       0\n",
       "minutes     0\n",
       "messages    0\n",
       "mb_used     0\n",
       "is_ultra    0\n",
       "dtype: int64"
      ]
     },
     "execution_count": 18,
     "metadata": {},
     "output_type": "execute_result"
    }
   ],
   "source": [
    "# Проверим данные на наличие пропусков\n",
    "\n",
    "data.isna().sum()"
   ]
  },
  {
   "cell_type": "code",
   "execution_count": 19,
   "metadata": {},
   "outputs": [
    {
     "data": {
      "text/plain": [
       "0"
      ]
     },
     "execution_count": 19,
     "metadata": {},
     "output_type": "execute_result"
    }
   ],
   "source": [
    "# Проверим данные на наличие явных дубликатов\n",
    "\n",
    "data.duplicated().sum()"
   ]
  },
  {
   "cell_type": "markdown",
   "metadata": {},
   "source": [
    "***Вывод:***"
   ]
  },
  {
   "cell_type": "markdown",
   "metadata": {},
   "source": [
    "В результате изучения набора данных был изменен тип данных в столбцах messages и calls. Датафрейм состоит из 3214 строк и 5 столбцов. Дубликаты и пропуски не обнаружены.   "
   ]
  },
  {
   "cell_type": "markdown",
   "metadata": {},
   "source": [
    "## Разделение данных на выборки"
   ]
  },
  {
   "cell_type": "code",
   "execution_count": 20,
   "metadata": {},
   "outputs": [],
   "source": [
    "# Извлекаем признаки\n",
    "features = data.drop(['is_ultra'], axis=1)\n",
    "\n",
    "# Извлекаем целевой признак\n",
    "target = data['is_ultra']"
   ]
  },
  {
   "cell_type": "markdown",
   "metadata": {},
   "source": [
    "Спрятанной тестовой выборки нет, поэтому данные нужно разбить на три части: обучающую, валидационную и тестовую. Учитывая, что размеры тестового и валидационного наборов обычно равны, разделим исходные данные в соотношении 3:1:1. Для этого сначала отделим от всего набора данных две равные части, затем разделим их пополам на тестовую и валидационную выборки. "
   ]
  },
  {
   "cell_type": "code",
   "execution_count": 21,
   "metadata": {},
   "outputs": [],
   "source": [
    "# Разбиваем данные на обучающую и тестовую выборки в отношении 3:2\n",
    "\n",
    "features_train, features_test, target_train, target_test = train_test_split(\n",
    "    features, target, test_size=0.4, random_state=12345)"
   ]
  },
  {
   "cell_type": "code",
   "execution_count": 22,
   "metadata": {},
   "outputs": [],
   "source": [
    "# Разбимаем тестовую выборку на валидационную и тестовую в отношении 1:1\n",
    "\n",
    "features_valid, features_test, target_valid, target_test = train_test_split(\n",
    "    features_test, target_test, test_size = 0.5, random_state=12345)"
   ]
  },
  {
   "cell_type": "code",
   "execution_count": 23,
   "metadata": {},
   "outputs": [
    {
     "name": "stdout",
     "output_type": "stream",
     "text": [
      "Размер обучающей выборки: 1928 строк\n",
      "Размер валидационной выборки: 643 строки\n",
      "Размер тестовой выборки: 643 строки\n"
     ]
    }
   ],
   "source": [
    "print('Размер обучающей выборки:', len(features_train), 'строк')\n",
    "print('Размер валидационной выборки:', len(features_valid), 'строки')\n",
    "print('Размер тестовой выборки:', len(features_test), 'строки')"
   ]
  },
  {
   "cell_type": "markdown",
   "metadata": {},
   "source": [
    "## Исследование моделей"
   ]
  },
  {
   "cell_type": "markdown",
   "metadata": {},
   "source": [
    "Целевой признак в нашем случае категориальный, поэтому мы будем решать задачу классификации. Для этого проверим качество моделей DesicionTree, RandomForest и LogisticRegression. Для моделей решающего дерева и случайного леса будем перебирать гиперпараметры в цикле, чтобы найти среди них наиболее точную."
   ]
  },
  {
   "cell_type": "code",
   "execution_count": 24,
   "metadata": {},
   "outputs": [
    {
     "name": "stdout",
     "output_type": "stream",
     "text": [
      "Глубина дерева модели с максимальной точностью равна 3\n",
      "Accuracy модели: 0.7853810264385692\n"
     ]
    }
   ],
   "source": [
    "# Decision Tree\n",
    "# Создаем цикл для глубины решающего дерева от 1 до 10 и найдем модель с максимальной точностью\n",
    "\n",
    "best_model = None\n",
    "best_result = 0\n",
    "best_depth = 0\n",
    "for depth in range(1, 11):\n",
    "     model = DecisionTreeClassifier(random_state = 12345, max_depth = depth)\n",
    "     model.fit(features_train, target_train) \n",
    "     predictions_valid = model.predict(features_valid) \n",
    "     result = accuracy_score(predictions_valid, target_valid)\n",
    "     if best_result < result:\n",
    "             best_model = model\n",
    "             best_result = result\n",
    "             best_depth = depth\n",
    "        \n",
    "print('Глубина дерева модели с максимальной точностью равна', best_depth)\n",
    "print('Accuracy модели:', best_result)"
   ]
  },
  {
   "cell_type": "markdown",
   "metadata": {},
   "source": [
    "В результате мы получили модель с точностью правильных ответов равной 78.5%"
   ]
  },
  {
   "cell_type": "code",
   "execution_count": 25,
   "metadata": {},
   "outputs": [
    {
     "name": "stdout",
     "output_type": "stream",
     "text": [
      "Accuracy наилучшей модели на валидационной выборке: 0.8087091757387247 Количество деревьев: 40 Максимальная глубина: 8\n"
     ]
    }
   ],
   "source": [
    "# Random Forest\n",
    "# Создаем цикл для количества деревьев от 10 до 50, с максимальной глубиной от 1 до 10 и ищем наилучшую модель. \n",
    "\n",
    "best_model = None\n",
    "best_result = 0\n",
    "best_est = 0\n",
    "best_depth = 0\n",
    "for est in range(10, 51, 10):\n",
    "    for depth in range (1, 11):\n",
    "        model = RandomForestClassifier(random_state=12345, n_estimators=est, max_depth=depth)\n",
    "        model.fit(features_train, target_train)\n",
    "        predictions_valid = model.predict(features_valid)\n",
    "        result = accuracy_score(predictions_valid, target_valid)\n",
    "        if best_result < result:\n",
    "            best_model = model\n",
    "            best_result = result\n",
    "            best_est = est\n",
    "            best_depth = depth\n",
    "            \n",
    "print(\"Accuracy наилучшей модели на валидационной выборке:\", best_result, \"Количество деревьев:\", best_est, \"Максимальная глубина:\", best_depth)\n",
    "\n"
   ]
  },
  {
   "cell_type": "markdown",
   "metadata": {},
   "source": [
    "В результате мы получили модель с точностью правильных ответов равной 80%"
   ]
  },
  {
   "cell_type": "code",
   "execution_count": 26,
   "metadata": {},
   "outputs": [
    {
     "name": "stdout",
     "output_type": "stream",
     "text": [
      "Accuracy модели логистической регрессии на валидационной выборке: 0.7107309486780715\n"
     ]
    }
   ],
   "source": [
    "# Logistic Regression\n",
    "\n",
    "model = LogisticRegression(random_state=12345, solver='lbfgs', max_iter=1000)\n",
    "model.fit(features_train, target_train)\n",
    "predictions_valid = model.predict(features_valid)\n",
    "\n",
    "result = accuracy_score(predictions_valid, target_valid) \n",
    "print(\"Accuracy модели логистической регрессии на валидационной выборке:\", result)"
   ]
  },
  {
   "cell_type": "markdown",
   "metadata": {},
   "source": [
    "В результате мы получили модель с точностью правильных ответов равной 71%"
   ]
  },
  {
   "cell_type": "markdown",
   "metadata": {},
   "source": [
    "***Итоги исследования:***"
   ]
  },
  {
   "cell_type": "markdown",
   "metadata": {},
   "source": [
    "\n",
    "- Наилучшей является модель случайного леса из 40 деревьев и глубиной равной 8 - ее точность правильных ответов на валидационной выборке равна 80%\n",
    "- Модель логистической регрессии является наименее точной: ее accuracy равна 71%"
   ]
  },
  {
   "cell_type": "markdown",
   "metadata": {},
   "source": [
    "## Проверка модели на тестовой выборке"
   ]
  },
  {
   "cell_type": "code",
   "execution_count": 18,
   "metadata": {
    "scrolled": true
   },
   "outputs": [
    {
     "name": "stdout",
     "output_type": "stream",
     "text": [
      "Точность правильных ответов: 0.7962674961119751\n"
     ]
    }
   ],
   "source": [
    "# Создаем модель случайного леса с теми параметрами, которые показали наилучший результат и проверяем ее точность на тестовой выборке\n",
    "\n",
    "model = RandomForestClassifier(random_state=12345, n_estimators = 40, max_depth = 8)\n",
    "model.fit(features_train, target_train)\n",
    "predictions_test = model.predict(features_test)\n",
    "result_test = accuracy_score(predictions_test, target_test)\n",
    "\n",
    "print('Точность правильных ответов:', result_test)"
   ]
  },
  {
   "cell_type": "markdown",
   "metadata": {},
   "source": [
    "***Вывод:***"
   ]
  },
  {
   "cell_type": "markdown",
   "metadata": {},
   "source": [
    "Модель прошла проверку и показала высокий результат на тестовой выборке. Её accuracy равна 79.6%"
   ]
  },
  {
   "cell_type": "markdown",
   "metadata": {},
   "source": [
    "## Проверка модели на адекватность"
   ]
  },
  {
   "cell_type": "markdown",
   "metadata": {},
   "source": [
    "Для того, чтобы проверить модель машинного обучения на адекватность, нужно сравнить результаты её тестирования с результатами более простой модели, которая не учитывает никаких особенностей данных и использует случайные значения для классификации. В качестве модели для сравнения будем использовать DummyClassifier из библиотеки scikit-learn. Тест на адекватность не будет пройден, если результаты DummyClassifier окажутся близки к результатам нашей модели."
   ]
  },
  {
   "cell_type": "code",
   "execution_count": 28,
   "metadata": {},
   "outputs": [
    {
     "name": "stdout",
     "output_type": "stream",
     "text": [
      "Результат модели DummyClassifier: 0.6842923794712286\n"
     ]
    }
   ],
   "source": [
    "# Обучаем DummyClassifier на обучающей выборке\n",
    "\n",
    "model = DummyClassifier(random_state=12345)\n",
    "model.fit(features_train, target_train)\n",
    "predictions_test = model.predict(features_test)\n",
    "result_test = accuracy_score(predictions_test, target_test)\n",
    "\n",
    "print('Результат модели DummyClassifier:', result_test)"
   ]
  },
  {
   "cell_type": "markdown",
   "metadata": {},
   "source": [
    "***Вывод:***"
   ]
  },
  {
   "cell_type": "markdown",
   "metadata": {},
   "source": [
    "Точность нашей модели больше, чем точность модели DummyClassifier (79% > 68%). Это означает, что наша модель прошла проверку на адекватность. "
   ]
  },
  {
   "cell_type": "markdown",
   "metadata": {},
   "source": [
    "## Итоговый вывод"
   ]
  },
  {
   "cell_type": "markdown",
   "metadata": {},
   "source": [
    "- В ходе работы был изучен набор данных, содержащий 3214 строки и 5 столбцов. Данные в двух столбцах были приведены к целочисленному типу. В данных не было обнаружено ни пропусков, ни дубликатов. \n",
    "- Данные были разбиты на три выборки в отношении 3:1:1 - на обучающую, валидационную и тестовую соответственно. Размер обучающей выборки составляет 1928 строк, а валидационной и тестовой - по 643 строки каждая.\n",
    "- В ходе исследования проверялось качество моделей трех типов: решающее дерево, случайный лес и логистическая регрессия. Для моделей решающего дерева и случайного леса гиперпараметры перебирались в цикле, чтобы найти среди них наиболее точную. \n",
    "- Модель логистической регрессии показала точность, равную 71%. Решающее дерево глубиной 3 показала точность 78.5%. Наилучшей стала модель случайного леса из 40 деревьев и глубиной равной 8: ее точность правильных ответов на валидационной выборке равна 80%.\n",
    "- Модель с наивысшим показателем точности проверена на тестовой выборке. Её результат accuracy равен 79.6%.\n",
    "- Дополнительно модель RandomForestClassifier была проверена на адекватность. Для этого результаты её проверки были сравнены с результатами модели DummyClassifier из библиотеки scikit-learn. Модель прошла проверку, потому что её точность оказалась выше."
   ]
  },
  {
   "cell_type": "markdown",
   "metadata": {},
   "source": [
    "Таким образом, мы получили модель машинного обучения, которая позволяет решить задачу классификации и с большой точностью подобрать подходящий тариф для клиентов \"Мегалайн\"."
   ]
  }
 ],
 "metadata": {
  "ExecuteTimeLog": [
   {
    "duration": 528,
    "start_time": "2023-06-23T15:59:12.887Z"
   },
   {
    "duration": 3,
    "start_time": "2023-06-23T15:59:21.229Z"
   },
   {
    "duration": 99,
    "start_time": "2023-06-23T16:00:19.952Z"
   },
   {
    "duration": 63,
    "start_time": "2023-06-23T16:01:43.798Z"
   },
   {
    "duration": 3,
    "start_time": "2023-06-23T16:01:47.333Z"
   },
   {
    "duration": 90,
    "start_time": "2023-06-23T16:01:48.244Z"
   },
   {
    "duration": 157,
    "start_time": "2023-06-23T16:02:44.149Z"
   },
   {
    "duration": 8,
    "start_time": "2023-06-23T16:05:11.330Z"
   },
   {
    "duration": 7,
    "start_time": "2023-06-23T16:06:47.951Z"
   },
   {
    "duration": 8,
    "start_time": "2023-06-23T16:07:00.408Z"
   },
   {
    "duration": 7,
    "start_time": "2023-06-23T16:07:18.522Z"
   },
   {
    "duration": 11,
    "start_time": "2023-06-23T16:07:34.119Z"
   },
   {
    "duration": 9,
    "start_time": "2023-06-23T16:08:55.733Z"
   },
   {
    "duration": 5,
    "start_time": "2023-06-23T16:09:00.628Z"
   },
   {
    "duration": 764,
    "start_time": "2023-06-23T16:09:50.802Z"
   },
   {
    "duration": 10,
    "start_time": "2023-06-23T16:10:26.198Z"
   },
   {
    "duration": 1171,
    "start_time": "2023-07-13T18:48:11.128Z"
   },
   {
    "duration": 103,
    "start_time": "2023-07-13T18:48:12.301Z"
   },
   {
    "duration": 11,
    "start_time": "2023-07-13T18:48:12.406Z"
   },
   {
    "duration": 32,
    "start_time": "2023-07-13T18:48:12.419Z"
   },
   {
    "duration": 8,
    "start_time": "2023-07-13T18:48:12.506Z"
   },
   {
    "duration": 54,
    "start_time": "2023-07-13T18:48:48.643Z"
   },
   {
    "duration": 4,
    "start_time": "2023-07-13T18:58:33.149Z"
   },
   {
    "duration": 137,
    "start_time": "2023-07-13T19:12:40.426Z"
   },
   {
    "duration": 5,
    "start_time": "2023-07-13T19:12:56.162Z"
   },
   {
    "duration": 4,
    "start_time": "2023-07-13T19:28:45.510Z"
   },
   {
    "duration": 7,
    "start_time": "2023-07-13T19:28:45.677Z"
   },
   {
    "duration": 17,
    "start_time": "2023-07-13T19:28:46.775Z"
   },
   {
    "duration": 4,
    "start_time": "2023-07-13T19:29:29.709Z"
   },
   {
    "duration": 331,
    "start_time": "2023-07-13T19:29:32.575Z"
   },
   {
    "duration": 338,
    "start_time": "2023-07-13T19:30:41.840Z"
   },
   {
    "duration": 64,
    "start_time": "2023-07-13T19:31:44.703Z"
   },
   {
    "duration": 66,
    "start_time": "2023-07-13T19:32:00.367Z"
   },
   {
    "duration": 83,
    "start_time": "2023-07-13T19:32:07.461Z"
   },
   {
    "duration": 16,
    "start_time": "2023-07-13T19:32:29.374Z"
   },
   {
    "duration": 18,
    "start_time": "2023-07-13T19:32:52.865Z"
   },
   {
    "duration": 17,
    "start_time": "2023-07-13T19:33:18.179Z"
   },
   {
    "duration": 12,
    "start_time": "2023-07-13T20:31:37.819Z"
   },
   {
    "duration": 5,
    "start_time": "2023-07-13T20:32:06.923Z"
   },
   {
    "duration": 6,
    "start_time": "2023-07-13T20:32:07.682Z"
   },
   {
    "duration": 6,
    "start_time": "2023-07-13T20:32:08.391Z"
   },
   {
    "duration": 7,
    "start_time": "2023-07-13T20:32:56.091Z"
   },
   {
    "duration": 4,
    "start_time": "2023-07-13T20:33:34.904Z"
   },
   {
    "duration": 57,
    "start_time": "2023-07-13T20:36:48.845Z"
   },
   {
    "duration": 1187,
    "start_time": "2023-07-13T20:36:52.500Z"
   },
   {
    "duration": 45,
    "start_time": "2023-07-13T20:36:53.689Z"
   },
   {
    "duration": 4,
    "start_time": "2023-07-13T20:36:53.736Z"
   },
   {
    "duration": 15,
    "start_time": "2023-07-13T20:36:53.742Z"
   },
   {
    "duration": 8,
    "start_time": "2023-07-13T20:36:53.763Z"
   },
   {
    "duration": 5,
    "start_time": "2023-07-13T20:36:53.773Z"
   },
   {
    "duration": 5,
    "start_time": "2023-07-13T20:36:53.780Z"
   },
   {
    "duration": 5,
    "start_time": "2023-07-13T20:36:53.786Z"
   },
   {
    "duration": 5,
    "start_time": "2023-07-13T20:36:53.792Z"
   },
   {
    "duration": 83,
    "start_time": "2023-07-13T20:36:54.431Z"
   },
   {
    "duration": 4,
    "start_time": "2023-07-13T20:37:33.198Z"
   },
   {
    "duration": 3,
    "start_time": "2023-07-13T20:38:36.270Z"
   },
   {
    "duration": 6,
    "start_time": "2023-07-13T20:39:16.868Z"
   },
   {
    "duration": 12,
    "start_time": "2023-07-13T20:40:05.872Z"
   },
   {
    "duration": 5,
    "start_time": "2023-07-13T20:40:20.690Z"
   },
   {
    "duration": 4,
    "start_time": "2023-07-13T20:41:03.472Z"
   },
   {
    "duration": 4,
    "start_time": "2023-07-13T20:41:15.204Z"
   },
   {
    "duration": 4,
    "start_time": "2023-07-13T20:41:45.821Z"
   },
   {
    "duration": 5,
    "start_time": "2023-07-13T20:42:00.069Z"
   },
   {
    "duration": 5,
    "start_time": "2023-07-13T21:15:29.771Z"
   },
   {
    "duration": 5,
    "start_time": "2023-07-13T21:15:57.043Z"
   },
   {
    "duration": 104,
    "start_time": "2023-07-13T21:18:54.155Z"
   },
   {
    "duration": 102,
    "start_time": "2023-07-13T21:21:20.193Z"
   },
   {
    "duration": 17,
    "start_time": "2023-07-13T21:24:39.417Z"
   },
   {
    "duration": 5,
    "start_time": "2023-07-13T21:25:59.201Z"
   },
   {
    "duration": 2,
    "start_time": "2023-07-13T21:26:52.933Z"
   },
   {
    "duration": 11,
    "start_time": "2023-07-13T21:26:56.503Z"
   },
   {
    "duration": 456,
    "start_time": "2023-07-13T21:27:34.762Z"
   },
   {
    "duration": 27,
    "start_time": "2023-07-13T21:27:38.556Z"
   },
   {
    "duration": 3,
    "start_time": "2023-07-13T21:28:05.516Z"
   },
   {
    "duration": 76,
    "start_time": "2023-07-13T21:28:09.497Z"
   },
   {
    "duration": 4,
    "start_time": "2023-07-13T21:28:35.365Z"
   },
   {
    "duration": 1482,
    "start_time": "2023-07-13T21:30:38.720Z"
   },
   {
    "duration": 42,
    "start_time": "2023-07-13T21:30:40.204Z"
   },
   {
    "duration": 4,
    "start_time": "2023-07-13T21:30:40.248Z"
   },
   {
    "duration": 14,
    "start_time": "2023-07-13T21:30:40.254Z"
   },
   {
    "duration": 9,
    "start_time": "2023-07-13T21:30:40.270Z"
   },
   {
    "duration": 6,
    "start_time": "2023-07-13T21:30:40.280Z"
   },
   {
    "duration": 10,
    "start_time": "2023-07-13T21:30:40.287Z"
   },
   {
    "duration": 5,
    "start_time": "2023-07-13T21:30:40.299Z"
   },
   {
    "duration": 4,
    "start_time": "2023-07-13T21:30:40.306Z"
   },
   {
    "duration": 4,
    "start_time": "2023-07-13T21:30:40.312Z"
   },
   {
    "duration": 101,
    "start_time": "2023-07-13T21:30:40.318Z"
   },
   {
    "duration": 75,
    "start_time": "2023-07-13T21:31:53.612Z"
   },
   {
    "duration": 11,
    "start_time": "2023-07-13T21:42:03.374Z"
   },
   {
    "duration": 6,
    "start_time": "2023-07-13T21:49:38.546Z"
   },
   {
    "duration": 115,
    "start_time": "2023-07-13T21:49:59.892Z"
   },
   {
    "duration": 3903,
    "start_time": "2023-07-13T21:50:26.766Z"
   },
   {
    "duration": 3954,
    "start_time": "2023-07-13T21:52:14.875Z"
   },
   {
    "duration": 11,
    "start_time": "2023-07-13T21:56:02.612Z"
   },
   {
    "duration": 27,
    "start_time": "2023-07-13T21:57:44.883Z"
   },
   {
    "duration": 1520,
    "start_time": "2023-07-13T21:58:35.642Z"
   },
   {
    "duration": 42,
    "start_time": "2023-07-13T21:58:37.164Z"
   },
   {
    "duration": 5,
    "start_time": "2023-07-13T21:58:37.208Z"
   },
   {
    "duration": 12,
    "start_time": "2023-07-13T21:58:37.215Z"
   },
   {
    "duration": 4,
    "start_time": "2023-07-13T21:58:37.229Z"
   },
   {
    "duration": 6,
    "start_time": "2023-07-13T21:58:37.235Z"
   },
   {
    "duration": 12,
    "start_time": "2023-07-13T21:58:37.243Z"
   },
   {
    "duration": 4,
    "start_time": "2023-07-13T21:58:37.257Z"
   },
   {
    "duration": 101,
    "start_time": "2023-07-13T21:58:37.262Z"
   },
   {
    "duration": 3868,
    "start_time": "2023-07-13T21:58:37.367Z"
   },
   {
    "duration": 33,
    "start_time": "2023-07-13T21:58:41.237Z"
   },
   {
    "duration": 28,
    "start_time": "2023-07-13T21:58:58.925Z"
   },
   {
    "duration": 28,
    "start_time": "2023-07-13T21:59:34.552Z"
   },
   {
    "duration": 2835,
    "start_time": "2023-07-13T22:01:04.021Z"
   },
   {
    "duration": 33640,
    "start_time": "2023-07-13T22:01:21.448Z"
   },
   {
    "duration": 3931,
    "start_time": "2023-07-13T22:02:12.281Z"
   },
   {
    "duration": 130,
    "start_time": "2023-07-13T22:05:29.449Z"
   },
   {
    "duration": 126,
    "start_time": "2023-07-13T22:06:22.005Z"
   },
   {
    "duration": 44,
    "start_time": "2023-07-14T19:29:18.624Z"
   },
   {
    "duration": 1528,
    "start_time": "2023-07-14T19:29:24.131Z"
   },
   {
    "duration": 123,
    "start_time": "2023-07-14T19:29:25.661Z"
   },
   {
    "duration": 4,
    "start_time": "2023-07-14T19:29:25.786Z"
   },
   {
    "duration": 11,
    "start_time": "2023-07-14T19:29:27.128Z"
   },
   {
    "duration": 6,
    "start_time": "2023-07-14T19:29:27.920Z"
   },
   {
    "duration": 6,
    "start_time": "2023-07-14T19:30:47.191Z"
   },
   {
    "duration": 6,
    "start_time": "2023-07-14T19:33:44.873Z"
   },
   {
    "duration": 7,
    "start_time": "2023-07-14T19:46:56.687Z"
   },
   {
    "duration": 9,
    "start_time": "2023-07-14T19:47:12.006Z"
   },
   {
    "duration": 7,
    "start_time": "2023-07-14T19:47:16.891Z"
   },
   {
    "duration": 6,
    "start_time": "2023-07-14T19:47:25.288Z"
   },
   {
    "duration": 78,
    "start_time": "2023-07-14T20:09:52.969Z"
   },
   {
    "duration": 3,
    "start_time": "2023-07-14T20:09:58.017Z"
   },
   {
    "duration": 35,
    "start_time": "2023-07-14T20:09:58.171Z"
   },
   {
    "duration": 4,
    "start_time": "2023-07-14T20:09:58.331Z"
   },
   {
    "duration": 10,
    "start_time": "2023-07-14T20:09:58.421Z"
   },
   {
    "duration": 6,
    "start_time": "2023-07-14T20:09:58.497Z"
   },
   {
    "duration": 6,
    "start_time": "2023-07-14T20:09:58.583Z"
   },
   {
    "duration": 5,
    "start_time": "2023-07-14T20:09:58.868Z"
   },
   {
    "duration": 6,
    "start_time": "2023-07-14T20:09:59.005Z"
   },
   {
    "duration": 6,
    "start_time": "2023-07-14T20:09:59.080Z"
   },
   {
    "duration": 4,
    "start_time": "2023-07-14T20:09:59.175Z"
   },
   {
    "duration": 70,
    "start_time": "2023-07-14T20:09:59.328Z"
   },
   {
    "duration": 3748,
    "start_time": "2023-07-14T20:10:00.373Z"
   },
   {
    "duration": 24,
    "start_time": "2023-07-14T20:10:04.122Z"
   },
   {
    "duration": 7,
    "start_time": "2023-07-14T21:02:01.698Z"
   },
   {
    "duration": 7,
    "start_time": "2023-07-14T21:03:50.455Z"
   }
  ],
  "kernelspec": {
   "display_name": "Python 3 (ipykernel)",
   "language": "python",
   "name": "python3"
  },
  "language_info": {
   "codemirror_mode": {
    "name": "ipython",
    "version": 3
   },
   "file_extension": ".py",
   "mimetype": "text/x-python",
   "name": "python",
   "nbconvert_exporter": "python",
   "pygments_lexer": "ipython3",
   "version": "3.10.9"
  },
  "toc": {
   "base_numbering": 1,
   "nav_menu": {},
   "number_sections": false,
   "sideBar": true,
   "skip_h1_title": true,
   "title_cell": "Table of Contents",
   "title_sidebar": "Contents",
   "toc_cell": false,
   "toc_position": {},
   "toc_section_display": true,
   "toc_window_display": false
  }
 },
 "nbformat": 4,
 "nbformat_minor": 2
}
