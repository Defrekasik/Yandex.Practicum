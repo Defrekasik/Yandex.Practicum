{
 "cells": [
  {
   "cell_type": "markdown",
   "id": "c712200e",
   "metadata": {},
   "source": [
    "# Отток клиентов"
   ]
  },
  {
   "cell_type": "markdown",
   "id": "05759770",
   "metadata": {},
   "source": [
    "### Цель проекта: построить модель с предельно большим значением F1-меры"
   ]
  },
  {
   "cell_type": "markdown",
   "id": "59122458",
   "metadata": {},
   "source": [
    "### Описание проекта:"
   ]
  },
  {
   "cell_type": "markdown",
   "id": "ba66dd1e",
   "metadata": {},
   "source": [
    "Из «Бета-Банка» стали уходить клиенты. Каждый месяц. Немного, но заметно. Банковские маркетологи посчитали: сохранять текущих клиентов дешевле, чем привлекать новых. С помощью предоставленных исторических данных о поведении клиентов и расторжении договоров с банком необходимо спрогнозировать, уйдёт клиент из банка в ближайшее время или нет. \n",
    "\n",
    "Источник данных: [https://www.kaggle.com/barelydedicated/bank-customer-churn-modeling](https://www.kaggle.com/barelydedicated/bank-customer-churn-modeling)"
   ]
  },
  {
   "cell_type": "markdown",
   "id": "d03d398a",
   "metadata": {},
   "source": [
    "<h1>Содержание:<span class=\"tocSkip\"></span></h1>\n",
    "\n",
    "<div class=\"toc\"><ul class=\"toc-item\"><li><span><a href=\"#Подготовка-данных\" data-toc-modified-id=\"Подготовка-данных-1\"><span class=\"toc-item-num\">1&nbsp;&nbsp;</span>Подготовка данных</a></span></li><li><span><a href=\"#Исследование-задачи\" data-toc-modified-id=\"Исследование-задачи-2\"><span class=\"toc-item-num\">2&nbsp;&nbsp;</span>Исследование задачи</a></span></li><li><span><a href=\"#Борьба-с-дисбалансом\" data-toc-modified-id=\"Борьба-с-дисбалансом-3\"><span class=\"toc-item-num\">3&nbsp;&nbsp;</span>Борьба с дисбалансом</a></span></li><li><span><a href=\"#Финальное-тестирование\" data-toc-modified-id=\"Финальное-тестирование-4\"><span class=\"toc-item-num\">4&nbsp;&nbsp;</span>Финальное тестирование</a></span></li><li><span><a href=\"#Чек-лист-готовности-проекта\" data-toc-modified-id=\"Чек-лист-готовности-проекта-5\"><span class=\"toc-item-num\">5&nbsp;&nbsp;</span>Чек-лист готовности проекта</a></span></li></ul></div>"
   ]
  },
  {
   "cell_type": "markdown",
   "id": "93a1105f",
   "metadata": {},
   "source": [
    "## Подготовка данных"
   ]
  },
  {
   "cell_type": "code",
   "execution_count": 1,
   "id": "a97d3be2",
   "metadata": {},
   "outputs": [],
   "source": [
    "# Импортируем библиотеки\n",
    "\n",
    "import pandas as pd\n",
    "import numpy as np\n",
    "import warnings\n",
    "from sklearn.model_selection import train_test_split\n",
    "from sklearn.utils import shuffle\n",
    "from sklearn.linear_model import LogisticRegression\n",
    "from sklearn.ensemble import RandomForestClassifier\n",
    "from sklearn.tree import DecisionTreeClassifier\n",
    "from sklearn.preprocessing import StandardScaler, OneHotEncoder\n",
    "from sklearn.dummy import DummyClassifier\n",
    "from sklearn.metrics import accuracy_score, f1_score, confusion_matrix, precision_score, recall_score, roc_auc_score, precision_recall_curve, roc_curve, auc\n",
    "import matplotlib.pyplot as plt"
   ]
  },
  {
   "cell_type": "code",
   "execution_count": 2,
   "id": "e535db22",
   "metadata": {},
   "outputs": [],
   "source": [
    "# Загружаем данные из файла в датафрейм\n",
    "\n",
    "try:    \n",
    "    data = pd.read_csv('Downloads/Churn.csv')\n",
    "    \n",
    "except:\n",
    "    data = pd.read_csv('https://code.s3.yandex.net/datasets/Churn.csv')"
   ]
  },
  {
   "cell_type": "code",
   "execution_count": 3,
   "id": "cb2dc28b",
   "metadata": {},
   "outputs": [
    {
     "data": {
      "text/html": [
       "<div>\n",
       "<style scoped>\n",
       "    .dataframe tbody tr th:only-of-type {\n",
       "        vertical-align: middle;\n",
       "    }\n",
       "\n",
       "    .dataframe tbody tr th {\n",
       "        vertical-align: top;\n",
       "    }\n",
       "\n",
       "    .dataframe thead th {\n",
       "        text-align: right;\n",
       "    }\n",
       "</style>\n",
       "<table border=\"1\" class=\"dataframe\">\n",
       "  <thead>\n",
       "    <tr style=\"text-align: right;\">\n",
       "      <th></th>\n",
       "      <th>RowNumber</th>\n",
       "      <th>CustomerId</th>\n",
       "      <th>Surname</th>\n",
       "      <th>CreditScore</th>\n",
       "      <th>Geography</th>\n",
       "      <th>Gender</th>\n",
       "      <th>Age</th>\n",
       "      <th>Tenure</th>\n",
       "      <th>Balance</th>\n",
       "      <th>NumOfProducts</th>\n",
       "      <th>HasCrCard</th>\n",
       "      <th>IsActiveMember</th>\n",
       "      <th>EstimatedSalary</th>\n",
       "      <th>Exited</th>\n",
       "    </tr>\n",
       "  </thead>\n",
       "  <tbody>\n",
       "    <tr>\n",
       "      <th>0</th>\n",
       "      <td>1</td>\n",
       "      <td>15634602</td>\n",
       "      <td>Hargrave</td>\n",
       "      <td>619</td>\n",
       "      <td>France</td>\n",
       "      <td>Female</td>\n",
       "      <td>42</td>\n",
       "      <td>2.0</td>\n",
       "      <td>0.00</td>\n",
       "      <td>1</td>\n",
       "      <td>1</td>\n",
       "      <td>1</td>\n",
       "      <td>101348.88</td>\n",
       "      <td>1</td>\n",
       "    </tr>\n",
       "    <tr>\n",
       "      <th>1</th>\n",
       "      <td>2</td>\n",
       "      <td>15647311</td>\n",
       "      <td>Hill</td>\n",
       "      <td>608</td>\n",
       "      <td>Spain</td>\n",
       "      <td>Female</td>\n",
       "      <td>41</td>\n",
       "      <td>1.0</td>\n",
       "      <td>83807.86</td>\n",
       "      <td>1</td>\n",
       "      <td>0</td>\n",
       "      <td>1</td>\n",
       "      <td>112542.58</td>\n",
       "      <td>0</td>\n",
       "    </tr>\n",
       "    <tr>\n",
       "      <th>2</th>\n",
       "      <td>3</td>\n",
       "      <td>15619304</td>\n",
       "      <td>Onio</td>\n",
       "      <td>502</td>\n",
       "      <td>France</td>\n",
       "      <td>Female</td>\n",
       "      <td>42</td>\n",
       "      <td>8.0</td>\n",
       "      <td>159660.80</td>\n",
       "      <td>3</td>\n",
       "      <td>1</td>\n",
       "      <td>0</td>\n",
       "      <td>113931.57</td>\n",
       "      <td>1</td>\n",
       "    </tr>\n",
       "    <tr>\n",
       "      <th>3</th>\n",
       "      <td>4</td>\n",
       "      <td>15701354</td>\n",
       "      <td>Boni</td>\n",
       "      <td>699</td>\n",
       "      <td>France</td>\n",
       "      <td>Female</td>\n",
       "      <td>39</td>\n",
       "      <td>1.0</td>\n",
       "      <td>0.00</td>\n",
       "      <td>2</td>\n",
       "      <td>0</td>\n",
       "      <td>0</td>\n",
       "      <td>93826.63</td>\n",
       "      <td>0</td>\n",
       "    </tr>\n",
       "    <tr>\n",
       "      <th>4</th>\n",
       "      <td>5</td>\n",
       "      <td>15737888</td>\n",
       "      <td>Mitchell</td>\n",
       "      <td>850</td>\n",
       "      <td>Spain</td>\n",
       "      <td>Female</td>\n",
       "      <td>43</td>\n",
       "      <td>2.0</td>\n",
       "      <td>125510.82</td>\n",
       "      <td>1</td>\n",
       "      <td>1</td>\n",
       "      <td>1</td>\n",
       "      <td>79084.10</td>\n",
       "      <td>0</td>\n",
       "    </tr>\n",
       "  </tbody>\n",
       "</table>\n",
       "</div>"
      ],
      "text/plain": [
       "   RowNumber  CustomerId   Surname  CreditScore Geography  Gender  Age  \\\n",
       "0          1    15634602  Hargrave          619    France  Female   42   \n",
       "1          2    15647311      Hill          608     Spain  Female   41   \n",
       "2          3    15619304      Onio          502    France  Female   42   \n",
       "3          4    15701354      Boni          699    France  Female   39   \n",
       "4          5    15737888  Mitchell          850     Spain  Female   43   \n",
       "\n",
       "   Tenure    Balance  NumOfProducts  HasCrCard  IsActiveMember  \\\n",
       "0     2.0       0.00              1          1               1   \n",
       "1     1.0   83807.86              1          0               1   \n",
       "2     8.0  159660.80              3          1               0   \n",
       "3     1.0       0.00              2          0               0   \n",
       "4     2.0  125510.82              1          1               1   \n",
       "\n",
       "   EstimatedSalary  Exited  \n",
       "0        101348.88       1  \n",
       "1        112542.58       0  \n",
       "2        113931.57       1  \n",
       "3         93826.63       0  \n",
       "4         79084.10       0  "
      ]
     },
     "metadata": {},
     "output_type": "display_data"
    },
    {
     "name": "stdout",
     "output_type": "stream",
     "text": [
      "<class 'pandas.core.frame.DataFrame'>\n",
      "RangeIndex: 10000 entries, 0 to 9999\n",
      "Data columns (total 14 columns):\n",
      " #   Column           Non-Null Count  Dtype  \n",
      "---  ------           --------------  -----  \n",
      " 0   RowNumber        10000 non-null  int64  \n",
      " 1   CustomerId       10000 non-null  int64  \n",
      " 2   Surname          10000 non-null  object \n",
      " 3   CreditScore      10000 non-null  int64  \n",
      " 4   Geography        10000 non-null  object \n",
      " 5   Gender           10000 non-null  object \n",
      " 6   Age              10000 non-null  int64  \n",
      " 7   Tenure           9091 non-null   float64\n",
      " 8   Balance          10000 non-null  float64\n",
      " 9   NumOfProducts    10000 non-null  int64  \n",
      " 10  HasCrCard        10000 non-null  int64  \n",
      " 11  IsActiveMember   10000 non-null  int64  \n",
      " 12  EstimatedSalary  10000 non-null  float64\n",
      " 13  Exited           10000 non-null  int64  \n",
      "dtypes: float64(3), int64(8), object(3)\n",
      "memory usage: 1.1+ MB\n"
     ]
    }
   ],
   "source": [
    "# Изучим данные\n",
    "\n",
    "display(data.head())\n",
    "data.info()"
   ]
  },
  {
   "cell_type": "code",
   "execution_count": 4,
   "id": "e302dde9",
   "metadata": {
    "scrolled": true
   },
   "outputs": [
    {
     "data": {
      "text/plain": [
       "909"
      ]
     },
     "execution_count": 4,
     "metadata": {},
     "output_type": "execute_result"
    }
   ],
   "source": [
    "data['Tenure'].isna().sum()"
   ]
  },
  {
   "cell_type": "code",
   "execution_count": 5,
   "id": "ecaef65c",
   "metadata": {},
   "outputs": [
    {
     "data": {
      "text/plain": [
       "0"
      ]
     },
     "execution_count": 5,
     "metadata": {},
     "output_type": "execute_result"
    }
   ],
   "source": [
    "data.duplicated().sum()"
   ]
  },
  {
   "cell_type": "markdown",
   "id": "de2c961d",
   "metadata": {},
   "source": [
    "В датафрейме 10000 строк, 14 столбцов. В столбце Tenure имеются пропуски. Приведем названия столбцов к нижнему регистру и обработаем пропуски."
   ]
  },
  {
   "cell_type": "code",
   "execution_count": 6,
   "id": "e1988c00",
   "metadata": {},
   "outputs": [
    {
     "data": {
      "text/html": [
       "<div>\n",
       "<style scoped>\n",
       "    .dataframe tbody tr th:only-of-type {\n",
       "        vertical-align: middle;\n",
       "    }\n",
       "\n",
       "    .dataframe tbody tr th {\n",
       "        vertical-align: top;\n",
       "    }\n",
       "\n",
       "    .dataframe thead th {\n",
       "        text-align: right;\n",
       "    }\n",
       "</style>\n",
       "<table border=\"1\" class=\"dataframe\">\n",
       "  <thead>\n",
       "    <tr style=\"text-align: right;\">\n",
       "      <th></th>\n",
       "      <th>rownumber</th>\n",
       "      <th>customerid</th>\n",
       "      <th>surname</th>\n",
       "      <th>creditscore</th>\n",
       "      <th>geography</th>\n",
       "      <th>gender</th>\n",
       "      <th>age</th>\n",
       "      <th>tenure</th>\n",
       "      <th>balance</th>\n",
       "      <th>numofproducts</th>\n",
       "      <th>hascrcard</th>\n",
       "      <th>isactivemember</th>\n",
       "      <th>estimatedsalary</th>\n",
       "      <th>exited</th>\n",
       "    </tr>\n",
       "  </thead>\n",
       "  <tbody>\n",
       "    <tr>\n",
       "      <th>0</th>\n",
       "      <td>1</td>\n",
       "      <td>15634602</td>\n",
       "      <td>Hargrave</td>\n",
       "      <td>619</td>\n",
       "      <td>France</td>\n",
       "      <td>Female</td>\n",
       "      <td>42</td>\n",
       "      <td>2.0</td>\n",
       "      <td>0.00</td>\n",
       "      <td>1</td>\n",
       "      <td>1</td>\n",
       "      <td>1</td>\n",
       "      <td>101348.88</td>\n",
       "      <td>1</td>\n",
       "    </tr>\n",
       "    <tr>\n",
       "      <th>1</th>\n",
       "      <td>2</td>\n",
       "      <td>15647311</td>\n",
       "      <td>Hill</td>\n",
       "      <td>608</td>\n",
       "      <td>Spain</td>\n",
       "      <td>Female</td>\n",
       "      <td>41</td>\n",
       "      <td>1.0</td>\n",
       "      <td>83807.86</td>\n",
       "      <td>1</td>\n",
       "      <td>0</td>\n",
       "      <td>1</td>\n",
       "      <td>112542.58</td>\n",
       "      <td>0</td>\n",
       "    </tr>\n",
       "    <tr>\n",
       "      <th>2</th>\n",
       "      <td>3</td>\n",
       "      <td>15619304</td>\n",
       "      <td>Onio</td>\n",
       "      <td>502</td>\n",
       "      <td>France</td>\n",
       "      <td>Female</td>\n",
       "      <td>42</td>\n",
       "      <td>8.0</td>\n",
       "      <td>159660.80</td>\n",
       "      <td>3</td>\n",
       "      <td>1</td>\n",
       "      <td>0</td>\n",
       "      <td>113931.57</td>\n",
       "      <td>1</td>\n",
       "    </tr>\n",
       "    <tr>\n",
       "      <th>3</th>\n",
       "      <td>4</td>\n",
       "      <td>15701354</td>\n",
       "      <td>Boni</td>\n",
       "      <td>699</td>\n",
       "      <td>France</td>\n",
       "      <td>Female</td>\n",
       "      <td>39</td>\n",
       "      <td>1.0</td>\n",
       "      <td>0.00</td>\n",
       "      <td>2</td>\n",
       "      <td>0</td>\n",
       "      <td>0</td>\n",
       "      <td>93826.63</td>\n",
       "      <td>0</td>\n",
       "    </tr>\n",
       "    <tr>\n",
       "      <th>4</th>\n",
       "      <td>5</td>\n",
       "      <td>15737888</td>\n",
       "      <td>Mitchell</td>\n",
       "      <td>850</td>\n",
       "      <td>Spain</td>\n",
       "      <td>Female</td>\n",
       "      <td>43</td>\n",
       "      <td>2.0</td>\n",
       "      <td>125510.82</td>\n",
       "      <td>1</td>\n",
       "      <td>1</td>\n",
       "      <td>1</td>\n",
       "      <td>79084.10</td>\n",
       "      <td>0</td>\n",
       "    </tr>\n",
       "  </tbody>\n",
       "</table>\n",
       "</div>"
      ],
      "text/plain": [
       "   rownumber  customerid   surname  creditscore geography  gender  age  \\\n",
       "0          1    15634602  Hargrave          619    France  Female   42   \n",
       "1          2    15647311      Hill          608     Spain  Female   41   \n",
       "2          3    15619304      Onio          502    France  Female   42   \n",
       "3          4    15701354      Boni          699    France  Female   39   \n",
       "4          5    15737888  Mitchell          850     Spain  Female   43   \n",
       "\n",
       "   tenure    balance  numofproducts  hascrcard  isactivemember  \\\n",
       "0     2.0       0.00              1          1               1   \n",
       "1     1.0   83807.86              1          0               1   \n",
       "2     8.0  159660.80              3          1               0   \n",
       "3     1.0       0.00              2          0               0   \n",
       "4     2.0  125510.82              1          1               1   \n",
       "\n",
       "   estimatedsalary  exited  \n",
       "0        101348.88       1  \n",
       "1        112542.58       0  \n",
       "2        113931.57       1  \n",
       "3         93826.63       0  \n",
       "4         79084.10       0  "
      ]
     },
     "execution_count": 6,
     "metadata": {},
     "output_type": "execute_result"
    }
   ],
   "source": [
    "data.columns = data.columns.str.lower()\n",
    "data.head()"
   ]
  },
  {
   "cell_type": "code",
   "execution_count": 7,
   "id": "a2b9dc7c",
   "metadata": {},
   "outputs": [
    {
     "name": "stdout",
     "output_type": "stream",
     "text": [
      "-0.01676148151493379\n"
     ]
    }
   ],
   "source": [
    "print(data['tenure'].corr(data['exited']))"
   ]
  },
  {
   "cell_type": "markdown",
   "id": "a27cca87",
   "metadata": {},
   "source": [
    "Отток клиентов не зависит от того, сколько лет они пользуются услугами банка. Это значит, что мы можем заполнить пропуски в столбце Tenure или удалить их. Заполним пропуски медианными значениями и приведем данные в столбце к целочисленному типу. "
   ]
  },
  {
   "cell_type": "code",
   "execution_count": 8,
   "id": "58583dab",
   "metadata": {
    "scrolled": true
   },
   "outputs": [],
   "source": [
    "data['tenure'] = data['tenure'].fillna(data['tenure'].median())\n",
    "data['tenure'] = data['tenure'].astype(int)"
   ]
  },
  {
   "cell_type": "code",
   "execution_count": 9,
   "id": "7adb067e",
   "metadata": {},
   "outputs": [
    {
     "name": "stdout",
     "output_type": "stream",
     "text": [
      "<class 'pandas.core.frame.DataFrame'>\n",
      "RangeIndex: 10000 entries, 0 to 9999\n",
      "Data columns (total 14 columns):\n",
      " #   Column           Non-Null Count  Dtype  \n",
      "---  ------           --------------  -----  \n",
      " 0   rownumber        10000 non-null  int64  \n",
      " 1   customerid       10000 non-null  int64  \n",
      " 2   surname          10000 non-null  object \n",
      " 3   creditscore      10000 non-null  int64  \n",
      " 4   geography        10000 non-null  object \n",
      " 5   gender           10000 non-null  object \n",
      " 6   age              10000 non-null  int64  \n",
      " 7   tenure           10000 non-null  int64  \n",
      " 8   balance          10000 non-null  float64\n",
      " 9   numofproducts    10000 non-null  int64  \n",
      " 10  hascrcard        10000 non-null  int64  \n",
      " 11  isactivemember   10000 non-null  int64  \n",
      " 12  estimatedsalary  10000 non-null  float64\n",
      " 13  exited           10000 non-null  int64  \n",
      "dtypes: float64(2), int64(9), object(3)\n",
      "memory usage: 1.1+ MB\n"
     ]
    }
   ],
   "source": [
    "# data.head()\n",
    "data.info()"
   ]
  },
  {
   "cell_type": "markdown",
   "id": "2f7d4101",
   "metadata": {},
   "source": [
    "Фамилии клиентов, их id и номер строки - это данные, которые не влияют на поведение клиентов, поэтому их можно удалить. "
   ]
  },
  {
   "cell_type": "code",
   "execution_count": 10,
   "id": "2d7a34f2",
   "metadata": {},
   "outputs": [],
   "source": [
    "# Удалим столбцы с данными, которые не влияют на отток клиентов\n",
    "\n",
    "data = data.drop(columns =['rownumber', 'customerid', 'surname'], axis = 1)"
   ]
  },
  {
   "cell_type": "code",
   "execution_count": 12,
   "id": "a2855bef",
   "metadata": {},
   "outputs": [
    {
     "data": {
      "text/html": [
       "<div>\n",
       "<style scoped>\n",
       "    .dataframe tbody tr th:only-of-type {\n",
       "        vertical-align: middle;\n",
       "    }\n",
       "\n",
       "    .dataframe tbody tr th {\n",
       "        vertical-align: top;\n",
       "    }\n",
       "\n",
       "    .dataframe thead th {\n",
       "        text-align: right;\n",
       "    }\n",
       "</style>\n",
       "<table border=\"1\" class=\"dataframe\">\n",
       "  <thead>\n",
       "    <tr style=\"text-align: right;\">\n",
       "      <th></th>\n",
       "      <th>creditscore</th>\n",
       "      <th>age</th>\n",
       "      <th>tenure</th>\n",
       "      <th>balance</th>\n",
       "      <th>numofproducts</th>\n",
       "      <th>hascrcard</th>\n",
       "      <th>isactivemember</th>\n",
       "      <th>estimatedsalary</th>\n",
       "      <th>exited</th>\n",
       "      <th>geography_Germany</th>\n",
       "      <th>geography_Spain</th>\n",
       "      <th>gender_Male</th>\n",
       "    </tr>\n",
       "  </thead>\n",
       "  <tbody>\n",
       "    <tr>\n",
       "      <th>8532</th>\n",
       "      <td>585</td>\n",
       "      <td>35</td>\n",
       "      <td>2</td>\n",
       "      <td>0.00</td>\n",
       "      <td>2</td>\n",
       "      <td>1</td>\n",
       "      <td>0</td>\n",
       "      <td>98621.04</td>\n",
       "      <td>1</td>\n",
       "      <td>0.0</td>\n",
       "      <td>0.0</td>\n",
       "      <td>0.0</td>\n",
       "    </tr>\n",
       "    <tr>\n",
       "      <th>5799</th>\n",
       "      <td>625</td>\n",
       "      <td>45</td>\n",
       "      <td>3</td>\n",
       "      <td>0.00</td>\n",
       "      <td>1</td>\n",
       "      <td>1</td>\n",
       "      <td>1</td>\n",
       "      <td>184474.15</td>\n",
       "      <td>1</td>\n",
       "      <td>0.0</td>\n",
       "      <td>0.0</td>\n",
       "      <td>0.0</td>\n",
       "    </tr>\n",
       "    <tr>\n",
       "      <th>5511</th>\n",
       "      <td>667</td>\n",
       "      <td>32</td>\n",
       "      <td>0</td>\n",
       "      <td>103846.65</td>\n",
       "      <td>1</td>\n",
       "      <td>1</td>\n",
       "      <td>0</td>\n",
       "      <td>20560.69</td>\n",
       "      <td>0</td>\n",
       "      <td>1.0</td>\n",
       "      <td>0.0</td>\n",
       "      <td>1.0</td>\n",
       "    </tr>\n",
       "    <tr>\n",
       "      <th>7365</th>\n",
       "      <td>568</td>\n",
       "      <td>36</td>\n",
       "      <td>10</td>\n",
       "      <td>153610.61</td>\n",
       "      <td>1</td>\n",
       "      <td>1</td>\n",
       "      <td>1</td>\n",
       "      <td>54083.80</td>\n",
       "      <td>1</td>\n",
       "      <td>0.0</td>\n",
       "      <td>1.0</td>\n",
       "      <td>0.0</td>\n",
       "    </tr>\n",
       "    <tr>\n",
       "      <th>7367</th>\n",
       "      <td>606</td>\n",
       "      <td>42</td>\n",
       "      <td>10</td>\n",
       "      <td>0.00</td>\n",
       "      <td>2</td>\n",
       "      <td>1</td>\n",
       "      <td>0</td>\n",
       "      <td>177938.52</td>\n",
       "      <td>0</td>\n",
       "      <td>0.0</td>\n",
       "      <td>1.0</td>\n",
       "      <td>1.0</td>\n",
       "    </tr>\n",
       "  </tbody>\n",
       "</table>\n",
       "</div>"
      ],
      "text/plain": [
       "      creditscore  age  tenure    balance  numofproducts  hascrcard  \\\n",
       "8532          585   35       2       0.00              2          1   \n",
       "5799          625   45       3       0.00              1          1   \n",
       "5511          667   32       0  103846.65              1          1   \n",
       "7365          568   36      10  153610.61              1          1   \n",
       "7367          606   42      10       0.00              2          1   \n",
       "\n",
       "      isactivemember  estimatedsalary  exited  geography_Germany  \\\n",
       "8532               0         98621.04       1                0.0   \n",
       "5799               1        184474.15       1                0.0   \n",
       "5511               0         20560.69       0                1.0   \n",
       "7365               1         54083.80       1                0.0   \n",
       "7367               0        177938.52       0                0.0   \n",
       "\n",
       "      geography_Spain  gender_Male  \n",
       "8532              0.0          0.0  \n",
       "5799              0.0          0.0  \n",
       "5511              0.0          1.0  \n",
       "7365              1.0          0.0  \n",
       "7367              1.0          1.0  "
      ]
     },
     "execution_count": 12,
     "metadata": {},
     "output_type": "execute_result"
    }
   ],
   "source": [
    "# Обработка категориальных признаков методом One-Hot Encoding и разделение данных на обучающую, валидационную и тестовую выборки\n",
    "\n",
    "rndm = 12345\n",
    "\n",
    "data_train_ohe, data_test_ohe = train_test_split(data, test_size=0.4, random_state=rndm)\n",
    "data_test_ohe, data_valid_ohe = train_test_split(data_test_ohe, test_size=0.5, random_state=rndm)\n",
    "cat_features = ['geography', 'gender']\n",
    "\n",
    "ohe_encoder = OneHotEncoder(drop='first', sparse_output=False)\n",
    "\n",
    "train_temp = ohe_encoder.fit_transform(data_train_ohe[cat_features])\n",
    "data_train_ohe[ohe_encoder.get_feature_names_out()] = train_temp\n",
    "data_train_ohe.drop(cat_features, axis = 1, inplace=True)\n",
    "\n",
    "test_temp = ohe_encoder.fit_transform(data_test_ohe[cat_features])\n",
    "data_test_ohe[ohe_encoder.get_feature_names_out()] = test_temp\n",
    "data_test_ohe.drop(cat_features, axis = 1, inplace=True)\n",
    "\n",
    "valid_temp = ohe_encoder.fit_transform(data_valid_ohe[cat_features])\n",
    "data_valid_ohe[ohe_encoder.get_feature_names_out()] = valid_temp\n",
    "data_valid_ohe.drop(cat_features, axis = 1, inplace=True)\n",
    "\n",
    "data_test_ohe.head()"
   ]
  },
  {
   "cell_type": "code",
   "execution_count": 13,
   "id": "f604e73e",
   "metadata": {},
   "outputs": [
    {
     "name": "stdout",
     "output_type": "stream",
     "text": [
      "Размер обучающей выборки: 6000 строк\n",
      "Размер валидационной выборки: 2000 строки\n",
      "Размер тестовой выборки: 2000 строки\n"
     ]
    }
   ],
   "source": [
    "print('Размер обучающей выборки:', len(data_train_ohe), 'строк')\n",
    "print('Размер валидационной выборки:', len(data_valid_ohe), 'строки')\n",
    "print('Размер тестовой выборки:', len(data_test_ohe), 'строки')"
   ]
  },
  {
   "cell_type": "markdown",
   "id": "e11b4eb6",
   "metadata": {},
   "source": [
    "В результате подготовки данных были заполнены пропуски, дубликатов не обнаружено. Названия столбцов приведены к нижнему регистру, ненужные для настоящего исследования столбцы были удалены. Категориальные признаки обработаны техникой One-Hot Encoding"
   ]
  },
  {
   "cell_type": "markdown",
   "id": "0028f122",
   "metadata": {},
   "source": [
    "## Исследование задачи"
   ]
  },
  {
   "cell_type": "code",
   "execution_count": 14,
   "id": "36c4b49c",
   "metadata": {},
   "outputs": [],
   "source": [
    "# Извлекаем признаки и целевой признак\n",
    "\n",
    "features_train = data_train_ohe.drop(['exited'], axis = 1)\n",
    "features_valid = data_valid_ohe.drop(['exited'], axis = 1)\n",
    "features_test = data_test_ohe.drop(['exited'], axis = 1)\n",
    "\n",
    "target_train = data_train_ohe['exited']\n",
    "target_valid = data_valid_ohe['exited']\n",
    "target_test = data_test_ohe['exited']"
   ]
  },
  {
   "cell_type": "code",
   "execution_count": 15,
   "id": "0293b207",
   "metadata": {
    "scrolled": true
   },
   "outputs": [
    {
     "data": {
      "text/html": [
       "<div>\n",
       "<style scoped>\n",
       "    .dataframe tbody tr th:only-of-type {\n",
       "        vertical-align: middle;\n",
       "    }\n",
       "\n",
       "    .dataframe tbody tr th {\n",
       "        vertical-align: top;\n",
       "    }\n",
       "\n",
       "    .dataframe thead th {\n",
       "        text-align: right;\n",
       "    }\n",
       "</style>\n",
       "<table border=\"1\" class=\"dataframe\">\n",
       "  <thead>\n",
       "    <tr style=\"text-align: right;\">\n",
       "      <th></th>\n",
       "      <th>creditscore</th>\n",
       "      <th>age</th>\n",
       "      <th>tenure</th>\n",
       "      <th>balance</th>\n",
       "      <th>numofproducts</th>\n",
       "      <th>hascrcard</th>\n",
       "      <th>isactivemember</th>\n",
       "      <th>estimatedsalary</th>\n",
       "      <th>geography_Germany</th>\n",
       "      <th>geography_Spain</th>\n",
       "      <th>gender_Male</th>\n",
       "    </tr>\n",
       "  </thead>\n",
       "  <tbody>\n",
       "    <tr>\n",
       "      <th>7479</th>\n",
       "      <td>567</td>\n",
       "      <td>35</td>\n",
       "      <td>8</td>\n",
       "      <td>153137.74</td>\n",
       "      <td>1</td>\n",
       "      <td>1</td>\n",
       "      <td>0</td>\n",
       "      <td>88659.07</td>\n",
       "      <td>0.0</td>\n",
       "      <td>1.0</td>\n",
       "      <td>1.0</td>\n",
       "    </tr>\n",
       "    <tr>\n",
       "      <th>3411</th>\n",
       "      <td>711</td>\n",
       "      <td>37</td>\n",
       "      <td>8</td>\n",
       "      <td>113899.92</td>\n",
       "      <td>1</td>\n",
       "      <td>0</td>\n",
       "      <td>0</td>\n",
       "      <td>80215.20</td>\n",
       "      <td>0.0</td>\n",
       "      <td>0.0</td>\n",
       "      <td>0.0</td>\n",
       "    </tr>\n",
       "    <tr>\n",
       "      <th>6027</th>\n",
       "      <td>850</td>\n",
       "      <td>44</td>\n",
       "      <td>3</td>\n",
       "      <td>140393.65</td>\n",
       "      <td>2</td>\n",
       "      <td>0</td>\n",
       "      <td>1</td>\n",
       "      <td>186285.52</td>\n",
       "      <td>1.0</td>\n",
       "      <td>0.0</td>\n",
       "      <td>1.0</td>\n",
       "    </tr>\n",
       "    <tr>\n",
       "      <th>1247</th>\n",
       "      <td>512</td>\n",
       "      <td>24</td>\n",
       "      <td>6</td>\n",
       "      <td>0.00</td>\n",
       "      <td>2</td>\n",
       "      <td>1</td>\n",
       "      <td>0</td>\n",
       "      <td>37654.31</td>\n",
       "      <td>0.0</td>\n",
       "      <td>0.0</td>\n",
       "      <td>1.0</td>\n",
       "    </tr>\n",
       "    <tr>\n",
       "      <th>3716</th>\n",
       "      <td>665</td>\n",
       "      <td>27</td>\n",
       "      <td>2</td>\n",
       "      <td>147435.96</td>\n",
       "      <td>1</td>\n",
       "      <td>0</td>\n",
       "      <td>0</td>\n",
       "      <td>187508.06</td>\n",
       "      <td>1.0</td>\n",
       "      <td>0.0</td>\n",
       "      <td>0.0</td>\n",
       "    </tr>\n",
       "  </tbody>\n",
       "</table>\n",
       "</div>"
      ],
      "text/plain": [
       "      creditscore  age  tenure    balance  numofproducts  hascrcard  \\\n",
       "7479          567   35       8  153137.74              1          1   \n",
       "3411          711   37       8  113899.92              1          0   \n",
       "6027          850   44       3  140393.65              2          0   \n",
       "1247          512   24       6       0.00              2          1   \n",
       "3716          665   27       2  147435.96              1          0   \n",
       "\n",
       "      isactivemember  estimatedsalary  geography_Germany  geography_Spain  \\\n",
       "7479               0         88659.07                0.0              1.0   \n",
       "3411               0         80215.20                0.0              0.0   \n",
       "6027               1        186285.52                1.0              0.0   \n",
       "1247               0         37654.31                0.0              0.0   \n",
       "3716               0        187508.06                1.0              0.0   \n",
       "\n",
       "      gender_Male  \n",
       "7479          1.0  \n",
       "3411          0.0  \n",
       "6027          1.0  \n",
       "1247          1.0  \n",
       "3716          0.0  "
      ]
     },
     "execution_count": 15,
     "metadata": {},
     "output_type": "execute_result"
    }
   ],
   "source": [
    "features_train.head()"
   ]
  },
  {
   "cell_type": "code",
   "execution_count": 16,
   "id": "a1a486c4",
   "metadata": {},
   "outputs": [],
   "source": [
    "# Чтобы алгоритмам было легче обучать модели, приведем признаки к одному масштабу\n",
    "\n",
    "numeric = ['creditscore', 'age', 'tenure', 'balance', 'numofproducts','estimatedsalary']\n",
    "\n",
    "scaler = StandardScaler()\n",
    "scaler.fit(features_train[numeric])\n",
    "\n",
    "features_train[numeric] = scaler.transform(features_train[numeric])\n",
    "features_valid[numeric] = scaler.transform(features_valid[numeric])\n",
    "features_test[numeric] = scaler.transform(features_test[numeric])"
   ]
  },
  {
   "cell_type": "code",
   "execution_count": 17,
   "id": "cd3c27e0",
   "metadata": {
    "scrolled": true
   },
   "outputs": [
    {
     "data": {
      "text/html": [
       "<div>\n",
       "<style scoped>\n",
       "    .dataframe tbody tr th:only-of-type {\n",
       "        vertical-align: middle;\n",
       "    }\n",
       "\n",
       "    .dataframe tbody tr th {\n",
       "        vertical-align: top;\n",
       "    }\n",
       "\n",
       "    .dataframe thead th {\n",
       "        text-align: right;\n",
       "    }\n",
       "</style>\n",
       "<table border=\"1\" class=\"dataframe\">\n",
       "  <thead>\n",
       "    <tr style=\"text-align: right;\">\n",
       "      <th></th>\n",
       "      <th>creditscore</th>\n",
       "      <th>age</th>\n",
       "      <th>tenure</th>\n",
       "      <th>balance</th>\n",
       "      <th>numofproducts</th>\n",
       "      <th>hascrcard</th>\n",
       "      <th>isactivemember</th>\n",
       "      <th>estimatedsalary</th>\n",
       "      <th>geography_Germany</th>\n",
       "      <th>geography_Spain</th>\n",
       "      <th>gender_Male</th>\n",
       "    </tr>\n",
       "  </thead>\n",
       "  <tbody>\n",
       "    <tr>\n",
       "      <th>7479</th>\n",
       "      <td>-0.886751</td>\n",
       "      <td>-0.373192</td>\n",
       "      <td>1.082277</td>\n",
       "      <td>1.232271</td>\n",
       "      <td>-0.891560</td>\n",
       "      <td>1</td>\n",
       "      <td>0</td>\n",
       "      <td>-0.187705</td>\n",
       "      <td>0.0</td>\n",
       "      <td>1.0</td>\n",
       "      <td>1.0</td>\n",
       "    </tr>\n",
       "    <tr>\n",
       "      <th>3411</th>\n",
       "      <td>0.608663</td>\n",
       "      <td>-0.183385</td>\n",
       "      <td>1.082277</td>\n",
       "      <td>0.600563</td>\n",
       "      <td>-0.891560</td>\n",
       "      <td>0</td>\n",
       "      <td>0</td>\n",
       "      <td>-0.333945</td>\n",
       "      <td>0.0</td>\n",
       "      <td>0.0</td>\n",
       "      <td>0.0</td>\n",
       "    </tr>\n",
       "    <tr>\n",
       "      <th>6027</th>\n",
       "      <td>2.052152</td>\n",
       "      <td>0.480939</td>\n",
       "      <td>-0.737696</td>\n",
       "      <td>1.027098</td>\n",
       "      <td>0.830152</td>\n",
       "      <td>0</td>\n",
       "      <td>1</td>\n",
       "      <td>1.503095</td>\n",
       "      <td>1.0</td>\n",
       "      <td>0.0</td>\n",
       "      <td>1.0</td>\n",
       "    </tr>\n",
       "    <tr>\n",
       "      <th>1247</th>\n",
       "      <td>-1.457915</td>\n",
       "      <td>-1.417129</td>\n",
       "      <td>0.354288</td>\n",
       "      <td>-1.233163</td>\n",
       "      <td>0.830152</td>\n",
       "      <td>1</td>\n",
       "      <td>0</td>\n",
       "      <td>-1.071061</td>\n",
       "      <td>0.0</td>\n",
       "      <td>0.0</td>\n",
       "      <td>1.0</td>\n",
       "    </tr>\n",
       "    <tr>\n",
       "      <th>3716</th>\n",
       "      <td>0.130961</td>\n",
       "      <td>-1.132419</td>\n",
       "      <td>-1.101690</td>\n",
       "      <td>1.140475</td>\n",
       "      <td>-0.891560</td>\n",
       "      <td>0</td>\n",
       "      <td>0</td>\n",
       "      <td>1.524268</td>\n",
       "      <td>1.0</td>\n",
       "      <td>0.0</td>\n",
       "      <td>0.0</td>\n",
       "    </tr>\n",
       "  </tbody>\n",
       "</table>\n",
       "</div>"
      ],
      "text/plain": [
       "      creditscore       age    tenure   balance  numofproducts  hascrcard  \\\n",
       "7479    -0.886751 -0.373192  1.082277  1.232271      -0.891560          1   \n",
       "3411     0.608663 -0.183385  1.082277  0.600563      -0.891560          0   \n",
       "6027     2.052152  0.480939 -0.737696  1.027098       0.830152          0   \n",
       "1247    -1.457915 -1.417129  0.354288 -1.233163       0.830152          1   \n",
       "3716     0.130961 -1.132419 -1.101690  1.140475      -0.891560          0   \n",
       "\n",
       "      isactivemember  estimatedsalary  geography_Germany  geography_Spain  \\\n",
       "7479               0        -0.187705                0.0              1.0   \n",
       "3411               0        -0.333945                0.0              0.0   \n",
       "6027               1         1.503095                1.0              0.0   \n",
       "1247               0        -1.071061                0.0              0.0   \n",
       "3716               0         1.524268                1.0              0.0   \n",
       "\n",
       "      gender_Male  \n",
       "7479          1.0  \n",
       "3411          0.0  \n",
       "6027          1.0  \n",
       "1247          1.0  \n",
       "3716          0.0  "
      ]
     },
     "execution_count": 17,
     "metadata": {},
     "output_type": "execute_result"
    }
   ],
   "source": [
    "features_train.head()"
   ]
  },
  {
   "cell_type": "markdown",
   "id": "906a4379",
   "metadata": {},
   "source": [
    "Обучим модели дерева решений, случайного леса и логистической регрессии. Посмотрим на матрицу ошибок, точность, f1-меру и AUC-ROC у обученных моделей. "
   ]
  },
  {
   "cell_type": "code",
   "execution_count": 18,
   "id": "e297ecb7",
   "metadata": {},
   "outputs": [
    {
     "name": "stdout",
     "output_type": "stream",
     "text": [
      "Наилучший показатель F1-меры: 0.5337423312883436\n",
      "Глубина дерева с наилучшими показателями: 6\n"
     ]
    }
   ],
   "source": [
    "# Decision Tree\n",
    "\n",
    "best_model_tree = None\n",
    "best_result = 0\n",
    "best_depth = 0\n",
    "for depth in range(1, 10):\n",
    "    model = DecisionTreeClassifier(random_state = rndm, max_depth = depth)\n",
    "    model.fit(features_train, target_train) \n",
    "    predicted_valid = model.predict(features_valid) \n",
    "    result = f1_score(target_valid, predicted_valid) \n",
    "    if result > best_result:\n",
    "        best_model_tree = model\n",
    "        best_result = result\n",
    "        best_depth = depth\n",
    "        \n",
    "print('Наилучший показатель F1-меры:', best_result)\n",
    "print('Глубина дерева с наилучшими показателями:', best_depth)"
   ]
  },
  {
   "cell_type": "code",
   "execution_count": 19,
   "id": "efbf709d",
   "metadata": {},
   "outputs": [
    {
     "name": "stdout",
     "output_type": "stream",
     "text": [
      "Матрица ошибок:\n",
      "[[1522   55]\n",
      " [ 249  174]]\n",
      "Accuracy: 0.848\n",
      "F1-мера: 0.5337423312883436\n",
      "AUC-ROC равен 0.8394526219847661\n"
     ]
    }
   ],
   "source": [
    "predicted_valid = best_model_tree.predict(features_valid)\n",
    "probabilities_valid = best_model_tree.predict_proba(features_valid)\n",
    "probabilities_one_valid = probabilities_valid[:, 1]\n",
    "print('Матрица ошибок:')\n",
    "print(confusion_matrix(target_valid, predicted_valid))\n",
    "print('Accuracy:', accuracy_score(predicted_valid, target_valid))\n",
    "print('F1-мера:', f1_score(target_valid, predicted_valid))\n",
    "print('AUC-ROC равен', roc_auc_score(target_valid, probabilities_one_valid))"
   ]
  },
  {
   "cell_type": "markdown",
   "id": "139aeadb",
   "metadata": {},
   "source": [
    "Модель выглядит адекватно, однако результат нас не устраивает. "
   ]
  },
  {
   "cell_type": "code",
   "execution_count": 20,
   "id": "955fc59f",
   "metadata": {},
   "outputs": [
    {
     "name": "stdout",
     "output_type": "stream",
     "text": [
      "depth = 1\n",
      "0.0\n",
      "depth = 2\n",
      "0.12831858407079647\n",
      "depth = 3\n",
      "0.2125\n",
      "depth = 4\n",
      "0.31178707224334606\n",
      "depth = 5\n",
      "0.42980935875216636\n",
      "depth = 6\n",
      "0.4478114478114478\n",
      "depth = 7\n",
      "0.48231511254019294\n",
      "depth = 8\n",
      "0.48553054662379413\n",
      "depth = 9\n",
      "0.5111111111111111\n",
      "depth = 10\n",
      "0.5202492211838007\n",
      "depth = 11\n",
      "0.5155279503105591\n",
      "depth = 12\n",
      "0.5155279503105591\n",
      "depth = 13\n",
      "0.529500756429652\n",
      "depth = 14\n",
      "0.5319148936170214\n",
      "depth = 15\n",
      "0.5317220543806647\n",
      "depth = 16\n",
      "0.5355521936459909\n",
      "depth = 17\n",
      "0.5311077389984825\n",
      "depth = 18\n",
      "0.5282442748091603\n",
      "depth = 19\n",
      "0.5383458646616541\n",
      "depth = 20\n",
      "0.5413533834586466\n",
      "depth = 21\n",
      "0.5288753799392097\n",
      "depth = 22\n",
      "0.5547226386806597\n",
      "depth = 23\n",
      "0.5590433482810165\n",
      "depth = 24\n",
      "0.5611940298507463\n",
      "depth = 25\n",
      "0.5527488855869243\n",
      "depth = 26\n",
      "0.5527488855869243\n",
      "depth = 27\n",
      "0.5527488855869243\n",
      "depth = 28\n",
      "0.5527488855869243\n",
      "depth = 29\n",
      "0.5527488855869243\n",
      "depth = 30\n",
      "0.5527488855869243\n",
      "Лучший результат F1-меры = 0.5611940298507463, при depth = 24\n"
     ]
    }
   ],
   "source": [
    "# Random Forest\n",
    "\n",
    "best_depth = 0\n",
    "best_f1_score = 0\n",
    "\n",
    "for depth in range(1, 31, 1):\n",
    "    model = RandomForestClassifier(n_estimators = 100, max_depth = depth, random_state = rndm)\n",
    "    model.fit(features_train, target_train)\n",
    "    predicted_valid = model.predict(features_valid)\n",
    "    result_1 = f1_score(target_valid, predicted_valid)\n",
    "    print(f'depth = {depth}')\n",
    "    print(result_1)\n",
    "    if result_1 > best_f1_score:\n",
    "        best_depth = depth\n",
    "        best_f1_score = result_1\n",
    "        \n",
    "print(f'Лучший результат F1-меры = {best_f1_score}, при depth = {best_depth}')"
   ]
  },
  {
   "cell_type": "code",
   "execution_count": 21,
   "id": "5dd7c6e5",
   "metadata": {},
   "outputs": [
    {
     "name": "stdout",
     "output_type": "stream",
     "text": [
      "n_est = 10\n",
      "0.5007727975270478\n",
      "n_est = 20\n",
      "0.5259938837920489\n",
      "n_est = 30\n",
      "0.5429864253393666\n",
      "n_est = 40\n",
      "0.5288753799392097\n",
      "n_est = 50\n",
      "0.5411061285500747\n",
      "n_est = 60\n",
      "0.5405405405405406\n",
      "n_est = 70\n",
      "0.5451807228915663\n",
      "n_est = 80\n",
      "0.5479041916167665\n",
      "n_est = 90\n",
      "0.562874251497006\n",
      "n_est = 100\n",
      "0.5611940298507463\n",
      "n_est = 110\n",
      "0.542728635682159\n",
      "n_est = 120\n",
      "0.5500747384155455\n",
      "n_est = 130\n",
      "0.5582089552238806\n",
      "n_est = 140\n",
      "0.5479041916167665\n",
      "n_est = 150\n",
      "0.5397301349325337\n",
      "Лучший результат F1-меры = 0.562874251497006, при n_est = 90\n"
     ]
    }
   ],
   "source": [
    "best_est = 0\n",
    "best_f1_score_2 = 0\n",
    "\n",
    "for est in range(10, 151, 10):\n",
    "    model = RandomForestClassifier(n_estimators = est, max_depth = best_depth, random_state = rndm)\n",
    "    model.fit(features_train, target_train)\n",
    "    predicted_valid = model.predict(features_valid)\n",
    "    f1_score_2 = f1_score(target_valid, predicted_valid)\n",
    "    print(f'n_est = {est}')\n",
    "    print(f1_score_2)\n",
    "    if f1_score_2 > best_f1_score_2:\n",
    "        best_est = est\n",
    "        best_f1_score_2 = f1_score_2\n",
    "print(f'Лучший результат F1-меры = {best_f1_score_2}, при n_est = {best_est}')"
   ]
  },
  {
   "cell_type": "code",
   "execution_count": 22,
   "id": "8c459450",
   "metadata": {},
   "outputs": [
    {
     "name": "stdout",
     "output_type": "stream",
     "text": [
      "Матрица ошибок:\n",
      "[[1520   57]\n",
      " [ 235  188]]\n",
      "Accuracy: 0.854\n",
      "F1-мера: 0.562874251497006\n",
      "AUC-ROC: 0.8498345753300622\n"
     ]
    }
   ],
   "source": [
    "best_model_rfc = RandomForestClassifier(n_estimators = 90, max_depth = 24, random_state = rndm)\n",
    "best_model_rfc.fit(features_train, target_train)\n",
    "predicted_valid = best_model_rfc.predict(features_valid)\n",
    "probabilities_valid = best_model_rfc.predict_proba(features_valid)\n",
    "probabilities_one_valid = probabilities_valid[:, 1]\n",
    "print('Матрица ошибок:')\n",
    "print(confusion_matrix(target_valid, predicted_valid))\n",
    "print('Accuracy:', accuracy_score(predicted_valid, target_valid))\n",
    "print('F1-мера:', f1_score(target_valid, predicted_valid))\n",
    "print('AUC-ROC:', roc_auc_score(target_valid, probabilities_one_valid))"
   ]
  },
  {
   "cell_type": "markdown",
   "id": "6b99142b",
   "metadata": {},
   "source": [
    "Модель случайного леса показывает себя чуть лучше модели решающего дерева, но результат нас все еще не устраивает. "
   ]
  },
  {
   "cell_type": "code",
   "execution_count": 23,
   "id": "138d9b8c",
   "metadata": {
    "scrolled": false
   },
   "outputs": [
    {
     "name": "stdout",
     "output_type": "stream",
     "text": [
      "Порог = 0.00 | Точность = 0.211, Полнота = 1.000, F1 = 0.349, roc_auc = 0.500\n",
      "Порог = 0.02 | Точность = 0.213, Полнота = 0.991, F1 = 0.350, roc_auc = 0.504\n",
      "Порог = 0.04 | Точность = 0.225, Полнота = 0.972, F1 = 0.365, roc_auc = 0.536\n",
      "Порог = 0.06 | Точность = 0.243, Полнота = 0.939, F1 = 0.385, roc_auc = 0.576\n",
      "Порог = 0.08 | Точность = 0.264, Полнота = 0.920, F1 = 0.410, roc_auc = 0.616\n",
      "Порог = 0.10 | Точность = 0.285, Полнота = 0.884, F1 = 0.432, roc_auc = 0.645\n",
      "Порог = 0.12 | Точность = 0.302, Полнота = 0.842, F1 = 0.444, roc_auc = 0.660\n",
      "Порог = 0.14 | Точность = 0.321, Полнота = 0.813, F1 = 0.461, roc_auc = 0.676\n",
      "Порог = 0.16 | Точность = 0.343, Полнота = 0.766, F1 = 0.474, roc_auc = 0.686\n",
      "Порог = 0.18 | Точность = 0.362, Полнота = 0.714, F1 = 0.480, roc_auc = 0.688\n",
      "Порог = 0.20 | Точность = 0.371, Полнота = 0.660, F1 = 0.475, roc_auc = 0.680\n",
      "Порог = 0.22 | Точность = 0.382, Полнота = 0.608, F1 = 0.469, roc_auc = 0.672\n",
      "Порог = 0.24 | Точность = 0.394, Полнота = 0.574, F1 = 0.468, roc_auc = 0.669\n",
      "Порог = 0.26 | Точность = 0.407, Полнота = 0.539, F1 = 0.464, roc_auc = 0.664\n",
      "Порог = 0.28 | Точность = 0.417, Полнота = 0.499, F1 = 0.454, roc_auc = 0.656\n",
      "Порог = 0.30 | Точность = 0.421, Полнота = 0.459, F1 = 0.439, roc_auc = 0.645\n",
      "Порог = 0.32 | Точность = 0.436, Полнота = 0.430, F1 = 0.433, roc_auc = 0.641\n",
      "Порог = 0.34 | Точность = 0.458, Полнота = 0.409, F1 = 0.432, roc_auc = 0.639\n",
      "Порог = 0.36 | Точность = 0.464, Полнота = 0.366, F1 = 0.410, roc_auc = 0.626\n",
      "Порог = 0.38 | Точность = 0.480, Полнота = 0.343, F1 = 0.400, roc_auc = 0.622\n",
      "Порог = 0.40 | Точность = 0.489, Полнота = 0.322, F1 = 0.388, roc_auc = 0.616\n",
      "Порог = 0.42 | Точность = 0.512, Полнота = 0.296, F1 = 0.375, roc_auc = 0.610\n",
      "Порог = 0.44 | Точность = 0.509, Полнота = 0.262, F1 = 0.346, roc_auc = 0.597\n",
      "Порог = 0.46 | Точность = 0.520, Полнота = 0.241, F1 = 0.330, roc_auc = 0.591\n",
      "Порог = 0.48 | Точность = 0.506, Полнота = 0.210, F1 = 0.297, roc_auc = 0.578\n"
     ]
    }
   ],
   "source": [
    "# Logistic Regression\n",
    "\n",
    "model_lr = LogisticRegression(random_state=rndm, solver='liblinear')\n",
    "model_lr.fit(features_train, target_train)\n",
    "\n",
    "# Переберем значения порогов и найдем для каждого значения точность, полноту, F1-меру и AUC-ROC\n",
    "\n",
    "probabilities_valid = model_lr.predict_proba(features_valid)\n",
    "probabilities_one_valid = probabilities_valid[:, 1]\n",
    "\n",
    "for threshold in np.arange(0, 0.5, 0.02):\n",
    "    predicted_valid = probabilities_one_valid > threshold\n",
    "    precision = precision_score(target_valid, predicted_valid)\n",
    "    recall = recall_score(target_valid, predicted_valid)\n",
    "    print(\"Порог = {:.2f} | Точность = {:.3f}, Полнота = {:.3f}, F1 = {:.3f}, roc_auc = {:.3f}\".format(\n",
    "        threshold, precision, recall, f1_score(target_valid, predicted_valid), roc_auc_score(target_valid, predicted_valid)))\n"
   ]
  },
  {
   "cell_type": "markdown",
   "id": "5ddab41d",
   "metadata": {},
   "source": [
    "Модель логистической регрессии показывает результат хуже остальных. Максимальное значение F1-меры равно 0.48, AUC-ROC равно 0.688 при пороге 0.18."
   ]
  },
  {
   "cell_type": "markdown",
   "id": "fcf70242",
   "metadata": {},
   "source": [
    "**Вывод:**"
   ]
  },
  {
   "cell_type": "markdown",
   "id": "723c2c12",
   "metadata": {},
   "source": [
    "На данном этапе лучше всех себя показывает модель случайного леса. Ее accuracy равна 0.854, f1-score равна 0.562, auc-roc равна 0.84"
   ]
  },
  {
   "cell_type": "markdown",
   "id": "9ec87297",
   "metadata": {},
   "source": [
    "## Борьба с дисбалансом"
   ]
  },
  {
   "cell_type": "code",
   "execution_count": 24,
   "id": "9a645055",
   "metadata": {},
   "outputs": [
    {
     "name": "stdout",
     "output_type": "stream",
     "text": [
      "0    0.800667\n",
      "1    0.199333\n",
      "Name: exited, dtype: float64\n"
     ]
    }
   ],
   "source": [
    "# Изучим соотношение классов\n",
    "\n",
    "print(target_train.value_counts(normalize = 1))"
   ]
  },
  {
   "cell_type": "markdown",
   "id": "3c16d094",
   "metadata": {},
   "source": [
    "Объектов отрицательного класса в 4 раза больше. Для борьбы с таким дисбалансом применим несколько техник: параметр class_weight, а также увеличение и уменьшение выборки - upsampling и downsampling."
   ]
  },
  {
   "cell_type": "markdown",
   "id": "f6813111",
   "metadata": {},
   "source": [
    "Начнем с применения параметра class_weight к базовым моделям:"
   ]
  },
  {
   "cell_type": "code",
   "execution_count": 25,
   "id": "b196f100",
   "metadata": {},
   "outputs": [
    {
     "name": "stdout",
     "output_type": "stream",
     "text": [
      "Наилучший показатель F1-меры: 0.5809128630705395\n",
      "Глубина дерева с наилучшими показателями: 5\n"
     ]
    }
   ],
   "source": [
    "# Decision Tree Balanced\n",
    "\n",
    "best_model_tree_balanced = None\n",
    "best_result = 0\n",
    "best_depth = 0\n",
    "for depth in range(1, 30):\n",
    "    model = DecisionTreeClassifier(random_state = rndm, max_depth = depth, class_weight='balanced')\n",
    "    model.fit(features_train, target_train) \n",
    "    predicted_valid = model.predict(features_valid) \n",
    "    result = f1_score(target_valid, predicted_valid) \n",
    "    if result > best_result:\n",
    "        best_model_tree_balanced = model\n",
    "        best_result = result\n",
    "        best_depth = depth\n",
    "        \n",
    "print('Наилучший показатель F1-меры:', best_result)\n",
    "print('Глубина дерева с наилучшими показателями:', best_depth)"
   ]
  },
  {
   "cell_type": "code",
   "execution_count": 26,
   "id": "4f5658e7",
   "metadata": {},
   "outputs": [
    {
     "name": "stdout",
     "output_type": "stream",
     "text": [
      "Матрица ошибок:\n",
      "[[1316  261]\n",
      " [ 143  280]]\n",
      "Accuracy: 0.798\n",
      "F1-мера: 0.5809128630705395\n",
      "AUC-ROC 0.8355347481752318\n"
     ]
    }
   ],
   "source": [
    "predicted_valid = best_model_tree_balanced.predict(features_valid)\n",
    "probabilities_valid = best_model_tree_balanced.predict_proba(features_valid)\n",
    "probabilities_one_valid = probabilities_valid[:, 1]\n",
    "print('Матрица ошибок:')\n",
    "print(confusion_matrix(target_valid, predicted_valid))\n",
    "print('Accuracy:', accuracy_score(predicted_valid, target_valid))\n",
    "print('F1-мера:', f1_score(target_valid, predicted_valid))\n",
    "print('AUC-ROC', roc_auc_score(target_valid, probabilities_one_valid))"
   ]
  },
  {
   "cell_type": "markdown",
   "id": "d00b9cb6",
   "metadata": {},
   "source": [
    "Качество модели улучшилось, но нужный результат не достигнут. "
   ]
  },
  {
   "cell_type": "code",
   "execution_count": 27,
   "id": "6657324f",
   "metadata": {},
   "outputs": [
    {
     "name": "stdout",
     "output_type": "stream",
     "text": [
      "depth = 1\n",
      "0.5215004574565416\n",
      "depth = 2\n",
      "0.5538178472861085\n",
      "depth = 3\n",
      "0.563302752293578\n",
      "depth = 4\n",
      "0.5840537944284342\n",
      "depth = 5\n",
      "0.5936883629191321\n",
      "depth = 6\n",
      "0.5971943887775552\n",
      "depth = 7\n",
      "0.6134715025906735\n",
      "depth = 8\n",
      "0.6105717367853291\n",
      "depth = 9\n",
      "0.6115515288788221\n",
      "depth = 10\n",
      "0.6166666666666667\n",
      "depth = 11\n",
      "0.6032953105196451\n",
      "depth = 12\n",
      "0.5733695652173914\n",
      "depth = 13\n",
      "0.5953360768175583\n",
      "depth = 14\n",
      "0.5592972181551976\n",
      "depth = 15\n",
      "0.5459940652818992\n",
      "depth = 16\n",
      "0.5317220543806647\n",
      "depth = 17\n",
      "0.5117004680187208\n",
      "depth = 18\n",
      "0.539877300613497\n",
      "depth = 19\n",
      "0.5284178187403993\n",
      "depth = 20\n",
      "0.5192012288786483\n",
      "depth = 21\n",
      "0.5039123630672926\n",
      "depth = 22\n",
      "0.5062893081761006\n",
      "depth = 23\n",
      "0.5\n",
      "depth = 24\n",
      "0.5015772870662459\n",
      "depth = 25\n",
      "0.5047021943573667\n",
      "depth = 26\n",
      "0.5070422535211269\n",
      "depth = 27\n",
      "0.5093749999999999\n",
      "depth = 28\n",
      "0.5085803432137285\n",
      "depth = 29\n",
      "0.5085803432137285\n",
      "depth = 30\n",
      "0.5085803432137285\n",
      "Лучший результат F1-меры = 0.6166666666666667, при depth = 10\n"
     ]
    }
   ],
   "source": [
    "# Random Forest Balanced\n",
    "\n",
    "best_depth = 0\n",
    "best_f1_score = 0\n",
    "\n",
    "for depth in range(1, 31, 1):\n",
    "    model = RandomForestClassifier(n_estimators = 100, max_depth = depth, random_state = rndm, class_weight='balanced')\n",
    "    model.fit(features_train, target_train)\n",
    "    predicted_valid = model.predict(features_valid)\n",
    "    result_1 = f1_score(target_valid, predicted_valid)\n",
    "    print(f'depth = {depth}')\n",
    "    print(result_1)\n",
    "    if result_1 > best_f1_score:\n",
    "        best_depth = depth\n",
    "        best_f1_score = result_1\n",
    "        \n",
    "print(f'Лучший результат F1-меры = {best_f1_score}, при depth = {best_depth}')\n"
   ]
  },
  {
   "cell_type": "code",
   "execution_count": 28,
   "id": "e2fa924a",
   "metadata": {},
   "outputs": [
    {
     "name": "stdout",
     "output_type": "stream",
     "text": [
      "n_est = 10\n",
      "0.5880980163360561\n",
      "n_est = 20\n",
      "0.5908558030480656\n",
      "n_est = 30\n",
      "0.5937136204889406\n",
      "n_est = 40\n",
      "0.6077738515901061\n",
      "n_est = 50\n",
      "0.6122931442080378\n",
      "n_est = 60\n",
      "0.6077738515901061\n",
      "n_est = 70\n",
      "0.6090047393364929\n",
      "n_est = 80\n",
      "0.6099290780141844\n",
      "n_est = 90\n",
      "0.6085918854415274\n",
      "n_est = 100\n",
      "0.6166666666666667\n",
      "n_est = 110\n",
      "0.6142857142857143\n",
      "n_est = 120\n",
      "0.6144721233689205\n",
      "n_est = 130\n",
      "0.6126340882002385\n",
      "n_est = 140\n",
      "0.607142857142857\n",
      "n_est = 150\n",
      "0.6085918854415274\n",
      "Лучший результат F1-меры = 0.6166666666666667, при n_est = 100\n"
     ]
    }
   ],
   "source": [
    "best_est = 0\n",
    "best_f1_score_2 = 0\n",
    "\n",
    "for est in range(10, 151, 10):\n",
    "    model = RandomForestClassifier(n_estimators = est, max_depth = best_depth, random_state = rndm, class_weight='balanced')\n",
    "    model.fit(features_train, target_train)\n",
    "    predicted_valid = model.predict(features_valid)\n",
    "    result_2 = f1_score(target_valid, predicted_valid)\n",
    "    print(f'n_est = {est}')\n",
    "    print(result_2)\n",
    "    if result_2 > best_f1_score_2:\n",
    "        best_est = est\n",
    "        best_f1_score_2 = result_2\n",
    "print(f'Лучший результат F1-меры = {best_f1_score_2}, при n_est = {best_est}')"
   ]
  },
  {
   "cell_type": "code",
   "execution_count": 29,
   "id": "df540fdc",
   "metadata": {},
   "outputs": [
    {
     "name": "stdout",
     "output_type": "stream",
     "text": [
      "Матрица ошибок:\n",
      "[[1419  158]\n",
      " [ 164  259]]\n",
      "Accuracy: 0.839\n",
      "F1-мера: 0.6166666666666667\n",
      "AUC-ROC 0.8552657813036392\n"
     ]
    }
   ],
   "source": [
    "best_model_rfc_balanced = RandomForestClassifier(n_estimators = 100, max_depth = 10, random_state = rndm, class_weight = 'balanced')\n",
    "best_model_rfc_balanced.fit(features_train, target_train)\n",
    "predicted_valid = best_model_rfc_balanced.predict(features_valid)\n",
    "probabilities_valid = best_model_rfc_balanced.predict_proba(features_valid)\n",
    "probabilities_one_valid = probabilities_valid[:, 1]\n",
    "print('Матрица ошибок:')\n",
    "print(confusion_matrix(target_valid, predicted_valid))\n",
    "print('Accuracy:', accuracy_score(predicted_valid, target_valid))\n",
    "print('F1-мера:', f1_score(target_valid, predicted_valid))\n",
    "print('AUC-ROC', roc_auc_score(target_valid, probabilities_one_valid))\n"
   ]
  },
  {
   "cell_type": "markdown",
   "id": "9185cf8e",
   "metadata": {},
   "source": [
    "Модель случайного леса после применения параметра class_weight показала хороший результат: F1-мера равна 0.61, ROC-AUC равна 0.85"
   ]
  },
  {
   "cell_type": "code",
   "execution_count": 30,
   "id": "ce796dbc",
   "metadata": {},
   "outputs": [
    {
     "name": "stdout",
     "output_type": "stream",
     "text": [
      "Порог = 0.00 | Точность = 0.211, Полнота = 1.000, F1 = 0.349, roc_auc = 0.500\n",
      "Порог = 0.02 | Точность = 0.211, Полнота = 1.000, F1 = 0.349, roc_auc = 0.500\n",
      "Порог = 0.04 | Точность = 0.212, Полнота = 1.000, F1 = 0.349, roc_auc = 0.500\n",
      "Порог = 0.06 | Точность = 0.211, Полнота = 0.995, F1 = 0.349, roc_auc = 0.499\n",
      "Порог = 0.08 | Точность = 0.213, Полнота = 0.991, F1 = 0.351, roc_auc = 0.505\n",
      "Порог = 0.10 | Точность = 0.216, Полнота = 0.988, F1 = 0.355, roc_auc = 0.513\n",
      "Порог = 0.12 | Точность = 0.220, Полнота = 0.981, F1 = 0.359, roc_auc = 0.524\n",
      "Порог = 0.14 | Точность = 0.223, Полнота = 0.974, F1 = 0.363, roc_auc = 0.533\n",
      "Порог = 0.16 | Точность = 0.227, Полнота = 0.965, F1 = 0.368, roc_auc = 0.543\n",
      "Порог = 0.18 | Точность = 0.234, Полнота = 0.957, F1 = 0.376, roc_auc = 0.558\n",
      "Порог = 0.20 | Точность = 0.240, Полнота = 0.936, F1 = 0.382, roc_auc = 0.570\n",
      "Порог = 0.22 | Точность = 0.248, Полнота = 0.931, F1 = 0.392, roc_auc = 0.588\n",
      "Порог = 0.24 | Точность = 0.257, Полнота = 0.927, F1 = 0.402, roc_auc = 0.604\n",
      "Порог = 0.26 | Точность = 0.265, Полнота = 0.915, F1 = 0.411, roc_auc = 0.618\n",
      "Порог = 0.28 | Точность = 0.277, Полнота = 0.913, F1 = 0.426, roc_auc = 0.638\n",
      "Порог = 0.30 | Точность = 0.285, Полнота = 0.896, F1 = 0.433, roc_auc = 0.647\n",
      "Порог = 0.32 | Точность = 0.293, Полнота = 0.877, F1 = 0.439, roc_auc = 0.654\n",
      "Порог = 0.34 | Точность = 0.301, Полнота = 0.851, F1 = 0.445, roc_auc = 0.660\n",
      "Порог = 0.36 | Точность = 0.309, Полнота = 0.835, F1 = 0.451, roc_auc = 0.667\n",
      "Порог = 0.38 | Точность = 0.322, Полнота = 0.827, F1 = 0.464, roc_auc = 0.680\n",
      "Порог = 0.40 | Точность = 0.332, Полнота = 0.801, F1 = 0.470, roc_auc = 0.685\n",
      "Порог = 0.42 | Точность = 0.343, Полнота = 0.780, F1 = 0.477, roc_auc = 0.690\n",
      "Порог = 0.44 | Точность = 0.353, Полнота = 0.752, F1 = 0.480, roc_auc = 0.691\n",
      "Порог = 0.46 | Точность = 0.366, Полнота = 0.730, F1 = 0.487, roc_auc = 0.695\n",
      "Порог = 0.48 | Точность = 0.373, Полнота = 0.704, F1 = 0.488, roc_auc = 0.694\n"
     ]
    }
   ],
   "source": [
    "# Logistic Regression Balanced\n",
    "\n",
    "model_lr_balanced = LogisticRegression(random_state=rndm, solver='liblinear', class_weight='balanced')\n",
    "model_lr_balanced.fit(features_train, target_train)\n",
    "\n",
    "# Переберем значения порогов и найдем для каждого значения точность, полноту, F1-меру и AUC-ROC\n",
    "\n",
    "probabilities_valid = model_lr_balanced.predict_proba(features_valid)\n",
    "probabilities_one_valid = probabilities_valid[:, 1]\n",
    "\n",
    "for threshold in np.arange(0, 0.5, 0.02):\n",
    "    predicted_valid = probabilities_one_valid > threshold\n",
    "    precision = precision_score(target_valid, predicted_valid)\n",
    "    recall = recall_score(target_valid, predicted_valid)\n",
    "    print(\"Порог = {:.2f} | Точность = {:.3f}, Полнота = {:.3f}, F1 = {:.3f}, roc_auc = {:.3f}\".format(\n",
    "        threshold, precision, recall, f1_score(target_valid, predicted_valid), roc_auc_score(target_valid, predicted_valid)))\n"
   ]
  },
  {
   "cell_type": "markdown",
   "id": "231ce14b",
   "metadata": {},
   "source": [
    "F-1 score улучшилась до 0.488, auc-roc равна 0.694 при пороговом значении 0.48"
   ]
  },
  {
   "cell_type": "markdown",
   "id": "cae39059",
   "metadata": {},
   "source": [
    "**Вывод:**"
   ]
  },
  {
   "cell_type": "markdown",
   "id": "a82f711f",
   "metadata": {},
   "source": [
    "Наилучший результат у модели случайного леса. Его f1-score равна 0.61, AUC-ROC равна 0.85. Остальные модели улучшились, но не достигли нужного результата. "
   ]
  },
  {
   "cell_type": "markdown",
   "id": "3980f7bc",
   "metadata": {},
   "source": [
    "Далее применим техники увеличения и уменьшения выборки для борьбы с дисбалансом. Для этого напишем специальные функции и масштабируем признаки. "
   ]
  },
  {
   "cell_type": "code",
   "execution_count": 31,
   "id": "3eff8927",
   "metadata": {},
   "outputs": [
    {
     "data": {
      "text/plain": [
       "4"
      ]
     },
     "execution_count": 31,
     "metadata": {},
     "output_type": "execute_result"
    }
   ],
   "source": [
    "# Вычисляем, во сколько раз объектов отрицательного класса больше положительного\n",
    "\n",
    "balance_rate = list(target_train.value_counts(normalize=True))\n",
    "balance_repeat = round(balance_rate[0] / balance_rate[1])\n",
    "balance_repeat"
   ]
  },
  {
   "cell_type": "markdown",
   "id": "4f56b5dd",
   "metadata": {},
   "source": [
    "Масштабирование техникой upsample:"
   ]
  },
  {
   "cell_type": "code",
   "execution_count": 32,
   "id": "4e4fdc56",
   "metadata": {},
   "outputs": [],
   "source": [
    "def upsample(features, target, repeat):\n",
    "    features_zeros = features[target == 0]\n",
    "    features_ones = features[target == 1]\n",
    "    target_zeros = target[target == 0]\n",
    "    target_ones = target[target == 1]\n",
    "    \n",
    "    features_upsampled = pd.concat([features_zeros] + [features_ones] * repeat)\n",
    "    target_upsampled = pd.concat([target_zeros] + [target_ones] * repeat)\n",
    "    features_upsampled, target_upsampled = shuffle(features_upsampled, target_upsampled, random_state = rndm)\n",
    "    return features_upsampled, target_upsampled \n",
    "\n",
    "    \n",
    "features_train_upsampled, target_train_upsampled = upsample(features_train, target_train, balance_repeat)"
   ]
  },
  {
   "cell_type": "code",
   "execution_count": 33,
   "id": "93ddd3ae",
   "metadata": {},
   "outputs": [
    {
     "data": {
      "text/plain": [
       "0    4804\n",
       "1    4784\n",
       "Name: exited, dtype: int64"
      ]
     },
     "execution_count": 33,
     "metadata": {},
     "output_type": "execute_result"
    }
   ],
   "source": [
    "target_train_upsampled.value_counts()"
   ]
  },
  {
   "cell_type": "markdown",
   "id": "a452fbb2",
   "metadata": {},
   "source": [
    "Обучение моделей на увеличенной выборке:"
   ]
  },
  {
   "cell_type": "code",
   "execution_count": 34,
   "id": "1f3845ba",
   "metadata": {},
   "outputs": [
    {
     "name": "stdout",
     "output_type": "stream",
     "text": [
      "Наилучший показатель F1-меры: 0.5809128630705395\n",
      "Глубина дерева с наилучшими показателями: 5\n"
     ]
    }
   ],
   "source": [
    "# Desicion Tree Upsampled\n",
    "\n",
    "best_model_tree_upsampled = None\n",
    "best_result = 0\n",
    "best_depth = 0\n",
    "for depth in range(1, 30):\n",
    "    model = DecisionTreeClassifier(random_state = rndm, max_depth = depth)\n",
    "    model.fit(features_train_upsampled, target_train_upsampled) \n",
    "    predicted_valid = model.predict(features_valid) \n",
    "    result = f1_score(target_valid, predicted_valid) \n",
    "    if result > best_result:\n",
    "        best_model_tree_upsampled = model\n",
    "        best_result = result\n",
    "        best_depth = depth\n",
    "        \n",
    "print('Наилучший показатель F1-меры:', best_result)\n",
    "print('Глубина дерева с наилучшими показателями:', best_depth)"
   ]
  },
  {
   "cell_type": "code",
   "execution_count": 35,
   "id": "03614b8d",
   "metadata": {},
   "outputs": [
    {
     "name": "stdout",
     "output_type": "stream",
     "text": [
      "Матрица ошибок:\n",
      "[[1316  261]\n",
      " [ 143  280]]\n",
      "Accuracy: 0.798\n",
      "F1-мера: 0.5809128630705395\n",
      "AUC-ROC 0.8355347481752318\n"
     ]
    }
   ],
   "source": [
    "predicted_valid = best_model_tree_upsampled.predict(features_valid)\n",
    "probabilities_valid = best_model_tree_upsampled.predict_proba(features_valid)\n",
    "probabilities_one_valid = probabilities_valid[:, 1]\n",
    "print('Матрица ошибок:')\n",
    "print(confusion_matrix(target_valid, predicted_valid))\n",
    "print('Accuracy:', accuracy_score(predicted_valid, target_valid))\n",
    "print('F1-мера:', f1_score(target_valid, predicted_valid))\n",
    "print('AUC-ROC', roc_auc_score(target_valid, probabilities_one_valid))"
   ]
  },
  {
   "cell_type": "markdown",
   "id": "bac64870",
   "metadata": {},
   "source": [
    "Модель не показала достаточно высокий результат. Её f1_score меньше 0.59. "
   ]
  },
  {
   "cell_type": "code",
   "execution_count": 36,
   "id": "dcc2549b",
   "metadata": {},
   "outputs": [
    {
     "name": "stdout",
     "output_type": "stream",
     "text": [
      "depth = 1\n",
      "0.5181733457595527\n",
      "depth = 2\n",
      "0.5403445149592021\n",
      "depth = 3\n",
      "0.5573159366262815\n",
      "depth = 4\n",
      "0.5808893093661305\n",
      "depth = 5\n",
      "0.5915221579961464\n",
      "depth = 6\n",
      "0.5967276227141483\n",
      "depth = 7\n",
      "0.6015779092702169\n",
      "depth = 8\n",
      "0.6121212121212122\n",
      "depth = 9\n",
      "0.6107660455486542\n",
      "depth = 10\n",
      "0.6102783725910065\n",
      "depth = 11\n",
      "0.608108108108108\n",
      "depth = 12\n",
      "0.6052934407364787\n",
      "depth = 13\n",
      "0.6062052505966586\n",
      "depth = 14\n",
      "0.6\n",
      "depth = 15\n",
      "0.5939086294416245\n",
      "depth = 16\n",
      "0.5902061855670103\n",
      "depth = 17\n",
      "0.5907928388746804\n",
      "depth = 18\n",
      "0.5966709346991037\n",
      "depth = 19\n",
      "0.5890052356020943\n",
      "depth = 20\n",
      "0.5883905013192613\n",
      "depth = 21\n",
      "0.5877763328998699\n",
      "depth = 22\n",
      "0.5908496732026144\n",
      "depth = 23\n",
      "0.5926892950391646\n",
      "depth = 24\n",
      "0.5926892950391646\n",
      "depth = 25\n",
      "0.5929778933680103\n",
      "depth = 26\n",
      "0.5940337224383916\n",
      "depth = 27\n",
      "0.5986928104575164\n",
      "depth = 28\n",
      "0.5986928104575164\n",
      "depth = 29\n",
      "0.5986928104575164\n",
      "depth = 30\n",
      "0.5986928104575164\n",
      "Лучший результат F1-меры = 0.6121212121212122, при depth = 8\n"
     ]
    }
   ],
   "source": [
    "# Random Forest Upsampled\n",
    "\n",
    "best_depth = 0\n",
    "best_f1_score = 0\n",
    "\n",
    "for depth in range(1, 31, 1):\n",
    "    model = RandomForestClassifier(n_estimators = 100, max_depth = depth, random_state = rndm)\n",
    "    model.fit(features_train_upsampled, target_train_upsampled)\n",
    "    predicted_valid = model.predict(features_valid)\n",
    "    result_1 = f1_score(target_valid, predicted_valid)\n",
    "    print(f'depth = {depth}')\n",
    "    print(result_1)\n",
    "    if result_1 > best_f1_score:\n",
    "        best_depth = depth\n",
    "        best_f1_score = result_1\n",
    "        \n",
    "print(f'Лучший результат F1-меры = {best_f1_score}, при depth = {best_depth}')"
   ]
  },
  {
   "cell_type": "code",
   "execution_count": 37,
   "id": "33827f69",
   "metadata": {},
   "outputs": [
    {
     "name": "stdout",
     "output_type": "stream",
     "text": [
      "n_est = 10\n",
      "0.5977933801404213\n",
      "n_est = 20\n",
      "0.6027944111776447\n",
      "n_est = 30\n",
      "0.6133866133866135\n",
      "n_est = 40\n",
      "0.6122860020140987\n",
      "n_est = 50\n",
      "0.6183282980866063\n",
      "n_est = 60\n",
      "0.6175580221997982\n",
      "n_est = 70\n",
      "0.6129032258064517\n",
      "n_est = 80\n",
      "0.6138415245737211\n",
      "n_est = 90\n",
      "0.6183282980866063\n",
      "n_est = 100\n",
      "0.6121212121212122\n",
      "n_est = 110\n",
      "0.6094853683148335\n",
      "n_est = 120\n",
      "0.615539858728557\n",
      "n_est = 130\n",
      "0.6200607902735562\n",
      "n_est = 140\n",
      "0.6167846309403439\n",
      "n_est = 150\n",
      "0.6141414141414141\n",
      "Лучший результат F1-меры = 0.6200607902735562, при n_est = 130\n"
     ]
    }
   ],
   "source": [
    "best_est = 0\n",
    "best_f1_score_2 = 0\n",
    "\n",
    "for est in range(10, 151, 10):\n",
    "    model = RandomForestClassifier(n_estimators = est, max_depth = best_depth, random_state = rndm)\n",
    "    model.fit(features_train_upsampled, target_train_upsampled)\n",
    "    predicted_valid = model.predict(features_valid)\n",
    "    result_2 = f1_score(target_valid, predicted_valid)\n",
    "    print(f'n_est = {est}')\n",
    "    print(result_2)\n",
    "    if result_2 > best_f1_score_2:\n",
    "        best_est = est\n",
    "        best_f1_score_2 = result_2\n",
    "print(f'Лучший результат F1-меры = {best_f1_score_2}, при n_est = {best_est}')"
   ]
  },
  {
   "cell_type": "code",
   "execution_count": 38,
   "id": "ca47e28f",
   "metadata": {},
   "outputs": [
    {
     "name": "stdout",
     "output_type": "stream",
     "text": [
      "Матрица ошибок:\n",
      "[[1319  258]\n",
      " [ 117  306]]\n",
      "Accuracy: 0.8125\n",
      "F1-мера: 0.6200607902735562\n",
      "AUC-ROC равен 0.859125940117319\n"
     ]
    }
   ],
   "source": [
    "best_model_rfc_upsampled = RandomForestClassifier(n_estimators = 130, max_depth = 8, random_state = rndm)\n",
    "best_model_rfc_upsampled.fit(features_train_upsampled, target_train_upsampled)\n",
    "predicted_valid = best_model_rfc_upsampled.predict(features_valid)\n",
    "probabilities_valid = best_model_rfc_upsampled.predict_proba(features_valid)\n",
    "probabilities_one_valid = probabilities_valid[:, 1]\n",
    "print('Матрица ошибок:')\n",
    "print(confusion_matrix(target_valid, predicted_valid))\n",
    "print('Accuracy:', accuracy_score(predicted_valid, target_valid))\n",
    "print('F1-мера:', f1_score(target_valid, predicted_valid))\n",
    "print('AUC-ROC равен', roc_auc_score(target_valid, probabilities_one_valid))"
   ]
  },
  {
   "cell_type": "markdown",
   "id": "daf30246",
   "metadata": {},
   "source": [
    "Значения F1-меры и AUC-ROC самые высокие относительно остальных моделей: 0.62 и 0.859 соответственно."
   ]
  },
  {
   "cell_type": "code",
   "execution_count": 39,
   "id": "fb3b4baa",
   "metadata": {},
   "outputs": [
    {
     "name": "stdout",
     "output_type": "stream",
     "text": [
      "Порог = 0.00 | Точность = 0.211, Полнота = 1.000, F1 = 0.349, roc_auc = 0.500\n",
      "Порог = 0.02 | Точность = 0.211, Полнота = 1.000, F1 = 0.349, roc_auc = 0.500\n",
      "Порог = 0.04 | Точность = 0.212, Полнота = 1.000, F1 = 0.349, roc_auc = 0.500\n",
      "Порог = 0.06 | Точность = 0.211, Полнота = 0.995, F1 = 0.349, roc_auc = 0.499\n",
      "Порог = 0.08 | Точность = 0.213, Полнота = 0.991, F1 = 0.351, roc_auc = 0.505\n",
      "Порог = 0.10 | Точность = 0.216, Полнота = 0.988, F1 = 0.355, roc_auc = 0.514\n",
      "Порог = 0.12 | Точность = 0.220, Полнота = 0.981, F1 = 0.360, roc_auc = 0.524\n",
      "Порог = 0.14 | Точность = 0.223, Полнота = 0.974, F1 = 0.363, roc_auc = 0.533\n",
      "Порог = 0.16 | Точность = 0.228, Полнота = 0.965, F1 = 0.368, roc_auc = 0.543\n",
      "Порог = 0.18 | Точность = 0.234, Полнота = 0.955, F1 = 0.376, roc_auc = 0.558\n",
      "Порог = 0.20 | Точность = 0.240, Полнота = 0.936, F1 = 0.382, roc_auc = 0.570\n",
      "Порог = 0.22 | Точность = 0.249, Полнота = 0.931, F1 = 0.393, roc_auc = 0.589\n",
      "Порог = 0.24 | Точность = 0.257, Полнота = 0.927, F1 = 0.403, roc_auc = 0.604\n",
      "Порог = 0.26 | Точность = 0.265, Полнота = 0.915, F1 = 0.411, roc_auc = 0.618\n",
      "Порог = 0.28 | Точность = 0.277, Полнота = 0.908, F1 = 0.425, roc_auc = 0.636\n",
      "Порог = 0.30 | Точность = 0.285, Полнота = 0.894, F1 = 0.432, roc_auc = 0.646\n",
      "Порог = 0.32 | Точность = 0.293, Полнота = 0.875, F1 = 0.439, roc_auc = 0.654\n",
      "Порог = 0.34 | Точность = 0.301, Полнота = 0.849, F1 = 0.445, roc_auc = 0.660\n",
      "Порог = 0.36 | Точность = 0.309, Полнота = 0.832, F1 = 0.450, roc_auc = 0.666\n",
      "Порог = 0.38 | Точность = 0.323, Полнота = 0.825, F1 = 0.464, roc_auc = 0.680\n",
      "Порог = 0.40 | Точность = 0.332, Полнота = 0.797, F1 = 0.468, roc_auc = 0.683\n",
      "Порог = 0.42 | Точность = 0.344, Полнота = 0.780, F1 = 0.478, roc_auc = 0.691\n",
      "Порог = 0.44 | Точность = 0.353, Полнота = 0.749, F1 = 0.480, roc_auc = 0.691\n",
      "Порог = 0.46 | Точность = 0.366, Полнота = 0.730, F1 = 0.488, roc_auc = 0.696\n",
      "Порог = 0.48 | Точность = 0.372, Полнота = 0.700, F1 = 0.486, roc_auc = 0.692\n"
     ]
    }
   ],
   "source": [
    "# Logistic Regression Upsampled\n",
    "\n",
    "model_lr_upsampled = LogisticRegression(random_state=rndm, solver='liblinear')\n",
    "model_lr_upsampled.fit(features_train_upsampled, target_train_upsampled)\n",
    "\n",
    "# Переберем значения порогов и найдем для каждого значения точность, полноту, F1-меру и AUC-ROC\n",
    "\n",
    "probabilities_valid = model_lr_upsampled.predict_proba(features_valid)\n",
    "probabilities_one_valid = probabilities_valid[:, 1]\n",
    "\n",
    "for threshold in np.arange(0, 0.5, 0.02):\n",
    "    predicted_valid = probabilities_one_valid > threshold\n",
    "    precision = precision_score(target_valid, predicted_valid)\n",
    "    recall = recall_score(target_valid, predicted_valid)\n",
    "    print(\"Порог = {:.2f} | Точность = {:.3f}, Полнота = {:.3f}, F1 = {:.3f}, roc_auc = {:.3f}\".format(\n",
    "        threshold, precision, recall, f1_score(target_valid, predicted_valid), roc_auc_score(target_valid, predicted_valid)))\n"
   ]
  },
  {
   "cell_type": "markdown",
   "id": "f0976eaf",
   "metadata": {},
   "source": [
    "При пороговом значении 0.46 значения метрик F1-score AUC-ROC равны 0.488 и 0.696 соответственно. Этого все еще недостаточно. "
   ]
  },
  {
   "cell_type": "markdown",
   "id": "5604651b",
   "metadata": {},
   "source": [
    "**Вывод:**"
   ]
  },
  {
   "cell_type": "markdown",
   "id": "754ffdb1",
   "metadata": {},
   "source": [
    "Качество моделей дерева решений и логистической регрессии не улучшилось, у модели случайного леса показатель f1_score вырос до 0.62, auc_roc до 0.85. "
   ]
  },
  {
   "cell_type": "markdown",
   "id": "46b0e1e8",
   "metadata": {},
   "source": [
    "Масштабирование техникой downsampling:"
   ]
  },
  {
   "cell_type": "code",
   "execution_count": 40,
   "id": "e63bdac6",
   "metadata": {},
   "outputs": [],
   "source": [
    "def downsample(features, target, fraction):\n",
    "    features_zeros = features[target == 0]\n",
    "    features_ones = features[target == 1]\n",
    "    target_zeros = target[target == 0]\n",
    "    target_ones = target[target == 1]\n",
    "\n",
    "    features_downsampled = pd.concat([features_zeros.sample(frac=fraction, random_state=12345)] + [features_ones])\n",
    "    target_downsampled = pd.concat([target_zeros.sample(frac=fraction, random_state=12345)] + [target_ones])\n",
    "    features_downsampled, target_downsampled = shuffle(features_downsampled, target_downsampled, random_state = rndm)\n",
    "    return features_downsampled, target_downsampled\n",
    "\n",
    "features_train_downsampled, target_train_downsampled = downsample(features_train, target_train, 0.25)"
   ]
  },
  {
   "cell_type": "code",
   "execution_count": 41,
   "id": "ae3a6075",
   "metadata": {},
   "outputs": [
    {
     "data": {
      "text/plain": [
       "0    1201\n",
       "1    1196\n",
       "Name: exited, dtype: int64"
      ]
     },
     "execution_count": 41,
     "metadata": {},
     "output_type": "execute_result"
    }
   ],
   "source": [
    "target_train_downsampled.value_counts()"
   ]
  },
  {
   "cell_type": "markdown",
   "id": "9a99ec12",
   "metadata": {},
   "source": [
    "Обучение моделей на уменьшенной выборке:"
   ]
  },
  {
   "cell_type": "code",
   "execution_count": 42,
   "id": "70ab0b6a",
   "metadata": {},
   "outputs": [
    {
     "name": "stdout",
     "output_type": "stream",
     "text": [
      "Наилучший показатель F1-меры: 0.608066184074457\n",
      "Глубина дерева с наилучшими показателями: 5\n"
     ]
    }
   ],
   "source": [
    "# Desicion Tree Downsampled\n",
    "\n",
    "best_model_tree_downsampled = None\n",
    "best_result = 0\n",
    "best_depth = 0\n",
    "for depth in range(1, 30):\n",
    "    model = DecisionTreeClassifier(random_state = rndm, max_depth = depth)\n",
    "    model.fit(features_train_downsampled, target_train_downsampled) \n",
    "    predicted_valid = model.predict(features_valid) \n",
    "    result = f1_score(target_valid, predicted_valid) \n",
    "    if result > best_result:\n",
    "        best_model_tree_downsampled = model\n",
    "        best_result = result\n",
    "        best_depth = depth\n",
    "        \n",
    "print('Наилучший показатель F1-меры:', best_result)\n",
    "print('Глубина дерева с наилучшими показателями:', best_depth)"
   ]
  },
  {
   "cell_type": "code",
   "execution_count": 43,
   "id": "42cdb9ee",
   "metadata": {},
   "outputs": [
    {
     "name": "stdout",
     "output_type": "stream",
     "text": [
      "Матрица ошибок:\n",
      "[[1327  250]\n",
      " [ 129  294]]\n",
      "Accuracy: 0.8105\n",
      "F1-мера: 0.608066184074457\n",
      "AUC-ROC 0.8377856330135773\n"
     ]
    }
   ],
   "source": [
    "predicted_valid = best_model_tree_downsampled.predict(features_valid)\n",
    "probabilities_valid = best_model_tree_downsampled.predict_proba(features_valid)\n",
    "probabilities_one_valid = probabilities_valid[:, 1]\n",
    "print('Матрица ошибок:')\n",
    "print(confusion_matrix(target_valid, predicted_valid))\n",
    "print('Accuracy:', accuracy_score(predicted_valid, target_valid))\n",
    "print('F1-мера:', f1_score(target_valid, predicted_valid))\n",
    "print('AUC-ROC', roc_auc_score(target_valid, probabilities_one_valid))"
   ]
  },
  {
   "cell_type": "markdown",
   "id": "4e071622",
   "metadata": {},
   "source": [
    "Данная модель показала хороший результат: f1-score равна 0.60, auc_roc равна 0.83"
   ]
  },
  {
   "cell_type": "code",
   "execution_count": 44,
   "id": "23b460e3",
   "metadata": {},
   "outputs": [
    {
     "name": "stdout",
     "output_type": "stream",
     "text": [
      "depth = 1\n",
      "0.5270758122743682\n",
      "depth = 2\n",
      "0.5452930728241562\n",
      "depth = 3\n",
      "0.5531914893617021\n",
      "depth = 4\n",
      "0.5724703737465815\n",
      "depth = 5\n",
      "0.5795246800731261\n",
      "depth = 6\n",
      "0.5865921787709497\n",
      "depth = 7\n",
      "0.5897674418604651\n",
      "depth = 8\n",
      "0.5910780669144982\n",
      "depth = 9\n",
      "0.580110497237569\n",
      "depth = 10\n",
      "0.5814814814814814\n",
      "depth = 11\n",
      "0.58195211786372\n",
      "depth = 12\n",
      "0.5709057639524245\n",
      "depth = 13\n",
      "0.5808219178082192\n",
      "depth = 14\n",
      "0.5804066543438079\n",
      "depth = 15\n",
      "0.5814167433302668\n",
      "depth = 16\n",
      "0.5777777777777777\n",
      "depth = 17\n",
      "0.5802919708029196\n",
      "depth = 18\n",
      "0.5811808118081181\n",
      "depth = 19\n",
      "0.5740570377184911\n",
      "depth = 20\n",
      "0.5786046511627907\n",
      "depth = 21\n",
      "0.5767097966728281\n",
      "depth = 22\n",
      "0.5790934320074005\n",
      "depth = 23\n",
      "0.5753931544865865\n",
      "depth = 24\n",
      "0.5714285714285714\n",
      "depth = 25\n",
      "0.5714285714285714\n",
      "depth = 26\n",
      "0.5714285714285714\n",
      "depth = 27\n",
      "0.5714285714285714\n",
      "depth = 28\n",
      "0.5714285714285714\n",
      "depth = 29\n",
      "0.5714285714285714\n",
      "depth = 30\n",
      "0.5714285714285714\n",
      "Лучший результат F1-меры = 0.5910780669144982, при depth = 8\n"
     ]
    }
   ],
   "source": [
    "# Random Forest Downsampled\n",
    "\n",
    "best_depth = 0\n",
    "best_f1_score = 0\n",
    "\n",
    "for depth in range(1, 31, 1):\n",
    "    model = RandomForestClassifier(n_estimators = 100, max_depth = depth, random_state = rndm)\n",
    "    model.fit(features_train_downsampled, target_train_downsampled)\n",
    "    predicted_valid = model.predict(features_valid)\n",
    "    result_1 = f1_score(target_valid, predicted_valid)\n",
    "    print(f'depth = {depth}')\n",
    "    print(result_1)\n",
    "    if result_1 > best_f1_score:\n",
    "        best_depth = depth\n",
    "        best_f1_score = result_1\n",
    "        \n",
    "print(f'Лучший результат F1-меры = {best_f1_score}, при depth = {best_depth}')"
   ]
  },
  {
   "cell_type": "code",
   "execution_count": 45,
   "id": "c8d88a06",
   "metadata": {},
   "outputs": [
    {
     "name": "stdout",
     "output_type": "stream",
     "text": [
      "n_est = 10\n",
      "0.5841860465116278\n",
      "n_est = 20\n",
      "0.5807656395891689\n",
      "n_est = 30\n",
      "0.5893358278765202\n",
      "n_est = 40\n",
      "0.587138863000932\n",
      "n_est = 50\n",
      "0.5814814814814814\n",
      "n_est = 60\n",
      "0.5847299813780261\n",
      "n_est = 70\n",
      "0.585820895522388\n",
      "n_est = 80\n",
      "0.5881261595547309\n",
      "n_est = 90\n",
      "0.5892193308550185\n",
      "n_est = 100\n",
      "0.5910780669144982\n",
      "n_est = 110\n",
      "0.5923862581244196\n",
      "n_est = 120\n",
      "0.5957049486461251\n",
      "n_est = 130\n",
      "0.5925233644859812\n",
      "n_est = 140\n",
      "0.5893358278765202\n",
      "n_est = 150\n",
      "0.5895522388059701\n",
      "Лучший результат F1-меры = 0.5957049486461251, при n_est = 120\n"
     ]
    }
   ],
   "source": [
    "best_est = 0\n",
    "best_f1_score_2 = 0\n",
    "\n",
    "for est in range(10, 151, 10):\n",
    "    model = RandomForestClassifier(n_estimators = est, max_depth = best_depth, random_state = rndm)\n",
    "    model.fit(features_train_downsampled, target_train_downsampled)\n",
    "    predicted_valid = model.predict(features_valid)\n",
    "    result_2 = f1_score(target_valid, predicted_valid)\n",
    "    print(f'n_est = {est}')\n",
    "    print(result_2)\n",
    "    if result_2 > best_f1_score_2:\n",
    "        best_est = est\n",
    "        best_f1_score_2 = result_2\n",
    "print(f'Лучший результат F1-меры = {best_f1_score_2}, при n_est = {best_est}')"
   ]
  },
  {
   "cell_type": "code",
   "execution_count": 46,
   "id": "9454741b",
   "metadata": {},
   "outputs": [
    {
     "name": "stdout",
     "output_type": "stream",
     "text": [
      "Матрица ошибок:\n",
      "[[1314  263]\n",
      " [ 118  305]]\n",
      "Accuracy: 0.8095\n",
      "F1-мера: 0.615539858728557\n",
      "AUC-ROC равен 0.8593912791891717\n"
     ]
    }
   ],
   "source": [
    "best_model_rfc_downsampled = RandomForestClassifier(n_estimators = 120, max_depth = 8, random_state = rndm)\n",
    "best_model_rfc_downsampled.fit(features_train_upsampled, target_train_upsampled)\n",
    "predicted_valid = best_model_rfc_downsampled.predict(features_valid)\n",
    "probabilities_valid = best_model_rfc_downsampled.predict_proba(features_valid)\n",
    "probabilities_one_valid = probabilities_valid[:, 1]\n",
    "print('Матрица ошибок:')\n",
    "print(confusion_matrix(target_valid, predicted_valid))\n",
    "print('Accuracy:', accuracy_score(predicted_valid, target_valid))\n",
    "print('F1-мера:', f1_score(target_valid, predicted_valid))\n",
    "print('AUC-ROC равен', roc_auc_score(target_valid, probabilities_one_valid))"
   ]
  },
  {
   "cell_type": "markdown",
   "id": "e2113ba7",
   "metadata": {},
   "source": [
    "Данная модель тоже показывает хороший (но не лучший) результат. F-1 score равна 0.615, AUC-ROC равна 0.85. "
   ]
  },
  {
   "cell_type": "code",
   "execution_count": 47,
   "id": "a4e9a71e",
   "metadata": {},
   "outputs": [
    {
     "name": "stdout",
     "output_type": "stream",
     "text": [
      "Порог = 0.00 | Точность = 0.211, Полнота = 1.000, F1 = 0.349, roc_auc = 0.500\n",
      "Порог = 0.02 | Точность = 0.211, Полнота = 1.000, F1 = 0.349, roc_auc = 0.500\n",
      "Порог = 0.04 | Точность = 0.212, Полнота = 1.000, F1 = 0.349, roc_auc = 0.500\n",
      "Порог = 0.06 | Точность = 0.211, Полнота = 0.995, F1 = 0.349, roc_auc = 0.500\n",
      "Порог = 0.08 | Точность = 0.213, Полнота = 0.991, F1 = 0.351, roc_auc = 0.505\n",
      "Порог = 0.10 | Точность = 0.217, Полнота = 0.991, F1 = 0.356, roc_auc = 0.515\n",
      "Порог = 0.12 | Точность = 0.221, Полнота = 0.986, F1 = 0.362, roc_auc = 0.528\n",
      "Порог = 0.14 | Точность = 0.224, Полнота = 0.974, F1 = 0.364, roc_auc = 0.534\n",
      "Порог = 0.16 | Точность = 0.228, Полнота = 0.967, F1 = 0.369, roc_auc = 0.544\n",
      "Порог = 0.18 | Точность = 0.233, Полнота = 0.946, F1 = 0.373, roc_auc = 0.555\n",
      "Порог = 0.20 | Точность = 0.240, Полнота = 0.936, F1 = 0.382, roc_auc = 0.570\n",
      "Порог = 0.22 | Точность = 0.247, Полнота = 0.931, F1 = 0.391, roc_auc = 0.586\n",
      "Порог = 0.24 | Точность = 0.256, Полнота = 0.929, F1 = 0.402, roc_auc = 0.603\n",
      "Порог = 0.26 | Точность = 0.268, Полнота = 0.920, F1 = 0.415, roc_auc = 0.623\n",
      "Порог = 0.28 | Точность = 0.278, Полнота = 0.910, F1 = 0.426, roc_auc = 0.638\n",
      "Порог = 0.30 | Точность = 0.288, Полнота = 0.901, F1 = 0.436, roc_auc = 0.651\n",
      "Порог = 0.32 | Точность = 0.293, Полнота = 0.879, F1 = 0.440, roc_auc = 0.655\n",
      "Порог = 0.34 | Точность = 0.304, Полнота = 0.863, F1 = 0.450, roc_auc = 0.667\n",
      "Порог = 0.36 | Точность = 0.314, Полнота = 0.842, F1 = 0.457, roc_auc = 0.674\n",
      "Порог = 0.38 | Точность = 0.328, Полнота = 0.825, F1 = 0.470, roc_auc = 0.686\n",
      "Порог = 0.40 | Точность = 0.334, Полнота = 0.797, F1 = 0.471, roc_auc = 0.686\n",
      "Порог = 0.42 | Точность = 0.345, Полнота = 0.775, F1 = 0.477, roc_auc = 0.690\n",
      "Порог = 0.44 | Точность = 0.352, Полнота = 0.754, F1 = 0.480, roc_auc = 0.691\n",
      "Порог = 0.46 | Точность = 0.362, Полнота = 0.726, F1 = 0.483, roc_auc = 0.692\n",
      "Порог = 0.48 | Точность = 0.373, Полнота = 0.695, F1 = 0.486, roc_auc = 0.691\n"
     ]
    }
   ],
   "source": [
    "# Logistic Regression Downsampled\n",
    "\n",
    "model_lr_downsampled = LogisticRegression(random_state=rndm, solver='liblinear')\n",
    "model_lr_downsampled.fit(features_train_downsampled, target_train_downsampled)\n",
    "probabilities_valid = model_lr_downsampled.predict_proba(features_valid)\n",
    "probabilities_one_valid = probabilities_valid[:, 1]\n",
    "    \n",
    "for threshold in np.arange(0, 0.5, 0.02):\n",
    "    predicted_valid = probabilities_one_valid > threshold\n",
    "    precision = precision_score(target_valid, predicted_valid)\n",
    "    recall = recall_score(target_valid, predicted_valid)\n",
    "    print(\"Порог = {:.2f} | Точность = {:.3f}, Полнота = {:.3f}, F1 = {:.3f}, roc_auc = {:.3f}\".format(\n",
    "        threshold, precision, recall, f1_score(target_valid, predicted_valid), roc_auc_score(target_valid, predicted_valid)))\n",
    "\n",
    "    "
   ]
  },
  {
   "cell_type": "markdown",
   "id": "37a1e965",
   "metadata": {},
   "source": [
    "У модели логистической регрессии все еще низкое качество. F-1 score и auc-roc равны 0.486 и 0.691 соответственно при пороговом значении 0.48. "
   ]
  },
  {
   "cell_type": "markdown",
   "id": "a83499b6",
   "metadata": {},
   "source": [
    "**Вывод:**"
   ]
  },
  {
   "cell_type": "markdown",
   "id": "c810df6c",
   "metadata": {},
   "source": [
    "Подводя итоги борьбы с дисбалансом можно сделать несколько выводов:\n",
    "\n",
    "- Наивысшие показатели качества удалось добиться модели случайного леса:\n",
    "    - Её F1-score равна 0.61 в случае применения параметра class_weight = 'balanced'\n",
    "    - В случае апсемплинга её f1-score равна 0.62\n",
    "    - В случае даунсемплинга f1-score модели случайного леса равна 0.615\n",
    "- Удалось достичь нужного результата для модели дерева решений в случае уменьшения выборки (даунсемплинга). F1-score такой модели равна 0.6\n",
    "- Модели логистической регрессии не показали хорошего результата. Максимальное значение F1-меры, которое удалось получить, равно 0.488. "
   ]
  },
  {
   "cell_type": "markdown",
   "id": "4016e815",
   "metadata": {},
   "source": [
    "## Финальное тестирование"
   ]
  },
  {
   "cell_type": "markdown",
   "id": "5fa5f9ac",
   "metadata": {},
   "source": [
    "Возьмем для финального теста те модели, значения f1-score которых выше 0.59:\n",
    "1) Decision Tree Downsampled\n",
    "2) Random Forest Balanced\n",
    "3) Random Forest Upsampled\n",
    "4) Random Forest Downsampled"
   ]
  },
  {
   "cell_type": "code",
   "execution_count": 48,
   "id": "cde3cdf6",
   "metadata": {},
   "outputs": [
    {
     "name": "stdout",
     "output_type": "stream",
     "text": [
      "Accuracy: 0.8\n",
      "F1-мера: 0.5943204868154158\n",
      "AUC-ROC 0.8241029464247908\n"
     ]
    }
   ],
   "source": [
    "# Decision Tree Downsampled test\n",
    "\n",
    "predicted_test = best_model_tree_downsampled.predict(features_test)\n",
    "probabilities_test = best_model_tree_downsampled.predict_proba(features_test)\n",
    "probabilities_one_test = probabilities_test[:, 1]\n",
    "\n",
    "print('Accuracy:', accuracy_score(predicted_test, target_test))\n",
    "print('F1-мера:', f1_score(target_test, predicted_test))\n",
    "print('AUC-ROC', roc_auc_score(target_test, probabilities_one_test))"
   ]
  },
  {
   "cell_type": "code",
   "execution_count": 49,
   "id": "bd9d04ff",
   "metadata": {},
   "outputs": [
    {
     "data": {
      "image/png": "[encoded data removed]",
      "text/plain": [
       "<Figure size 1500x600 with 1 Axes>"
      ]
     },
     "metadata": {},
     "output_type": "display_data"
    }
   ],
   "source": [
    "# Построим ROC-кривую\n",
    "\n",
    "fpr, tpr, thresholds = roc_curve(target_test, probabilities_one_test) \n",
    "plt.figure(figsize=(15, 6))\n",
    "plt.plot(fpr, tpr)\n",
    "plt.plot([0, 1], [0, 1], linestyle='--')\n",
    "plt.xlim([0.0, 1.0])\n",
    "plt.ylim([0.0, 1.0])\n",
    "plt.xlabel('False Positive Rate')\n",
    "plt.ylabel('True Positive Rate')\n",
    "plt.title('ROC-кривая')\n",
    "plt.show()"
   ]
  },
  {
   "cell_type": "markdown",
   "id": "412981a6",
   "metadata": {},
   "source": [
    "Первая модель успешно прошла тест: f1-score равна 0.594, auc-roc равна 0.82. Судя по графику, модель обладает средней предсказательной способностью. "
   ]
  },
  {
   "cell_type": "code",
   "execution_count": 50,
   "id": "b315e06e",
   "metadata": {},
   "outputs": [
    {
     "name": "stdout",
     "output_type": "stream",
     "text": [
      "Accuracy: 0.8405\n",
      "F1-мера: 0.6151990349819059\n",
      "AUC-ROC 0.852033039154604\n"
     ]
    }
   ],
   "source": [
    "# Random Forest Balanced test\n",
    "\n",
    "predicted_test = best_model_rfc_balanced.predict(features_test)\n",
    "probabilities_test = best_model_rfc_balanced.predict_proba(features_test)\n",
    "probabilities_one_test = probabilities_test[:, 1]\n",
    "\n",
    "print('Accuracy:', accuracy_score(predicted_test, target_test))\n",
    "print('F1-мера:', f1_score(target_test, predicted_test))\n",
    "print('AUC-ROC', roc_auc_score(target_test, probabilities_one_test))"
   ]
  },
  {
   "cell_type": "code",
   "execution_count": 51,
   "id": "2b90ee05",
   "metadata": {},
   "outputs": [
    {
     "data": {
      "image/png": "[encoded data removed]",
      "text/plain": [
       "<Figure size 1500x600 with 1 Axes>"
      ]
     },
     "metadata": {},
     "output_type": "display_data"
    }
   ],
   "source": [
    "# Построим ROC-кривую\n",
    "\n",
    "fpr, tpr, thresholds = roc_curve(target_test, probabilities_one_test) \n",
    "plt.figure(figsize=(15, 6))\n",
    "plt.plot(fpr, tpr)\n",
    "plt.plot([0, 1], [0, 1], linestyle='--')\n",
    "plt.xlim([0.0, 1.0])\n",
    "plt.ylim([0.0, 1.0])\n",
    "plt.xlabel('False Positive Rate')\n",
    "plt.ylabel('True Positive Rate')\n",
    "plt.title('ROC-кривая')\n",
    "plt.show()"
   ]
  },
  {
   "cell_type": "markdown",
   "id": "21b6ed1e",
   "metadata": {},
   "source": [
    "Вторая модель также прошла тест, её показатели выше предыдущей модели:\n",
    "f1-score = 0.615, auc-roc = 0.85. ROC-кривая расположена ближе к верхнему левому углу, соответственно предсказательная способность этой модели выше предыдущей. "
   ]
  },
  {
   "cell_type": "code",
   "execution_count": 52,
   "id": "ba6f5003",
   "metadata": {},
   "outputs": [
    {
     "name": "stdout",
     "output_type": "stream",
     "text": [
      "Accuracy: 0.8115\n",
      "F1-мера: 0.6109391124871001\n",
      "AUC-ROC 0.8563927921170587\n"
     ]
    }
   ],
   "source": [
    "# Random Forest Upsampled test\n",
    "\n",
    "predicted_test = best_model_rfc_upsampled.predict(features_test)\n",
    "probabilities_test = best_model_rfc_upsampled.predict_proba(features_test)\n",
    "probabilities_one_test = probabilities_test[:, 1]\n",
    "\n",
    "print('Accuracy:', accuracy_score(predicted_test, target_test))\n",
    "print('F1-мера:', f1_score(target_test, predicted_test))\n",
    "print('AUC-ROC', roc_auc_score(target_test, probabilities_one_test))"
   ]
  },
  {
   "cell_type": "code",
   "execution_count": 53,
   "id": "6db32dd4",
   "metadata": {},
   "outputs": [
    {
     "data": {
      "image/png": "[encoded data removed]",
      "text/plain": [
       "<Figure size 1500x600 with 1 Axes>"
      ]
     },
     "metadata": {},
     "output_type": "display_data"
    }
   ],
   "source": [
    "# Построим ROC-кривую\n",
    "\n",
    "fpr, tpr, thresholds = roc_curve(target_test, probabilities_one_test) \n",
    "plt.figure(figsize=(15, 6))\n",
    "plt.plot(fpr, tpr)\n",
    "plt.plot([0, 1], [0, 1], linestyle='--')\n",
    "plt.xlim([0.0, 1.0])\n",
    "plt.ylim([0.0, 1.0])\n",
    "plt.xlabel('False Positive Rate')\n",
    "plt.ylabel('True Positive Rate')\n",
    "plt.title('ROC-кривая')\n",
    "plt.show()"
   ]
  },
  {
   "cell_type": "markdown",
   "id": "d18599a3",
   "metadata": {},
   "source": [
    "Третья модель успешно прошла тестирование и показала F-1 меру 0.61, AUC-ROC 0.85. Судя по графику ROC-кривой, качество модели примерно такое же, как у предыдущей модели. "
   ]
  },
  {
   "cell_type": "code",
   "execution_count": 54,
   "id": "87f65c71",
   "metadata": {},
   "outputs": [
    {
     "name": "stdout",
     "output_type": "stream",
     "text": [
      "Accuracy: 0.8115\n",
      "F1-мера: 0.6109391124871001\n",
      "AUC-ROC 0.8562839117100878\n"
     ]
    }
   ],
   "source": [
    "# Random Forest Downsampled test\n",
    "\n",
    "predicted_test = best_model_rfc_downsampled.predict(features_test)\n",
    "probabilities_test = best_model_rfc_downsampled.predict_proba(features_test)\n",
    "probabilities_one_test = probabilities_test[:, 1]\n",
    "\n",
    "print('Accuracy:', accuracy_score(predicted_test, target_test))\n",
    "print('F1-мера:', f1_score(target_test, predicted_test))\n",
    "print('AUC-ROC', roc_auc_score(target_test, probabilities_one_test))"
   ]
  },
  {
   "cell_type": "code",
   "execution_count": 55,
   "id": "9d7f3141",
   "metadata": {},
   "outputs": [
    {
     "data": {
      "image/png": "[encoded data removed]",
      "text/plain": [
       "<Figure size 1500x600 with 1 Axes>"
      ]
     },
     "metadata": {},
     "output_type": "display_data"
    }
   ],
   "source": [
    "# Построим ROC-кривую\n",
    "\n",
    "fpr, tpr, thresholds = roc_curve(target_test, probabilities_one_test) \n",
    "plt.figure(figsize=(15, 6))\n",
    "plt.plot(fpr, tpr)\n",
    "plt.plot([0, 1], [0, 1], linestyle='--')\n",
    "plt.xlim([0.0, 1.0])\n",
    "plt.ylim([0.0, 1.0])\n",
    "plt.xlabel('False Positive Rate')\n",
    "plt.ylabel('True Positive Rate')\n",
    "plt.title('ROC-кривая')\n",
    "plt.show()"
   ]
  },
  {
   "cell_type": "markdown",
   "id": "f31f31a2",
   "metadata": {},
   "source": [
    "Последняя модель тоже успешно прошла тестирование и показала результат, похожий на результат предыдущей модели: f1-score равна 0.61, ROC-AUC равна 0.85. График кривой демонстрирует хорошее качество модели. "
   ]
  },
  {
   "cell_type": "markdown",
   "id": "537cd1a7",
   "metadata": {},
   "source": [
    "**Вывод:**"
   ]
  },
  {
   "cell_type": "markdown",
   "id": "2e1dcc24",
   "metadata": {},
   "source": [
    "Все 4 модели успешно прошли тест. По итогам исследования наиболее качественной моделью стала модель Random Forest Balanced (модель случайного леса с примененным параметром class_weight = 'balanced'): f1-score = 0.615, auc-roc = 0.85"
   ]
  },
  {
   "cell_type": "markdown",
   "id": "4ef5e73e",
   "metadata": {},
   "source": [
    "## Итоговый вывод"
   ]
  },
  {
   "cell_type": "markdown",
   "id": "b9c1bfe7",
   "metadata": {},
   "source": [
    "- В ходе работы был изучен набор данных, содержащий 10000 строк и 14 столбцов. В результате подготовки данных были заполнены пропуски, дубликатов не обнаружено. Названия столбцов приведены к нижнему регистру, ненужные для настоящего исследования столбцы были удалены. Категориальные признаки обработаны техникой One-Hot Encoding;\n",
    "- Данные были разбиты на три выборки в отношении 3:1:1 - на обучающую, валидационную и тестовую соответственно. Размер обучающей выборки составляет 6000 строк, а валидационной и тестовой - по 2000 строки каждая. Для того, чтобы алгоритмам было легче обучать модели,  признаки были приведены к одному масштабу;\n",
    "- В ходе исследования проверялось качество моделей трех типов: решающее дерево, случайный лес и логистическая регрессия. Гиперпараметры для моделей перебирались в цикле, чтобы найти среди них наиболее качественную. В результате обучения моделей на несбалансированной выборке получить модель с f1-score не менее 0.59 не удалось. \n",
    "- Для улучшения качества моделей были применены три способа борьбы с дисбалансом классов: взвешивание классов, увеличение и уменьшение выборки. \n",
    "- В ходе исследования качества моделей на сбалансированных выборках, достичь f1-score не менее 0.59 удалось нескольким моделям: Decision Tree Downsampled (F1-мера равна 0.6), Random Forest Balanced (F1-мера равна 0.61), Random Forest Upsampled (F1-мера равна 0.62), Random Forest Downsampled (F1-мера равна 0.615)\n",
    "- Модели с самыми высокими показателями были проверены на тестовой выборке. По итогам финального тестирования наиболее качественной моделью стала Random Forest Balanced (модель случайного леса с примененным параметром class_weight = 'balanced'): f1-score = 0.615, auc-roc = 0.85 "
   ]
  },
  {
   "cell_type": "markdown",
   "id": "906384b2",
   "metadata": {},
   "source": [
    "Таким образом, мы получили модель машинного обучения, которая способна решить поставленную задачу классификации с помощью предоставленных исторических данных о поведении клиентов и расторжении договоров с банком. Теперь эту модель можно применять для того, чтобы спрогнозировать, уйдёт клиент из банка в ближайшее время или нет."
   ]
  }
 ],
 "metadata": {
  "ExecuteTimeLog": [
   {
    "duration": 1938,
    "start_time": "2023-07-26T20:17:17.780Z"
   },
   {
    "duration": 143,
    "start_time": "2023-07-26T20:17:51.466Z"
   },
   {
    "duration": 26,
    "start_time": "2023-07-26T20:18:18.404Z"
   },
   {
    "duration": 5,
    "start_time": "2023-07-26T20:18:18.608Z"
   },
   {
    "duration": 17,
    "start_time": "2023-07-26T20:18:23.572Z"
   },
   {
    "duration": 13,
    "start_time": "2023-07-26T20:18:25.442Z"
   },
   {
    "duration": 4,
    "start_time": "2023-07-26T20:18:34.434Z"
   },
   {
    "duration": 5,
    "start_time": "2023-07-26T20:18:35.398Z"
   },
   {
    "duration": 13,
    "start_time": "2023-07-26T20:18:57.564Z"
   },
   {
    "duration": 4,
    "start_time": "2023-07-26T20:19:00.712Z"
   },
   {
    "duration": 13,
    "start_time": "2023-07-26T20:41:49.409Z"
   },
   {
    "duration": 1622,
    "start_time": "2023-07-26T20:43:35.293Z"
   },
   {
    "duration": 107,
    "start_time": "2023-07-26T20:43:36.916Z"
   },
   {
    "duration": 28,
    "start_time": "2023-07-26T20:43:37.025Z"
   },
   {
    "duration": 5,
    "start_time": "2023-07-26T20:43:37.055Z"
   },
   {
    "duration": 14,
    "start_time": "2023-07-26T20:43:37.061Z"
   },
   {
    "duration": 13,
    "start_time": "2023-07-26T20:43:37.077Z"
   },
   {
    "duration": 6,
    "start_time": "2023-07-26T20:43:37.092Z"
   },
   {
    "duration": 12,
    "start_time": "2023-07-26T20:43:37.100Z"
   },
   {
    "duration": 12,
    "start_time": "2023-07-26T20:43:37.407Z"
   },
   {
    "duration": 5,
    "start_time": "2023-07-26T20:43:37.764Z"
   },
   {
    "duration": 43,
    "start_time": "2023-07-26T20:44:08.760Z"
   },
   {
    "duration": 16,
    "start_time": "2023-07-26T20:44:47.058Z"
   },
   {
    "duration": 16,
    "start_time": "2023-07-26T20:44:47.787Z"
   },
   {
    "duration": 16,
    "start_time": "2023-07-26T20:44:48.917Z"
   },
   {
    "duration": 6,
    "start_time": "2023-07-26T20:44:53.566Z"
   },
   {
    "duration": 7,
    "start_time": "2023-07-26T20:44:54.592Z"
   },
   {
    "duration": 7,
    "start_time": "2023-07-26T20:44:55.029Z"
   },
   {
    "duration": 6,
    "start_time": "2023-07-26T20:46:08.939Z"
   },
   {
    "duration": 15,
    "start_time": "2023-07-26T20:46:09.326Z"
   },
   {
    "duration": 23,
    "start_time": "2023-07-26T20:46:11.853Z"
   }
  ],
  "kernelspec": {
   "display_name": "Python 3 (ipykernel)",
   "language": "python",
   "name": "python3"
  },
  "language_info": {
   "codemirror_mode": {
    "name": "ipython",
    "version": 3
   },
   "file_extension": ".py",
   "mimetype": "text/x-python",
   "name": "python",
   "nbconvert_exporter": "python",
   "pygments_lexer": "ipython3",
   "version": "3.10.9"
  },
  "toc": {
   "base_numbering": 1,
   "nav_menu": {},
   "number_sections": true,
   "sideBar": true,
   "skip_h1_title": true,
   "title_cell": "Table of Contents",
   "title_sidebar": "Contents",
   "toc_cell": false,
   "toc_position": {},
   "toc_section_display": true,
   "toc_window_display": false
  }
 },
 "nbformat": 4,
 "nbformat_minor": 5
}
