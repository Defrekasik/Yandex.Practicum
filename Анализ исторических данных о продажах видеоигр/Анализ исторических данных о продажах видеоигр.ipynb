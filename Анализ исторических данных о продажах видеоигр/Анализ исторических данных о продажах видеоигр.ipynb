{
 "cells": [
  {
   "cell_type": "markdown",
   "id": "e05c8d45",
   "metadata": {},
   "source": [
    "# Анализ исторических данных о продажах видеоигр"
   ]
  },
  {
   "cell_type": "markdown",
   "id": "4c79a311",
   "metadata": {},
   "source": [
    "### Цель проекта: выявить определяющие успешность игры закономерности."
   ]
  },
  {
   "cell_type": "markdown",
   "id": "8467381b",
   "metadata": {},
   "source": [
    "### Описание проекта:"
   ]
  },
  {
   "cell_type": "markdown",
   "id": "334f293c",
   "metadata": {},
   "source": [
    "Из открытых источников доступны исторические данные о продажах игр, оценки пользователей и экспертов, жанры и платформы (например, Xbox или PlayStation). В выборке представлены данные до 2016 года, которые содержат информацию\n",
    "- об играх (наименование, платформа, год выпуска, жанр); \n",
    "- их продажах (в млн копий) в различных регионах: Северной Америке, Европе, Японии, а также в остальной части мира;\n",
    "- об их оценке от критиков, от игроков, а также рейтинг от организации ESRB."
   ]
  },
  {
   "cell_type": "markdown",
   "id": "dfa35271",
   "metadata": {},
   "source": [
    "Необходимо изучить эти данные, подготовить их к анализу, подсчитать суммарные продажи во всех регионах, провести исследовательский анализ и проверить следующие гипотезы:\n",
    "\n",
    "- Средние пользовательские рейтинги платформ Xbox One и PC одинаковые;\n",
    "- Средние пользовательские рейтинги жанров Action и Sports разные."
   ]
  },
  {
   "cell_type": "markdown",
   "id": "de7ca63e",
   "metadata": {},
   "source": [
    "### План работы:"
   ]
  },
  {
   "cell_type": "markdown",
   "id": "5b3e8535",
   "metadata": {},
   "source": [
    "1. Загрузка датасета, получение информации о наборе исходных данных.\n",
    "2. Предобработка данных: устранение недостатков в данных, добавление столбца, содержащего суммарные значения продаж видеоигр во всех регионах.\n",
    "3. Исследовательский анализ данных:\n",
    "    - Сколько игр выпускалось в разные годы;\n",
    "    - Как менялись продажи по платформам;\n",
    "4. Исследование данных за актуальный период:\n",
    "    - Какие платформы лидируют по продажам, какие растут, какие падают;\n",
    "    - Построение и анализ графика «ящик с усами» по глобальным продажам игр в разбивке по платформам;\n",
    "    - Как влияют на продажи внутри одной популярной платформы отзывы пользователей и критиков;\n",
    "    - Общее распределение игр по жанрам;\n",
    "5. Портрет пользователя каждого региона (самые популярные платформы, жанры, влияние рейтинга ESRB на продажи в каждом регионе).\n",
    "6. Проверка гипотез.\n",
    "7. Итоговый вывод."
   ]
  },
  {
   "cell_type": "code",
   "execution_count": 1,
   "id": "1b883957",
   "metadata": {},
   "outputs": [],
   "source": [
    "# Импортируем необхоодимые библиотеки\n",
    "\n",
    "import pandas as pd\n",
    "import matplotlib.pyplot as plt\n",
    "import seaborn as sns\n",
    "import numpy as np\n",
    "from scipy import stats as st"
   ]
  },
  {
   "cell_type": "markdown",
   "id": "f1bc75a5",
   "metadata": {},
   "source": [
    "### Шаг 1. Загрузка данных и изучение общей информации о них"
   ]
  },
  {
   "cell_type": "code",
   "execution_count": 2,
   "id": "fe197f7f",
   "metadata": {},
   "outputs": [],
   "source": [
    "# Загружаем данные из файла в датафрейм\n",
    "\n",
    "try:    \n",
    "    data = pd.read_csv('Downloads/games.csv')\n",
    "    \n",
    "except:\n",
    "    data = pd.read_csv('https://code.s3.yandex.net/datasets/games.csv')"
   ]
  },
  {
   "cell_type": "code",
   "execution_count": 3,
   "id": "d58dd826",
   "metadata": {
    "scrolled": false
   },
   "outputs": [
    {
     "name": "stdout",
     "output_type": "stream",
     "text": [
      "<class 'pandas.core.frame.DataFrame'>\n",
      "RangeIndex: 16715 entries, 0 to 16714\n",
      "Data columns (total 11 columns):\n",
      " #   Column           Non-Null Count  Dtype  \n",
      "---  ------           --------------  -----  \n",
      " 0   Name             16713 non-null  object \n",
      " 1   Platform         16715 non-null  object \n",
      " 2   Year_of_Release  16446 non-null  float64\n",
      " 3   Genre            16713 non-null  object \n",
      " 4   NA_sales         16715 non-null  float64\n",
      " 5   EU_sales         16715 non-null  float64\n",
      " 6   JP_sales         16715 non-null  float64\n",
      " 7   Other_sales      16715 non-null  float64\n",
      " 8   Critic_Score     8137 non-null   float64\n",
      " 9   User_Score       10014 non-null  object \n",
      " 10  Rating           9949 non-null   object \n",
      "dtypes: float64(6), object(5)\n",
      "memory usage: 1.4+ MB\n"
     ]
    },
    {
     "data": {
      "text/plain": [
       "None"
      ]
     },
     "metadata": {},
     "output_type": "display_data"
    },
    {
     "data": {
      "text/html": [
       "<div>\n",
       "<style scoped>\n",
       "    .dataframe tbody tr th:only-of-type {\n",
       "        vertical-align: middle;\n",
       "    }\n",
       "\n",
       "    .dataframe tbody tr th {\n",
       "        vertical-align: top;\n",
       "    }\n",
       "\n",
       "    .dataframe thead th {\n",
       "        text-align: right;\n",
       "    }\n",
       "</style>\n",
       "<table border=\"1\" class=\"dataframe\">\n",
       "  <thead>\n",
       "    <tr style=\"text-align: right;\">\n",
       "      <th></th>\n",
       "      <th>Name</th>\n",
       "      <th>Platform</th>\n",
       "      <th>Year_of_Release</th>\n",
       "      <th>Genre</th>\n",
       "      <th>NA_sales</th>\n",
       "      <th>EU_sales</th>\n",
       "      <th>JP_sales</th>\n",
       "      <th>Other_sales</th>\n",
       "      <th>Critic_Score</th>\n",
       "      <th>User_Score</th>\n",
       "      <th>Rating</th>\n",
       "    </tr>\n",
       "  </thead>\n",
       "  <tbody>\n",
       "    <tr>\n",
       "      <th>0</th>\n",
       "      <td>Wii Sports</td>\n",
       "      <td>Wii</td>\n",
       "      <td>2006.0</td>\n",
       "      <td>Sports</td>\n",
       "      <td>41.36</td>\n",
       "      <td>28.96</td>\n",
       "      <td>3.77</td>\n",
       "      <td>8.45</td>\n",
       "      <td>76.0</td>\n",
       "      <td>8</td>\n",
       "      <td>E</td>\n",
       "    </tr>\n",
       "    <tr>\n",
       "      <th>1</th>\n",
       "      <td>Super Mario Bros.</td>\n",
       "      <td>NES</td>\n",
       "      <td>1985.0</td>\n",
       "      <td>Platform</td>\n",
       "      <td>29.08</td>\n",
       "      <td>3.58</td>\n",
       "      <td>6.81</td>\n",
       "      <td>0.77</td>\n",
       "      <td>NaN</td>\n",
       "      <td>NaN</td>\n",
       "      <td>NaN</td>\n",
       "    </tr>\n",
       "    <tr>\n",
       "      <th>2</th>\n",
       "      <td>Mario Kart Wii</td>\n",
       "      <td>Wii</td>\n",
       "      <td>2008.0</td>\n",
       "      <td>Racing</td>\n",
       "      <td>15.68</td>\n",
       "      <td>12.76</td>\n",
       "      <td>3.79</td>\n",
       "      <td>3.29</td>\n",
       "      <td>82.0</td>\n",
       "      <td>8.3</td>\n",
       "      <td>E</td>\n",
       "    </tr>\n",
       "    <tr>\n",
       "      <th>3</th>\n",
       "      <td>Wii Sports Resort</td>\n",
       "      <td>Wii</td>\n",
       "      <td>2009.0</td>\n",
       "      <td>Sports</td>\n",
       "      <td>15.61</td>\n",
       "      <td>10.93</td>\n",
       "      <td>3.28</td>\n",
       "      <td>2.95</td>\n",
       "      <td>80.0</td>\n",
       "      <td>8</td>\n",
       "      <td>E</td>\n",
       "    </tr>\n",
       "    <tr>\n",
       "      <th>4</th>\n",
       "      <td>Pokemon Red/Pokemon Blue</td>\n",
       "      <td>GB</td>\n",
       "      <td>1996.0</td>\n",
       "      <td>Role-Playing</td>\n",
       "      <td>11.27</td>\n",
       "      <td>8.89</td>\n",
       "      <td>10.22</td>\n",
       "      <td>1.00</td>\n",
       "      <td>NaN</td>\n",
       "      <td>NaN</td>\n",
       "      <td>NaN</td>\n",
       "    </tr>\n",
       "  </tbody>\n",
       "</table>\n",
       "</div>"
      ],
      "text/plain": [
       "                       Name Platform  Year_of_Release         Genre  NA_sales  \\\n",
       "0                Wii Sports      Wii           2006.0        Sports     41.36   \n",
       "1         Super Mario Bros.      NES           1985.0      Platform     29.08   \n",
       "2            Mario Kart Wii      Wii           2008.0        Racing     15.68   \n",
       "3         Wii Sports Resort      Wii           2009.0        Sports     15.61   \n",
       "4  Pokemon Red/Pokemon Blue       GB           1996.0  Role-Playing     11.27   \n",
       "\n",
       "   EU_sales  JP_sales  Other_sales  Critic_Score User_Score Rating  \n",
       "0     28.96      3.77         8.45          76.0          8      E  \n",
       "1      3.58      6.81         0.77           NaN        NaN    NaN  \n",
       "2     12.76      3.79         3.29          82.0        8.3      E  \n",
       "3     10.93      3.28         2.95          80.0          8      E  \n",
       "4      8.89     10.22         1.00           NaN        NaN    NaN  "
      ]
     },
     "execution_count": 3,
     "metadata": {},
     "output_type": "execute_result"
    }
   ],
   "source": [
    "# Изучаем общую информацию о датасете\n",
    "\n",
    "display(data.info())\n",
    "data.head()"
   ]
  },
  {
   "cell_type": "code",
   "execution_count": 4,
   "id": "0f2ee687",
   "metadata": {},
   "outputs": [
    {
     "name": "stdout",
     "output_type": "stream",
     "text": [
      "Всего явных дубликатов: 0\n"
     ]
    },
    {
     "data": {
      "text/plain": [
       "Name                  2\n",
       "Platform              0\n",
       "Year_of_Release     269\n",
       "Genre                 2\n",
       "NA_sales              0\n",
       "EU_sales              0\n",
       "JP_sales              0\n",
       "Other_sales           0\n",
       "Critic_Score       8578\n",
       "User_Score         6701\n",
       "Rating             6766\n",
       "dtype: int64"
      ]
     },
     "execution_count": 4,
     "metadata": {},
     "output_type": "execute_result"
    }
   ],
   "source": [
    "# Проверяем данные на наличие пропусков и явных дубликатов\n",
    "\n",
    "print('Всего явных дубликатов:', data.duplicated().sum())\n",
    "data.isna().sum()"
   ]
  },
  {
   "cell_type": "markdown",
   "id": "f02cb9e6",
   "metadata": {},
   "source": [
    "###### Вывод:"
   ]
  },
  {
   "cell_type": "markdown",
   "id": "3b43e1cd",
   "metadata": {},
   "source": [
    "- В наборе данных 16715 строк, 11 столбцов. Есть пропуски, явные дубликаты отсутствуют. \n",
    "- Тип данных в некоторых столбцах (год выпуска, оценка пользователей) стоит изменить.\n",
    "- Необходимо привести названия столбцов датасета к нижнему регистру"
   ]
  },
  {
   "cell_type": "markdown",
   "id": "1b9b2f58",
   "metadata": {},
   "source": [
    "### Шаг 2. Предобработка данных"
   ]
  },
  {
   "cell_type": "code",
   "execution_count": 5,
   "id": "d9af1ffd",
   "metadata": {},
   "outputs": [
    {
     "data": {
      "text/html": [
       "<div>\n",
       "<style scoped>\n",
       "    .dataframe tbody tr th:only-of-type {\n",
       "        vertical-align: middle;\n",
       "    }\n",
       "\n",
       "    .dataframe tbody tr th {\n",
       "        vertical-align: top;\n",
       "    }\n",
       "\n",
       "    .dataframe thead th {\n",
       "        text-align: right;\n",
       "    }\n",
       "</style>\n",
       "<table border=\"1\" class=\"dataframe\">\n",
       "  <thead>\n",
       "    <tr style=\"text-align: right;\">\n",
       "      <th></th>\n",
       "      <th>name</th>\n",
       "      <th>platform</th>\n",
       "      <th>year_of_release</th>\n",
       "      <th>genre</th>\n",
       "      <th>na_sales</th>\n",
       "      <th>eu_sales</th>\n",
       "      <th>jp_sales</th>\n",
       "      <th>other_sales</th>\n",
       "      <th>critic_score</th>\n",
       "      <th>user_score</th>\n",
       "      <th>rating</th>\n",
       "    </tr>\n",
       "  </thead>\n",
       "  <tbody>\n",
       "    <tr>\n",
       "      <th>0</th>\n",
       "      <td>Wii Sports</td>\n",
       "      <td>Wii</td>\n",
       "      <td>2006.0</td>\n",
       "      <td>Sports</td>\n",
       "      <td>41.36</td>\n",
       "      <td>28.96</td>\n",
       "      <td>3.77</td>\n",
       "      <td>8.45</td>\n",
       "      <td>76.0</td>\n",
       "      <td>8</td>\n",
       "      <td>E</td>\n",
       "    </tr>\n",
       "    <tr>\n",
       "      <th>1</th>\n",
       "      <td>Super Mario Bros.</td>\n",
       "      <td>NES</td>\n",
       "      <td>1985.0</td>\n",
       "      <td>Platform</td>\n",
       "      <td>29.08</td>\n",
       "      <td>3.58</td>\n",
       "      <td>6.81</td>\n",
       "      <td>0.77</td>\n",
       "      <td>NaN</td>\n",
       "      <td>NaN</td>\n",
       "      <td>NaN</td>\n",
       "    </tr>\n",
       "    <tr>\n",
       "      <th>2</th>\n",
       "      <td>Mario Kart Wii</td>\n",
       "      <td>Wii</td>\n",
       "      <td>2008.0</td>\n",
       "      <td>Racing</td>\n",
       "      <td>15.68</td>\n",
       "      <td>12.76</td>\n",
       "      <td>3.79</td>\n",
       "      <td>3.29</td>\n",
       "      <td>82.0</td>\n",
       "      <td>8.3</td>\n",
       "      <td>E</td>\n",
       "    </tr>\n",
       "    <tr>\n",
       "      <th>3</th>\n",
       "      <td>Wii Sports Resort</td>\n",
       "      <td>Wii</td>\n",
       "      <td>2009.0</td>\n",
       "      <td>Sports</td>\n",
       "      <td>15.61</td>\n",
       "      <td>10.93</td>\n",
       "      <td>3.28</td>\n",
       "      <td>2.95</td>\n",
       "      <td>80.0</td>\n",
       "      <td>8</td>\n",
       "      <td>E</td>\n",
       "    </tr>\n",
       "    <tr>\n",
       "      <th>4</th>\n",
       "      <td>Pokemon Red/Pokemon Blue</td>\n",
       "      <td>GB</td>\n",
       "      <td>1996.0</td>\n",
       "      <td>Role-Playing</td>\n",
       "      <td>11.27</td>\n",
       "      <td>8.89</td>\n",
       "      <td>10.22</td>\n",
       "      <td>1.00</td>\n",
       "      <td>NaN</td>\n",
       "      <td>NaN</td>\n",
       "      <td>NaN</td>\n",
       "    </tr>\n",
       "  </tbody>\n",
       "</table>\n",
       "</div>"
      ],
      "text/plain": [
       "                       name platform  year_of_release         genre  na_sales  \\\n",
       "0                Wii Sports      Wii           2006.0        Sports     41.36   \n",
       "1         Super Mario Bros.      NES           1985.0      Platform     29.08   \n",
       "2            Mario Kart Wii      Wii           2008.0        Racing     15.68   \n",
       "3         Wii Sports Resort      Wii           2009.0        Sports     15.61   \n",
       "4  Pokemon Red/Pokemon Blue       GB           1996.0  Role-Playing     11.27   \n",
       "\n",
       "   eu_sales  jp_sales  other_sales  critic_score user_score rating  \n",
       "0     28.96      3.77         8.45          76.0          8      E  \n",
       "1      3.58      6.81         0.77           NaN        NaN    NaN  \n",
       "2     12.76      3.79         3.29          82.0        8.3      E  \n",
       "3     10.93      3.28         2.95          80.0          8      E  \n",
       "4      8.89     10.22         1.00           NaN        NaN    NaN  "
      ]
     },
     "execution_count": 5,
     "metadata": {},
     "output_type": "execute_result"
    }
   ],
   "source": [
    "# Приведем названия столбцов к нижнему регистру\n",
    "\n",
    "data.columns = data.columns.str.lower()\n",
    "data.head()"
   ]
  },
  {
   "cell_type": "code",
   "execution_count": 6,
   "id": "646a78eb",
   "metadata": {},
   "outputs": [],
   "source": [
    "# Строки, в которых пропущенно название игры, стоит удалить. Их всего две\n",
    "\n",
    "data = data.dropna(subset = ['name'])"
   ]
  },
  {
   "cell_type": "code",
   "execution_count": 7,
   "id": "77b351d5",
   "metadata": {},
   "outputs": [
    {
     "name": "stdout",
     "output_type": "stream",
     "text": [
      "Всего пропусков: 269\n",
      "Доля пропусков от всего объема данных: 1.61 %\n"
     ]
    }
   ],
   "source": [
    "# Обработаем пропуски в столбце 'year_of_release'\n",
    "\n",
    "print('Всего пропусков:', data['year_of_release'].isna().sum())\n",
    "print('Доля пропусков от всего объема данных:', np.round(100 * (data['year_of_release'].isna().sum() / len(data['year_of_release'])), 2), '%')"
   ]
  },
  {
   "cell_type": "code",
   "execution_count": 8,
   "id": "3c79caf7",
   "metadata": {},
   "outputs": [],
   "source": [
    "# Так как доля строк с пропущенными значениями в столбце с годом релиза составляет менее двух процентов, их можно удалить\n",
    "\n",
    "data = data.dropna(subset = ['year_of_release'])"
   ]
  },
  {
   "cell_type": "code",
   "execution_count": 9,
   "id": "43d97613",
   "metadata": {},
   "outputs": [],
   "source": [
    "# Меняем тип данных столбца 'year_of_release' на целочисленный\n",
    "\n",
    "data['year_of_release'] = data['year_of_release'].astype(int)"
   ]
  },
  {
   "cell_type": "code",
   "execution_count": 10,
   "id": "1bae0e38",
   "metadata": {},
   "outputs": [
    {
     "name": "stdout",
     "output_type": "stream",
     "text": [
      "Всего пропусков: 8461\n",
      "Доля пропусков от всего объема данных 51.45 %\n"
     ]
    },
    {
     "data": {
      "text/plain": [
       "array([76., nan, 82., 80., 89., 58., 87., 91., 61., 97., 95., 77., 88.,\n",
       "       83., 94., 93., 85., 86., 98., 96., 90., 84., 73., 74., 78., 92.,\n",
       "       71., 72., 68., 62., 49., 67., 81., 66., 56., 79., 70., 59., 64.,\n",
       "       75., 60., 63., 69., 50., 25., 42., 44., 55., 48., 57., 29., 47.,\n",
       "       65., 54., 20., 53., 37., 38., 33., 52., 30., 32., 43., 45., 51.,\n",
       "       40., 46., 39., 34., 41., 36., 31., 27., 35., 26., 19., 28., 23.,\n",
       "       24., 21., 17., 13.])"
      ]
     },
     "execution_count": 10,
     "metadata": {},
     "output_type": "execute_result"
    }
   ],
   "source": [
    "# Обработаем пропуски в столбце 'critic_score'\n",
    "\n",
    "print('Всего пропусков:', data['critic_score'].isna().sum())\n",
    "print('Доля пропусков от всего объема данных', np.round(100 * (data['critic_score'].isna().sum() / len(data['critic_score'])), 2) ,'%')\n",
    "data['critic_score'].unique()"
   ]
  },
  {
   "cell_type": "code",
   "execution_count": 11,
   "id": "af581eaf",
   "metadata": {},
   "outputs": [],
   "source": [
    "# Пропущенных значений слишком много, удалять их нельзя, \n",
    "# поэтому стоит заполнить пропуски отрицательным числом, чтобы привести значения столбца к целочисленному типу данных\n",
    "\n",
    "data['critic_score'] = data['critic_score'].fillna(-1)\n",
    "data['critic_score'] = data['critic_score'].astype(int)"
   ]
  },
  {
   "cell_type": "code",
   "execution_count": 12,
   "id": "834481cc",
   "metadata": {},
   "outputs": [
    {
     "name": "stdout",
     "output_type": "stream",
     "text": [
      "Всего пропусков: 6605\n",
      "Доля пропусков от всего объема данных 40.17 %\n"
     ]
    },
    {
     "data": {
      "text/plain": [
       "array(['8', nan, '8.3', '8.5', '6.6', '8.4', '8.6', '7.7', '6.3', '7.4',\n",
       "       '8.2', '9', '7.9', '8.1', '8.7', '7.1', '3.4', '5.3', '4.8', '3.2',\n",
       "       '8.9', '6.4', '7.8', '7.5', '2.6', '7.2', '9.2', '7', '7.3', '4.3',\n",
       "       '7.6', '5.7', '5', '9.1', '6.5', 'tbd', '8.8', '6.9', '9.4', '6.8',\n",
       "       '6.1', '6.7', '5.4', '4', '4.9', '4.5', '9.3', '6.2', '4.2', '6',\n",
       "       '3.7', '4.1', '5.8', '5.6', '5.5', '4.4', '4.6', '5.9', '3.9',\n",
       "       '3.1', '2.9', '5.2', '3.3', '4.7', '5.1', '3.5', '2.5', '1.9', '3',\n",
       "       '2.7', '2.2', '2', '9.5', '2.1', '3.6', '2.8', '1.8', '3.8', '0',\n",
       "       '1.6', '9.6', '2.4', '1.7', '1.1', '0.3', '1.5', '0.7', '1.2',\n",
       "       '2.3', '0.5', '1.3', '0.2', '0.6', '1.4', '0.9', '1', '9.7'],\n",
       "      dtype=object)"
      ]
     },
     "execution_count": 12,
     "metadata": {},
     "output_type": "execute_result"
    }
   ],
   "source": [
    "# Обработаем пропуски в столбце 'user_score'\n",
    "\n",
    "print('Всего пропусков:', data['user_score'].isna().sum())\n",
    "print('Доля пропусков от всего объема данных', np.round(100 * (data['user_score'].isna().sum() / len(data['user_score'])), 2) ,'%')\n",
    "data['user_score'].unique()"
   ]
  },
  {
   "cell_type": "code",
   "execution_count": 13,
   "id": "919987a9",
   "metadata": {},
   "outputs": [
    {
     "data": {
      "text/html": [
       "<div>\n",
       "<style scoped>\n",
       "    .dataframe tbody tr th:only-of-type {\n",
       "        vertical-align: middle;\n",
       "    }\n",
       "\n",
       "    .dataframe tbody tr th {\n",
       "        vertical-align: top;\n",
       "    }\n",
       "\n",
       "    .dataframe thead th {\n",
       "        text-align: right;\n",
       "    }\n",
       "</style>\n",
       "<table border=\"1\" class=\"dataframe\">\n",
       "  <thead>\n",
       "    <tr style=\"text-align: right;\">\n",
       "      <th></th>\n",
       "      <th>name</th>\n",
       "      <th>platform</th>\n",
       "      <th>year_of_release</th>\n",
       "      <th>genre</th>\n",
       "      <th>na_sales</th>\n",
       "      <th>eu_sales</th>\n",
       "      <th>jp_sales</th>\n",
       "      <th>other_sales</th>\n",
       "      <th>critic_score</th>\n",
       "      <th>user_score</th>\n",
       "      <th>rating</th>\n",
       "    </tr>\n",
       "  </thead>\n",
       "  <tbody>\n",
       "    <tr>\n",
       "      <th>119</th>\n",
       "      <td>Zumba Fitness</td>\n",
       "      <td>Wii</td>\n",
       "      <td>2010</td>\n",
       "      <td>Sports</td>\n",
       "      <td>3.45</td>\n",
       "      <td>2.59</td>\n",
       "      <td>0.0</td>\n",
       "      <td>0.66</td>\n",
       "      <td>-1</td>\n",
       "      <td>tbd</td>\n",
       "      <td>E</td>\n",
       "    </tr>\n",
       "    <tr>\n",
       "      <th>301</th>\n",
       "      <td>Namco Museum: 50th Anniversary</td>\n",
       "      <td>PS2</td>\n",
       "      <td>2005</td>\n",
       "      <td>Misc</td>\n",
       "      <td>2.08</td>\n",
       "      <td>1.35</td>\n",
       "      <td>0.0</td>\n",
       "      <td>0.54</td>\n",
       "      <td>61</td>\n",
       "      <td>tbd</td>\n",
       "      <td>E10+</td>\n",
       "    </tr>\n",
       "    <tr>\n",
       "      <th>520</th>\n",
       "      <td>Zumba Fitness 2</td>\n",
       "      <td>Wii</td>\n",
       "      <td>2011</td>\n",
       "      <td>Sports</td>\n",
       "      <td>1.51</td>\n",
       "      <td>1.03</td>\n",
       "      <td>0.0</td>\n",
       "      <td>0.27</td>\n",
       "      <td>-1</td>\n",
       "      <td>tbd</td>\n",
       "      <td>T</td>\n",
       "    </tr>\n",
       "    <tr>\n",
       "      <th>645</th>\n",
       "      <td>uDraw Studio</td>\n",
       "      <td>Wii</td>\n",
       "      <td>2010</td>\n",
       "      <td>Misc</td>\n",
       "      <td>1.65</td>\n",
       "      <td>0.57</td>\n",
       "      <td>0.0</td>\n",
       "      <td>0.20</td>\n",
       "      <td>71</td>\n",
       "      <td>tbd</td>\n",
       "      <td>E</td>\n",
       "    </tr>\n",
       "    <tr>\n",
       "      <th>718</th>\n",
       "      <td>Just Dance Kids</td>\n",
       "      <td>Wii</td>\n",
       "      <td>2010</td>\n",
       "      <td>Misc</td>\n",
       "      <td>1.52</td>\n",
       "      <td>0.54</td>\n",
       "      <td>0.0</td>\n",
       "      <td>0.18</td>\n",
       "      <td>-1</td>\n",
       "      <td>tbd</td>\n",
       "      <td>E</td>\n",
       "    </tr>\n",
       "  </tbody>\n",
       "</table>\n",
       "</div>"
      ],
      "text/plain": [
       "                               name platform  year_of_release   genre  \\\n",
       "119                   Zumba Fitness      Wii             2010  Sports   \n",
       "301  Namco Museum: 50th Anniversary      PS2             2005    Misc   \n",
       "520                 Zumba Fitness 2      Wii             2011  Sports   \n",
       "645                    uDraw Studio      Wii             2010    Misc   \n",
       "718                 Just Dance Kids      Wii             2010    Misc   \n",
       "\n",
       "     na_sales  eu_sales  jp_sales  other_sales  critic_score user_score rating  \n",
       "119      3.45      2.59       0.0         0.66            -1        tbd      E  \n",
       "301      2.08      1.35       0.0         0.54            61        tbd   E10+  \n",
       "520      1.51      1.03       0.0         0.27            -1        tbd      T  \n",
       "645      1.65      0.57       0.0         0.20            71        tbd      E  \n",
       "718      1.52      0.54       0.0         0.18            -1        tbd      E  "
      ]
     },
     "execution_count": 13,
     "metadata": {},
     "output_type": "execute_result"
    }
   ],
   "source": [
    "# Изучим строки, содержащие значение'tbd' в столбце с оценкой пользователей\n",
    "\n",
    "data[data['user_score'] == 'tbd'].head()"
   ]
  },
  {
   "cell_type": "markdown",
   "id": "1972ecc9",
   "metadata": {},
   "source": [
    "Аббревиатура 'tbd' расшифровывается как \"To Be Determined\", то есть \"Будет определено\". Она означает, что информация по данному вопросу еще не собрана, или результат пока неизвестен. Отсюда следует, что значения 'tbd' можно считать как пропущенные. "
   ]
  },
  {
   "cell_type": "code",
   "execution_count": 14,
   "id": "e25d5c05",
   "metadata": {},
   "outputs": [
    {
     "data": {
      "text/plain": [
       "count    16444.000000\n",
       "mean         2.688081\n",
       "std          4.170124\n",
       "min         -1.000000\n",
       "25%         -1.000000\n",
       "50%         -1.000000\n",
       "75%          7.300000\n",
       "max          9.700000\n",
       "Name: user_score, dtype: float64"
      ]
     },
     "execution_count": 14,
     "metadata": {},
     "output_type": "execute_result"
    }
   ],
   "source": [
    "# По аналогии с обработкой пропусков столбца 'critic_score' \n",
    "# заполним пропуски отрицательным числом, чтобы привести значения столбца к вещественному типу данных\n",
    "\n",
    "data['user_score'] = data['user_score'].replace('tbd', np.NaN)\n",
    "data['user_score'] = data['user_score'].fillna(-1)\n",
    "data['user_score'] = data['user_score'].astype(float)\n",
    "data['user_score'].describe()"
   ]
  },
  {
   "cell_type": "code",
   "execution_count": 15,
   "id": "8d120f42",
   "metadata": {},
   "outputs": [
    {
     "data": {
      "text/plain": [
       "array(['E', nan, 'M', 'T', 'E10+', 'K-A', 'AO', 'EC', 'RP'], dtype=object)"
      ]
     },
     "metadata": {},
     "output_type": "display_data"
    },
    {
     "data": {
      "text/plain": [
       "E       3921\n",
       "T       2905\n",
       "M       1536\n",
       "E10+    1393\n",
       "EC         8\n",
       "K-A        3\n",
       "RP         1\n",
       "AO         1\n",
       "Name: rating, dtype: int64"
      ]
     },
     "metadata": {},
     "output_type": "display_data"
    }
   ],
   "source": [
    "# Изучим пропуски в столбце 'rating'\n",
    "\n",
    "display(data['rating'].unique())\n",
    "display(data['rating'].value_counts())"
   ]
  },
  {
   "cell_type": "markdown",
   "id": "58867d35",
   "metadata": {},
   "source": [
    "Описание знаков рейтинга:\n",
    "- Е - Для всех\n",
    "- Т - Подросткам\n",
    "- М - Для взрослых\n",
    "- Е10+ - Для всех от 10 лет и старше\n",
    "- ЕС - Для детей младшего возраста\n",
    "- К-А - Для детей и взрослых\n",
    "- АО - Только для взрослых\n",
    "- RP - Рейтинг ожидается"
   ]
  },
  {
   "cell_type": "code",
   "execution_count": 16,
   "id": "14a1dbaf",
   "metadata": {},
   "outputs": [],
   "source": [
    "# Заполним пропуски значением Unknown\n",
    "\n",
    "data['rating'] = data['rating'].fillna('Unknown')"
   ]
  },
  {
   "cell_type": "code",
   "execution_count": 17,
   "id": "5fc1583d",
   "metadata": {},
   "outputs": [
    {
     "data": {
      "text/html": [
       "<div>\n",
       "<style scoped>\n",
       "    .dataframe tbody tr th:only-of-type {\n",
       "        vertical-align: middle;\n",
       "    }\n",
       "\n",
       "    .dataframe tbody tr th {\n",
       "        vertical-align: top;\n",
       "    }\n",
       "\n",
       "    .dataframe thead th {\n",
       "        text-align: right;\n",
       "    }\n",
       "</style>\n",
       "<table border=\"1\" class=\"dataframe\">\n",
       "  <thead>\n",
       "    <tr style=\"text-align: right;\">\n",
       "      <th></th>\n",
       "      <th>name</th>\n",
       "      <th>platform</th>\n",
       "      <th>year_of_release</th>\n",
       "      <th>genre</th>\n",
       "      <th>na_sales</th>\n",
       "      <th>eu_sales</th>\n",
       "      <th>jp_sales</th>\n",
       "      <th>other_sales</th>\n",
       "      <th>critic_score</th>\n",
       "      <th>user_score</th>\n",
       "      <th>rating</th>\n",
       "    </tr>\n",
       "  </thead>\n",
       "  <tbody>\n",
       "    <tr>\n",
       "      <th>14270</th>\n",
       "      <td>Supreme Ruler: Cold War</td>\n",
       "      <td>PC</td>\n",
       "      <td>2011</td>\n",
       "      <td>Strategy</td>\n",
       "      <td>0.0</td>\n",
       "      <td>0.03</td>\n",
       "      <td>0.0</td>\n",
       "      <td>0.01</td>\n",
       "      <td>63</td>\n",
       "      <td>6.8</td>\n",
       "      <td>RP</td>\n",
       "    </tr>\n",
       "  </tbody>\n",
       "</table>\n",
       "</div>"
      ],
      "text/plain": [
       "                          name platform  year_of_release     genre  na_sales  \\\n",
       "14270  Supreme Ruler: Cold War       PC             2011  Strategy       0.0   \n",
       "\n",
       "       eu_sales  jp_sales  other_sales  critic_score  user_score rating  \n",
       "14270      0.03       0.0         0.01            63         6.8     RP  "
      ]
     },
     "execution_count": 17,
     "metadata": {},
     "output_type": "execute_result"
    }
   ],
   "source": [
    "# Посмотрим, у какой игры рейтинг RP\n",
    "\n",
    "data[data['rating'] == 'RP']"
   ]
  },
  {
   "cell_type": "markdown",
   "id": "8c962f5d",
   "metadata": {},
   "source": [
    "На данный момент Supreme Ruler: Cold War (2011) имеет рейтинг Е10+, поэтому можно произвести замену значения. "
   ]
  },
  {
   "cell_type": "code",
   "execution_count": 18,
   "id": "d2759706",
   "metadata": {},
   "outputs": [],
   "source": [
    "data['rating'] = data['rating'].replace('RP', 'E10+')"
   ]
  },
  {
   "cell_type": "code",
   "execution_count": 19,
   "id": "d37b3b44",
   "metadata": {
    "scrolled": true
   },
   "outputs": [
    {
     "data": {
      "text/html": [
       "<div>\n",
       "<style scoped>\n",
       "    .dataframe tbody tr th:only-of-type {\n",
       "        vertical-align: middle;\n",
       "    }\n",
       "\n",
       "    .dataframe tbody tr th {\n",
       "        vertical-align: top;\n",
       "    }\n",
       "\n",
       "    .dataframe thead th {\n",
       "        text-align: right;\n",
       "    }\n",
       "</style>\n",
       "<table border=\"1\" class=\"dataframe\">\n",
       "  <thead>\n",
       "    <tr style=\"text-align: right;\">\n",
       "      <th></th>\n",
       "      <th>name</th>\n",
       "      <th>platform</th>\n",
       "      <th>year_of_release</th>\n",
       "      <th>genre</th>\n",
       "      <th>na_sales</th>\n",
       "      <th>eu_sales</th>\n",
       "      <th>jp_sales</th>\n",
       "      <th>other_sales</th>\n",
       "      <th>critic_score</th>\n",
       "      <th>user_score</th>\n",
       "      <th>rating</th>\n",
       "    </tr>\n",
       "  </thead>\n",
       "  <tbody>\n",
       "    <tr>\n",
       "      <th>875</th>\n",
       "      <td>Grand Theft Auto: San Andreas</td>\n",
       "      <td>XB</td>\n",
       "      <td>2005</td>\n",
       "      <td>Action</td>\n",
       "      <td>1.26</td>\n",
       "      <td>0.61</td>\n",
       "      <td>0.0</td>\n",
       "      <td>0.09</td>\n",
       "      <td>93</td>\n",
       "      <td>8.6</td>\n",
       "      <td>AO</td>\n",
       "    </tr>\n",
       "  </tbody>\n",
       "</table>\n",
       "</div>"
      ],
      "text/plain": [
       "                              name platform  year_of_release   genre  \\\n",
       "875  Grand Theft Auto: San Andreas       XB             2005  Action   \n",
       "\n",
       "     na_sales  eu_sales  jp_sales  other_sales  critic_score  user_score  \\\n",
       "875      1.26      0.61       0.0         0.09            93         8.6   \n",
       "\n",
       "    rating  \n",
       "875     AO  "
      ]
     },
     "execution_count": 19,
     "metadata": {},
     "output_type": "execute_result"
    }
   ],
   "source": [
    "# Посмотрим, у какой игры рейтинг AO\n",
    "\n",
    "data[data['rating'] == 'AO']"
   ]
  },
  {
   "cell_type": "code",
   "execution_count": 15,
   "id": "b366a34d",
   "metadata": {},
   "outputs": [],
   "source": [
    "#data[data['rating'] == 'M'] # - остальные части GTA идут первыми в списке"
   ]
  },
  {
   "cell_type": "markdown",
   "id": "aaad7fd1",
   "metadata": {},
   "source": [
    "Релиз GTA: SA на платформе Xbox 2005 года имеет рейтинг АО, в то время как остальные части серии, в том числе и релиз GTA: SA на платформе PS2, имеют рейтинг М. Категории М и АО отличаются незначительно, поэтому рейтинг АО можно заменить на М в рамках нашего исследования. "
   ]
  },
  {
   "cell_type": "code",
   "execution_count": 21,
   "id": "5986357f",
   "metadata": {},
   "outputs": [],
   "source": [
    "data['rating'] = data['rating'].replace('AO', 'M')"
   ]
  },
  {
   "cell_type": "code",
   "execution_count": 22,
   "id": "97dbb362",
   "metadata": {},
   "outputs": [
    {
     "data": {
      "text/plain": [
       "Unknown    6676\n",
       "E          3932\n",
       "T          2905\n",
       "M          1537\n",
       "E10+       1394\n",
       "Name: rating, dtype: int64"
      ]
     },
     "metadata": {},
     "output_type": "display_data"
    }
   ],
   "source": [
    "# Игры с рейтингом EC и K-A отнесем к категории \"для всех\", \n",
    "# поскольку в игры \"для детей и взрослых\" и \"для детей младшего возраста\" можно играть всем\n",
    "\n",
    "data['rating'] = data['rating'].replace(['EC', 'K-A'], 'E')\n",
    "display(data['rating'].value_counts())"
   ]
  },
  {
   "cell_type": "code",
   "execution_count": 23,
   "id": "b703b063",
   "metadata": {},
   "outputs": [
    {
     "data": {
      "text/html": [
       "<div>\n",
       "<style scoped>\n",
       "    .dataframe tbody tr th:only-of-type {\n",
       "        vertical-align: middle;\n",
       "    }\n",
       "\n",
       "    .dataframe tbody tr th {\n",
       "        vertical-align: top;\n",
       "    }\n",
       "\n",
       "    .dataframe thead th {\n",
       "        text-align: right;\n",
       "    }\n",
       "</style>\n",
       "<table border=\"1\" class=\"dataframe\">\n",
       "  <thead>\n",
       "    <tr style=\"text-align: right;\">\n",
       "      <th></th>\n",
       "      <th>name</th>\n",
       "      <th>platform</th>\n",
       "      <th>year_of_release</th>\n",
       "    </tr>\n",
       "  </thead>\n",
       "  <tbody>\n",
       "    <tr>\n",
       "      <th>16230</th>\n",
       "      <td>Madden NFL 13</td>\n",
       "      <td>PS3</td>\n",
       "      <td>2012</td>\n",
       "    </tr>\n",
       "  </tbody>\n",
       "</table>\n",
       "</div>"
      ],
      "text/plain": [
       "                name platform  year_of_release\n",
       "16230  Madden NFL 13      PS3             2012"
      ]
     },
     "metadata": {},
     "output_type": "display_data"
    }
   ],
   "source": [
    "# Проверим данные на наличие неявных дубликатов. Для этого создадим отдельный датафрейм, \n",
    "# в котором будут содержаться только столбцы с названием, годом релиза и платформой для каждой игры.\n",
    "\n",
    "data_duplicates = pd.DataFrame(data, columns = ['name', 'platform', 'year_of_release'])\n",
    "\n",
    "# Выявим дубликаты из нового датафрейма\n",
    "\n",
    "duplicates = data_duplicates[data_duplicates.duplicated()]\n",
    "display(duplicates)"
   ]
  },
  {
   "cell_type": "code",
   "execution_count": 24,
   "id": "d1327d3d",
   "metadata": {},
   "outputs": [
    {
     "data": {
      "text/html": [
       "<div>\n",
       "<style scoped>\n",
       "    .dataframe tbody tr th:only-of-type {\n",
       "        vertical-align: middle;\n",
       "    }\n",
       "\n",
       "    .dataframe tbody tr th {\n",
       "        vertical-align: top;\n",
       "    }\n",
       "\n",
       "    .dataframe thead th {\n",
       "        text-align: right;\n",
       "    }\n",
       "</style>\n",
       "<table border=\"1\" class=\"dataframe\">\n",
       "  <thead>\n",
       "    <tr style=\"text-align: right;\">\n",
       "      <th></th>\n",
       "      <th>name</th>\n",
       "      <th>platform</th>\n",
       "      <th>year_of_release</th>\n",
       "      <th>genre</th>\n",
       "      <th>na_sales</th>\n",
       "      <th>eu_sales</th>\n",
       "      <th>jp_sales</th>\n",
       "      <th>other_sales</th>\n",
       "      <th>critic_score</th>\n",
       "      <th>user_score</th>\n",
       "      <th>rating</th>\n",
       "    </tr>\n",
       "  </thead>\n",
       "  <tbody>\n",
       "    <tr>\n",
       "      <th>507</th>\n",
       "      <td>Madden NFL 13</td>\n",
       "      <td>X360</td>\n",
       "      <td>2012</td>\n",
       "      <td>Sports</td>\n",
       "      <td>2.53</td>\n",
       "      <td>0.15</td>\n",
       "      <td>0.0</td>\n",
       "      <td>0.17</td>\n",
       "      <td>81</td>\n",
       "      <td>5.8</td>\n",
       "      <td>E</td>\n",
       "    </tr>\n",
       "    <tr>\n",
       "      <th>604</th>\n",
       "      <td>Madden NFL 13</td>\n",
       "      <td>PS3</td>\n",
       "      <td>2012</td>\n",
       "      <td>Sports</td>\n",
       "      <td>2.11</td>\n",
       "      <td>0.22</td>\n",
       "      <td>0.0</td>\n",
       "      <td>0.23</td>\n",
       "      <td>83</td>\n",
       "      <td>5.5</td>\n",
       "      <td>E</td>\n",
       "    </tr>\n",
       "    <tr>\n",
       "      <th>3986</th>\n",
       "      <td>Madden NFL 13</td>\n",
       "      <td>Wii</td>\n",
       "      <td>2012</td>\n",
       "      <td>Sports</td>\n",
       "      <td>0.47</td>\n",
       "      <td>0.00</td>\n",
       "      <td>0.0</td>\n",
       "      <td>0.03</td>\n",
       "      <td>-1</td>\n",
       "      <td>7.3</td>\n",
       "      <td>E</td>\n",
       "    </tr>\n",
       "    <tr>\n",
       "      <th>5887</th>\n",
       "      <td>Madden NFL 13</td>\n",
       "      <td>PSV</td>\n",
       "      <td>2012</td>\n",
       "      <td>Sports</td>\n",
       "      <td>0.28</td>\n",
       "      <td>0.00</td>\n",
       "      <td>0.0</td>\n",
       "      <td>0.02</td>\n",
       "      <td>63</td>\n",
       "      <td>7.3</td>\n",
       "      <td>E</td>\n",
       "    </tr>\n",
       "    <tr>\n",
       "      <th>7066</th>\n",
       "      <td>Madden NFL 13</td>\n",
       "      <td>WiiU</td>\n",
       "      <td>2012</td>\n",
       "      <td>Sports</td>\n",
       "      <td>0.21</td>\n",
       "      <td>0.00</td>\n",
       "      <td>0.0</td>\n",
       "      <td>0.02</td>\n",
       "      <td>75</td>\n",
       "      <td>6.7</td>\n",
       "      <td>E</td>\n",
       "    </tr>\n",
       "    <tr>\n",
       "      <th>16230</th>\n",
       "      <td>Madden NFL 13</td>\n",
       "      <td>PS3</td>\n",
       "      <td>2012</td>\n",
       "      <td>Sports</td>\n",
       "      <td>0.00</td>\n",
       "      <td>0.01</td>\n",
       "      <td>0.0</td>\n",
       "      <td>0.00</td>\n",
       "      <td>83</td>\n",
       "      <td>5.5</td>\n",
       "      <td>E</td>\n",
       "    </tr>\n",
       "  </tbody>\n",
       "</table>\n",
       "</div>"
      ],
      "text/plain": [
       "                name platform  year_of_release   genre  na_sales  eu_sales  \\\n",
       "507    Madden NFL 13     X360             2012  Sports      2.53      0.15   \n",
       "604    Madden NFL 13      PS3             2012  Sports      2.11      0.22   \n",
       "3986   Madden NFL 13      Wii             2012  Sports      0.47      0.00   \n",
       "5887   Madden NFL 13      PSV             2012  Sports      0.28      0.00   \n",
       "7066   Madden NFL 13     WiiU             2012  Sports      0.21      0.00   \n",
       "16230  Madden NFL 13      PS3             2012  Sports      0.00      0.01   \n",
       "\n",
       "       jp_sales  other_sales  critic_score  user_score rating  \n",
       "507         0.0         0.17            81         5.8      E  \n",
       "604         0.0         0.23            83         5.5      E  \n",
       "3986        0.0         0.03            -1         7.3      E  \n",
       "5887        0.0         0.02            63         7.3      E  \n",
       "7066        0.0         0.02            75         6.7      E  \n",
       "16230       0.0         0.00            83         5.5      E  "
      ]
     },
     "execution_count": 24,
     "metadata": {},
     "output_type": "execute_result"
    }
   ],
   "source": [
    "data[data['name'] == 'Madden NFL 13']"
   ]
  },
  {
   "cell_type": "markdown",
   "id": "dc5326b7",
   "metadata": {},
   "source": [
    "Как оказалось, \"Madden NFL 13\", выпущенная на PS3 в 2012 году, встречается в данных дважды. Устраним неявный дубликат, сложив значения суммарных продаж (в строке 604 к сумме продаж в европе нужно прибавить значение из строки 16230)."
   ]
  },
  {
   "cell_type": "code",
   "execution_count": 25,
   "id": "b548d183",
   "metadata": {
    "scrolled": true
   },
   "outputs": [
    {
     "data": {
      "text/html": [
       "<div>\n",
       "<style scoped>\n",
       "    .dataframe tbody tr th:only-of-type {\n",
       "        vertical-align: middle;\n",
       "    }\n",
       "\n",
       "    .dataframe tbody tr th {\n",
       "        vertical-align: top;\n",
       "    }\n",
       "\n",
       "    .dataframe thead th {\n",
       "        text-align: right;\n",
       "    }\n",
       "</style>\n",
       "<table border=\"1\" class=\"dataframe\">\n",
       "  <thead>\n",
       "    <tr style=\"text-align: right;\">\n",
       "      <th></th>\n",
       "      <th>name</th>\n",
       "      <th>platform</th>\n",
       "      <th>year_of_release</th>\n",
       "      <th>genre</th>\n",
       "      <th>na_sales</th>\n",
       "      <th>eu_sales</th>\n",
       "      <th>jp_sales</th>\n",
       "      <th>other_sales</th>\n",
       "      <th>critic_score</th>\n",
       "      <th>user_score</th>\n",
       "      <th>rating</th>\n",
       "    </tr>\n",
       "  </thead>\n",
       "  <tbody>\n",
       "    <tr>\n",
       "      <th>507</th>\n",
       "      <td>Madden NFL 13</td>\n",
       "      <td>X360</td>\n",
       "      <td>2012</td>\n",
       "      <td>Sports</td>\n",
       "      <td>2.53</td>\n",
       "      <td>0.15</td>\n",
       "      <td>0.0</td>\n",
       "      <td>0.17</td>\n",
       "      <td>81</td>\n",
       "      <td>5.8</td>\n",
       "      <td>E</td>\n",
       "    </tr>\n",
       "    <tr>\n",
       "      <th>604</th>\n",
       "      <td>Madden NFL 13</td>\n",
       "      <td>PS3</td>\n",
       "      <td>2012</td>\n",
       "      <td>Sports</td>\n",
       "      <td>2.11</td>\n",
       "      <td>0.23</td>\n",
       "      <td>0.0</td>\n",
       "      <td>0.23</td>\n",
       "      <td>83</td>\n",
       "      <td>5.5</td>\n",
       "      <td>E</td>\n",
       "    </tr>\n",
       "    <tr>\n",
       "      <th>3986</th>\n",
       "      <td>Madden NFL 13</td>\n",
       "      <td>Wii</td>\n",
       "      <td>2012</td>\n",
       "      <td>Sports</td>\n",
       "      <td>0.47</td>\n",
       "      <td>0.00</td>\n",
       "      <td>0.0</td>\n",
       "      <td>0.03</td>\n",
       "      <td>-1</td>\n",
       "      <td>7.3</td>\n",
       "      <td>E</td>\n",
       "    </tr>\n",
       "    <tr>\n",
       "      <th>5887</th>\n",
       "      <td>Madden NFL 13</td>\n",
       "      <td>PSV</td>\n",
       "      <td>2012</td>\n",
       "      <td>Sports</td>\n",
       "      <td>0.28</td>\n",
       "      <td>0.00</td>\n",
       "      <td>0.0</td>\n",
       "      <td>0.02</td>\n",
       "      <td>63</td>\n",
       "      <td>7.3</td>\n",
       "      <td>E</td>\n",
       "    </tr>\n",
       "    <tr>\n",
       "      <th>7066</th>\n",
       "      <td>Madden NFL 13</td>\n",
       "      <td>WiiU</td>\n",
       "      <td>2012</td>\n",
       "      <td>Sports</td>\n",
       "      <td>0.21</td>\n",
       "      <td>0.00</td>\n",
       "      <td>0.0</td>\n",
       "      <td>0.02</td>\n",
       "      <td>75</td>\n",
       "      <td>6.7</td>\n",
       "      <td>E</td>\n",
       "    </tr>\n",
       "  </tbody>\n",
       "</table>\n",
       "</div>"
      ],
      "text/plain": [
       "               name platform  year_of_release   genre  na_sales  eu_sales  \\\n",
       "507   Madden NFL 13     X360             2012  Sports      2.53      0.15   \n",
       "604   Madden NFL 13      PS3             2012  Sports      2.11      0.23   \n",
       "3986  Madden NFL 13      Wii             2012  Sports      0.47      0.00   \n",
       "5887  Madden NFL 13      PSV             2012  Sports      0.28      0.00   \n",
       "7066  Madden NFL 13     WiiU             2012  Sports      0.21      0.00   \n",
       "\n",
       "      jp_sales  other_sales  critic_score  user_score rating  \n",
       "507        0.0         0.17            81         5.8      E  \n",
       "604        0.0         0.23            83         5.5      E  \n",
       "3986       0.0         0.03            -1         7.3      E  \n",
       "5887       0.0         0.02            63         7.3      E  \n",
       "7066       0.0         0.02            75         6.7      E  "
      ]
     },
     "execution_count": 25,
     "metadata": {},
     "output_type": "execute_result"
    }
   ],
   "source": [
    "# Меняем значения и удаляем дубликат\n",
    "\n",
    "data.loc[604,'eu_sales'] = 0.23\n",
    "\n",
    "data.loc[16230, 'eu_sales'] = np.NaN\n",
    "data = data.dropna(subset = ['eu_sales'])\n",
    "\n",
    "# Проверяем отсутствие дубликата\n",
    "\n",
    "data[data['name'] == 'Madden NFL 13']"
   ]
  },
  {
   "cell_type": "code",
   "execution_count": 26,
   "id": "c347aaa7",
   "metadata": {},
   "outputs": [
    {
     "data": {
      "text/html": [
       "<div>\n",
       "<style scoped>\n",
       "    .dataframe tbody tr th:only-of-type {\n",
       "        vertical-align: middle;\n",
       "    }\n",
       "\n",
       "    .dataframe tbody tr th {\n",
       "        vertical-align: top;\n",
       "    }\n",
       "\n",
       "    .dataframe thead th {\n",
       "        text-align: right;\n",
       "    }\n",
       "</style>\n",
       "<table border=\"1\" class=\"dataframe\">\n",
       "  <thead>\n",
       "    <tr style=\"text-align: right;\">\n",
       "      <th></th>\n",
       "      <th>name</th>\n",
       "      <th>platform</th>\n",
       "      <th>year_of_release</th>\n",
       "      <th>genre</th>\n",
       "      <th>na_sales</th>\n",
       "      <th>eu_sales</th>\n",
       "      <th>jp_sales</th>\n",
       "      <th>other_sales</th>\n",
       "      <th>critic_score</th>\n",
       "      <th>user_score</th>\n",
       "      <th>rating</th>\n",
       "      <th>total_sales</th>\n",
       "    </tr>\n",
       "  </thead>\n",
       "  <tbody>\n",
       "    <tr>\n",
       "      <th>0</th>\n",
       "      <td>Wii Sports</td>\n",
       "      <td>Wii</td>\n",
       "      <td>2006</td>\n",
       "      <td>Sports</td>\n",
       "      <td>41.36</td>\n",
       "      <td>28.96</td>\n",
       "      <td>3.77</td>\n",
       "      <td>8.45</td>\n",
       "      <td>76</td>\n",
       "      <td>8.0</td>\n",
       "      <td>E</td>\n",
       "      <td>82.54</td>\n",
       "    </tr>\n",
       "    <tr>\n",
       "      <th>1</th>\n",
       "      <td>Super Mario Bros.</td>\n",
       "      <td>NES</td>\n",
       "      <td>1985</td>\n",
       "      <td>Platform</td>\n",
       "      <td>29.08</td>\n",
       "      <td>3.58</td>\n",
       "      <td>6.81</td>\n",
       "      <td>0.77</td>\n",
       "      <td>-1</td>\n",
       "      <td>-1.0</td>\n",
       "      <td>Unknown</td>\n",
       "      <td>40.24</td>\n",
       "    </tr>\n",
       "    <tr>\n",
       "      <th>2</th>\n",
       "      <td>Mario Kart Wii</td>\n",
       "      <td>Wii</td>\n",
       "      <td>2008</td>\n",
       "      <td>Racing</td>\n",
       "      <td>15.68</td>\n",
       "      <td>12.76</td>\n",
       "      <td>3.79</td>\n",
       "      <td>3.29</td>\n",
       "      <td>82</td>\n",
       "      <td>8.3</td>\n",
       "      <td>E</td>\n",
       "      <td>35.52</td>\n",
       "    </tr>\n",
       "    <tr>\n",
       "      <th>3</th>\n",
       "      <td>Wii Sports Resort</td>\n",
       "      <td>Wii</td>\n",
       "      <td>2009</td>\n",
       "      <td>Sports</td>\n",
       "      <td>15.61</td>\n",
       "      <td>10.93</td>\n",
       "      <td>3.28</td>\n",
       "      <td>2.95</td>\n",
       "      <td>80</td>\n",
       "      <td>8.0</td>\n",
       "      <td>E</td>\n",
       "      <td>32.77</td>\n",
       "    </tr>\n",
       "    <tr>\n",
       "      <th>4</th>\n",
       "      <td>Pokemon Red/Pokemon Blue</td>\n",
       "      <td>GB</td>\n",
       "      <td>1996</td>\n",
       "      <td>Role-Playing</td>\n",
       "      <td>11.27</td>\n",
       "      <td>8.89</td>\n",
       "      <td>10.22</td>\n",
       "      <td>1.00</td>\n",
       "      <td>-1</td>\n",
       "      <td>-1.0</td>\n",
       "      <td>Unknown</td>\n",
       "      <td>31.38</td>\n",
       "    </tr>\n",
       "  </tbody>\n",
       "</table>\n",
       "</div>"
      ],
      "text/plain": [
       "                       name platform  year_of_release         genre  na_sales  \\\n",
       "0                Wii Sports      Wii             2006        Sports     41.36   \n",
       "1         Super Mario Bros.      NES             1985      Platform     29.08   \n",
       "2            Mario Kart Wii      Wii             2008        Racing     15.68   \n",
       "3         Wii Sports Resort      Wii             2009        Sports     15.61   \n",
       "4  Pokemon Red/Pokemon Blue       GB             1996  Role-Playing     11.27   \n",
       "\n",
       "   eu_sales  jp_sales  other_sales  critic_score  user_score   rating  \\\n",
       "0     28.96      3.77         8.45            76         8.0        E   \n",
       "1      3.58      6.81         0.77            -1        -1.0  Unknown   \n",
       "2     12.76      3.79         3.29            82         8.3        E   \n",
       "3     10.93      3.28         2.95            80         8.0        E   \n",
       "4      8.89     10.22         1.00            -1        -1.0  Unknown   \n",
       "\n",
       "   total_sales  \n",
       "0        82.54  \n",
       "1        40.24  \n",
       "2        35.52  \n",
       "3        32.77  \n",
       "4        31.38  "
      ]
     },
     "execution_count": 26,
     "metadata": {},
     "output_type": "execute_result"
    }
   ],
   "source": [
    "# Создадим новый столбец, содержащий суммарные значения продаж игры во всех регионах\n",
    "\n",
    "data['total_sales'] = data[['na_sales','eu_sales','jp_sales','other_sales']].sum(axis = 1)\n",
    "data.head()"
   ]
  },
  {
   "cell_type": "code",
   "execution_count": 27,
   "id": "5a6f5bb3",
   "metadata": {},
   "outputs": [
    {
     "name": "stdout",
     "output_type": "stream",
     "text": [
      "<class 'pandas.core.frame.DataFrame'>\n",
      "Int64Index: 16443 entries, 0 to 16714\n",
      "Data columns (total 12 columns):\n",
      " #   Column           Non-Null Count  Dtype  \n",
      "---  ------           --------------  -----  \n",
      " 0   name             16443 non-null  object \n",
      " 1   platform         16443 non-null  object \n",
      " 2   year_of_release  16443 non-null  int64  \n",
      " 3   genre            16443 non-null  object \n",
      " 4   na_sales         16443 non-null  float64\n",
      " 5   eu_sales         16443 non-null  float64\n",
      " 6   jp_sales         16443 non-null  float64\n",
      " 7   other_sales      16443 non-null  float64\n",
      " 8   critic_score     16443 non-null  int64  \n",
      " 9   user_score       16443 non-null  float64\n",
      " 10  rating           16443 non-null  object \n",
      " 11  total_sales      16443 non-null  float64\n",
      "dtypes: float64(6), int64(2), object(4)\n",
      "memory usage: 1.6+ MB\n"
     ]
    },
    {
     "data": {
      "text/plain": [
       "None"
      ]
     },
     "metadata": {},
     "output_type": "display_data"
    },
    {
     "data": {
      "text/plain": [
       "name               0\n",
       "platform           0\n",
       "year_of_release    0\n",
       "genre              0\n",
       "na_sales           0\n",
       "eu_sales           0\n",
       "jp_sales           0\n",
       "other_sales        0\n",
       "critic_score       0\n",
       "user_score         0\n",
       "rating             0\n",
       "total_sales        0\n",
       "dtype: int64"
      ]
     },
     "metadata": {},
     "output_type": "display_data"
    }
   ],
   "source": [
    "# Проверка успешной обработки данных\n",
    "\n",
    "display(data.info())\n",
    "display(data.isna().sum())"
   ]
  },
  {
   "cell_type": "markdown",
   "id": "4bd60d3b",
   "metadata": {},
   "source": [
    "###### Вывод:"
   ]
  },
  {
   "cell_type": "markdown",
   "id": "3c1a2e8d",
   "metadata": {},
   "source": [
    "В результате предобработки данных:\n",
    "\n",
    "- Названия столбцов приведены к нижнему регистру;\n",
    "- Удалено 269 строк с пропущенными значениями в столбце 'year_of_release';\n",
    "- Тип данных в столбцах 'year_of_release' и 'user_score' изменен на int и float соответственно; \n",
    "- Пропуски в столбцах 'critic_score' и 'user_score' заполнены заглушками в виде отрицательных чисел;\n",
    "- Пропуски в столбце 'rating' заполнены значением 'Unknown';\n",
    "- Играм с рейтингами RP, АО, EC и K-A присвоен новый рейтинг, подходящий для исследования;\n",
    "- В таблицу добавлен новый столбец, содержащий суммарные значения продаж игры во всех регионах;\n",
    "- Выявлен и устранен неявный дубликат."
   ]
  },
  {
   "cell_type": "markdown",
   "id": "1af8c686",
   "metadata": {},
   "source": [
    "После предобработки данных в датасете осталось 16443 строки, 12 столбцов. Можно переходить к исследовательскому анализу данных."
   ]
  },
  {
   "cell_type": "markdown",
   "id": "89ad73c2",
   "metadata": {},
   "source": [
    "### Шаг 3. Исследовательский анализ данных"
   ]
  },
  {
   "cell_type": "markdown",
   "id": "972a64cd",
   "metadata": {},
   "source": [
    "##### Сколько игр выпускалось в разные годы"
   ]
  },
  {
   "cell_type": "code",
   "execution_count": 28,
   "id": "55735392",
   "metadata": {},
   "outputs": [
    {
     "data": {
      "image/png": "[encoded data removed]",
      "text/plain": [
       "<Figure size 720x360 with 1 Axes>"
      ]
     },
     "metadata": {
      "needs_background": "light"
     },
     "output_type": "display_data"
    }
   ],
   "source": [
    "# Для того, чтобы узнать, сколько игр выпускалось в разные годы, создадим сводную таблицу\n",
    "\n",
    "releases = data.pivot_table(index = 'year_of_release', values = 'name', aggfunc = 'count')\n",
    "\n",
    "# На основе сводной таблицы построим график\n",
    "\n",
    "releases.plot(xlabel = 'Год', ylabel = 'Количество релизов', grid = True, figsize = (10, 5))\n",
    "plt.title('Количество релизов за год')\n",
    "plt.show()"
   ]
  },
  {
   "cell_type": "markdown",
   "id": "0e427bb2",
   "metadata": {},
   "source": [
    "Судя по графику, количество новинок начало активно расти с начала 1990-х. С развитием индустрии в начале 2000-х наблюдается резкий скачок по количеству релизов. В период с 2003 - 2004 гг число релизов немного упало, однако с 2005 по 2009 выросло в несколько раз. С 2010 года количество релизов начало заметно сокращаться вплоть до наших дней (2016 г). "
   ]
  },
  {
   "cell_type": "markdown",
   "id": "b40cb1b4",
   "metadata": {},
   "source": [
    "#### Как менялись продажи по платформам"
   ]
  },
  {
   "cell_type": "code",
   "execution_count": 29,
   "id": "8dbaf35d",
   "metadata": {},
   "outputs": [
    {
     "data": {
      "image/png": "[encoded data removed]",
      "text/plain": [
       "<Figure size 432x288 with 1 Axes>"
      ]
     },
     "metadata": {
      "needs_background": "light"
     },
     "output_type": "display_data"
    }
   ],
   "source": [
    "# Посмотрим, как менялись продажи по платформам. Для этого создадим новую сводную таблицу\n",
    "\n",
    "total_sales = data.pivot_table(index = 'platform', \n",
    "                               values = 'total_sales', \n",
    "                               aggfunc = 'sum'\n",
    "                              ).sort_values(by = 'total_sales', \n",
    "                                            ascending = True\n",
    "                                           )\n",
    "\n",
    "# Построим график\n",
    "\n",
    "total_sales.plot(kind = 'barh', ylabel = 'Платформа', xlabel = 'Суммарное количество продаж (млн)')\n",
    "plt.title('Сумма продаж по всем платформам')\n",
    "plt.show()"
   ]
  },
  {
   "cell_type": "markdown",
   "id": "9e64ea89",
   "metadata": {},
   "source": [
    "На графике сильно выделяются платформы PS2, Xbox 360, PS3, Wii, DS, и PS. Продажи по каждой из них изучим поподробнее."
   ]
  },
  {
   "cell_type": "code",
   "execution_count": 30,
   "id": "45c1767b",
   "metadata": {
    "scrolled": false
   },
   "outputs": [
    {
     "data": {
      "image/png": "[encoded data removed]",
      "text/plain": [
       "<Figure size 720x360 with 1 Axes>"
      ]
     },
     "metadata": {
      "needs_background": "light"
     },
     "output_type": "display_data"
    }
   ],
   "source": [
    "# Распределим по годам продажи на платформе Playstation 2\n",
    "# Для этого создадим сводную таблицу\n",
    "\n",
    "ps2_sales = data.query('platform == \"PS2\"').pivot_table(index = 'year_of_release', values = 'total_sales', aggfunc = 'sum')\n",
    "\n",
    "# Строим график\n",
    "\n",
    "ps2_sales.plot(xlabel = 'Год', ylabel = 'Количество продаж (млн)', grid = True, figsize = (10, 5))\n",
    "plt.title('Количество продаж на Playstation 2')\n",
    "plt.show()"
   ]
  },
  {
   "cell_type": "markdown",
   "id": "08072990",
   "metadata": {},
   "source": [
    "Игры на PS2 выходили в период с 2000 по 2011 год, пик продаж приходился на 2002 - 2004 годы. Количество релизов заметно сократилось с 2005 года в связи с выходом Playstation 3 в 2006 году. В настоящий момент платформа неактуальна. "
   ]
  },
  {
   "cell_type": "code",
   "execution_count": 31,
   "id": "f97520ee",
   "metadata": {
    "scrolled": false
   },
   "outputs": [
    {
     "data": {
      "image/png": "[encoded data removed]",
      "text/plain": [
       "<Figure size 720x360 with 1 Axes>"
      ]
     },
     "metadata": {
      "needs_background": "light"
     },
     "output_type": "display_data"
    }
   ],
   "source": [
    "# Распределим по годам продажи на платформе Xbox 360\n",
    "# Для этого создадим сводную таблицу\n",
    "\n",
    "x360_sales = data.query('platform == \"X360\"').pivot_table(index = 'year_of_release', values = 'total_sales', aggfunc = 'sum')\n",
    "\n",
    "# Строим график\n",
    "\n",
    "x360_sales.plot(xlabel = 'Год', ylabel = 'Количество продаж (млн)', grid = True, figsize = (10, 5))\n",
    "plt.title('Количество продаж на Xbox 360')\n",
    "plt.show()"
   ]
  },
  {
   "cell_type": "markdown",
   "id": "d1381020",
   "metadata": {},
   "source": [
    "Игры на Xbox 360 начали продаваться в 2005 году. Количество продаж росло с каждым годом вплоть до 2010, однако после этого число продаж начало заметно сокращаться. После выпуска Xbox One (преемницы Xbox 360) в 2013 году, на данной платформе практически перестали появляться новые игры, и продажи упали до минимума. "
   ]
  },
  {
   "cell_type": "code",
   "execution_count": 32,
   "id": "7d90bddb",
   "metadata": {
    "scrolled": false
   },
   "outputs": [
    {
     "data": {
      "image/png": "[encoded data removed]",
      "text/plain": [
       "<Figure size 720x360 with 1 Axes>"
      ]
     },
     "metadata": {
      "needs_background": "light"
     },
     "output_type": "display_data"
    }
   ],
   "source": [
    "# Распределим по годам продажи на платформе Playstation 3\n",
    "# Для этого создадим сводную таблицу\n",
    "\n",
    "ps3_sales = data.query('platform == \"PS3\"').pivot_table(index = 'year_of_release', values = 'total_sales', aggfunc = 'sum')\n",
    "\n",
    "# Строим график\n",
    "\n",
    "ps3_sales.plot(xlabel = 'Год', ylabel = 'Количество продаж (млн)', grid = True, figsize = (10, 5))\n",
    "plt.title('Количество продаж на Playstation 3')\n",
    "plt.show()"
   ]
  },
  {
   "cell_type": "markdown",
   "id": "6211b234",
   "metadata": {},
   "source": [
    "Игры на PS3 продаются с 2006 года. Пик по продажам приходится на 2011 год. Далее наблюдается значительный спад по продажам, а с момента выпуска консоли следующего поколения в 2014 году PS3 перестала быть актуальной платформой. "
   ]
  },
  {
   "cell_type": "code",
   "execution_count": 33,
   "id": "35f50f0d",
   "metadata": {},
   "outputs": [
    {
     "data": {
      "image/png": "[encoded data removed]",
      "text/plain": [
       "<Figure size 720x360 with 1 Axes>"
      ]
     },
     "metadata": {
      "needs_background": "light"
     },
     "output_type": "display_data"
    }
   ],
   "source": [
    "# Распределим по годам продажи на платформе Nintendo Wii\n",
    "# Для этого создадим сводную таблицу\n",
    "\n",
    "wii_sales = data.query('platform == \"Wii\"').pivot_table(index = 'year_of_release', values = 'total_sales', aggfunc = 'sum')\n",
    "\n",
    "# Строим график\n",
    "\n",
    "wii_sales.plot(xlabel = 'Год', ylabel = 'Количество продаж (млн)', grid = True, figsize = (10, 5))\n",
    "plt.title('Количество продаж на Nintendo Wii')\n",
    "plt.show()"
   ]
  },
  {
   "cell_type": "markdown",
   "id": "05dd7b0f",
   "metadata": {},
   "source": [
    "Игры для Nintendo Wii начали продаваться в 2006 году, 2009 год - пик продаж игр для данной платформы. С 2010 года продажи начали падать. После того, как в 2013 году поддержка платформы была прекращена, количество продаж сократились до минимума. На данный момент платформа не является актуальной.  "
   ]
  },
  {
   "cell_type": "code",
   "execution_count": 34,
   "id": "9c9dec9f",
   "metadata": {},
   "outputs": [
    {
     "data": {
      "image/png": "[encoded data removed]",
      "text/plain": [
       "<Figure size 720x360 with 1 Axes>"
      ]
     },
     "metadata": {
      "needs_background": "light"
     },
     "output_type": "display_data"
    }
   ],
   "source": [
    "# Распределим по годам продажи на платформе Nintendo DS\n",
    "# Для этого создадим сводную таблицу\n",
    "\n",
    "ds_sales = data.query('platform == \"DS\"').pivot_table(index = 'year_of_release', values = 'total_sales', aggfunc = 'sum')\n",
    "\n",
    "# Строим график\n",
    "\n",
    "ds_sales.plot(kind = 'bar', xlabel = 'Год', ylabel = 'Количество продаж (млн)', grid = False, figsize = (10, 5))\n",
    "plt.title('Количество продаж на Nintendo DS')\n",
    "plt.show()"
   ]
  },
  {
   "cell_type": "markdown",
   "id": "8bc8f996",
   "metadata": {},
   "source": [
    "Игры на Nintendo DS начали продаваться в 2004 году. Количество продаж достигло пика в 2007 году. С 2008 года число продаж начало сокращаться, а после 2013 года продажи окончательно прекратились. На сегодняшний день платформа неактуальна.  "
   ]
  },
  {
   "cell_type": "code",
   "execution_count": 35,
   "id": "8f49ad1c",
   "metadata": {},
   "outputs": [
    {
     "data": {
      "image/png": "[encoded data removed]",
      "text/plain": [
       "<Figure size 720x360 with 1 Axes>"
      ]
     },
     "metadata": {
      "needs_background": "light"
     },
     "output_type": "display_data"
    }
   ],
   "source": [
    "# Распределим по годам продажи на платформе Playstation\n",
    "# Для этого создадим сводную таблицу\n",
    "\n",
    "ps_sales = data.query('platform == \"PS\"').pivot_table(index = 'year_of_release', values = 'total_sales', aggfunc = 'sum')\n",
    "\n",
    "# Строим график\n",
    "\n",
    "ps_sales.plot(xlabel = 'Год', ylabel = 'Количество продаж (млн)', grid = True, figsize = (10, 5))\n",
    "plt.title('Количество продаж на Playstation')\n",
    "plt.show()"
   ]
  },
  {
   "cell_type": "markdown",
   "id": "745a35ec",
   "metadata": {},
   "source": [
    "Игры на PS продавались в период с 1994 по 2003 год. Пик по количеству продаж приходится на 1998 год. Продажи резко сократились с 2000 года, после 2003 года продажи прекратились. Платформа не является актуальной на данный момент. "
   ]
  },
  {
   "cell_type": "markdown",
   "id": "d23482aa",
   "metadata": {},
   "source": [
    "#### Исследование данных за актуальный период"
   ]
  },
  {
   "cell_type": "markdown",
   "id": "5138d62b",
   "metadata": {},
   "source": [
    "В результате исследования количества релизов и общих продаж видеоигр, можно сделать вывод о том, что пик продаж в среднем приходится спустя 3-4 года после выпуска консоли. Это значит, что данные за период с 2014 года помогут построить прогноз на 2017 год, поэтому будем считать этот период актуальным. "
   ]
  },
  {
   "cell_type": "code",
   "execution_count": 36,
   "id": "add8ba0d",
   "metadata": {},
   "outputs": [],
   "source": [
    "# Создаем новый датафрейм, в котором будут храниться данные за актуальный период\n",
    "\n",
    "actual_data = data.query('year_of_release >= 2014')"
   ]
  },
  {
   "cell_type": "code",
   "execution_count": 37,
   "id": "49084f71",
   "metadata": {
    "scrolled": false
   },
   "outputs": [
    {
     "data": {
      "image/png": "[encoded data removed]",
      "text/plain": [
       "<Figure size 432x288 with 1 Axes>"
      ]
     },
     "metadata": {
      "needs_background": "light"
     },
     "output_type": "display_data"
    }
   ],
   "source": [
    "# Узнаем, какие платформы лидируют по продажам, какие растут, какие падают\n",
    "# Для этого создаем сводную таблицу\n",
    "\n",
    "actual_platforms = actual_data.pivot_table(index = 'platform', \n",
    "                                           values = 'total_sales', \n",
    "                                           aggfunc = 'sum'\n",
    "                                          ).sort_values(by = 'total_sales', \n",
    "                                                        ascending = True\n",
    "                                                       )\n",
    "\n",
    "# Построим график\n",
    "\n",
    "actual_platforms.plot(kind = 'barh', ylabel = 'Платформа', xlabel = 'Суммарное количество продаж (млн)')\n",
    "plt.title('Сумма продаж по всем актуальным платформам')\n",
    "plt.show()"
   ]
  },
  {
   "cell_type": "markdown",
   "id": "d8b0987b",
   "metadata": {},
   "source": [
    "Судя по графику, самые популярные платформы на данный момент - PS4, Xbox One, и Nintendo 3DS. Далее распределим по годам и изучим продажи игр для этих платформ. PS3 и Xbox 360 не берем для дальнейшего исследования, поскольку это платформы прошлого поколения."
   ]
  },
  {
   "cell_type": "code",
   "execution_count": 38,
   "id": "89835b18",
   "metadata": {},
   "outputs": [
    {
     "data": {
      "image/png": "[encoded data removed]",
      "text/plain": [
       "<Figure size 360x216 with 1 Axes>"
      ]
     },
     "metadata": {
      "needs_background": "light"
     },
     "output_type": "display_data"
    }
   ],
   "source": [
    "# Продажи по годам для PS4\n",
    "\n",
    "ps4_sales = actual_data.query('platform == \"PS4\"').pivot_table(index = 'year_of_release', values = 'total_sales', aggfunc = 'sum')\n",
    "\n",
    "ps4_sales.plot(kind = 'bar', xlabel = 'Год', ylabel = 'Количество продаж (млн)', grid = False, figsize = (5, 3))\n",
    "plt.title('Количество продаж на Playstation 4')\n",
    "plt.show()"
   ]
  },
  {
   "cell_type": "markdown",
   "id": "8bc33ade",
   "metadata": {},
   "source": [
    "По данным графика видно, что количество продаж находится на высоком уровне. Учитывая, что данные за 2016 год неполные (впереди осень), можно сказать, что продажи растут и еще будут расти."
   ]
  },
  {
   "cell_type": "code",
   "execution_count": 39,
   "id": "78e7c7a8",
   "metadata": {},
   "outputs": [
    {
     "data": {
      "image/png": "[encoded data removed]",
      "text/plain": [
       "<Figure size 360x216 with 1 Axes>"
      ]
     },
     "metadata": {
      "needs_background": "light"
     },
     "output_type": "display_data"
    }
   ],
   "source": [
    "# Продажи по годам для Xbox One\n",
    "\n",
    "xone_sales = actual_data.query('platform == \"XOne\"').pivot_table(index = 'year_of_release', values = 'total_sales', aggfunc = 'sum')\n",
    "\n",
    "xone_sales.plot(kind = 'bar', xlabel = 'Год', ylabel = 'Количество продаж (млн)', grid = False, figsize = (5, 3))\n",
    "plt.title('Количество продаж на Xbox One')\n",
    "plt.show()"
   ]
  },
  {
   "cell_type": "markdown",
   "id": "c15ab755",
   "metadata": {},
   "source": [
    "Суммарное количество проданных копий игр на Xbox One намного ниже по сравнению с PS4, но на графике видно, что с каждым годом продажи растут. "
   ]
  },
  {
   "cell_type": "code",
   "execution_count": 40,
   "id": "6ccc2337",
   "metadata": {},
   "outputs": [
    {
     "data": {
      "image/png": "[encoded data removed]",
      "text/plain": [
       "<Figure size 360x216 with 1 Axes>"
      ]
     },
     "metadata": {
      "needs_background": "light"
     },
     "output_type": "display_data"
    }
   ],
   "source": [
    "# Продажи по годам для Nintendo 3DS\n",
    "\n",
    "n3ds_sales = actual_data.query('platform == \"3DS\"').pivot_table(index = 'year_of_release', values = 'total_sales', aggfunc = 'sum')\n",
    "\n",
    "n3ds_sales.plot(kind = 'bar', xlabel = 'Год', ylabel = 'Количество продаж (млн)', grid = False, figsize = (5, 3))\n",
    "plt.title('Количество продаж на Nintendo 3DS')\n",
    "plt.show()"
   ]
  },
  {
   "cell_type": "markdown",
   "id": "31800565",
   "metadata": {},
   "source": [
    "На графике видно, что продажи игр для платформы Nintendo 3DS с 2014 года начали сокращаться. Сложно сказать, будет ли в 2016 году продано больше копий, чем в 2015. "
   ]
  },
  {
   "cell_type": "code",
   "execution_count": 41,
   "id": "9fd2b609",
   "metadata": {},
   "outputs": [
    {
     "data": {
      "image/png": "[encoded data removed]",
      "text/plain": [
       "<Figure size 360x216 with 1 Axes>"
      ]
     },
     "metadata": {
      "needs_background": "light"
     },
     "output_type": "display_data"
    }
   ],
   "source": [
    "# Продажи по годам для Nintendo Wii U\n",
    "\n",
    "wiiu_sales = actual_data.query('platform == \"WiiU\"').pivot_table(index = 'year_of_release', values = 'total_sales', aggfunc = 'sum')\n",
    "\n",
    "wiiu_sales.plot(kind = 'bar', xlabel = 'Год', ylabel = 'Количество продаж (млн)', grid = False, figsize = (5, 3))\n",
    "plt.title('Количество продаж на Nintendo Wii U')\n",
    "plt.show()"
   ]
  },
  {
   "cell_type": "markdown",
   "id": "dd7111a0",
   "metadata": {},
   "source": [
    "У Wii U ситуация аналогичная с 3DS, только количество продаж в два раза меньше. Очевидно, пик популярности обоих консолей уже прошел."
   ]
  },
  {
   "cell_type": "markdown",
   "id": "12bac37b",
   "metadata": {},
   "source": [
    "По результатам анализа, потенциально прибыльными платформами для продажи видеоигр являются Playstation 4 и Xbox One. Продажи игр на Nintendo 3DS и Wii U падают с 2014 года. Остальные платформы (кроме PC) не являтся актуальными, их популярность уже не вырастет. "
   ]
  },
  {
   "cell_type": "markdown",
   "id": "4cf11f17",
   "metadata": {},
   "source": [
    "#### График «ящик с усами» по глобальным продажам игр в разбивке по платформам"
   ]
  },
  {
   "cell_type": "code",
   "execution_count": 42,
   "id": "5f54fdd3",
   "metadata": {
    "scrolled": false
   },
   "outputs": [
    {
     "data": {
      "image/png": "[encoded data removed]",
      "text/plain": [
       "<Figure size 432x288 with 1 Axes>"
      ]
     },
     "metadata": {
      "needs_background": "light"
     },
     "output_type": "display_data"
    }
   ],
   "source": [
    "# Построим график\n",
    "\n",
    "sns.boxplot(data = actual_data,\n",
    "            x = 'platform',\n",
    "            y = 'total_sales'\n",
    "           ).set(title = 'Продажи игр по платформам',\n",
    "                 xlabel = 'Платформы',\n",
    "                 ylabel = 'Количество продаж (млн)',\n",
    "                  ylim = (0, 2) # для понятного масштаба\n",
    "                )\n",
    "plt.show()"
   ]
  },
  {
   "cell_type": "code",
   "execution_count": 43,
   "id": "d5f811ab",
   "metadata": {},
   "outputs": [
    {
     "data": {
      "text/html": [
       "<div>\n",
       "<style scoped>\n",
       "    .dataframe tbody tr th:only-of-type {\n",
       "        vertical-align: middle;\n",
       "    }\n",
       "\n",
       "    .dataframe tbody tr th {\n",
       "        vertical-align: top;\n",
       "    }\n",
       "\n",
       "    .dataframe thead th {\n",
       "        text-align: right;\n",
       "    }\n",
       "</style>\n",
       "<table border=\"1\" class=\"dataframe\">\n",
       "  <thead>\n",
       "    <tr style=\"text-align: right;\">\n",
       "      <th></th>\n",
       "      <th>total_mean</th>\n",
       "      <th>total_median</th>\n",
       "    </tr>\n",
       "    <tr>\n",
       "      <th>platform</th>\n",
       "      <th></th>\n",
       "      <th></th>\n",
       "    </tr>\n",
       "  </thead>\n",
       "  <tbody>\n",
       "    <tr>\n",
       "      <th>XOne</th>\n",
       "      <td>0.615614</td>\n",
       "      <td>0.205</td>\n",
       "    </tr>\n",
       "    <tr>\n",
       "      <th>WiiU</th>\n",
       "      <td>0.588767</td>\n",
       "      <td>0.190</td>\n",
       "    </tr>\n",
       "    <tr>\n",
       "      <th>PS4</th>\n",
       "      <td>0.766356</td>\n",
       "      <td>0.185</td>\n",
       "    </tr>\n",
       "    <tr>\n",
       "      <th>Wii</th>\n",
       "      <td>0.460909</td>\n",
       "      <td>0.180</td>\n",
       "    </tr>\n",
       "    <tr>\n",
       "      <th>X360</th>\n",
       "      <td>0.434414</td>\n",
       "      <td>0.180</td>\n",
       "    </tr>\n",
       "    <tr>\n",
       "      <th>PS3</th>\n",
       "      <td>0.311324</td>\n",
       "      <td>0.110</td>\n",
       "    </tr>\n",
       "    <tr>\n",
       "      <th>3DS</th>\n",
       "      <td>0.408868</td>\n",
       "      <td>0.090</td>\n",
       "    </tr>\n",
       "    <tr>\n",
       "      <th>PC</th>\n",
       "      <td>0.179139</td>\n",
       "      <td>0.060</td>\n",
       "    </tr>\n",
       "    <tr>\n",
       "      <th>PSV</th>\n",
       "      <td>0.075932</td>\n",
       "      <td>0.040</td>\n",
       "    </tr>\n",
       "    <tr>\n",
       "      <th>PSP</th>\n",
       "      <td>0.027692</td>\n",
       "      <td>0.020</td>\n",
       "    </tr>\n",
       "  </tbody>\n",
       "</table>\n",
       "</div>"
      ],
      "text/plain": [
       "          total_mean  total_median\n",
       "platform                          \n",
       "XOne        0.615614         0.205\n",
       "WiiU        0.588767         0.190\n",
       "PS4         0.766356         0.185\n",
       "Wii         0.460909         0.180\n",
       "X360        0.434414         0.180\n",
       "PS3         0.311324         0.110\n",
       "3DS         0.408868         0.090\n",
       "PC          0.179139         0.060\n",
       "PSV         0.075932         0.040\n",
       "PSP         0.027692         0.020"
      ]
     },
     "metadata": {},
     "output_type": "display_data"
    }
   ],
   "source": [
    "# Создадим сводную таблицу, в которой содержатся среднее значение и медиана продаж каждой игры на каждой актуальной платформе\n",
    "\n",
    "actual_platform_sales = actual_data.pivot_table(index = 'platform',\n",
    "                                                values = 'total_sales',\n",
    "                                                aggfunc = ['mean', 'median']\n",
    "                                               )\n",
    "\n",
    "# Переименуем названия столбцов\n",
    "actual_platform_sales.columns = ['total_mean', 'total_median']\n",
    "display(actual_platform_sales.sort_values(by = 'total_median', ascending = False))"
   ]
  },
  {
   "cell_type": "markdown",
   "id": "66655309",
   "metadata": {},
   "source": [
    "Изучив график и сводную таблицу, можно сделать несколько выводов:\n",
    "\n",
    "   - У трех самых популярных на данный момент платформ медианы продаж имеют примерно равные значения. Самое высокое значение медианы у Xbox One (0.205 млн копий)\n",
    "   - Средние значения трех самых популярных платформ также примерно равны. Самое высокое среднее значение у PS4 (0.766356)\n",
    "   - График «ящик с усами» подтверждает, что самыми популярными платформами на сегодняшний день являются PS4, Xbox One и Nintendo WiiU\n",
    "    "
   ]
  },
  {
   "cell_type": "markdown",
   "id": "c5f2b4f0",
   "metadata": {},
   "source": [
    "#### Как влияют на продажи внутри одной популярной платформы отзывы пользователей и критиков"
   ]
  },
  {
   "cell_type": "code",
   "execution_count": 44,
   "id": "ce109a6a",
   "metadata": {},
   "outputs": [
    {
     "name": "stdout",
     "output_type": "stream",
     "text": [
      "Коэффициент корреляции между оценками критиков и продажами равен 0.40266141068104083\n",
      "Коэффициент корреляции между отзывами пользователей и продажами равен -0.040131589472697356\n"
     ]
    }
   ],
   "source": [
    "# Посчитаем коэффициент корреляции между отзывами и продажами для платформы PS4\n",
    "\n",
    "ps4_critic_data = actual_data.query('platform == \"PS4\"')\n",
    "ps4_critic_data = ps4_critic_data[ps4_critic_data['critic_score'] != -1]\n",
    "\n",
    "ps4_user_data = actual_data.query('platform == \"PS4\"')\n",
    "ps4_user_data = ps4_user_data[ps4_user_data['user_score'] != -1]\n",
    "\n",
    "print('Коэффициент корреляции между оценками критиков и продажами равен', ps4_critic_data['total_sales'].corr(ps4_critic_data['critic_score']))\n",
    "print('Коэффициент корреляции между отзывами пользователей и продажами равен', ps4_user_data['total_sales'].corr(ps4_user_data['user_score']))\n"
   ]
  },
  {
   "cell_type": "code",
   "execution_count": 45,
   "id": "c27efaa4",
   "metadata": {},
   "outputs": [
    {
     "data": {
      "image/png": "[encoded data removed]",
      "text/plain": [
       "<Figure size 432x288 with 1 Axes>"
      ]
     },
     "metadata": {
      "needs_background": "light"
     },
     "output_type": "display_data"
    }
   ],
   "source": [
    "# Построим диаграммы рассеяния\n",
    "\n",
    "ps4_critic_data.plot(kind = 'scatter',\n",
    "                     x = 'critic_score', \n",
    "                    y = 'total_sales',\n",
    "                    xlabel = 'Оценка (0 - 100)',\n",
    "                    ylabel = 'Продажи (млн)'\n",
    "                    )\n",
    "plt.title('Зависимость продаж игр на PS4 от оценок критиков')\n",
    "plt.show()"
   ]
  },
  {
   "cell_type": "code",
   "execution_count": 46,
   "id": "d8ea844b",
   "metadata": {},
   "outputs": [
    {
     "data": {
      "image/png": "[encoded data removed]",
      "text/plain": [
       "<Figure size 432x288 with 1 Axes>"
      ]
     },
     "metadata": {
      "needs_background": "light"
     },
     "output_type": "display_data"
    }
   ],
   "source": [
    "ps4_user_data.plot(kind = 'scatter',\n",
    "                     x = 'user_score', \n",
    "                    y = 'total_sales',\n",
    "                    xlabel = 'Оценка (0 - 10)',\n",
    "                    ylabel = 'Продажи (млн)'\n",
    "                    )\n",
    "plt.title('Зависимость продаж игр на PS4 от оценок игроков')\n",
    "plt.show()"
   ]
  },
  {
   "cell_type": "markdown",
   "id": "4142bc42",
   "metadata": {},
   "source": [
    "В результате вычисления кофэффициентов корреляции и анализа диаграмм можно сделать следующие выводы:\n",
    "   - Оценки критиков слабо влияют на продажи игр на PS4 (коэффициент меньше 0.5)\n",
    "   - Количество продаж игр на PS4 не зависит от оценок игроков"
   ]
  },
  {
   "cell_type": "code",
   "execution_count": 47,
   "id": "f4efded7",
   "metadata": {},
   "outputs": [
    {
     "name": "stdout",
     "output_type": "stream",
     "text": [
      "Коэффициент корреляции между оценками критиков и продажами равен 0.42867694370333226\n",
      "Коэффициент корреляции между отзывами пользователей и продажами равен -0.0703839280647581\n"
     ]
    }
   ],
   "source": [
    "# Далее посчитаем коэффициент корреляции между отзывами и продажами для платформы Xbox One\n",
    "\n",
    "xone_critic_data = actual_data.query('platform == \"XOne\"')\n",
    "xone_critic_data = xone_critic_data[xone_critic_data['critic_score'] != -1]\n",
    "\n",
    "xone_user_data = actual_data.query('platform == \"XOne\"')\n",
    "xone_user_data = xone_user_data[xone_user_data['user_score'] != -1]\n",
    "\n",
    "print('Коэффициент корреляции между оценками критиков и продажами равен', xone_critic_data['total_sales'].corr(xone_critic_data['critic_score']))\n",
    "print('Коэффициент корреляции между отзывами пользователей и продажами равен', xone_user_data['total_sales'].corr(xone_user_data['user_score']))"
   ]
  },
  {
   "cell_type": "code",
   "execution_count": 48,
   "id": "0c4a7955",
   "metadata": {},
   "outputs": [
    {
     "data": {
      "image/png": "[encoded data removed]",
      "text/plain": [
       "<Figure size 432x288 with 1 Axes>"
      ]
     },
     "metadata": {
      "needs_background": "light"
     },
     "output_type": "display_data"
    }
   ],
   "source": [
    "# Построим диаграммы рассеяния\n",
    "\n",
    "xone_critic_data.plot(kind = 'scatter',\n",
    "                     x = 'critic_score', \n",
    "                    y = 'total_sales',\n",
    "                    xlabel = 'Оценка (0 - 100)',\n",
    "                    ylabel = 'Продажи (млн)'\n",
    "                    )\n",
    "plt.title('Зависимость продаж игр на Xbox One от оценок критиков')\n",
    "plt.show()"
   ]
  },
  {
   "cell_type": "code",
   "execution_count": 49,
   "id": "8fbede9f",
   "metadata": {},
   "outputs": [
    {
     "data": {
      "image/png": "[encoded data removed]",
      "text/plain": [
       "<Figure size 432x288 with 1 Axes>"
      ]
     },
     "metadata": {
      "needs_background": "light"
     },
     "output_type": "display_data"
    }
   ],
   "source": [
    "xone_user_data.plot(kind = 'scatter',\n",
    "                     x = 'user_score', \n",
    "                    y = 'total_sales',\n",
    "                    xlabel = 'Оценка (0 - 10)',\n",
    "                    ylabel = 'Продажи (млн)'\n",
    "                    )\n",
    "plt.title('Зависимость продаж игр на Xbox One от оценок игроков')\n",
    "plt.show()"
   ]
  },
  {
   "cell_type": "markdown",
   "id": "91af4ca4",
   "metadata": {},
   "source": [
    "В результате вычисления кофэффициентов корреляции и анализа диаграмм можно сделать следующие выводы:\n",
    "   - Оценки критиков слабо влияют на продажи игр на Xbox One (коэффициент меньше 0.5)\n",
    "   - Количество продаж игр на Xbox one не зависит от оценок игроков"
   ]
  },
  {
   "cell_type": "code",
   "execution_count": 50,
   "id": "0998c068",
   "metadata": {},
   "outputs": [
    {
     "name": "stdout",
     "output_type": "stream",
     "text": [
      "Коэффициент корреляции между оценками критиков и продажами равен 0.370201412480884\n",
      "Коэффициент корреляции между отзывами пользователей и продажами равен 0.4079264579217078\n"
     ]
    }
   ],
   "source": [
    "# Далее посчитаем коэффициент корреляции между отзывами и продажами для платформы Nintendo WiiU\n",
    "\n",
    "wiiu_critic_data = actual_data.query('platform == \"WiiU\"')\n",
    "wiiu_critic_data = wiiu_critic_data[wiiu_critic_data['critic_score'] != -1]\n",
    "\n",
    "wiiu_user_data = actual_data.query('platform == \"WiiU\"')\n",
    "wiiu_user_data = wiiu_user_data[wiiu_user_data['user_score'] != -1]\n",
    "\n",
    "print('Коэффициент корреляции между оценками критиков и продажами равен', wiiu_critic_data['total_sales'].corr(wiiu_critic_data['critic_score']))\n",
    "print('Коэффициент корреляции между отзывами пользователей и продажами равен', wiiu_user_data['total_sales'].corr(wiiu_user_data['user_score']))\n"
   ]
  },
  {
   "cell_type": "code",
   "execution_count": 51,
   "id": "71333e60",
   "metadata": {},
   "outputs": [
    {
     "data": {
      "image/png": "[encoded data removed]",
      "text/plain": [
       "<Figure size 432x288 with 1 Axes>"
      ]
     },
     "metadata": {
      "needs_background": "light"
     },
     "output_type": "display_data"
    }
   ],
   "source": [
    "# Построим диаграммы рассеяния\n",
    "\n",
    "wiiu_critic_data.plot(kind = 'scatter',\n",
    "                     x = 'critic_score', \n",
    "                    y = 'total_sales',\n",
    "                    xlabel = 'Оценка (0 - 100)',\n",
    "                    ylabel = 'Продажи (млн)'\n",
    "                    )\n",
    "plt.title('Зависимость продаж игр на Nintendo WiiU от оценок критиков')\n",
    "plt.show()"
   ]
  },
  {
   "cell_type": "code",
   "execution_count": 52,
   "id": "318d9b90",
   "metadata": {
    "scrolled": false
   },
   "outputs": [
    {
     "data": {
      "image/png": "[encoded data removed]",
      "text/plain": [
       "<Figure size 432x288 with 1 Axes>"
      ]
     },
     "metadata": {
      "needs_background": "light"
     },
     "output_type": "display_data"
    }
   ],
   "source": [
    "wiiu_user_data.plot(kind = 'scatter',\n",
    "                     x = 'user_score', \n",
    "                    y = 'total_sales',\n",
    "                    xlabel = 'Оценка (0 - 10)',\n",
    "                    ylabel = 'Продажи (млн)'\n",
    "                    )\n",
    "plt.title('Зависимость продаж игр на Nintendo WiiU от оценок игроков')\n",
    "plt.show()"
   ]
  },
  {
   "cell_type": "markdown",
   "id": "460aa3a0",
   "metadata": {},
   "source": [
    "В результате вычисления кофэффициентов корреляции и анализа диаграмм можно сделать следующие выводы:\n",
    "   - Оценки критиков слабо влияют на продажи игр на Nintendo WiiU (коэффициент 0.37)\n",
    "   - Оценки игроков слабо влияют на продажи игр на Nintendo WiiU (коэффициент 0.4)\n",
    "   - Оценки игроков влияют на продажи игр на Nintendo WiiU сильнее, чем оценки критиков"
   ]
  },
  {
   "cell_type": "markdown",
   "id": "2262d6c0",
   "metadata": {},
   "source": [
    "#### Вывод:"
   ]
  },
  {
   "cell_type": "markdown",
   "id": "9b6b1bbe",
   "metadata": {},
   "source": [
    "Исходя из оценок коэффициентов корреляции и анализа диаграмм рассеяния, можно сказать, что объем продаж видеоигр очень слабо зависит от оценок критиков и практически не зависит от оценок игроков."
   ]
  },
  {
   "cell_type": "markdown",
   "id": "520c761f",
   "metadata": {},
   "source": [
    "#### Общее распределение игр по жанрам"
   ]
  },
  {
   "cell_type": "code",
   "execution_count": 53,
   "id": "61d42b47",
   "metadata": {},
   "outputs": [
    {
     "data": {
      "image/png": "[encoded data removed]",
      "text/plain": [
       "<Figure size 432x288 with 1 Axes>"
      ]
     },
     "metadata": {
      "needs_background": "light"
     },
     "output_type": "display_data"
    }
   ],
   "source": [
    "# Построим график распределения игр по жанрам\n",
    "# Для этого создаем сводную таблицу\n",
    "\n",
    "genres_data = actual_data.pivot_table(index = 'genre', \n",
    "                                      values = 'total_sales', \n",
    "                                      aggfunc = 'sum'\n",
    "                                     ).sort_values(by = 'total_sales',\n",
    "                                                   ascending = True\n",
    "                                                  )\n",
    "\n",
    "genres_data.plot(kind = 'barh', ylabel = 'Жанр', xlabel = 'Суммарное количество продаж (млн)')\n",
    "plt.title('Сумма продаж по всем жанрам')\n",
    "plt.show()"
   ]
  },
  {
   "cell_type": "code",
   "execution_count": 54,
   "id": "3e834a2b",
   "metadata": {},
   "outputs": [
    {
     "data": {
      "image/png": "[encoded data removed]",
      "text/plain": [
       "<Figure size 432x288 with 1 Axes>"
      ]
     },
     "metadata": {
      "needs_background": "light"
     },
     "output_type": "display_data"
    }
   ],
   "source": [
    "# Теперь посмотрим на средние и медианные значения продаж по каждому жанру\n",
    "\n",
    "genres_data_mean = actual_data.pivot_table(index = 'genre', \n",
    "                                      values = 'total_sales', \n",
    "                                      aggfunc = 'mean'\n",
    "                                     ).sort_values(by = 'total_sales',\n",
    "                                                   ascending = True\n",
    "                                                  )\n",
    "\n",
    "genres_data_mean.plot(kind = 'barh', ylabel = 'Жанр', xlabel = 'Суммарное количество продаж (млн)')\n",
    "plt.title('Среднее значение продаж по всем жанрам')\n",
    "plt.show()"
   ]
  },
  {
   "cell_type": "code",
   "execution_count": 55,
   "id": "28f42387",
   "metadata": {
    "scrolled": true
   },
   "outputs": [
    {
     "data": {
      "image/png": "[encoded data removed]",
      "text/plain": [
       "<Figure size 432x288 with 1 Axes>"
      ]
     },
     "metadata": {
      "needs_background": "light"
     },
     "output_type": "display_data"
    }
   ],
   "source": [
    "genres_data_median = actual_data.pivot_table(index = 'genre', \n",
    "                                      values = 'total_sales', \n",
    "                                      aggfunc = 'median'\n",
    "                                     ).sort_values(by = 'total_sales',\n",
    "                                                   ascending = True\n",
    "                                                  )\n",
    "\n",
    "genres_data_median.plot(kind = 'barh', ylabel = 'Жанр', xlabel = 'Суммарное количество продаж (млн)')\n",
    "plt.title('Медианное значение продаж по всем жанрам')\n",
    "plt.show()"
   ]
  },
  {
   "cell_type": "markdown",
   "id": "f8713760",
   "metadata": {},
   "source": [
    "#### Вывод:"
   ]
  },
  {
   "cell_type": "markdown",
   "id": "912a0787",
   "metadata": {},
   "source": [
    "Судя по графикам, самые прибыльные жанры видеоигр - экшен (около 200 млн), шутеры (около 175 млн), спортивные симуляторы (около 110 млн) и РПГ (около 100 млн). Наименее популярные жанры видеоигр - стратегии и головоломки (менее 10 млн копий).\n",
    "При этом стоит отметить, что в среднем самые продаваемые жанры игр - шутеры (с огромным отрывом от остальных), спортивные симуляторы, платформеры, файтинги и РПГ. Получается, что большую часть общих продаж игр жанра Action составляют продажи игр-бестселлеров, а шутеры стабильно пользуются огромной популярностью. "
   ]
  },
  {
   "cell_type": "markdown",
   "id": "9dca8e1c",
   "metadata": {},
   "source": [
    "### Шаг 4. Портрет пользователя каждого региона (NA, EU, JP)"
   ]
  },
  {
   "cell_type": "code",
   "execution_count": 56,
   "id": "26a6b263",
   "metadata": {},
   "outputs": [
    {
     "data": {
      "image/png": "[encoded data removed]",
      "text/plain": [
       "<Figure size 432x288 with 1 Axes>"
      ]
     },
     "metadata": {
      "needs_background": "light"
     },
     "output_type": "display_data"
    }
   ],
   "source": [
    "# Определим для пользователя каждого региона самые популярные платформы, жанры и рейтинги игр\n",
    "# Начнем с региона Северная Америка\n",
    "\n",
    "# Составим сводные таблицы для построения графиков\n",
    "\n",
    "platform_na = actual_data.pivot_table(index = 'platform', \n",
    "                                      values = 'na_sales', \n",
    "                                      aggfunc = 'sum'\n",
    "                                     ).sort_values(by = 'na_sales',\n",
    "                                                   ascending = True\n",
    "                                                  )\n",
    "\n",
    "genre_na = actual_data.pivot_table(index = 'genre', \n",
    "                                      values = 'na_sales', \n",
    "                                      aggfunc = 'sum'\n",
    "                                     ).sort_values(by = 'na_sales',\n",
    "                                                   ascending = True\n",
    "                                                  )\n",
    "\n",
    "rating_na = actual_data.pivot_table(index = 'rating', \n",
    "                                      values = 'na_sales', \n",
    "                                      aggfunc = 'sum'\n",
    "                                     ).sort_values(by = 'na_sales',\n",
    "                                                   ascending = True\n",
    "                                                  )\n",
    "\n",
    "\n",
    "platform_na.plot(kind = 'barh', ylabel = 'Платформа', xlabel = 'Суммарное количество продаж (млн)')\n",
    "plt.title('Сумма продаж по всем платформам в Северной Америке')\n",
    "plt.show()"
   ]
  },
  {
   "cell_type": "code",
   "execution_count": 57,
   "id": "bda4a28f",
   "metadata": {
    "scrolled": false
   },
   "outputs": [
    {
     "data": {
      "image/png": "[encoded data removed]",
      "text/plain": [
       "<Figure size 432x288 with 1 Axes>"
      ]
     },
     "metadata": {
      "needs_background": "light"
     },
     "output_type": "display_data"
    }
   ],
   "source": [
    "genre_na.plot(kind = 'barh', ylabel = 'Жанр', xlabel = 'Суммарное количество продаж (млн)')\n",
    "plt.title('Сумма продаж по всем жанрам в Северной Америке')\n",
    "plt.show()"
   ]
  },
  {
   "cell_type": "code",
   "execution_count": 58,
   "id": "8e3d3ab9",
   "metadata": {},
   "outputs": [
    {
     "data": {
      "image/png": "[encoded data removed]",
      "text/plain": [
       "<Figure size 432x288 with 1 Axes>"
      ]
     },
     "metadata": {
      "needs_background": "light"
     },
     "output_type": "display_data"
    }
   ],
   "source": [
    "rating_na.plot(kind = 'barh', ylabel = 'Рейтинг', xlabel = 'Суммарное количество продаж (млн)')\n",
    "plt.title('Сумма продаж по всем рейтингам в Северной Америке')\n",
    "plt.show()"
   ]
  },
  {
   "cell_type": "markdown",
   "id": "f7d9147d",
   "metadata": {},
   "source": [
    "#### Портрет пользователя региона Северная Америка:"
   ]
  },
  {
   "cell_type": "markdown",
   "id": "9a051904",
   "metadata": {},
   "source": [
    "- Среди американских игроков самой популярной платформой является Playstation 4. На втором по популярности месте находится Xbox One. Эти платформы сильно отрываются от остальных по популярности в данном регионе.\n",
    "- Самые популярные жанры среди американских игроков - шутер и экшен. Далее следуют спортивные симуляторы и РПГ.\n",
    "- Самый популярный рейтинг игр среди американских игроков - рейтинг M (для взрослых). На втором месте по популярности неизвестный жанр, далее идут игры \"для всех\""
   ]
  },
  {
   "cell_type": "code",
   "execution_count": 59,
   "id": "04241061",
   "metadata": {},
   "outputs": [
    {
     "data": {
      "image/png": "[encoded data removed]",
      "text/plain": [
       "<Figure size 432x288 with 1 Axes>"
      ]
     },
     "metadata": {
      "needs_background": "light"
     },
     "output_type": "display_data"
    }
   ],
   "source": [
    "# Далее определим самые популярные платформы, жанры и рейтинги игр для игроков из Европы\n",
    "\n",
    "# Составим сводные таблицы для построения графиков\n",
    "\n",
    "platform_eu = actual_data.pivot_table(index = 'platform', \n",
    "                                      values = 'eu_sales', \n",
    "                                      aggfunc = 'sum'\n",
    "                                     ).sort_values(by = 'eu_sales',\n",
    "                                                   ascending = True\n",
    "                                                  )\n",
    "\n",
    "genre_eu = actual_data.pivot_table(index = 'genre', \n",
    "                                      values = 'eu_sales', \n",
    "                                      aggfunc = 'sum'\n",
    "                                     ).sort_values(by = 'eu_sales',\n",
    "                                                   ascending = True\n",
    "                                                  )\n",
    "\n",
    "rating_eu = actual_data.pivot_table(index = 'rating', \n",
    "                                      values = 'eu_sales', \n",
    "                                      aggfunc = 'sum'\n",
    "                                     ).sort_values(by = 'eu_sales',\n",
    "                                                   ascending = True\n",
    "                                                  )\n",
    "\n",
    "\n",
    "platform_eu.plot(kind = 'barh', ylabel = 'Платформа', xlabel = 'Суммарное количество продаж (млн)', color = 'c')\n",
    "plt.title('Сумма продаж по всем платформам в Европе')\n",
    "plt.show()"
   ]
  },
  {
   "cell_type": "code",
   "execution_count": 60,
   "id": "612d352b",
   "metadata": {},
   "outputs": [
    {
     "data": {
      "image/png": "[encoded data removed]",
      "text/plain": [
       "<Figure size 432x288 with 1 Axes>"
      ]
     },
     "metadata": {
      "needs_background": "light"
     },
     "output_type": "display_data"
    }
   ],
   "source": [
    "genre_eu.plot(kind = 'barh', ylabel = 'Жанр', xlabel = 'Суммарное количество продаж (млн)', color = 'c')\n",
    "plt.title('Сумма продаж по всем жанрам в Европе')\n",
    "plt.show()"
   ]
  },
  {
   "cell_type": "code",
   "execution_count": 61,
   "id": "d9bde7e3",
   "metadata": {},
   "outputs": [
    {
     "data": {
      "image/png": "[encoded data removed]",
      "text/plain": [
       "<Figure size 432x288 with 1 Axes>"
      ]
     },
     "metadata": {
      "needs_background": "light"
     },
     "output_type": "display_data"
    }
   ],
   "source": [
    "rating_eu.plot(kind = 'barh', ylabel = 'Рейтинг', xlabel = 'Суммарное количество продаж (млн)', color = 'c')\n",
    "plt.title('Сумма продаж по всем рейтингам в Европе')\n",
    "plt.show()"
   ]
  },
  {
   "cell_type": "markdown",
   "id": "7a1349a5",
   "metadata": {},
   "source": [
    "#### Портрет пользователя региона Европа:"
   ]
  },
  {
   "cell_type": "markdown",
   "id": "e0c58f71",
   "metadata": {},
   "source": [
    "- Среди европейских игроков наиболее популярной платформой является Playstation 4. На втором по популярности месте находится Xbox One.\n",
    "- Самые популярные жанры среди европейских игроков - экшен и шутер. Далее идут спортивные симуляторы и РПГ.\n",
    "- Самый популярный рейтинг игр среди американских игроков - рейтинг M (для взрослых). На втором месте по популярности неизвестный жанр, далее идут игры \"для всех\""
   ]
  },
  {
   "cell_type": "code",
   "execution_count": 62,
   "id": "c2c4ec6b",
   "metadata": {},
   "outputs": [
    {
     "data": {
      "image/png": "[encoded data removed]",
      "text/plain": [
       "<Figure size 432x288 with 1 Axes>"
      ]
     },
     "metadata": {
      "needs_background": "light"
     },
     "output_type": "display_data"
    }
   ],
   "source": [
    "# Определим самые популярные платформы, жанры и рейтинги игр для игроков из Японии\n",
    "\n",
    "# Составим сводные таблицы для построения графиков\n",
    "\n",
    "platform_jp = actual_data.pivot_table(index = 'platform', \n",
    "                                      values = 'jp_sales', \n",
    "                                      aggfunc = 'sum'\n",
    "                                     ).sort_values(by = 'jp_sales',\n",
    "                                                   ascending = True\n",
    "                                                  )\n",
    "\n",
    "genre_jp = actual_data.pivot_table(index = 'genre', \n",
    "                                      values = 'jp_sales', \n",
    "                                      aggfunc = 'sum'\n",
    "                                     ).sort_values(by = 'jp_sales',\n",
    "                                                   ascending = True\n",
    "                                                  )\n",
    "\n",
    "rating_jp = actual_data.pivot_table(index = 'rating', \n",
    "                                      values = 'jp_sales', \n",
    "                                      aggfunc = 'sum'\n",
    "                                     ).sort_values(by = 'jp_sales',\n",
    "                                                   ascending = True\n",
    "                                                  )\n",
    "\n",
    "\n",
    "platform_jp.plot(kind = 'barh', ylabel = 'Платформа', xlabel = 'Суммарное количество продаж (млн)', color = 'r')\n",
    "plt.title('Сумма продаж по всем платформам в Японии')\n",
    "plt.show()"
   ]
  },
  {
   "cell_type": "code",
   "execution_count": 63,
   "id": "4d03dea4",
   "metadata": {},
   "outputs": [
    {
     "data": {
      "image/png": "[encoded data removed]",
      "text/plain": [
       "<Figure size 432x288 with 1 Axes>"
      ]
     },
     "metadata": {
      "needs_background": "light"
     },
     "output_type": "display_data"
    }
   ],
   "source": [
    "genre_jp.plot(kind = 'barh', ylabel = 'Жанр', xlabel = 'Суммарное количество продаж (млн)', color = 'r')\n",
    "plt.title('Сумма продаж по всем жанрам в Японии')\n",
    "plt.show()"
   ]
  },
  {
   "cell_type": "code",
   "execution_count": 64,
   "id": "6b892f1b",
   "metadata": {},
   "outputs": [
    {
     "data": {
      "image/png": "[encoded data removed]",
      "text/plain": [
       "<Figure size 432x288 with 1 Axes>"
      ]
     },
     "metadata": {
      "needs_background": "light"
     },
     "output_type": "display_data"
    }
   ],
   "source": [
    "rating_jp.plot(kind = 'barh', ylabel = 'Рейтинг', xlabel = 'Суммарное количество продаж (млн)', color = 'r')\n",
    "plt.title('Сумма продаж по всем рейтингам в Японии')\n",
    "plt.show()"
   ]
  },
  {
   "cell_type": "markdown",
   "id": "6ae99424",
   "metadata": {},
   "source": [
    "#### Портрет пользователя региона Япония:"
   ]
  },
  {
   "cell_type": "markdown",
   "id": "c6a3c18c",
   "metadata": {},
   "source": [
    "- Среди японских игроков наиболее популярной платформой является Nintendo 3DS. На втором по популярности месте находится Playstation 4.\n",
    "- Самые популярные жанры среди японских игроков - РПГ и экшен. Далее идут файтинги и misc.\n",
    "- Самые популярные игры среди японских пользователей относятся к категории с неизвестным рейтингом - Unknown. На втором месте по популярности игры для подростков, далее идут игры \"для всех\"."
   ]
  },
  {
   "cell_type": "markdown",
   "id": "7f647a3e",
   "metadata": {},
   "source": [
    "#### Вывод:"
   ]
  },
  {
   "cell_type": "markdown",
   "id": "ffdaf4f9",
   "metadata": {},
   "source": [
    "Предпочтения игроков из Северной Америки в целом не сильно отличаются от предпочтений европейских игроков:\n",
    "- самая популярная платформа для обоих регионов - PS4;\n",
    "- самые популярные жанры - экшен и шутер;\n",
    "- самый популярный рейтинг - M (для взрослых).\n",
    "\n"
   ]
  },
  {
   "cell_type": "markdown",
   "id": "bd52c7b3",
   "metadata": {},
   "source": [
    "Игроки из японии очень сильно отличаются от пользователей из Северной Америки и Европы:\n",
    "- Самая популярная платформа - Nintendo 3DS. PS4 очень сильно позади, а Xbox One в Японии вообще не пользуется популярностью.\n",
    "- Самый популярный жанр - РПГ;\n",
    "- Самый популярный рейтинг - Unknown (игры с неизвестным рейтингом)."
   ]
  },
  {
   "cell_type": "markdown",
   "id": "7f70358b",
   "metadata": {},
   "source": [
    "Таким образом, при планировании рекламных кампаний, обязательно следует учитывать такую сильную разницу в предпочтениях игроков из разных регионов. Единственное, что в равной степени популярно среди игроков всех регионов - жанр Action."
   ]
  },
  {
   "cell_type": "markdown",
   "id": "efe067d7",
   "metadata": {},
   "source": [
    "### Шаг 5. Проверка гипотез"
   ]
  },
  {
   "cell_type": "markdown",
   "id": "c1dd4c5e",
   "metadata": {},
   "source": [
    "##### Средние пользовательские рейтинги платформ Xbox One и PC одинаковые"
   ]
  },
  {
   "cell_type": "markdown",
   "id": "31345bd2",
   "metadata": {},
   "source": [
    "Нулевая гипотеза - это предположение о том, что не существует значимых различий между двумя наблюдаемыми событиями. Альтернативная гипотеза - противоположность нулевой, соответственно:"
   ]
  },
  {
   "cell_type": "markdown",
   "id": "03e5dcdf",
   "metadata": {},
   "source": [
    "- **Нулевая гипотеза:** средние пользовательские рейтинги платформ Xbox One и PC одинаковые.\n",
    "- **Альтернативная гипотеза:** средние пользовательские рейтинги платформ Xbox One и PC не одинаковые."
   ]
  },
  {
   "cell_type": "markdown",
   "id": "2325b492",
   "metadata": {},
   "source": [
    "Так как мы проверяем неравенство, гипотеза является двусторонней. Для проверки двусторонней гипотезы о равенстве среднего двух независимых генеральных совокупностей (по взятым из них выборкам) в Python есть специальный метод st.ttest_ind()."
   ]
  },
  {
   "cell_type": "code",
   "execution_count": 65,
   "id": "f2b5e473",
   "metadata": {},
   "outputs": [
    {
     "name": "stdout",
     "output_type": "stream",
     "text": [
      "p-значение: 0.10450507919348415\n",
      "Не отвергаем нулевую гипотезу\n"
     ]
    }
   ],
   "source": [
    "# Перед проверкой нулевой гипотезы исключаем из данных пропуски, заполненные отрицательными значениями\n",
    "# Создаем новый датафрейм без отрицательных щначений\n",
    "\n",
    "actual_data_plus = actual_data[actual_data['user_score'] != -1]\n",
    "\n",
    "# Проверяем нулевую гипотезу\n",
    "\n",
    "alpha = 0.05 # уровень статистической значимости\n",
    "results = st.ttest_ind(actual_data_plus.query('platform == \"XOne\"')['user_score'], actual_data_plus.query('platform == \"PC\"')['user_score'])\n",
    "\n",
    "print('p-значение:', results.pvalue)\n",
    "\n",
    "if (results.pvalue < alpha):\n",
    "    print('Отвергаем нулевую гипотезу')\n",
    "else:\n",
    "    print('Не отвергаем нулевую гипотезу')"
   ]
  },
  {
   "cell_type": "markdown",
   "id": "2465026b",
   "metadata": {},
   "source": [
    "**Вывод:** результат проверки показал, что p-value выше уровня статистической значимости. Это означает, что отвергнуть гипотезу о том, что средние пользовательские рейтинги платформ Xbox One и PC одинаковые, мы не можем."
   ]
  },
  {
   "cell_type": "markdown",
   "id": "ca0092d5",
   "metadata": {},
   "source": [
    "##### Средние пользовательские рейтинги жанров Action и Sports разные"
   ]
  },
  {
   "cell_type": "markdown",
   "id": "8881ea4c",
   "metadata": {},
   "source": [
    "- **Нулевая гипотеза:** cредние пользовательские рейтинги жанров Action и Sports не отличаются.\n",
    "- **Альтернативная гипотеза:** cредние пользовательские рейтинги жанров Action и Sports отличаются."
   ]
  },
  {
   "cell_type": "code",
   "execution_count": 66,
   "id": "7fda3ed8",
   "metadata": {
    "scrolled": true
   },
   "outputs": [
    {
     "name": "stdout",
     "output_type": "stream",
     "text": [
      "p-значение: 2.8711147985105864e-19\n",
      "Отвергаем нулевую гипотезу\n"
     ]
    }
   ],
   "source": [
    "# Проверяем нулевую гипотезу\n",
    "\n",
    "alpha = 0.05 # уровень статистической значимости\n",
    "results = st.ttest_ind(actual_data_plus.query('genre == \"Action\"')['user_score'], actual_data_plus.query('genre == \"Sports\"')['user_score'])\n",
    "\n",
    "print('p-значение:', results.pvalue)\n",
    "\n",
    "if (results.pvalue < alpha):\n",
    "    print('Отвергаем нулевую гипотезу')\n",
    "else:\n",
    "    print('Не отвергаем нулевую гипотезу')"
   ]
  },
  {
   "cell_type": "markdown",
   "id": "36e96627",
   "metadata": {},
   "source": [
    "**Вывод:** результат проверки показал, что p-value слишком мало, поэтому нулевую гипотезу нужно отвергуть. Вероятнее всего, cредние пользовательские рейтинги жанров Action и Sports отличаются."
   ]
  },
  {
   "cell_type": "markdown",
   "id": "e831520a",
   "metadata": {},
   "source": [
    "## Итоговый вывод"
   ]
  },
  {
   "cell_type": "markdown",
   "id": "bbb9a2cb",
   "metadata": {},
   "source": [
    "### В результате выполнения проекта:"
   ]
  },
  {
   "cell_type": "markdown",
   "id": "b0395266",
   "metadata": {},
   "source": [
    "- Изучена общая информация о первичных данных: набор данных из 16715 строк и 11 столбцов содержит информацию об играх, их продажах в различных регионах (Северная Америка, Европа, Япония и остальной мир), а также об их оценке (критиков и игроков) и рейтинге от организации ESRB."
   ]
  },
  {
   "cell_type": "markdown",
   "id": "7b702ff8",
   "metadata": {},
   "source": [
    "- В результате предобработки данных недостатки были выявлены и устранены, а значения в столбцах были приведены к необходимым типам данных. В датасет был добавлен новый столбец с подсчитанными значениями суммарных продаж видеоигр во всех регионах."
   ]
  },
  {
   "cell_type": "markdown",
   "id": "5d1211c9",
   "metadata": {},
   "source": [
    "- Проведен исследовательский анализ данных, на основании которого можно сделать следующие выводы:\n",
    "\n",
    "    - Количество игровых новинок начало активно расти с начала 1990-х. С развитием индустрии в начале 2000-х наблюдается резкий скачок по количеству релизов. В период с 2003 - 2004 гг число релизов немного упало, однако с 2005 по 2009 гг выросло в несколько раз. С 2010 года количество релизов начало заметно сокращаться вплоть до наших дней;\n",
    "    - На данный момент платформами с наибольшими суммарными продажами являются (в порядке убывания) PS2, Xbox 360, PS3, Wii, DS, и PS. В среднем \"цикл жизни\" платформы составляет около 10 лет, а пик продаж в среднем приходится спустя 3-4 года после её выпуска."
   ]
  },
  {
   "cell_type": "markdown",
   "id": "1ab177ce",
   "metadata": {},
   "source": [
    "- Исследование данных за актуальный период привело к следующим результатам:\n",
    "\n",
    "    - Самые популярные платформы на данный момент - PS4, Xbox One, и Nintendo 3DS;\n",
    "    - Потенциально прибыльными платформами для продажи видеоигр являются Playstation 4 и Xbox One. Продажи игр на Nintendo 3DS и Wii U падают с 2014 года;\n",
    "    - Изучив график \"ящик с усами\" по глобальным продажам игр в разбивке по платформам, а также сводную таблицу, можно сделать несколько выводов:\n",
    "\n",
    "        - У трех самых популярных на данный момент платформ медианы продаж имеют примерно равные значения. Самое высокое значение медианы у Xbox One (0.205 млн копий);\n",
    "        - Средние значения трех самых популярных платформ также примерно равны. Самое высокое среднее значение у PS4 (0.766356);\n",
    "        - График «ящик с усами» подтверждает, что самыми популярными платформами на сегодняшний день являются PS4, Xbox One и Nintendo WiiU.\n",
    "\n",
    "    - Исходя из оценок коэффициентов корреляции и анализа диаграмм рассеяния, можно сказать, что объем продаж видеоигр очень слабо зависит от оценок критиков и практически не зависит от оценок игроков;\n",
    "    - Самые прибыльные жанры видеоигр - экшен (около 200 млн), шутеры (около 175 млн), спортивные симуляторы (около 110 млн) и РПГ (около 100 млн). Большую часть общих продаж игр жанра Action составляют продажи игр-бестселлеров, а шутеры стабильно пользуются огромной популярностью. Наименее популярные жанры видеоигр - стратегии и головоломки (менее 10 млн копий);"
   ]
  },
  {
   "cell_type": "markdown",
   "id": "08a37e7d",
   "metadata": {},
   "source": [
    "- Составлены следующие портреты  пользователей каждого региона:\n",
    "\n",
    "    - Портрет пользователя региона Северная Америка:\n",
    "    \n",
    "        - Среди американских игроков самой популярной платформой является Playstation 4. На втором по популярности месте находится Xbox One. Эти платформы сильно отрываются от остальных по популярности в данном регионе;\n",
    "        - Самые популярные жанры среди американских игроков - шутер и экшен. Далее следуют спортивные симуляторы и РПГ;\n",
    "        - Самый популярный рейтинг игр среди американских игроков - рейтинг M (для взрослых). На втором месте по популярности неизвестный жанр, далее идут игры \"для всех\".\n",
    "        \n",
    "    - Портрет пользователя региона Европа:\n",
    "\n",
    "        - Среди европейских игроков наиболее популярной платформой является Playstation 4. На втором по популярности месте находится Xbox One;\n",
    "        - Самые популярные жанры среди европейских игроков - экшен и шутер. Далее идут спортивные симуляторы и РПГ;\n",
    "        - Самый популярный рейтинг игр среди американских игроков - рейтинг M (для взрослых). На втором месте по популярности неизвестный жанр, далее идут игры \"для всех\".\n",
    "        \n",
    "    -  Портрет пользователя региона Япония:\n",
    "     \n",
    "        - Среди японских игроков наиболее популярной платформой является Nintendo 3DS. На втором по популярности месте находится Playstation 4;\n",
    "        - Самые популярные жанры среди японских игроков - РПГ и экшен. Далее идут файтинги и misc;\n",
    "        - Самые популярные игры среди японских пользователей относятся к категории с неизвестным рейтингом - Unknown. На втором месте по популярности игры для подростков, далее идут игры \"для всех\";"
   ]
  },
  {
   "cell_type": "markdown",
   "id": "8833d4aa",
   "metadata": {},
   "source": [
    "- Проведена проверка следующих гипотез:    \n",
    "\n",
    "    1. Средние пользовательские рейтинги платформ Xbox One и PC одинаковые;\n",
    "    2. Средние пользовательские рейтинги жанров Action и Sports разные.\n",
    "    \n",
    "- Результат проверки гипотез:\n",
    "\n",
    "    1. Отвергнуть гипотезу о том, что средние пользовательские рейтинги платформ Xbox One и PC одинаковые, мы не можем.\n",
    "    2. Вероятнее всего, cредние пользовательские рейтинги жанров Action и Sports отличаются."
   ]
  },
  {
   "cell_type": "markdown",
   "id": "098616b5",
   "metadata": {},
   "source": [
    "\n",
    "        \n"
   ]
  },
  {
   "cell_type": "markdown",
   "id": "026484a7",
   "metadata": {},
   "source": [
    "**На основании проведенного исследования и проверки гипотез, можно сделать несколько главных выводов:**\n",
    "\n",
    "1. С 2010 года количество релизов начало заметно сокращаться;\n",
    "\n",
    "2. Самые популярные платформы на данный момент (2016 год) - PS4, Xbox One, и Nintendo 3DS; \n",
    "\n",
    "3. Объем продаж видеоигр зависит от жанра, рейтинга и платформы: \n",
    "\n",
    "    - Самые продаваемые жанры видеоигр (по убыванию) - Action, Shooter, Sports и RPG. Однако игры жанров Shooter и Sports продаются в среднем стабильно на высоком уровне, чего нельзя сказать про жанр Action;\n",
    "    - Самые продаваемые игры в Северной Америке и Европе имеют рейтинг M (для взрослых), а в Японии наиболее продаваемые игры имеют рейтинг Unknown;\n",
    "    - Наибольший объем продаж видеоигр на платформах PS4 и Xbox One (в NA и EU), а также Nintendo 3DS (в JP);\n",
    "    - Объем продаж видеоигры очень слабо зависит от оценок критиков и практически не зависит от оценок игроков;\n",
    "    \n",
    "4. Предпочтения игроков из Северной Америки в целом не сильно отличаются от предпочтений европейских игроков, а игроки из японии очень сильно отличаются от пользователей из Северной Америки и Европы. Например, PS4 и Xbox One - самые популярные платформы в Северной Америке и Европе, а Nintendo 3DS - в Японии. При этом очень важно отметить, что в Японии Xbox One вообще не пользуется популярностью. Также, к примеру, самые популярные жанры в Европе и Северной Америке - шутеры и экшен, в то время как в Японии огромной популярностью пользуются жанры RPG и экшен. Вообще, жанр Action, пожалуй, еинственное, что в равной степени популярно среди игроков всех регионов. Именно поэтому при планировании рекламных кампаний очень важно учитывать такую сильную разницу в предпочтениях игроков из разных регионов."
   ]
  },
  {
   "cell_type": "markdown",
   "id": "ef4acd3a",
   "metadata": {},
   "source": [
    "В дальнейшем имеет смысл дополнить датасет и проверить следующие гипотезы:\n",
    "   1. Среднее значение продаж кроссплатформенных видеоигр больше по сравнению с играми-эксклюзивами. \n",
    "   2. Среднее значение продаж многопользовательских видеоигр больше по сравнению с одиночными играми."
   ]
  }
 ],
 "metadata": {
  "ExecuteTimeLog": [
   {
    "duration": 1271,
    "start_time": "2023-06-04T09:15:46.614Z"
   },
   {
    "duration": 163,
    "start_time": "2023-06-04T09:15:47.887Z"
   },
   {
    "duration": 27,
    "start_time": "2023-06-04T09:15:48.052Z"
   },
   {
    "duration": 20,
    "start_time": "2023-06-04T09:15:48.081Z"
   },
   {
    "duration": 32,
    "start_time": "2023-06-04T09:15:48.102Z"
   },
   {
    "duration": 8,
    "start_time": "2023-06-04T09:15:48.136Z"
   },
   {
    "duration": 4,
    "start_time": "2023-06-04T09:15:48.145Z"
   },
   {
    "duration": 16,
    "start_time": "2023-06-04T09:15:48.151Z"
   },
   {
    "duration": 4,
    "start_time": "2023-06-04T09:15:48.169Z"
   },
   {
    "duration": 8,
    "start_time": "2023-06-04T09:15:48.176Z"
   },
   {
    "duration": 5,
    "start_time": "2023-06-04T09:15:48.185Z"
   },
   {
    "duration": 38,
    "start_time": "2023-06-04T09:15:48.192Z"
   },
   {
    "duration": 21,
    "start_time": "2023-06-04T09:15:48.233Z"
   },
   {
    "duration": 122,
    "start_time": "2023-06-04T09:15:48.256Z"
   },
   {
    "duration": 0,
    "start_time": "2023-06-04T09:15:48.381Z"
   },
   {
    "duration": 0,
    "start_time": "2023-06-04T09:15:48.383Z"
   },
   {
    "duration": 0,
    "start_time": "2023-06-04T09:15:48.384Z"
   },
   {
    "duration": 0,
    "start_time": "2023-06-04T09:15:48.385Z"
   },
   {
    "duration": 0,
    "start_time": "2023-06-04T09:15:48.385Z"
   },
   {
    "duration": 0,
    "start_time": "2023-06-04T09:15:48.386Z"
   },
   {
    "duration": 0,
    "start_time": "2023-06-04T09:15:48.387Z"
   },
   {
    "duration": 0,
    "start_time": "2023-06-04T09:15:48.388Z"
   },
   {
    "duration": 0,
    "start_time": "2023-06-04T09:15:48.389Z"
   },
   {
    "duration": 0,
    "start_time": "2023-06-04T09:15:48.390Z"
   },
   {
    "duration": 0,
    "start_time": "2023-06-04T09:15:48.391Z"
   },
   {
    "duration": 0,
    "start_time": "2023-06-04T09:15:48.392Z"
   },
   {
    "duration": 0,
    "start_time": "2023-06-04T09:15:48.393Z"
   },
   {
    "duration": 0,
    "start_time": "2023-06-04T09:15:48.393Z"
   },
   {
    "duration": 0,
    "start_time": "2023-06-04T09:15:48.394Z"
   },
   {
    "duration": 0,
    "start_time": "2023-06-04T09:15:48.395Z"
   },
   {
    "duration": 0,
    "start_time": "2023-06-04T09:15:48.396Z"
   },
   {
    "duration": 0,
    "start_time": "2023-06-04T09:15:48.426Z"
   },
   {
    "duration": 0,
    "start_time": "2023-06-04T09:15:48.427Z"
   },
   {
    "duration": 0,
    "start_time": "2023-06-04T09:15:48.428Z"
   },
   {
    "duration": 0,
    "start_time": "2023-06-04T09:15:48.428Z"
   },
   {
    "duration": 0,
    "start_time": "2023-06-04T09:15:48.430Z"
   },
   {
    "duration": 0,
    "start_time": "2023-06-04T09:15:48.431Z"
   },
   {
    "duration": 0,
    "start_time": "2023-06-04T09:15:48.432Z"
   },
   {
    "duration": 0,
    "start_time": "2023-06-04T09:15:48.433Z"
   },
   {
    "duration": 0,
    "start_time": "2023-06-04T09:15:48.435Z"
   },
   {
    "duration": 0,
    "start_time": "2023-06-04T09:15:48.436Z"
   },
   {
    "duration": 0,
    "start_time": "2023-06-04T09:15:48.437Z"
   },
   {
    "duration": 0,
    "start_time": "2023-06-04T09:15:48.438Z"
   },
   {
    "duration": 0,
    "start_time": "2023-06-04T09:15:48.440Z"
   },
   {
    "duration": 0,
    "start_time": "2023-06-04T09:15:48.441Z"
   },
   {
    "duration": 0,
    "start_time": "2023-06-04T09:15:48.442Z"
   },
   {
    "duration": 0,
    "start_time": "2023-06-04T09:15:48.443Z"
   },
   {
    "duration": 0,
    "start_time": "2023-06-04T09:15:48.445Z"
   },
   {
    "duration": 0,
    "start_time": "2023-06-04T09:15:48.446Z"
   },
   {
    "duration": 0,
    "start_time": "2023-06-04T09:15:48.448Z"
   },
   {
    "duration": 0,
    "start_time": "2023-06-04T09:15:48.449Z"
   },
   {
    "duration": 0,
    "start_time": "2023-06-04T09:15:48.450Z"
   },
   {
    "duration": 0,
    "start_time": "2023-06-04T09:15:48.451Z"
   },
   {
    "duration": 0,
    "start_time": "2023-06-04T09:15:48.452Z"
   },
   {
    "duration": 0,
    "start_time": "2023-06-04T09:15:48.454Z"
   },
   {
    "duration": 0,
    "start_time": "2023-06-04T09:15:48.455Z"
   },
   {
    "duration": 0,
    "start_time": "2023-06-04T09:15:48.456Z"
   },
   {
    "duration": 0,
    "start_time": "2023-06-04T09:15:48.457Z"
   },
   {
    "duration": 0,
    "start_time": "2023-06-04T09:15:48.459Z"
   },
   {
    "duration": 0,
    "start_time": "2023-06-04T09:15:48.460Z"
   },
   {
    "duration": 0,
    "start_time": "2023-06-04T09:15:48.461Z"
   },
   {
    "duration": 71,
    "start_time": "2023-06-04T10:52:49.337Z"
   },
   {
    "duration": 1832,
    "start_time": "2023-06-04T10:53:01.594Z"
   },
   {
    "duration": 233,
    "start_time": "2023-06-04T10:53:03.429Z"
   },
   {
    "duration": 51,
    "start_time": "2023-06-04T10:53:03.664Z"
   },
   {
    "duration": 20,
    "start_time": "2023-06-04T10:53:03.717Z"
   },
   {
    "duration": 16,
    "start_time": "2023-06-04T10:53:03.740Z"
   },
   {
    "duration": 15,
    "start_time": "2023-06-04T10:53:03.757Z"
   },
   {
    "duration": 15,
    "start_time": "2023-06-04T10:53:03.775Z"
   },
   {
    "duration": 18,
    "start_time": "2023-06-04T10:53:03.792Z"
   },
   {
    "duration": 5,
    "start_time": "2023-06-04T10:53:03.816Z"
   },
   {
    "duration": 8,
    "start_time": "2023-06-04T10:53:03.823Z"
   },
   {
    "duration": 4,
    "start_time": "2023-06-04T10:53:03.833Z"
   },
   {
    "duration": 19,
    "start_time": "2023-06-04T10:53:03.838Z"
   },
   {
    "duration": 19,
    "start_time": "2023-06-04T10:53:03.859Z"
   },
   {
    "duration": 153,
    "start_time": "2023-06-04T10:53:03.882Z"
   },
   {
    "duration": 0,
    "start_time": "2023-06-04T10:53:04.038Z"
   },
   {
    "duration": 0,
    "start_time": "2023-06-04T10:53:04.040Z"
   },
   {
    "duration": 0,
    "start_time": "2023-06-04T10:53:04.040Z"
   },
   {
    "duration": 0,
    "start_time": "2023-06-04T10:53:04.041Z"
   },
   {
    "duration": 0,
    "start_time": "2023-06-04T10:53:04.043Z"
   },
   {
    "duration": 0,
    "start_time": "2023-06-04T10:53:04.044Z"
   },
   {
    "duration": 0,
    "start_time": "2023-06-04T10:53:04.046Z"
   },
   {
    "duration": 0,
    "start_time": "2023-06-04T10:53:04.047Z"
   },
   {
    "duration": 0,
    "start_time": "2023-06-04T10:53:04.050Z"
   },
   {
    "duration": 0,
    "start_time": "2023-06-04T10:53:04.051Z"
   },
   {
    "duration": 0,
    "start_time": "2023-06-04T10:53:04.052Z"
   },
   {
    "duration": 0,
    "start_time": "2023-06-04T10:53:04.078Z"
   },
   {
    "duration": 0,
    "start_time": "2023-06-04T10:53:04.079Z"
   },
   {
    "duration": 0,
    "start_time": "2023-06-04T10:53:04.080Z"
   },
   {
    "duration": 0,
    "start_time": "2023-06-04T10:53:04.082Z"
   },
   {
    "duration": 0,
    "start_time": "2023-06-04T10:53:04.082Z"
   },
   {
    "duration": 0,
    "start_time": "2023-06-04T10:53:04.085Z"
   },
   {
    "duration": 0,
    "start_time": "2023-06-04T10:53:04.087Z"
   },
   {
    "duration": 0,
    "start_time": "2023-06-04T10:53:04.088Z"
   },
   {
    "duration": 0,
    "start_time": "2023-06-04T10:53:04.091Z"
   },
   {
    "duration": 0,
    "start_time": "2023-06-04T10:53:04.093Z"
   },
   {
    "duration": 0,
    "start_time": "2023-06-04T10:53:04.096Z"
   },
   {
    "duration": 0,
    "start_time": "2023-06-04T10:53:04.097Z"
   },
   {
    "duration": 0,
    "start_time": "2023-06-04T10:53:04.099Z"
   },
   {
    "duration": 0,
    "start_time": "2023-06-04T10:53:04.099Z"
   },
   {
    "duration": 0,
    "start_time": "2023-06-04T10:53:04.100Z"
   },
   {
    "duration": 0,
    "start_time": "2023-06-04T10:53:04.108Z"
   },
   {
    "duration": 0,
    "start_time": "2023-06-04T10:53:04.115Z"
   },
   {
    "duration": 0,
    "start_time": "2023-06-04T10:53:04.121Z"
   },
   {
    "duration": 0,
    "start_time": "2023-06-04T10:53:04.122Z"
   },
   {
    "duration": 0,
    "start_time": "2023-06-04T10:53:04.128Z"
   },
   {
    "duration": 0,
    "start_time": "2023-06-04T10:53:04.131Z"
   },
   {
    "duration": 0,
    "start_time": "2023-06-04T10:53:04.132Z"
   },
   {
    "duration": 0,
    "start_time": "2023-06-04T10:53:04.133Z"
   },
   {
    "duration": 0,
    "start_time": "2023-06-04T10:53:04.134Z"
   },
   {
    "duration": 0,
    "start_time": "2023-06-04T10:53:04.135Z"
   },
   {
    "duration": 0,
    "start_time": "2023-06-04T10:53:04.136Z"
   },
   {
    "duration": 0,
    "start_time": "2023-06-04T10:53:04.137Z"
   },
   {
    "duration": 0,
    "start_time": "2023-06-04T10:53:04.138Z"
   },
   {
    "duration": 0,
    "start_time": "2023-06-04T10:53:04.139Z"
   },
   {
    "duration": 0,
    "start_time": "2023-06-04T10:53:04.140Z"
   },
   {
    "duration": 0,
    "start_time": "2023-06-04T10:53:04.141Z"
   },
   {
    "duration": 0,
    "start_time": "2023-06-04T10:53:04.142Z"
   },
   {
    "duration": 0,
    "start_time": "2023-06-04T10:53:04.143Z"
   },
   {
    "duration": 0,
    "start_time": "2023-06-04T10:53:04.174Z"
   },
   {
    "duration": 0,
    "start_time": "2023-06-04T10:53:04.176Z"
   },
   {
    "duration": 0,
    "start_time": "2023-06-04T10:53:04.178Z"
   },
   {
    "duration": 1238,
    "start_time": "2023-06-04T10:53:17.412Z"
   },
   {
    "duration": 153,
    "start_time": "2023-06-04T10:53:18.652Z"
   },
   {
    "duration": 29,
    "start_time": "2023-06-04T10:53:18.810Z"
   },
   {
    "duration": 18,
    "start_time": "2023-06-04T10:53:18.841Z"
   },
   {
    "duration": 43,
    "start_time": "2023-06-04T10:53:18.860Z"
   },
   {
    "duration": 12,
    "start_time": "2023-06-04T10:53:18.907Z"
   },
   {
    "duration": 5,
    "start_time": "2023-06-04T10:53:18.920Z"
   },
   {
    "duration": 6,
    "start_time": "2023-06-04T10:53:18.926Z"
   },
   {
    "duration": 4,
    "start_time": "2023-06-04T10:53:18.934Z"
   },
   {
    "duration": 7,
    "start_time": "2023-06-04T10:53:18.940Z"
   },
   {
    "duration": 4,
    "start_time": "2023-06-04T10:53:18.949Z"
   },
   {
    "duration": 25,
    "start_time": "2023-06-04T10:53:18.954Z"
   },
   {
    "duration": 21,
    "start_time": "2023-06-04T10:53:18.981Z"
   },
   {
    "duration": 140,
    "start_time": "2023-06-04T10:53:19.005Z"
   },
   {
    "duration": 0,
    "start_time": "2023-06-04T10:53:19.147Z"
   },
   {
    "duration": 0,
    "start_time": "2023-06-04T10:53:19.148Z"
   },
   {
    "duration": 0,
    "start_time": "2023-06-04T10:53:19.148Z"
   },
   {
    "duration": 0,
    "start_time": "2023-06-04T10:53:19.149Z"
   },
   {
    "duration": 0,
    "start_time": "2023-06-04T10:53:19.150Z"
   },
   {
    "duration": 0,
    "start_time": "2023-06-04T10:53:19.151Z"
   },
   {
    "duration": 0,
    "start_time": "2023-06-04T10:53:19.152Z"
   },
   {
    "duration": 0,
    "start_time": "2023-06-04T10:53:19.153Z"
   },
   {
    "duration": 0,
    "start_time": "2023-06-04T10:53:19.154Z"
   },
   {
    "duration": 0,
    "start_time": "2023-06-04T10:53:19.155Z"
   },
   {
    "duration": 0,
    "start_time": "2023-06-04T10:53:19.156Z"
   },
   {
    "duration": 0,
    "start_time": "2023-06-04T10:53:19.158Z"
   },
   {
    "duration": 0,
    "start_time": "2023-06-04T10:53:19.177Z"
   },
   {
    "duration": 0,
    "start_time": "2023-06-04T10:53:19.178Z"
   },
   {
    "duration": 0,
    "start_time": "2023-06-04T10:53:19.179Z"
   },
   {
    "duration": 1,
    "start_time": "2023-06-04T10:53:19.180Z"
   },
   {
    "duration": 0,
    "start_time": "2023-06-04T10:53:19.182Z"
   },
   {
    "duration": 0,
    "start_time": "2023-06-04T10:53:19.183Z"
   },
   {
    "duration": 0,
    "start_time": "2023-06-04T10:53:19.184Z"
   },
   {
    "duration": 0,
    "start_time": "2023-06-04T10:53:19.186Z"
   },
   {
    "duration": 0,
    "start_time": "2023-06-04T10:53:19.187Z"
   },
   {
    "duration": 0,
    "start_time": "2023-06-04T10:53:19.188Z"
   },
   {
    "duration": 0,
    "start_time": "2023-06-04T10:53:19.190Z"
   },
   {
    "duration": 0,
    "start_time": "2023-06-04T10:53:19.191Z"
   },
   {
    "duration": 0,
    "start_time": "2023-06-04T10:53:19.192Z"
   },
   {
    "duration": 0,
    "start_time": "2023-06-04T10:53:19.193Z"
   },
   {
    "duration": 0,
    "start_time": "2023-06-04T10:53:19.195Z"
   },
   {
    "duration": 0,
    "start_time": "2023-06-04T10:53:19.196Z"
   },
   {
    "duration": 0,
    "start_time": "2023-06-04T10:53:19.197Z"
   },
   {
    "duration": 0,
    "start_time": "2023-06-04T10:53:19.200Z"
   },
   {
    "duration": 0,
    "start_time": "2023-06-04T10:53:19.201Z"
   },
   {
    "duration": 0,
    "start_time": "2023-06-04T10:53:19.202Z"
   },
   {
    "duration": 0,
    "start_time": "2023-06-04T10:53:19.203Z"
   },
   {
    "duration": 0,
    "start_time": "2023-06-04T10:53:19.205Z"
   },
   {
    "duration": 0,
    "start_time": "2023-06-04T10:53:19.206Z"
   },
   {
    "duration": 0,
    "start_time": "2023-06-04T10:53:19.208Z"
   },
   {
    "duration": 0,
    "start_time": "2023-06-04T10:53:19.213Z"
   },
   {
    "duration": 0,
    "start_time": "2023-06-04T10:53:19.214Z"
   },
   {
    "duration": 0,
    "start_time": "2023-06-04T10:53:19.214Z"
   },
   {
    "duration": 0,
    "start_time": "2023-06-04T10:53:19.215Z"
   },
   {
    "duration": 0,
    "start_time": "2023-06-04T10:53:19.219Z"
   },
   {
    "duration": 0,
    "start_time": "2023-06-04T10:53:19.220Z"
   },
   {
    "duration": 0,
    "start_time": "2023-06-04T10:53:19.221Z"
   },
   {
    "duration": 0,
    "start_time": "2023-06-04T10:53:19.222Z"
   },
   {
    "duration": 0,
    "start_time": "2023-06-04T10:53:19.223Z"
   },
   {
    "duration": 0,
    "start_time": "2023-06-04T10:53:19.224Z"
   },
   {
    "duration": 0,
    "start_time": "2023-06-04T10:53:19.225Z"
   },
   {
    "duration": 10,
    "start_time": "2023-06-04T10:53:23.118Z"
   },
   {
    "duration": 7,
    "start_time": "2023-06-04T10:53:58.814Z"
   },
   {
    "duration": 8,
    "start_time": "2023-06-04T10:54:01.209Z"
   },
   {
    "duration": 1226,
    "start_time": "2023-06-04T10:54:11.301Z"
   },
   {
    "duration": 378,
    "start_time": "2023-06-04T10:54:12.529Z"
   },
   {
    "duration": 33,
    "start_time": "2023-06-04T10:54:12.909Z"
   },
   {
    "duration": 42,
    "start_time": "2023-06-04T10:54:12.943Z"
   },
   {
    "duration": 20,
    "start_time": "2023-06-04T10:54:12.990Z"
   },
   {
    "duration": 7,
    "start_time": "2023-06-04T10:54:13.012Z"
   },
   {
    "duration": 5,
    "start_time": "2023-06-04T10:54:13.021Z"
   },
   {
    "duration": 8,
    "start_time": "2023-06-04T10:54:13.028Z"
   },
   {
    "duration": 4,
    "start_time": "2023-06-04T10:54:13.038Z"
   },
   {
    "duration": 48,
    "start_time": "2023-06-04T10:54:13.043Z"
   },
   {
    "duration": 6,
    "start_time": "2023-06-04T10:54:13.093Z"
   },
   {
    "duration": 13,
    "start_time": "2023-06-04T10:54:13.101Z"
   },
   {
    "duration": 15,
    "start_time": "2023-06-04T10:54:13.116Z"
   },
   {
    "duration": 8,
    "start_time": "2023-06-04T10:54:13.134Z"
   },
   {
    "duration": 50,
    "start_time": "2023-06-04T10:54:13.144Z"
   },
   {
    "duration": 6,
    "start_time": "2023-06-04T10:54:13.195Z"
   },
   {
    "duration": 16,
    "start_time": "2023-06-04T10:54:13.202Z"
   },
   {
    "duration": 5,
    "start_time": "2023-06-04T10:54:13.220Z"
   },
   {
    "duration": 14,
    "start_time": "2023-06-04T10:54:13.226Z"
   },
   {
    "duration": 4,
    "start_time": "2023-06-04T10:54:13.242Z"
   },
   {
    "duration": 40,
    "start_time": "2023-06-04T10:54:13.248Z"
   },
   {
    "duration": 15,
    "start_time": "2023-06-04T10:54:13.292Z"
   },
   {
    "duration": 262,
    "start_time": "2023-06-04T10:54:13.312Z"
   },
   {
    "duration": 37,
    "start_time": "2023-06-04T10:54:13.582Z"
   },
   {
    "duration": 214,
    "start_time": "2023-06-04T10:54:13.625Z"
   },
   {
    "duration": 357,
    "start_time": "2023-06-04T10:54:13.840Z"
   },
   {
    "duration": 210,
    "start_time": "2023-06-04T10:54:14.207Z"
   },
   {
    "duration": 216,
    "start_time": "2023-06-04T10:54:14.418Z"
   },
   {
    "duration": 220,
    "start_time": "2023-06-04T10:54:14.636Z"
   },
   {
    "duration": 197,
    "start_time": "2023-06-04T10:54:14.858Z"
   },
   {
    "duration": 229,
    "start_time": "2023-06-04T10:54:15.057Z"
   },
   {
    "duration": 263,
    "start_time": "2023-06-04T10:54:15.288Z"
   },
   {
    "duration": 6,
    "start_time": "2023-06-04T10:54:15.552Z"
   },
   {
    "duration": 192,
    "start_time": "2023-06-04T10:54:15.559Z"
   },
   {
    "duration": 150,
    "start_time": "2023-06-04T10:54:15.753Z"
   },
   {
    "duration": 139,
    "start_time": "2023-06-04T10:54:15.904Z"
   },
   {
    "duration": 161,
    "start_time": "2023-06-04T10:54:16.045Z"
   },
   {
    "duration": 140,
    "start_time": "2023-06-04T10:54:16.214Z"
   },
   {
    "duration": 264,
    "start_time": "2023-06-04T10:54:16.355Z"
   },
   {
    "duration": 19,
    "start_time": "2023-06-04T10:54:16.621Z"
   },
   {
    "duration": 10,
    "start_time": "2023-06-04T10:54:16.644Z"
   },
   {
    "duration": 195,
    "start_time": "2023-06-04T10:54:16.656Z"
   },
   {
    "duration": 179,
    "start_time": "2023-06-04T10:54:16.852Z"
   },
   {
    "duration": 11,
    "start_time": "2023-06-04T10:54:17.033Z"
   },
   {
    "duration": 186,
    "start_time": "2023-06-04T10:54:17.046Z"
   },
   {
    "duration": 271,
    "start_time": "2023-06-04T10:54:17.234Z"
   },
   {
    "duration": 15,
    "start_time": "2023-06-04T10:54:17.510Z"
   },
   {
    "duration": 212,
    "start_time": "2023-06-04T10:54:17.527Z"
   },
   {
    "duration": 179,
    "start_time": "2023-06-04T10:54:17.741Z"
   },
   {
    "duration": 224,
    "start_time": "2023-06-04T10:54:17.922Z"
   },
   {
    "duration": 192,
    "start_time": "2023-06-04T10:54:18.148Z"
   },
   {
    "duration": 221,
    "start_time": "2023-06-04T10:54:18.342Z"
   },
   {
    "duration": 173,
    "start_time": "2023-06-04T10:54:18.564Z"
   },
   {
    "duration": 206,
    "start_time": "2023-06-04T10:54:18.740Z"
   },
   {
    "duration": 270,
    "start_time": "2023-06-04T10:54:18.948Z"
   },
   {
    "duration": 152,
    "start_time": "2023-06-04T10:54:19.222Z"
   },
   {
    "duration": 229,
    "start_time": "2023-06-04T10:54:19.379Z"
   },
   {
    "duration": 310,
    "start_time": "2023-06-04T10:54:19.610Z"
   },
   {
    "duration": 140,
    "start_time": "2023-06-04T10:54:19.922Z"
   },
   {
    "duration": 35,
    "start_time": "2023-06-04T10:54:20.064Z"
   },
   {
    "duration": 160,
    "start_time": "2023-06-04T10:54:20.104Z"
   },
   {
    "duration": 1233,
    "start_time": "2023-06-04T10:54:46.613Z"
   },
   {
    "duration": 343,
    "start_time": "2023-06-04T10:54:47.848Z"
   },
   {
    "duration": 39,
    "start_time": "2023-06-04T10:54:48.194Z"
   },
   {
    "duration": 19,
    "start_time": "2023-06-04T10:54:48.235Z"
   },
   {
    "duration": 33,
    "start_time": "2023-06-04T10:54:48.256Z"
   },
   {
    "duration": 12,
    "start_time": "2023-06-04T10:54:48.290Z"
   },
   {
    "duration": 13,
    "start_time": "2023-06-04T10:54:48.305Z"
   },
   {
    "duration": 8,
    "start_time": "2023-06-04T10:54:48.320Z"
   },
   {
    "duration": 3,
    "start_time": "2023-06-04T10:54:48.330Z"
   },
   {
    "duration": 7,
    "start_time": "2023-06-04T10:54:48.337Z"
   },
   {
    "duration": 33,
    "start_time": "2023-06-04T10:54:48.346Z"
   },
   {
    "duration": 23,
    "start_time": "2023-06-04T10:54:48.381Z"
   },
   {
    "duration": 19,
    "start_time": "2023-06-04T10:54:48.408Z"
   },
   {
    "duration": 9,
    "start_time": "2023-06-04T10:54:48.428Z"
   },
   {
    "duration": 10,
    "start_time": "2023-06-04T10:54:48.438Z"
   },
   {
    "duration": 3,
    "start_time": "2023-06-04T10:54:48.450Z"
   },
   {
    "duration": 20,
    "start_time": "2023-06-04T10:54:48.481Z"
   },
   {
    "duration": 7,
    "start_time": "2023-06-04T10:54:48.503Z"
   },
   {
    "duration": 18,
    "start_time": "2023-06-04T10:54:48.512Z"
   },
   {
    "duration": 2,
    "start_time": "2023-06-04T10:54:48.532Z"
   },
   {
    "duration": 8,
    "start_time": "2023-06-04T10:54:48.535Z"
   },
   {
    "duration": 11,
    "start_time": "2023-06-04T10:54:48.544Z"
   },
   {
    "duration": 311,
    "start_time": "2023-06-04T10:54:48.557Z"
   },
   {
    "duration": 38,
    "start_time": "2023-06-04T10:54:48.870Z"
   },
   {
    "duration": 227,
    "start_time": "2023-06-04T10:54:48.909Z"
   },
   {
    "duration": 331,
    "start_time": "2023-06-04T10:54:49.137Z"
   },
   {
    "duration": 192,
    "start_time": "2023-06-04T10:54:49.470Z"
   },
   {
    "duration": 196,
    "start_time": "2023-06-04T10:54:49.665Z"
   },
   {
    "duration": 210,
    "start_time": "2023-06-04T10:54:49.863Z"
   },
   {
    "duration": 179,
    "start_time": "2023-06-04T10:54:50.080Z"
   },
   {
    "duration": 241,
    "start_time": "2023-06-04T10:54:50.261Z"
   },
   {
    "duration": 254,
    "start_time": "2023-06-04T10:54:50.505Z"
   },
   {
    "duration": 5,
    "start_time": "2023-06-04T10:54:50.761Z"
   },
   {
    "duration": 216,
    "start_time": "2023-06-04T10:54:50.767Z"
   },
   {
    "duration": 171,
    "start_time": "2023-06-04T10:54:50.985Z"
   },
   {
    "duration": 166,
    "start_time": "2023-06-04T10:54:51.157Z"
   },
   {
    "duration": 149,
    "start_time": "2023-06-04T10:54:51.324Z"
   },
   {
    "duration": 165,
    "start_time": "2023-06-04T10:54:51.474Z"
   },
   {
    "duration": 295,
    "start_time": "2023-06-04T10:54:51.641Z"
   },
   {
    "duration": 19,
    "start_time": "2023-06-04T10:54:51.938Z"
   },
   {
    "duration": 21,
    "start_time": "2023-06-04T10:54:51.959Z"
   },
   {
    "duration": 182,
    "start_time": "2023-06-04T10:54:51.981Z"
   },
   {
    "duration": 180,
    "start_time": "2023-06-04T10:54:52.165Z"
   },
   {
    "duration": 11,
    "start_time": "2023-06-04T10:54:52.347Z"
   },
   {
    "duration": 183,
    "start_time": "2023-06-04T10:54:52.359Z"
   },
   {
    "duration": 280,
    "start_time": "2023-06-04T10:54:52.544Z"
   },
   {
    "duration": 11,
    "start_time": "2023-06-04T10:54:52.826Z"
   },
   {
    "duration": 192,
    "start_time": "2023-06-04T10:54:52.839Z"
   },
   {
    "duration": 181,
    "start_time": "2023-06-04T10:54:53.033Z"
   },
   {
    "duration": 232,
    "start_time": "2023-06-04T10:54:53.216Z"
   },
   {
    "duration": 220,
    "start_time": "2023-06-04T10:54:53.449Z"
   },
   {
    "duration": 239,
    "start_time": "2023-06-04T10:54:53.671Z"
   },
   {
    "duration": 173,
    "start_time": "2023-06-04T10:54:53.918Z"
   },
   {
    "duration": 250,
    "start_time": "2023-06-04T10:54:54.093Z"
   },
   {
    "duration": 266,
    "start_time": "2023-06-04T10:54:54.345Z"
   },
   {
    "duration": 148,
    "start_time": "2023-06-04T10:54:54.617Z"
   },
   {
    "duration": 220,
    "start_time": "2023-06-04T10:54:54.767Z"
   },
   {
    "duration": 307,
    "start_time": "2023-06-04T10:54:54.992Z"
   },
   {
    "duration": 154,
    "start_time": "2023-06-04T10:54:55.304Z"
   },
   {
    "duration": 11,
    "start_time": "2023-06-04T10:54:55.460Z"
   },
   {
    "duration": 35,
    "start_time": "2023-06-04T10:54:55.481Z"
   },
   {
    "duration": 15,
    "start_time": "2023-06-04T10:56:36.604Z"
   },
   {
    "duration": 12,
    "start_time": "2023-06-04T10:57:44.394Z"
   },
   {
    "duration": 13,
    "start_time": "2023-06-04T10:57:50.106Z"
   },
   {
    "duration": 1368,
    "start_time": "2023-06-04T10:58:18.749Z"
   },
   {
    "duration": 217,
    "start_time": "2023-06-04T10:58:20.119Z"
   },
   {
    "duration": 39,
    "start_time": "2023-06-04T10:58:20.338Z"
   },
   {
    "duration": 43,
    "start_time": "2023-06-04T10:58:20.381Z"
   },
   {
    "duration": 23,
    "start_time": "2023-06-04T10:58:20.427Z"
   },
   {
    "duration": 9,
    "start_time": "2023-06-04T10:58:20.452Z"
   },
   {
    "duration": 6,
    "start_time": "2023-06-04T10:58:20.462Z"
   },
   {
    "duration": 5,
    "start_time": "2023-06-04T10:58:20.475Z"
   },
   {
    "duration": 7,
    "start_time": "2023-06-04T10:58:20.482Z"
   },
   {
    "duration": 8,
    "start_time": "2023-06-04T10:58:20.491Z"
   },
   {
    "duration": 4,
    "start_time": "2023-06-04T10:58:20.501Z"
   },
   {
    "duration": 14,
    "start_time": "2023-06-04T10:58:20.506Z"
   },
   {
    "duration": 18,
    "start_time": "2023-06-04T10:58:20.522Z"
   },
   {
    "duration": 24,
    "start_time": "2023-06-04T10:58:20.577Z"
   },
   {
    "duration": 18,
    "start_time": "2023-06-04T10:58:20.603Z"
   },
   {
    "duration": 5,
    "start_time": "2023-06-04T10:58:20.627Z"
   },
   {
    "duration": 14,
    "start_time": "2023-06-04T10:58:20.635Z"
   },
   {
    "duration": 5,
    "start_time": "2023-06-04T10:58:20.650Z"
   },
   {
    "duration": 26,
    "start_time": "2023-06-04T10:58:20.683Z"
   },
   {
    "duration": 3,
    "start_time": "2023-06-04T10:58:20.711Z"
   },
   {
    "duration": 7,
    "start_time": "2023-06-04T10:58:20.717Z"
   },
   {
    "duration": 9,
    "start_time": "2023-06-04T10:58:20.727Z"
   },
   {
    "duration": 325,
    "start_time": "2023-06-04T10:58:20.738Z"
   },
   {
    "duration": 38,
    "start_time": "2023-06-04T10:58:21.065Z"
   },
   {
    "duration": 240,
    "start_time": "2023-06-04T10:58:21.104Z"
   },
   {
    "duration": 340,
    "start_time": "2023-06-04T10:58:21.345Z"
   },
   {
    "duration": 181,
    "start_time": "2023-06-04T10:58:21.688Z"
   },
   {
    "duration": 234,
    "start_time": "2023-06-04T10:58:21.871Z"
   },
   {
    "duration": 232,
    "start_time": "2023-06-04T10:58:22.108Z"
   },
   {
    "duration": 210,
    "start_time": "2023-06-04T10:58:22.341Z"
   },
   {
    "duration": 259,
    "start_time": "2023-06-04T10:58:22.553Z"
   },
   {
    "duration": 255,
    "start_time": "2023-06-04T10:58:22.821Z"
   },
   {
    "duration": 9,
    "start_time": "2023-06-04T10:58:23.078Z"
   },
   {
    "duration": 223,
    "start_time": "2023-06-04T10:58:23.090Z"
   },
   {
    "duration": 148,
    "start_time": "2023-06-04T10:58:23.315Z"
   },
   {
    "duration": 177,
    "start_time": "2023-06-04T10:58:23.464Z"
   },
   {
    "duration": 165,
    "start_time": "2023-06-04T10:58:23.643Z"
   },
   {
    "duration": 154,
    "start_time": "2023-06-04T10:58:23.810Z"
   },
   {
    "duration": 330,
    "start_time": "2023-06-04T10:58:23.966Z"
   },
   {
    "duration": 25,
    "start_time": "2023-06-04T10:58:24.298Z"
   },
   {
    "duration": 31,
    "start_time": "2023-06-04T10:58:24.328Z"
   },
   {
    "duration": 212,
    "start_time": "2023-06-04T10:58:24.360Z"
   },
   {
    "duration": 186,
    "start_time": "2023-06-04T10:58:24.574Z"
   },
   {
    "duration": 27,
    "start_time": "2023-06-04T10:58:24.762Z"
   },
   {
    "duration": 204,
    "start_time": "2023-06-04T10:58:24.791Z"
   },
   {
    "duration": 250,
    "start_time": "2023-06-04T10:58:24.998Z"
   },
   {
    "duration": 10,
    "start_time": "2023-06-04T10:58:25.251Z"
   },
   {
    "duration": 178,
    "start_time": "2023-06-04T10:58:25.262Z"
   },
   {
    "duration": 190,
    "start_time": "2023-06-04T10:58:25.441Z"
   },
   {
    "duration": 214,
    "start_time": "2023-06-04T10:58:25.633Z"
   },
   {
    "duration": 237,
    "start_time": "2023-06-04T10:58:25.849Z"
   },
   {
    "duration": 278,
    "start_time": "2023-06-04T10:58:26.088Z"
   },
   {
    "duration": 171,
    "start_time": "2023-06-04T10:58:26.367Z"
   },
   {
    "duration": 211,
    "start_time": "2023-06-04T10:58:26.540Z"
   },
   {
    "duration": 197,
    "start_time": "2023-06-04T10:58:26.753Z"
   },
   {
    "duration": 172,
    "start_time": "2023-06-04T10:58:26.952Z"
   },
   {
    "duration": 202,
    "start_time": "2023-06-04T10:58:27.125Z"
   },
   {
    "duration": 302,
    "start_time": "2023-06-04T10:58:27.328Z"
   },
   {
    "duration": 174,
    "start_time": "2023-06-04T10:58:27.631Z"
   },
   {
    "duration": 16,
    "start_time": "2023-06-04T10:58:27.809Z"
   },
   {
    "duration": 11,
    "start_time": "2023-06-04T10:58:27.828Z"
   },
   {
    "duration": 1281,
    "start_time": "2023-06-04T11:02:36.156Z"
   },
   {
    "duration": 160,
    "start_time": "2023-06-04T11:02:37.439Z"
   },
   {
    "duration": 34,
    "start_time": "2023-06-04T11:02:37.601Z"
   },
   {
    "duration": 19,
    "start_time": "2023-06-04T11:02:37.637Z"
   },
   {
    "duration": 33,
    "start_time": "2023-06-04T11:02:37.658Z"
   },
   {
    "duration": 10,
    "start_time": "2023-06-04T11:02:37.693Z"
   },
   {
    "duration": 10,
    "start_time": "2023-06-04T11:02:37.704Z"
   },
   {
    "duration": 5,
    "start_time": "2023-06-04T11:02:37.718Z"
   },
   {
    "duration": 4,
    "start_time": "2023-06-04T11:02:37.724Z"
   },
   {
    "duration": 8,
    "start_time": "2023-06-04T11:02:37.732Z"
   },
   {
    "duration": 4,
    "start_time": "2023-06-04T11:02:37.742Z"
   },
   {
    "duration": 44,
    "start_time": "2023-06-04T11:02:37.747Z"
   },
   {
    "duration": 23,
    "start_time": "2023-06-04T11:02:37.793Z"
   },
   {
    "duration": 13,
    "start_time": "2023-06-04T11:02:37.817Z"
   },
   {
    "duration": 8,
    "start_time": "2023-06-04T11:02:37.831Z"
   },
   {
    "duration": 4,
    "start_time": "2023-06-04T11:02:37.840Z"
   },
   {
    "duration": 36,
    "start_time": "2023-06-04T11:02:37.846Z"
   },
   {
    "duration": 10,
    "start_time": "2023-06-04T11:02:37.888Z"
   },
   {
    "duration": 20,
    "start_time": "2023-06-04T11:02:37.899Z"
   },
   {
    "duration": 3,
    "start_time": "2023-06-04T11:02:37.921Z"
   },
   {
    "duration": 7,
    "start_time": "2023-06-04T11:02:37.925Z"
   },
   {
    "duration": 9,
    "start_time": "2023-06-04T11:02:37.933Z"
   },
   {
    "duration": 297,
    "start_time": "2023-06-04T11:02:37.944Z"
   },
   {
    "duration": 44,
    "start_time": "2023-06-04T11:02:38.242Z"
   },
   {
    "duration": 221,
    "start_time": "2023-06-04T11:02:38.289Z"
   },
   {
    "duration": 308,
    "start_time": "2023-06-04T11:02:38.512Z"
   },
   {
    "duration": 188,
    "start_time": "2023-06-04T11:02:38.822Z"
   },
   {
    "duration": 207,
    "start_time": "2023-06-04T11:02:39.017Z"
   },
   {
    "duration": 215,
    "start_time": "2023-06-04T11:02:39.225Z"
   },
   {
    "duration": 190,
    "start_time": "2023-06-04T11:02:39.441Z"
   },
   {
    "duration": 219,
    "start_time": "2023-06-04T11:02:39.632Z"
   },
   {
    "duration": 292,
    "start_time": "2023-06-04T11:02:39.852Z"
   },
   {
    "duration": 7,
    "start_time": "2023-06-04T11:02:40.146Z"
   },
   {
    "duration": 218,
    "start_time": "2023-06-04T11:02:40.155Z"
   },
   {
    "duration": 181,
    "start_time": "2023-06-04T11:02:40.375Z"
   },
   {
    "duration": 166,
    "start_time": "2023-06-04T11:02:40.557Z"
   },
   {
    "duration": 183,
    "start_time": "2023-06-04T11:02:40.725Z"
   },
   {
    "duration": 156,
    "start_time": "2023-06-04T11:02:40.911Z"
   },
   {
    "duration": 309,
    "start_time": "2023-06-04T11:02:41.069Z"
   },
   {
    "duration": 41,
    "start_time": "2023-06-04T11:02:41.394Z"
   },
   {
    "duration": 14,
    "start_time": "2023-06-04T11:02:41.437Z"
   },
   {
    "duration": 181,
    "start_time": "2023-06-04T11:02:41.452Z"
   },
   {
    "duration": 194,
    "start_time": "2023-06-04T11:02:41.636Z"
   },
   {
    "duration": 13,
    "start_time": "2023-06-04T11:02:41.832Z"
   },
   {
    "duration": 212,
    "start_time": "2023-06-04T11:02:41.846Z"
   },
   {
    "duration": 304,
    "start_time": "2023-06-04T11:02:42.062Z"
   },
   {
    "duration": 35,
    "start_time": "2023-06-04T11:02:42.368Z"
   },
   {
    "duration": 195,
    "start_time": "2023-06-04T11:02:42.412Z"
   },
   {
    "duration": 157,
    "start_time": "2023-06-04T11:02:42.609Z"
   },
   {
    "duration": 217,
    "start_time": "2023-06-04T11:02:42.767Z"
   },
   {
    "duration": 193,
    "start_time": "2023-06-04T11:02:42.986Z"
   },
   {
    "duration": 222,
    "start_time": "2023-06-04T11:02:43.180Z"
   },
   {
    "duration": 151,
    "start_time": "2023-06-04T11:02:43.404Z"
   },
   {
    "duration": 207,
    "start_time": "2023-06-04T11:02:43.556Z"
   },
   {
    "duration": 262,
    "start_time": "2023-06-04T11:02:43.765Z"
   },
   {
    "duration": 176,
    "start_time": "2023-06-04T11:02:44.029Z"
   },
   {
    "duration": 216,
    "start_time": "2023-06-04T11:02:44.207Z"
   },
   {
    "duration": 298,
    "start_time": "2023-06-04T11:02:44.424Z"
   },
   {
    "duration": 162,
    "start_time": "2023-06-04T11:02:44.724Z"
   },
   {
    "duration": 14,
    "start_time": "2023-06-04T11:02:44.888Z"
   },
   {
    "duration": 10,
    "start_time": "2023-06-04T11:02:44.904Z"
   },
   {
    "duration": 1228,
    "start_time": "2023-06-05T10:12:58.978Z"
   },
   {
    "duration": 246,
    "start_time": "2023-06-05T10:13:00.208Z"
   },
   {
    "duration": 28,
    "start_time": "2023-06-05T10:13:00.456Z"
   },
   {
    "duration": 46,
    "start_time": "2023-06-05T10:13:00.486Z"
   },
   {
    "duration": 53,
    "start_time": "2023-06-05T10:13:00.534Z"
   },
   {
    "duration": 31,
    "start_time": "2023-06-05T10:13:00.590Z"
   },
   {
    "duration": 51,
    "start_time": "2023-06-05T10:13:00.623Z"
   },
   {
    "duration": 61,
    "start_time": "2023-06-05T10:13:00.676Z"
   },
   {
    "duration": 58,
    "start_time": "2023-06-05T10:13:00.739Z"
   },
   {
    "duration": 80,
    "start_time": "2023-06-05T10:13:00.801Z"
   },
   {
    "duration": 38,
    "start_time": "2023-06-05T10:13:00.883Z"
   },
   {
    "duration": 51,
    "start_time": "2023-06-05T10:13:00.923Z"
   },
   {
    "duration": 60,
    "start_time": "2023-06-05T10:13:00.976Z"
   },
   {
    "duration": 35,
    "start_time": "2023-06-05T10:13:01.038Z"
   },
   {
    "duration": 60,
    "start_time": "2023-06-05T10:13:01.075Z"
   },
   {
    "duration": 31,
    "start_time": "2023-06-05T10:13:01.136Z"
   },
   {
    "duration": 48,
    "start_time": "2023-06-05T10:13:01.169Z"
   },
   {
    "duration": 35,
    "start_time": "2023-06-05T10:13:01.219Z"
   },
   {
    "duration": 50,
    "start_time": "2023-06-05T10:13:01.256Z"
   },
   {
    "duration": 40,
    "start_time": "2023-06-05T10:13:01.308Z"
   },
   {
    "duration": 35,
    "start_time": "2023-06-05T10:13:01.350Z"
   },
   {
    "duration": 45,
    "start_time": "2023-06-05T10:13:01.387Z"
   },
   {
    "duration": 254,
    "start_time": "2023-06-05T10:13:01.433Z"
   },
   {
    "duration": 18,
    "start_time": "2023-06-05T10:13:01.688Z"
   },
   {
    "duration": 222,
    "start_time": "2023-06-05T10:13:01.708Z"
   },
   {
    "duration": 277,
    "start_time": "2023-06-05T10:13:01.931Z"
   },
   {
    "duration": 157,
    "start_time": "2023-06-05T10:13:02.209Z"
   },
   {
    "duration": 156,
    "start_time": "2023-06-05T10:13:02.370Z"
   },
   {
    "duration": 172,
    "start_time": "2023-06-05T10:13:02.528Z"
   },
   {
    "duration": 167,
    "start_time": "2023-06-05T10:13:02.702Z"
   },
   {
    "duration": 178,
    "start_time": "2023-06-05T10:13:02.871Z"
   },
   {
    "duration": 219,
    "start_time": "2023-06-05T10:13:03.050Z"
   },
   {
    "duration": 5,
    "start_time": "2023-06-05T10:13:03.270Z"
   },
   {
    "duration": 155,
    "start_time": "2023-06-05T10:13:03.276Z"
   },
   {
    "duration": 124,
    "start_time": "2023-06-05T10:13:03.432Z"
   },
   {
    "duration": 155,
    "start_time": "2023-06-05T10:13:03.559Z"
   },
   {
    "duration": 129,
    "start_time": "2023-06-05T10:13:03.721Z"
   },
   {
    "duration": 123,
    "start_time": "2023-06-05T10:13:03.851Z"
   },
   {
    "duration": 209,
    "start_time": "2023-06-05T10:13:03.976Z"
   },
   {
    "duration": 18,
    "start_time": "2023-06-05T10:13:04.187Z"
   },
   {
    "duration": 20,
    "start_time": "2023-06-05T10:13:04.207Z"
   },
   {
    "duration": 143,
    "start_time": "2023-06-05T10:13:04.229Z"
   },
   {
    "duration": 139,
    "start_time": "2023-06-05T10:13:04.373Z"
   },
   {
    "duration": 20,
    "start_time": "2023-06-05T10:13:04.513Z"
   },
   {
    "duration": 144,
    "start_time": "2023-06-05T10:13:04.534Z"
   },
   {
    "duration": 214,
    "start_time": "2023-06-05T10:13:04.679Z"
   },
   {
    "duration": 13,
    "start_time": "2023-06-05T10:13:04.894Z"
   },
   {
    "duration": 200,
    "start_time": "2023-06-05T10:13:04.909Z"
   },
   {
    "duration": 141,
    "start_time": "2023-06-05T10:13:05.111Z"
   },
   {
    "duration": 176,
    "start_time": "2023-06-05T10:13:05.254Z"
   },
   {
    "duration": 160,
    "start_time": "2023-06-05T10:13:05.432Z"
   },
   {
    "duration": 188,
    "start_time": "2023-06-05T10:13:05.594Z"
   },
   {
    "duration": 131,
    "start_time": "2023-06-05T10:13:05.784Z"
   },
   {
    "duration": 163,
    "start_time": "2023-06-05T10:13:05.916Z"
   },
   {
    "duration": 183,
    "start_time": "2023-06-05T10:13:06.080Z"
   },
   {
    "duration": 128,
    "start_time": "2023-06-05T10:13:06.264Z"
   },
   {
    "duration": 156,
    "start_time": "2023-06-05T10:13:06.394Z"
   },
   {
    "duration": 258,
    "start_time": "2023-06-05T10:13:06.551Z"
   },
   {
    "duration": 122,
    "start_time": "2023-06-05T10:13:06.811Z"
   },
   {
    "duration": 10,
    "start_time": "2023-06-05T10:13:06.935Z"
   },
   {
    "duration": 11,
    "start_time": "2023-06-05T10:13:06.947Z"
   },
   {
    "duration": 1123,
    "start_time": "2023-06-05T10:41:46.234Z"
   },
   {
    "duration": 220,
    "start_time": "2023-06-05T10:41:47.359Z"
   },
   {
    "duration": 28,
    "start_time": "2023-06-05T10:41:47.581Z"
   },
   {
    "duration": 21,
    "start_time": "2023-06-05T10:41:47.610Z"
   },
   {
    "duration": 13,
    "start_time": "2023-06-05T10:41:47.632Z"
   },
   {
    "duration": 30,
    "start_time": "2023-06-05T10:41:47.647Z"
   },
   {
    "duration": 5,
    "start_time": "2023-06-05T10:41:47.679Z"
   },
   {
    "duration": 9,
    "start_time": "2023-06-05T10:41:47.685Z"
   },
   {
    "duration": 5,
    "start_time": "2023-06-05T10:41:47.695Z"
   },
   {
    "duration": 13,
    "start_time": "2023-06-05T10:41:47.702Z"
   },
   {
    "duration": 4,
    "start_time": "2023-06-05T10:41:47.717Z"
   },
   {
    "duration": 21,
    "start_time": "2023-06-05T10:41:47.722Z"
   },
   {
    "duration": 42,
    "start_time": "2023-06-05T10:41:47.744Z"
   },
   {
    "duration": 15,
    "start_time": "2023-06-05T10:41:47.788Z"
   },
   {
    "duration": 11,
    "start_time": "2023-06-05T10:41:47.805Z"
   },
   {
    "duration": 7,
    "start_time": "2023-06-05T10:41:47.818Z"
   },
   {
    "duration": 29,
    "start_time": "2023-06-05T10:41:47.827Z"
   },
   {
    "duration": 6,
    "start_time": "2023-06-05T10:41:47.874Z"
   },
   {
    "duration": 19,
    "start_time": "2023-06-05T10:41:47.882Z"
   },
   {
    "duration": 3,
    "start_time": "2023-06-05T10:41:47.903Z"
   },
   {
    "duration": 10,
    "start_time": "2023-06-05T10:41:47.908Z"
   },
   {
    "duration": 19,
    "start_time": "2023-06-05T10:41:47.919Z"
   },
   {
    "duration": 299,
    "start_time": "2023-06-05T10:41:47.940Z"
   },
   {
    "duration": 20,
    "start_time": "2023-06-05T10:41:48.241Z"
   },
   {
    "duration": 189,
    "start_time": "2023-06-05T10:41:48.275Z"
   },
   {
    "duration": 280,
    "start_time": "2023-06-05T10:41:48.466Z"
   },
   {
    "duration": 162,
    "start_time": "2023-06-05T10:41:48.747Z"
   },
   {
    "duration": 174,
    "start_time": "2023-06-05T10:41:48.914Z"
   },
   {
    "duration": 188,
    "start_time": "2023-06-05T10:41:49.090Z"
   },
   {
    "duration": 163,
    "start_time": "2023-06-05T10:41:49.280Z"
   },
   {
    "duration": 197,
    "start_time": "2023-06-05T10:41:49.445Z"
   },
   {
    "duration": 233,
    "start_time": "2023-06-05T10:41:49.644Z"
   },
   {
    "duration": 5,
    "start_time": "2023-06-05T10:41:49.879Z"
   },
   {
    "duration": 168,
    "start_time": "2023-06-05T10:41:49.885Z"
   },
   {
    "duration": 150,
    "start_time": "2023-06-05T10:41:50.055Z"
   },
   {
    "duration": 150,
    "start_time": "2023-06-05T10:41:50.207Z"
   },
   {
    "duration": 137,
    "start_time": "2023-06-05T10:41:50.359Z"
   },
   {
    "duration": 137,
    "start_time": "2023-06-05T10:41:50.497Z"
   },
   {
    "duration": 264,
    "start_time": "2023-06-05T10:41:50.635Z"
   },
   {
    "duration": 75,
    "start_time": "2023-06-05T10:41:50.901Z"
   },
   {
    "duration": 26,
    "start_time": "2023-06-05T10:41:50.978Z"
   },
   {
    "duration": 218,
    "start_time": "2023-06-05T10:41:51.006Z"
   },
   {
    "duration": 153,
    "start_time": "2023-06-05T10:41:51.226Z"
   },
   {
    "duration": 13,
    "start_time": "2023-06-05T10:41:51.380Z"
   },
   {
    "duration": 165,
    "start_time": "2023-06-05T10:41:51.394Z"
   },
   {
    "duration": 219,
    "start_time": "2023-06-05T10:41:51.560Z"
   },
   {
    "duration": 11,
    "start_time": "2023-06-05T10:41:51.781Z"
   },
   {
    "duration": 150,
    "start_time": "2023-06-05T10:41:51.793Z"
   },
   {
    "duration": 158,
    "start_time": "2023-06-05T10:41:51.944Z"
   },
   {
    "duration": 207,
    "start_time": "2023-06-05T10:41:52.104Z"
   },
   {
    "duration": 198,
    "start_time": "2023-06-05T10:41:52.312Z"
   },
   {
    "duration": 211,
    "start_time": "2023-06-05T10:41:52.512Z"
   },
   {
    "duration": 150,
    "start_time": "2023-06-05T10:41:52.725Z"
   },
   {
    "duration": 193,
    "start_time": "2023-06-05T10:41:52.877Z"
   },
   {
    "duration": 231,
    "start_time": "2023-06-05T10:41:53.074Z"
   },
   {
    "duration": 143,
    "start_time": "2023-06-05T10:41:53.307Z"
   },
   {
    "duration": 186,
    "start_time": "2023-06-05T10:41:53.451Z"
   },
   {
    "duration": 261,
    "start_time": "2023-06-05T10:41:53.639Z"
   },
   {
    "duration": 179,
    "start_time": "2023-06-05T10:41:53.902Z"
   },
   {
    "duration": 14,
    "start_time": "2023-06-05T10:41:54.083Z"
   },
   {
    "duration": 10,
    "start_time": "2023-06-05T10:41:54.099Z"
   },
   {
    "duration": 13,
    "start_time": "2023-06-05T10:45:27.714Z"
   },
   {
    "duration": 18,
    "start_time": "2023-06-05T10:46:37.163Z"
   },
   {
    "duration": 10,
    "start_time": "2023-06-05T10:48:06.954Z"
   },
   {
    "duration": 18,
    "start_time": "2023-06-05T10:51:36.800Z"
   },
   {
    "duration": 17,
    "start_time": "2023-06-05T10:52:05.862Z"
   },
   {
    "duration": 17,
    "start_time": "2023-06-05T10:53:06.024Z"
   },
   {
    "duration": 10,
    "start_time": "2023-06-05T10:54:29.010Z"
   },
   {
    "duration": 19,
    "start_time": "2023-06-05T10:54:33.696Z"
   },
   {
    "duration": 17,
    "start_time": "2023-06-05T10:55:33.609Z"
   },
   {
    "duration": 18,
    "start_time": "2023-06-05T10:55:55.535Z"
   },
   {
    "duration": 15,
    "start_time": "2023-06-05T10:56:09.807Z"
   },
   {
    "duration": 16,
    "start_time": "2023-06-05T10:56:22.851Z"
   },
   {
    "duration": 11,
    "start_time": "2023-06-05T10:56:42.727Z"
   },
   {
    "duration": 11,
    "start_time": "2023-06-05T10:56:48.827Z"
   },
   {
    "duration": 11,
    "start_time": "2023-06-05T10:56:54.711Z"
   },
   {
    "duration": 11,
    "start_time": "2023-06-05T10:59:46.892Z"
   },
   {
    "duration": 10,
    "start_time": "2023-06-05T10:59:50.687Z"
   },
   {
    "duration": 10,
    "start_time": "2023-06-05T10:59:53.572Z"
   },
   {
    "duration": 11,
    "start_time": "2023-06-05T10:59:56.895Z"
   },
   {
    "duration": 11,
    "start_time": "2023-06-05T11:00:00.794Z"
   },
   {
    "duration": 11,
    "start_time": "2023-06-05T11:00:05.360Z"
   },
   {
    "duration": 13,
    "start_time": "2023-06-05T11:00:08.500Z"
   },
   {
    "duration": 10,
    "start_time": "2023-06-05T11:00:11.404Z"
   },
   {
    "duration": 11,
    "start_time": "2023-06-05T11:00:18.540Z"
   },
   {
    "duration": 12,
    "start_time": "2023-06-05T11:00:21.903Z"
   },
   {
    "duration": 11,
    "start_time": "2023-06-05T11:00:27.903Z"
   },
   {
    "duration": 11,
    "start_time": "2023-06-05T11:00:39.873Z"
   },
   {
    "duration": 10,
    "start_time": "2023-06-05T11:00:44.675Z"
   },
   {
    "duration": 4,
    "start_time": "2023-06-05T11:10:54.259Z"
   },
   {
    "duration": 103,
    "start_time": "2023-06-05T11:12:04.150Z"
   },
   {
    "duration": 11,
    "start_time": "2023-06-05T11:13:21.420Z"
   },
   {
    "duration": 12,
    "start_time": "2023-06-05T11:13:34.898Z"
   },
   {
    "duration": 12,
    "start_time": "2023-06-05T11:13:49.461Z"
   },
   {
    "duration": 12,
    "start_time": "2023-06-05T11:14:23.008Z"
   },
   {
    "duration": 12,
    "start_time": "2023-06-05T11:14:29.262Z"
   },
   {
    "duration": 14,
    "start_time": "2023-06-05T11:15:12.858Z"
   },
   {
    "duration": 16,
    "start_time": "2023-06-05T11:15:23.777Z"
   },
   {
    "duration": 13,
    "start_time": "2023-06-05T11:15:48.866Z"
   },
   {
    "duration": 14,
    "start_time": "2023-06-05T11:16:00.198Z"
   },
   {
    "duration": 13,
    "start_time": "2023-06-05T11:19:32.520Z"
   },
   {
    "duration": 9,
    "start_time": "2023-06-05T11:25:49.398Z"
   },
   {
    "duration": 9,
    "start_time": "2023-06-05T11:25:53.336Z"
   },
   {
    "duration": 15,
    "start_time": "2023-06-05T11:25:58.966Z"
   },
   {
    "duration": 14,
    "start_time": "2023-06-05T11:26:15.041Z"
   },
   {
    "duration": 14,
    "start_time": "2023-06-05T11:26:28.389Z"
   },
   {
    "duration": 19,
    "start_time": "2023-06-05T11:34:21.525Z"
   },
   {
    "duration": 18,
    "start_time": "2023-06-05T11:34:53.860Z"
   },
   {
    "duration": 6,
    "start_time": "2023-06-05T11:35:04.849Z"
   },
   {
    "duration": 6,
    "start_time": "2023-06-05T11:35:50.947Z"
   },
   {
    "duration": 7,
    "start_time": "2023-06-05T11:36:30.058Z"
   },
   {
    "duration": 4,
    "start_time": "2023-06-05T11:36:44.721Z"
   },
   {
    "duration": 26,
    "start_time": "2023-06-05T11:36:55.389Z"
   },
   {
    "duration": 18,
    "start_time": "2023-06-05T11:37:10.381Z"
   },
   {
    "duration": 17,
    "start_time": "2023-06-05T11:38:04.223Z"
   },
   {
    "duration": 1148,
    "start_time": "2023-06-05T11:38:12.098Z"
   },
   {
    "duration": 208,
    "start_time": "2023-06-05T11:38:13.248Z"
   },
   {
    "duration": 29,
    "start_time": "2023-06-05T11:38:13.457Z"
   },
   {
    "duration": 21,
    "start_time": "2023-06-05T11:38:13.488Z"
   },
   {
    "duration": 14,
    "start_time": "2023-06-05T11:38:13.511Z"
   },
   {
    "duration": 12,
    "start_time": "2023-06-05T11:38:13.527Z"
   },
   {
    "duration": 5,
    "start_time": "2023-06-05T11:38:13.540Z"
   },
   {
    "duration": 28,
    "start_time": "2023-06-05T11:38:13.547Z"
   },
   {
    "duration": 4,
    "start_time": "2023-06-05T11:38:13.576Z"
   },
   {
    "duration": 11,
    "start_time": "2023-06-05T11:38:13.582Z"
   },
   {
    "duration": 4,
    "start_time": "2023-06-05T11:38:13.594Z"
   },
   {
    "duration": 12,
    "start_time": "2023-06-05T11:38:13.599Z"
   },
   {
    "duration": 18,
    "start_time": "2023-06-05T11:38:13.613Z"
   },
   {
    "duration": 46,
    "start_time": "2023-06-05T11:38:13.632Z"
   },
   {
    "duration": 15,
    "start_time": "2023-06-05T11:38:13.680Z"
   },
   {
    "duration": 8,
    "start_time": "2023-06-05T11:38:13.696Z"
   },
   {
    "duration": 14,
    "start_time": "2023-06-05T11:38:13.705Z"
   },
   {
    "duration": 4,
    "start_time": "2023-06-05T11:38:13.721Z"
   },
   {
    "duration": 32,
    "start_time": "2023-06-05T11:38:13.726Z"
   },
   {
    "duration": 25,
    "start_time": "2023-06-05T11:38:13.760Z"
   },
   {
    "duration": 12,
    "start_time": "2023-06-05T11:38:13.787Z"
   },
   {
    "duration": 41,
    "start_time": "2023-06-05T11:38:13.800Z"
   },
   {
    "duration": 312,
    "start_time": "2023-06-05T11:38:13.843Z"
   },
   {
    "duration": 36,
    "start_time": "2023-06-05T11:38:14.157Z"
   },
   {
    "duration": 16,
    "start_time": "2023-06-05T11:38:14.195Z"
   },
   {
    "duration": 21,
    "start_time": "2023-06-05T11:38:14.214Z"
   },
   {
    "duration": 48,
    "start_time": "2023-06-05T11:38:14.237Z"
   },
   {
    "duration": 201,
    "start_time": "2023-06-05T11:38:14.288Z"
   },
   {
    "duration": 263,
    "start_time": "2023-06-05T11:38:14.491Z"
   },
   {
    "duration": 174,
    "start_time": "2023-06-05T11:38:14.756Z"
   },
   {
    "duration": 177,
    "start_time": "2023-06-05T11:38:14.932Z"
   },
   {
    "duration": 174,
    "start_time": "2023-06-05T11:38:15.110Z"
   },
   {
    "duration": 157,
    "start_time": "2023-06-05T11:38:15.285Z"
   },
   {
    "duration": 190,
    "start_time": "2023-06-05T11:38:15.443Z"
   },
   {
    "duration": 244,
    "start_time": "2023-06-05T11:38:15.634Z"
   },
   {
    "duration": 8,
    "start_time": "2023-06-05T11:38:15.880Z"
   },
   {
    "duration": 185,
    "start_time": "2023-06-05T11:38:15.890Z"
   },
   {
    "duration": 139,
    "start_time": "2023-06-05T11:38:16.076Z"
   },
   {
    "duration": 142,
    "start_time": "2023-06-05T11:38:16.217Z"
   },
   {
    "duration": 129,
    "start_time": "2023-06-05T11:38:16.361Z"
   },
   {
    "duration": 123,
    "start_time": "2023-06-05T11:38:16.492Z"
   },
   {
    "duration": 228,
    "start_time": "2023-06-05T11:38:16.617Z"
   },
   {
    "duration": 29,
    "start_time": "2023-06-05T11:38:16.847Z"
   },
   {
    "duration": 11,
    "start_time": "2023-06-05T11:38:16.877Z"
   },
   {
    "duration": 162,
    "start_time": "2023-06-05T11:38:16.889Z"
   },
   {
    "duration": 149,
    "start_time": "2023-06-05T11:38:17.053Z"
   },
   {
    "duration": 11,
    "start_time": "2023-06-05T11:38:17.204Z"
   },
   {
    "duration": 154,
    "start_time": "2023-06-05T11:38:17.216Z"
   },
   {
    "duration": 219,
    "start_time": "2023-06-05T11:38:17.372Z"
   },
   {
    "duration": 11,
    "start_time": "2023-06-05T11:38:17.592Z"
   },
   {
    "duration": 146,
    "start_time": "2023-06-05T11:38:17.604Z"
   },
   {
    "duration": 142,
    "start_time": "2023-06-05T11:38:17.751Z"
   },
   {
    "duration": 202,
    "start_time": "2023-06-05T11:38:17.894Z"
   },
   {
    "duration": 184,
    "start_time": "2023-06-05T11:38:18.098Z"
   },
   {
    "duration": 193,
    "start_time": "2023-06-05T11:38:18.284Z"
   },
   {
    "duration": 139,
    "start_time": "2023-06-05T11:38:18.479Z"
   },
   {
    "duration": 177,
    "start_time": "2023-06-05T11:38:18.620Z"
   },
   {
    "duration": 183,
    "start_time": "2023-06-05T11:38:18.799Z"
   },
   {
    "duration": 127,
    "start_time": "2023-06-05T11:38:18.984Z"
   },
   {
    "duration": 180,
    "start_time": "2023-06-05T11:38:19.112Z"
   },
   {
    "duration": 265,
    "start_time": "2023-06-05T11:38:19.294Z"
   },
   {
    "duration": 133,
    "start_time": "2023-06-05T11:38:19.561Z"
   },
   {
    "duration": 14,
    "start_time": "2023-06-05T11:38:19.695Z"
   },
   {
    "duration": 12,
    "start_time": "2023-06-05T11:38:19.710Z"
   },
   {
    "duration": 7,
    "start_time": "2023-06-05T11:42:23.468Z"
   },
   {
    "duration": 10,
    "start_time": "2023-06-05T11:43:06.222Z"
   },
   {
    "duration": 6,
    "start_time": "2023-06-05T11:45:48.749Z"
   },
   {
    "duration": 10,
    "start_time": "2023-06-05T11:47:32.154Z"
   },
   {
    "duration": 10,
    "start_time": "2023-06-05T11:51:52.220Z"
   },
   {
    "duration": 9,
    "start_time": "2023-06-05T11:52:25.723Z"
   },
   {
    "duration": 7,
    "start_time": "2023-06-05T11:52:58.994Z"
   },
   {
    "duration": 19,
    "start_time": "2023-06-05T11:53:09.178Z"
   },
   {
    "duration": 10,
    "start_time": "2023-06-05T11:53:33.453Z"
   },
   {
    "duration": 17,
    "start_time": "2023-06-05T11:57:15.194Z"
   },
   {
    "duration": 17,
    "start_time": "2023-06-05T12:01:54.993Z"
   },
   {
    "duration": 19,
    "start_time": "2023-06-05T12:02:36.907Z"
   },
   {
    "duration": 1165,
    "start_time": "2023-06-05T12:04:15.634Z"
   },
   {
    "duration": 132,
    "start_time": "2023-06-05T12:04:16.801Z"
   },
   {
    "duration": 30,
    "start_time": "2023-06-05T12:04:16.935Z"
   },
   {
    "duration": 21,
    "start_time": "2023-06-05T12:04:16.967Z"
   },
   {
    "duration": 15,
    "start_time": "2023-06-05T12:04:16.989Z"
   },
   {
    "duration": 9,
    "start_time": "2023-06-05T12:04:17.006Z"
   },
   {
    "duration": 6,
    "start_time": "2023-06-05T12:04:17.017Z"
   },
   {
    "duration": 7,
    "start_time": "2023-06-05T12:04:17.024Z"
   },
   {
    "duration": 12,
    "start_time": "2023-06-05T12:04:17.032Z"
   },
   {
    "duration": 30,
    "start_time": "2023-06-05T12:04:17.047Z"
   },
   {
    "duration": 7,
    "start_time": "2023-06-05T12:04:17.079Z"
   },
   {
    "duration": 21,
    "start_time": "2023-06-05T12:04:17.088Z"
   },
   {
    "duration": 16,
    "start_time": "2023-06-05T12:04:17.111Z"
   },
   {
    "duration": 16,
    "start_time": "2023-06-05T12:04:17.129Z"
   },
   {
    "duration": 37,
    "start_time": "2023-06-05T12:04:17.147Z"
   },
   {
    "duration": 6,
    "start_time": "2023-06-05T12:04:17.186Z"
   },
   {
    "duration": 26,
    "start_time": "2023-06-05T12:04:17.193Z"
   },
   {
    "duration": 4,
    "start_time": "2023-06-05T12:04:17.220Z"
   },
   {
    "duration": 28,
    "start_time": "2023-06-05T12:04:17.225Z"
   },
   {
    "duration": 3,
    "start_time": "2023-06-05T12:04:17.255Z"
   },
   {
    "duration": 18,
    "start_time": "2023-06-05T12:04:17.259Z"
   },
   {
    "duration": 10,
    "start_time": "2023-06-05T12:04:17.278Z"
   },
   {
    "duration": 256,
    "start_time": "2023-06-05T12:04:17.290Z"
   },
   {
    "duration": 30,
    "start_time": "2023-06-05T12:04:17.547Z"
   },
   {
    "duration": 13,
    "start_time": "2023-06-05T12:04:17.579Z"
   },
   {
    "duration": 20,
    "start_time": "2023-06-05T12:04:17.593Z"
   },
   {
    "duration": 19,
    "start_time": "2023-06-05T12:04:17.614Z"
   },
   {
    "duration": 208,
    "start_time": "2023-06-05T12:04:17.636Z"
   },
   {
    "duration": 279,
    "start_time": "2023-06-05T12:04:17.846Z"
   },
   {
    "duration": 167,
    "start_time": "2023-06-05T12:04:18.127Z"
   },
   {
    "duration": 180,
    "start_time": "2023-06-05T12:04:18.295Z"
   },
   {
    "duration": 176,
    "start_time": "2023-06-05T12:04:18.476Z"
   },
   {
    "duration": 166,
    "start_time": "2023-06-05T12:04:18.654Z"
   },
   {
    "duration": 196,
    "start_time": "2023-06-05T12:04:18.822Z"
   },
   {
    "duration": 238,
    "start_time": "2023-06-05T12:04:19.020Z"
   },
   {
    "duration": 15,
    "start_time": "2023-06-05T12:04:19.260Z"
   },
   {
    "duration": 175,
    "start_time": "2023-06-05T12:04:19.277Z"
   },
   {
    "duration": 144,
    "start_time": "2023-06-05T12:04:19.454Z"
   },
   {
    "duration": 139,
    "start_time": "2023-06-05T12:04:19.599Z"
   },
   {
    "duration": 136,
    "start_time": "2023-06-05T12:04:19.740Z"
   },
   {
    "duration": 137,
    "start_time": "2023-06-05T12:04:19.878Z"
   },
   {
    "duration": 258,
    "start_time": "2023-06-05T12:04:20.017Z"
   },
   {
    "duration": 22,
    "start_time": "2023-06-05T12:04:20.277Z"
   },
   {
    "duration": 12,
    "start_time": "2023-06-05T12:04:20.301Z"
   },
   {
    "duration": 175,
    "start_time": "2023-06-05T12:04:20.315Z"
   },
   {
    "duration": 150,
    "start_time": "2023-06-05T12:04:20.492Z"
   },
   {
    "duration": 14,
    "start_time": "2023-06-05T12:04:20.644Z"
   },
   {
    "duration": 157,
    "start_time": "2023-06-05T12:04:20.660Z"
   },
   {
    "duration": 231,
    "start_time": "2023-06-05T12:04:20.819Z"
   },
   {
    "duration": 13,
    "start_time": "2023-06-05T12:04:21.052Z"
   },
   {
    "duration": 154,
    "start_time": "2023-06-05T12:04:21.075Z"
   },
   {
    "duration": 156,
    "start_time": "2023-06-05T12:04:21.231Z"
   },
   {
    "duration": 199,
    "start_time": "2023-06-05T12:04:21.389Z"
   },
   {
    "duration": 177,
    "start_time": "2023-06-05T12:04:21.590Z"
   },
   {
    "duration": 191,
    "start_time": "2023-06-05T12:04:21.774Z"
   },
   {
    "duration": 144,
    "start_time": "2023-06-05T12:04:21.967Z"
   },
   {
    "duration": 176,
    "start_time": "2023-06-05T12:04:22.112Z"
   },
   {
    "duration": 193,
    "start_time": "2023-06-05T12:04:22.289Z"
   },
   {
    "duration": 132,
    "start_time": "2023-06-05T12:04:22.484Z"
   },
   {
    "duration": 175,
    "start_time": "2023-06-05T12:04:22.618Z"
   },
   {
    "duration": 258,
    "start_time": "2023-06-05T12:04:22.795Z"
   },
   {
    "duration": 147,
    "start_time": "2023-06-05T12:04:23.055Z"
   },
   {
    "duration": 12,
    "start_time": "2023-06-05T12:04:23.203Z"
   },
   {
    "duration": 10,
    "start_time": "2023-06-05T12:04:23.216Z"
   },
   {
    "duration": 27,
    "start_time": "2023-06-05T12:04:36.207Z"
   },
   {
    "duration": 26,
    "start_time": "2023-06-05T12:05:14.852Z"
   },
   {
    "duration": 1238,
    "start_time": "2023-06-05T12:05:54.866Z"
   },
   {
    "duration": 155,
    "start_time": "2023-06-05T12:05:56.106Z"
   },
   {
    "duration": 44,
    "start_time": "2023-06-05T12:05:56.263Z"
   },
   {
    "duration": 27,
    "start_time": "2023-06-05T12:05:56.309Z"
   },
   {
    "duration": 27,
    "start_time": "2023-06-05T12:05:56.338Z"
   },
   {
    "duration": 15,
    "start_time": "2023-06-05T12:05:56.367Z"
   },
   {
    "duration": 40,
    "start_time": "2023-06-05T12:05:56.383Z"
   },
   {
    "duration": 20,
    "start_time": "2023-06-05T12:05:56.425Z"
   },
   {
    "duration": 11,
    "start_time": "2023-06-05T12:05:56.447Z"
   },
   {
    "duration": 16,
    "start_time": "2023-06-05T12:05:56.460Z"
   },
   {
    "duration": 21,
    "start_time": "2023-06-05T12:05:56.478Z"
   },
   {
    "duration": 14,
    "start_time": "2023-06-05T12:05:56.501Z"
   },
   {
    "duration": 24,
    "start_time": "2023-06-05T12:05:56.517Z"
   },
   {
    "duration": 37,
    "start_time": "2023-06-05T12:05:56.545Z"
   },
   {
    "duration": 9,
    "start_time": "2023-06-05T12:05:56.584Z"
   },
   {
    "duration": 9,
    "start_time": "2023-06-05T12:05:56.595Z"
   },
   {
    "duration": 20,
    "start_time": "2023-06-05T12:05:56.606Z"
   },
   {
    "duration": 4,
    "start_time": "2023-06-05T12:05:56.628Z"
   },
   {
    "duration": 29,
    "start_time": "2023-06-05T12:05:56.634Z"
   },
   {
    "duration": 3,
    "start_time": "2023-06-05T12:05:56.674Z"
   },
   {
    "duration": 6,
    "start_time": "2023-06-05T12:05:56.678Z"
   },
   {
    "duration": 15,
    "start_time": "2023-06-05T12:05:56.685Z"
   },
   {
    "duration": 251,
    "start_time": "2023-06-05T12:05:56.702Z"
   },
   {
    "duration": 22,
    "start_time": "2023-06-05T12:05:56.955Z"
   },
   {
    "duration": 16,
    "start_time": "2023-06-05T12:05:56.979Z"
   },
   {
    "duration": 31,
    "start_time": "2023-06-05T12:05:56.996Z"
   },
   {
    "duration": 20,
    "start_time": "2023-06-05T12:05:57.029Z"
   },
   {
    "duration": 201,
    "start_time": "2023-06-05T12:05:57.050Z"
   },
   {
    "duration": 300,
    "start_time": "2023-06-05T12:05:57.252Z"
   },
   {
    "duration": 182,
    "start_time": "2023-06-05T12:05:57.554Z"
   },
   {
    "duration": 193,
    "start_time": "2023-06-05T12:05:57.738Z"
   },
   {
    "duration": 204,
    "start_time": "2023-06-05T12:05:57.933Z"
   },
   {
    "duration": 180,
    "start_time": "2023-06-05T12:05:58.140Z"
   },
   {
    "duration": 205,
    "start_time": "2023-06-05T12:05:58.323Z"
   },
   {
    "duration": 247,
    "start_time": "2023-06-05T12:05:58.530Z"
   },
   {
    "duration": 6,
    "start_time": "2023-06-05T12:05:58.778Z"
   },
   {
    "duration": 178,
    "start_time": "2023-06-05T12:05:58.785Z"
   },
   {
    "duration": 139,
    "start_time": "2023-06-05T12:05:58.965Z"
   },
   {
    "duration": 139,
    "start_time": "2023-06-05T12:05:59.106Z"
   },
   {
    "duration": 134,
    "start_time": "2023-06-05T12:05:59.246Z"
   },
   {
    "duration": 132,
    "start_time": "2023-06-05T12:05:59.384Z"
   },
   {
    "duration": 237,
    "start_time": "2023-06-05T12:05:59.517Z"
   },
   {
    "duration": 29,
    "start_time": "2023-06-05T12:05:59.756Z"
   },
   {
    "duration": 21,
    "start_time": "2023-06-05T12:05:59.786Z"
   },
   {
    "duration": 158,
    "start_time": "2023-06-05T12:05:59.809Z"
   },
   {
    "duration": 168,
    "start_time": "2023-06-05T12:05:59.969Z"
   },
   {
    "duration": 13,
    "start_time": "2023-06-05T12:06:00.139Z"
   },
   {
    "duration": 181,
    "start_time": "2023-06-05T12:06:00.154Z"
   },
   {
    "duration": 255,
    "start_time": "2023-06-05T12:06:00.337Z"
   },
   {
    "duration": 13,
    "start_time": "2023-06-05T12:06:00.594Z"
   },
   {
    "duration": 209,
    "start_time": "2023-06-05T12:06:00.609Z"
   },
   {
    "duration": 155,
    "start_time": "2023-06-05T12:06:00.820Z"
   },
   {
    "duration": 187,
    "start_time": "2023-06-05T12:06:00.977Z"
   },
   {
    "duration": 174,
    "start_time": "2023-06-05T12:06:01.166Z"
   },
   {
    "duration": 207,
    "start_time": "2023-06-05T12:06:01.342Z"
   },
   {
    "duration": 159,
    "start_time": "2023-06-05T12:06:01.550Z"
   },
   {
    "duration": 214,
    "start_time": "2023-06-05T12:06:01.712Z"
   },
   {
    "duration": 195,
    "start_time": "2023-06-05T12:06:01.927Z"
   },
   {
    "duration": 131,
    "start_time": "2023-06-05T12:06:02.124Z"
   },
   {
    "duration": 181,
    "start_time": "2023-06-05T12:06:02.256Z"
   },
   {
    "duration": 287,
    "start_time": "2023-06-05T12:06:02.439Z"
   },
   {
    "duration": 139,
    "start_time": "2023-06-05T12:06:02.727Z"
   },
   {
    "duration": 13,
    "start_time": "2023-06-05T12:06:02.874Z"
   },
   {
    "duration": 68,
    "start_time": "2023-06-05T12:06:02.889Z"
   },
   {
    "duration": 661,
    "start_time": "2023-06-05T12:09:32.204Z"
   },
   {
    "duration": 62,
    "start_time": "2023-06-05T12:13:31.518Z"
   },
   {
    "duration": 26,
    "start_time": "2023-06-05T12:13:39.419Z"
   },
   {
    "duration": 17,
    "start_time": "2023-06-05T12:14:17.430Z"
   },
   {
    "duration": 1203,
    "start_time": "2023-06-05T12:14:31.612Z"
   },
   {
    "duration": 218,
    "start_time": "2023-06-05T12:14:32.818Z"
   },
   {
    "duration": 32,
    "start_time": "2023-06-05T12:14:33.037Z"
   },
   {
    "duration": 21,
    "start_time": "2023-06-05T12:14:33.071Z"
   },
   {
    "duration": 16,
    "start_time": "2023-06-05T12:14:33.094Z"
   },
   {
    "duration": 11,
    "start_time": "2023-06-05T12:14:33.111Z"
   },
   {
    "duration": 6,
    "start_time": "2023-06-05T12:14:33.123Z"
   },
   {
    "duration": 7,
    "start_time": "2023-06-05T12:14:33.130Z"
   },
   {
    "duration": 3,
    "start_time": "2023-06-05T12:14:33.139Z"
   },
   {
    "duration": 38,
    "start_time": "2023-06-05T12:14:33.144Z"
   },
   {
    "duration": 5,
    "start_time": "2023-06-05T12:14:33.184Z"
   },
   {
    "duration": 9,
    "start_time": "2023-06-05T12:14:33.190Z"
   },
   {
    "duration": 15,
    "start_time": "2023-06-05T12:14:33.201Z"
   },
   {
    "duration": 16,
    "start_time": "2023-06-05T12:14:33.218Z"
   },
   {
    "duration": 11,
    "start_time": "2023-06-05T12:14:33.276Z"
   },
   {
    "duration": 10,
    "start_time": "2023-06-05T12:14:33.289Z"
   },
   {
    "duration": 21,
    "start_time": "2023-06-05T12:14:33.301Z"
   },
   {
    "duration": 5,
    "start_time": "2023-06-05T12:14:33.325Z"
   },
   {
    "duration": 26,
    "start_time": "2023-06-05T12:14:33.331Z"
   },
   {
    "duration": 3,
    "start_time": "2023-06-05T12:14:33.376Z"
   },
   {
    "duration": 23,
    "start_time": "2023-06-05T12:14:33.380Z"
   },
   {
    "duration": 16,
    "start_time": "2023-06-05T12:14:33.405Z"
   },
   {
    "duration": 41,
    "start_time": "2023-06-05T12:14:33.423Z"
   },
   {
    "duration": 20,
    "start_time": "2023-06-05T12:14:33.466Z"
   },
   {
    "duration": 17,
    "start_time": "2023-06-05T12:14:33.488Z"
   },
   {
    "duration": 25,
    "start_time": "2023-06-05T12:14:33.507Z"
   },
   {
    "duration": 45,
    "start_time": "2023-06-05T12:14:33.534Z"
   },
   {
    "duration": 206,
    "start_time": "2023-06-05T12:14:33.584Z"
   },
   {
    "duration": 340,
    "start_time": "2023-06-05T12:14:33.792Z"
   },
   {
    "duration": 231,
    "start_time": "2023-06-05T12:14:34.134Z"
   },
   {
    "duration": 228,
    "start_time": "2023-06-05T12:14:34.367Z"
   },
   {
    "duration": 194,
    "start_time": "2023-06-05T12:14:34.597Z"
   },
   {
    "duration": 186,
    "start_time": "2023-06-05T12:14:34.793Z"
   },
   {
    "duration": 202,
    "start_time": "2023-06-05T12:14:34.981Z"
   },
   {
    "duration": 248,
    "start_time": "2023-06-05T12:14:35.185Z"
   },
   {
    "duration": 7,
    "start_time": "2023-06-05T12:14:35.435Z"
   },
   {
    "duration": 185,
    "start_time": "2023-06-05T12:14:35.443Z"
   },
   {
    "duration": 151,
    "start_time": "2023-06-05T12:14:35.630Z"
   },
   {
    "duration": 142,
    "start_time": "2023-06-05T12:14:35.783Z"
   },
   {
    "duration": 132,
    "start_time": "2023-06-05T12:14:35.928Z"
   },
   {
    "duration": 135,
    "start_time": "2023-06-05T12:14:36.062Z"
   },
   {
    "duration": 263,
    "start_time": "2023-06-05T12:14:36.199Z"
   },
   {
    "duration": 26,
    "start_time": "2023-06-05T12:14:36.464Z"
   },
   {
    "duration": 12,
    "start_time": "2023-06-05T12:14:36.492Z"
   },
   {
    "duration": 176,
    "start_time": "2023-06-05T12:14:36.507Z"
   },
   {
    "duration": 157,
    "start_time": "2023-06-05T12:14:36.685Z"
   },
   {
    "duration": 12,
    "start_time": "2023-06-05T12:14:36.844Z"
   },
   {
    "duration": 168,
    "start_time": "2023-06-05T12:14:36.858Z"
   },
   {
    "duration": 223,
    "start_time": "2023-06-05T12:14:37.028Z"
   },
   {
    "duration": 11,
    "start_time": "2023-06-05T12:14:37.253Z"
   },
   {
    "duration": 151,
    "start_time": "2023-06-05T12:14:37.275Z"
   },
   {
    "duration": 163,
    "start_time": "2023-06-05T12:14:37.428Z"
   },
   {
    "duration": 205,
    "start_time": "2023-06-05T12:14:37.593Z"
   },
   {
    "duration": 192,
    "start_time": "2023-06-05T12:14:37.800Z"
   },
   {
    "duration": 207,
    "start_time": "2023-06-05T12:14:37.994Z"
   },
   {
    "duration": 147,
    "start_time": "2023-06-05T12:14:38.202Z"
   },
   {
    "duration": 208,
    "start_time": "2023-06-05T12:14:38.351Z"
   },
   {
    "duration": 215,
    "start_time": "2023-06-05T12:14:38.560Z"
   },
   {
    "duration": 157,
    "start_time": "2023-06-05T12:14:38.778Z"
   },
   {
    "duration": 196,
    "start_time": "2023-06-05T12:14:38.937Z"
   },
   {
    "duration": 270,
    "start_time": "2023-06-05T12:14:39.134Z"
   },
   {
    "duration": 140,
    "start_time": "2023-06-05T12:14:39.405Z"
   },
   {
    "duration": 14,
    "start_time": "2023-06-05T12:14:39.547Z"
   },
   {
    "duration": 22,
    "start_time": "2023-06-05T12:14:39.562Z"
   },
   {
    "duration": 15,
    "start_time": "2023-06-05T12:17:42.708Z"
   },
   {
    "duration": 13,
    "start_time": "2023-06-05T12:17:58.306Z"
   },
   {
    "duration": 1196,
    "start_time": "2023-06-05T12:18:20.755Z"
   },
   {
    "duration": 126,
    "start_time": "2023-06-05T12:18:21.953Z"
   },
   {
    "duration": 35,
    "start_time": "2023-06-05T12:18:22.082Z"
   },
   {
    "duration": 22,
    "start_time": "2023-06-05T12:18:22.119Z"
   },
   {
    "duration": 35,
    "start_time": "2023-06-05T12:18:22.143Z"
   },
   {
    "duration": 11,
    "start_time": "2023-06-05T12:18:22.180Z"
   },
   {
    "duration": 6,
    "start_time": "2023-06-05T12:18:22.192Z"
   },
   {
    "duration": 6,
    "start_time": "2023-06-05T12:18:22.200Z"
   },
   {
    "duration": 13,
    "start_time": "2023-06-05T12:18:22.208Z"
   },
   {
    "duration": 9,
    "start_time": "2023-06-05T12:18:22.224Z"
   },
   {
    "duration": 5,
    "start_time": "2023-06-05T12:18:22.234Z"
   },
   {
    "duration": 36,
    "start_time": "2023-06-05T12:18:22.240Z"
   },
   {
    "duration": 14,
    "start_time": "2023-06-05T12:18:22.278Z"
   },
   {
    "duration": 14,
    "start_time": "2023-06-05T12:18:22.294Z"
   },
   {
    "duration": 9,
    "start_time": "2023-06-05T12:18:22.309Z"
   },
   {
    "duration": 4,
    "start_time": "2023-06-05T12:18:22.320Z"
   },
   {
    "duration": 19,
    "start_time": "2023-06-05T12:18:22.325Z"
   },
   {
    "duration": 4,
    "start_time": "2023-06-05T12:18:22.376Z"
   },
   {
    "duration": 14,
    "start_time": "2023-06-05T12:18:22.382Z"
   },
   {
    "duration": 8,
    "start_time": "2023-06-05T12:18:22.398Z"
   },
   {
    "duration": 9,
    "start_time": "2023-06-05T12:18:22.408Z"
   },
   {
    "duration": 20,
    "start_time": "2023-06-05T12:18:22.419Z"
   },
   {
    "duration": 17,
    "start_time": "2023-06-05T12:18:22.440Z"
   },
   {
    "duration": 24,
    "start_time": "2023-06-05T12:18:22.458Z"
   },
   {
    "duration": 16,
    "start_time": "2023-06-05T12:18:22.483Z"
   },
   {
    "duration": 13,
    "start_time": "2023-06-05T12:18:22.500Z"
   },
   {
    "duration": 19,
    "start_time": "2023-06-05T12:18:22.515Z"
   },
   {
    "duration": 232,
    "start_time": "2023-06-05T12:18:22.537Z"
   },
   {
    "duration": 270,
    "start_time": "2023-06-05T12:18:22.775Z"
   },
   {
    "duration": 153,
    "start_time": "2023-06-05T12:18:23.047Z"
   },
   {
    "duration": 177,
    "start_time": "2023-06-05T12:18:23.202Z"
   },
   {
    "duration": 185,
    "start_time": "2023-06-05T12:18:23.381Z"
   },
   {
    "duration": 169,
    "start_time": "2023-06-05T12:18:23.568Z"
   },
   {
    "duration": 188,
    "start_time": "2023-06-05T12:18:23.738Z"
   },
   {
    "duration": 295,
    "start_time": "2023-06-05T12:18:23.927Z"
   },
   {
    "duration": 6,
    "start_time": "2023-06-05T12:18:24.224Z"
   },
   {
    "duration": 177,
    "start_time": "2023-06-05T12:18:24.232Z"
   },
   {
    "duration": 135,
    "start_time": "2023-06-05T12:18:24.411Z"
   },
   {
    "duration": 145,
    "start_time": "2023-06-05T12:18:24.549Z"
   },
   {
    "duration": 137,
    "start_time": "2023-06-05T12:18:24.696Z"
   },
   {
    "duration": 132,
    "start_time": "2023-06-05T12:18:24.835Z"
   },
   {
    "duration": 237,
    "start_time": "2023-06-05T12:18:24.975Z"
   },
   {
    "duration": 22,
    "start_time": "2023-06-05T12:18:25.214Z"
   },
   {
    "duration": 13,
    "start_time": "2023-06-05T12:18:25.238Z"
   },
   {
    "duration": 157,
    "start_time": "2023-06-05T12:18:25.274Z"
   },
   {
    "duration": 155,
    "start_time": "2023-06-05T12:18:25.432Z"
   },
   {
    "duration": 12,
    "start_time": "2023-06-05T12:18:25.589Z"
   },
   {
    "duration": 159,
    "start_time": "2023-06-05T12:18:25.602Z"
   },
   {
    "duration": 231,
    "start_time": "2023-06-05T12:18:25.763Z"
   },
   {
    "duration": 12,
    "start_time": "2023-06-05T12:18:25.996Z"
   },
   {
    "duration": 155,
    "start_time": "2023-06-05T12:18:26.010Z"
   },
   {
    "duration": 163,
    "start_time": "2023-06-05T12:18:26.166Z"
   },
   {
    "duration": 207,
    "start_time": "2023-06-05T12:18:26.331Z"
   },
   {
    "duration": 202,
    "start_time": "2023-06-05T12:18:26.540Z"
   },
   {
    "duration": 186,
    "start_time": "2023-06-05T12:18:26.745Z"
   },
   {
    "duration": 156,
    "start_time": "2023-06-05T12:18:26.932Z"
   },
   {
    "duration": 190,
    "start_time": "2023-06-05T12:18:27.090Z"
   },
   {
    "duration": 187,
    "start_time": "2023-06-05T12:18:27.282Z"
   },
   {
    "duration": 145,
    "start_time": "2023-06-05T12:18:27.471Z"
   },
   {
    "duration": 203,
    "start_time": "2023-06-05T12:18:27.617Z"
   },
   {
    "duration": 295,
    "start_time": "2023-06-05T12:18:27.821Z"
   },
   {
    "duration": 150,
    "start_time": "2023-06-05T12:18:28.118Z"
   },
   {
    "duration": 14,
    "start_time": "2023-06-05T12:18:28.269Z"
   },
   {
    "duration": 10,
    "start_time": "2023-06-05T12:18:28.285Z"
   },
   {
    "duration": 16,
    "start_time": "2023-06-05T12:19:01.105Z"
   },
   {
    "duration": 18,
    "start_time": "2023-06-05T12:19:47.899Z"
   },
   {
    "duration": 23,
    "start_time": "2023-06-05T12:20:41.273Z"
   },
   {
    "duration": 21,
    "start_time": "2023-06-05T12:21:35.176Z"
   },
   {
    "duration": 185,
    "start_time": "2023-06-05T12:26:06.849Z"
   },
   {
    "duration": 220,
    "start_time": "2023-06-05T12:26:27.919Z"
   },
   {
    "duration": 175,
    "start_time": "2023-06-05T12:26:59.166Z"
   },
   {
    "duration": 1209,
    "start_time": "2023-06-05T13:11:06.672Z"
   },
   {
    "duration": 123,
    "start_time": "2023-06-05T13:11:07.883Z"
   },
   {
    "duration": 35,
    "start_time": "2023-06-05T13:11:08.008Z"
   },
   {
    "duration": 44,
    "start_time": "2023-06-05T13:11:08.045Z"
   },
   {
    "duration": 21,
    "start_time": "2023-06-05T13:11:08.091Z"
   },
   {
    "duration": 15,
    "start_time": "2023-06-05T13:11:08.114Z"
   },
   {
    "duration": 7,
    "start_time": "2023-06-05T13:11:08.131Z"
   },
   {
    "duration": 34,
    "start_time": "2023-06-05T13:11:08.141Z"
   },
   {
    "duration": 5,
    "start_time": "2023-06-05T13:11:08.177Z"
   },
   {
    "duration": 25,
    "start_time": "2023-06-05T13:11:08.184Z"
   },
   {
    "duration": 11,
    "start_time": "2023-06-05T13:11:08.211Z"
   },
   {
    "duration": 13,
    "start_time": "2023-06-05T13:11:08.224Z"
   },
   {
    "duration": 40,
    "start_time": "2023-06-05T13:11:08.238Z"
   },
   {
    "duration": 16,
    "start_time": "2023-06-05T13:11:08.280Z"
   },
   {
    "duration": 15,
    "start_time": "2023-06-05T13:11:08.299Z"
   },
   {
    "duration": 6,
    "start_time": "2023-06-05T13:11:08.316Z"
   },
   {
    "duration": 17,
    "start_time": "2023-06-05T13:11:08.324Z"
   },
   {
    "duration": 6,
    "start_time": "2023-06-05T13:11:08.376Z"
   },
   {
    "duration": 22,
    "start_time": "2023-06-05T13:11:08.384Z"
   },
   {
    "duration": 11,
    "start_time": "2023-06-05T13:11:08.407Z"
   },
   {
    "duration": 7,
    "start_time": "2023-06-05T13:11:08.420Z"
   },
   {
    "duration": 10,
    "start_time": "2023-06-05T13:11:08.429Z"
   },
   {
    "duration": 13,
    "start_time": "2023-06-05T13:11:08.440Z"
   },
   {
    "duration": 33,
    "start_time": "2023-06-05T13:11:08.455Z"
   },
   {
    "duration": 24,
    "start_time": "2023-06-05T13:11:08.489Z"
   },
   {
    "duration": 18,
    "start_time": "2023-06-05T13:11:08.515Z"
   },
   {
    "duration": 59,
    "start_time": "2023-06-05T13:11:08.534Z"
   },
   {
    "duration": 241,
    "start_time": "2023-06-05T13:11:08.599Z"
   },
   {
    "duration": 298,
    "start_time": "2023-06-05T13:11:08.841Z"
   },
   {
    "duration": 186,
    "start_time": "2023-06-05T13:11:09.140Z"
   },
   {
    "duration": 201,
    "start_time": "2023-06-05T13:11:09.328Z"
   },
   {
    "duration": 174,
    "start_time": "2023-06-05T13:11:09.531Z"
   },
   {
    "duration": 159,
    "start_time": "2023-06-05T13:11:09.707Z"
   },
   {
    "duration": 197,
    "start_time": "2023-06-05T13:11:09.867Z"
   },
   {
    "duration": 256,
    "start_time": "2023-06-05T13:11:10.067Z"
   },
   {
    "duration": 6,
    "start_time": "2023-06-05T13:11:10.324Z"
   },
   {
    "duration": 185,
    "start_time": "2023-06-05T13:11:10.332Z"
   },
   {
    "duration": 145,
    "start_time": "2023-06-05T13:11:10.519Z"
   },
   {
    "duration": 139,
    "start_time": "2023-06-05T13:11:10.674Z"
   },
   {
    "duration": 138,
    "start_time": "2023-06-05T13:11:10.814Z"
   },
   {
    "duration": 141,
    "start_time": "2023-06-05T13:11:10.954Z"
   },
   {
    "duration": 245,
    "start_time": "2023-06-05T13:11:11.096Z"
   },
   {
    "duration": 32,
    "start_time": "2023-06-05T13:11:11.343Z"
   },
   {
    "duration": 12,
    "start_time": "2023-06-05T13:11:11.377Z"
   },
   {
    "duration": 162,
    "start_time": "2023-06-05T13:11:11.391Z"
   },
   {
    "duration": 155,
    "start_time": "2023-06-05T13:11:11.555Z"
   },
   {
    "duration": 12,
    "start_time": "2023-06-05T13:11:11.712Z"
   },
   {
    "duration": 163,
    "start_time": "2023-06-05T13:11:11.726Z"
   },
   {
    "duration": 227,
    "start_time": "2023-06-05T13:11:11.890Z"
   },
   {
    "duration": 12,
    "start_time": "2023-06-05T13:11:12.119Z"
   },
   {
    "duration": 173,
    "start_time": "2023-06-05T13:11:12.132Z"
   },
   {
    "duration": 159,
    "start_time": "2023-06-05T13:11:12.307Z"
   },
   {
    "duration": 202,
    "start_time": "2023-06-05T13:11:12.467Z"
   },
   {
    "duration": 193,
    "start_time": "2023-06-05T13:11:12.674Z"
   },
   {
    "duration": 183,
    "start_time": "2023-06-05T13:11:12.869Z"
   },
   {
    "duration": 182,
    "start_time": "2023-06-05T13:11:13.054Z"
   },
   {
    "duration": 199,
    "start_time": "2023-06-05T13:11:13.238Z"
   },
   {
    "duration": 150,
    "start_time": "2023-06-05T13:11:13.439Z"
   },
   {
    "duration": 189,
    "start_time": "2023-06-05T13:11:13.592Z"
   },
   {
    "duration": 217,
    "start_time": "2023-06-05T13:11:13.783Z"
   },
   {
    "duration": 287,
    "start_time": "2023-06-05T13:11:14.002Z"
   },
   {
    "duration": 186,
    "start_time": "2023-06-05T13:11:14.291Z"
   },
   {
    "duration": 182,
    "start_time": "2023-06-05T13:11:14.479Z"
   },
   {
    "duration": 141,
    "start_time": "2023-06-05T13:11:14.663Z"
   },
   {
    "duration": 12,
    "start_time": "2023-06-05T13:11:14.806Z"
   },
   {
    "duration": 12,
    "start_time": "2023-06-05T13:11:14.820Z"
   },
   {
    "duration": 16,
    "start_time": "2023-06-05T13:12:08.325Z"
   },
   {
    "duration": 100,
    "start_time": "2023-06-05T13:12:45.867Z"
   },
   {
    "duration": 62,
    "start_time": "2023-06-05T13:12:53.877Z"
   },
   {
    "duration": 17,
    "start_time": "2023-06-05T13:12:58.676Z"
   },
   {
    "duration": 1167,
    "start_time": "2023-06-05T13:13:11.931Z"
   },
   {
    "duration": 140,
    "start_time": "2023-06-05T13:13:13.100Z"
   },
   {
    "duration": 30,
    "start_time": "2023-06-05T13:13:13.242Z"
   },
   {
    "duration": 27,
    "start_time": "2023-06-05T13:13:13.274Z"
   },
   {
    "duration": 31,
    "start_time": "2023-06-05T13:13:13.303Z"
   },
   {
    "duration": 13,
    "start_time": "2023-06-05T13:13:13.336Z"
   },
   {
    "duration": 7,
    "start_time": "2023-06-05T13:13:13.351Z"
   },
   {
    "duration": 16,
    "start_time": "2023-06-05T13:13:13.359Z"
   },
   {
    "duration": 4,
    "start_time": "2023-06-05T13:13:13.377Z"
   },
   {
    "duration": 10,
    "start_time": "2023-06-05T13:13:13.384Z"
   },
   {
    "duration": 5,
    "start_time": "2023-06-05T13:13:13.396Z"
   },
   {
    "duration": 14,
    "start_time": "2023-06-05T13:13:13.403Z"
   },
   {
    "duration": 27,
    "start_time": "2023-06-05T13:13:13.420Z"
   },
   {
    "duration": 47,
    "start_time": "2023-06-05T13:13:13.448Z"
   },
   {
    "duration": 12,
    "start_time": "2023-06-05T13:13:13.498Z"
   },
   {
    "duration": 8,
    "start_time": "2023-06-05T13:13:13.512Z"
   },
   {
    "duration": 20,
    "start_time": "2023-06-05T13:13:13.522Z"
   },
   {
    "duration": 36,
    "start_time": "2023-06-05T13:13:13.544Z"
   },
   {
    "duration": 22,
    "start_time": "2023-06-05T13:13:13.582Z"
   },
   {
    "duration": 12,
    "start_time": "2023-06-05T13:13:13.606Z"
   },
   {
    "duration": 20,
    "start_time": "2023-06-05T13:13:13.620Z"
   },
   {
    "duration": 13,
    "start_time": "2023-06-05T13:13:13.641Z"
   },
   {
    "duration": 29,
    "start_time": "2023-06-05T13:13:13.656Z"
   },
   {
    "duration": 13,
    "start_time": "2023-06-05T13:13:13.687Z"
   },
   {
    "duration": 21,
    "start_time": "2023-06-05T13:13:13.702Z"
   },
   {
    "duration": 17,
    "start_time": "2023-06-05T13:13:13.724Z"
   },
   {
    "duration": 48,
    "start_time": "2023-06-05T13:13:13.742Z"
   },
   {
    "duration": 225,
    "start_time": "2023-06-05T13:13:13.794Z"
   },
   {
    "duration": 362,
    "start_time": "2023-06-05T13:13:14.021Z"
   },
   {
    "duration": 170,
    "start_time": "2023-06-05T13:13:14.385Z"
   },
   {
    "duration": 188,
    "start_time": "2023-06-05T13:13:14.557Z"
   },
   {
    "duration": 201,
    "start_time": "2023-06-05T13:13:14.747Z"
   },
   {
    "duration": 178,
    "start_time": "2023-06-05T13:13:14.950Z"
   },
   {
    "duration": 218,
    "start_time": "2023-06-05T13:13:15.130Z"
   },
   {
    "duration": 255,
    "start_time": "2023-06-05T13:13:15.350Z"
   },
   {
    "duration": 6,
    "start_time": "2023-06-05T13:13:15.606Z"
   },
   {
    "duration": 188,
    "start_time": "2023-06-05T13:13:15.614Z"
   },
   {
    "duration": 145,
    "start_time": "2023-06-05T13:13:15.803Z"
   },
   {
    "duration": 149,
    "start_time": "2023-06-05T13:13:15.950Z"
   },
   {
    "duration": 150,
    "start_time": "2023-06-05T13:13:16.100Z"
   },
   {
    "duration": 143,
    "start_time": "2023-06-05T13:13:16.252Z"
   },
   {
    "duration": 240,
    "start_time": "2023-06-05T13:13:16.397Z"
   },
   {
    "duration": 21,
    "start_time": "2023-06-05T13:13:16.638Z"
   },
   {
    "duration": 22,
    "start_time": "2023-06-05T13:13:16.660Z"
   },
   {
    "duration": 169,
    "start_time": "2023-06-05T13:13:16.684Z"
   },
   {
    "duration": 150,
    "start_time": "2023-06-05T13:13:16.855Z"
   },
   {
    "duration": 13,
    "start_time": "2023-06-05T13:13:17.006Z"
   },
   {
    "duration": 162,
    "start_time": "2023-06-05T13:13:17.020Z"
   },
   {
    "duration": 241,
    "start_time": "2023-06-05T13:13:17.183Z"
   },
   {
    "duration": 12,
    "start_time": "2023-06-05T13:13:17.426Z"
   },
   {
    "duration": 166,
    "start_time": "2023-06-05T13:13:17.440Z"
   },
   {
    "duration": 186,
    "start_time": "2023-06-05T13:13:17.608Z"
   },
   {
    "duration": 205,
    "start_time": "2023-06-05T13:13:17.796Z"
   },
   {
    "duration": 206,
    "start_time": "2023-06-05T13:13:18.003Z"
   },
   {
    "duration": 199,
    "start_time": "2023-06-05T13:13:18.211Z"
   },
   {
    "duration": 190,
    "start_time": "2023-06-05T13:13:18.412Z"
   },
   {
    "duration": 209,
    "start_time": "2023-06-05T13:13:18.604Z"
   },
   {
    "duration": 153,
    "start_time": "2023-06-05T13:13:18.815Z"
   },
   {
    "duration": 199,
    "start_time": "2023-06-05T13:13:18.970Z"
   },
   {
    "duration": 207,
    "start_time": "2023-06-05T13:13:19.175Z"
   },
   {
    "duration": 242,
    "start_time": "2023-06-05T13:13:19.384Z"
   },
   {
    "duration": 179,
    "start_time": "2023-06-05T13:13:19.628Z"
   },
   {
    "duration": 189,
    "start_time": "2023-06-05T13:13:19.809Z"
   },
   {
    "duration": 158,
    "start_time": "2023-06-05T13:13:20.000Z"
   },
   {
    "duration": 17,
    "start_time": "2023-06-05T13:13:20.160Z"
   },
   {
    "duration": 10,
    "start_time": "2023-06-05T13:13:20.179Z"
   },
   {
    "duration": 1161,
    "start_time": "2023-06-05T13:21:14.818Z"
   },
   {
    "duration": 144,
    "start_time": "2023-06-05T13:21:15.981Z"
   },
   {
    "duration": 30,
    "start_time": "2023-06-05T13:21:16.127Z"
   },
   {
    "duration": 27,
    "start_time": "2023-06-05T13:21:16.160Z"
   },
   {
    "duration": 14,
    "start_time": "2023-06-05T13:21:16.188Z"
   },
   {
    "duration": 10,
    "start_time": "2023-06-05T13:21:16.204Z"
   },
   {
    "duration": 6,
    "start_time": "2023-06-05T13:21:16.216Z"
   },
   {
    "duration": 8,
    "start_time": "2023-06-05T13:21:16.223Z"
   },
   {
    "duration": 3,
    "start_time": "2023-06-05T13:21:16.233Z"
   },
   {
    "duration": 43,
    "start_time": "2023-06-05T13:21:16.239Z"
   },
   {
    "duration": 5,
    "start_time": "2023-06-05T13:21:16.284Z"
   },
   {
    "duration": 13,
    "start_time": "2023-06-05T13:21:16.290Z"
   },
   {
    "duration": 20,
    "start_time": "2023-06-05T13:21:16.305Z"
   },
   {
    "duration": 16,
    "start_time": "2023-06-05T13:21:16.326Z"
   },
   {
    "duration": 37,
    "start_time": "2023-06-05T13:21:16.343Z"
   },
   {
    "duration": 5,
    "start_time": "2023-06-05T13:21:16.382Z"
   },
   {
    "duration": 15,
    "start_time": "2023-06-05T13:21:16.389Z"
   },
   {
    "duration": 5,
    "start_time": "2023-06-05T13:21:16.405Z"
   },
   {
    "duration": 30,
    "start_time": "2023-06-05T13:21:16.411Z"
   },
   {
    "duration": 8,
    "start_time": "2023-06-05T13:21:16.443Z"
   },
   {
    "duration": 11,
    "start_time": "2023-06-05T13:21:16.452Z"
   },
   {
    "duration": 32,
    "start_time": "2023-06-05T13:21:16.464Z"
   },
   {
    "duration": 13,
    "start_time": "2023-06-05T13:21:16.497Z"
   },
   {
    "duration": 14,
    "start_time": "2023-06-05T13:21:16.511Z"
   },
   {
    "duration": 30,
    "start_time": "2023-06-05T13:21:16.527Z"
   },
   {
    "duration": 24,
    "start_time": "2023-06-05T13:21:16.559Z"
   },
   {
    "duration": 19,
    "start_time": "2023-06-05T13:21:16.585Z"
   },
   {
    "duration": 210,
    "start_time": "2023-06-05T13:21:16.608Z"
   },
   {
    "duration": 279,
    "start_time": "2023-06-05T13:21:16.819Z"
   },
   {
    "duration": 175,
    "start_time": "2023-06-05T13:21:17.100Z"
   },
   {
    "duration": 177,
    "start_time": "2023-06-05T13:21:17.277Z"
   },
   {
    "duration": 210,
    "start_time": "2023-06-05T13:21:17.456Z"
   },
   {
    "duration": 169,
    "start_time": "2023-06-05T13:21:17.668Z"
   },
   {
    "duration": 195,
    "start_time": "2023-06-05T13:21:17.838Z"
   },
   {
    "duration": 245,
    "start_time": "2023-06-05T13:21:18.035Z"
   },
   {
    "duration": 5,
    "start_time": "2023-06-05T13:21:18.281Z"
   },
   {
    "duration": 172,
    "start_time": "2023-06-05T13:21:18.288Z"
   },
   {
    "duration": 146,
    "start_time": "2023-06-05T13:21:18.461Z"
   },
   {
    "duration": 141,
    "start_time": "2023-06-05T13:21:18.609Z"
   },
   {
    "duration": 126,
    "start_time": "2023-06-05T13:21:18.752Z"
   },
   {
    "duration": 128,
    "start_time": "2023-06-05T13:21:18.879Z"
   },
   {
    "duration": 246,
    "start_time": "2023-06-05T13:21:19.009Z"
   },
   {
    "duration": 27,
    "start_time": "2023-06-05T13:21:19.257Z"
   },
   {
    "duration": 12,
    "start_time": "2023-06-05T13:21:19.286Z"
   },
   {
    "duration": 164,
    "start_time": "2023-06-05T13:21:19.300Z"
   },
   {
    "duration": 157,
    "start_time": "2023-06-05T13:21:19.466Z"
   },
   {
    "duration": 11,
    "start_time": "2023-06-05T13:21:19.625Z"
   },
   {
    "duration": 156,
    "start_time": "2023-06-05T13:21:19.638Z"
   },
   {
    "duration": 227,
    "start_time": "2023-06-05T13:21:19.796Z"
   },
   {
    "duration": 12,
    "start_time": "2023-06-05T13:21:20.024Z"
   },
   {
    "duration": 173,
    "start_time": "2023-06-05T13:21:20.038Z"
   },
   {
    "duration": 150,
    "start_time": "2023-06-05T13:21:20.213Z"
   },
   {
    "duration": 187,
    "start_time": "2023-06-05T13:21:20.365Z"
   },
   {
    "duration": 188,
    "start_time": "2023-06-05T13:21:20.554Z"
   },
   {
    "duration": 184,
    "start_time": "2023-06-05T13:21:20.744Z"
   },
   {
    "duration": 171,
    "start_time": "2023-06-05T13:21:20.930Z"
   },
   {
    "duration": 184,
    "start_time": "2023-06-05T13:21:21.102Z"
   },
   {
    "duration": 144,
    "start_time": "2023-06-05T13:21:21.287Z"
   },
   {
    "duration": 175,
    "start_time": "2023-06-05T13:21:21.433Z"
   },
   {
    "duration": 189,
    "start_time": "2023-06-05T13:21:21.609Z"
   },
   {
    "duration": 216,
    "start_time": "2023-06-05T13:21:21.800Z"
   },
   {
    "duration": 168,
    "start_time": "2023-06-05T13:21:22.019Z"
   },
   {
    "duration": 178,
    "start_time": "2023-06-05T13:21:22.189Z"
   },
   {
    "duration": 145,
    "start_time": "2023-06-05T13:21:22.368Z"
   },
   {
    "duration": 11,
    "start_time": "2023-06-05T13:21:22.515Z"
   },
   {
    "duration": 47,
    "start_time": "2023-06-05T13:21:22.527Z"
   },
   {
    "duration": 1496,
    "start_time": "2023-06-23T17:26:43.894Z"
   },
   {
    "duration": 323,
    "start_time": "2023-06-23T17:26:45.393Z"
   },
   {
    "duration": 51,
    "start_time": "2023-06-23T17:26:45.719Z"
   },
   {
    "duration": 35,
    "start_time": "2023-06-23T17:26:45.772Z"
   },
   {
    "duration": 23,
    "start_time": "2023-06-23T17:26:47.106Z"
   },
   {
    "duration": 8,
    "start_time": "2023-06-23T17:26:52.088Z"
   },
   {
    "duration": 7,
    "start_time": "2023-06-23T17:26:52.242Z"
   },
   {
    "duration": 8,
    "start_time": "2023-06-23T17:26:52.418Z"
   },
   {
    "duration": 10,
    "start_time": "2023-06-23T17:26:52.575Z"
   },
   {
    "duration": 11,
    "start_time": "2023-06-23T17:26:52.906Z"
   },
   {
    "duration": 6,
    "start_time": "2023-06-23T17:26:53.107Z"
   },
   {
    "duration": 24,
    "start_time": "2023-06-23T17:27:05.376Z"
   },
   {
    "duration": 17,
    "start_time": "2023-06-23T17:28:23.515Z"
   },
   {
    "duration": 24,
    "start_time": "2023-06-23T17:32:49.190Z"
   },
   {
    "duration": 2,
    "start_time": "2023-06-23T17:33:10.235Z"
   }
  ],
  "kernelspec": {
   "display_name": "Python 3 (ipykernel)",
   "language": "python",
   "name": "python3"
  },
  "language_info": {
   "codemirror_mode": {
    "name": "ipython",
    "version": 3
   },
   "file_extension": ".py",
   "mimetype": "text/x-python",
   "name": "python",
   "nbconvert_exporter": "python",
   "pygments_lexer": "ipython3",
   "version": "3.10.9"
  },
  "toc": {
   "base_numbering": 1,
   "nav_menu": {},
   "number_sections": false,
   "sideBar": true,
   "skip_h1_title": true,
   "title_cell": "Table of Contents",
   "title_sidebar": "Contents",
   "toc_cell": false,
   "toc_position": {},
   "toc_section_display": true,
   "toc_window_display": false
  }
 },
 "nbformat": 4,
 "nbformat_minor": 5
}
