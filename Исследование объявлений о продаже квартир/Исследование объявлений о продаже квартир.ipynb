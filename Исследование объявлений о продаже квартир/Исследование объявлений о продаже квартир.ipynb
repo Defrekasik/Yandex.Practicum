{
 "cells": [
  {
   "cell_type": "markdown",
   "metadata": {},
   "source": [
    "# Исследование объявлений о продаже квартир\n",
    "\n",
    "В нашем распоряжении данные сервиса Яндекс.Недвижимость — архив объявлений о продаже квартир в Санкт-Петербурге и соседних населённых пунктов за несколько лет. Нужно научиться определять рыночную стоимость объектов недвижимости. Наша задача — установить параметры. Это позволит построить автоматизированную систему: она отследит аномалии и мошенническую деятельность. \n",
    "\n",
    "По каждой квартире на продажу доступны два вида данных. Первые вписаны пользователем, вторые — получены автоматически на основе картографических данных. Например, расстояние до центра, аэропорта, ближайшего парка и водоёма. "
   ]
  },
  {
   "cell_type": "markdown",
   "metadata": {},
   "source": [
    "### Откроем файл с данными и изучим общую информацию. "
   ]
  },
  {
   "cell_type": "code",
   "execution_count": 1,
   "metadata": {
    "scrolled": false
   },
   "outputs": [],
   "source": [
    "# Импортируем необходимые библиотеки \n",
    "\n",
    "import pandas as pd\n",
    "import matplotlib.pyplot as plt\n",
    "import seaborn as sns"
   ]
  },
  {
   "cell_type": "code",
   "execution_count": 2,
   "metadata": {},
   "outputs": [
    {
     "name": "stdout",
     "output_type": "stream",
     "text": [
      "<class 'pandas.core.frame.DataFrame'>\n",
      "RangeIndex: 23699 entries, 0 to 23698\n",
      "Data columns (total 22 columns):\n",
      " #   Column                Non-Null Count  Dtype  \n",
      "---  ------                --------------  -----  \n",
      " 0   total_images          23699 non-null  int64  \n",
      " 1   last_price            23699 non-null  float64\n",
      " 2   total_area            23699 non-null  float64\n",
      " 3   first_day_exposition  23699 non-null  object \n",
      " 4   rooms                 23699 non-null  int64  \n",
      " 5   ceiling_height        14504 non-null  float64\n",
      " 6   floors_total          23613 non-null  float64\n",
      " 7   living_area           21796 non-null  float64\n",
      " 8   floor                 23699 non-null  int64  \n",
      " 9   is_apartment          2775 non-null   object \n",
      " 10  studio                23699 non-null  bool   \n",
      " 11  open_plan             23699 non-null  bool   \n",
      " 12  kitchen_area          21421 non-null  float64\n",
      " 13  balcony               12180 non-null  float64\n",
      " 14  locality_name         23650 non-null  object \n",
      " 15  airports_nearest      18157 non-null  float64\n",
      " 16  cityCenters_nearest   18180 non-null  float64\n",
      " 17  parks_around3000      18181 non-null  float64\n",
      " 18  parks_nearest         8079 non-null   float64\n",
      " 19  ponds_around3000      18181 non-null  float64\n",
      " 20  ponds_nearest         9110 non-null   float64\n",
      " 21  days_exposition       20518 non-null  float64\n",
      "dtypes: bool(2), float64(14), int64(3), object(3)\n",
      "memory usage: 3.7+ MB\n"
     ]
    },
    {
     "data": {
      "text/plain": [
       "None"
      ]
     },
     "metadata": {},
     "output_type": "display_data"
    },
    {
     "data": {
      "text/html": [
       "<div>\n",
       "<style scoped>\n",
       "    .dataframe tbody tr th:only-of-type {\n",
       "        vertical-align: middle;\n",
       "    }\n",
       "\n",
       "    .dataframe tbody tr th {\n",
       "        vertical-align: top;\n",
       "    }\n",
       "\n",
       "    .dataframe thead th {\n",
       "        text-align: right;\n",
       "    }\n",
       "</style>\n",
       "<table border=\"1\" class=\"dataframe\">\n",
       "  <thead>\n",
       "    <tr style=\"text-align: right;\">\n",
       "      <th></th>\n",
       "      <th>total_images</th>\n",
       "      <th>last_price</th>\n",
       "      <th>total_area</th>\n",
       "      <th>first_day_exposition</th>\n",
       "      <th>rooms</th>\n",
       "      <th>ceiling_height</th>\n",
       "      <th>floors_total</th>\n",
       "      <th>living_area</th>\n",
       "      <th>floor</th>\n",
       "      <th>is_apartment</th>\n",
       "      <th>studio</th>\n",
       "      <th>open_plan</th>\n",
       "      <th>kitchen_area</th>\n",
       "      <th>balcony</th>\n",
       "      <th>locality_name</th>\n",
       "      <th>airports_nearest</th>\n",
       "      <th>cityCenters_nearest</th>\n",
       "      <th>parks_around3000</th>\n",
       "      <th>parks_nearest</th>\n",
       "      <th>ponds_around3000</th>\n",
       "      <th>ponds_nearest</th>\n",
       "      <th>days_exposition</th>\n",
       "    </tr>\n",
       "  </thead>\n",
       "  <tbody>\n",
       "    <tr>\n",
       "      <th>0</th>\n",
       "      <td>20</td>\n",
       "      <td>13000000.0</td>\n",
       "      <td>108.0</td>\n",
       "      <td>2019-03-07T00:00:00</td>\n",
       "      <td>3</td>\n",
       "      <td>2.70</td>\n",
       "      <td>16.0</td>\n",
       "      <td>51.0</td>\n",
       "      <td>8</td>\n",
       "      <td>NaN</td>\n",
       "      <td>False</td>\n",
       "      <td>False</td>\n",
       "      <td>25.0</td>\n",
       "      <td>NaN</td>\n",
       "      <td>Санкт-Петербург</td>\n",
       "      <td>18863.0</td>\n",
       "      <td>16028.0</td>\n",
       "      <td>1.0</td>\n",
       "      <td>482.0</td>\n",
       "      <td>2.0</td>\n",
       "      <td>755.0</td>\n",
       "      <td>NaN</td>\n",
       "    </tr>\n",
       "    <tr>\n",
       "      <th>1</th>\n",
       "      <td>7</td>\n",
       "      <td>3350000.0</td>\n",
       "      <td>40.4</td>\n",
       "      <td>2018-12-04T00:00:00</td>\n",
       "      <td>1</td>\n",
       "      <td>NaN</td>\n",
       "      <td>11.0</td>\n",
       "      <td>18.6</td>\n",
       "      <td>1</td>\n",
       "      <td>NaN</td>\n",
       "      <td>False</td>\n",
       "      <td>False</td>\n",
       "      <td>11.0</td>\n",
       "      <td>2.0</td>\n",
       "      <td>посёлок Шушары</td>\n",
       "      <td>12817.0</td>\n",
       "      <td>18603.0</td>\n",
       "      <td>0.0</td>\n",
       "      <td>NaN</td>\n",
       "      <td>0.0</td>\n",
       "      <td>NaN</td>\n",
       "      <td>81.0</td>\n",
       "    </tr>\n",
       "    <tr>\n",
       "      <th>2</th>\n",
       "      <td>10</td>\n",
       "      <td>5196000.0</td>\n",
       "      <td>56.0</td>\n",
       "      <td>2015-08-20T00:00:00</td>\n",
       "      <td>2</td>\n",
       "      <td>NaN</td>\n",
       "      <td>5.0</td>\n",
       "      <td>34.3</td>\n",
       "      <td>4</td>\n",
       "      <td>NaN</td>\n",
       "      <td>False</td>\n",
       "      <td>False</td>\n",
       "      <td>8.3</td>\n",
       "      <td>0.0</td>\n",
       "      <td>Санкт-Петербург</td>\n",
       "      <td>21741.0</td>\n",
       "      <td>13933.0</td>\n",
       "      <td>1.0</td>\n",
       "      <td>90.0</td>\n",
       "      <td>2.0</td>\n",
       "      <td>574.0</td>\n",
       "      <td>558.0</td>\n",
       "    </tr>\n",
       "    <tr>\n",
       "      <th>3</th>\n",
       "      <td>0</td>\n",
       "      <td>64900000.0</td>\n",
       "      <td>159.0</td>\n",
       "      <td>2015-07-24T00:00:00</td>\n",
       "      <td>3</td>\n",
       "      <td>NaN</td>\n",
       "      <td>14.0</td>\n",
       "      <td>NaN</td>\n",
       "      <td>9</td>\n",
       "      <td>NaN</td>\n",
       "      <td>False</td>\n",
       "      <td>False</td>\n",
       "      <td>NaN</td>\n",
       "      <td>0.0</td>\n",
       "      <td>Санкт-Петербург</td>\n",
       "      <td>28098.0</td>\n",
       "      <td>6800.0</td>\n",
       "      <td>2.0</td>\n",
       "      <td>84.0</td>\n",
       "      <td>3.0</td>\n",
       "      <td>234.0</td>\n",
       "      <td>424.0</td>\n",
       "    </tr>\n",
       "    <tr>\n",
       "      <th>4</th>\n",
       "      <td>2</td>\n",
       "      <td>10000000.0</td>\n",
       "      <td>100.0</td>\n",
       "      <td>2018-06-19T00:00:00</td>\n",
       "      <td>2</td>\n",
       "      <td>3.03</td>\n",
       "      <td>14.0</td>\n",
       "      <td>32.0</td>\n",
       "      <td>13</td>\n",
       "      <td>NaN</td>\n",
       "      <td>False</td>\n",
       "      <td>False</td>\n",
       "      <td>41.0</td>\n",
       "      <td>NaN</td>\n",
       "      <td>Санкт-Петербург</td>\n",
       "      <td>31856.0</td>\n",
       "      <td>8098.0</td>\n",
       "      <td>2.0</td>\n",
       "      <td>112.0</td>\n",
       "      <td>1.0</td>\n",
       "      <td>48.0</td>\n",
       "      <td>121.0</td>\n",
       "    </tr>\n",
       "  </tbody>\n",
       "</table>\n",
       "</div>"
      ],
      "text/plain": [
       "   total_images  last_price  total_area first_day_exposition  rooms  \\\n",
       "0            20  13000000.0       108.0  2019-03-07T00:00:00      3   \n",
       "1             7   3350000.0        40.4  2018-12-04T00:00:00      1   \n",
       "2            10   5196000.0        56.0  2015-08-20T00:00:00      2   \n",
       "3             0  64900000.0       159.0  2015-07-24T00:00:00      3   \n",
       "4             2  10000000.0       100.0  2018-06-19T00:00:00      2   \n",
       "\n",
       "   ceiling_height  floors_total  living_area  floor is_apartment  studio  \\\n",
       "0            2.70          16.0         51.0      8          NaN   False   \n",
       "1             NaN          11.0         18.6      1          NaN   False   \n",
       "2             NaN           5.0         34.3      4          NaN   False   \n",
       "3             NaN          14.0          NaN      9          NaN   False   \n",
       "4            3.03          14.0         32.0     13          NaN   False   \n",
       "\n",
       "   open_plan  kitchen_area  balcony    locality_name  airports_nearest  \\\n",
       "0      False          25.0      NaN  Санкт-Петербург           18863.0   \n",
       "1      False          11.0      2.0   посёлок Шушары           12817.0   \n",
       "2      False           8.3      0.0  Санкт-Петербург           21741.0   \n",
       "3      False           NaN      0.0  Санкт-Петербург           28098.0   \n",
       "4      False          41.0      NaN  Санкт-Петербург           31856.0   \n",
       "\n",
       "   cityCenters_nearest  parks_around3000  parks_nearest  ponds_around3000  \\\n",
       "0              16028.0               1.0          482.0               2.0   \n",
       "1              18603.0               0.0            NaN               0.0   \n",
       "2              13933.0               1.0           90.0               2.0   \n",
       "3               6800.0               2.0           84.0               3.0   \n",
       "4               8098.0               2.0          112.0               1.0   \n",
       "\n",
       "   ponds_nearest  days_exposition  \n",
       "0          755.0              NaN  \n",
       "1            NaN             81.0  \n",
       "2          574.0            558.0  \n",
       "3          234.0            424.0  \n",
       "4           48.0            121.0  "
      ]
     },
     "metadata": {},
     "output_type": "display_data"
    },
    {
     "data": {
      "image/png": "[encoded data removed]",
      "text/plain": [
       "<Figure size 1080x1440 with 20 Axes>"
      ]
     },
     "metadata": {
      "needs_background": "light"
     },
     "output_type": "display_data"
    }
   ],
   "source": [
    "# Загружаем данные из файла в датафрейм.\n",
    "data = pd.read_csv('/datasets/real_estate_data.csv', sep='\\t')\n",
    "pd.options.display.max_columns = 30\n",
    "\n",
    "# Изучаем общую информацию о полученном датафрейме.\n",
    "display(data.info())\n",
    "display(data.head(5))\n",
    "\n",
    "# Строим общую гистограмму для всех числовых столбцов таблицы.\n",
    "data.hist(figsize=(15,20));"
   ]
  },
  {
   "cell_type": "markdown",
   "metadata": {},
   "source": [
    "Изучив данные, можем сделать несколько выводов:\n",
    "1. В датасете 23699 строк и 22 столбца.\n",
    "2. Из 22-х столбцов заполнены без пропусков 8: 'total_images', 'last_price', 'total_area', 'first_day_exposition', 'rooms', 'floor', 'studio', 'open_plan'. \n",
    "3. В столбце 'is_apartment значительное количество пропусков. Их можно заменить на False, так как продавец скорее всего отметил бы, что недвижимость является апартаментной. Аналогично можно поступить с пропусками в столбце 'balcony', заменив пропуски на значение 0.\n",
    "4. Значения в столбце 'first_day_exposition' необходимо привести к формату datetime, в столбцах 'floors_total', 'balcony' - к формату int.\n"
   ]
  },
  {
   "cell_type": "markdown",
   "metadata": {},
   "source": [
    "### Предобработка данных"
   ]
  },
  {
   "cell_type": "markdown",
   "metadata": {},
   "source": [
    "Заполняем пропущенные значения:"
   ]
  },
  {
   "cell_type": "code",
   "execution_count": 3,
   "metadata": {
    "scrolled": true
   },
   "outputs": [
    {
     "data": {
      "text/html": [
       "<div>\n",
       "<style scoped>\n",
       "    .dataframe tbody tr th:only-of-type {\n",
       "        vertical-align: middle;\n",
       "    }\n",
       "\n",
       "    .dataframe tbody tr th {\n",
       "        vertical-align: top;\n",
       "    }\n",
       "\n",
       "    .dataframe thead th {\n",
       "        text-align: right;\n",
       "    }\n",
       "</style>\n",
       "<table border=\"1\" class=\"dataframe\">\n",
       "  <thead>\n",
       "    <tr style=\"text-align: right;\">\n",
       "      <th></th>\n",
       "      <th>0</th>\n",
       "      <th>1</th>\n",
       "    </tr>\n",
       "  </thead>\n",
       "  <tbody>\n",
       "    <tr>\n",
       "      <th>total_images</th>\n",
       "      <td>0</td>\n",
       "      <td>0.000000</td>\n",
       "    </tr>\n",
       "    <tr>\n",
       "      <th>last_price</th>\n",
       "      <td>0</td>\n",
       "      <td>0.000000</td>\n",
       "    </tr>\n",
       "    <tr>\n",
       "      <th>total_area</th>\n",
       "      <td>0</td>\n",
       "      <td>0.000000</td>\n",
       "    </tr>\n",
       "    <tr>\n",
       "      <th>first_day_exposition</th>\n",
       "      <td>0</td>\n",
       "      <td>0.000000</td>\n",
       "    </tr>\n",
       "    <tr>\n",
       "      <th>rooms</th>\n",
       "      <td>0</td>\n",
       "      <td>0.000000</td>\n",
       "    </tr>\n",
       "    <tr>\n",
       "      <th>ceiling_height</th>\n",
       "      <td>9195</td>\n",
       "      <td>38.799105</td>\n",
       "    </tr>\n",
       "    <tr>\n",
       "      <th>floors_total</th>\n",
       "      <td>86</td>\n",
       "      <td>0.362885</td>\n",
       "    </tr>\n",
       "    <tr>\n",
       "      <th>living_area</th>\n",
       "      <td>1903</td>\n",
       "      <td>8.029875</td>\n",
       "    </tr>\n",
       "    <tr>\n",
       "      <th>floor</th>\n",
       "      <td>0</td>\n",
       "      <td>0.000000</td>\n",
       "    </tr>\n",
       "    <tr>\n",
       "      <th>is_apartment</th>\n",
       "      <td>20924</td>\n",
       "      <td>88.290645</td>\n",
       "    </tr>\n",
       "    <tr>\n",
       "      <th>studio</th>\n",
       "      <td>0</td>\n",
       "      <td>0.000000</td>\n",
       "    </tr>\n",
       "    <tr>\n",
       "      <th>open_plan</th>\n",
       "      <td>0</td>\n",
       "      <td>0.000000</td>\n",
       "    </tr>\n",
       "    <tr>\n",
       "      <th>kitchen_area</th>\n",
       "      <td>2278</td>\n",
       "      <td>9.612220</td>\n",
       "    </tr>\n",
       "    <tr>\n",
       "      <th>balcony</th>\n",
       "      <td>11519</td>\n",
       "      <td>48.605426</td>\n",
       "    </tr>\n",
       "    <tr>\n",
       "      <th>locality_name</th>\n",
       "      <td>49</td>\n",
       "      <td>0.206760</td>\n",
       "    </tr>\n",
       "    <tr>\n",
       "      <th>airports_nearest</th>\n",
       "      <td>5542</td>\n",
       "      <td>23.384953</td>\n",
       "    </tr>\n",
       "    <tr>\n",
       "      <th>cityCenters_nearest</th>\n",
       "      <td>5519</td>\n",
       "      <td>23.287902</td>\n",
       "    </tr>\n",
       "    <tr>\n",
       "      <th>parks_around3000</th>\n",
       "      <td>5518</td>\n",
       "      <td>23.283683</td>\n",
       "    </tr>\n",
       "    <tr>\n",
       "      <th>parks_nearest</th>\n",
       "      <td>15620</td>\n",
       "      <td>65.909954</td>\n",
       "    </tr>\n",
       "    <tr>\n",
       "      <th>ponds_around3000</th>\n",
       "      <td>5518</td>\n",
       "      <td>23.283683</td>\n",
       "    </tr>\n",
       "    <tr>\n",
       "      <th>ponds_nearest</th>\n",
       "      <td>14589</td>\n",
       "      <td>61.559559</td>\n",
       "    </tr>\n",
       "    <tr>\n",
       "      <th>days_exposition</th>\n",
       "      <td>3181</td>\n",
       "      <td>13.422507</td>\n",
       "    </tr>\n",
       "  </tbody>\n",
       "</table>\n",
       "</div>"
      ],
      "text/plain": [
       "                          0          1\n",
       "total_images              0   0.000000\n",
       "last_price                0   0.000000\n",
       "total_area                0   0.000000\n",
       "first_day_exposition      0   0.000000\n",
       "rooms                     0   0.000000\n",
       "ceiling_height         9195  38.799105\n",
       "floors_total             86   0.362885\n",
       "living_area            1903   8.029875\n",
       "floor                     0   0.000000\n",
       "is_apartment          20924  88.290645\n",
       "studio                    0   0.000000\n",
       "open_plan                 0   0.000000\n",
       "kitchen_area           2278   9.612220\n",
       "balcony               11519  48.605426\n",
       "locality_name            49   0.206760\n",
       "airports_nearest       5542  23.384953\n",
       "cityCenters_nearest    5519  23.287902\n",
       "parks_around3000       5518  23.283683\n",
       "parks_nearest         15620  65.909954\n",
       "ponds_around3000       5518  23.283683\n",
       "ponds_nearest         14589  61.559559\n",
       "days_exposition        3181  13.422507"
      ]
     },
     "execution_count": 3,
     "metadata": {},
     "output_type": "execute_result"
    }
   ],
   "source": [
    "# проверяем количество и долю (в процентах) пропусков в каждом столбце датасета. \n",
    "pd.concat([data.isna().sum(), (data.isna().sum()/len(data.index)*100)], axis=1)"
   ]
  },
  {
   "cell_type": "code",
   "execution_count": 4,
   "metadata": {},
   "outputs": [],
   "source": [
    "# Заполняем пропуски в столбце 'ceiling_height' - высота потолков:\n",
    "# 38% пропусков это существенная доля, поэтому удаление строк с пропущенными значениями высоты потолка может исказить результаты \n",
    "# исследования. Заполним пропуски медианным значением.\n",
    "\n",
    "data['ceiling_height'] = data['ceiling_height'].fillna(data['ceiling_height'].median())\n",
    "\n",
    "# Теперь избавимся от опечаток и аномальных значений (потолки ниже 2-х метров и выше 6 метров)\n",
    "\n",
    "data = data.query('ceiling_height > 2 and ceiling_height <= 10')"
   ]
  },
  {
   "cell_type": "code",
   "execution_count": 5,
   "metadata": {
    "scrolled": false
   },
   "outputs": [],
   "source": [
    "# Заполняем пропуски в столбце 'floors_total' - количество этажей в здании:\n",
    "# В этом столбце пропусков всего 0.36%, поэтому удаление строк с пропусками не повлияет на исследование так же, как и заполнение их медианным значением.\n",
    "\n",
    "data['floors_total'] = data['floors_total'].fillna(data['floors_total'].median())"
   ]
  },
  {
   "cell_type": "code",
   "execution_count": 6,
   "metadata": {},
   "outputs": [],
   "source": [
    "# Заполняем пропуски в столбце \"living_area\". Здесь всего 8% строк с пропусками, \n",
    "# можем удалить их или заменить пропуски медианным значением\n",
    "\n",
    "data['living_area'] = data['living_area'].fillna(data['living_area'].median())"
   ]
  },
  {
   "cell_type": "code",
   "execution_count": 7,
   "metadata": {},
   "outputs": [],
   "source": [
    "# Заполняем пропуски в столбце \"is_apartment\". Заменяем их на False, так как \n",
    "# продавец скорее всего отметил бы, что недвижимость является апартаментной\n",
    "\n",
    "data['is_apartment'] = data['is_apartment'].fillna(False)"
   ]
  },
  {
   "cell_type": "code",
   "execution_count": 8,
   "metadata": {
    "scrolled": true
   },
   "outputs": [],
   "source": [
    "# Заполняем пропуски в столбце \"kitchen_area\" по аналогии с пропусками в столбце \"is_apartment\".\n",
    "data['kitchen_area'] = data['kitchen_area'].fillna(data['kitchen_area'].median())"
   ]
  },
  {
   "cell_type": "code",
   "execution_count": 9,
   "metadata": {},
   "outputs": [],
   "source": [
    "# Заменяем пропуски в столбце 'balcony' - количество балконов:\n",
    "# Предположим, что пропуски в этом столбце говорят о том, что балконов нет, поэтому продавец и не заполнял данную графу.\n",
    "data['balcony'] = data['balcony'].fillna(0)\n",
    "\n"
   ]
  },
  {
   "cell_type": "code",
   "execution_count": 10,
   "metadata": {},
   "outputs": [],
   "source": [
    "# Пропуски в столбце 'locality_name' мы заполнить не сможем, поэтому удаляем строки с пропущенными значениями.\n",
    "data = data.dropna(subset=['locality_name'])"
   ]
  },
  {
   "cell_type": "code",
   "execution_count": 11,
   "metadata": {
    "scrolled": true
   },
   "outputs": [
    {
     "data": {
      "text/html": [
       "<div>\n",
       "<style scoped>\n",
       "    .dataframe tbody tr th:only-of-type {\n",
       "        vertical-align: middle;\n",
       "    }\n",
       "\n",
       "    .dataframe tbody tr th {\n",
       "        vertical-align: top;\n",
       "    }\n",
       "\n",
       "    .dataframe thead th {\n",
       "        text-align: right;\n",
       "    }\n",
       "</style>\n",
       "<table border=\"1\" class=\"dataframe\">\n",
       "  <thead>\n",
       "    <tr style=\"text-align: right;\">\n",
       "      <th></th>\n",
       "      <th>0</th>\n",
       "      <th>1</th>\n",
       "    </tr>\n",
       "  </thead>\n",
       "  <tbody>\n",
       "    <tr>\n",
       "      <th>total_images</th>\n",
       "      <td>0</td>\n",
       "      <td>0.000000</td>\n",
       "    </tr>\n",
       "    <tr>\n",
       "      <th>last_price</th>\n",
       "      <td>0</td>\n",
       "      <td>0.000000</td>\n",
       "    </tr>\n",
       "    <tr>\n",
       "      <th>total_area</th>\n",
       "      <td>0</td>\n",
       "      <td>0.000000</td>\n",
       "    </tr>\n",
       "    <tr>\n",
       "      <th>first_day_exposition</th>\n",
       "      <td>0</td>\n",
       "      <td>0.000000</td>\n",
       "    </tr>\n",
       "    <tr>\n",
       "      <th>rooms</th>\n",
       "      <td>0</td>\n",
       "      <td>0.000000</td>\n",
       "    </tr>\n",
       "    <tr>\n",
       "      <th>ceiling_height</th>\n",
       "      <td>0</td>\n",
       "      <td>0.000000</td>\n",
       "    </tr>\n",
       "    <tr>\n",
       "      <th>floors_total</th>\n",
       "      <td>0</td>\n",
       "      <td>0.000000</td>\n",
       "    </tr>\n",
       "    <tr>\n",
       "      <th>living_area</th>\n",
       "      <td>0</td>\n",
       "      <td>0.000000</td>\n",
       "    </tr>\n",
       "    <tr>\n",
       "      <th>floor</th>\n",
       "      <td>0</td>\n",
       "      <td>0.000000</td>\n",
       "    </tr>\n",
       "    <tr>\n",
       "      <th>is_apartment</th>\n",
       "      <td>0</td>\n",
       "      <td>0.000000</td>\n",
       "    </tr>\n",
       "    <tr>\n",
       "      <th>studio</th>\n",
       "      <td>0</td>\n",
       "      <td>0.000000</td>\n",
       "    </tr>\n",
       "    <tr>\n",
       "      <th>open_plan</th>\n",
       "      <td>0</td>\n",
       "      <td>0.000000</td>\n",
       "    </tr>\n",
       "    <tr>\n",
       "      <th>kitchen_area</th>\n",
       "      <td>0</td>\n",
       "      <td>0.000000</td>\n",
       "    </tr>\n",
       "    <tr>\n",
       "      <th>balcony</th>\n",
       "      <td>0</td>\n",
       "      <td>0.000000</td>\n",
       "    </tr>\n",
       "    <tr>\n",
       "      <th>locality_name</th>\n",
       "      <td>0</td>\n",
       "      <td>0.000000</td>\n",
       "    </tr>\n",
       "    <tr>\n",
       "      <th>airports_nearest</th>\n",
       "      <td>5516</td>\n",
       "      <td>23.361992</td>\n",
       "    </tr>\n",
       "    <tr>\n",
       "      <th>cityCenters_nearest</th>\n",
       "      <td>5493</td>\n",
       "      <td>23.264580</td>\n",
       "    </tr>\n",
       "    <tr>\n",
       "      <th>parks_around3000</th>\n",
       "      <td>5492</td>\n",
       "      <td>23.260345</td>\n",
       "    </tr>\n",
       "    <tr>\n",
       "      <th>parks_nearest</th>\n",
       "      <td>15558</td>\n",
       "      <td>65.893016</td>\n",
       "    </tr>\n",
       "    <tr>\n",
       "      <th>ponds_around3000</th>\n",
       "      <td>5492</td>\n",
       "      <td>23.260345</td>\n",
       "    </tr>\n",
       "    <tr>\n",
       "      <th>ponds_nearest</th>\n",
       "      <td>14538</td>\n",
       "      <td>61.572996</td>\n",
       "    </tr>\n",
       "    <tr>\n",
       "      <th>days_exposition</th>\n",
       "      <td>3171</td>\n",
       "      <td>13.430181</td>\n",
       "    </tr>\n",
       "  </tbody>\n",
       "</table>\n",
       "</div>"
      ],
      "text/plain": [
       "                          0          1\n",
       "total_images              0   0.000000\n",
       "last_price                0   0.000000\n",
       "total_area                0   0.000000\n",
       "first_day_exposition      0   0.000000\n",
       "rooms                     0   0.000000\n",
       "ceiling_height            0   0.000000\n",
       "floors_total              0   0.000000\n",
       "living_area               0   0.000000\n",
       "floor                     0   0.000000\n",
       "is_apartment              0   0.000000\n",
       "studio                    0   0.000000\n",
       "open_plan                 0   0.000000\n",
       "kitchen_area              0   0.000000\n",
       "balcony                   0   0.000000\n",
       "locality_name             0   0.000000\n",
       "airports_nearest       5516  23.361992\n",
       "cityCenters_nearest    5493  23.264580\n",
       "parks_around3000       5492  23.260345\n",
       "parks_nearest         15558  65.893016\n",
       "ponds_around3000       5492  23.260345\n",
       "ponds_nearest         14538  61.572996\n",
       "days_exposition        3171  13.430181"
      ]
     },
     "execution_count": 11,
     "metadata": {},
     "output_type": "execute_result"
    }
   ],
   "source": [
    "# Еще раз проверяем количество пропусков\n",
    "pd.concat([data.isna().sum(), (data.isna().sum()/len(data.index)*100)], axis=1)"
   ]
  },
  {
   "cell_type": "markdown",
   "metadata": {},
   "source": [
    "После заполнения пропусков тип данных в столбцах 'balcony' и 'floors_total' следует заменить на целочисленный, т.к. количеством балконов и этажей может быть только целое число. В столбце 'first_day_exposition' меняем тип данных на datetime."
   ]
  },
  {
   "cell_type": "code",
   "execution_count": 12,
   "metadata": {
    "scrolled": true
   },
   "outputs": [
    {
     "name": "stdout",
     "output_type": "stream",
     "text": [
      "<class 'pandas.core.frame.DataFrame'>\n",
      "Int64Index: 23611 entries, 0 to 23698\n",
      "Data columns (total 22 columns):\n",
      " #   Column                Non-Null Count  Dtype         \n",
      "---  ------                --------------  -----         \n",
      " 0   total_images          23611 non-null  int64         \n",
      " 1   last_price            23611 non-null  float64       \n",
      " 2   total_area            23611 non-null  float64       \n",
      " 3   first_day_exposition  23611 non-null  datetime64[ns]\n",
      " 4   rooms                 23611 non-null  int64         \n",
      " 5   ceiling_height        23611 non-null  float64       \n",
      " 6   floors_total          23611 non-null  int64         \n",
      " 7   living_area           23611 non-null  float64       \n",
      " 8   floor                 23611 non-null  int64         \n",
      " 9   is_apartment          23611 non-null  bool          \n",
      " 10  studio                23611 non-null  bool          \n",
      " 11  open_plan             23611 non-null  bool          \n",
      " 12  kitchen_area          23611 non-null  float64       \n",
      " 13  balcony               23611 non-null  int64         \n",
      " 14  locality_name         23611 non-null  object        \n",
      " 15  airports_nearest      18095 non-null  float64       \n",
      " 16  cityCenters_nearest   18118 non-null  float64       \n",
      " 17  parks_around3000      18119 non-null  float64       \n",
      " 18  parks_nearest         8053 non-null   float64       \n",
      " 19  ponds_around3000      18119 non-null  float64       \n",
      " 20  ponds_nearest         9073 non-null   float64       \n",
      " 21  days_exposition       20440 non-null  float64       \n",
      "dtypes: bool(3), datetime64[ns](1), float64(12), int64(5), object(1)\n",
      "memory usage: 3.7+ MB\n"
     ]
    }
   ],
   "source": [
    "# меняем тип данных столбцов 'balcony' и 'floors_total' на int\n",
    "data['balcony'] = data['balcony'].astype(int)\n",
    "data['floors_total'] = data['floors_total'].astype(int)\n",
    "\n",
    "# меняем формат даты размещения объявления\n",
    "data['first_day_exposition'] = pd.to_datetime(data['first_day_exposition'], format='%Y-%m-%dT%H:%M')\n",
    "#data.head(5)\n",
    "data.info()"
   ]
  },
  {
   "cell_type": "markdown",
   "metadata": {},
   "source": [
    "Переходим к названиям населенных пунктов. Здесь довольно много неявных дубликатов. Например, \n",
    "«поселок Рябово» и «поселок городского типа Рябово», «поселок Тельмана» и «посёлок Тельмана» — это обозначения одних и тех же населённых пунктов."
   ]
  },
  {
   "cell_type": "code",
   "execution_count": 13,
   "metadata": {
    "scrolled": true
   },
   "outputs": [
    {
     "data": {
      "text/plain": [
       "0"
      ]
     },
     "execution_count": 13,
     "metadata": {},
     "output_type": "execute_result"
    }
   ],
   "source": [
    "# подсчёт явных дубликатов\n",
    "data.duplicated().sum()"
   ]
  },
  {
   "cell_type": "code",
   "execution_count": 14,
   "metadata": {},
   "outputs": [
    {
     "data": {
      "text/plain": [
       "array(['Бокситогорск', 'Волосово', 'Волхов', 'Всеволожск', 'Выборг',\n",
       "       'Высоцк', 'Гатчина', 'Зеленогорск', 'Ивангород', 'Каменногорск',\n",
       "       'Кингисепп', 'Кириши', 'Кировск', 'Колпино', 'Коммунар',\n",
       "       'Красное Село', 'Кронштадт', 'Кудрово', 'Лодейное Поле',\n",
       "       'Ломоносов', 'Луга', 'Любань', 'Мурино', 'Никольское',\n",
       "       'Новая Ладога', 'Отрадное', 'Павловск', 'Петергоф', 'Пикалёво',\n",
       "       'Подпорожье', 'Приморск', 'Приозерск', 'Пушкин', 'Санкт-Петербург',\n",
       "       'Светогорск', 'Сертолово', 'Сестрорецк', 'Сланцы', 'Сосновый Бор',\n",
       "       'Сясьстрой', 'Тихвин', 'Тосно', 'Шлиссельбург',\n",
       "       'городской поселок Большая Ижора', 'городской поселок Янино-1',\n",
       "       'городской посёлок Будогощь', 'городской посёлок Виллози',\n",
       "       'городской посёлок Лесогорский', 'городской посёлок Мга',\n",
       "       'городской посёлок Назия', 'городской посёлок Новоселье',\n",
       "       'городской посёлок Павлово', 'городской посёлок Рощино',\n",
       "       'городской посёлок Свирьстрой', 'городской посёлок Советский',\n",
       "       'городской посёлок Фёдоровское', 'городской посёлок Янино-1',\n",
       "       'деревня Агалатово', 'деревня Аро', 'деревня Батово',\n",
       "       'деревня Бегуницы', 'деревня Белогорка', 'деревня Большая Вруда',\n",
       "       'деревня Большая Пустомержа', 'деревня Большие Колпаны',\n",
       "       'деревня Большое Рейзино', 'деревня Большой Сабск', 'деревня Бор',\n",
       "       'деревня Борисова Грива', 'деревня Ваганово', 'деревня Вартемяги',\n",
       "       'деревня Вахнова Кара', 'деревня Выскатка', 'деревня Гарболово',\n",
       "       'деревня Глинка', 'деревня Горбунки', 'деревня Гостилицы',\n",
       "       'деревня Заклинье', 'деревня Заневка', 'деревня Зимитицы',\n",
       "       'деревня Извара', 'деревня Иссад', 'деревня Калитино',\n",
       "       'деревня Кальтино', 'деревня Камышовка', 'деревня Каськово',\n",
       "       'деревня Келози', 'деревня Кипень', 'деревня Кисельня',\n",
       "       'деревня Колтуши', 'деревня Коркино', 'деревня Котлы',\n",
       "       'деревня Кривко', 'деревня Кудрово', 'деревня Кузьмолово',\n",
       "       'деревня Курковицы', 'деревня Куровицы', 'деревня Куттузи',\n",
       "       'деревня Лаврики', 'деревня Лаголово', 'деревня Лампово',\n",
       "       'деревня Лесколово', 'деревня Лопухинка', 'деревня Лупполово',\n",
       "       'деревня Малая Романовка', 'деревня Малое Верево',\n",
       "       'деревня Малое Карлино', 'деревня Малые Колпаны',\n",
       "       'деревня Мануйлово', 'деревня Меньково', 'деревня Мины',\n",
       "       'деревня Мистолово', 'деревня Ненимяки', 'деревня Нижние Осельки',\n",
       "       'деревня Низино', 'деревня Новое Девяткино', 'деревня Новолисино',\n",
       "       'деревня Нурма', 'деревня Оржицы', 'деревня Парицы',\n",
       "       'деревня Пельгора', 'деревня Пеники', 'деревня Пижма',\n",
       "       'деревня Пикколово', 'деревня Пудомяги', 'деревня Пустынка',\n",
       "       'деревня Пчева', 'деревня Рабитицы', 'деревня Разбегаево',\n",
       "       'деревня Раздолье', 'деревня Разметелево', 'деревня Рапполово',\n",
       "       'деревня Реброво', 'деревня Русско', 'деревня Сижно',\n",
       "       'деревня Снегирёвка', 'деревня Старая', 'деревня Старая Пустошь',\n",
       "       'деревня Старое Хинколово', 'деревня Старополье',\n",
       "       'деревня Старосиверская', 'деревня Старые Бегуницы',\n",
       "       'деревня Суоранда', 'деревня Сяськелево', 'деревня Тарасово',\n",
       "       'деревня Терпилицы', 'деревня Тихковицы', 'деревня Тойворово',\n",
       "       'деревня Торосово', 'деревня Торошковичи', 'деревня Трубников Бор',\n",
       "       'деревня Фалилеево', 'деревня Фёдоровское', 'деревня Хапо-Ое',\n",
       "       'деревня Хязельки', 'деревня Чудской Бор', 'деревня Шпаньково',\n",
       "       'деревня Щеглово', 'деревня Юкки', 'деревня Ялгино',\n",
       "       'деревня Яльгелево', 'деревня Ям-Тесово',\n",
       "       'коттеджный поселок Кивеннапа Север', 'коттеджный поселок Счастье',\n",
       "       'коттеджный посёлок Лесное', 'поселок Аннино', 'поселок Барышево',\n",
       "       'поселок Бугры', 'поселок Возрождение', 'поселок Войсковицы',\n",
       "       'поселок Володарское', 'поселок Гаврилово', 'поселок Гарболово',\n",
       "       'поселок Гладкое', 'поселок Глажево', 'поселок Глебычево',\n",
       "       'поселок Гончарово', 'поселок Громово', 'поселок Дружноселье',\n",
       "       'поселок Елизаветино', 'поселок Жилгородок', 'поселок Жилпосёлок',\n",
       "       'поселок Житково', 'поселок Заводской', 'поселок Запорожское',\n",
       "       'поселок Зимитицы', 'поселок Ильичёво', 'поселок Калитино',\n",
       "       'поселок Каложицы', 'поселок Кингисеппский', 'поселок Кирпичное',\n",
       "       'поселок Кобралово', 'поселок Кобринское', 'поселок Коммунары',\n",
       "       'поселок Коробицыно', 'поселок Котельский',\n",
       "       'поселок Красная Долина', 'поселок Красносельское',\n",
       "       'поселок Лесное', 'поселок Лисий Нос', 'поселок Лукаши',\n",
       "       'поселок Любань', 'поселок Мельниково', 'поселок Мичуринское',\n",
       "       'поселок Молодцово', 'поселок Мурино', 'поселок Новый Свет',\n",
       "       'поселок Новый Учхоз', 'поселок Оредеж',\n",
       "       'поселок Пансионат Зелёный Бор', 'поселок Первомайское',\n",
       "       'поселок Перово', 'поселок Петровское', 'поселок Победа',\n",
       "       'поселок Поляны', 'поселок Почап', 'поселок Починок',\n",
       "       'поселок Пушное', 'поселок Пчевжа', 'поселок Рабитицы',\n",
       "       'поселок Романовка', 'поселок Ромашки', 'поселок Рябово',\n",
       "       'поселок Севастьяново', 'поселок Селезнёво', 'поселок Сельцо',\n",
       "       'поселок Семиозерье', 'поселок Семрино', 'поселок Серебрянский',\n",
       "       'поселок Совхозный', 'поселок Старая Малукса',\n",
       "       'поселок Стеклянный', 'поселок Сумино', 'поселок Суходолье',\n",
       "       'поселок Тельмана', 'поселок Терволово', 'поселок Торковичи',\n",
       "       'поселок Тёсово-4', 'поселок Углово', 'поселок Усть-Луга',\n",
       "       'поселок Ушаки', 'поселок Цвелодубово', 'поселок Цвылёво',\n",
       "       'поселок городского типа Большая Ижора',\n",
       "       'поселок городского типа Вырица',\n",
       "       'поселок городского типа Дружная Горка',\n",
       "       'поселок городского типа Дубровка',\n",
       "       'поселок городского типа Ефимовский',\n",
       "       'поселок городского типа Кондратьево',\n",
       "       'поселок городского типа Красный Бор',\n",
       "       'поселок городского типа Кузьмоловский',\n",
       "       'поселок городского типа Лебяжье',\n",
       "       'поселок городского типа Лесогорский',\n",
       "       'поселок городского типа Назия',\n",
       "       'поселок городского типа Никольский',\n",
       "       'поселок городского типа Приладожский',\n",
       "       'поселок городского типа Рахья', 'поселок городского типа Рощино',\n",
       "       'поселок городского типа Рябово',\n",
       "       'поселок городского типа Синявино',\n",
       "       'поселок городского типа Советский',\n",
       "       'поселок городского типа Токсово',\n",
       "       'поселок городского типа Форносово',\n",
       "       'поселок городского типа имени Свердлова',\n",
       "       'поселок станции Вещево', 'поселок станции Корнево',\n",
       "       'поселок станции Лужайка', 'поселок станции Приветнинское',\n",
       "       'посёлок Александровская', 'посёлок Алексеевка', 'посёлок Аннино',\n",
       "       'посёлок Белоостров', 'посёлок Бугры', 'посёлок Возрождение',\n",
       "       'посёлок Войскорово', 'посёлок Высокоключевой',\n",
       "       'посёлок Гаврилово', 'посёлок Дзержинского', 'посёлок Жилгородок',\n",
       "       'посёлок Ильичёво', 'посёлок Кикерино', 'посёлок Кобралово',\n",
       "       'посёлок Коробицыно', 'посёлок Левашово', 'посёлок Ленинское',\n",
       "       'посёлок Лисий Нос', 'посёлок Мельниково', 'посёлок Металлострой',\n",
       "       'посёлок Мичуринское', 'посёлок Молодёжное', 'посёлок Мурино',\n",
       "       'посёлок Мыза-Ивановка', 'посёлок Новогорелово',\n",
       "       'посёлок Новый Свет', 'посёлок Пансионат Зелёный Бор',\n",
       "       'посёлок Парголово', 'посёлок Перово', 'посёлок Песочный',\n",
       "       'посёлок Петро-Славянка', 'посёлок Петровское',\n",
       "       'посёлок Платформа 69-й километр', 'посёлок Плодовое',\n",
       "       'посёлок Плоское', 'посёлок Победа', 'посёлок Поляны',\n",
       "       'посёлок Понтонный', 'посёлок Пригородный', 'посёлок Пудость',\n",
       "       'посёлок Репино', 'посёлок Ропша', 'посёлок Сапёрное',\n",
       "       'посёлок Сапёрный', 'посёлок Сосново', 'посёлок Старая Малукса',\n",
       "       'посёлок Стеклянный', 'посёлок Стрельна', 'посёлок Суйда',\n",
       "       'посёлок Сумино', 'посёлок Тельмана', 'посёлок Терволово',\n",
       "       'посёлок Торфяное', 'посёлок Усть-Ижора', 'посёлок Усть-Луга',\n",
       "       'посёлок Форт Красная Горка', 'посёлок Шугозеро', 'посёлок Шушары',\n",
       "       'посёлок Щеглово', 'посёлок городского типа Важины',\n",
       "       'посёлок городского типа Вознесенье',\n",
       "       'посёлок городского типа Вырица',\n",
       "       'посёлок городского типа Красный Бор',\n",
       "       'посёлок городского типа Кузнечное',\n",
       "       'посёлок городского типа Кузьмоловский',\n",
       "       'посёлок городского типа Лебяжье', 'посёлок городского типа Мга',\n",
       "       'посёлок городского типа Павлово',\n",
       "       'посёлок городского типа Рощино', 'посёлок городского типа Рябово',\n",
       "       'посёлок городского типа Сиверский',\n",
       "       'посёлок городского типа Тайцы', 'посёлок городского типа Токсово',\n",
       "       'посёлок городского типа Ульяновка',\n",
       "       'посёлок городского типа Форносово',\n",
       "       'посёлок городского типа имени Морозова',\n",
       "       'посёлок городского типа имени Свердлова',\n",
       "       'посёлок при железнодорожной станции Вещево',\n",
       "       'посёлок при железнодорожной станции Приветнинское',\n",
       "       'посёлок станции Громово', 'посёлок станции Свирь',\n",
       "       'садоводческое некоммерческое товарищество Лесная Поляна',\n",
       "       'садовое товарищество Новая Ропша',\n",
       "       'садовое товарищество Приладожский', 'садовое товарищество Рахья',\n",
       "       'садовое товарищество Садко', 'село Копорье', 'село Никольское',\n",
       "       'село Павлово', 'село Паша', 'село Путилово', 'село Рождествено',\n",
       "       'село Русско-Высоцкое', 'село Старая Ладога', 'село Шум'],\n",
       "      dtype=object)"
      ]
     },
     "execution_count": 14,
     "metadata": {},
     "output_type": "execute_result"
    }
   ],
   "source": [
    "# Посмотрим на все существующие названия населенных пунктов и избавимся от неявных дубликатов:\n",
    "locality_data = data.sort_values(by = 'locality_name')\n",
    "locality_data['locality_name'].unique()"
   ]
  },
  {
   "cell_type": "code",
   "execution_count": 15,
   "metadata": {},
   "outputs": [],
   "source": [
    "data['locality_name'] = data['locality_name'].str.replace('ё','е')\n",
    "data['locality_name'] = data['locality_name'].str.replace('поселок городского типа','поселок')\n",
    "data['locality_name'] = data['locality_name'].str.replace('поселок при железнодорожной станции','поселок')\n",
    "data['locality_name'] = data['locality_name'].str.replace('поселок станции','поселок')\n",
    "data['locality_name'] = data['locality_name'].str.replace('городской поселок','поселок')\n",
    "data['locality_name'] = data['locality_name'].str.replace('коттеджный поселок','поселок')\n",
    "data['locality_name'] = data['locality_name'].str.replace('садовое некоммерческое товарищество','садовое товарищество')\n",
    "data['locality_name'] = data['locality_name'].str.replace('садоводческое некоммерческое товарищество','садовое товарищество')"
   ]
  },
  {
   "cell_type": "code",
   "execution_count": 16,
   "metadata": {
    "scrolled": false
   },
   "outputs": [
    {
     "data": {
      "text/plain": [
       "array(['Бокситогорск', 'Волосово', 'Волхов', 'Всеволожск', 'Выборг',\n",
       "       'Высоцк', 'Гатчина', 'Зеленогорск', 'Ивангород', 'Каменногорск',\n",
       "       'Кингисепп', 'Кириши', 'Кировск', 'Колпино', 'Коммунар',\n",
       "       'Красное Село', 'Кронштадт', 'Кудрово', 'Лодейное Поле',\n",
       "       'Ломоносов', 'Луга', 'Любань', 'Мурино', 'Никольское',\n",
       "       'Новая Ладога', 'Отрадное', 'Павловск', 'Петергоф', 'Пикалево',\n",
       "       'Подпорожье', 'Приморск', 'Приозерск', 'Пушкин', 'Санкт-Петербург',\n",
       "       'Светогорск', 'Сертолово', 'Сестрорецк', 'Сланцы', 'Сосновый Бор',\n",
       "       'Сясьстрой', 'Тихвин', 'Тосно', 'Шлиссельбург',\n",
       "       'деревня Агалатово', 'деревня Аро', 'деревня Батово',\n",
       "       'деревня Бегуницы', 'деревня Белогорка', 'деревня Большая Вруда',\n",
       "       'деревня Большая Пустомержа', 'деревня Большие Колпаны',\n",
       "       'деревня Большое Рейзино', 'деревня Большой Сабск', 'деревня Бор',\n",
       "       'деревня Борисова Грива', 'деревня Ваганово', 'деревня Вартемяги',\n",
       "       'деревня Вахнова Кара', 'деревня Выскатка', 'деревня Гарболово',\n",
       "       'деревня Глинка', 'деревня Горбунки', 'деревня Гостилицы',\n",
       "       'деревня Заклинье', 'деревня Заневка', 'деревня Зимитицы',\n",
       "       'деревня Извара', 'деревня Иссад', 'деревня Калитино',\n",
       "       'деревня Кальтино', 'деревня Камышовка', 'деревня Каськово',\n",
       "       'деревня Келози', 'деревня Кипень', 'деревня Кисельня',\n",
       "       'деревня Колтуши', 'деревня Коркино', 'деревня Котлы',\n",
       "       'деревня Кривко', 'деревня Кудрово', 'деревня Кузьмолово',\n",
       "       'деревня Курковицы', 'деревня Куровицы', 'деревня Куттузи',\n",
       "       'деревня Лаврики', 'деревня Лаголово', 'деревня Лампово',\n",
       "       'деревня Лесколово', 'деревня Лопухинка', 'деревня Лупполово',\n",
       "       'деревня Малая Романовка', 'деревня Малое Верево',\n",
       "       'деревня Малое Карлино', 'деревня Малые Колпаны',\n",
       "       'деревня Мануйлово', 'деревня Меньково', 'деревня Мины',\n",
       "       'деревня Мистолово', 'деревня Ненимяки', 'деревня Нижние Осельки',\n",
       "       'деревня Низино', 'деревня Новое Девяткино', 'деревня Новолисино',\n",
       "       'деревня Нурма', 'деревня Оржицы', 'деревня Парицы',\n",
       "       'деревня Пельгора', 'деревня Пеники', 'деревня Пижма',\n",
       "       'деревня Пикколово', 'деревня Пудомяги', 'деревня Пустынка',\n",
       "       'деревня Пчева', 'деревня Рабитицы', 'деревня Разбегаево',\n",
       "       'деревня Раздолье', 'деревня Разметелево', 'деревня Рапполово',\n",
       "       'деревня Реброво', 'деревня Русско', 'деревня Сижно',\n",
       "       'деревня Снегиревка', 'деревня Старая', 'деревня Старая Пустошь',\n",
       "       'деревня Старое Хинколово', 'деревня Старополье',\n",
       "       'деревня Старосиверская', 'деревня Старые Бегуницы',\n",
       "       'деревня Суоранда', 'деревня Сяськелево', 'деревня Тарасово',\n",
       "       'деревня Терпилицы', 'деревня Тихковицы', 'деревня Тойворово',\n",
       "       'деревня Торосово', 'деревня Торошковичи', 'деревня Трубников Бор',\n",
       "       'деревня Фалилеево', 'деревня Федоровское', 'деревня Хапо-Ое',\n",
       "       'деревня Хязельки', 'деревня Чудской Бор', 'деревня Шпаньково',\n",
       "       'деревня Щеглово', 'деревня Юкки', 'деревня Ялгино',\n",
       "       'деревня Яльгелево', 'деревня Ям-Тесово',\n",
       "       'поселок Александровская', 'поселок Алексеевка', 'поселок Аннино',\n",
       "       'поселок Барышево', 'поселок Белоостров', 'поселок Большая Ижора',\n",
       "       'поселок Бугры', 'поселок Будогощь', 'поселок Важины',\n",
       "       'поселок Вещево', 'поселок Виллози', 'поселок Вознесенье',\n",
       "       'поселок Возрождение', 'поселок Войсковицы', 'поселок Войскорово',\n",
       "       'поселок Володарское', 'поселок Вырица', 'поселок Высокоключевой',\n",
       "       'поселок Гаврилово', 'поселок Гарболово', 'поселок Гладкое',\n",
       "       'поселок Глажево', 'поселок Глебычево', 'поселок Гончарово',\n",
       "       'поселок Громово', 'поселок Дзержинского', 'поселок Дружная Горка',\n",
       "       'поселок Дружноселье', 'поселок Дубровка', 'поселок Елизаветино',\n",
       "       'поселок Ефимовский', 'поселок Жилгородок', 'поселок Жилпоселок',\n",
       "       'поселок Житково', 'поселок Заводской', 'поселок Запорожское',\n",
       "       'поселок Зимитицы', 'поселок Ильичево', 'поселок Калитино',\n",
       "       'поселок Каложицы', 'поселок Кивеннапа Север', 'поселок Кикерино',\n",
       "       'поселок Кингисеппский', 'поселок Кирпичное', 'поселок Кобралово',\n",
       "       'поселок Кобринское', 'поселок Коммунары', 'поселок Кондратьево',\n",
       "       'поселок Корнево', 'поселок Коробицыно', 'поселок Котельский',\n",
       "       'поселок Красная Долина', 'поселок Красносельское',\n",
       "       'поселок Красный Бор', 'поселок Кузнечное',\n",
       "       'поселок Кузьмоловский', 'поселок Лебяжье', 'поселок Левашово',\n",
       "       'поселок Ленинское', 'поселок Лесное', 'поселок Лесогорский',\n",
       "       'поселок Лисий Нос', 'поселок Лужайка', 'поселок Лукаши',\n",
       "       'поселок Любань', 'поселок Мга', 'поселок Мельниково',\n",
       "       'поселок Металлострой', 'поселок Мичуринское',\n",
       "       'поселок Молодежное', 'поселок Молодцово', 'поселок Мурино',\n",
       "       'поселок Мыза-Ивановка', 'поселок Назия', 'поселок Никольский',\n",
       "       'поселок Новогорелово', 'поселок Новоселье', 'поселок Новый Свет',\n",
       "       'поселок Новый Учхоз', 'поселок Оредеж', 'поселок Павлово',\n",
       "       'поселок Пансионат Зеленый Бор', 'поселок Парголово',\n",
       "       'поселок Первомайское', 'поселок Перово', 'поселок Песочный',\n",
       "       'поселок Петро-Славянка', 'поселок Петровское',\n",
       "       'поселок Платформа 69-й километр', 'поселок Плодовое',\n",
       "       'поселок Плоское', 'поселок Победа', 'поселок Поляны',\n",
       "       'поселок Понтонный', 'поселок Почап', 'поселок Починок',\n",
       "       'поселок Приветнинское', 'поселок Пригородный',\n",
       "       'поселок Приладожский', 'поселок Пудость', 'поселок Пушное',\n",
       "       'поселок Пчевжа', 'поселок Рабитицы', 'поселок Рахья',\n",
       "       'поселок Репино', 'поселок Романовка', 'поселок Ромашки',\n",
       "       'поселок Ропша', 'поселок Рощино', 'поселок Рябово',\n",
       "       'поселок Саперное', 'поселок Саперный', 'поселок Свирь',\n",
       "       'поселок Свирьстрой', 'поселок Севастьяново', 'поселок Селезнево',\n",
       "       'поселок Сельцо', 'поселок Семиозерье', 'поселок Семрино',\n",
       "       'поселок Серебрянский', 'поселок Сиверский', 'поселок Синявино',\n",
       "       'поселок Советский', 'поселок Совхозный', 'поселок Сосново',\n",
       "       'поселок Старая Малукса', 'поселок Стеклянный', 'поселок Стрельна',\n",
       "       'поселок Суйда', 'поселок Сумино', 'поселок Суходолье',\n",
       "       'поселок Счастье', 'поселок Тайцы', 'поселок Тельмана',\n",
       "       'поселок Терволово', 'поселок Тесово-4', 'поселок Токсово',\n",
       "       'поселок Торковичи', 'поселок Торфяное', 'поселок Углово',\n",
       "       'поселок Ульяновка', 'поселок Усть-Ижора', 'поселок Усть-Луга',\n",
       "       'поселок Ушаки', 'поселок Федоровское', 'поселок Форносово',\n",
       "       'поселок Форт Красная Горка', 'поселок Цвелодубово',\n",
       "       'поселок Цвылево', 'поселок Шугозеро', 'поселок Шушары',\n",
       "       'поселок Щеглово', 'поселок Янино-1', 'поселок имени Морозова',\n",
       "       'поселок имени Свердлова', 'садовое товарищество Лесная Поляна',\n",
       "       'садовое товарищество Новая Ропша',\n",
       "       'садовое товарищество Приладожский', 'садовое товарищество Рахья',\n",
       "       'садовое товарищество Садко', 'село Копорье', 'село Никольское',\n",
       "       'село Павлово', 'село Паша', 'село Путилово', 'село Рождествено',\n",
       "       'село Русско-Высоцкое', 'село Старая Ладога', 'село Шум'],\n",
       "      dtype=object)"
      ]
     },
     "execution_count": 16,
     "metadata": {},
     "output_type": "execute_result"
    }
   ],
   "source": [
    "# Проверим отсутствие неявных дубликатов:\n",
    "locality_data = data.sort_values(by = 'locality_name')\n",
    "locality_data['locality_name'].unique()"
   ]
  },
  {
   "cell_type": "code",
   "execution_count": 17,
   "metadata": {},
   "outputs": [
    {
     "data": {
      "text/plain": [
       "0"
      ]
     },
     "execution_count": 17,
     "metadata": {},
     "output_type": "execute_result"
    }
   ],
   "source": [
    "# проверка на отсутствие дубликатов\n",
    "data.duplicated().sum()"
   ]
  },
  {
   "cell_type": "code",
   "execution_count": 18,
   "metadata": {},
   "outputs": [
    {
     "name": "stdout",
     "output_type": "stream",
     "text": [
      "<class 'pandas.core.frame.DataFrame'>\n",
      "Int64Index: 23611 entries, 0 to 23698\n",
      "Data columns (total 22 columns):\n",
      " #   Column                Non-Null Count  Dtype         \n",
      "---  ------                --------------  -----         \n",
      " 0   total_images          23611 non-null  int64         \n",
      " 1   last_price            23611 non-null  float64       \n",
      " 2   total_area            23611 non-null  float64       \n",
      " 3   first_day_exposition  23611 non-null  datetime64[ns]\n",
      " 4   rooms                 23611 non-null  int64         \n",
      " 5   ceiling_height        23611 non-null  float64       \n",
      " 6   floors_total          23611 non-null  int64         \n",
      " 7   living_area           23611 non-null  float64       \n",
      " 8   floor                 23611 non-null  int64         \n",
      " 9   is_apartment          23611 non-null  bool          \n",
      " 10  studio                23611 non-null  bool          \n",
      " 11  open_plan             23611 non-null  bool          \n",
      " 12  kitchen_area          23611 non-null  float64       \n",
      " 13  balcony               23611 non-null  int64         \n",
      " 14  locality_name         23611 non-null  object        \n",
      " 15  airports_nearest      18095 non-null  float64       \n",
      " 16  cityCenters_nearest   18118 non-null  float64       \n",
      " 17  parks_around3000      18119 non-null  float64       \n",
      " 18  parks_nearest         8053 non-null   float64       \n",
      " 19  ponds_around3000      18119 non-null  float64       \n",
      " 20  ponds_nearest         9073 non-null   float64       \n",
      " 21  days_exposition       20440 non-null  float64       \n",
      "dtypes: bool(3), datetime64[ns](1), float64(12), int64(5), object(1)\n",
      "memory usage: 3.7+ MB\n"
     ]
    }
   ],
   "source": [
    "data.info()"
   ]
  },
  {
   "cell_type": "markdown",
   "metadata": {},
   "source": [
    "В результате предобработки данных в датасете осталось 23611 строк. Тип данных в столбцах 'balcony', 'floors_total' и 'first_day_exposition' был изменен. Неявные дубликаты в столбце 'locality_name' были устранены."
   ]
  },
  {
   "cell_type": "markdown",
   "metadata": {},
   "source": [
    "Изучим аномалии в столбцах со стоимостью квартиры, количеством комнат и общей площадью. "
   ]
  },
  {
   "cell_type": "code",
   "execution_count": 19,
   "metadata": {
    "scrolled": true
   },
   "outputs": [
    {
     "data": {
      "text/plain": [
       "array([  430000.,   440000.,   450000., ..., 96000000., 98000000.,\n",
       "       99000000.])"
      ]
     },
     "metadata": {},
     "output_type": "display_data"
    }
   ],
   "source": [
    "# Избавимся от аномальных значений общей стоимости объектов. Аномальными будем считать значения ниже 100 тысяч рублей и выше 100 млн рублей. \n",
    "data = data.query('100000 < last_price < 100000000')\n",
    "last_price_data = data.sort_values(by = 'last_price')\n",
    "display(last_price_data['last_price'].unique())"
   ]
  },
  {
   "cell_type": "code",
   "execution_count": 20,
   "metadata": {},
   "outputs": [
    {
     "data": {
      "text/plain": [
       "array([1, 2, 3, 4, 5, 6, 7, 8, 9])"
      ]
     },
     "metadata": {},
     "output_type": "display_data"
    }
   ],
   "source": [
    "# Избавимся от аномальных значений количества комнат (больше десяти). \n",
    "\n",
    "data = data.query('0 < rooms < 10')\n",
    "rooms_data = data.sort_values(by = 'rooms')\n",
    "display(rooms_data['rooms'].unique())"
   ]
  },
  {
   "cell_type": "code",
   "execution_count": 21,
   "metadata": {
    "scrolled": true
   },
   "outputs": [
    {
     "name": "stdout",
     "output_type": "stream",
     "text": [
      "<class 'pandas.core.frame.DataFrame'>\n",
      "Int64Index: 23352 entries, 0 to 23698\n",
      "Data columns (total 22 columns):\n",
      " #   Column                Non-Null Count  Dtype         \n",
      "---  ------                --------------  -----         \n",
      " 0   total_images          23352 non-null  int64         \n",
      " 1   last_price            23352 non-null  float64       \n",
      " 2   total_area            23352 non-null  float64       \n",
      " 3   first_day_exposition  23352 non-null  datetime64[ns]\n",
      " 4   rooms                 23352 non-null  int64         \n",
      " 5   ceiling_height        23352 non-null  float64       \n",
      " 6   floors_total          23352 non-null  int64         \n",
      " 7   living_area           23352 non-null  float64       \n",
      " 8   floor                 23352 non-null  int64         \n",
      " 9   is_apartment          23352 non-null  bool          \n",
      " 10  studio                23352 non-null  bool          \n",
      " 11  open_plan             23352 non-null  bool          \n",
      " 12  kitchen_area          23352 non-null  float64       \n",
      " 13  balcony               23352 non-null  int64         \n",
      " 14  locality_name         23352 non-null  object        \n",
      " 15  airports_nearest      17917 non-null  float64       \n",
      " 16  cityCenters_nearest   17938 non-null  float64       \n",
      " 17  parks_around3000      17939 non-null  float64       \n",
      " 18  parks_nearest         7978 non-null   float64       \n",
      " 19  ponds_around3000      17939 non-null  float64       \n",
      " 20  ponds_nearest         8959 non-null   float64       \n",
      " 21  days_exposition       20207 non-null  float64       \n",
      "dtypes: bool(3), datetime64[ns](1), float64(12), int64(5), object(1)\n",
      "memory usage: 3.6+ MB\n"
     ]
    }
   ],
   "source": [
    "# Избавимся от аномальных значений общей площади. Будем считать аномальной площадь меньше 10 кв м и больше 400 кв м. \n",
    "\n",
    "data = data.query('10 < total_area < 400')\n",
    "data.info()"
   ]
  },
  {
   "cell_type": "markdown",
   "metadata": {},
   "source": [
    "В результате предобработки данных было удалено из таблицы 347 строк, что составляет 1.4% всего датасета. Исследование продолжим с таблицей, которая состоит из 23352 строк. "
   ]
  },
  {
   "cell_type": "markdown",
   "metadata": {},
   "source": [
    "### Посчет и добавление в таблицу новых столбцов"
   ]
  },
  {
   "cell_type": "code",
   "execution_count": 22,
   "metadata": {
    "scrolled": false
   },
   "outputs": [
    {
     "data": {
      "text/html": [
       "<div>\n",
       "<style scoped>\n",
       "    .dataframe tbody tr th:only-of-type {\n",
       "        vertical-align: middle;\n",
       "    }\n",
       "\n",
       "    .dataframe tbody tr th {\n",
       "        vertical-align: top;\n",
       "    }\n",
       "\n",
       "    .dataframe thead th {\n",
       "        text-align: right;\n",
       "    }\n",
       "</style>\n",
       "<table border=\"1\" class=\"dataframe\">\n",
       "  <thead>\n",
       "    <tr style=\"text-align: right;\">\n",
       "      <th></th>\n",
       "      <th>total_images</th>\n",
       "      <th>last_price</th>\n",
       "      <th>total_area</th>\n",
       "      <th>first_day_exposition</th>\n",
       "      <th>rooms</th>\n",
       "      <th>ceiling_height</th>\n",
       "      <th>floors_total</th>\n",
       "      <th>living_area</th>\n",
       "      <th>floor</th>\n",
       "      <th>is_apartment</th>\n",
       "      <th>studio</th>\n",
       "      <th>open_plan</th>\n",
       "      <th>kitchen_area</th>\n",
       "      <th>balcony</th>\n",
       "      <th>locality_name</th>\n",
       "      <th>airports_nearest</th>\n",
       "      <th>cityCenters_nearest</th>\n",
       "      <th>parks_around3000</th>\n",
       "      <th>parks_nearest</th>\n",
       "      <th>ponds_around3000</th>\n",
       "      <th>ponds_nearest</th>\n",
       "      <th>days_exposition</th>\n",
       "      <th>price_per_square</th>\n",
       "    </tr>\n",
       "  </thead>\n",
       "  <tbody>\n",
       "    <tr>\n",
       "      <th>0</th>\n",
       "      <td>20</td>\n",
       "      <td>13000000.0</td>\n",
       "      <td>108.0</td>\n",
       "      <td>2019-03-07</td>\n",
       "      <td>3</td>\n",
       "      <td>2.70</td>\n",
       "      <td>16</td>\n",
       "      <td>51.0</td>\n",
       "      <td>8</td>\n",
       "      <td>False</td>\n",
       "      <td>False</td>\n",
       "      <td>False</td>\n",
       "      <td>25.0</td>\n",
       "      <td>0</td>\n",
       "      <td>Санкт-Петербург</td>\n",
       "      <td>18863.0</td>\n",
       "      <td>16028.0</td>\n",
       "      <td>1.0</td>\n",
       "      <td>482.0</td>\n",
       "      <td>2.0</td>\n",
       "      <td>755.0</td>\n",
       "      <td>NaN</td>\n",
       "      <td>120370.370370</td>\n",
       "    </tr>\n",
       "    <tr>\n",
       "      <th>1</th>\n",
       "      <td>7</td>\n",
       "      <td>3350000.0</td>\n",
       "      <td>40.4</td>\n",
       "      <td>2018-12-04</td>\n",
       "      <td>1</td>\n",
       "      <td>2.65</td>\n",
       "      <td>11</td>\n",
       "      <td>18.6</td>\n",
       "      <td>1</td>\n",
       "      <td>False</td>\n",
       "      <td>False</td>\n",
       "      <td>False</td>\n",
       "      <td>11.0</td>\n",
       "      <td>2</td>\n",
       "      <td>поселок Шушары</td>\n",
       "      <td>12817.0</td>\n",
       "      <td>18603.0</td>\n",
       "      <td>0.0</td>\n",
       "      <td>NaN</td>\n",
       "      <td>0.0</td>\n",
       "      <td>NaN</td>\n",
       "      <td>81.0</td>\n",
       "      <td>82920.792079</td>\n",
       "    </tr>\n",
       "    <tr>\n",
       "      <th>2</th>\n",
       "      <td>10</td>\n",
       "      <td>5196000.0</td>\n",
       "      <td>56.0</td>\n",
       "      <td>2015-08-20</td>\n",
       "      <td>2</td>\n",
       "      <td>2.65</td>\n",
       "      <td>5</td>\n",
       "      <td>34.3</td>\n",
       "      <td>4</td>\n",
       "      <td>False</td>\n",
       "      <td>False</td>\n",
       "      <td>False</td>\n",
       "      <td>8.3</td>\n",
       "      <td>0</td>\n",
       "      <td>Санкт-Петербург</td>\n",
       "      <td>21741.0</td>\n",
       "      <td>13933.0</td>\n",
       "      <td>1.0</td>\n",
       "      <td>90.0</td>\n",
       "      <td>2.0</td>\n",
       "      <td>574.0</td>\n",
       "      <td>558.0</td>\n",
       "      <td>92785.714286</td>\n",
       "    </tr>\n",
       "    <tr>\n",
       "      <th>3</th>\n",
       "      <td>0</td>\n",
       "      <td>64900000.0</td>\n",
       "      <td>159.0</td>\n",
       "      <td>2015-07-24</td>\n",
       "      <td>3</td>\n",
       "      <td>2.65</td>\n",
       "      <td>14</td>\n",
       "      <td>30.0</td>\n",
       "      <td>9</td>\n",
       "      <td>False</td>\n",
       "      <td>False</td>\n",
       "      <td>False</td>\n",
       "      <td>9.1</td>\n",
       "      <td>0</td>\n",
       "      <td>Санкт-Петербург</td>\n",
       "      <td>28098.0</td>\n",
       "      <td>6800.0</td>\n",
       "      <td>2.0</td>\n",
       "      <td>84.0</td>\n",
       "      <td>3.0</td>\n",
       "      <td>234.0</td>\n",
       "      <td>424.0</td>\n",
       "      <td>408176.100629</td>\n",
       "    </tr>\n",
       "    <tr>\n",
       "      <th>4</th>\n",
       "      <td>2</td>\n",
       "      <td>10000000.0</td>\n",
       "      <td>100.0</td>\n",
       "      <td>2018-06-19</td>\n",
       "      <td>2</td>\n",
       "      <td>3.03</td>\n",
       "      <td>14</td>\n",
       "      <td>32.0</td>\n",
       "      <td>13</td>\n",
       "      <td>False</td>\n",
       "      <td>False</td>\n",
       "      <td>False</td>\n",
       "      <td>41.0</td>\n",
       "      <td>0</td>\n",
       "      <td>Санкт-Петербург</td>\n",
       "      <td>31856.0</td>\n",
       "      <td>8098.0</td>\n",
       "      <td>2.0</td>\n",
       "      <td>112.0</td>\n",
       "      <td>1.0</td>\n",
       "      <td>48.0</td>\n",
       "      <td>121.0</td>\n",
       "      <td>100000.000000</td>\n",
       "    </tr>\n",
       "  </tbody>\n",
       "</table>\n",
       "</div>"
      ],
      "text/plain": [
       "   total_images  last_price  total_area first_day_exposition  rooms  \\\n",
       "0            20  13000000.0       108.0           2019-03-07      3   \n",
       "1             7   3350000.0        40.4           2018-12-04      1   \n",
       "2            10   5196000.0        56.0           2015-08-20      2   \n",
       "3             0  64900000.0       159.0           2015-07-24      3   \n",
       "4             2  10000000.0       100.0           2018-06-19      2   \n",
       "\n",
       "   ceiling_height  floors_total  living_area  floor  is_apartment  studio  \\\n",
       "0            2.70            16         51.0      8         False   False   \n",
       "1            2.65            11         18.6      1         False   False   \n",
       "2            2.65             5         34.3      4         False   False   \n",
       "3            2.65            14         30.0      9         False   False   \n",
       "4            3.03            14         32.0     13         False   False   \n",
       "\n",
       "   open_plan  kitchen_area  balcony    locality_name  airports_nearest  \\\n",
       "0      False          25.0        0  Санкт-Петербург           18863.0   \n",
       "1      False          11.0        2   поселок Шушары           12817.0   \n",
       "2      False           8.3        0  Санкт-Петербург           21741.0   \n",
       "3      False           9.1        0  Санкт-Петербург           28098.0   \n",
       "4      False          41.0        0  Санкт-Петербург           31856.0   \n",
       "\n",
       "   cityCenters_nearest  parks_around3000  parks_nearest  ponds_around3000  \\\n",
       "0              16028.0               1.0          482.0               2.0   \n",
       "1              18603.0               0.0            NaN               0.0   \n",
       "2              13933.0               1.0           90.0               2.0   \n",
       "3               6800.0               2.0           84.0               3.0   \n",
       "4               8098.0               2.0          112.0               1.0   \n",
       "\n",
       "   ponds_nearest  days_exposition  price_per_square  \n",
       "0          755.0              NaN     120370.370370  \n",
       "1            NaN             81.0      82920.792079  \n",
       "2          574.0            558.0      92785.714286  \n",
       "3          234.0            424.0     408176.100629  \n",
       "4           48.0            121.0     100000.000000  "
      ]
     },
     "metadata": {},
     "output_type": "display_data"
    }
   ],
   "source": [
    "# Добавляем столбец с ценой одного квадратного метра. Для этого делим стоимость квартиры на ее площадь\n",
    "\n",
    "data['price_per_square'] = data['last_price'] / data['total_area']\n",
    "display(data.head(5))"
   ]
  },
  {
   "cell_type": "code",
   "execution_count": 23,
   "metadata": {
    "scrolled": true
   },
   "outputs": [
    {
     "data": {
      "text/html": [
       "<div>\n",
       "<style scoped>\n",
       "    .dataframe tbody tr th:only-of-type {\n",
       "        vertical-align: middle;\n",
       "    }\n",
       "\n",
       "    .dataframe tbody tr th {\n",
       "        vertical-align: top;\n",
       "    }\n",
       "\n",
       "    .dataframe thead th {\n",
       "        text-align: right;\n",
       "    }\n",
       "</style>\n",
       "<table border=\"1\" class=\"dataframe\">\n",
       "  <thead>\n",
       "    <tr style=\"text-align: right;\">\n",
       "      <th></th>\n",
       "      <th>total_images</th>\n",
       "      <th>last_price</th>\n",
       "      <th>total_area</th>\n",
       "      <th>first_day_exposition</th>\n",
       "      <th>rooms</th>\n",
       "      <th>ceiling_height</th>\n",
       "      <th>floors_total</th>\n",
       "      <th>living_area</th>\n",
       "      <th>floor</th>\n",
       "      <th>is_apartment</th>\n",
       "      <th>studio</th>\n",
       "      <th>open_plan</th>\n",
       "      <th>kitchen_area</th>\n",
       "      <th>balcony</th>\n",
       "      <th>locality_name</th>\n",
       "      <th>airports_nearest</th>\n",
       "      <th>cityCenters_nearest</th>\n",
       "      <th>parks_around3000</th>\n",
       "      <th>parks_nearest</th>\n",
       "      <th>ponds_around3000</th>\n",
       "      <th>ponds_nearest</th>\n",
       "      <th>days_exposition</th>\n",
       "      <th>price_per_square</th>\n",
       "      <th>publication_weekday</th>\n",
       "      <th>publication_month</th>\n",
       "      <th>publication_year</th>\n",
       "    </tr>\n",
       "  </thead>\n",
       "  <tbody>\n",
       "    <tr>\n",
       "      <th>0</th>\n",
       "      <td>20</td>\n",
       "      <td>13000000.0</td>\n",
       "      <td>108.0</td>\n",
       "      <td>2019-03-07</td>\n",
       "      <td>3</td>\n",
       "      <td>2.70</td>\n",
       "      <td>16</td>\n",
       "      <td>51.0</td>\n",
       "      <td>8</td>\n",
       "      <td>False</td>\n",
       "      <td>False</td>\n",
       "      <td>False</td>\n",
       "      <td>25.0</td>\n",
       "      <td>0</td>\n",
       "      <td>Санкт-Петербург</td>\n",
       "      <td>18863.0</td>\n",
       "      <td>16028.0</td>\n",
       "      <td>1.0</td>\n",
       "      <td>482.0</td>\n",
       "      <td>2.0</td>\n",
       "      <td>755.0</td>\n",
       "      <td>NaN</td>\n",
       "      <td>120370.370370</td>\n",
       "      <td>3</td>\n",
       "      <td>3</td>\n",
       "      <td>2019</td>\n",
       "    </tr>\n",
       "    <tr>\n",
       "      <th>1</th>\n",
       "      <td>7</td>\n",
       "      <td>3350000.0</td>\n",
       "      <td>40.4</td>\n",
       "      <td>2018-12-04</td>\n",
       "      <td>1</td>\n",
       "      <td>2.65</td>\n",
       "      <td>11</td>\n",
       "      <td>18.6</td>\n",
       "      <td>1</td>\n",
       "      <td>False</td>\n",
       "      <td>False</td>\n",
       "      <td>False</td>\n",
       "      <td>11.0</td>\n",
       "      <td>2</td>\n",
       "      <td>поселок Шушары</td>\n",
       "      <td>12817.0</td>\n",
       "      <td>18603.0</td>\n",
       "      <td>0.0</td>\n",
       "      <td>NaN</td>\n",
       "      <td>0.0</td>\n",
       "      <td>NaN</td>\n",
       "      <td>81.0</td>\n",
       "      <td>82920.792079</td>\n",
       "      <td>1</td>\n",
       "      <td>12</td>\n",
       "      <td>2018</td>\n",
       "    </tr>\n",
       "    <tr>\n",
       "      <th>2</th>\n",
       "      <td>10</td>\n",
       "      <td>5196000.0</td>\n",
       "      <td>56.0</td>\n",
       "      <td>2015-08-20</td>\n",
       "      <td>2</td>\n",
       "      <td>2.65</td>\n",
       "      <td>5</td>\n",
       "      <td>34.3</td>\n",
       "      <td>4</td>\n",
       "      <td>False</td>\n",
       "      <td>False</td>\n",
       "      <td>False</td>\n",
       "      <td>8.3</td>\n",
       "      <td>0</td>\n",
       "      <td>Санкт-Петербург</td>\n",
       "      <td>21741.0</td>\n",
       "      <td>13933.0</td>\n",
       "      <td>1.0</td>\n",
       "      <td>90.0</td>\n",
       "      <td>2.0</td>\n",
       "      <td>574.0</td>\n",
       "      <td>558.0</td>\n",
       "      <td>92785.714286</td>\n",
       "      <td>3</td>\n",
       "      <td>8</td>\n",
       "      <td>2015</td>\n",
       "    </tr>\n",
       "    <tr>\n",
       "      <th>3</th>\n",
       "      <td>0</td>\n",
       "      <td>64900000.0</td>\n",
       "      <td>159.0</td>\n",
       "      <td>2015-07-24</td>\n",
       "      <td>3</td>\n",
       "      <td>2.65</td>\n",
       "      <td>14</td>\n",
       "      <td>30.0</td>\n",
       "      <td>9</td>\n",
       "      <td>False</td>\n",
       "      <td>False</td>\n",
       "      <td>False</td>\n",
       "      <td>9.1</td>\n",
       "      <td>0</td>\n",
       "      <td>Санкт-Петербург</td>\n",
       "      <td>28098.0</td>\n",
       "      <td>6800.0</td>\n",
       "      <td>2.0</td>\n",
       "      <td>84.0</td>\n",
       "      <td>3.0</td>\n",
       "      <td>234.0</td>\n",
       "      <td>424.0</td>\n",
       "      <td>408176.100629</td>\n",
       "      <td>4</td>\n",
       "      <td>7</td>\n",
       "      <td>2015</td>\n",
       "    </tr>\n",
       "    <tr>\n",
       "      <th>4</th>\n",
       "      <td>2</td>\n",
       "      <td>10000000.0</td>\n",
       "      <td>100.0</td>\n",
       "      <td>2018-06-19</td>\n",
       "      <td>2</td>\n",
       "      <td>3.03</td>\n",
       "      <td>14</td>\n",
       "      <td>32.0</td>\n",
       "      <td>13</td>\n",
       "      <td>False</td>\n",
       "      <td>False</td>\n",
       "      <td>False</td>\n",
       "      <td>41.0</td>\n",
       "      <td>0</td>\n",
       "      <td>Санкт-Петербург</td>\n",
       "      <td>31856.0</td>\n",
       "      <td>8098.0</td>\n",
       "      <td>2.0</td>\n",
       "      <td>112.0</td>\n",
       "      <td>1.0</td>\n",
       "      <td>48.0</td>\n",
       "      <td>121.0</td>\n",
       "      <td>100000.000000</td>\n",
       "      <td>1</td>\n",
       "      <td>6</td>\n",
       "      <td>2018</td>\n",
       "    </tr>\n",
       "  </tbody>\n",
       "</table>\n",
       "</div>"
      ],
      "text/plain": [
       "   total_images  last_price  total_area first_day_exposition  rooms  \\\n",
       "0            20  13000000.0       108.0           2019-03-07      3   \n",
       "1             7   3350000.0        40.4           2018-12-04      1   \n",
       "2            10   5196000.0        56.0           2015-08-20      2   \n",
       "3             0  64900000.0       159.0           2015-07-24      3   \n",
       "4             2  10000000.0       100.0           2018-06-19      2   \n",
       "\n",
       "   ceiling_height  floors_total  living_area  floor  is_apartment  studio  \\\n",
       "0            2.70            16         51.0      8         False   False   \n",
       "1            2.65            11         18.6      1         False   False   \n",
       "2            2.65             5         34.3      4         False   False   \n",
       "3            2.65            14         30.0      9         False   False   \n",
       "4            3.03            14         32.0     13         False   False   \n",
       "\n",
       "   open_plan  kitchen_area  balcony    locality_name  airports_nearest  \\\n",
       "0      False          25.0        0  Санкт-Петербург           18863.0   \n",
       "1      False          11.0        2   поселок Шушары           12817.0   \n",
       "2      False           8.3        0  Санкт-Петербург           21741.0   \n",
       "3      False           9.1        0  Санкт-Петербург           28098.0   \n",
       "4      False          41.0        0  Санкт-Петербург           31856.0   \n",
       "\n",
       "   cityCenters_nearest  parks_around3000  parks_nearest  ponds_around3000  \\\n",
       "0              16028.0               1.0          482.0               2.0   \n",
       "1              18603.0               0.0            NaN               0.0   \n",
       "2              13933.0               1.0           90.0               2.0   \n",
       "3               6800.0               2.0           84.0               3.0   \n",
       "4               8098.0               2.0          112.0               1.0   \n",
       "\n",
       "   ponds_nearest  days_exposition  price_per_square  publication_weekday  \\\n",
       "0          755.0              NaN     120370.370370                    3   \n",
       "1            NaN             81.0      82920.792079                    1   \n",
       "2          574.0            558.0      92785.714286                    3   \n",
       "3          234.0            424.0     408176.100629                    4   \n",
       "4           48.0            121.0     100000.000000                    1   \n",
       "\n",
       "   publication_month  publication_year  \n",
       "0                  3              2019  \n",
       "1                 12              2018  \n",
       "2                  8              2015  \n",
       "3                  7              2015  \n",
       "4                  6              2018  "
      ]
     },
     "execution_count": 23,
     "metadata": {},
     "output_type": "execute_result"
    }
   ],
   "source": [
    "# Добавляем столбцы с днем, месяцем и годом публикации объявлений\n",
    "data['publication_weekday'] = data['first_day_exposition'].dt.weekday\n",
    "data['publication_month'] = data['first_day_exposition'].dt.month\n",
    "data['publication_year'] = data['first_day_exposition'].dt.year\n",
    "data.head()"
   ]
  },
  {
   "cell_type": "code",
   "execution_count": 24,
   "metadata": {},
   "outputs": [],
   "source": [
    "# Добавляем в таблицу столбец с типом этажа квартиры\n",
    "def floor_category(row):\n",
    "    floor = row['floor']\n",
    "    floors_total = row['floors_total']\n",
    "    \n",
    "    if floor == 1:\n",
    "        return 'Первый'\n",
    "    if floor == floors_total:\n",
    "        return 'Последний'\n",
    "    return 'Другой'\n",
    "        \n",
    "data['floor_type'] = data.apply(floor_category, axis = 1)\n",
    "#data.head(10)\n",
    "#data['floor_type'].unique()"
   ]
  },
  {
   "cell_type": "code",
   "execution_count": 25,
   "metadata": {},
   "outputs": [
    {
     "data": {
      "text/html": [
       "<div>\n",
       "<style scoped>\n",
       "    .dataframe tbody tr th:only-of-type {\n",
       "        vertical-align: middle;\n",
       "    }\n",
       "\n",
       "    .dataframe tbody tr th {\n",
       "        vertical-align: top;\n",
       "    }\n",
       "\n",
       "    .dataframe thead th {\n",
       "        text-align: right;\n",
       "    }\n",
       "</style>\n",
       "<table border=\"1\" class=\"dataframe\">\n",
       "  <thead>\n",
       "    <tr style=\"text-align: right;\">\n",
       "      <th></th>\n",
       "      <th>total_images</th>\n",
       "      <th>last_price</th>\n",
       "      <th>total_area</th>\n",
       "      <th>first_day_exposition</th>\n",
       "      <th>rooms</th>\n",
       "      <th>ceiling_height</th>\n",
       "      <th>floors_total</th>\n",
       "      <th>living_area</th>\n",
       "      <th>floor</th>\n",
       "      <th>is_apartment</th>\n",
       "      <th>studio</th>\n",
       "      <th>open_plan</th>\n",
       "      <th>kitchen_area</th>\n",
       "      <th>balcony</th>\n",
       "      <th>locality_name</th>\n",
       "      <th>airports_nearest</th>\n",
       "      <th>cityCenters_nearest</th>\n",
       "      <th>parks_around3000</th>\n",
       "      <th>parks_nearest</th>\n",
       "      <th>ponds_around3000</th>\n",
       "      <th>ponds_nearest</th>\n",
       "      <th>days_exposition</th>\n",
       "      <th>price_per_square</th>\n",
       "      <th>publication_weekday</th>\n",
       "      <th>publication_month</th>\n",
       "      <th>publication_year</th>\n",
       "      <th>floor_type</th>\n",
       "      <th>center_kms</th>\n",
       "    </tr>\n",
       "  </thead>\n",
       "  <tbody>\n",
       "    <tr>\n",
       "      <th>0</th>\n",
       "      <td>20</td>\n",
       "      <td>13000000.0</td>\n",
       "      <td>108.00</td>\n",
       "      <td>2019-03-07</td>\n",
       "      <td>3</td>\n",
       "      <td>2.70</td>\n",
       "      <td>16</td>\n",
       "      <td>51.00</td>\n",
       "      <td>8</td>\n",
       "      <td>False</td>\n",
       "      <td>False</td>\n",
       "      <td>False</td>\n",
       "      <td>25.00</td>\n",
       "      <td>0</td>\n",
       "      <td>Санкт-Петербург</td>\n",
       "      <td>18863.0</td>\n",
       "      <td>16028.0</td>\n",
       "      <td>1.0</td>\n",
       "      <td>482.0</td>\n",
       "      <td>2.0</td>\n",
       "      <td>755.0</td>\n",
       "      <td>NaN</td>\n",
       "      <td>120370.370370</td>\n",
       "      <td>3</td>\n",
       "      <td>3</td>\n",
       "      <td>2019</td>\n",
       "      <td>Другой</td>\n",
       "      <td>16.0</td>\n",
       "    </tr>\n",
       "    <tr>\n",
       "      <th>1</th>\n",
       "      <td>7</td>\n",
       "      <td>3350000.0</td>\n",
       "      <td>40.40</td>\n",
       "      <td>2018-12-04</td>\n",
       "      <td>1</td>\n",
       "      <td>2.65</td>\n",
       "      <td>11</td>\n",
       "      <td>18.60</td>\n",
       "      <td>1</td>\n",
       "      <td>False</td>\n",
       "      <td>False</td>\n",
       "      <td>False</td>\n",
       "      <td>11.00</td>\n",
       "      <td>2</td>\n",
       "      <td>поселок Шушары</td>\n",
       "      <td>12817.0</td>\n",
       "      <td>18603.0</td>\n",
       "      <td>0.0</td>\n",
       "      <td>NaN</td>\n",
       "      <td>0.0</td>\n",
       "      <td>NaN</td>\n",
       "      <td>81.0</td>\n",
       "      <td>82920.792079</td>\n",
       "      <td>1</td>\n",
       "      <td>12</td>\n",
       "      <td>2018</td>\n",
       "      <td>Первый</td>\n",
       "      <td>18.0</td>\n",
       "    </tr>\n",
       "    <tr>\n",
       "      <th>2</th>\n",
       "      <td>10</td>\n",
       "      <td>5196000.0</td>\n",
       "      <td>56.00</td>\n",
       "      <td>2015-08-20</td>\n",
       "      <td>2</td>\n",
       "      <td>2.65</td>\n",
       "      <td>5</td>\n",
       "      <td>34.30</td>\n",
       "      <td>4</td>\n",
       "      <td>False</td>\n",
       "      <td>False</td>\n",
       "      <td>False</td>\n",
       "      <td>8.30</td>\n",
       "      <td>0</td>\n",
       "      <td>Санкт-Петербург</td>\n",
       "      <td>21741.0</td>\n",
       "      <td>13933.0</td>\n",
       "      <td>1.0</td>\n",
       "      <td>90.0</td>\n",
       "      <td>2.0</td>\n",
       "      <td>574.0</td>\n",
       "      <td>558.0</td>\n",
       "      <td>92785.714286</td>\n",
       "      <td>3</td>\n",
       "      <td>8</td>\n",
       "      <td>2015</td>\n",
       "      <td>Другой</td>\n",
       "      <td>13.0</td>\n",
       "    </tr>\n",
       "    <tr>\n",
       "      <th>3</th>\n",
       "      <td>0</td>\n",
       "      <td>64900000.0</td>\n",
       "      <td>159.00</td>\n",
       "      <td>2015-07-24</td>\n",
       "      <td>3</td>\n",
       "      <td>2.65</td>\n",
       "      <td>14</td>\n",
       "      <td>30.00</td>\n",
       "      <td>9</td>\n",
       "      <td>False</td>\n",
       "      <td>False</td>\n",
       "      <td>False</td>\n",
       "      <td>9.10</td>\n",
       "      <td>0</td>\n",
       "      <td>Санкт-Петербург</td>\n",
       "      <td>28098.0</td>\n",
       "      <td>6800.0</td>\n",
       "      <td>2.0</td>\n",
       "      <td>84.0</td>\n",
       "      <td>3.0</td>\n",
       "      <td>234.0</td>\n",
       "      <td>424.0</td>\n",
       "      <td>408176.100629</td>\n",
       "      <td>4</td>\n",
       "      <td>7</td>\n",
       "      <td>2015</td>\n",
       "      <td>Другой</td>\n",
       "      <td>6.0</td>\n",
       "    </tr>\n",
       "    <tr>\n",
       "      <th>4</th>\n",
       "      <td>2</td>\n",
       "      <td>10000000.0</td>\n",
       "      <td>100.00</td>\n",
       "      <td>2018-06-19</td>\n",
       "      <td>2</td>\n",
       "      <td>3.03</td>\n",
       "      <td>14</td>\n",
       "      <td>32.00</td>\n",
       "      <td>13</td>\n",
       "      <td>False</td>\n",
       "      <td>False</td>\n",
       "      <td>False</td>\n",
       "      <td>41.00</td>\n",
       "      <td>0</td>\n",
       "      <td>Санкт-Петербург</td>\n",
       "      <td>31856.0</td>\n",
       "      <td>8098.0</td>\n",
       "      <td>2.0</td>\n",
       "      <td>112.0</td>\n",
       "      <td>1.0</td>\n",
       "      <td>48.0</td>\n",
       "      <td>121.0</td>\n",
       "      <td>100000.000000</td>\n",
       "      <td>1</td>\n",
       "      <td>6</td>\n",
       "      <td>2018</td>\n",
       "      <td>Другой</td>\n",
       "      <td>8.0</td>\n",
       "    </tr>\n",
       "    <tr>\n",
       "      <th>5</th>\n",
       "      <td>10</td>\n",
       "      <td>2890000.0</td>\n",
       "      <td>30.40</td>\n",
       "      <td>2018-09-10</td>\n",
       "      <td>1</td>\n",
       "      <td>2.65</td>\n",
       "      <td>12</td>\n",
       "      <td>14.40</td>\n",
       "      <td>5</td>\n",
       "      <td>False</td>\n",
       "      <td>False</td>\n",
       "      <td>False</td>\n",
       "      <td>9.10</td>\n",
       "      <td>0</td>\n",
       "      <td>поселок Янино-1</td>\n",
       "      <td>NaN</td>\n",
       "      <td>NaN</td>\n",
       "      <td>NaN</td>\n",
       "      <td>NaN</td>\n",
       "      <td>NaN</td>\n",
       "      <td>NaN</td>\n",
       "      <td>55.0</td>\n",
       "      <td>95065.789474</td>\n",
       "      <td>0</td>\n",
       "      <td>9</td>\n",
       "      <td>2018</td>\n",
       "      <td>Другой</td>\n",
       "      <td>NaN</td>\n",
       "    </tr>\n",
       "    <tr>\n",
       "      <th>6</th>\n",
       "      <td>6</td>\n",
       "      <td>3700000.0</td>\n",
       "      <td>37.30</td>\n",
       "      <td>2017-11-02</td>\n",
       "      <td>1</td>\n",
       "      <td>2.65</td>\n",
       "      <td>26</td>\n",
       "      <td>10.60</td>\n",
       "      <td>6</td>\n",
       "      <td>False</td>\n",
       "      <td>False</td>\n",
       "      <td>False</td>\n",
       "      <td>14.40</td>\n",
       "      <td>1</td>\n",
       "      <td>поселок Парголово</td>\n",
       "      <td>52996.0</td>\n",
       "      <td>19143.0</td>\n",
       "      <td>0.0</td>\n",
       "      <td>NaN</td>\n",
       "      <td>0.0</td>\n",
       "      <td>NaN</td>\n",
       "      <td>155.0</td>\n",
       "      <td>99195.710456</td>\n",
       "      <td>3</td>\n",
       "      <td>11</td>\n",
       "      <td>2017</td>\n",
       "      <td>Другой</td>\n",
       "      <td>19.0</td>\n",
       "    </tr>\n",
       "    <tr>\n",
       "      <th>7</th>\n",
       "      <td>5</td>\n",
       "      <td>7915000.0</td>\n",
       "      <td>71.60</td>\n",
       "      <td>2019-04-18</td>\n",
       "      <td>2</td>\n",
       "      <td>2.65</td>\n",
       "      <td>24</td>\n",
       "      <td>30.00</td>\n",
       "      <td>22</td>\n",
       "      <td>False</td>\n",
       "      <td>False</td>\n",
       "      <td>False</td>\n",
       "      <td>18.90</td>\n",
       "      <td>2</td>\n",
       "      <td>Санкт-Петербург</td>\n",
       "      <td>23982.0</td>\n",
       "      <td>11634.0</td>\n",
       "      <td>0.0</td>\n",
       "      <td>NaN</td>\n",
       "      <td>0.0</td>\n",
       "      <td>NaN</td>\n",
       "      <td>NaN</td>\n",
       "      <td>110544.692737</td>\n",
       "      <td>3</td>\n",
       "      <td>4</td>\n",
       "      <td>2019</td>\n",
       "      <td>Другой</td>\n",
       "      <td>11.0</td>\n",
       "    </tr>\n",
       "    <tr>\n",
       "      <th>8</th>\n",
       "      <td>20</td>\n",
       "      <td>2900000.0</td>\n",
       "      <td>33.16</td>\n",
       "      <td>2018-05-23</td>\n",
       "      <td>1</td>\n",
       "      <td>2.65</td>\n",
       "      <td>27</td>\n",
       "      <td>15.43</td>\n",
       "      <td>26</td>\n",
       "      <td>False</td>\n",
       "      <td>False</td>\n",
       "      <td>False</td>\n",
       "      <td>8.81</td>\n",
       "      <td>0</td>\n",
       "      <td>поселок Мурино</td>\n",
       "      <td>NaN</td>\n",
       "      <td>NaN</td>\n",
       "      <td>NaN</td>\n",
       "      <td>NaN</td>\n",
       "      <td>NaN</td>\n",
       "      <td>NaN</td>\n",
       "      <td>189.0</td>\n",
       "      <td>87454.764777</td>\n",
       "      <td>2</td>\n",
       "      <td>5</td>\n",
       "      <td>2018</td>\n",
       "      <td>Другой</td>\n",
       "      <td>NaN</td>\n",
       "    </tr>\n",
       "    <tr>\n",
       "      <th>9</th>\n",
       "      <td>18</td>\n",
       "      <td>5400000.0</td>\n",
       "      <td>61.00</td>\n",
       "      <td>2017-02-26</td>\n",
       "      <td>3</td>\n",
       "      <td>2.50</td>\n",
       "      <td>9</td>\n",
       "      <td>43.60</td>\n",
       "      <td>7</td>\n",
       "      <td>False</td>\n",
       "      <td>False</td>\n",
       "      <td>False</td>\n",
       "      <td>6.50</td>\n",
       "      <td>2</td>\n",
       "      <td>Санкт-Петербург</td>\n",
       "      <td>50898.0</td>\n",
       "      <td>15008.0</td>\n",
       "      <td>0.0</td>\n",
       "      <td>NaN</td>\n",
       "      <td>0.0</td>\n",
       "      <td>NaN</td>\n",
       "      <td>289.0</td>\n",
       "      <td>88524.590164</td>\n",
       "      <td>6</td>\n",
       "      <td>2</td>\n",
       "      <td>2017</td>\n",
       "      <td>Другой</td>\n",
       "      <td>15.0</td>\n",
       "    </tr>\n",
       "  </tbody>\n",
       "</table>\n",
       "</div>"
      ],
      "text/plain": [
       "   total_images  last_price  total_area first_day_exposition  rooms  \\\n",
       "0            20  13000000.0      108.00           2019-03-07      3   \n",
       "1             7   3350000.0       40.40           2018-12-04      1   \n",
       "2            10   5196000.0       56.00           2015-08-20      2   \n",
       "3             0  64900000.0      159.00           2015-07-24      3   \n",
       "4             2  10000000.0      100.00           2018-06-19      2   \n",
       "5            10   2890000.0       30.40           2018-09-10      1   \n",
       "6             6   3700000.0       37.30           2017-11-02      1   \n",
       "7             5   7915000.0       71.60           2019-04-18      2   \n",
       "8            20   2900000.0       33.16           2018-05-23      1   \n",
       "9            18   5400000.0       61.00           2017-02-26      3   \n",
       "\n",
       "   ceiling_height  floors_total  living_area  floor  is_apartment  studio  \\\n",
       "0            2.70            16        51.00      8         False   False   \n",
       "1            2.65            11        18.60      1         False   False   \n",
       "2            2.65             5        34.30      4         False   False   \n",
       "3            2.65            14        30.00      9         False   False   \n",
       "4            3.03            14        32.00     13         False   False   \n",
       "5            2.65            12        14.40      5         False   False   \n",
       "6            2.65            26        10.60      6         False   False   \n",
       "7            2.65            24        30.00     22         False   False   \n",
       "8            2.65            27        15.43     26         False   False   \n",
       "9            2.50             9        43.60      7         False   False   \n",
       "\n",
       "   open_plan  kitchen_area  balcony      locality_name  airports_nearest  \\\n",
       "0      False         25.00        0    Санкт-Петербург           18863.0   \n",
       "1      False         11.00        2     поселок Шушары           12817.0   \n",
       "2      False          8.30        0    Санкт-Петербург           21741.0   \n",
       "3      False          9.10        0    Санкт-Петербург           28098.0   \n",
       "4      False         41.00        0    Санкт-Петербург           31856.0   \n",
       "5      False          9.10        0    поселок Янино-1               NaN   \n",
       "6      False         14.40        1  поселок Парголово           52996.0   \n",
       "7      False         18.90        2    Санкт-Петербург           23982.0   \n",
       "8      False          8.81        0     поселок Мурино               NaN   \n",
       "9      False          6.50        2    Санкт-Петербург           50898.0   \n",
       "\n",
       "   cityCenters_nearest  parks_around3000  parks_nearest  ponds_around3000  \\\n",
       "0              16028.0               1.0          482.0               2.0   \n",
       "1              18603.0               0.0            NaN               0.0   \n",
       "2              13933.0               1.0           90.0               2.0   \n",
       "3               6800.0               2.0           84.0               3.0   \n",
       "4               8098.0               2.0          112.0               1.0   \n",
       "5                  NaN               NaN            NaN               NaN   \n",
       "6              19143.0               0.0            NaN               0.0   \n",
       "7              11634.0               0.0            NaN               0.0   \n",
       "8                  NaN               NaN            NaN               NaN   \n",
       "9              15008.0               0.0            NaN               0.0   \n",
       "\n",
       "   ponds_nearest  days_exposition  price_per_square  publication_weekday  \\\n",
       "0          755.0              NaN     120370.370370                    3   \n",
       "1            NaN             81.0      82920.792079                    1   \n",
       "2          574.0            558.0      92785.714286                    3   \n",
       "3          234.0            424.0     408176.100629                    4   \n",
       "4           48.0            121.0     100000.000000                    1   \n",
       "5            NaN             55.0      95065.789474                    0   \n",
       "6            NaN            155.0      99195.710456                    3   \n",
       "7            NaN              NaN     110544.692737                    3   \n",
       "8            NaN            189.0      87454.764777                    2   \n",
       "9            NaN            289.0      88524.590164                    6   \n",
       "\n",
       "   publication_month  publication_year floor_type  center_kms  \n",
       "0                  3              2019     Другой        16.0  \n",
       "1                 12              2018     Первый        18.0  \n",
       "2                  8              2015     Другой        13.0  \n",
       "3                  7              2015     Другой         6.0  \n",
       "4                  6              2018     Другой         8.0  \n",
       "5                  9              2018     Другой         NaN  \n",
       "6                 11              2017     Другой        19.0  \n",
       "7                  4              2019     Другой        11.0  \n",
       "8                  5              2018     Другой         NaN  \n",
       "9                  2              2017     Другой        15.0  "
      ]
     },
     "metadata": {},
     "output_type": "display_data"
    }
   ],
   "source": [
    "# Добавляем столбец со значением расстояния до центра в километрах:\n",
    "# В этом столбце есть много пропусков, которые мы никак не можем (не должны) заполнять. Однако для того, \n",
    "# чтобы перевести расстояние в километры, заполним пропуски нулями, переведем значения, а затем удалим нули и вернем пропуски\n",
    "\n",
    "data['cityCenters_nearest'] = data['cityCenters_nearest'].fillna(0)\n",
    "\n",
    "data['center_kms'] = (data['cityCenters_nearest'] / 1000).astype(int)\n",
    "\n",
    "data.loc[data['cityCenters_nearest'] == 0,'cityCenters_nearest'] = None     \n",
    "data.loc[data['center_kms'] == 0,'center_kms'] = None\n",
    "\n",
    "display(data.head(10))"
   ]
  },
  {
   "cell_type": "markdown",
   "metadata": {},
   "source": [
    "В результате вычислений в таблицу были добавлены следующие столбцы: цена одного квадратного метра, день публикации объявления (0 - понедельник, 1 - вторник и т.д.), месяц публикации объявления, год публикации объявления, тип этажа квартиры (значения — «первый», «последний», «другой»), расстояние в км до центра города."
   ]
  },
  {
   "cell_type": "markdown",
   "metadata": {
    "scrolled": true
   },
   "source": [
    "Теперь можно переходить к исследовательскому анализу."
   ]
  },
  {
   "cell_type": "markdown",
   "metadata": {},
   "source": [
    "### Исследовательский анализ данных"
   ]
  },
  {
   "cell_type": "code",
   "execution_count": 26,
   "metadata": {},
   "outputs": [
    {
     "data": {
      "text/plain": [
       "count    23352.000000\n",
       "mean        59.818387\n",
       "std         31.386489\n",
       "min         12.000000\n",
       "25%         40.100000\n",
       "50%         52.000000\n",
       "75%         69.717500\n",
       "max        399.000000\n",
       "Name: total_area, dtype: float64"
      ]
     },
     "metadata": {},
     "output_type": "display_data"
    },
    {
     "data": {
      "image/png": "[encoded data removed]",
      "text/plain": [
       "<Figure size 720x360 with 1 Axes>"
      ]
     },
     "metadata": {
      "needs_background": "light"
     },
     "output_type": "display_data"
    }
   ],
   "source": [
    "# Для анализа общей площащи посторим гистограмму\n",
    "\n",
    "display(data['total_area'].describe())\n",
    "data.hist('total_area', bins = 100, figsize = (10, 5));\n",
    "plt.title('Общая площадь')\n",
    "plt.show()"
   ]
  },
  {
   "cell_type": "markdown",
   "metadata": {},
   "source": [
    "Как следует из данных, среди 23352 квартир больше всего помещений площадью около 60 кв.м. Самая маленькая квартира из представленных имеет площадь всего 12 кв.м., самая большая - 399 кв.м. (аномальные значения были удалены). "
   ]
  },
  {
   "cell_type": "code",
   "execution_count": 27,
   "metadata": {
    "scrolled": true
   },
   "outputs": [
    {
     "data": {
      "text/plain": [
       "count    23352.000000\n",
       "mean        33.845802\n",
       "std         19.327928\n",
       "min          2.000000\n",
       "25%         19.200000\n",
       "50%         30.000000\n",
       "75%         41.100000\n",
       "max        255.700000\n",
       "Name: living_area, dtype: float64"
      ]
     },
     "metadata": {},
     "output_type": "display_data"
    },
    {
     "data": {
      "image/png": "[encoded data removed]",
      "text/plain": [
       "<Figure size 720x360 with 1 Axes>"
      ]
     },
     "metadata": {
      "needs_background": "light"
     },
     "output_type": "display_data"
    },
    {
     "data": {
      "text/plain": [
       "array([  2. ,   3. ,   5.4, ..., 248.5, 250. , 255.7])"
      ]
     },
     "metadata": {},
     "output_type": "display_data"
    }
   ],
   "source": [
    "# Далее анализируем жилую площадь\n",
    "\n",
    "display(data['living_area'].describe())\n",
    "data.hist('living_area', range = (0, 300), bins = 100, figsize = (10, 5));\n",
    "plt.title('Жилая площадь')\n",
    "plt.show()\n",
    "living_data = data.sort_values(by = 'living_area')\n",
    "display(living_data['living_area'].unique())"
   ]
  },
  {
   "cell_type": "markdown",
   "metadata": {},
   "source": [
    "Проведя анализ и изучив график, можно сделать вывод о том, что большая часть квартир имеет жилую площадь около 34 кв.м. При этом немалую долю составляют квартиры с жилой площадью до 20 кв.м. Скорее всего, это малосемейные квартиры."
   ]
  },
  {
   "cell_type": "code",
   "execution_count": 28,
   "metadata": {
    "scrolled": true
   },
   "outputs": [
    {
     "data": {
      "text/plain": [
       "count    23352.000000\n",
       "mean        10.377587\n",
       "std          5.419548\n",
       "min          1.300000\n",
       "25%          7.300000\n",
       "50%          9.100000\n",
       "75%         11.500000\n",
       "max        107.000000\n",
       "Name: kitchen_area, dtype: float64"
      ]
     },
     "metadata": {},
     "output_type": "display_data"
    },
    {
     "data": {
      "image/png": "[encoded data removed]",
      "text/plain": [
       "<Figure size 720x360 with 1 Axes>"
      ]
     },
     "metadata": {
      "needs_background": "light"
     },
     "output_type": "display_data"
    },
    {
     "data": {
      "text/plain": [
       "array([  1.3 ,   2.  ,   2.3 ,   2.4 ,   2.89,   3.  ,   3.2 ,   3.3 ,\n",
       "         3.4 ,   3.5 ,   3.7 ,   3.8 ,   4.  ,   4.1 ,   4.2 ,   4.3 ,\n",
       "         4.4 ,   4.5 ,   4.6 ,   4.7 ,   4.8 ,   4.9 ,   5.  ,   5.04,\n",
       "         5.06,   5.1 ,   5.14,   5.2 ,   5.21,   5.23,   5.25,   5.28,\n",
       "         5.29,   5.3 ,   5.31,   5.33,   5.35,   5.4 ,   5.42,   5.44,\n",
       "         5.47,   5.49,   5.5 ,   5.53,   5.59,   5.6 ,   5.61,   5.62,\n",
       "         5.64,   5.65,   5.68,   5.7 ,   5.74,   5.75,   5.78,   5.8 ,\n",
       "         5.82,   5.85,   5.86,   5.9 ,   5.91,   6.  ,   6.02,   6.03,\n",
       "         6.1 ,   6.16,   6.19,   6.2 ,   6.22,   6.23,   6.24,   6.25,\n",
       "         6.26,   6.27,   6.28,   6.3 ,   6.31,   6.33,   6.35,   6.36,\n",
       "         6.37,   6.4 ,   6.47,   6.5 ,   6.55,   6.58,   6.6 ,   6.61,\n",
       "         6.62,   6.65,   6.7 ,   6.72,   6.73,   6.76,   6.77,   6.8 ,\n",
       "         6.82,   6.83,   6.84,   6.86,   6.9 ,   6.91,   6.93,   6.95,\n",
       "         7.  ,   7.02,   7.03,   7.06,   7.09,   7.1 ,   7.12,   7.15,\n",
       "         7.17,   7.18,   7.19,   7.2 ,   7.3 ,   7.36,   7.4 ,   7.41,\n",
       "         7.48,   7.5 ,   7.54,   7.6 ,   7.63,   7.65,   7.7 ,   7.71,\n",
       "         7.78,   7.8 ,   7.84,   7.85,   7.86,   7.87,   7.89,   7.9 ,\n",
       "         7.92,   7.94,   7.95,   7.97,   8.  ,   8.01,   8.02,   8.03,\n",
       "         8.05,   8.06,   8.07,   8.08,   8.09,   8.1 ,   8.11,   8.12,\n",
       "         8.13,   8.15,   8.18,   8.19,   8.2 ,   8.21,   8.23,   8.25,\n",
       "         8.29,   8.3 ,   8.31,   8.32,   8.35,   8.38,   8.4 ,   8.43,\n",
       "         8.44,   8.45,   8.47,   8.48,   8.5 ,   8.52,   8.54,   8.57,\n",
       "         8.58,   8.6 ,   8.61,   8.63,   8.65,   8.66,   8.67,   8.69,\n",
       "         8.7 ,   8.71,   8.73,   8.76,   8.77,   8.8 ,   8.81,   8.82,\n",
       "         8.84,   8.85,   8.87,   8.9 ,   8.93,   8.94,   8.95,   8.96,\n",
       "         8.98,   9.  ,   9.01,   9.04,   9.05,   9.06,   9.08,   9.09,\n",
       "         9.1 ,   9.11,   9.13,   9.16,   9.17,   9.18,   9.19,   9.2 ,\n",
       "         9.22,   9.24,   9.25,   9.26,   9.27,   9.28,   9.3 ,   9.31,\n",
       "         9.32,   9.34,   9.35,   9.36,   9.37,   9.38,   9.39,   9.4 ,\n",
       "         9.42,   9.43,   9.44,   9.45,   9.46,   9.48,   9.5 ,   9.51,\n",
       "         9.52,   9.57,   9.58,   9.59,   9.6 ,   9.62,   9.65,   9.66,\n",
       "         9.67,   9.68,   9.7 ,   9.71,   9.72,   9.73,   9.75,   9.76,\n",
       "         9.77,   9.79,   9.8 ,   9.82,   9.83,   9.85,   9.89,   9.9 ,\n",
       "         9.91,   9.93,   9.95,   9.97,   9.98,  10.  ,  10.01,  10.02,\n",
       "        10.03,  10.05,  10.06,  10.08,  10.09,  10.1 ,  10.12,  10.13,\n",
       "        10.15,  10.17,  10.18,  10.19,  10.2 ,  10.22,  10.24,  10.25,\n",
       "        10.26,  10.27,  10.29,  10.3 ,  10.32,  10.33,  10.34,  10.35,\n",
       "        10.36,  10.37,  10.38,  10.39,  10.4 ,  10.42,  10.43,  10.44,\n",
       "        10.45,  10.46,  10.47,  10.49,  10.5 ,  10.51,  10.52,  10.54,\n",
       "        10.55,  10.56,  10.58,  10.59,  10.6 ,  10.62,  10.63,  10.64,\n",
       "        10.68,  10.69,  10.7 ,  10.71,  10.72,  10.73,  10.74,  10.75,\n",
       "        10.78,  10.79,  10.8 ,  10.84,  10.86,  10.87,  10.88,  10.89,\n",
       "        10.9 ,  10.91,  10.92,  10.94,  10.95,  10.99,  11.  ,  11.04,\n",
       "        11.05,  11.06,  11.07,  11.09,  11.1 ,  11.11,  11.12,  11.13,\n",
       "        11.14,  11.16,  11.17,  11.18,  11.2 ,  11.22,  11.24,  11.25,\n",
       "        11.26,  11.27,  11.28,  11.29,  11.3 ,  11.31,  11.33,  11.34,\n",
       "        11.35,  11.36,  11.37,  11.39,  11.4 ,  11.41,  11.42,  11.43,\n",
       "        11.44,  11.45,  11.46,  11.47,  11.49,  11.5 ,  11.51,  11.52,\n",
       "        11.53,  11.55,  11.56,  11.57,  11.59,  11.6 ,  11.62,  11.63,\n",
       "        11.64,  11.65,  11.67,  11.69,  11.7 ,  11.71,  11.73,  11.74,\n",
       "        11.78,  11.8 ,  11.81,  11.84,  11.85,  11.87,  11.9 ,  11.92,\n",
       "        11.93,  11.95,  11.98,  12.  ,  12.01,  12.02,  12.03,  12.05,\n",
       "        12.08,  12.1 ,  12.11,  12.14,  12.15,  12.17,  12.18,  12.2 ,\n",
       "        12.23,  12.24,  12.25,  12.27,  12.29,  12.3 ,  12.32,  12.35,\n",
       "        12.37,  12.38,  12.39,  12.4 ,  12.43,  12.44,  12.45,  12.47,\n",
       "        12.5 ,  12.52,  12.53,  12.55,  12.56,  12.57,  12.58,  12.6 ,\n",
       "        12.63,  12.66,  12.69,  12.7 ,  12.71,  12.72,  12.75,  12.76,\n",
       "        12.8 ,  12.83,  12.84,  12.85,  12.86,  12.87,  12.88,  12.89,\n",
       "        12.9 ,  12.92,  12.93,  12.96,  13.  ,  13.02,  13.04,  13.05,\n",
       "        13.06,  13.1 ,  13.11,  13.14,  13.16,  13.17,  13.2 ,  13.21,\n",
       "        13.24,  13.25,  13.26,  13.27,  13.28,  13.29,  13.3 ,  13.31,\n",
       "        13.32,  13.33,  13.35,  13.38,  13.39,  13.4 ,  13.41,  13.42,\n",
       "        13.43,  13.47,  13.49,  13.5 ,  13.52,  13.53,  13.55,  13.58,\n",
       "        13.6 ,  13.63,  13.64,  13.65,  13.67,  13.69,  13.7 ,  13.73,\n",
       "        13.74,  13.77,  13.79,  13.8 ,  13.81,  13.83,  13.84,  13.86,\n",
       "        13.9 ,  13.93,  13.95,  14.  ,  14.02,  14.04,  14.05,  14.06,\n",
       "        14.1 ,  14.14,  14.17,  14.2 ,  14.24,  14.27,  14.29,  14.3 ,\n",
       "        14.31,  14.33,  14.4 ,  14.43,  14.46,  14.49,  14.5 ,  14.51,\n",
       "        14.55,  14.56,  14.57,  14.58,  14.6 ,  14.61,  14.64,  14.65,\n",
       "        14.7 ,  14.72,  14.74,  14.77,  14.8 ,  14.84,  14.85,  14.9 ,\n",
       "        14.93,  14.95,  14.97,  14.98,  15.  ,  15.03,  15.07,  15.09,\n",
       "        15.1 ,  15.15,  15.18,  15.2 ,  15.24,  15.26,  15.3 ,  15.33,\n",
       "        15.35,  15.37,  15.39,  15.4 ,  15.42,  15.43,  15.5 ,  15.54,\n",
       "        15.55,  15.57,  15.6 ,  15.61,  15.62,  15.69,  15.7 ,  15.72,\n",
       "        15.78,  15.8 ,  15.83,  15.85,  15.9 ,  16.  ,  16.03,  16.05,\n",
       "        16.07,  16.1 ,  16.2 ,  16.25,  16.26,  16.27,  16.3 ,  16.32,\n",
       "        16.38,  16.4 ,  16.42,  16.45,  16.46,  16.47,  16.48,  16.5 ,\n",
       "        16.6 ,  16.66,  16.7 ,  16.72,  16.74,  16.77,  16.8 ,  16.83,\n",
       "        16.88,  16.89,  16.9 ,  16.92,  17.  ,  17.06,  17.1 ,  17.12,\n",
       "        17.2 ,  17.28,  17.3 ,  17.4 ,  17.44,  17.5 ,  17.53,  17.55,\n",
       "        17.59,  17.6 ,  17.61,  17.64,  17.7 ,  17.8 ,  17.85,  17.87,\n",
       "        17.9 ,  18.  ,  18.07,  18.1 ,  18.16,  18.2 ,  18.25,  18.3 ,\n",
       "        18.34,  18.4 ,  18.45,  18.5 ,  18.55,  18.59,  18.6 ,  18.7 ,\n",
       "        18.78,  18.8 ,  18.88,  18.9 ,  18.93,  19.  ,  19.1 ,  19.19,\n",
       "        19.2 ,  19.21,  19.28,  19.3 ,  19.35,  19.39,  19.4 ,  19.42,\n",
       "        19.45,  19.5 ,  19.51,  19.6 ,  19.61,  19.7 ,  19.8 ,  19.9 ,\n",
       "        19.92,  19.94,  20.  ,  20.07,  20.1 ,  20.16,  20.2 ,  20.24,\n",
       "        20.3 ,  20.31,  20.38,  20.4 ,  20.5 ,  20.52,  20.56,  20.6 ,\n",
       "        20.7 ,  20.77,  20.8 ,  20.9 ,  20.91,  20.92,  21.  ,  21.1 ,\n",
       "        21.2 ,  21.22,  21.25,  21.3 ,  21.4 ,  21.5 ,  21.53,  21.55,\n",
       "        21.6 ,  21.7 ,  21.74,  21.76,  21.8 ,  21.82,  21.87,  21.9 ,\n",
       "        22.  ,  22.1 ,  22.15,  22.2 ,  22.22,  22.3 ,  22.31,  22.4 ,\n",
       "        22.43,  22.46,  22.5 ,  22.6 ,  22.7 ,  22.72,  22.78,  22.8 ,\n",
       "        22.9 ,  23.  ,  23.1 ,  23.2 ,  23.25,  23.28,  23.3 ,  23.38,\n",
       "        23.4 ,  23.42,  23.43,  23.5 ,  23.53,  23.6 ,  23.7 ,  23.71,\n",
       "        23.8 ,  23.9 ,  24.  ,  24.03,  24.1 ,  24.2 ,  24.3 ,  24.4 ,\n",
       "        24.5 ,  24.6 ,  24.7 ,  24.8 ,  24.89,  24.9 ,  25.  ,  25.02,\n",
       "        25.1 ,  25.11,  25.2 ,  25.3 ,  25.34,  25.4 ,  25.5 ,  25.6 ,\n",
       "        25.7 ,  25.86,  25.9 ,  26.  ,  26.1 ,  26.2 ,  26.4 ,  26.5 ,\n",
       "        26.6 ,  26.7 ,  26.8 ,  26.85,  26.9 ,  27.  ,  27.1 ,  27.2 ,\n",
       "        27.3 ,  27.4 ,  27.5 ,  27.57,  27.76,  27.9 ,  28.  ,  28.1 ,\n",
       "        28.2 ,  28.3 ,  28.4 ,  28.5 ,  28.52,  28.56,  28.6 ,  28.63,\n",
       "        28.64,  28.7 ,  28.8 ,  29.  ,  29.09,  29.1 ,  29.3 ,  29.4 ,\n",
       "        29.5 ,  29.8 ,  29.9 ,  30.  ,  30.2 ,  30.5 ,  30.59,  30.6 ,\n",
       "        30.8 ,  30.9 ,  31.  ,  31.2 ,  31.3 ,  31.4 ,  31.47,  31.5 ,\n",
       "        31.6 ,  31.7 ,  31.73,  31.8 ,  32.  ,  32.1 ,  32.3 ,  32.4 ,\n",
       "        32.55,  32.6 ,  32.7 ,  32.8 ,  32.9 ,  33.  ,  33.1 ,  33.6 ,\n",
       "        33.8 ,  33.9 ,  34.  ,  34.1 ,  34.19,  34.3 ,  34.4 ,  34.51,\n",
       "        34.6 ,  34.7 ,  34.78,  34.8 ,  35.  ,  35.1 ,  35.35,  35.4 ,\n",
       "        35.5 ,  35.6 ,  35.7 ,  35.9 ,  36.  ,  36.2 ,  36.3 ,  36.4 ,\n",
       "        36.5 ,  36.6 ,  37.  ,  37.5 ,  37.6 ,  37.7 ,  37.78,  37.8 ,\n",
       "        37.9 ,  38.  ,  38.1 ,  38.86,  39.  ,  39.1 ,  39.7 ,  39.9 ,\n",
       "        40.  ,  40.1 ,  40.2 ,  40.3 ,  40.4 ,  40.7 ,  41.  ,  41.1 ,\n",
       "        41.3 ,  41.9 ,  42.  ,  42.4 ,  42.5 ,  42.6 ,  42.7 ,  42.8 ,\n",
       "        43.  ,  43.2 ,  43.4 ,  43.8 ,  44.  ,  44.7 ,  44.9 ,  45.  ,\n",
       "        46.  ,  46.8 ,  47.  ,  48.  ,  48.3 ,  48.5 ,  49.2 ,  49.4 ,\n",
       "        50.  ,  50.2 ,  51.  ,  51.8 ,  53.  ,  53.1 ,  54.  ,  54.2 ,\n",
       "        54.3 ,  55.7 ,  56.  ,  56.2 ,  58.  ,  58.4 ,  60.  ,  62.  ,\n",
       "        62.5 ,  63.  ,  64.  ,  65.  ,  66.  ,  70.  ,  75.  ,  77.  ,\n",
       "        87.2 ,  93.  ,  93.2 , 100.7 , 107.  ])"
      ]
     },
     "metadata": {},
     "output_type": "display_data"
    }
   ],
   "source": [
    "# Далее исследуем площадь кухни\n",
    "\n",
    "display(data['kitchen_area'].describe())\n",
    "data.hist('kitchen_area', bins = 100, figsize = (10, 5));\n",
    "plt.title('Площадь кухни')\n",
    "plt.show()\n",
    "kitchen_data = data.sort_values(by = 'kitchen_area')\n",
    "display(kitchen_data['kitchen_area'].unique())"
   ]
  },
  {
   "cell_type": "markdown",
   "metadata": {},
   "source": [
    "В результате анализа графика видно, что наибольшая часть квартир из таблицы имеет площадь кухни около 10.4 кв.м. Есть квартиры с площадью кухни менее 5 кв.м - скорее всего, это квартиры-студии или малосемейные квартиры."
   ]
  },
  {
   "cell_type": "code",
   "execution_count": 29,
   "metadata": {
    "scrolled": true
   },
   "outputs": [
    {
     "data": {
      "text/plain": [
       "count    2.335200e+04\n",
       "mean     6.235787e+06\n",
       "std      6.253607e+06\n",
       "min      4.300000e+05\n",
       "25%      3.450000e+06\n",
       "50%      4.650000e+06\n",
       "75%      6.799250e+06\n",
       "max      9.900000e+07\n",
       "Name: last_price, dtype: float64"
      ]
     },
     "metadata": {},
     "output_type": "display_data"
    },
    {
     "data": {
      "image/png": "[encoded data removed]",
      "text/plain": [
       "<Figure size 720x360 with 1 Axes>"
      ]
     },
     "metadata": {
      "needs_background": "light"
     },
     "output_type": "display_data"
    }
   ],
   "source": [
    "# Исследуем цену объектов\n",
    "\n",
    "display(data['last_price'].describe())\n",
    "data.hist('last_price', range = (0, 50000000), bins = 100, figsize = (10, 5));\n",
    "plt.title('Общая стоимость объекта')\n",
    "plt.show()"
   ]
  },
  {
   "cell_type": "markdown",
   "metadata": {},
   "source": [
    "Судя по графику, большая часть квартир таблицы была продана примерно за 6.25 млн. Минимальная цена за квартиру, указанная в таблице - 430 тысяч, самые дорогие объекты стоят около 100 млн и дороже. Аномальные значения цен были удалены из таблицы, чтобы они не искажали результаты исследования. "
   ]
  },
  {
   "cell_type": "code",
   "execution_count": 30,
   "metadata": {
    "scrolled": true
   },
   "outputs": [
    {
     "data": {
      "text/plain": [
       "count    23352.000000\n",
       "mean         2.075925\n",
       "std          1.026988\n",
       "min          1.000000\n",
       "25%          1.000000\n",
       "50%          2.000000\n",
       "75%          3.000000\n",
       "max          9.000000\n",
       "Name: rooms, dtype: float64"
      ]
     },
     "metadata": {},
     "output_type": "display_data"
    },
    {
     "data": {
      "image/png": "[encoded data removed]",
      "text/plain": [
       "<Figure size 720x360 with 1 Axes>"
      ]
     },
     "metadata": {
      "needs_background": "light"
     },
     "output_type": "display_data"
    },
    {
     "data": {
      "text/plain": [
       "array([1, 2, 3, 4, 5, 6, 7, 8, 9])"
      ]
     },
     "metadata": {},
     "output_type": "display_data"
    }
   ],
   "source": [
    "# Анализируем количество комнат\n",
    "\n",
    "display(data['rooms'].describe())\n",
    "data.hist('rooms', bins = 20, figsize = (10, 5));\n",
    "plt.title('Количество комнат')\n",
    "plt.show()\n",
    "rooms_data = data.sort_values(by = 'rooms')\n",
    "display(rooms_data['rooms'].unique())"
   ]
  },
  {
   "cell_type": "markdown",
   "metadata": {},
   "source": [
    "Как ни странно, наибольшая часть квартир в таблице - однокомнатные и двухкомнатные, а также чуть меньшую долю составляют трехкомнатные квартиры. Аномальные значения комнат были удалены из датасета."
   ]
  },
  {
   "cell_type": "code",
   "execution_count": 31,
   "metadata": {},
   "outputs": [
    {
     "data": {
      "text/plain": [
       "count    23352.000000\n",
       "mean         2.696352\n",
       "std          0.226442\n",
       "min          2.200000\n",
       "25%          2.600000\n",
       "50%          2.650000\n",
       "75%          2.700000\n",
       "max          8.300000\n",
       "Name: ceiling_height, dtype: float64"
      ]
     },
     "metadata": {},
     "output_type": "display_data"
    },
    {
     "data": {
      "image/png": "[encoded data removed]",
      "text/plain": [
       "<Figure size 720x360 with 1 Axes>"
      ]
     },
     "metadata": {
      "needs_background": "light"
     },
     "output_type": "display_data"
    },
    {
     "data": {
      "text/plain": [
       "array([2.2 , 2.25, 2.3 , 2.34, 2.4 , 2.45, 2.46, 2.47, 2.48, 2.49, 2.5 ,\n",
       "       2.51, 2.52, 2.53, 2.54, 2.55, 2.56, 2.57, 2.58, 2.59, 2.6 , 2.61,\n",
       "       2.62, 2.63, 2.64, 2.65, 2.66, 2.67, 2.68, 2.69, 2.7 , 2.71, 2.72,\n",
       "       2.73, 2.74, 2.75, 2.76, 2.77, 2.78, 2.79, 2.8 , 2.81, 2.82, 2.83,\n",
       "       2.84, 2.85, 2.86, 2.87, 2.88, 2.89, 2.9 , 2.91, 2.92, 2.93, 2.94,\n",
       "       2.95, 2.96, 2.97, 2.98, 2.99, 3.  , 3.01, 3.02, 3.03, 3.04, 3.05,\n",
       "       3.06, 3.07, 3.08, 3.09, 3.1 , 3.11, 3.12, 3.13, 3.14, 3.15, 3.16,\n",
       "       3.17, 3.18, 3.2 , 3.21, 3.22, 3.23, 3.24, 3.25, 3.26, 3.27, 3.28,\n",
       "       3.29, 3.3 , 3.31, 3.32, 3.33, 3.34, 3.35, 3.36, 3.37, 3.38, 3.39,\n",
       "       3.4 , 3.42, 3.44, 3.45, 3.46, 3.47, 3.48, 3.49, 3.5 , 3.51, 3.52,\n",
       "       3.53, 3.54, 3.55, 3.56, 3.57, 3.58, 3.59, 3.6 , 3.62, 3.63, 3.65,\n",
       "       3.66, 3.67, 3.68, 3.69, 3.7 , 3.75, 3.76, 3.78, 3.8 , 3.83, 3.84,\n",
       "       3.85, 3.86, 3.87, 3.88, 3.9 , 3.93, 3.95, 3.98, 4.  , 4.06, 4.1 ,\n",
       "       4.14, 4.15, 4.19, 4.2 , 4.25, 4.3 , 4.37, 4.4 , 4.45, 4.5 , 4.7 ,\n",
       "       4.8 , 5.  , 5.2 , 5.3 , 5.5 , 5.6 , 8.  , 8.3 ])"
      ]
     },
     "metadata": {},
     "output_type": "display_data"
    }
   ],
   "source": [
    "# Далее исследуем высоту потолков\n",
    "\n",
    "display(data['ceiling_height'].describe())\n",
    "data.hist('ceiling_height', bins = 10, range = (2, 10), figsize = (10, 5));\n",
    "plt.title('Высота потолка')\n",
    "plt.show()\n",
    "height_data = data.sort_values(by = 'ceiling_height')\n",
    "display(height_data['ceiling_height'].unique())"
   ]
  },
  {
   "cell_type": "markdown",
   "metadata": {},
   "source": [
    "В таблице представлены обработанные значения высоты потолков (от 2 м до 10 м, остальные удалены). Минимальная высота потолка - 2.2 м. Максимальная высота - 8.3 м. Большая часть квартир имеет высоту потолка равную 2.6 м."
   ]
  },
  {
   "cell_type": "code",
   "execution_count": 32,
   "metadata": {},
   "outputs": [
    {
     "data": {
      "text/plain": [
       "count    23352.000000\n",
       "mean         5.871831\n",
       "std          4.864704\n",
       "min          1.000000\n",
       "25%          2.000000\n",
       "50%          4.000000\n",
       "75%          8.000000\n",
       "max         33.000000\n",
       "Name: floor, dtype: float64"
      ]
     },
     "metadata": {},
     "output_type": "display_data"
    },
    {
     "data": {
      "image/png": "[encoded data removed]",
      "text/plain": [
       "<Figure size 720x360 with 1 Axes>"
      ]
     },
     "metadata": {
      "needs_background": "light"
     },
     "output_type": "display_data"
    },
    {
     "data": {
      "text/plain": [
       "array([ 1,  2,  3,  4,  5,  6,  7,  8,  9, 10, 11, 12, 13, 14, 15, 16, 17,\n",
       "       18, 19, 20, 21, 22, 23, 24, 25, 26, 27, 28, 29, 30, 31, 32, 33])"
      ]
     },
     "metadata": {},
     "output_type": "display_data"
    }
   ],
   "source": [
    "# Далее переходим к анализу этажа квартир\n",
    "\n",
    "display(data['floor'].describe())\n",
    "data.hist('floor', bins = 20, range = (0, 20), figsize = (10, 5));\n",
    "plt.title('Этаж квартиры')\n",
    "plt.show()\n",
    "floor_data = data.sort_values(by = 'floor')\n",
    "display(floor_data['floor'].unique())"
   ]
  },
  {
   "cell_type": "markdown",
   "metadata": {},
   "source": [
    "Как видно на графике, наибольшая часть квартир расположена на 1 - 6 этажах. Больше всего объявлений о продаже квартир, расположенных на втором этаже. Среднее значение этажа равно 6, самая высокая квартира расположена на 33 этаже."
   ]
  },
  {
   "cell_type": "code",
   "execution_count": 33,
   "metadata": {},
   "outputs": [
    {
     "data": {
      "image/png": "[encoded data removed]",
      "text/plain": [
       "<Figure size 432x288 with 1 Axes>"
      ]
     },
     "metadata": {
      "needs_background": "light"
     },
     "output_type": "display_data"
    }
   ],
   "source": [
    "# Исследуем типы этажей\n",
    "\n",
    "data['floor_type'].hist(bins = 3);\n",
    "plt.title('Тип этажа квартиры')\n",
    "plt.show()"
   ]
  },
  {
   "cell_type": "markdown",
   "metadata": {},
   "source": [
    "Очевидно, наибольшая часть квартир расположена ни на первом, ни на последнем этажах. Из графика видно, что квартир на последнем этаже немного больше, чем квартир с первого этажа."
   ]
  },
  {
   "cell_type": "code",
   "execution_count": 34,
   "metadata": {},
   "outputs": [
    {
     "data": {
      "text/plain": [
       "count    23352.000000\n",
       "mean        10.629325\n",
       "std          6.555768\n",
       "min          1.000000\n",
       "25%          5.000000\n",
       "50%          9.000000\n",
       "75%         16.000000\n",
       "max         60.000000\n",
       "Name: floors_total, dtype: float64"
      ]
     },
     "metadata": {},
     "output_type": "display_data"
    },
    {
     "data": {
      "image/png": "[encoded data removed]",
      "text/plain": [
       "<Figure size 720x360 with 1 Axes>"
      ]
     },
     "metadata": {
      "needs_background": "light"
     },
     "output_type": "display_data"
    },
    {
     "data": {
      "text/plain": [
       "array([ 1,  2,  3,  4,  5,  6,  7,  8,  9, 10, 11, 12, 13, 14, 15, 16, 17,\n",
       "       18, 19, 20, 21, 22, 23, 24, 25, 26, 27, 28, 29, 33, 34, 35, 36, 52,\n",
       "       60])"
      ]
     },
     "metadata": {},
     "output_type": "display_data"
    }
   ],
   "source": [
    "# Далее на очереди для анализа количество этажей\n",
    "\n",
    "display(data['floors_total'].describe())\n",
    "data.hist('floors_total', bins = 30, range = (1, 30), figsize = (10, 5));\n",
    "plt.title('Всего этажей')\n",
    "plt.show()\n",
    "floors_total_data = data.sort_values(by = 'floors_total')\n",
    "display(floors_total_data['floors_total'].unique())"
   ]
  },
  {
   "cell_type": "markdown",
   "metadata": {},
   "source": [
    "Среди объявлений, представленных в таблице, наибольшее количество зданий имеет 5 и 9 этажей. Самое высокое здание, в котором расположена одна из квартир датасета имеет 60 этажей."
   ]
  },
  {
   "cell_type": "code",
   "execution_count": 35,
   "metadata": {
    "scrolled": true
   },
   "outputs": [
    {
     "data": {
      "text/plain": [
       "count    17938.000000\n",
       "mean     14234.758167\n",
       "std       8619.606551\n",
       "min        181.000000\n",
       "25%       9289.000000\n",
       "50%      13118.000000\n",
       "75%      16298.750000\n",
       "max      65968.000000\n",
       "Name: cityCenters_nearest, dtype: float64"
      ]
     },
     "metadata": {},
     "output_type": "display_data"
    },
    {
     "data": {
      "image/png": "[encoded data removed]",
      "text/plain": [
       "<Figure size 720x360 with 1 Axes>"
      ]
     },
     "metadata": {
      "needs_background": "light"
     },
     "output_type": "display_data"
    },
    {
     "data": {
      "text/plain": [
       "array([  181.,   208.,   215., ..., 65952., 65968.,    nan])"
      ]
     },
     "metadata": {},
     "output_type": "display_data"
    }
   ],
   "source": [
    "# Переходим к изучению данных о расстоянии от квартиры до центра города, ближайшего парка и аэропорта в метрах\n",
    "\n",
    "display(data['cityCenters_nearest'].describe())\n",
    "data.hist('cityCenters_nearest', bins = 100, range = (100, 50000), figsize = (10, 5));\n",
    "plt.title('Расстояние от квартиры до центра города')\n",
    "plt.show()\n",
    "center_data = data.sort_values(by = 'cityCenters_nearest')\n",
    "display(center_data['cityCenters_nearest'].unique())"
   ]
  },
  {
   "cell_type": "markdown",
   "metadata": {},
   "source": [
    "На графике видно, что наибольшая доля квартир расположена на расстоянии от 10 до 15 км до центра города. Наибольшее значение равно примерно 66 км, наиболее близкое расстояние от квартиры до центра равно 181 м."
   ]
  },
  {
   "cell_type": "code",
   "execution_count": 36,
   "metadata": {},
   "outputs": [
    {
     "data": {
      "text/plain": [
       "count    17917.000000\n",
       "mean     28839.281520\n",
       "std      12649.276234\n",
       "min          0.000000\n",
       "25%      18574.000000\n",
       "50%      26786.000000\n",
       "75%      37351.000000\n",
       "max      84869.000000\n",
       "Name: airports_nearest, dtype: float64"
      ]
     },
     "metadata": {},
     "output_type": "display_data"
    },
    {
     "data": {
      "image/png": "[encoded data removed]",
      "text/plain": [
       "<Figure size 720x360 with 1 Axes>"
      ]
     },
     "metadata": {
      "needs_background": "light"
     },
     "output_type": "display_data"
    },
    {
     "data": {
      "text/plain": [
       "array([    0.,  6450.,  6914., ..., 84853., 84869.,    nan])"
      ]
     },
     "metadata": {},
     "output_type": "display_data"
    }
   ],
   "source": [
    "display(data['airports_nearest'].describe())\n",
    "data.hist('airports_nearest', bins = 100, range = (0, 50000), figsize = (10, 5));\n",
    "plt.title('Расстояние от квартиры до ближайшего аэропорта')\n",
    "plt.show()\n",
    "airport_data = data.sort_values(by = 'airports_nearest')\n",
    "display(airport_data['airports_nearest'].unique())"
   ]
  },
  {
   "cell_type": "markdown",
   "metadata": {},
   "source": [
    "Изучив данные, можно сделать вывод о том, что наибольшая доля квартир расположена на расстоянии 20 - 25 км от ближайшего аэропорта. В данных есть нулевое значение. Помимо него минимальное расстояние от квартиры до аэропорта равно 6450 м. Наибольшее значение расстояние от жилого помещения до аэропорта равно примерно 85 км."
   ]
  },
  {
   "cell_type": "code",
   "execution_count": 37,
   "metadata": {},
   "outputs": [
    {
     "data": {
      "text/plain": [
       "count    7978.000000\n",
       "mean      490.858110\n",
       "std       343.367296\n",
       "min         1.000000\n",
       "25%       288.000000\n",
       "50%       454.000000\n",
       "75%       612.000000\n",
       "max      3190.000000\n",
       "Name: parks_nearest, dtype: float64"
      ]
     },
     "metadata": {},
     "output_type": "display_data"
    },
    {
     "data": {
      "image/png": "[encoded data removed]",
      "text/plain": [
       "<Figure size 720x360 with 1 Axes>"
      ]
     },
     "metadata": {
      "needs_background": "light"
     },
     "output_type": "display_data"
    }
   ],
   "source": [
    "display(data['parks_nearest'].describe())\n",
    "data.hist('parks_nearest', bins = 50, range = (0, 3200), figsize = (10, 5));\n",
    "plt.title('Расстояние от квартиры до ближайшего парка')\n",
    "plt.show()"
   ]
  },
  {
   "cell_type": "markdown",
   "metadata": {},
   "source": [
    "Изучив график, можно сделать вывод о том, что большинство квартир, представленных в таблице, располагаются в пределах 1 км от ближайшего парка. Минимальное значение расстояния равно 1 м, максимальное расстояние от квартиры до парка равно 3190 м."
   ]
  },
  {
   "cell_type": "code",
   "execution_count": 38,
   "metadata": {},
   "outputs": [
    {
     "data": {
      "text/plain": [
       "count    23352.000000\n",
       "mean         2.567018\n",
       "std          1.789667\n",
       "min          0.000000\n",
       "25%          1.000000\n",
       "50%          3.000000\n",
       "75%          4.000000\n",
       "max          6.000000\n",
       "Name: publication_weekday, dtype: float64"
      ]
     },
     "metadata": {},
     "output_type": "display_data"
    },
    {
     "data": {
      "image/png": "[encoded data removed]",
      "text/plain": [
       "<Figure size 720x360 with 1 Axes>"
      ]
     },
     "metadata": {
      "needs_background": "light"
     },
     "output_type": "display_data"
    }
   ],
   "source": [
    "# Переходим к изучению данных, связанных с днем недели и месяцем публикации объявлений\n",
    "\n",
    "\n",
    "display(data['publication_weekday'].describe())\n",
    "data.hist('publication_weekday', bins = 50, range = (0, 6), figsize = (10, 5));\n",
    "plt.title('Зависимость цен от дня публикации')\n",
    "plt.show()"
   ]
  },
  {
   "cell_type": "markdown",
   "metadata": {},
   "source": [
    "По графику видно, что объявления реже публикуются в выходные дни. Чаще всего объявления о продаже публикуются во вторник и четверг."
   ]
  },
  {
   "cell_type": "code",
   "execution_count": 39,
   "metadata": {},
   "outputs": [
    {
     "data": {
      "text/plain": [
       "count    23352.000000\n",
       "mean         6.397525\n",
       "std          3.490781\n",
       "min          1.000000\n",
       "25%          3.000000\n",
       "50%          6.000000\n",
       "75%         10.000000\n",
       "max         12.000000\n",
       "Name: publication_month, dtype: float64"
      ]
     },
     "metadata": {},
     "output_type": "display_data"
    },
    {
     "data": {
      "image/png": "[encoded data removed]",
      "text/plain": [
       "<Figure size 720x360 with 1 Axes>"
      ]
     },
     "metadata": {
      "needs_background": "light"
     },
     "output_type": "display_data"
    }
   ],
   "source": [
    "display(data['publication_month'].describe())\n",
    "data.hist('publication_month', bins = 50, range = (1, 12), figsize = (10, 5));\n",
    "plt.title('Зависимость цен от месяца публикации')\n",
    "plt.show()"
   ]
  },
  {
   "cell_type": "markdown",
   "metadata": {},
   "source": [
    "Судя по графику, меньше всего объявлений опубликовано в мае, январе и декабре, а больше всего в феврале, марте, апреле и ноябре."
   ]
  },
  {
   "cell_type": "code",
   "execution_count": 40,
   "metadata": {},
   "outputs": [
    {
     "data": {
      "text/plain": [
       "count    20207.000000\n",
       "mean       181.126293\n",
       "std        219.837106\n",
       "min          1.000000\n",
       "25%         45.000000\n",
       "50%         96.000000\n",
       "75%        232.000000\n",
       "max       1580.000000\n",
       "Name: days_exposition, dtype: float64"
      ]
     },
     "metadata": {},
     "output_type": "display_data"
    },
    {
     "data": {
      "image/png": "[encoded data removed]",
      "text/plain": [
       "<Figure size 720x360 with 1 Axes>"
      ]
     },
     "metadata": {
      "needs_background": "light"
     },
     "output_type": "display_data"
    },
    {
     "name": "stdout",
     "output_type": "stream",
     "text": [
      "Медианное значение: 96.0\n",
      "Среднее значение: 181.12629286880784\n"
     ]
    }
   ],
   "source": [
    "# Изучаем, как быстро продавались квартиры. Для этого построим гистограмму, вычислим среднее и медианное значения.\n",
    "display(data['days_exposition'].describe())\n",
    "data['days_exposition'].hist(bins = 100, range = (1, 100), figsize = (10, 5));\n",
    "plt.title('Скорость продажи квартир')\n",
    "plt.show()\n",
    "print('Медианное значение:', data['days_exposition'].median())\n",
    "print('Среднее значение:', data['days_exposition'].mean())"
   ]
  },
  {
   "cell_type": "markdown",
   "metadata": {},
   "source": [
    "В результате анализа можно сказать, что продажа квартиры занимает обычно от сорока до двухсот дней с момента публикации объявления. В таблице представлены квартиры, которые были проданы как быстрее обычного (до 40 дней), так и намного дольше (более 4 лет). Среднее время, которое \"висит\" объявление о продаже квартиры, равняется примерно 180 дням. В то же время медианное значение равно 95. Медиана более устойчива к аномальным значениям и выбросам, а значит является более объективным показателем."
   ]
  },
  {
   "cell_type": "code",
   "execution_count": 41,
   "metadata": {},
   "outputs": [
    {
     "name": "stdout",
     "output_type": "stream",
     "text": [
      "0.7612466588319027\n"
     ]
    }
   ],
   "source": [
    "# Выясним, какие факторы больше всего влияют на общую (полную) стоимость объекта. Начнем с общей площади.\n",
    "\n",
    "print(data['last_price'].corr(data['total_area']))"
   ]
  },
  {
   "cell_type": "markdown",
   "metadata": {},
   "source": [
    "Зависимость между общей площадью объекта и его ценой существует. Это подтверждается тем, что коэффициент корреляции больше 0.5"
   ]
  },
  {
   "cell_type": "code",
   "execution_count": 42,
   "metadata": {},
   "outputs": [
    {
     "data": {
      "image/png": "[encoded data removed]",
      "text/plain": [
       "<Figure size 864x432 with 1 Axes>"
      ]
     },
     "metadata": {
      "needs_background": "light"
     },
     "output_type": "display_data"
    }
   ],
   "source": [
    "# Построим диаграмму рассеяния. На оси х отметим значения площади, на оси у - цены. \n",
    "\n",
    "(data\n",
    "    .query('total_area < 400')\n",
    "    .plot(x='total_area', y='last_price', \n",
    "          ylim=(0, 40000000), style='o', grid=True, figsize=(12, 6))\n",
    ")\n",
    "plt.title('Зависимость цены от общей площади')\n",
    "plt.show()"
   ]
  },
  {
   "cell_type": "markdown",
   "metadata": {},
   "source": [
    "На диаграмме видна прямая зависимость цены объекта от его площади. Цены квартир общей площадью выше 150 кв м очень редко опускается ниже 10 млн рублей."
   ]
  },
  {
   "cell_type": "code",
   "execution_count": 43,
   "metadata": {},
   "outputs": [
    {
     "name": "stdout",
     "output_type": "stream",
     "text": [
      "0.6259979367794565\n"
     ]
    }
   ],
   "source": [
    "print(data['last_price'].corr(data['living_area']))"
   ]
  },
  {
   "cell_type": "markdown",
   "metadata": {},
   "source": [
    "Зависимость есть, но менее значительная"
   ]
  },
  {
   "cell_type": "code",
   "execution_count": 44,
   "metadata": {
    "scrolled": true
   },
   "outputs": [
    {
     "data": {
      "image/png": "[encoded data removed]",
      "text/plain": [
       "<Figure size 864x432 with 1 Axes>"
      ]
     },
     "metadata": {
      "needs_background": "light"
     },
     "output_type": "display_data"
    }
   ],
   "source": [
    "# Строим диаграмму рассеяния для исследования зависимости цены на недвижимость от ее жилой площади.\n",
    "(data\n",
    "    .query('living_area < 150')\n",
    "    .plot(x='living_area', y='last_price', \n",
    "          ylim=(0, 50000000), style='o', grid=True, figsize=(12, 6))\n",
    ")\n",
    "plt.title('Зависимость цены от жилой площади')\n",
    "plt.show()"
   ]
  },
  {
   "cell_type": "markdown",
   "metadata": {},
   "source": [
    "На графике видно, что стоимость недвижимости площадью более 110 кв м не опускается ниже 10 млн р."
   ]
  },
  {
   "cell_type": "code",
   "execution_count": 45,
   "metadata": {
    "scrolled": true
   },
   "outputs": [
    {
     "name": "stdout",
     "output_type": "stream",
     "text": [
      "Коэффициент корреляции равен 0.5486078633278703\n"
     ]
    },
    {
     "data": {
      "image/png": "[encoded data removed]",
      "text/plain": [
       "<Figure size 864x432 with 1 Axes>"
      ]
     },
     "metadata": {
      "needs_background": "light"
     },
     "output_type": "display_data"
    }
   ],
   "source": [
    "# Переходим к исследованию зависимости цены от площади кухни\n",
    "\n",
    "print('Коэффициент корреляции равен', data['last_price'].corr(data['kitchen_area']))\n",
    "\n",
    "(data\n",
    "     .query('kitchen_area < 30')\n",
    "     .plot(x='kitchen_area', y='last_price',\n",
    "          ylim=(0, 50000000), style='o', grid=True, figsize=(12, 6))\n",
    ")\n",
    "plt.title('Зависимость цены от площади кухни')\n",
    "plt.show()"
   ]
  },
  {
   "cell_type": "markdown",
   "metadata": {},
   "source": [
    "Судя по графику, можно сказать, что зависимость цены объекта от площади кухни незначительна. Тем не менее, цена квартиры растет (совсем немного) с увеличением площади ее кухни."
   ]
  },
  {
   "cell_type": "code",
   "execution_count": 46,
   "metadata": {},
   "outputs": [
    {
     "name": "stdout",
     "output_type": "stream",
     "text": [
      "Коэффициент корреляции равен 0.4657453217477878\n"
     ]
    },
    {
     "data": {
      "image/png": "[encoded data removed]",
      "text/plain": [
       "<Figure size 864x360 with 1 Axes>"
      ]
     },
     "metadata": {
      "needs_background": "light"
     },
     "output_type": "display_data"
    }
   ],
   "source": [
    "# Изучаем зависимость цены от количества комнат\n",
    "# вариант построения графика с помощью сводной таблицы из материалов урока по визуализации\n",
    "\n",
    "print('Коэффициент корреляции равен', data['last_price'].corr(data['rooms']))\n",
    "\n",
    "(\n",
    "    data.query('last_price < 50000000 and 0 < rooms < 10')\n",
    "    .pivot_table(index='rooms', values='last_price', aggfunc='median')\n",
    "    .plot(style = '-', grid=True, figsize=(12, 5))\n",
    ");\n",
    "plt.title('Зависимость цены от количества комнат')\n",
    "plt.show()"
   ]
  },
  {
   "cell_type": "markdown",
   "metadata": {},
   "source": [
    "На графике видно, что в среднем медианные значения цен на квартиры растут вместе с увеличением количества комнат."
   ]
  },
  {
   "cell_type": "code",
   "execution_count": 47,
   "metadata": {
    "scrolled": false
   },
   "outputs": [
    {
     "data": {
      "image/png": "[encoded data removed]",
      "text/plain": [
       "<Figure size 864x360 with 1 Axes>"
      ]
     },
     "metadata": {
      "needs_background": "light"
     },
     "output_type": "display_data"
    }
   ],
   "source": [
    "# Зависимость цены от этажа, на котором находится объект\n",
    "\n",
    "(\n",
    "    data.query('last_price < 50000000')\n",
    "        .pivot_table(index = 'floor_type', values = 'last_price', aggfunc = 'median')\n",
    "        .plot(style = 'o-', grid=True, figsize = (12, 5))\n",
    ");\n",
    "plt.title('Зависимость цены от типа этажа')\n",
    "plt.show()"
   ]
  },
  {
   "cell_type": "markdown",
   "metadata": {},
   "source": [
    "Квартиры, расположенные на первом и на последнем этаже существенно дешевле остальных. При этом, наиболее дешевые объекты находятся на первом этаже. Отсюда следует вывод о том, что цена квартиры существенно зависит от этажа, на котором она расположена. "
   ]
  },
  {
   "cell_type": "code",
   "execution_count": 48,
   "metadata": {},
   "outputs": [
    {
     "data": {
      "image/png": "[encoded data removed]",
      "text/plain": [
       "<Figure size 864x360 with 1 Axes>"
      ]
     },
     "metadata": {
      "needs_background": "light"
     },
     "output_type": "display_data"
    }
   ],
   "source": [
    "# Зависимость цены от дня недели публикации\n",
    "(\n",
    "    data.query('last_price < 50000000')\n",
    "        .pivot_table(index = 'publication_weekday', values = 'last_price', aggfunc = 'median')\n",
    "        .plot(style = 'o-', grid=True, figsize = (12, 5))\n",
    ");\n",
    "plt.title('Зависимость цены от дня недели публикации')\n",
    "plt.show()"
   ]
  },
  {
   "cell_type": "markdown",
   "metadata": {},
   "source": [
    "На графике видно, что публикации о продаже более дорогих объектов появляются чаще всего в начале недели, а публикации о продаже наиболее дешевых квартир - в конце недели. "
   ]
  },
  {
   "cell_type": "code",
   "execution_count": 49,
   "metadata": {},
   "outputs": [
    {
     "data": {
      "image/png": "[encoded data removed]",
      "text/plain": [
       "<Figure size 864x360 with 1 Axes>"
      ]
     },
     "metadata": {
      "needs_background": "light"
     },
     "output_type": "display_data"
    }
   ],
   "source": [
    "# Зависимость цены от месяца публикации\n",
    "(\n",
    "    data.query('last_price < 50000000')\n",
    "        .pivot_table(index = 'publication_month', values = 'last_price', aggfunc = 'median')\n",
    "        .plot(style = 'o-', grid=True, figsize = (12, 5))\n",
    ");\n",
    "plt.title('Зависимость цены от месяца публикации')\n",
    "plt.show()"
   ]
  },
  {
   "cell_type": "markdown",
   "metadata": {},
   "source": [
    "В среднем, объявления о продаже самых дорогих квартир выложены в апреле, а самых дешевых - в мае и июне."
   ]
  },
  {
   "cell_type": "code",
   "execution_count": 50,
   "metadata": {},
   "outputs": [
    {
     "data": {
      "image/png": "[encoded data removed]",
      "text/plain": [
       "<Figure size 864x360 with 1 Axes>"
      ]
     },
     "metadata": {
      "needs_background": "light"
     },
     "output_type": "display_data"
    }
   ],
   "source": [
    "# Зависимость цены от года публикации\n",
    "(\n",
    "    data.query('last_price < 50000000')\n",
    "        .pivot_table(index = 'publication_year', values = 'last_price', aggfunc = 'median')\n",
    "        .plot(style = 'o-', grid=True, figsize = (12, 5))\n",
    ");\n",
    "plt.title('Зависимость цены от года публикации')\n",
    "plt.show()"
   ]
  },
  {
   "cell_type": "markdown",
   "metadata": {},
   "source": [
    "Цены на квартиры сильно упали после 2014 года, но начали расти с 2018 года."
   ]
  },
  {
   "cell_type": "code",
   "execution_count": 51,
   "metadata": {},
   "outputs": [
    {
     "data": {
      "text/plain": [
       "Санкт-Петербург      15529\n",
       "поселок Мурино         528\n",
       "поселок Шушары         436\n",
       "Всеволожск             391\n",
       "Пушкин                 369\n",
       "Колпино                338\n",
       "поселок Парголово      323\n",
       "Гатчина                306\n",
       "деревня Кудрово        283\n",
       "Выборг                 235\n",
       "Name: locality_name, dtype: int64"
      ]
     },
     "metadata": {},
     "output_type": "display_data"
    }
   ],
   "source": [
    "# Посчитаем среднюю цену одного квадратного метра в 10 населённых пунктах с наибольшим числом объявлений.\n",
    "\n",
    "locality_top = data['locality_name'].value_counts().sort_values(ascending=False).head(10)\n",
    "display(locality_top)"
   ]
  },
  {
   "cell_type": "code",
   "execution_count": 52,
   "metadata": {},
   "outputs": [
    {
     "data": {
      "image/png": "[encoded data removed]",
      "text/plain": [
       "<Figure size 432x288 with 1 Axes>"
      ]
     },
     "metadata": {
      "needs_background": "light"
     },
     "output_type": "display_data"
    }
   ],
   "source": [
    "# Построим столбчатую диаграмму. \n",
    "(\n",
    "    data.query('locality_name in @locality_top.index')\n",
    "        .pivot_table(index='locality_name', values='price_per_square', aggfunc='median')\n",
    "        .sort_values('price_per_square')\n",
    "        .plot(kind='bar')\n",
    ");\n",
    "plt.title('Зависимость средней цены одного квадратного метра в 10 населённых пунктах с наибольшим числом объявлений')\n",
    "plt.show()"
   ]
  },
  {
   "cell_type": "markdown",
   "metadata": {},
   "source": [
    "Самая высокая цена за квадратный метр у квартир Санкт-Петербурга, а самая низкая цена за квадратный метр в Выборге."
   ]
  },
  {
   "cell_type": "code",
   "execution_count": 54,
   "metadata": {},
   "outputs": [
    {
     "data": {
      "image/png": "[encoded data removed]",
      "text/plain": [
       "<Figure size 864x360 with 1 Axes>"
      ]
     },
     "metadata": {
      "needs_background": "light"
     },
     "output_type": "display_data"
    }
   ],
   "source": [
    "# Отразим среднюю цену каждого километра для квартир в Санкт-Петербурге на графике\n",
    "\n",
    "(\n",
    "    data.query('locality_name == \"Санкт-Петербург\"')\n",
    "        .pivot_table(index = 'center_kms', values = 'price_per_square', aggfunc = 'median')\n",
    "        .plot(style = 'o-', grid=True, figsize = (12, 5))\n",
    ");"
   ]
  },
  {
   "cell_type": "markdown",
   "metadata": {},
   "source": [
    "\n",
    "Как мы можем видеть на графике, самая высокая средняя стоимость километра от центра у тех квартир, которые расположены ближе всего к центру. Цены за каждый километр от центра в среднем не меняется для квартир, расположенных от центра дальше чем на 10 км. Мы можем сделать вывод: чем дальше от центра города расположена квартира, тем ниже её общая стоимость.\n",
    "\n"
   ]
  },
  {
   "cell_type": "markdown",
   "metadata": {},
   "source": [
    "### Общий вывод"
   ]
  },
  {
   "cell_type": "markdown",
   "metadata": {},
   "source": [
    "1) В ходе исследовательского анализа объявлений о продаже квартир была изучена и обработана таблица из 23699 строк и 22 столбцов: \n",
    "\n",
    "    - Датасет проверен на количество и долю (в процентах) пропусков в каждом столбце. Устранены пропуски в столбцах 'is_apartment', 'balcony', 'kitchen_area', 'locality_name', 'ceiling_height', 'floors_total', 'living_area'; \n",
    "    - В столбцах 'balcony', 'floors_total' и 'first_day_exposition' был изменен тип данных;\n",
    "    - В столбце 'locality_name' были выявлены и устранены неявные дубликаты;\n",
    "    - Аномальные значения в столбцах со значениями стоимости квартир, количеством комнат и общей площадью были также выявлены и отброшены. \n",
    "\n",
    "   В результате предобработки данных удалено 347 строк, что составляет всего 1.4%.\n",
    "\n",
    "2) После предобработки в датасет были добавлены столбцы с необходимой для анализа информацией:\n",
    "    \n",
    "    - цена одного квадратного метра;\n",
    "    - день публикации объявления;\n",
    "    - месяц публикации объявления;\n",
    "    - год публикации объявления;\n",
    "    - тип этажа квартиры;\n",
    "    - расстояние в км до центра города;\n",
    "    \n",
    "3) Далее были изучены и описаны параметры общей площади, жилой площади, площади кухни, цены объектов, количества комнат, высоты потолков, этажа квартиры, общего количества этажей в домах, дня и месяца публикаций, а также расстояния от объекта до ближайшего аэропорта, парка и центра города. Для каждого параметра построен график (гистограмма), в результате анализа которых можно сделать несколько выводов:\n",
    "    \n",
    "    - Среди 23352 квартир больше всего помещений площадью около 60 кв.м, большая часть квартир имеет жилую площадь около 34 кв.м, площадь кухни в среднем составляет 10.4 кв.м;\n",
    "    - Большая часть квартир была продана примерно за 6.25 млн рублей;\n",
    "    - Наибольшая часть квартир в таблице - однокомнатные и двухкомнатные;\n",
    "    - Средняя высота потолка равна 2.6 м;\n",
    "    - Больше всего объявлений о продаже квартир, расположенных на втором этаже;\n",
    "    - Наибольшая часть квартир расположена ни на первом, ни на последнем этажах. Квартир на последнем этаже немного больше, чем квартир с первого этажа;\n",
    "    - Среди объявлений, представленных в таблице, наибольшее количество зданий имеет 5 и 9 этажей;\n",
    "    - Большинство квартир расположено на расстоянии от 10 до 15 км до центра города, от 20 до 25 км до ближайшего аэропорта и около 1 км до ближайшего парка;\n",
    "    - Объявления реже публикуются в выходные дни. Чаще всего объявления о продаже публикуются во вторник и четверг. Меньше всего объявлений опубликовано в мае, январе и декабре, а больше всего в феврале, марте, апреле и ноябре.\n",
    "    \n",
    "4) Далее была исследована скорость продажи квартир. В результате исследования можно сказать, что продажа квартиры занимает обычно от сорока до двухсот дней с момента публикации объявления. В таблице представлены квартиры, которые были проданы как быстрее обычного (до 40 дней), так и намного дольше (более 4 лет). Среднее время, которое \"висит\" объявление о продаже квартиры, равняется примерно 180 дням. В то же время медианное значение равно 95. Медиана более устойчива к аномальным значениям и выбросам, а значит является более объективным показателем.\n",
    "\n",
    "5) Следующим этапом исследования был анализ зависимости общей стоимости квартиры от её площади, площади кухни, количества комнат, типа этажа, на котором она расположена, а также даты размещения объявления о ее продаже. Выводы следующие:\n",
    "\n",
    "    - Цена квартиры значительно зависит от её общей и жилой площади, от количества комнат и типа этажа (самые дешевые квартиры расположены на первом этаже);\n",
    "    - Цена квартиры практически не зависит от площади её кухни;\n",
    "    - Объявления о продаже наиболее дорогих квартир появляются чаще всего в начале недели, а публикации о продаже наиболее дешевых квартир - в конце недели. Дороже всего квартиры были проданы в апреле, а самые дешевые были проданы в мае и июне. Цены на квартиры сильно упали после 2014 года, но начали расти с 2018 года.\n",
    "\n",
    "6) Далее была успешно посчитана средняя цена одного квадратного метра в 10 населённых пунктах с наибольшим числом объявлений. Оказалось, что самая высокая цена за квадратный метр у квартир Санкт-Петербурга, а самая низкая цена за квадратный метр в Выборге.\n",
    "\n",
    "7) Заключительным этапом исследования стал анализ средней стоимости каждого километра от объекта до центра Санкт-Петербурга. В результате анализа можно сделать логичный вывод о том, что чем дальше от центра города расположена квартира, тем ниже её общая стоимость."
   ]
  }
 ],
 "metadata": {
  "ExecuteTimeLog": [
   {
    "duration": 626,
    "start_time": "2023-03-15T18:42:36.119Z"
   },
   {
    "duration": 129,
    "start_time": "2023-03-15T18:43:54.281Z"
   },
   {
    "duration": 2226,
    "start_time": "2023-03-15T18:44:42.635Z"
   },
   {
    "duration": 1898,
    "start_time": "2023-03-15T18:46:40.243Z"
   },
   {
    "duration": 1964,
    "start_time": "2023-03-15T18:47:53.891Z"
   },
   {
    "duration": 192,
    "start_time": "2023-03-15T18:48:38.098Z"
   },
   {
    "duration": 1872,
    "start_time": "2023-03-15T18:49:04.283Z"
   },
   {
    "duration": 1903,
    "start_time": "2023-03-15T18:49:47.897Z"
   },
   {
    "duration": 10,
    "start_time": "2023-03-15T18:53:22.313Z"
   },
   {
    "duration": 8,
    "start_time": "2023-03-15T18:54:11.313Z"
   },
   {
    "duration": 3084,
    "start_time": "2023-03-16T18:49:20.990Z"
   },
   {
    "duration": 211,
    "start_time": "2023-03-16T18:50:04.815Z"
   },
   {
    "duration": 14,
    "start_time": "2023-03-16T18:51:49.191Z"
   },
   {
    "duration": 9,
    "start_time": "2023-03-16T18:54:35.457Z"
   },
   {
    "duration": 7,
    "start_time": "2023-03-16T19:07:50.404Z"
   },
   {
    "duration": 6,
    "start_time": "2023-03-16T19:08:43.898Z"
   },
   {
    "duration": 15,
    "start_time": "2023-03-16T19:08:55.774Z"
   },
   {
    "duration": 9,
    "start_time": "2023-03-16T19:16:36.785Z"
   },
   {
    "duration": 38,
    "start_time": "2023-03-16T19:16:52.765Z"
   },
   {
    "duration": 600,
    "start_time": "2023-03-31T09:32:36.497Z"
   },
   {
    "duration": 5,
    "start_time": "2023-03-31T09:33:26.525Z"
   },
   {
    "duration": 6,
    "start_time": "2023-03-31T09:33:44.488Z"
   },
   {
    "duration": 5,
    "start_time": "2023-03-31T09:34:08.536Z"
   },
   {
    "duration": 5,
    "start_time": "2023-03-31T09:34:54.090Z"
   },
   {
    "duration": 105,
    "start_time": "2023-03-31T09:40:39.855Z"
   },
   {
    "duration": 6,
    "start_time": "2023-03-31T09:42:01.121Z"
   },
   {
    "duration": 38,
    "start_time": "2023-03-31T09:47:06.381Z"
   },
   {
    "duration": 42,
    "start_time": "2023-03-31T09:47:22.275Z"
   },
   {
    "duration": 117,
    "start_time": "2023-03-31T09:52:52.814Z"
   },
   {
    "duration": 49,
    "start_time": "2023-03-31T09:58:16.764Z"
   },
   {
    "duration": 46,
    "start_time": "2023-03-31T09:58:32.962Z"
   },
   {
    "duration": 65,
    "start_time": "2023-03-31T09:58:40.521Z"
   },
   {
    "duration": 2376,
    "start_time": "2023-03-31T09:59:37.083Z"
   },
   {
    "duration": 52,
    "start_time": "2023-04-04T08:22:05.154Z"
   },
   {
    "duration": 2792,
    "start_time": "2023-04-04T08:22:11.854Z"
   },
   {
    "duration": 39,
    "start_time": "2023-04-04T08:22:26.605Z"
   },
   {
    "duration": 11,
    "start_time": "2023-04-04T08:22:50.068Z"
   },
   {
    "duration": 6,
    "start_time": "2023-04-04T08:43:19.175Z"
   },
   {
    "duration": 2091,
    "start_time": "2023-04-04T08:44:50.327Z"
   },
   {
    "duration": 1954,
    "start_time": "2023-04-04T08:47:23.917Z"
   },
   {
    "duration": 1847,
    "start_time": "2023-04-04T08:47:40.624Z"
   },
   {
    "duration": 57,
    "start_time": "2023-04-04T16:40:28.081Z"
   },
   {
    "duration": 3268,
    "start_time": "2023-04-04T16:40:36.527Z"
   },
   {
    "duration": 2262,
    "start_time": "2023-04-04T16:40:46.553Z"
   },
   {
    "duration": 34,
    "start_time": "2023-04-04T16:40:53.260Z"
   },
   {
    "duration": 21,
    "start_time": "2023-04-04T17:20:17.540Z"
   },
   {
    "duration": 2279,
    "start_time": "2023-04-04T17:27:38.035Z"
   },
   {
    "duration": 6,
    "start_time": "2023-04-04T17:29:41.393Z"
   },
   {
    "duration": 7,
    "start_time": "2023-04-04T17:30:18.457Z"
   },
   {
    "duration": 49,
    "start_time": "2023-04-04T17:30:26.146Z"
   },
   {
    "duration": 9,
    "start_time": "2023-04-04T17:31:17.796Z"
   },
   {
    "duration": 6,
    "start_time": "2023-04-04T17:32:25.609Z"
   },
   {
    "duration": 6,
    "start_time": "2023-04-04T17:34:59.112Z"
   },
   {
    "duration": 18,
    "start_time": "2023-04-04T18:10:45.280Z"
   },
   {
    "duration": 21,
    "start_time": "2023-04-04T18:25:05.599Z"
   },
   {
    "duration": 2188,
    "start_time": "2023-04-04T18:48:40.019Z"
   },
   {
    "duration": 17,
    "start_time": "2023-04-04T18:48:58.656Z"
   },
   {
    "duration": 2883,
    "start_time": "2023-04-04T18:54:43.793Z"
   },
   {
    "duration": 20,
    "start_time": "2023-04-04T18:54:58.200Z"
   },
   {
    "duration": 6,
    "start_time": "2023-04-04T19:18:36.171Z"
   },
   {
    "duration": 3651,
    "start_time": "2023-04-05T13:12:20.896Z"
   },
   {
    "duration": 93,
    "start_time": "2023-04-05T13:15:19.518Z"
   },
   {
    "duration": 9,
    "start_time": "2023-04-05T13:15:24.729Z"
   },
   {
    "duration": 2525,
    "start_time": "2023-04-05T13:15:38.510Z"
   },
   {
    "duration": 37,
    "start_time": "2023-04-05T13:15:44.464Z"
   },
   {
    "duration": 19,
    "start_time": "2023-04-05T13:15:45.683Z"
   },
   {
    "duration": 9,
    "start_time": "2023-04-05T13:15:46.011Z"
   },
   {
    "duration": 8,
    "start_time": "2023-04-05T13:15:52.918Z"
   },
   {
    "duration": 6,
    "start_time": "2023-04-05T13:19:04.984Z"
   },
   {
    "duration": 36,
    "start_time": "2023-04-05T13:31:45.443Z"
   },
   {
    "duration": 10,
    "start_time": "2023-04-05T13:31:46.188Z"
   },
   {
    "duration": 36,
    "start_time": "2023-04-05T13:31:46.783Z"
   },
   {
    "duration": 11,
    "start_time": "2023-04-05T15:41:54.528Z"
   },
   {
    "duration": 18,
    "start_time": "2023-04-05T15:42:03.354Z"
   },
   {
    "duration": 14,
    "start_time": "2023-04-05T15:43:11.958Z"
   },
   {
    "duration": 12,
    "start_time": "2023-04-05T15:43:23.722Z"
   },
   {
    "duration": 9,
    "start_time": "2023-04-05T15:43:57.936Z"
   },
   {
    "duration": 60,
    "start_time": "2023-04-05T15:46:09.139Z"
   },
   {
    "duration": 10,
    "start_time": "2023-04-05T15:46:25.868Z"
   },
   {
    "duration": 14,
    "start_time": "2023-04-05T15:46:45.835Z"
   },
   {
    "duration": 19,
    "start_time": "2023-04-05T15:46:59.401Z"
   },
   {
    "duration": 8,
    "start_time": "2023-04-05T15:47:09.817Z"
   },
   {
    "duration": 13,
    "start_time": "2023-04-05T15:50:10.413Z"
   },
   {
    "duration": 24,
    "start_time": "2023-04-05T15:50:30.735Z"
   },
   {
    "duration": 197,
    "start_time": "2023-04-05T15:57:06.030Z"
   },
   {
    "duration": 120,
    "start_time": "2023-04-05T15:59:39.479Z"
   },
   {
    "duration": 112,
    "start_time": "2023-04-05T16:00:43.005Z"
   },
   {
    "duration": 125,
    "start_time": "2023-04-05T16:01:00.692Z"
   },
   {
    "duration": 149,
    "start_time": "2023-04-05T16:08:36.937Z"
   },
   {
    "duration": 170,
    "start_time": "2023-04-05T16:08:52.785Z"
   },
   {
    "duration": 139,
    "start_time": "2023-04-05T16:17:14.978Z"
   },
   {
    "duration": 113,
    "start_time": "2023-04-05T16:18:18.796Z"
   },
   {
    "duration": 3063,
    "start_time": "2023-04-05T16:18:44.473Z"
   },
   {
    "duration": 155,
    "start_time": "2023-04-05T16:18:55.907Z"
   },
   {
    "duration": 114,
    "start_time": "2023-04-05T16:20:01.085Z"
   },
   {
    "duration": 136,
    "start_time": "2023-04-05T16:24:11.194Z"
   },
   {
    "duration": 118,
    "start_time": "2023-04-05T16:28:51.619Z"
   },
   {
    "duration": 133,
    "start_time": "2023-04-05T16:31:04.416Z"
   },
   {
    "duration": 115,
    "start_time": "2023-04-05T16:37:59.904Z"
   },
   {
    "duration": 113,
    "start_time": "2023-04-05T16:38:40.723Z"
   },
   {
    "duration": 113,
    "start_time": "2023-04-05T16:39:34.687Z"
   },
   {
    "duration": 132,
    "start_time": "2023-04-05T16:40:31.502Z"
   },
   {
    "duration": 131,
    "start_time": "2023-04-05T16:40:46.075Z"
   },
   {
    "duration": 127,
    "start_time": "2023-04-05T16:40:53.392Z"
   },
   {
    "duration": 127,
    "start_time": "2023-04-05T16:41:00.820Z"
   },
   {
    "duration": 119,
    "start_time": "2023-04-05T16:41:07.591Z"
   },
   {
    "duration": 144,
    "start_time": "2023-04-05T16:41:35.895Z"
   },
   {
    "duration": 160,
    "start_time": "2023-04-05T16:41:55.110Z"
   },
   {
    "duration": 160,
    "start_time": "2023-04-05T16:42:59.225Z"
   },
   {
    "duration": 3249,
    "start_time": "2023-04-05T16:44:31.173Z"
   },
   {
    "duration": 164,
    "start_time": "2023-04-05T16:44:37.056Z"
   },
   {
    "duration": 1808,
    "start_time": "2023-04-05T16:44:58.124Z"
   },
   {
    "duration": 3062,
    "start_time": "2023-04-05T16:45:23.330Z"
   },
   {
    "duration": 1525,
    "start_time": "2023-04-05T16:46:05.663Z"
   },
   {
    "duration": 2385,
    "start_time": "2023-04-05T16:46:23.785Z"
   },
   {
    "duration": 18,
    "start_time": "2023-04-05T16:46:26.173Z"
   },
   {
    "duration": 126,
    "start_time": "2023-04-05T16:46:26.304Z"
   },
   {
    "duration": 34,
    "start_time": "2023-04-05T16:46:26.556Z"
   },
   {
    "duration": 1590,
    "start_time": "2023-04-05T16:48:46.413Z"
   },
   {
    "duration": 2220,
    "start_time": "2023-04-05T16:48:53.339Z"
   },
   {
    "duration": 18,
    "start_time": "2023-04-05T16:48:55.562Z"
   },
   {
    "duration": 133,
    "start_time": "2023-04-05T16:48:55.581Z"
   },
   {
    "duration": 50,
    "start_time": "2023-04-05T16:48:55.717Z"
   },
   {
    "duration": 123,
    "start_time": "2023-04-05T16:55:41.157Z"
   },
   {
    "duration": 123,
    "start_time": "2023-04-05T16:56:39.811Z"
   },
   {
    "duration": 6,
    "start_time": "2023-04-05T17:01:38.885Z"
   },
   {
    "duration": 7,
    "start_time": "2023-04-05T17:03:04.221Z"
   },
   {
    "duration": 17,
    "start_time": "2023-04-05T17:09:28.066Z"
   },
   {
    "duration": 10,
    "start_time": "2023-04-05T17:09:34.292Z"
   },
   {
    "duration": 5,
    "start_time": "2023-04-05T17:10:11.298Z"
   },
   {
    "duration": 129,
    "start_time": "2023-04-05T17:10:43.778Z"
   },
   {
    "duration": 5,
    "start_time": "2023-04-05T17:10:53.715Z"
   },
   {
    "duration": 1756,
    "start_time": "2023-04-05T17:15:39.043Z"
   },
   {
    "duration": 2295,
    "start_time": "2023-04-05T17:15:53.115Z"
   },
   {
    "duration": 45,
    "start_time": "2023-04-05T17:15:55.412Z"
   },
   {
    "duration": 134,
    "start_time": "2023-04-05T17:15:55.458Z"
   },
   {
    "duration": 5,
    "start_time": "2023-04-05T17:15:55.595Z"
   },
   {
    "duration": 28,
    "start_time": "2023-04-05T17:20:05.740Z"
   },
   {
    "duration": 5,
    "start_time": "2023-04-05T17:23:26.658Z"
   },
   {
    "duration": 5,
    "start_time": "2023-04-05T17:23:41.709Z"
   },
   {
    "duration": 9,
    "start_time": "2023-04-05T17:23:58.277Z"
   },
   {
    "duration": 4235,
    "start_time": "2023-04-05T17:25:00.691Z"
   },
   {
    "duration": 1769,
    "start_time": "2023-04-05T17:25:09.527Z"
   },
   {
    "duration": 1923,
    "start_time": "2023-04-05T17:25:29.056Z"
   },
   {
    "duration": 12,
    "start_time": "2023-04-05T17:28:33.959Z"
   },
   {
    "duration": 1670,
    "start_time": "2023-04-05T17:28:45.340Z"
   },
   {
    "duration": 1725,
    "start_time": "2023-04-05T17:29:13.594Z"
   },
   {
    "duration": 2085,
    "start_time": "2023-04-05T17:29:53.091Z"
   },
   {
    "duration": 18,
    "start_time": "2023-04-05T17:29:55.179Z"
   },
   {
    "duration": 132,
    "start_time": "2023-04-05T17:29:55.360Z"
   },
   {
    "duration": 1519,
    "start_time": "2023-04-05T17:31:03.138Z"
   },
   {
    "duration": 1606,
    "start_time": "2023-04-05T17:33:24.537Z"
   },
   {
    "duration": 1530,
    "start_time": "2023-04-05T17:33:27.857Z"
   },
   {
    "duration": 2427,
    "start_time": "2023-04-05T17:33:32.727Z"
   },
   {
    "duration": 19,
    "start_time": "2023-04-05T17:33:35.162Z"
   },
   {
    "duration": 143,
    "start_time": "2023-04-05T17:33:35.737Z"
   },
   {
    "duration": 1324,
    "start_time": "2023-04-05T17:36:31.711Z"
   },
   {
    "duration": 36,
    "start_time": "2023-04-05T17:39:42.691Z"
   },
   {
    "duration": 45,
    "start_time": "2023-04-05T17:40:02.633Z"
   },
   {
    "duration": 70,
    "start_time": "2023-04-05T17:40:46.096Z"
   },
   {
    "duration": 72,
    "start_time": "2023-04-05T17:41:26.624Z"
   },
   {
    "duration": 10,
    "start_time": "2023-04-05T17:41:53.029Z"
   },
   {
    "duration": 65,
    "start_time": "2023-04-05T17:42:20.527Z"
   },
   {
    "duration": 35,
    "start_time": "2023-04-05T17:42:48.181Z"
   },
   {
    "duration": 15,
    "start_time": "2023-04-05T17:43:26.302Z"
   },
   {
    "duration": 2325,
    "start_time": "2023-04-05T17:43:36.959Z"
   },
   {
    "duration": 19,
    "start_time": "2023-04-05T17:43:39.286Z"
   },
   {
    "duration": 38,
    "start_time": "2023-04-05T17:43:39.306Z"
   },
   {
    "duration": 14,
    "start_time": "2023-04-05T17:43:43.686Z"
   },
   {
    "duration": 30,
    "start_time": "2023-04-05T17:44:13.408Z"
   },
   {
    "duration": 2262,
    "start_time": "2023-04-05T17:44:19.468Z"
   },
   {
    "duration": 35,
    "start_time": "2023-04-05T17:44:21.732Z"
   },
   {
    "duration": 31,
    "start_time": "2023-04-05T17:44:21.770Z"
   },
   {
    "duration": 6,
    "start_time": "2023-04-05T17:44:21.803Z"
   },
   {
    "duration": 41,
    "start_time": "2023-04-05T17:44:28.972Z"
   },
   {
    "duration": 2404,
    "start_time": "2023-04-05T17:47:19.530Z"
   },
   {
    "duration": 20,
    "start_time": "2023-04-05T17:47:41.370Z"
   },
   {
    "duration": 6,
    "start_time": "2023-04-05T17:47:53.894Z"
   },
   {
    "duration": 21,
    "start_time": "2023-04-05T17:55:01.656Z"
   },
   {
    "duration": 25,
    "start_time": "2023-04-05T17:55:08.167Z"
   },
   {
    "duration": 41,
    "start_time": "2023-04-05T17:55:29.728Z"
   },
   {
    "duration": 36,
    "start_time": "2023-04-05T17:57:48.634Z"
   },
   {
    "duration": 37,
    "start_time": "2023-04-05T17:58:12.019Z"
   },
   {
    "duration": 121,
    "start_time": "2023-04-05T18:06:40.481Z"
   },
   {
    "duration": 28,
    "start_time": "2023-04-05T18:06:52.201Z"
   },
   {
    "duration": 29,
    "start_time": "2023-04-05T18:08:46.262Z"
   },
   {
    "duration": 5,
    "start_time": "2023-04-05T18:08:49.919Z"
   },
   {
    "duration": 8,
    "start_time": "2023-04-05T18:08:50.315Z"
   },
   {
    "duration": 35,
    "start_time": "2023-04-05T18:08:51.736Z"
   },
   {
    "duration": 6,
    "start_time": "2023-04-05T18:09:07.191Z"
   },
   {
    "duration": 23,
    "start_time": "2023-04-05T18:10:01.335Z"
   },
   {
    "duration": 3,
    "start_time": "2023-04-05T18:11:24.726Z"
   },
   {
    "duration": 5,
    "start_time": "2023-04-05T18:14:05.331Z"
   },
   {
    "duration": 14,
    "start_time": "2023-04-05T18:14:27.906Z"
   },
   {
    "duration": 137,
    "start_time": "2023-04-05T18:19:04.426Z"
   },
   {
    "duration": 9,
    "start_time": "2023-04-05T18:19:11.414Z"
   },
   {
    "duration": 7,
    "start_time": "2023-04-05T18:20:44.674Z"
   },
   {
    "duration": 21,
    "start_time": "2023-04-05T18:20:58.534Z"
   },
   {
    "duration": 5,
    "start_time": "2023-04-05T18:23:29.961Z"
   },
   {
    "duration": 12,
    "start_time": "2023-04-05T18:23:47.634Z"
   },
   {
    "duration": 121,
    "start_time": "2023-04-05T18:24:06.196Z"
   },
   {
    "duration": 11,
    "start_time": "2023-04-05T18:24:17.417Z"
   },
   {
    "duration": 10,
    "start_time": "2023-04-05T18:24:24.544Z"
   },
   {
    "duration": 4,
    "start_time": "2023-04-05T18:26:37.523Z"
   },
   {
    "duration": 14,
    "start_time": "2023-04-05T18:26:56.100Z"
   },
   {
    "duration": 7,
    "start_time": "2023-04-05T18:33:26.483Z"
   },
   {
    "duration": 7,
    "start_time": "2023-04-05T18:45:32.472Z"
   },
   {
    "duration": 15,
    "start_time": "2023-04-05T18:46:04.846Z"
   },
   {
    "duration": 8,
    "start_time": "2023-04-05T18:46:46.440Z"
   },
   {
    "duration": 7,
    "start_time": "2023-04-05T18:47:03.120Z"
   },
   {
    "duration": 15,
    "start_time": "2023-04-05T18:47:24.312Z"
   },
   {
    "duration": 21,
    "start_time": "2023-04-05T18:48:10.115Z"
   },
   {
    "duration": 21,
    "start_time": "2023-04-05T18:48:19.209Z"
   },
   {
    "duration": 17,
    "start_time": "2023-04-05T18:48:44.710Z"
   },
   {
    "duration": 14,
    "start_time": "2023-04-05T18:51:05.422Z"
   },
   {
    "duration": 8,
    "start_time": "2023-04-05T18:51:08.629Z"
   },
   {
    "duration": 36,
    "start_time": "2023-04-05T18:53:13.442Z"
   },
   {
    "duration": 24,
    "start_time": "2023-04-05T18:53:38.894Z"
   },
   {
    "duration": 36,
    "start_time": "2023-04-05T18:57:27.193Z"
   },
   {
    "duration": 31,
    "start_time": "2023-04-05T18:58:08.687Z"
   },
   {
    "duration": 28,
    "start_time": "2023-04-05T18:58:53.402Z"
   },
   {
    "duration": 1997,
    "start_time": "2023-04-05T18:59:00.792Z"
   },
   {
    "duration": 17,
    "start_time": "2023-04-05T18:59:09.627Z"
   },
   {
    "duration": 32,
    "start_time": "2023-04-05T18:59:10.960Z"
   },
   {
    "duration": 30,
    "start_time": "2023-04-05T18:59:28.835Z"
   },
   {
    "duration": 5,
    "start_time": "2023-04-05T18:59:28.994Z"
   },
   {
    "duration": 6,
    "start_time": "2023-04-05T18:59:29.162Z"
   },
   {
    "duration": 7,
    "start_time": "2023-04-05T18:59:29.338Z"
   },
   {
    "duration": 5,
    "start_time": "2023-04-05T18:59:29.506Z"
   },
   {
    "duration": 4,
    "start_time": "2023-04-05T18:59:29.681Z"
   },
   {
    "duration": 11,
    "start_time": "2023-04-05T18:59:29.855Z"
   },
   {
    "duration": 17,
    "start_time": "2023-04-05T18:59:30.029Z"
   },
   {
    "duration": 20,
    "start_time": "2023-04-05T18:59:30.378Z"
   },
   {
    "duration": 37,
    "start_time": "2023-04-05T19:00:28.923Z"
   },
   {
    "duration": 2079,
    "start_time": "2023-04-05T19:01:41.207Z"
   },
   {
    "duration": 28,
    "start_time": "2023-04-05T19:01:43.289Z"
   },
   {
    "duration": 82,
    "start_time": "2023-04-05T19:01:43.320Z"
   },
   {
    "duration": 76,
    "start_time": "2023-04-05T19:01:43.405Z"
   },
   {
    "duration": 34,
    "start_time": "2023-04-05T19:01:53.284Z"
   },
   {
    "duration": 30,
    "start_time": "2023-04-05T19:02:06.554Z"
   },
   {
    "duration": 5,
    "start_time": "2023-04-05T19:02:06.729Z"
   },
   {
    "duration": 4,
    "start_time": "2023-04-05T19:02:06.897Z"
   },
   {
    "duration": 5,
    "start_time": "2023-04-05T19:02:07.071Z"
   },
   {
    "duration": 5,
    "start_time": "2023-04-05T19:02:07.251Z"
   },
   {
    "duration": 4,
    "start_time": "2023-04-05T19:02:07.403Z"
   },
   {
    "duration": 7,
    "start_time": "2023-04-05T19:02:07.573Z"
   },
   {
    "duration": 16,
    "start_time": "2023-04-05T19:02:07.741Z"
   },
   {
    "duration": 18,
    "start_time": "2023-04-05T19:02:08.105Z"
   },
   {
    "duration": 1981,
    "start_time": "2023-04-05T19:02:16.490Z"
   },
   {
    "duration": 17,
    "start_time": "2023-04-05T19:02:18.472Z"
   },
   {
    "duration": 51,
    "start_time": "2023-04-05T19:02:18.491Z"
   },
   {
    "duration": 4,
    "start_time": "2023-04-05T19:02:18.544Z"
   },
   {
    "duration": 15,
    "start_time": "2023-04-05T19:02:18.550Z"
   },
   {
    "duration": 14,
    "start_time": "2023-04-05T19:02:18.567Z"
   },
   {
    "duration": 9,
    "start_time": "2023-04-05T19:02:18.582Z"
   },
   {
    "duration": 6,
    "start_time": "2023-04-05T19:02:18.592Z"
   },
   {
    "duration": 11,
    "start_time": "2023-04-05T19:02:18.600Z"
   },
   {
    "duration": 16,
    "start_time": "2023-04-05T19:02:18.732Z"
   },
   {
    "duration": 18,
    "start_time": "2023-04-05T19:02:19.142Z"
   },
   {
    "duration": 31,
    "start_time": "2023-04-05T19:03:06.292Z"
   },
   {
    "duration": 19,
    "start_time": "2023-04-05T19:03:19.471Z"
   },
   {
    "duration": 20,
    "start_time": "2023-04-05T19:03:56.929Z"
   },
   {
    "duration": 17,
    "start_time": "2023-04-05T19:05:15.627Z"
   },
   {
    "duration": 96,
    "start_time": "2023-04-05T19:21:12.526Z"
   },
   {
    "duration": 108,
    "start_time": "2023-04-05T19:21:36.731Z"
   },
   {
    "duration": 87,
    "start_time": "2023-04-05T19:21:41.470Z"
   },
   {
    "duration": 27,
    "start_time": "2023-04-05T19:21:57.059Z"
   },
   {
    "duration": 21,
    "start_time": "2023-04-05T19:22:20.890Z"
   },
   {
    "duration": 28,
    "start_time": "2023-04-05T19:22:29.972Z"
   },
   {
    "duration": 20,
    "start_time": "2023-04-05T19:23:03.652Z"
   },
   {
    "duration": 6,
    "start_time": "2023-04-05T19:23:42.132Z"
   },
   {
    "duration": 16,
    "start_time": "2023-04-05T19:24:23.092Z"
   },
   {
    "duration": 21,
    "start_time": "2023-04-05T19:25:01.380Z"
   },
   {
    "duration": 11,
    "start_time": "2023-04-05T19:26:27.838Z"
   },
   {
    "duration": 5,
    "start_time": "2023-04-05T19:26:30.424Z"
   },
   {
    "duration": 6,
    "start_time": "2023-04-05T19:26:30.631Z"
   },
   {
    "duration": 4,
    "start_time": "2023-04-05T19:26:30.799Z"
   },
   {
    "duration": 5,
    "start_time": "2023-04-05T19:26:30.993Z"
   },
   {
    "duration": 121,
    "start_time": "2023-04-05T19:26:31.156Z"
   },
   {
    "duration": 9,
    "start_time": "2023-04-05T19:26:31.352Z"
   },
   {
    "duration": 16,
    "start_time": "2023-04-05T19:26:31.538Z"
   },
   {
    "duration": 24,
    "start_time": "2023-04-05T19:26:31.901Z"
   },
   {
    "duration": 24,
    "start_time": "2023-04-07T20:14:27.344Z"
   },
   {
    "duration": 6,
    "start_time": "2023-04-07T20:14:58.878Z"
   },
   {
    "duration": 7,
    "start_time": "2023-04-07T20:15:07.427Z"
   },
   {
    "duration": 12,
    "start_time": "2023-04-07T20:15:17.068Z"
   },
   {
    "duration": 40,
    "start_time": "2023-04-07T20:15:23.407Z"
   },
   {
    "duration": 25,
    "start_time": "2023-04-07T20:16:08.046Z"
   },
   {
    "duration": 2609,
    "start_time": "2023-04-08T19:34:28.083Z"
   },
   {
    "duration": 21,
    "start_time": "2023-04-08T19:34:30.695Z"
   },
   {
    "duration": 50,
    "start_time": "2023-04-08T19:34:30.719Z"
   },
   {
    "duration": 130,
    "start_time": "2023-04-08T19:34:30.772Z"
   },
   {
    "duration": 30,
    "start_time": "2023-04-08T19:34:30.904Z"
   },
   {
    "duration": 51,
    "start_time": "2023-04-08T19:34:30.936Z"
   },
   {
    "duration": 54,
    "start_time": "2023-04-08T19:34:30.989Z"
   },
   {
    "duration": 56,
    "start_time": "2023-04-08T19:34:31.046Z"
   },
   {
    "duration": 12,
    "start_time": "2023-04-08T19:34:31.104Z"
   },
   {
    "duration": 18,
    "start_time": "2023-04-08T19:34:31.118Z"
   },
   {
    "duration": 35,
    "start_time": "2023-04-08T19:34:31.138Z"
   },
   {
    "duration": 2963,
    "start_time": "2023-04-09T15:13:51.418Z"
   },
   {
    "duration": 32,
    "start_time": "2023-04-09T15:13:54.383Z"
   },
   {
    "duration": 24,
    "start_time": "2023-04-09T15:13:54.419Z"
   },
   {
    "duration": 71,
    "start_time": "2023-04-09T15:13:54.446Z"
   },
   {
    "duration": 10,
    "start_time": "2023-04-09T15:13:54.521Z"
   },
   {
    "duration": 7,
    "start_time": "2023-04-09T15:13:54.533Z"
   },
   {
    "duration": 78,
    "start_time": "2023-04-09T15:13:54.542Z"
   },
   {
    "duration": 90,
    "start_time": "2023-04-09T15:13:54.622Z"
   },
   {
    "duration": 77,
    "start_time": "2023-04-09T15:13:54.714Z"
   },
   {
    "duration": 31,
    "start_time": "2023-04-09T15:13:54.804Z"
   },
   {
    "duration": 40,
    "start_time": "2023-04-09T15:13:54.836Z"
   },
   {
    "duration": 49,
    "start_time": "2023-04-10T11:14:54.031Z"
   },
   {
    "duration": 9,
    "start_time": "2023-04-10T11:32:03.494Z"
   },
   {
    "duration": 9,
    "start_time": "2023-04-10T11:51:23.487Z"
   },
   {
    "duration": 23,
    "start_time": "2023-04-10T11:51:30.955Z"
   },
   {
    "duration": 33,
    "start_time": "2023-04-10T11:52:47.329Z"
   },
   {
    "duration": 11,
    "start_time": "2023-04-10T12:01:13.628Z"
   },
   {
    "duration": 43,
    "start_time": "2023-04-10T12:02:19.532Z"
   },
   {
    "duration": 48,
    "start_time": "2023-04-10T12:03:50.553Z"
   },
   {
    "duration": 76,
    "start_time": "2023-04-10T12:05:02.638Z"
   },
   {
    "duration": 10,
    "start_time": "2023-04-10T12:05:21.869Z"
   },
   {
    "duration": 64,
    "start_time": "2023-04-10T12:05:28.766Z"
   },
   {
    "duration": 25,
    "start_time": "2023-04-10T12:05:52.581Z"
   },
   {
    "duration": 94,
    "start_time": "2023-04-10T12:06:43.387Z"
   },
   {
    "duration": 25,
    "start_time": "2023-04-10T12:06:44.272Z"
   },
   {
    "duration": 92,
    "start_time": "2023-04-10T12:07:59.009Z"
   },
   {
    "duration": 27,
    "start_time": "2023-04-10T12:08:00.166Z"
   },
   {
    "duration": 122,
    "start_time": "2023-04-10T12:09:40.598Z"
   },
   {
    "duration": 41,
    "start_time": "2023-04-10T12:09:40.911Z"
   },
   {
    "duration": 112,
    "start_time": "2023-04-10T12:10:27.007Z"
   },
   {
    "duration": 47,
    "start_time": "2023-04-10T12:10:28.414Z"
   },
   {
    "duration": 128,
    "start_time": "2023-04-10T12:12:05.666Z"
   },
   {
    "duration": 28,
    "start_time": "2023-04-10T12:12:05.875Z"
   },
   {
    "duration": 30,
    "start_time": "2023-04-10T12:15:08.665Z"
   },
   {
    "duration": 3632,
    "start_time": "2023-04-12T16:06:26.932Z"
   },
   {
    "duration": 20,
    "start_time": "2023-04-12T16:06:30.566Z"
   },
   {
    "duration": 45,
    "start_time": "2023-04-12T16:06:30.588Z"
   },
   {
    "duration": 17,
    "start_time": "2023-04-12T16:06:30.636Z"
   },
   {
    "duration": 50,
    "start_time": "2023-04-12T16:06:30.658Z"
   },
   {
    "duration": 31,
    "start_time": "2023-04-12T16:06:30.710Z"
   },
   {
    "duration": 42,
    "start_time": "2023-04-12T16:06:30.743Z"
   },
   {
    "duration": 42,
    "start_time": "2023-04-12T16:06:30.787Z"
   },
   {
    "duration": 20,
    "start_time": "2023-04-12T16:06:30.837Z"
   },
   {
    "duration": 35,
    "start_time": "2023-04-12T16:06:30.860Z"
   },
   {
    "duration": 58,
    "start_time": "2023-04-12T16:06:30.897Z"
   },
   {
    "duration": 22,
    "start_time": "2023-04-12T16:06:30.957Z"
   },
   {
    "duration": 33,
    "start_time": "2023-04-12T16:06:30.980Z"
   },
   {
    "duration": 142,
    "start_time": "2023-04-12T16:06:31.025Z"
   },
   {
    "duration": 23,
    "start_time": "2023-04-12T16:06:31.168Z"
   },
   {
    "duration": 25,
    "start_time": "2023-04-12T16:06:40.670Z"
   },
   {
    "duration": 25,
    "start_time": "2023-04-12T16:16:56.449Z"
   },
   {
    "duration": 43,
    "start_time": "2023-04-12T16:17:03.314Z"
   },
   {
    "duration": 90,
    "start_time": "2023-04-12T16:31:31.980Z"
   },
   {
    "duration": 46,
    "start_time": "2023-04-12T16:31:49.772Z"
   },
   {
    "duration": 3,
    "start_time": "2023-04-12T19:25:00.475Z"
   },
   {
    "duration": 3,
    "start_time": "2023-04-12T19:27:37.060Z"
   },
   {
    "duration": 10,
    "start_time": "2023-04-12T19:28:44.757Z"
   },
   {
    "duration": 17,
    "start_time": "2023-04-12T19:28:52.810Z"
   },
   {
    "duration": 12,
    "start_time": "2023-04-12T19:29:05.637Z"
   },
   {
    "duration": 7,
    "start_time": "2023-04-12T19:29:14.031Z"
   },
   {
    "duration": 4,
    "start_time": "2023-04-12T19:29:42.959Z"
   },
   {
    "duration": 13,
    "start_time": "2023-04-12T19:29:56.424Z"
   },
   {
    "duration": 9,
    "start_time": "2023-04-12T19:30:17.336Z"
   },
   {
    "duration": 8,
    "start_time": "2023-04-12T19:30:30.390Z"
   },
   {
    "duration": 9,
    "start_time": "2023-04-12T19:31:04.562Z"
   },
   {
    "duration": 10,
    "start_time": "2023-04-12T19:33:25.256Z"
   },
   {
    "duration": 2392,
    "start_time": "2023-04-12T19:33:33.136Z"
   },
   {
    "duration": 10,
    "start_time": "2023-04-12T19:33:37.899Z"
   },
   {
    "duration": 5,
    "start_time": "2023-04-12T19:34:43.797Z"
   },
   {
    "duration": 8,
    "start_time": "2023-04-12T19:35:24.939Z"
   },
   {
    "duration": 5,
    "start_time": "2023-04-12T19:35:30.354Z"
   },
   {
    "duration": 4,
    "start_time": "2023-04-12T19:35:36.200Z"
   },
   {
    "duration": 67,
    "start_time": "2023-04-12T19:37:41.375Z"
   },
   {
    "duration": 43,
    "start_time": "2023-04-12T19:38:39.560Z"
   },
   {
    "duration": 7,
    "start_time": "2023-04-12T19:38:53.166Z"
   },
   {
    "duration": 4,
    "start_time": "2023-04-12T19:40:55.039Z"
   },
   {
    "duration": 9,
    "start_time": "2023-04-12T19:41:01.624Z"
   },
   {
    "duration": 9,
    "start_time": "2023-04-12T19:41:12.269Z"
   },
   {
    "duration": 4,
    "start_time": "2023-04-12T19:41:17.877Z"
   },
   {
    "duration": 4,
    "start_time": "2023-04-12T19:41:24.029Z"
   },
   {
    "duration": 5,
    "start_time": "2023-04-12T19:42:38.814Z"
   },
   {
    "duration": 4,
    "start_time": "2023-04-12T19:43:05.767Z"
   },
   {
    "duration": 2515,
    "start_time": "2023-04-13T11:39:36.459Z"
   },
   {
    "duration": 54,
    "start_time": "2023-04-13T11:39:38.977Z"
   },
   {
    "duration": 21,
    "start_time": "2023-04-13T11:39:39.040Z"
   },
   {
    "duration": 11,
    "start_time": "2023-04-13T11:39:39.071Z"
   },
   {
    "duration": 13,
    "start_time": "2023-04-13T11:39:39.084Z"
   },
   {
    "duration": 28,
    "start_time": "2023-04-13T11:39:39.100Z"
   },
   {
    "duration": 18,
    "start_time": "2023-04-13T11:39:39.132Z"
   },
   {
    "duration": 24,
    "start_time": "2023-04-13T11:39:39.152Z"
   },
   {
    "duration": 30,
    "start_time": "2023-04-13T11:39:39.179Z"
   },
   {
    "duration": 54,
    "start_time": "2023-04-13T11:39:39.212Z"
   },
   {
    "duration": 28,
    "start_time": "2023-04-13T11:39:39.268Z"
   },
   {
    "duration": 28,
    "start_time": "2023-04-13T11:39:39.298Z"
   },
   {
    "duration": 40,
    "start_time": "2023-04-13T11:39:39.390Z"
   },
   {
    "duration": 153,
    "start_time": "2023-04-13T11:39:40.201Z"
   },
   {
    "duration": 31,
    "start_time": "2023-04-13T11:39:40.644Z"
   },
   {
    "duration": 40,
    "start_time": "2023-04-13T11:39:40.807Z"
   },
   {
    "duration": 34,
    "start_time": "2023-04-13T11:39:42.185Z"
   },
   {
    "duration": 47,
    "start_time": "2023-04-13T11:39:42.399Z"
   },
   {
    "duration": 2,
    "start_time": "2023-04-13T11:39:42.564Z"
   },
   {
    "duration": 5,
    "start_time": "2023-04-13T11:39:47.377Z"
   },
   {
    "duration": 5,
    "start_time": "2023-04-13T11:40:02.145Z"
   },
   {
    "duration": 81,
    "start_time": "2023-04-13T11:51:01.949Z"
   },
   {
    "duration": 25,
    "start_time": "2023-04-13T11:51:10.130Z"
   },
   {
    "duration": 58,
    "start_time": "2023-04-13T11:51:19.941Z"
   },
   {
    "duration": 51,
    "start_time": "2023-04-13T11:52:14.840Z"
   },
   {
    "duration": 69,
    "start_time": "2023-04-13T11:52:44.831Z"
   },
   {
    "duration": 67,
    "start_time": "2023-04-13T11:53:11.053Z"
   },
   {
    "duration": 85,
    "start_time": "2023-04-13T11:54:23.550Z"
   },
   {
    "duration": 61,
    "start_time": "2023-04-13T11:55:16.342Z"
   },
   {
    "duration": 77,
    "start_time": "2023-04-13T11:55:46.728Z"
   },
   {
    "duration": 56,
    "start_time": "2023-04-13T11:56:13.272Z"
   },
   {
    "duration": 26,
    "start_time": "2023-04-13T11:57:12.462Z"
   },
   {
    "duration": 24,
    "start_time": "2023-04-13T11:57:33.742Z"
   },
   {
    "duration": 24,
    "start_time": "2023-04-13T12:01:47.196Z"
   },
   {
    "duration": 21,
    "start_time": "2023-04-13T12:02:51.258Z"
   },
   {
    "duration": 11,
    "start_time": "2023-04-13T12:07:11.880Z"
   },
   {
    "duration": 20,
    "start_time": "2023-04-13T12:07:29.173Z"
   },
   {
    "duration": 20,
    "start_time": "2023-04-13T12:11:03.636Z"
   },
   {
    "duration": 121,
    "start_time": "2023-04-13T12:11:10.474Z"
   },
   {
    "duration": 131,
    "start_time": "2023-04-13T12:17:29.349Z"
   },
   {
    "duration": 167,
    "start_time": "2023-04-13T12:22:45.230Z"
   },
   {
    "duration": 7,
    "start_time": "2023-04-13T12:27:00.657Z"
   },
   {
    "duration": 17,
    "start_time": "2023-04-13T12:27:05.201Z"
   },
   {
    "duration": 14,
    "start_time": "2023-04-13T12:27:17.785Z"
   },
   {
    "duration": 27,
    "start_time": "2023-04-13T12:29:23.805Z"
   },
   {
    "duration": 70,
    "start_time": "2023-04-13T12:39:21.240Z"
   },
   {
    "duration": 86,
    "start_time": "2023-04-13T12:39:34.295Z"
   },
   {
    "duration": 541,
    "start_time": "2023-04-13T12:40:07.746Z"
   },
   {
    "duration": 17,
    "start_time": "2023-04-13T12:40:34.779Z"
   },
   {
    "duration": 27,
    "start_time": "2023-04-13T12:41:48.260Z"
   },
   {
    "duration": 31,
    "start_time": "2023-04-13T12:42:11.034Z"
   },
   {
    "duration": 105,
    "start_time": "2023-04-13T12:42:42.988Z"
   },
   {
    "duration": 113,
    "start_time": "2023-04-13T12:42:48.684Z"
   },
   {
    "duration": 27,
    "start_time": "2023-04-13T12:42:53.137Z"
   },
   {
    "duration": 32,
    "start_time": "2023-04-13T12:43:17.649Z"
   },
   {
    "duration": 144,
    "start_time": "2023-04-13T12:43:33.903Z"
   },
   {
    "duration": 19,
    "start_time": "2023-04-13T12:43:53.762Z"
   },
   {
    "duration": 330,
    "start_time": "2023-04-13T12:48:05.840Z"
   },
   {
    "duration": 28,
    "start_time": "2023-04-13T12:48:17.768Z"
   },
   {
    "duration": 16,
    "start_time": "2023-04-13T12:48:23.088Z"
   },
   {
    "duration": 112,
    "start_time": "2023-04-13T12:48:58.058Z"
   },
   {
    "duration": 64,
    "start_time": "2023-04-13T12:49:05.240Z"
   },
   {
    "duration": 5,
    "start_time": "2023-04-13T12:49:11.377Z"
   },
   {
    "duration": 104,
    "start_time": "2023-04-13T12:49:23.031Z"
   },
   {
    "duration": 14,
    "start_time": "2023-04-13T12:49:29.697Z"
   },
   {
    "duration": 51,
    "start_time": "2023-04-13T12:52:21.280Z"
   },
   {
    "duration": 39,
    "start_time": "2023-04-13T12:52:50.784Z"
   },
   {
    "duration": 2700,
    "start_time": "2023-04-13T12:53:08.995Z"
   },
   {
    "duration": 37,
    "start_time": "2023-04-13T12:53:11.698Z"
   },
   {
    "duration": 14,
    "start_time": "2023-04-13T12:53:11.737Z"
   },
   {
    "duration": 22,
    "start_time": "2023-04-13T12:53:11.756Z"
   },
   {
    "duration": 12,
    "start_time": "2023-04-13T12:53:11.780Z"
   },
   {
    "duration": 6,
    "start_time": "2023-04-13T12:53:11.794Z"
   },
   {
    "duration": 28,
    "start_time": "2023-04-13T12:53:11.802Z"
   },
   {
    "duration": 17,
    "start_time": "2023-04-13T12:53:11.834Z"
   },
   {
    "duration": 20,
    "start_time": "2023-04-13T12:53:11.853Z"
   },
   {
    "duration": 19,
    "start_time": "2023-04-13T12:53:11.875Z"
   },
   {
    "duration": 32,
    "start_time": "2023-04-13T12:53:16.156Z"
   },
   {
    "duration": 26,
    "start_time": "2023-04-13T12:53:17.492Z"
   },
   {
    "duration": 31,
    "start_time": "2023-04-13T12:53:17.792Z"
   },
   {
    "duration": 155,
    "start_time": "2023-04-13T12:53:20.157Z"
   },
   {
    "duration": 24,
    "start_time": "2023-04-13T12:53:24.783Z"
   },
   {
    "duration": 41,
    "start_time": "2023-04-13T12:53:25.012Z"
   },
   {
    "duration": 165,
    "start_time": "2023-04-13T12:53:27.273Z"
   },
   {
    "duration": 41,
    "start_time": "2023-04-13T12:53:28.058Z"
   },
   {
    "duration": 62,
    "start_time": "2023-04-13T12:53:34.209Z"
   },
   {
    "duration": 14,
    "start_time": "2023-04-13T12:56:37.797Z"
   },
   {
    "duration": 333,
    "start_time": "2023-04-13T13:00:16.456Z"
   },
   {
    "duration": 420,
    "start_time": "2023-04-13T13:00:37.247Z"
   },
   {
    "duration": 314,
    "start_time": "2023-04-13T13:01:01.849Z"
   },
   {
    "duration": 412,
    "start_time": "2023-04-13T13:01:11.582Z"
   },
   {
    "duration": 366,
    "start_time": "2023-04-13T13:01:27.058Z"
   },
   {
    "duration": 342,
    "start_time": "2023-04-13T13:10:26.366Z"
   },
   {
    "duration": 39,
    "start_time": "2023-04-13T13:18:15.598Z"
   },
   {
    "duration": 70,
    "start_time": "2023-04-13T14:01:39.584Z"
   },
   {
    "duration": 16,
    "start_time": "2023-04-13T14:02:05.262Z"
   },
   {
    "duration": 16,
    "start_time": "2023-04-13T14:02:32.168Z"
   },
   {
    "duration": 394,
    "start_time": "2023-04-13T14:06:10.955Z"
   },
   {
    "duration": 549,
    "start_time": "2023-04-13T14:06:31.661Z"
   },
   {
    "duration": 330,
    "start_time": "2023-04-13T14:06:51.549Z"
   },
   {
    "duration": 362,
    "start_time": "2023-04-13T14:06:56.936Z"
   },
   {
    "duration": 513,
    "start_time": "2023-04-13T14:07:09.129Z"
   },
   {
    "duration": 669,
    "start_time": "2023-04-13T14:08:01.750Z"
   },
   {
    "duration": 766,
    "start_time": "2023-04-13T14:09:12.098Z"
   },
   {
    "duration": 707,
    "start_time": "2023-04-13T14:09:30.347Z"
   },
   {
    "duration": 576,
    "start_time": "2023-04-13T14:09:56.285Z"
   },
   {
    "duration": 92,
    "start_time": "2023-04-13T14:12:20.087Z"
   },
   {
    "duration": 223,
    "start_time": "2023-04-13T14:13:22.769Z"
   },
   {
    "duration": 673,
    "start_time": "2023-04-13T14:13:55.650Z"
   },
   {
    "duration": 2580,
    "start_time": "2023-04-13T14:14:18.311Z"
   },
   {
    "duration": 46,
    "start_time": "2023-04-13T14:14:20.894Z"
   },
   {
    "duration": 25,
    "start_time": "2023-04-13T14:14:20.943Z"
   },
   {
    "duration": 7,
    "start_time": "2023-04-13T14:14:20.971Z"
   },
   {
    "duration": 17,
    "start_time": "2023-04-13T14:14:20.980Z"
   },
   {
    "duration": 30,
    "start_time": "2023-04-13T14:14:21.001Z"
   },
   {
    "duration": 26,
    "start_time": "2023-04-13T14:14:21.033Z"
   },
   {
    "duration": 32,
    "start_time": "2023-04-13T14:14:21.062Z"
   },
   {
    "duration": 36,
    "start_time": "2023-04-13T14:14:21.097Z"
   },
   {
    "duration": 30,
    "start_time": "2023-04-13T14:14:21.138Z"
   },
   {
    "duration": 24,
    "start_time": "2023-04-13T14:14:25.844Z"
   },
   {
    "duration": 30,
    "start_time": "2023-04-13T14:14:26.293Z"
   },
   {
    "duration": 29,
    "start_time": "2023-04-13T14:14:26.533Z"
   },
   {
    "duration": 114,
    "start_time": "2023-04-13T14:14:26.849Z"
   },
   {
    "duration": 54,
    "start_time": "2023-04-13T14:14:27.285Z"
   },
   {
    "duration": 27,
    "start_time": "2023-04-13T14:14:27.538Z"
   },
   {
    "duration": 43,
    "start_time": "2023-04-13T14:14:29.171Z"
   },
   {
    "duration": 50,
    "start_time": "2023-04-13T14:14:29.375Z"
   },
   {
    "duration": 352,
    "start_time": "2023-04-13T14:14:29.571Z"
   },
   {
    "duration": 639,
    "start_time": "2023-04-13T14:14:39.648Z"
   },
   {
    "duration": 766,
    "start_time": "2023-04-13T14:15:40.251Z"
   },
   {
    "duration": 1001,
    "start_time": "2023-04-13T14:15:46.254Z"
   },
   {
    "duration": 121,
    "start_time": "2023-04-13T14:16:09.083Z"
   },
   {
    "duration": 136,
    "start_time": "2023-04-13T14:16:35.204Z"
   },
   {
    "duration": 107,
    "start_time": "2023-04-13T14:16:53.493Z"
   },
   {
    "duration": 229,
    "start_time": "2023-04-13T14:17:45.673Z"
   },
   {
    "duration": 121,
    "start_time": "2023-04-13T14:18:06.232Z"
   },
   {
    "duration": 16,
    "start_time": "2023-04-13T14:20:54.958Z"
   },
   {
    "duration": 48,
    "start_time": "2023-04-13T14:21:33.158Z"
   },
   {
    "duration": 30,
    "start_time": "2023-04-13T14:21:56.166Z"
   },
   {
    "duration": 45,
    "start_time": "2023-04-13T14:24:27.835Z"
   },
   {
    "duration": 62,
    "start_time": "2023-04-13T14:24:52.109Z"
   },
   {
    "duration": 34,
    "start_time": "2023-04-13T14:25:19.392Z"
   },
   {
    "duration": 32,
    "start_time": "2023-04-13T14:25:34.486Z"
   },
   {
    "duration": 2441,
    "start_time": "2023-04-13T14:26:19.675Z"
   },
   {
    "duration": 37,
    "start_time": "2023-04-13T14:26:22.128Z"
   },
   {
    "duration": 14,
    "start_time": "2023-04-13T14:26:22.167Z"
   },
   {
    "duration": 21,
    "start_time": "2023-04-13T14:26:22.184Z"
   },
   {
    "duration": 6,
    "start_time": "2023-04-13T14:26:22.207Z"
   },
   {
    "duration": 20,
    "start_time": "2023-04-13T14:26:22.215Z"
   },
   {
    "duration": 6,
    "start_time": "2023-04-13T14:26:22.237Z"
   },
   {
    "duration": 5,
    "start_time": "2023-04-13T14:26:22.244Z"
   },
   {
    "duration": 19,
    "start_time": "2023-04-13T14:26:22.250Z"
   },
   {
    "duration": 42,
    "start_time": "2023-04-13T14:26:22.273Z"
   },
   {
    "duration": 27,
    "start_time": "2023-04-13T14:26:22.319Z"
   },
   {
    "duration": 25,
    "start_time": "2023-04-13T14:26:22.347Z"
   },
   {
    "duration": 41,
    "start_time": "2023-04-13T14:26:22.520Z"
   },
   {
    "duration": 135,
    "start_time": "2023-04-13T14:26:22.688Z"
   },
   {
    "duration": 25,
    "start_time": "2023-04-13T14:26:23.137Z"
   },
   {
    "duration": 38,
    "start_time": "2023-04-13T14:26:23.304Z"
   },
   {
    "duration": 27,
    "start_time": "2023-04-13T14:26:24.742Z"
   },
   {
    "duration": 34,
    "start_time": "2023-04-13T14:26:25.128Z"
   },
   {
    "duration": 302,
    "start_time": "2023-04-13T14:26:26.326Z"
   },
   {
    "duration": 50,
    "start_time": "2023-04-13T14:26:30.085Z"
   },
   {
    "duration": 48,
    "start_time": "2023-04-13T14:26:42.790Z"
   },
   {
    "duration": 2657,
    "start_time": "2023-04-13T14:31:58.807Z"
   },
   {
    "duration": 44,
    "start_time": "2023-04-13T14:32:21.330Z"
   },
   {
    "duration": 3233,
    "start_time": "2023-04-14T20:16:11.698Z"
   },
   {
    "duration": 20,
    "start_time": "2023-04-14T20:16:14.933Z"
   },
   {
    "duration": 12,
    "start_time": "2023-04-14T20:16:14.954Z"
   },
   {
    "duration": 4,
    "start_time": "2023-04-14T20:16:14.968Z"
   },
   {
    "duration": 6,
    "start_time": "2023-04-14T20:16:14.974Z"
   },
   {
    "duration": 10,
    "start_time": "2023-04-14T20:16:14.982Z"
   },
   {
    "duration": 6,
    "start_time": "2023-04-14T20:16:14.994Z"
   },
   {
    "duration": 33,
    "start_time": "2023-04-14T20:16:15.001Z"
   },
   {
    "duration": 16,
    "start_time": "2023-04-14T20:16:15.036Z"
   },
   {
    "duration": 33,
    "start_time": "2023-04-14T20:16:15.054Z"
   },
   {
    "duration": 33,
    "start_time": "2023-04-14T20:16:15.089Z"
   },
   {
    "duration": 22,
    "start_time": "2023-04-14T20:16:15.123Z"
   },
   {
    "duration": 20,
    "start_time": "2023-04-14T20:16:15.447Z"
   },
   {
    "duration": 96,
    "start_time": "2023-04-14T20:16:15.645Z"
   },
   {
    "duration": 23,
    "start_time": "2023-04-14T20:16:15.844Z"
   },
   {
    "duration": 25,
    "start_time": "2023-04-14T20:16:16.035Z"
   },
   {
    "duration": 22,
    "start_time": "2023-04-14T20:16:16.596Z"
   },
   {
    "duration": 32,
    "start_time": "2023-04-14T20:16:16.804Z"
   },
   {
    "duration": 281,
    "start_time": "2023-04-14T20:16:17.000Z"
   },
   {
    "duration": 33,
    "start_time": "2023-04-14T20:16:17.413Z"
   },
   {
    "duration": 15,
    "start_time": "2023-04-14T20:51:11.910Z"
   },
   {
    "duration": 3229,
    "start_time": "2023-04-18T22:53:38.635Z"
   },
   {
    "duration": 20,
    "start_time": "2023-04-18T22:53:41.866Z"
   },
   {
    "duration": 13,
    "start_time": "2023-04-18T22:53:41.888Z"
   },
   {
    "duration": 5,
    "start_time": "2023-04-18T22:53:41.903Z"
   },
   {
    "duration": 20,
    "start_time": "2023-04-18T22:53:41.910Z"
   },
   {
    "duration": 11,
    "start_time": "2023-04-18T22:53:41.932Z"
   },
   {
    "duration": 6,
    "start_time": "2023-04-18T22:53:41.945Z"
   },
   {
    "duration": 6,
    "start_time": "2023-04-18T22:53:41.952Z"
   },
   {
    "duration": 10,
    "start_time": "2023-04-18T22:53:41.960Z"
   },
   {
    "duration": 16,
    "start_time": "2023-04-18T22:53:41.973Z"
   },
   {
    "duration": 44,
    "start_time": "2023-04-18T22:53:41.991Z"
   },
   {
    "duration": 21,
    "start_time": "2023-04-18T22:53:42.037Z"
   },
   {
    "duration": 20,
    "start_time": "2023-04-18T22:53:42.060Z"
   },
   {
    "duration": 133,
    "start_time": "2023-04-18T22:53:42.082Z"
   },
   {
    "duration": 22,
    "start_time": "2023-04-18T22:53:42.273Z"
   },
   {
    "duration": 22,
    "start_time": "2023-04-18T22:53:42.474Z"
   },
   {
    "duration": 20,
    "start_time": "2023-04-18T22:53:42.711Z"
   },
   {
    "duration": 39,
    "start_time": "2023-04-18T22:54:04.009Z"
   },
   {
    "duration": 53,
    "start_time": "2023-04-18T22:54:07.699Z"
   },
   {
    "duration": 358,
    "start_time": "2023-04-18T22:54:08.889Z"
   },
   {
    "duration": 34,
    "start_time": "2023-04-18T22:54:37.338Z"
   },
   {
    "duration": 130,
    "start_time": "2023-04-18T23:04:10.179Z"
   },
   {
    "duration": 149,
    "start_time": "2023-04-18T23:04:23.084Z"
   },
   {
    "duration": 316,
    "start_time": "2023-04-18T23:04:33.863Z"
   },
   {
    "duration": 248,
    "start_time": "2023-04-18T23:04:49.937Z"
   },
   {
    "duration": 132,
    "start_time": "2023-04-18T23:06:41.275Z"
   },
   {
    "duration": 250,
    "start_time": "2023-04-18T23:06:51.135Z"
   },
   {
    "duration": 1584,
    "start_time": "2023-04-18T23:06:55.886Z"
   },
   {
    "duration": 440,
    "start_time": "2023-04-18T23:07:02.580Z"
   },
   {
    "duration": 387,
    "start_time": "2023-04-18T23:07:15.256Z"
   },
   {
    "duration": 138,
    "start_time": "2023-04-18T23:08:17.563Z"
   },
   {
    "duration": 1485,
    "start_time": "2023-04-18T23:08:27.370Z"
   },
   {
    "duration": 250,
    "start_time": "2023-04-18T23:08:50.175Z"
   },
   {
    "duration": 75,
    "start_time": "2023-04-18T23:10:36.576Z"
   },
   {
    "duration": 268,
    "start_time": "2023-04-18T23:10:51.604Z"
   },
   {
    "duration": 261,
    "start_time": "2023-04-18T23:21:58.125Z"
   },
   {
    "duration": 254,
    "start_time": "2023-04-18T23:22:13.082Z"
   },
   {
    "duration": 396,
    "start_time": "2023-04-18T23:23:47.233Z"
   },
   {
    "duration": 303,
    "start_time": "2023-04-18T23:24:08.827Z"
   },
   {
    "duration": 252,
    "start_time": "2023-04-18T23:24:18.175Z"
   },
   {
    "duration": 250,
    "start_time": "2023-04-18T23:24:36.423Z"
   },
   {
    "duration": 255,
    "start_time": "2023-04-18T23:25:15.506Z"
   },
   {
    "duration": 382,
    "start_time": "2023-04-18T23:25:30.871Z"
   },
   {
    "duration": 57,
    "start_time": "2023-04-18T23:28:15.113Z"
   },
   {
    "duration": 240,
    "start_time": "2023-04-18T23:28:19.914Z"
   },
   {
    "duration": 245,
    "start_time": "2023-04-18T23:28:31.607Z"
   },
   {
    "duration": 240,
    "start_time": "2023-04-18T23:28:51.975Z"
   },
   {
    "duration": 266,
    "start_time": "2023-04-18T23:29:00.114Z"
   },
   {
    "duration": 251,
    "start_time": "2023-04-18T23:30:00.575Z"
   },
   {
    "duration": 320,
    "start_time": "2023-04-18T23:30:07.905Z"
   },
   {
    "duration": 245,
    "start_time": "2023-04-18T23:30:24.532Z"
   },
   {
    "duration": 253,
    "start_time": "2023-04-18T23:30:34.194Z"
   },
   {
    "duration": 242,
    "start_time": "2023-04-18T23:34:06.579Z"
   },
   {
    "duration": 273,
    "start_time": "2023-04-18T23:34:23.484Z"
   },
   {
    "duration": 366,
    "start_time": "2023-04-18T23:40:48.658Z"
   },
   {
    "duration": 231,
    "start_time": "2023-04-18T23:41:03.059Z"
   },
   {
    "duration": 54,
    "start_time": "2023-04-18T23:49:29.541Z"
   },
   {
    "duration": 263,
    "start_time": "2023-04-18T23:52:13.211Z"
   },
   {
    "duration": 274,
    "start_time": "2023-04-18T23:52:29.498Z"
   },
   {
    "duration": 296,
    "start_time": "2023-04-18T23:52:48.704Z"
   },
   {
    "duration": 268,
    "start_time": "2023-04-18T23:53:32.478Z"
   },
   {
    "duration": 404,
    "start_time": "2023-04-19T00:04:05.204Z"
   },
   {
    "duration": 248,
    "start_time": "2023-04-19T00:11:19.605Z"
   },
   {
    "duration": 157,
    "start_time": "2023-04-19T00:15:32.025Z"
   },
   {
    "duration": 174,
    "start_time": "2023-04-19T00:15:49.525Z"
   },
   {
    "duration": 146,
    "start_time": "2023-04-19T00:51:48.548Z"
   },
   {
    "duration": 75,
    "start_time": "2023-04-19T00:52:24.489Z"
   },
   {
    "duration": 158,
    "start_time": "2023-04-19T00:52:30.179Z"
   },
   {
    "duration": 153,
    "start_time": "2023-04-19T00:56:03.571Z"
   },
   {
    "duration": 172,
    "start_time": "2023-04-19T00:56:19.371Z"
   },
   {
    "duration": 26,
    "start_time": "2023-04-19T00:59:38.509Z"
   },
   {
    "duration": 11,
    "start_time": "2023-04-19T01:00:10.926Z"
   },
   {
    "duration": 122,
    "start_time": "2023-04-19T01:03:01.171Z"
   },
   {
    "duration": 253,
    "start_time": "2023-04-19T01:06:30.593Z"
   },
   {
    "duration": 159,
    "start_time": "2023-04-19T01:06:37.875Z"
   },
   {
    "duration": 152,
    "start_time": "2023-04-19T01:06:48.295Z"
   },
   {
    "duration": 183,
    "start_time": "2023-04-19T01:09:59.467Z"
   },
   {
    "duration": 160,
    "start_time": "2023-04-19T01:10:06.203Z"
   },
   {
    "duration": 156,
    "start_time": "2023-04-19T01:10:18.068Z"
   },
   {
    "duration": 172,
    "start_time": "2023-04-19T01:10:23.871Z"
   },
   {
    "duration": 156,
    "start_time": "2023-04-19T01:10:31.839Z"
   },
   {
    "duration": 164,
    "start_time": "2023-04-19T01:12:00.490Z"
   },
   {
    "duration": 166,
    "start_time": "2023-04-19T01:12:09.430Z"
   },
   {
    "duration": 167,
    "start_time": "2023-04-19T01:19:26.167Z"
   },
   {
    "duration": 55,
    "start_time": "2023-04-19T01:20:13.185Z"
   },
   {
    "duration": 228,
    "start_time": "2023-04-19T01:20:17.102Z"
   },
   {
    "duration": 151,
    "start_time": "2023-04-19T01:25:11.468Z"
   },
   {
    "duration": 156,
    "start_time": "2023-04-19T01:25:19.467Z"
   },
   {
    "duration": 133,
    "start_time": "2023-04-19T01:25:28.371Z"
   },
   {
    "duration": 149,
    "start_time": "2023-04-19T01:25:42.030Z"
   },
   {
    "duration": 159,
    "start_time": "2023-04-19T01:34:17.525Z"
   },
   {
    "duration": 159,
    "start_time": "2023-04-19T01:34:44.234Z"
   },
   {
    "duration": 165,
    "start_time": "2023-04-19T01:35:27.667Z"
   },
   {
    "duration": 128,
    "start_time": "2023-04-19T01:40:40.402Z"
   },
   {
    "duration": 166,
    "start_time": "2023-04-19T01:40:52.811Z"
   },
   {
    "duration": 164,
    "start_time": "2023-04-19T01:40:59.162Z"
   },
   {
    "duration": 226,
    "start_time": "2023-04-19T01:42:37.464Z"
   },
   {
    "duration": 48,
    "start_time": "2023-04-19T01:43:05.367Z"
   },
   {
    "duration": 163,
    "start_time": "2023-04-19T01:44:01.767Z"
   },
   {
    "duration": 124,
    "start_time": "2023-04-19T01:44:20.120Z"
   },
   {
    "duration": 287,
    "start_time": "2023-04-19T01:44:23.439Z"
   },
   {
    "duration": 197,
    "start_time": "2023-04-19T01:44:32.007Z"
   },
   {
    "duration": 206,
    "start_time": "2023-04-19T01:44:40.562Z"
   },
   {
    "duration": 214,
    "start_time": "2023-04-19T01:44:49.037Z"
   },
   {
    "duration": 243,
    "start_time": "2023-04-19T01:45:52.086Z"
   },
   {
    "duration": 313,
    "start_time": "2023-04-19T01:46:00.811Z"
   },
   {
    "duration": 266,
    "start_time": "2023-04-19T01:46:06.798Z"
   },
   {
    "duration": 208,
    "start_time": "2023-04-19T01:46:32.876Z"
   },
   {
    "duration": 1361,
    "start_time": "2023-04-19T01:46:49.389Z"
   },
   {
    "duration": 1517,
    "start_time": "2023-04-19T01:47:01.471Z"
   },
   {
    "duration": 255,
    "start_time": "2023-04-19T01:47:07.097Z"
   },
   {
    "duration": 148,
    "start_time": "2023-04-19T01:47:12.071Z"
   },
   {
    "duration": 261,
    "start_time": "2023-04-19T01:47:16.011Z"
   },
   {
    "duration": 402,
    "start_time": "2023-04-19T01:47:30.971Z"
   },
   {
    "duration": 168,
    "start_time": "2023-04-19T01:47:49.625Z"
   },
   {
    "duration": 188,
    "start_time": "2023-04-19T01:49:24.071Z"
   },
   {
    "duration": 174,
    "start_time": "2023-04-19T01:49:47.814Z"
   },
   {
    "duration": 272,
    "start_time": "2023-04-19T01:49:54.471Z"
   },
   {
    "duration": 198,
    "start_time": "2023-04-19T01:50:00.387Z"
   },
   {
    "duration": 177,
    "start_time": "2023-04-19T01:50:42.975Z"
   },
   {
    "duration": 268,
    "start_time": "2023-04-19T01:50:52.489Z"
   },
   {
    "duration": 253,
    "start_time": "2023-04-19T01:50:56.224Z"
   },
   {
    "duration": 130,
    "start_time": "2023-04-19T01:52:19.236Z"
   },
   {
    "duration": 157,
    "start_time": "2023-04-19T01:52:34.308Z"
   },
   {
    "duration": 163,
    "start_time": "2023-04-19T01:52:56.004Z"
   },
   {
    "duration": 184,
    "start_time": "2023-04-19T01:53:00.571Z"
   },
   {
    "duration": 143,
    "start_time": "2023-04-19T01:53:11.940Z"
   },
   {
    "duration": 171,
    "start_time": "2023-04-19T01:53:16.857Z"
   },
   {
    "duration": 187,
    "start_time": "2023-04-19T01:53:24.315Z"
   },
   {
    "duration": 186,
    "start_time": "2023-04-19T01:53:32.979Z"
   },
   {
    "duration": 59,
    "start_time": "2023-04-19T01:55:29.972Z"
   },
   {
    "duration": 52,
    "start_time": "2023-04-20T18:08:12.811Z"
   },
   {
    "duration": 3312,
    "start_time": "2023-04-20T18:08:23.560Z"
   },
   {
    "duration": 17,
    "start_time": "2023-04-20T18:08:26.874Z"
   },
   {
    "duration": 11,
    "start_time": "2023-04-20T18:08:26.893Z"
   },
   {
    "duration": 8,
    "start_time": "2023-04-20T18:08:26.906Z"
   },
   {
    "duration": 20,
    "start_time": "2023-04-20T18:08:26.916Z"
   },
   {
    "duration": 8,
    "start_time": "2023-04-20T18:08:26.937Z"
   },
   {
    "duration": 20,
    "start_time": "2023-04-20T18:08:26.947Z"
   },
   {
    "duration": 13,
    "start_time": "2023-04-20T18:08:26.968Z"
   },
   {
    "duration": 12,
    "start_time": "2023-04-20T18:08:26.982Z"
   },
   {
    "duration": 27,
    "start_time": "2023-04-20T18:08:26.997Z"
   },
   {
    "duration": 28,
    "start_time": "2023-04-20T18:08:27.026Z"
   },
   {
    "duration": 27,
    "start_time": "2023-04-20T18:08:27.056Z"
   },
   {
    "duration": 22,
    "start_time": "2023-04-20T18:08:27.085Z"
   },
   {
    "duration": 111,
    "start_time": "2023-04-20T18:08:27.109Z"
   },
   {
    "duration": 19,
    "start_time": "2023-04-20T18:08:27.222Z"
   },
   {
    "duration": 36,
    "start_time": "2023-04-20T18:08:27.243Z"
   },
   {
    "duration": 12,
    "start_time": "2023-04-20T18:08:27.281Z"
   },
   {
    "duration": 22,
    "start_time": "2023-04-20T18:08:27.484Z"
   },
   {
    "duration": 27,
    "start_time": "2023-04-20T18:08:27.672Z"
   },
   {
    "duration": 270,
    "start_time": "2023-04-20T18:08:27.842Z"
   },
   {
    "duration": 28,
    "start_time": "2023-04-20T18:08:28.114Z"
   },
   {
    "duration": 191,
    "start_time": "2023-04-20T18:08:28.734Z"
   },
   {
    "duration": 274,
    "start_time": "2023-04-20T18:08:29.062Z"
   },
   {
    "duration": 202,
    "start_time": "2023-04-20T18:08:29.424Z"
   },
   {
    "duration": 193,
    "start_time": "2023-04-20T18:08:29.814Z"
   },
   {
    "duration": 149,
    "start_time": "2023-04-20T18:08:30.285Z"
   },
   {
    "duration": 153,
    "start_time": "2023-04-20T18:08:30.723Z"
   },
   {
    "duration": 155,
    "start_time": "2023-04-20T18:08:31.225Z"
   },
   {
    "duration": 97,
    "start_time": "2023-04-20T18:08:31.713Z"
   },
   {
    "duration": 195,
    "start_time": "2023-04-20T18:08:32.412Z"
   },
   {
    "duration": 332,
    "start_time": "2023-04-20T18:08:32.994Z"
   },
   {
    "duration": 296,
    "start_time": "2023-04-20T18:08:33.392Z"
   },
   {
    "duration": 196,
    "start_time": "2023-04-20T18:08:33.804Z"
   },
   {
    "duration": 180,
    "start_time": "2023-04-20T18:08:34.284Z"
   },
   {
    "duration": 199,
    "start_time": "2023-04-20T18:08:36.014Z"
   },
   {
    "duration": 192,
    "start_time": "2023-04-20T18:08:39.755Z"
   },
   {
    "duration": 240,
    "start_time": "2023-04-20T18:11:55.050Z"
   },
   {
    "duration": 189,
    "start_time": "2023-04-20T18:12:05.397Z"
   },
   {
    "duration": 217,
    "start_time": "2023-04-20T18:16:11.863Z"
   },
   {
    "duration": 206,
    "start_time": "2023-04-20T18:16:35.629Z"
   },
   {
    "duration": 118,
    "start_time": "2023-04-20T18:16:59.002Z"
   },
   {
    "duration": 199,
    "start_time": "2023-04-20T18:17:09.741Z"
   },
   {
    "duration": 78,
    "start_time": "2023-04-20T18:18:23.029Z"
   },
   {
    "duration": 256,
    "start_time": "2023-04-20T18:18:27.687Z"
   },
   {
    "duration": 113,
    "start_time": "2023-04-20T18:19:00.051Z"
   },
   {
    "duration": 301,
    "start_time": "2023-04-20T18:19:14.671Z"
   },
   {
    "duration": 220,
    "start_time": "2023-04-20T18:22:28.059Z"
   },
   {
    "duration": 206,
    "start_time": "2023-04-20T18:40:17.204Z"
   },
   {
    "duration": 234,
    "start_time": "2023-04-20T18:41:35.625Z"
   },
   {
    "duration": 199,
    "start_time": "2023-04-20T18:42:32.461Z"
   },
   {
    "duration": 2198,
    "start_time": "2023-04-21T16:24:47.885Z"
   },
   {
    "duration": 15,
    "start_time": "2023-04-21T16:24:50.084Z"
   },
   {
    "duration": 13,
    "start_time": "2023-04-21T16:24:50.100Z"
   },
   {
    "duration": 14,
    "start_time": "2023-04-21T16:24:50.115Z"
   },
   {
    "duration": 32,
    "start_time": "2023-04-21T16:24:50.131Z"
   },
   {
    "duration": 34,
    "start_time": "2023-04-21T16:24:50.165Z"
   },
   {
    "duration": 19,
    "start_time": "2023-04-21T16:24:50.200Z"
   },
   {
    "duration": 10,
    "start_time": "2023-04-21T16:24:50.220Z"
   },
   {
    "duration": 67,
    "start_time": "2023-04-21T16:24:50.232Z"
   },
   {
    "duration": 105,
    "start_time": "2023-04-21T16:24:50.301Z"
   },
   {
    "duration": 26,
    "start_time": "2023-04-21T16:24:50.407Z"
   },
   {
    "duration": 18,
    "start_time": "2023-04-21T16:24:50.435Z"
   },
   {
    "duration": 17,
    "start_time": "2023-04-21T16:24:50.469Z"
   },
   {
    "duration": 83,
    "start_time": "2023-04-21T16:24:50.575Z"
   },
   {
    "duration": 18,
    "start_time": "2023-04-21T16:24:50.785Z"
   },
   {
    "duration": 18,
    "start_time": "2023-04-21T16:24:51.001Z"
   },
   {
    "duration": 10,
    "start_time": "2023-04-21T16:24:51.232Z"
   },
   {
    "duration": 19,
    "start_time": "2023-04-21T16:24:51.899Z"
   },
   {
    "duration": 28,
    "start_time": "2023-04-21T16:24:52.184Z"
   },
   {
    "duration": 359,
    "start_time": "2023-04-21T16:24:52.436Z"
   },
   {
    "duration": 27,
    "start_time": "2023-04-21T16:24:52.798Z"
   },
   {
    "duration": 215,
    "start_time": "2023-04-21T16:24:53.541Z"
   },
   {
    "duration": 236,
    "start_time": "2023-04-21T16:24:53.929Z"
   },
   {
    "duration": 223,
    "start_time": "2023-04-21T16:24:54.317Z"
   },
   {
    "duration": 224,
    "start_time": "2023-04-21T16:24:54.660Z"
   },
   {
    "duration": 158,
    "start_time": "2023-04-21T16:24:55.020Z"
   },
   {
    "duration": 174,
    "start_time": "2023-04-21T16:24:55.371Z"
   },
   {
    "duration": 229,
    "start_time": "2023-04-21T16:24:55.709Z"
   },
   {
    "duration": 113,
    "start_time": "2023-04-21T16:24:56.021Z"
   },
   {
    "duration": 155,
    "start_time": "2023-04-21T16:24:56.341Z"
   },
   {
    "duration": 203,
    "start_time": "2023-04-21T16:24:56.729Z"
   },
   {
    "duration": 240,
    "start_time": "2023-04-21T16:24:57.291Z"
   },
   {
    "duration": 173,
    "start_time": "2023-04-21T16:24:57.725Z"
   },
   {
    "duration": 178,
    "start_time": "2023-04-21T16:24:58.130Z"
   },
   {
    "duration": 172,
    "start_time": "2023-04-21T16:24:58.542Z"
   },
   {
    "duration": 288,
    "start_time": "2023-04-21T16:24:58.946Z"
   },
   {
    "duration": 3714,
    "start_time": "2023-04-24T17:10:54.752Z"
   },
   {
    "duration": 20,
    "start_time": "2023-04-24T17:10:58.468Z"
   },
   {
    "duration": 13,
    "start_time": "2023-04-24T17:10:58.490Z"
   },
   {
    "duration": 5,
    "start_time": "2023-04-24T17:10:58.505Z"
   },
   {
    "duration": 7,
    "start_time": "2023-04-24T17:10:58.511Z"
   },
   {
    "duration": 9,
    "start_time": "2023-04-24T17:10:58.520Z"
   },
   {
    "duration": 7,
    "start_time": "2023-04-24T17:10:58.530Z"
   },
   {
    "duration": 15,
    "start_time": "2023-04-24T17:10:58.539Z"
   },
   {
    "duration": 25,
    "start_time": "2023-04-24T17:10:58.556Z"
   },
   {
    "duration": 17,
    "start_time": "2023-04-24T17:10:58.584Z"
   },
   {
    "duration": 22,
    "start_time": "2023-04-24T17:10:58.602Z"
   },
   {
    "duration": 22,
    "start_time": "2023-04-24T17:10:58.626Z"
   },
   {
    "duration": 23,
    "start_time": "2023-04-24T17:10:58.649Z"
   },
   {
    "duration": 114,
    "start_time": "2023-04-24T17:10:58.673Z"
   },
   {
    "duration": 22,
    "start_time": "2023-04-24T17:10:58.789Z"
   },
   {
    "duration": 37,
    "start_time": "2023-04-24T17:10:58.813Z"
   },
   {
    "duration": 13,
    "start_time": "2023-04-24T17:10:58.851Z"
   },
   {
    "duration": 24,
    "start_time": "2023-04-24T17:10:58.866Z"
   },
   {
    "duration": 56,
    "start_time": "2023-04-24T17:10:58.892Z"
   },
   {
    "duration": 314,
    "start_time": "2023-04-24T17:10:58.950Z"
   },
   {
    "duration": 35,
    "start_time": "2023-04-24T17:10:59.266Z"
   },
   {
    "duration": 256,
    "start_time": "2023-04-24T17:10:59.757Z"
   },
   {
    "duration": 381,
    "start_time": "2023-04-24T17:11:00.095Z"
   },
   {
    "duration": 300,
    "start_time": "2023-04-24T17:11:00.478Z"
   },
   {
    "duration": 278,
    "start_time": "2023-04-24T17:11:00.781Z"
   },
   {
    "duration": 184,
    "start_time": "2023-04-24T17:11:01.098Z"
   },
   {
    "duration": 181,
    "start_time": "2023-04-24T17:11:01.443Z"
   },
   {
    "duration": 187,
    "start_time": "2023-04-24T17:11:01.779Z"
   },
   {
    "duration": 110,
    "start_time": "2023-04-24T17:11:02.129Z"
   },
   {
    "duration": 182,
    "start_time": "2023-04-24T17:11:02.483Z"
   },
   {
    "duration": 354,
    "start_time": "2023-04-24T17:11:02.848Z"
   },
   {
    "duration": 262,
    "start_time": "2023-04-24T17:11:03.663Z"
   },
   {
    "duration": 183,
    "start_time": "2023-04-24T17:11:04.204Z"
   },
   {
    "duration": 198,
    "start_time": "2023-04-24T17:11:07.388Z"
   },
   {
    "duration": 188,
    "start_time": "2023-04-24T17:11:08.470Z"
   },
   {
    "duration": 253,
    "start_time": "2023-04-24T17:11:10.789Z"
   },
   {
    "duration": 797,
    "start_time": "2023-04-24T17:44:10.128Z"
   },
   {
    "duration": 47,
    "start_time": "2023-04-24T17:45:02.797Z"
   },
   {
    "duration": 3958,
    "start_time": "2023-04-25T15:41:31.234Z"
   },
   {
    "duration": 29,
    "start_time": "2023-04-25T15:41:35.196Z"
   },
   {
    "duration": 17,
    "start_time": "2023-04-25T15:41:35.226Z"
   },
   {
    "duration": 6,
    "start_time": "2023-04-25T15:41:35.247Z"
   },
   {
    "duration": 16,
    "start_time": "2023-04-25T15:41:35.256Z"
   },
   {
    "duration": 9,
    "start_time": "2023-04-25T15:41:35.274Z"
   },
   {
    "duration": 18,
    "start_time": "2023-04-25T15:41:35.285Z"
   },
   {
    "duration": 10,
    "start_time": "2023-04-25T15:41:35.306Z"
   },
   {
    "duration": 30,
    "start_time": "2023-04-25T15:41:35.319Z"
   },
   {
    "duration": 37,
    "start_time": "2023-04-25T15:41:35.354Z"
   },
   {
    "duration": 47,
    "start_time": "2023-04-25T15:41:35.394Z"
   },
   {
    "duration": 28,
    "start_time": "2023-04-25T15:41:35.444Z"
   },
   {
    "duration": 24,
    "start_time": "2023-04-25T15:41:35.476Z"
   },
   {
    "duration": 158,
    "start_time": "2023-04-25T15:41:35.503Z"
   },
   {
    "duration": 24,
    "start_time": "2023-04-25T15:41:35.663Z"
   },
   {
    "duration": 55,
    "start_time": "2023-04-25T15:41:35.690Z"
   },
   {
    "duration": 16,
    "start_time": "2023-04-25T15:41:35.748Z"
   },
   {
    "duration": 32,
    "start_time": "2023-04-25T15:41:35.766Z"
   },
   {
    "duration": 65,
    "start_time": "2023-04-25T15:41:35.801Z"
   },
   {
    "duration": 388,
    "start_time": "2023-04-25T15:41:35.868Z"
   },
   {
    "duration": 48,
    "start_time": "2023-04-25T15:41:36.258Z"
   },
   {
    "duration": 336,
    "start_time": "2023-04-25T15:41:36.506Z"
   },
   {
    "duration": 468,
    "start_time": "2023-04-25T15:41:36.902Z"
   },
   {
    "duration": 332,
    "start_time": "2023-04-25T15:41:37.372Z"
   },
   {
    "duration": 316,
    "start_time": "2023-04-25T15:41:37.706Z"
   },
   {
    "duration": 243,
    "start_time": "2023-04-25T15:41:38.025Z"
   },
   {
    "duration": 215,
    "start_time": "2023-04-25T15:41:38.329Z"
   },
   {
    "duration": 218,
    "start_time": "2023-04-25T15:41:38.735Z"
   },
   {
    "duration": 137,
    "start_time": "2023-04-25T15:41:39.326Z"
   },
   {
    "duration": 217,
    "start_time": "2023-04-25T15:41:39.590Z"
   },
   {
    "duration": 430,
    "start_time": "2023-04-25T15:41:40.190Z"
   },
   {
    "duration": 328,
    "start_time": "2023-04-25T15:41:40.624Z"
   },
   {
    "duration": 217,
    "start_time": "2023-04-25T15:41:41.011Z"
   },
   {
    "duration": 240,
    "start_time": "2023-04-25T15:41:41.827Z"
   },
   {
    "duration": 223,
    "start_time": "2023-04-25T15:41:42.257Z"
   },
   {
    "duration": 296,
    "start_time": "2023-04-25T15:41:42.703Z"
   },
   {
    "duration": 59,
    "start_time": "2023-04-25T15:41:43.125Z"
   },
   {
    "duration": 2621,
    "start_time": "2023-04-25T15:47:16.799Z"
   },
   {
    "duration": 43,
    "start_time": "2023-04-25T15:47:19.423Z"
   },
   {
    "duration": 20,
    "start_time": "2023-04-25T15:47:19.468Z"
   },
   {
    "duration": 23,
    "start_time": "2023-04-25T15:47:19.493Z"
   },
   {
    "duration": 31,
    "start_time": "2023-04-25T15:47:19.519Z"
   },
   {
    "duration": 47,
    "start_time": "2023-04-25T15:47:19.552Z"
   },
   {
    "duration": 20,
    "start_time": "2023-04-25T15:47:19.602Z"
   },
   {
    "duration": 40,
    "start_time": "2023-04-25T15:47:19.625Z"
   },
   {
    "duration": 22,
    "start_time": "2023-04-25T15:47:19.668Z"
   },
   {
    "duration": 23,
    "start_time": "2023-04-25T15:47:19.693Z"
   },
   {
    "duration": 27,
    "start_time": "2023-04-25T15:47:19.719Z"
   },
   {
    "duration": 32,
    "start_time": "2023-04-25T15:47:19.750Z"
   },
   {
    "duration": 27,
    "start_time": "2023-04-25T15:47:19.784Z"
   },
   {
    "duration": 149,
    "start_time": "2023-04-25T15:47:19.814Z"
   },
   {
    "duration": 28,
    "start_time": "2023-04-25T15:47:19.966Z"
   },
   {
    "duration": 200,
    "start_time": "2023-04-25T15:47:19.996Z"
   },
   {
    "duration": 16,
    "start_time": "2023-04-25T15:47:20.198Z"
   },
   {
    "duration": 31,
    "start_time": "2023-04-25T15:47:20.258Z"
   },
   {
    "duration": 46,
    "start_time": "2023-04-25T15:47:20.339Z"
   },
   {
    "duration": 382,
    "start_time": "2023-04-25T15:47:20.424Z"
   },
   {
    "duration": 52,
    "start_time": "2023-04-25T15:47:20.809Z"
   },
   {
    "duration": 489,
    "start_time": "2023-04-25T15:47:20.864Z"
   },
   {
    "duration": 367,
    "start_time": "2023-04-25T15:47:21.356Z"
   },
   {
    "duration": 365,
    "start_time": "2023-04-25T15:47:21.725Z"
   },
   {
    "duration": 339,
    "start_time": "2023-04-25T15:47:22.093Z"
   },
   {
    "duration": 284,
    "start_time": "2023-04-25T15:47:22.435Z"
   },
   {
    "duration": 238,
    "start_time": "2023-04-25T15:47:22.721Z"
   },
   {
    "duration": 245,
    "start_time": "2023-04-25T15:47:22.962Z"
   },
   {
    "duration": 151,
    "start_time": "2023-04-25T15:47:23.209Z"
   },
   {
    "duration": 383,
    "start_time": "2023-04-25T15:47:23.363Z"
   },
   {
    "duration": 333,
    "start_time": "2023-04-25T15:47:23.748Z"
   },
   {
    "duration": 348,
    "start_time": "2023-04-25T15:47:24.084Z"
   },
   {
    "duration": 266,
    "start_time": "2023-04-25T15:47:24.441Z"
   },
   {
    "duration": 289,
    "start_time": "2023-04-25T15:47:24.709Z"
   },
   {
    "duration": 254,
    "start_time": "2023-04-25T15:47:25.001Z"
   },
   {
    "duration": 335,
    "start_time": "2023-04-25T15:47:25.257Z"
   },
   {
    "duration": 68,
    "start_time": "2023-04-25T15:47:25.595Z"
   },
   {
    "duration": 2658,
    "start_time": "2023-04-25T15:55:31.701Z"
   },
   {
    "duration": 23,
    "start_time": "2023-04-25T15:55:34.361Z"
   },
   {
    "duration": 15,
    "start_time": "2023-04-25T15:55:34.386Z"
   },
   {
    "duration": 39,
    "start_time": "2023-04-25T15:55:34.404Z"
   },
   {
    "duration": 32,
    "start_time": "2023-04-25T15:55:34.446Z"
   },
   {
    "duration": 20,
    "start_time": "2023-04-25T15:55:34.482Z"
   },
   {
    "duration": 18,
    "start_time": "2023-04-25T15:55:34.504Z"
   },
   {
    "duration": 16,
    "start_time": "2023-04-25T15:55:34.525Z"
   },
   {
    "duration": 18,
    "start_time": "2023-04-25T15:55:34.544Z"
   },
   {
    "duration": 40,
    "start_time": "2023-04-25T15:55:34.566Z"
   },
   {
    "duration": 64,
    "start_time": "2023-04-25T15:55:34.608Z"
   },
   {
    "duration": 25,
    "start_time": "2023-04-25T15:55:34.675Z"
   },
   {
    "duration": 25,
    "start_time": "2023-04-25T15:55:34.703Z"
   },
   {
    "duration": 118,
    "start_time": "2023-04-25T15:55:34.730Z"
   },
   {
    "duration": 24,
    "start_time": "2023-04-25T15:55:34.850Z"
   },
   {
    "duration": 37,
    "start_time": "2023-04-25T15:55:34.876Z"
   },
   {
    "duration": 35,
    "start_time": "2023-04-25T15:55:34.915Z"
   },
   {
    "duration": 29,
    "start_time": "2023-04-25T15:55:34.952Z"
   },
   {
    "duration": 64,
    "start_time": "2023-04-25T15:55:34.983Z"
   },
   {
    "duration": 481,
    "start_time": "2023-04-25T15:55:35.049Z"
   },
   {
    "duration": 45,
    "start_time": "2023-04-25T15:55:35.532Z"
   },
   {
    "duration": 467,
    "start_time": "2023-04-25T15:55:35.579Z"
   },
   {
    "duration": 355,
    "start_time": "2023-04-25T15:55:36.049Z"
   },
   {
    "duration": 368,
    "start_time": "2023-04-25T15:55:36.408Z"
   },
   {
    "duration": 317,
    "start_time": "2023-04-25T15:55:36.778Z"
   },
   {
    "duration": 231,
    "start_time": "2023-04-25T15:55:37.098Z"
   },
   {
    "duration": 246,
    "start_time": "2023-04-25T15:55:37.342Z"
   },
   {
    "duration": 366,
    "start_time": "2023-04-25T15:55:37.591Z"
   },
   {
    "duration": 156,
    "start_time": "2023-04-25T15:55:37.960Z"
   },
   {
    "duration": 237,
    "start_time": "2023-04-25T15:55:38.118Z"
   },
   {
    "duration": 326,
    "start_time": "2023-04-25T15:55:38.359Z"
   },
   {
    "duration": 355,
    "start_time": "2023-04-25T15:55:38.689Z"
   },
   {
    "duration": 263,
    "start_time": "2023-04-25T15:55:39.046Z"
   },
   {
    "duration": 268,
    "start_time": "2023-04-25T15:55:39.311Z"
   },
   {
    "duration": 242,
    "start_time": "2023-04-25T15:55:39.582Z"
   },
   {
    "duration": 517,
    "start_time": "2023-04-25T15:55:39.826Z"
   },
   {
    "duration": 57,
    "start_time": "2023-04-25T15:55:40.350Z"
   },
   {
    "duration": 103,
    "start_time": "2023-04-25T15:55:40.410Z"
   },
   {
    "duration": 205,
    "start_time": "2023-04-25T15:56:33.548Z"
   },
   {
    "duration": 199,
    "start_time": "2023-04-25T15:56:38.833Z"
   },
   {
    "duration": 154,
    "start_time": "2023-04-25T15:59:23.452Z"
   },
   {
    "duration": 2494,
    "start_time": "2023-04-25T16:06:41.384Z"
   },
   {
    "duration": 21,
    "start_time": "2023-04-25T16:06:43.880Z"
   },
   {
    "duration": 21,
    "start_time": "2023-04-25T16:06:43.903Z"
   },
   {
    "duration": 7,
    "start_time": "2023-04-25T16:06:43.940Z"
   },
   {
    "duration": 10,
    "start_time": "2023-04-25T16:06:43.950Z"
   },
   {
    "duration": 9,
    "start_time": "2023-04-25T16:06:43.963Z"
   },
   {
    "duration": 21,
    "start_time": "2023-04-25T16:06:43.975Z"
   },
   {
    "duration": 12,
    "start_time": "2023-04-25T16:06:43.999Z"
   },
   {
    "duration": 14,
    "start_time": "2023-04-25T16:06:44.013Z"
   },
   {
    "duration": 20,
    "start_time": "2023-04-25T16:06:44.041Z"
   },
   {
    "duration": 125,
    "start_time": "2023-04-25T16:06:44.063Z"
   },
   {
    "duration": 24,
    "start_time": "2023-04-25T16:06:44.191Z"
   },
   {
    "duration": 24,
    "start_time": "2023-04-25T16:06:44.217Z"
   },
   {
    "duration": 114,
    "start_time": "2023-04-25T16:06:44.243Z"
   },
   {
    "duration": 24,
    "start_time": "2023-04-25T16:06:44.359Z"
   },
   {
    "duration": 25,
    "start_time": "2023-04-25T16:06:44.386Z"
   },
   {
    "duration": 40,
    "start_time": "2023-04-25T16:06:44.413Z"
   },
   {
    "duration": 30,
    "start_time": "2023-04-25T16:06:44.455Z"
   },
   {
    "duration": 63,
    "start_time": "2023-04-25T16:06:44.487Z"
   },
   {
    "duration": 337,
    "start_time": "2023-04-25T16:06:44.553Z"
   },
   {
    "duration": 51,
    "start_time": "2023-04-25T16:06:44.892Z"
   },
   {
    "duration": 323,
    "start_time": "2023-04-25T16:06:44.944Z"
   },
   {
    "duration": 355,
    "start_time": "2023-04-25T16:06:45.272Z"
   },
   {
    "duration": 591,
    "start_time": "2023-04-25T16:06:45.629Z"
   },
   {
    "duration": 338,
    "start_time": "2023-04-25T16:06:46.223Z"
   },
   {
    "duration": 268,
    "start_time": "2023-04-25T16:06:46.564Z"
   },
   {
    "duration": 221,
    "start_time": "2023-04-25T16:06:46.841Z"
   },
   {
    "duration": 235,
    "start_time": "2023-04-25T16:06:47.064Z"
   },
   {
    "duration": 158,
    "start_time": "2023-04-25T16:06:47.301Z"
   },
   {
    "duration": 231,
    "start_time": "2023-04-25T16:06:47.462Z"
   },
   {
    "duration": 340,
    "start_time": "2023-04-25T16:06:47.695Z"
   },
   {
    "duration": 324,
    "start_time": "2023-04-25T16:06:48.042Z"
   },
   {
    "duration": 373,
    "start_time": "2023-04-25T16:06:48.368Z"
   },
   {
    "duration": 249,
    "start_time": "2023-04-25T16:06:48.743Z"
   },
   {
    "duration": 229,
    "start_time": "2023-04-25T16:06:48.994Z"
   },
   {
    "duration": 316,
    "start_time": "2023-04-25T16:06:49.226Z"
   },
   {
    "duration": 53,
    "start_time": "2023-04-25T16:06:49.544Z"
   },
   {
    "duration": 181,
    "start_time": "2023-04-25T16:06:49.600Z"
   },
   {
    "duration": 6,
    "start_time": "2023-04-25T17:12:35.077Z"
   },
   {
    "duration": 115,
    "start_time": "2023-04-25T17:13:10.507Z"
   },
   {
    "duration": 152,
    "start_time": "2023-04-25T17:13:32.981Z"
   },
   {
    "duration": 23,
    "start_time": "2023-04-25T17:35:49.219Z"
   },
   {
    "duration": 102,
    "start_time": "2023-04-25T17:36:06.926Z"
   },
   {
    "duration": 17,
    "start_time": "2023-04-25T17:36:13.005Z"
   },
   {
    "duration": 20,
    "start_time": "2023-04-25T17:36:30.076Z"
   },
   {
    "duration": 0,
    "start_time": "2023-04-25T18:15:59.281Z"
   },
   {
    "duration": 193,
    "start_time": "2023-04-25T18:17:02.886Z"
   },
   {
    "duration": 185,
    "start_time": "2023-04-25T18:17:08.989Z"
   },
   {
    "duration": 168,
    "start_time": "2023-04-25T18:19:13.381Z"
   },
   {
    "duration": 179,
    "start_time": "2023-04-25T18:19:50.469Z"
   },
   {
    "duration": 521,
    "start_time": "2023-04-25T18:22:54.813Z"
   },
   {
    "duration": 448,
    "start_time": "2023-04-25T18:23:03.069Z"
   },
   {
    "duration": 458,
    "start_time": "2023-04-25T18:23:10.370Z"
   },
   {
    "duration": 337,
    "start_time": "2023-04-25T18:23:26.915Z"
   },
   {
    "duration": 455,
    "start_time": "2023-04-25T18:23:42.960Z"
   },
   {
    "duration": 5898,
    "start_time": "2023-04-25T18:23:53.435Z"
   },
   {
    "duration": 377,
    "start_time": "2023-04-25T18:26:10.369Z"
   },
   {
    "duration": 1844,
    "start_time": "2023-04-25T18:26:54.622Z"
   },
   {
    "duration": 404,
    "start_time": "2023-04-25T18:27:02.001Z"
   },
   {
    "duration": 194,
    "start_time": "2023-04-25T18:27:28.105Z"
   },
   {
    "duration": 173,
    "start_time": "2023-04-25T18:27:36.828Z"
   },
   {
    "duration": 194,
    "start_time": "2023-04-25T18:27:55.594Z"
   },
   {
    "duration": 196,
    "start_time": "2023-04-25T18:28:51.201Z"
   },
   {
    "duration": 2507,
    "start_time": "2023-04-25T18:35:04.478Z"
   },
   {
    "duration": 21,
    "start_time": "2023-04-25T18:35:06.988Z"
   },
   {
    "duration": 64,
    "start_time": "2023-04-25T18:35:07.011Z"
   },
   {
    "duration": 32,
    "start_time": "2023-04-25T18:35:07.078Z"
   },
   {
    "duration": 52,
    "start_time": "2023-04-25T18:35:07.112Z"
   },
   {
    "duration": 21,
    "start_time": "2023-04-25T18:35:07.166Z"
   },
   {
    "duration": 24,
    "start_time": "2023-04-25T18:35:07.189Z"
   },
   {
    "duration": 29,
    "start_time": "2023-04-25T18:35:07.215Z"
   },
   {
    "duration": 29,
    "start_time": "2023-04-25T18:35:07.247Z"
   },
   {
    "duration": 27,
    "start_time": "2023-04-25T18:35:07.279Z"
   },
   {
    "duration": 48,
    "start_time": "2023-04-25T18:35:07.308Z"
   },
   {
    "duration": 21,
    "start_time": "2023-04-25T18:35:07.359Z"
   },
   {
    "duration": 23,
    "start_time": "2023-04-25T18:35:07.382Z"
   },
   {
    "duration": 131,
    "start_time": "2023-04-25T18:35:07.407Z"
   },
   {
    "duration": 28,
    "start_time": "2023-04-25T18:35:07.541Z"
   },
   {
    "duration": 34,
    "start_time": "2023-04-25T18:35:07.571Z"
   },
   {
    "duration": 13,
    "start_time": "2023-04-25T18:35:07.607Z"
   },
   {
    "duration": 35,
    "start_time": "2023-04-25T18:35:07.641Z"
   },
   {
    "duration": 37,
    "start_time": "2023-04-25T18:35:07.678Z"
   },
   {
    "duration": 328,
    "start_time": "2023-04-25T18:35:07.717Z"
   },
   {
    "duration": 40,
    "start_time": "2023-04-25T18:35:08.047Z"
   },
   {
    "duration": 331,
    "start_time": "2023-04-25T18:35:08.089Z"
   },
   {
    "duration": 345,
    "start_time": "2023-04-25T18:35:08.422Z"
   },
   {
    "duration": 318,
    "start_time": "2023-04-25T18:35:08.770Z"
   },
   {
    "duration": 334,
    "start_time": "2023-04-25T18:35:09.090Z"
   },
   {
    "duration": 239,
    "start_time": "2023-04-25T18:35:09.427Z"
   },
   {
    "duration": 231,
    "start_time": "2023-04-25T18:35:09.669Z"
   },
   {
    "duration": 254,
    "start_time": "2023-04-25T18:35:09.902Z"
   },
   {
    "duration": 143,
    "start_time": "2023-04-25T18:35:10.159Z"
   },
   {
    "duration": 245,
    "start_time": "2023-04-25T18:35:10.305Z"
   },
   {
    "duration": 315,
    "start_time": "2023-04-25T18:35:10.634Z"
   },
   {
    "duration": 343,
    "start_time": "2023-04-25T18:35:10.951Z"
   },
   {
    "duration": 252,
    "start_time": "2023-04-25T18:35:11.296Z"
   },
   {
    "duration": 261,
    "start_time": "2023-04-25T18:35:11.550Z"
   },
   {
    "duration": 1001,
    "start_time": "2023-04-25T18:35:11.813Z"
   },
   {
    "duration": 371,
    "start_time": "2023-04-25T18:35:12.816Z"
   },
   {
    "duration": 6,
    "start_time": "2023-04-25T18:35:16.718Z"
   },
   {
    "duration": 15,
    "start_time": "2023-04-25T18:36:27.846Z"
   },
   {
    "duration": 236,
    "start_time": "2023-04-25T18:42:14.412Z"
   },
   {
    "duration": 104,
    "start_time": "2023-04-25T18:43:19.583Z"
   },
   {
    "duration": 261,
    "start_time": "2023-04-25T18:43:25.256Z"
   },
   {
    "duration": 284,
    "start_time": "2023-04-25T18:43:43.721Z"
   },
   {
    "duration": 266,
    "start_time": "2023-04-25T18:45:21.160Z"
   },
   {
    "duration": 2679,
    "start_time": "2023-04-27T16:04:48.121Z"
   },
   {
    "duration": 18,
    "start_time": "2023-04-27T16:04:50.802Z"
   },
   {
    "duration": 11,
    "start_time": "2023-04-27T16:04:50.821Z"
   },
   {
    "duration": 4,
    "start_time": "2023-04-27T16:04:50.834Z"
   },
   {
    "duration": 11,
    "start_time": "2023-04-27T16:04:50.839Z"
   },
   {
    "duration": 13,
    "start_time": "2023-04-27T16:04:50.852Z"
   },
   {
    "duration": 22,
    "start_time": "2023-04-27T16:04:50.867Z"
   },
   {
    "duration": 7,
    "start_time": "2023-04-27T16:04:50.891Z"
   },
   {
    "duration": 25,
    "start_time": "2023-04-27T16:04:50.900Z"
   },
   {
    "duration": 25,
    "start_time": "2023-04-27T16:04:50.927Z"
   },
   {
    "duration": 25,
    "start_time": "2023-04-27T16:04:50.954Z"
   },
   {
    "duration": 17,
    "start_time": "2023-04-27T16:04:50.981Z"
   },
   {
    "duration": 17,
    "start_time": "2023-04-27T16:04:51.000Z"
   },
   {
    "duration": 87,
    "start_time": "2023-04-27T16:04:51.019Z"
   },
   {
    "duration": 17,
    "start_time": "2023-04-27T16:04:51.108Z"
   },
   {
    "duration": 27,
    "start_time": "2023-04-27T16:04:51.127Z"
   },
   {
    "duration": 10,
    "start_time": "2023-04-27T16:04:51.156Z"
   },
   {
    "duration": 35,
    "start_time": "2023-04-27T16:04:51.168Z"
   },
   {
    "duration": 28,
    "start_time": "2023-04-27T16:04:51.205Z"
   },
   {
    "duration": 283,
    "start_time": "2023-04-27T16:04:51.234Z"
   },
   {
    "duration": 29,
    "start_time": "2023-04-27T16:04:51.519Z"
   },
   {
    "duration": 223,
    "start_time": "2023-04-27T16:04:51.549Z"
   },
   {
    "duration": 329,
    "start_time": "2023-04-27T16:04:51.773Z"
   },
   {
    "duration": 240,
    "start_time": "2023-04-27T16:04:52.104Z"
   },
   {
    "duration": 255,
    "start_time": "2023-04-27T16:04:52.346Z"
   },
   {
    "duration": 175,
    "start_time": "2023-04-27T16:04:52.603Z"
   },
   {
    "duration": 184,
    "start_time": "2023-04-27T16:04:52.779Z"
   },
   {
    "duration": 178,
    "start_time": "2023-04-27T16:04:52.965Z"
   },
   {
    "duration": 109,
    "start_time": "2023-04-27T16:04:53.145Z"
   },
   {
    "duration": 177,
    "start_time": "2023-04-27T16:04:53.256Z"
   },
   {
    "duration": 345,
    "start_time": "2023-04-27T16:04:53.436Z"
   },
   {
    "duration": 249,
    "start_time": "2023-04-27T16:04:53.783Z"
   },
   {
    "duration": 226,
    "start_time": "2023-04-27T16:04:54.035Z"
   },
   {
    "duration": 192,
    "start_time": "2023-04-27T16:04:54.263Z"
   },
   {
    "duration": 178,
    "start_time": "2023-04-27T16:04:54.456Z"
   },
   {
    "duration": 236,
    "start_time": "2023-04-27T16:04:54.636Z"
   },
   {
    "duration": 7,
    "start_time": "2023-04-27T16:04:54.873Z"
   },
   {
    "duration": 213,
    "start_time": "2023-04-27T16:04:54.882Z"
   },
   {
    "duration": 62,
    "start_time": "2023-04-27T16:04:55.961Z"
   },
   {
    "duration": 37,
    "start_time": "2023-04-27T16:21:10.409Z"
   },
   {
    "duration": 93,
    "start_time": "2023-04-27T17:09:39.534Z"
   },
   {
    "duration": 169,
    "start_time": "2023-04-27T17:17:06.656Z"
   },
   {
    "duration": 552,
    "start_time": "2023-04-27T17:17:21.694Z"
   },
   {
    "duration": 147,
    "start_time": "2023-04-27T17:17:32.188Z"
   },
   {
    "duration": 95,
    "start_time": "2023-04-27T17:17:49.251Z"
   },
   {
    "duration": 156,
    "start_time": "2023-04-27T17:17:59.509Z"
   },
   {
    "duration": 107,
    "start_time": "2023-04-27T17:18:09.295Z"
   },
   {
    "duration": 104,
    "start_time": "2023-04-27T17:18:31.049Z"
   },
   {
    "duration": 93,
    "start_time": "2023-04-27T17:19:13.748Z"
   },
   {
    "duration": 1941,
    "start_time": "2023-04-27T17:19:22.113Z"
   },
   {
    "duration": 109,
    "start_time": "2023-04-27T17:19:32.593Z"
   },
   {
    "duration": 106,
    "start_time": "2023-04-27T17:30:38.567Z"
   },
   {
    "duration": 138,
    "start_time": "2023-04-27T17:43:48.121Z"
   },
   {
    "duration": 160,
    "start_time": "2023-04-27T17:44:02.002Z"
   },
   {
    "duration": 144,
    "start_time": "2023-04-27T17:44:08.057Z"
   },
   {
    "duration": 164,
    "start_time": "2023-04-27T17:44:14.148Z"
   },
   {
    "duration": 149,
    "start_time": "2023-04-27T17:44:43.711Z"
   },
   {
    "duration": 216,
    "start_time": "2023-04-27T17:48:10.639Z"
   },
   {
    "duration": 238,
    "start_time": "2023-04-27T17:48:28.701Z"
   },
   {
    "duration": 121,
    "start_time": "2023-04-27T17:48:35.901Z"
   },
   {
    "duration": 116,
    "start_time": "2023-04-27T17:48:46.455Z"
   },
   {
    "duration": 115,
    "start_time": "2023-04-27T17:48:50.056Z"
   },
   {
    "duration": 287,
    "start_time": "2023-04-27T17:48:55.584Z"
   },
   {
    "duration": 129,
    "start_time": "2023-04-27T17:48:59.718Z"
   },
   {
    "duration": 101,
    "start_time": "2023-04-27T17:49:22.656Z"
   },
   {
    "duration": 8,
    "start_time": "2023-04-27T17:51:47.025Z"
   },
   {
    "duration": 1463,
    "start_time": "2023-04-27T17:51:53.007Z"
   },
   {
    "duration": 1161,
    "start_time": "2023-04-27T17:52:01.119Z"
   },
   {
    "duration": 32,
    "start_time": "2023-04-27T17:54:38.129Z"
   },
   {
    "duration": 4,
    "start_time": "2023-04-27T18:39:40.271Z"
   },
   {
    "duration": 6,
    "start_time": "2023-04-27T18:39:54.526Z"
   },
   {
    "duration": 1181,
    "start_time": "2023-04-27T18:48:47.639Z"
   },
   {
    "duration": 1241,
    "start_time": "2023-04-27T18:48:52.831Z"
   },
   {
    "duration": 1225,
    "start_time": "2023-04-27T18:49:17.328Z"
   },
   {
    "duration": 1400,
    "start_time": "2023-04-27T18:49:32.872Z"
   },
   {
    "duration": 1329,
    "start_time": "2023-04-27T18:49:54.720Z"
   },
   {
    "duration": 1258,
    "start_time": "2023-04-27T18:50:02.504Z"
   },
   {
    "duration": 1279,
    "start_time": "2023-04-27T18:50:27.041Z"
   },
   {
    "duration": 1323,
    "start_time": "2023-04-27T18:50:35.053Z"
   },
   {
    "duration": 1248,
    "start_time": "2023-04-27T18:50:48.635Z"
   },
   {
    "duration": 1232,
    "start_time": "2023-04-27T18:51:36.139Z"
   },
   {
    "duration": 1489,
    "start_time": "2023-04-27T18:54:58.243Z"
   },
   {
    "duration": 1425,
    "start_time": "2023-04-27T18:55:15.351Z"
   },
   {
    "duration": 47,
    "start_time": "2023-04-27T18:55:35.269Z"
   },
   {
    "duration": 1384,
    "start_time": "2023-04-27T18:55:42.133Z"
   },
   {
    "duration": 1361,
    "start_time": "2023-04-27T18:55:49.586Z"
   },
   {
    "duration": 1674,
    "start_time": "2023-04-27T18:59:32.796Z"
   },
   {
    "duration": 1391,
    "start_time": "2023-04-27T19:00:10.122Z"
   },
   {
    "duration": 3519,
    "start_time": "2023-04-30T17:27:28.895Z"
   },
   {
    "duration": 25,
    "start_time": "2023-04-30T17:27:32.417Z"
   },
   {
    "duration": 13,
    "start_time": "2023-04-30T17:27:32.444Z"
   },
   {
    "duration": 5,
    "start_time": "2023-04-30T17:27:32.459Z"
   },
   {
    "duration": 6,
    "start_time": "2023-04-30T17:27:32.465Z"
   },
   {
    "duration": 8,
    "start_time": "2023-04-30T17:27:32.473Z"
   },
   {
    "duration": 5,
    "start_time": "2023-04-30T17:27:32.483Z"
   },
   {
    "duration": 4,
    "start_time": "2023-04-30T17:27:32.489Z"
   },
   {
    "duration": 9,
    "start_time": "2023-04-30T17:27:32.494Z"
   },
   {
    "duration": 26,
    "start_time": "2023-04-30T17:27:32.506Z"
   },
   {
    "duration": 43,
    "start_time": "2023-04-30T17:27:32.533Z"
   },
   {
    "duration": 28,
    "start_time": "2023-04-30T17:27:32.578Z"
   },
   {
    "duration": 19,
    "start_time": "2023-04-30T17:27:32.608Z"
   },
   {
    "duration": 137,
    "start_time": "2023-04-30T17:27:32.628Z"
   },
   {
    "duration": 18,
    "start_time": "2023-04-30T17:27:32.767Z"
   },
   {
    "duration": 36,
    "start_time": "2023-04-30T17:27:32.787Z"
   },
   {
    "duration": 31,
    "start_time": "2023-04-30T17:27:32.825Z"
   },
   {
    "duration": 32,
    "start_time": "2023-04-30T17:27:32.858Z"
   },
   {
    "duration": 44,
    "start_time": "2023-04-30T17:27:32.892Z"
   },
   {
    "duration": 279,
    "start_time": "2023-04-30T17:27:32.938Z"
   },
   {
    "duration": 39,
    "start_time": "2023-04-30T17:27:33.219Z"
   },
   {
    "duration": 251,
    "start_time": "2023-04-30T17:27:33.259Z"
   },
   {
    "duration": 310,
    "start_time": "2023-04-30T17:27:33.512Z"
   },
   {
    "duration": 290,
    "start_time": "2023-04-30T17:27:35.158Z"
   },
   {
    "duration": 368,
    "start_time": "2023-04-30T17:27:35.564Z"
   },
   {
    "duration": 176,
    "start_time": "2023-04-30T17:27:35.950Z"
   },
   {
    "duration": 197,
    "start_time": "2023-04-30T17:27:36.641Z"
   },
   {
    "duration": 197,
    "start_time": "2023-04-30T17:27:36.840Z"
   },
   {
    "duration": 131,
    "start_time": "2023-04-30T17:27:37.039Z"
   },
   {
    "duration": 200,
    "start_time": "2023-04-30T17:27:37.172Z"
   },
   {
    "duration": 290,
    "start_time": "2023-04-30T17:27:37.373Z"
   },
   {
    "duration": 300,
    "start_time": "2023-04-30T17:27:37.665Z"
   },
   {
    "duration": 207,
    "start_time": "2023-04-30T17:27:37.967Z"
   },
   {
    "duration": 315,
    "start_time": "2023-04-30T17:27:38.176Z"
   },
   {
    "duration": 203,
    "start_time": "2023-04-30T17:27:38.493Z"
   },
   {
    "duration": 258,
    "start_time": "2023-04-30T17:27:38.698Z"
   },
   {
    "duration": 5,
    "start_time": "2023-04-30T17:27:38.958Z"
   },
   {
    "duration": 1832,
    "start_time": "2023-04-30T17:27:39.003Z"
   },
   {
    "duration": 3839,
    "start_time": "2023-05-01T12:02:16.089Z"
   },
   {
    "duration": 21,
    "start_time": "2023-05-01T12:02:19.931Z"
   },
   {
    "duration": 13,
    "start_time": "2023-05-01T12:02:19.953Z"
   },
   {
    "duration": 5,
    "start_time": "2023-05-01T12:02:19.968Z"
   },
   {
    "duration": 6,
    "start_time": "2023-05-01T12:02:19.983Z"
   },
   {
    "duration": 12,
    "start_time": "2023-05-01T12:02:19.990Z"
   },
   {
    "duration": 9,
    "start_time": "2023-05-01T12:02:20.004Z"
   },
   {
    "duration": 10,
    "start_time": "2023-05-01T12:02:20.014Z"
   },
   {
    "duration": 15,
    "start_time": "2023-05-01T12:02:20.026Z"
   },
   {
    "duration": 61,
    "start_time": "2023-05-01T12:02:20.044Z"
   },
   {
    "duration": 33,
    "start_time": "2023-05-01T12:02:20.107Z"
   },
   {
    "duration": 51,
    "start_time": "2023-05-01T12:02:20.142Z"
   },
   {
    "duration": 23,
    "start_time": "2023-05-01T12:02:20.195Z"
   },
   {
    "duration": 119,
    "start_time": "2023-05-01T12:02:20.221Z"
   },
   {
    "duration": 23,
    "start_time": "2023-05-01T12:02:20.342Z"
   },
   {
    "duration": 48,
    "start_time": "2023-05-01T12:02:20.367Z"
   },
   {
    "duration": 26,
    "start_time": "2023-05-01T12:02:20.417Z"
   },
   {
    "duration": 46,
    "start_time": "2023-05-01T12:02:20.445Z"
   },
   {
    "duration": 41,
    "start_time": "2023-05-01T12:02:20.493Z"
   },
   {
    "duration": 349,
    "start_time": "2023-05-01T12:02:20.536Z"
   },
   {
    "duration": 32,
    "start_time": "2023-05-01T12:02:20.887Z"
   },
   {
    "duration": 250,
    "start_time": "2023-05-01T12:02:20.920Z"
   },
   {
    "duration": 297,
    "start_time": "2023-05-01T12:02:21.171Z"
   },
   {
    "duration": 270,
    "start_time": "2023-05-01T12:02:21.469Z"
   },
   {
    "duration": 415,
    "start_time": "2023-05-01T12:02:21.741Z"
   },
   {
    "duration": 213,
    "start_time": "2023-05-01T12:02:22.159Z"
   },
   {
    "duration": 191,
    "start_time": "2023-05-01T12:02:22.374Z"
   },
   {
    "duration": 193,
    "start_time": "2023-05-01T12:02:22.568Z"
   },
   {
    "duration": 176,
    "start_time": "2023-05-01T12:02:22.763Z"
   },
   {
    "duration": 214,
    "start_time": "2023-05-01T12:02:22.942Z"
   },
   {
    "duration": 315,
    "start_time": "2023-05-01T12:02:23.158Z"
   },
   {
    "duration": 297,
    "start_time": "2023-05-01T12:02:23.474Z"
   },
   {
    "duration": 226,
    "start_time": "2023-05-01T12:02:23.773Z"
   },
   {
    "duration": 315,
    "start_time": "2023-05-01T12:02:24.001Z"
   },
   {
    "duration": 215,
    "start_time": "2023-05-01T12:02:24.317Z"
   },
   {
    "duration": 278,
    "start_time": "2023-05-01T12:02:24.534Z"
   },
   {
    "duration": 5,
    "start_time": "2023-05-01T12:02:24.813Z"
   },
   {
    "duration": 1817,
    "start_time": "2023-05-01T12:02:24.820Z"
   },
   {
    "duration": 3737,
    "start_time": "2023-05-02T11:19:02.852Z"
   },
   {
    "duration": 19,
    "start_time": "2023-05-02T11:19:06.591Z"
   },
   {
    "duration": 13,
    "start_time": "2023-05-02T11:19:06.612Z"
   },
   {
    "duration": 14,
    "start_time": "2023-05-02T11:19:06.628Z"
   },
   {
    "duration": 5,
    "start_time": "2023-05-02T11:19:06.644Z"
   },
   {
    "duration": 5,
    "start_time": "2023-05-02T11:19:06.651Z"
   },
   {
    "duration": 15,
    "start_time": "2023-05-02T11:19:06.658Z"
   },
   {
    "duration": 9,
    "start_time": "2023-05-02T11:19:06.675Z"
   },
   {
    "duration": 9,
    "start_time": "2023-05-02T11:19:06.692Z"
   },
   {
    "duration": 17,
    "start_time": "2023-05-02T11:19:06.705Z"
   },
   {
    "duration": 21,
    "start_time": "2023-05-02T11:19:06.723Z"
   },
   {
    "duration": 48,
    "start_time": "2023-05-02T11:19:06.746Z"
   },
   {
    "duration": 19,
    "start_time": "2023-05-02T11:19:06.795Z"
   },
   {
    "duration": 105,
    "start_time": "2023-05-02T11:19:06.816Z"
   },
   {
    "duration": 20,
    "start_time": "2023-05-02T11:19:06.923Z"
   },
   {
    "duration": 25,
    "start_time": "2023-05-02T11:19:06.945Z"
   },
   {
    "duration": 30,
    "start_time": "2023-05-02T11:19:06.972Z"
   },
   {
    "duration": 40,
    "start_time": "2023-05-02T11:19:07.003Z"
   },
   {
    "duration": 49,
    "start_time": "2023-05-02T11:19:07.045Z"
   },
   {
    "duration": 323,
    "start_time": "2023-05-02T11:19:07.096Z"
   },
   {
    "duration": 35,
    "start_time": "2023-05-02T11:19:07.421Z"
   },
   {
    "duration": 268,
    "start_time": "2023-05-02T11:19:07.458Z"
   },
   {
    "duration": 312,
    "start_time": "2023-05-02T11:19:07.728Z"
   },
   {
    "duration": 297,
    "start_time": "2023-05-02T11:19:08.042Z"
   },
   {
    "duration": 434,
    "start_time": "2023-05-02T11:19:08.341Z"
   },
   {
    "duration": 203,
    "start_time": "2023-05-02T11:19:08.777Z"
   },
   {
    "duration": 200,
    "start_time": "2023-05-02T11:19:08.982Z"
   },
   {
    "duration": 258,
    "start_time": "2023-05-02T11:19:09.185Z"
   },
   {
    "duration": 131,
    "start_time": "2023-05-02T11:19:09.444Z"
   },
   {
    "duration": 208,
    "start_time": "2023-05-02T11:19:09.577Z"
   },
   {
    "duration": 293,
    "start_time": "2023-05-02T11:19:09.792Z"
   },
   {
    "duration": 308,
    "start_time": "2023-05-02T11:19:10.087Z"
   },
   {
    "duration": 215,
    "start_time": "2023-05-02T11:19:10.397Z"
   },
   {
    "duration": 332,
    "start_time": "2023-05-02T11:19:10.615Z"
   },
   {
    "duration": 209,
    "start_time": "2023-05-02T11:19:10.949Z"
   },
   {
    "duration": 295,
    "start_time": "2023-05-02T11:19:11.160Z"
   },
   {
    "duration": 5,
    "start_time": "2023-05-02T11:19:11.457Z"
   },
   {
    "duration": 1909,
    "start_time": "2023-05-02T11:19:11.464Z"
   },
   {
    "duration": 1776,
    "start_time": "2023-05-02T12:31:17.194Z"
   },
   {
    "duration": 2357,
    "start_time": "2023-05-02T12:36:21.428Z"
   },
   {
    "duration": 1707,
    "start_time": "2023-05-02T12:36:24.767Z"
   },
   {
    "duration": 1985,
    "start_time": "2023-05-02T12:37:02.092Z"
   },
   {
    "duration": 2203,
    "start_time": "2023-05-02T13:50:21.428Z"
   },
   {
    "duration": 7527,
    "start_time": "2023-05-03T13:23:06.249Z"
   },
   {
    "duration": 21,
    "start_time": "2023-05-03T13:23:13.778Z"
   },
   {
    "duration": 13,
    "start_time": "2023-05-03T13:23:13.800Z"
   },
   {
    "duration": 13,
    "start_time": "2023-05-03T13:23:13.815Z"
   },
   {
    "duration": 45,
    "start_time": "2023-05-03T13:23:13.831Z"
   },
   {
    "duration": 10,
    "start_time": "2023-05-03T13:23:13.878Z"
   },
   {
    "duration": 9,
    "start_time": "2023-05-03T13:23:13.890Z"
   },
   {
    "duration": 12,
    "start_time": "2023-05-03T13:23:13.901Z"
   },
   {
    "duration": 56,
    "start_time": "2023-05-03T13:23:13.915Z"
   },
   {
    "duration": 19,
    "start_time": "2023-05-03T13:23:13.974Z"
   },
   {
    "duration": 33,
    "start_time": "2023-05-03T13:23:13.995Z"
   },
   {
    "duration": 43,
    "start_time": "2023-05-03T13:23:14.029Z"
   },
   {
    "duration": 23,
    "start_time": "2023-05-03T13:23:14.074Z"
   },
   {
    "duration": 161,
    "start_time": "2023-05-03T13:23:14.099Z"
   },
   {
    "duration": 24,
    "start_time": "2023-05-03T13:23:14.263Z"
   },
   {
    "duration": 68,
    "start_time": "2023-05-03T13:23:14.288Z"
   },
   {
    "duration": 19,
    "start_time": "2023-05-03T13:23:14.360Z"
   },
   {
    "duration": 55,
    "start_time": "2023-05-03T13:23:14.381Z"
   },
   {
    "duration": 56,
    "start_time": "2023-05-03T13:23:14.438Z"
   },
   {
    "duration": 391,
    "start_time": "2023-05-03T13:23:14.496Z"
   },
   {
    "duration": 55,
    "start_time": "2023-05-03T13:23:14.889Z"
   },
   {
    "duration": 315,
    "start_time": "2023-05-03T13:23:14.950Z"
   },
   {
    "duration": 334,
    "start_time": "2023-05-03T13:23:15.267Z"
   },
   {
    "duration": 343,
    "start_time": "2023-05-03T13:23:15.603Z"
   },
   {
    "duration": 509,
    "start_time": "2023-05-03T13:23:15.953Z"
   },
   {
    "duration": 242,
    "start_time": "2023-05-03T13:23:16.466Z"
   },
   {
    "duration": 265,
    "start_time": "2023-05-03T13:23:16.709Z"
   },
   {
    "duration": 231,
    "start_time": "2023-05-03T13:23:16.978Z"
   },
   {
    "duration": 165,
    "start_time": "2023-05-03T13:23:17.211Z"
   },
   {
    "duration": 222,
    "start_time": "2023-05-03T13:23:17.377Z"
   },
   {
    "duration": 332,
    "start_time": "2023-05-03T13:23:17.601Z"
   },
   {
    "duration": 340,
    "start_time": "2023-05-03T13:23:17.938Z"
   },
   {
    "duration": 279,
    "start_time": "2023-05-03T13:23:18.279Z"
   },
   {
    "duration": 348,
    "start_time": "2023-05-03T13:23:18.560Z"
   },
   {
    "duration": 236,
    "start_time": "2023-05-03T13:23:18.910Z"
   },
   {
    "duration": 320,
    "start_time": "2023-05-03T13:23:19.151Z"
   },
   {
    "duration": 5,
    "start_time": "2023-05-03T13:23:19.472Z"
   },
   {
    "duration": 1788,
    "start_time": "2023-05-03T13:23:19.479Z"
   },
   {
    "duration": 1913,
    "start_time": "2023-05-03T13:23:21.269Z"
   },
   {
    "duration": 3470,
    "start_time": "2023-05-04T23:38:12.266Z"
   },
   {
    "duration": 17,
    "start_time": "2023-05-04T23:38:15.738Z"
   },
   {
    "duration": 12,
    "start_time": "2023-05-04T23:38:15.756Z"
   },
   {
    "duration": 4,
    "start_time": "2023-05-04T23:38:15.769Z"
   },
   {
    "duration": 16,
    "start_time": "2023-05-04T23:38:15.775Z"
   },
   {
    "duration": 12,
    "start_time": "2023-05-04T23:38:15.792Z"
   },
   {
    "duration": 15,
    "start_time": "2023-05-04T23:38:15.806Z"
   },
   {
    "duration": 13,
    "start_time": "2023-05-04T23:38:15.823Z"
   },
   {
    "duration": 16,
    "start_time": "2023-05-04T23:38:15.837Z"
   },
   {
    "duration": 15,
    "start_time": "2023-05-04T23:38:15.856Z"
   },
   {
    "duration": 19,
    "start_time": "2023-05-04T23:38:15.873Z"
   },
   {
    "duration": 18,
    "start_time": "2023-05-04T23:38:15.894Z"
   },
   {
    "duration": 41,
    "start_time": "2023-05-04T23:38:15.914Z"
   },
   {
    "duration": 102,
    "start_time": "2023-05-04T23:38:15.957Z"
   },
   {
    "duration": 21,
    "start_time": "2023-05-04T23:38:16.061Z"
   },
   {
    "duration": 28,
    "start_time": "2023-05-04T23:38:16.084Z"
   },
   {
    "duration": 13,
    "start_time": "2023-05-04T23:38:16.113Z"
   },
   {
    "duration": 41,
    "start_time": "2023-05-04T23:38:16.127Z"
   },
   {
    "duration": 27,
    "start_time": "2023-05-04T23:38:16.169Z"
   },
   {
    "duration": 317,
    "start_time": "2023-05-04T23:38:16.198Z"
   },
   {
    "duration": 35,
    "start_time": "2023-05-04T23:38:16.517Z"
   },
   {
    "duration": 221,
    "start_time": "2023-05-04T23:38:16.554Z"
   },
   {
    "duration": 235,
    "start_time": "2023-05-04T23:38:16.777Z"
   },
   {
    "duration": 236,
    "start_time": "2023-05-04T23:38:17.013Z"
   },
   {
    "duration": 326,
    "start_time": "2023-05-04T23:38:17.250Z"
   },
   {
    "duration": 171,
    "start_time": "2023-05-04T23:38:17.578Z"
   },
   {
    "duration": 161,
    "start_time": "2023-05-04T23:38:17.751Z"
   },
   {
    "duration": 180,
    "start_time": "2023-05-04T23:38:17.915Z"
   },
   {
    "duration": 121,
    "start_time": "2023-05-04T23:38:18.096Z"
   },
   {
    "duration": 161,
    "start_time": "2023-05-04T23:38:18.219Z"
   },
   {
    "duration": 236,
    "start_time": "2023-05-04T23:38:18.382Z"
   },
   {
    "duration": 245,
    "start_time": "2023-05-04T23:38:18.619Z"
   },
   {
    "duration": 174,
    "start_time": "2023-05-04T23:38:18.865Z"
   },
   {
    "duration": 276,
    "start_time": "2023-05-04T23:38:19.041Z"
   },
   {
    "duration": 179,
    "start_time": "2023-05-04T23:38:19.319Z"
   },
   {
    "duration": 236,
    "start_time": "2023-05-04T23:38:19.500Z"
   },
   {
    "duration": 12,
    "start_time": "2023-05-04T23:38:19.738Z"
   },
   {
    "duration": 1241,
    "start_time": "2023-05-04T23:38:19.938Z"
   },
   {
    "duration": 1217,
    "start_time": "2023-05-04T23:38:21.181Z"
   },
   {
    "duration": 195,
    "start_time": "2023-05-04T23:44:56.399Z"
   },
   {
    "duration": 206,
    "start_time": "2023-05-04T23:45:40.554Z"
   },
   {
    "duration": 199,
    "start_time": "2023-05-05T00:01:22.318Z"
   },
   {
    "duration": 220,
    "start_time": "2023-05-05T00:04:35.074Z"
   },
   {
    "duration": 4,
    "start_time": "2023-05-05T00:07:56.711Z"
   },
   {
    "duration": 297,
    "start_time": "2023-05-05T00:08:04.537Z"
   },
   {
    "duration": 4,
    "start_time": "2023-05-05T00:09:42.875Z"
   },
   {
    "duration": 4,
    "start_time": "2023-05-05T00:15:05.649Z"
   },
   {
    "duration": 185,
    "start_time": "2023-05-05T00:17:56.333Z"
   },
   {
    "duration": 213,
    "start_time": "2023-05-05T00:18:34.749Z"
   },
   {
    "duration": 207,
    "start_time": "2023-05-05T00:25:10.597Z"
   },
   {
    "duration": 205,
    "start_time": "2023-05-05T00:25:38.367Z"
   },
   {
    "duration": 171,
    "start_time": "2023-05-05T00:29:19.689Z"
   },
   {
    "duration": 72,
    "start_time": "2023-05-05T00:29:56.524Z"
   },
   {
    "duration": 212,
    "start_time": "2023-05-05T00:31:23.198Z"
   },
   {
    "duration": 204,
    "start_time": "2023-05-05T00:31:40.777Z"
   },
   {
    "duration": 5,
    "start_time": "2023-05-05T00:32:38.755Z"
   },
   {
    "duration": 173,
    "start_time": "2023-05-05T00:35:48.747Z"
   },
   {
    "duration": 148,
    "start_time": "2023-05-05T00:36:29.245Z"
   },
   {
    "duration": 150,
    "start_time": "2023-05-05T00:36:51.113Z"
   },
   {
    "duration": 133,
    "start_time": "2023-05-05T00:37:10.279Z"
   },
   {
    "duration": 133,
    "start_time": "2023-05-05T00:38:27.672Z"
   },
   {
    "duration": 200,
    "start_time": "2023-05-05T00:38:35.310Z"
   },
   {
    "duration": 202,
    "start_time": "2023-05-05T00:39:22.653Z"
   },
   {
    "duration": 204,
    "start_time": "2023-05-05T00:39:34.754Z"
   },
   {
    "duration": 18,
    "start_time": "2023-05-05T00:41:41.954Z"
   },
   {
    "duration": 12,
    "start_time": "2023-05-05T00:42:16.386Z"
   },
   {
    "duration": 82,
    "start_time": "2023-05-05T00:42:56.894Z"
   },
   {
    "duration": 16,
    "start_time": "2023-05-05T00:44:51.248Z"
   },
   {
    "duration": 17,
    "start_time": "2023-05-05T00:45:28.792Z"
   },
   {
    "duration": 1814,
    "start_time": "2023-05-05T00:47:11.692Z"
   },
   {
    "duration": 16,
    "start_time": "2023-05-05T00:47:13.508Z"
   },
   {
    "duration": 27,
    "start_time": "2023-05-05T00:47:13.526Z"
   },
   {
    "duration": 4,
    "start_time": "2023-05-05T00:47:13.555Z"
   },
   {
    "duration": 23,
    "start_time": "2023-05-05T00:47:13.560Z"
   },
   {
    "duration": 9,
    "start_time": "2023-05-05T00:47:13.584Z"
   },
   {
    "duration": 8,
    "start_time": "2023-05-05T00:47:13.595Z"
   },
   {
    "duration": 4,
    "start_time": "2023-05-05T00:47:13.604Z"
   },
   {
    "duration": 10,
    "start_time": "2023-05-05T00:47:13.609Z"
   },
   {
    "duration": 14,
    "start_time": "2023-05-05T00:47:13.621Z"
   },
   {
    "duration": 21,
    "start_time": "2023-05-05T00:47:13.637Z"
   },
   {
    "duration": 18,
    "start_time": "2023-05-05T00:47:13.659Z"
   },
   {
    "duration": 20,
    "start_time": "2023-05-05T00:47:13.678Z"
   },
   {
    "duration": 114,
    "start_time": "2023-05-05T00:47:13.701Z"
   },
   {
    "duration": 23,
    "start_time": "2023-05-05T00:47:13.817Z"
   },
   {
    "duration": 19,
    "start_time": "2023-05-05T00:47:13.849Z"
   },
   {
    "duration": 14,
    "start_time": "2023-05-05T00:47:13.870Z"
   },
   {
    "duration": 16,
    "start_time": "2023-05-05T00:47:13.887Z"
   },
   {
    "duration": 46,
    "start_time": "2023-05-05T00:47:13.904Z"
   },
   {
    "duration": 291,
    "start_time": "2023-05-05T00:47:13.951Z"
   },
   {
    "duration": 22,
    "start_time": "2023-05-05T00:47:14.244Z"
   },
   {
    "duration": 243,
    "start_time": "2023-05-05T00:47:14.279Z"
   },
   {
    "duration": 253,
    "start_time": "2023-05-05T00:47:14.524Z"
   },
   {
    "duration": 237,
    "start_time": "2023-05-05T00:47:14.779Z"
   },
   {
    "duration": 336,
    "start_time": "2023-05-05T00:47:15.017Z"
   },
   {
    "duration": 171,
    "start_time": "2023-05-05T00:47:15.354Z"
   },
   {
    "duration": 172,
    "start_time": "2023-05-05T00:47:15.527Z"
   },
   {
    "duration": 171,
    "start_time": "2023-05-05T00:47:15.700Z"
   },
   {
    "duration": 108,
    "start_time": "2023-05-05T00:47:15.873Z"
   },
   {
    "duration": 173,
    "start_time": "2023-05-05T00:47:15.983Z"
   },
   {
    "duration": 241,
    "start_time": "2023-05-05T00:47:16.158Z"
   },
   {
    "duration": 259,
    "start_time": "2023-05-05T00:47:16.401Z"
   },
   {
    "duration": 175,
    "start_time": "2023-05-05T00:47:16.662Z"
   },
   {
    "duration": 274,
    "start_time": "2023-05-05T00:47:16.838Z"
   },
   {
    "duration": 179,
    "start_time": "2023-05-05T00:47:17.114Z"
   },
   {
    "duration": 234,
    "start_time": "2023-05-05T00:47:17.294Z"
   },
   {
    "duration": 4,
    "start_time": "2023-05-05T00:47:17.530Z"
   },
   {
    "duration": 234,
    "start_time": "2023-05-05T00:47:17.536Z"
   },
   {
    "duration": 5,
    "start_time": "2023-05-05T00:47:17.959Z"
   },
   {
    "duration": 203,
    "start_time": "2023-05-05T00:47:18.831Z"
   },
   {
    "duration": 221,
    "start_time": "2023-05-05T00:47:19.536Z"
   },
   {
    "duration": 145,
    "start_time": "2023-05-05T00:47:21.144Z"
   },
   {
    "duration": 199,
    "start_time": "2023-05-05T00:47:21.865Z"
   },
   {
    "duration": 18,
    "start_time": "2023-05-05T00:47:22.940Z"
   },
   {
    "duration": 122,
    "start_time": "2023-05-05T00:47:54.929Z"
   },
   {
    "duration": 1299,
    "start_time": "2023-05-05T00:48:22.307Z"
   },
   {
    "duration": 1886,
    "start_time": "2023-05-05T00:48:35.265Z"
   },
   {
    "duration": 15,
    "start_time": "2023-05-05T00:48:37.153Z"
   },
   {
    "duration": 20,
    "start_time": "2023-05-05T00:48:37.170Z"
   },
   {
    "duration": 14,
    "start_time": "2023-05-05T00:48:37.192Z"
   },
   {
    "duration": 31,
    "start_time": "2023-05-05T00:48:37.207Z"
   },
   {
    "duration": 37,
    "start_time": "2023-05-05T00:48:37.240Z"
   },
   {
    "duration": 21,
    "start_time": "2023-05-05T00:48:37.279Z"
   },
   {
    "duration": 19,
    "start_time": "2023-05-05T00:48:37.302Z"
   },
   {
    "duration": 22,
    "start_time": "2023-05-05T00:48:37.323Z"
   },
   {
    "duration": 21,
    "start_time": "2023-05-05T00:48:37.347Z"
   },
   {
    "duration": 37,
    "start_time": "2023-05-05T00:48:37.369Z"
   },
   {
    "duration": 18,
    "start_time": "2023-05-05T00:48:37.407Z"
   },
   {
    "duration": 19,
    "start_time": "2023-05-05T00:48:37.427Z"
   },
   {
    "duration": 94,
    "start_time": "2023-05-05T00:48:37.448Z"
   },
   {
    "duration": 19,
    "start_time": "2023-05-05T00:48:37.549Z"
   },
   {
    "duration": 30,
    "start_time": "2023-05-05T00:48:37.570Z"
   },
   {
    "duration": 11,
    "start_time": "2023-05-05T00:48:37.602Z"
   },
   {
    "duration": 16,
    "start_time": "2023-05-05T00:48:37.678Z"
   },
   {
    "duration": 22,
    "start_time": "2023-05-05T00:48:37.762Z"
   },
   {
    "duration": 292,
    "start_time": "2023-05-05T00:48:37.844Z"
   },
   {
    "duration": 27,
    "start_time": "2023-05-05T00:48:38.138Z"
   },
   {
    "duration": 295,
    "start_time": "2023-05-05T00:48:38.261Z"
   },
   {
    "duration": 251,
    "start_time": "2023-05-05T00:48:38.558Z"
   },
   {
    "duration": 244,
    "start_time": "2023-05-05T00:48:38.811Z"
   },
   {
    "duration": 223,
    "start_time": "2023-05-05T00:48:39.057Z"
   },
   {
    "duration": 171,
    "start_time": "2023-05-05T00:48:39.282Z"
   },
   {
    "duration": 162,
    "start_time": "2023-05-05T00:48:39.455Z"
   },
   {
    "duration": 195,
    "start_time": "2023-05-05T00:48:39.618Z"
   },
   {
    "duration": 110,
    "start_time": "2023-05-05T00:48:39.815Z"
   },
   {
    "duration": 242,
    "start_time": "2023-05-05T00:48:39.927Z"
   },
   {
    "duration": 232,
    "start_time": "2023-05-05T00:48:40.170Z"
   },
   {
    "duration": 249,
    "start_time": "2023-05-05T00:48:40.404Z"
   },
   {
    "duration": 168,
    "start_time": "2023-05-05T00:48:40.654Z"
   },
   {
    "duration": 194,
    "start_time": "2023-05-05T00:48:40.823Z"
   },
   {
    "duration": 183,
    "start_time": "2023-05-05T00:48:41.019Z"
   },
   {
    "duration": 232,
    "start_time": "2023-05-05T00:48:41.203Z"
   },
   {
    "duration": 11,
    "start_time": "2023-05-05T00:48:41.437Z"
   },
   {
    "duration": 309,
    "start_time": "2023-05-05T00:48:41.450Z"
   },
   {
    "duration": 4,
    "start_time": "2023-05-05T00:48:41.762Z"
   },
   {
    "duration": 213,
    "start_time": "2023-05-05T00:48:41.767Z"
   },
   {
    "duration": 215,
    "start_time": "2023-05-05T00:48:42.023Z"
   },
   {
    "duration": 151,
    "start_time": "2023-05-05T00:48:42.451Z"
   },
   {
    "duration": 1195,
    "start_time": "2023-05-05T00:48:42.677Z"
   },
   {
    "duration": 0,
    "start_time": "2023-05-05T00:48:43.873Z"
   },
   {
    "duration": 1297,
    "start_time": "2023-05-05T00:49:51.722Z"
   },
   {
    "duration": 1257,
    "start_time": "2023-05-05T00:50:15.897Z"
   },
   {
    "duration": 1386,
    "start_time": "2023-05-05T00:50:34.588Z"
   },
   {
    "duration": 16,
    "start_time": "2023-05-05T00:50:52.039Z"
   },
   {
    "duration": 135,
    "start_time": "2023-05-05T00:50:57.746Z"
   },
   {
    "duration": 1113,
    "start_time": "2023-05-05T00:51:10.790Z"
   },
   {
    "duration": 182,
    "start_time": "2023-05-05T00:52:24.455Z"
   },
   {
    "duration": 166,
    "start_time": "2023-05-05T00:54:41.286Z"
   },
   {
    "duration": 154,
    "start_time": "2023-05-05T00:56:15.410Z"
   },
   {
    "duration": 164,
    "start_time": "2023-05-05T00:56:42.286Z"
   },
   {
    "duration": 4749,
    "start_time": "2023-05-05T21:33:48.462Z"
   },
   {
    "duration": 25,
    "start_time": "2023-05-05T21:33:53.215Z"
   },
   {
    "duration": 23,
    "start_time": "2023-05-05T21:33:53.251Z"
   },
   {
    "duration": 32,
    "start_time": "2023-05-05T21:33:53.277Z"
   },
   {
    "duration": 28,
    "start_time": "2023-05-05T21:33:53.311Z"
   },
   {
    "duration": 30,
    "start_time": "2023-05-05T21:33:53.343Z"
   },
   {
    "duration": 14,
    "start_time": "2023-05-05T21:33:53.375Z"
   },
   {
    "duration": 47,
    "start_time": "2023-05-05T21:33:53.392Z"
   },
   {
    "duration": 29,
    "start_time": "2023-05-05T21:33:53.443Z"
   },
   {
    "duration": 32,
    "start_time": "2023-05-05T21:33:53.476Z"
   },
   {
    "duration": 37,
    "start_time": "2023-05-05T21:33:53.510Z"
   },
   {
    "duration": 26,
    "start_time": "2023-05-05T21:33:53.554Z"
   },
   {
    "duration": 22,
    "start_time": "2023-05-05T21:33:53.581Z"
   },
   {
    "duration": 161,
    "start_time": "2023-05-05T21:33:53.605Z"
   },
   {
    "duration": 22,
    "start_time": "2023-05-05T21:33:53.768Z"
   },
   {
    "duration": 29,
    "start_time": "2023-05-05T21:33:53.792Z"
   },
   {
    "duration": 39,
    "start_time": "2023-05-05T21:33:53.823Z"
   },
   {
    "duration": 40,
    "start_time": "2023-05-05T21:33:53.864Z"
   },
   {
    "duration": 48,
    "start_time": "2023-05-05T21:33:53.906Z"
   },
   {
    "duration": 322,
    "start_time": "2023-05-05T21:33:53.960Z"
   },
   {
    "duration": 73,
    "start_time": "2023-05-05T21:33:54.284Z"
   },
   {
    "duration": 299,
    "start_time": "2023-05-05T21:33:54.361Z"
   },
   {
    "duration": 319,
    "start_time": "2023-05-05T21:33:54.662Z"
   },
   {
    "duration": 316,
    "start_time": "2023-05-05T21:33:54.983Z"
   },
   {
    "duration": 479,
    "start_time": "2023-05-05T21:33:55.301Z"
   },
   {
    "duration": 237,
    "start_time": "2023-05-05T21:33:55.782Z"
   },
   {
    "duration": 292,
    "start_time": "2023-05-05T21:33:56.021Z"
   },
   {
    "duration": 250,
    "start_time": "2023-05-05T21:33:56.318Z"
   },
   {
    "duration": 189,
    "start_time": "2023-05-05T21:33:56.570Z"
   },
   {
    "duration": 241,
    "start_time": "2023-05-05T21:33:56.766Z"
   },
   {
    "duration": 308,
    "start_time": "2023-05-05T21:33:57.009Z"
   },
   {
    "duration": 339,
    "start_time": "2023-05-05T21:33:57.319Z"
   },
   {
    "duration": 227,
    "start_time": "2023-05-05T21:33:57.661Z"
   },
   {
    "duration": 371,
    "start_time": "2023-05-05T21:33:57.890Z"
   },
   {
    "duration": 226,
    "start_time": "2023-05-05T21:33:58.263Z"
   },
   {
    "duration": 313,
    "start_time": "2023-05-05T21:33:58.491Z"
   },
   {
    "duration": 5,
    "start_time": "2023-05-05T21:33:58.806Z"
   },
   {
    "duration": 292,
    "start_time": "2023-05-05T21:33:58.813Z"
   },
   {
    "duration": 5,
    "start_time": "2023-05-05T21:33:59.107Z"
   },
   {
    "duration": 267,
    "start_time": "2023-05-05T21:33:59.815Z"
   },
   {
    "duration": 284,
    "start_time": "2023-05-05T21:34:00.380Z"
   },
   {
    "duration": 214,
    "start_time": "2023-05-05T21:34:00.904Z"
   },
   {
    "duration": 562,
    "start_time": "2023-05-05T21:41:05.596Z"
   },
   {
    "duration": 182,
    "start_time": "2023-05-05T22:03:08.133Z"
   },
   {
    "duration": 179,
    "start_time": "2023-05-05T22:03:12.879Z"
   },
   {
    "duration": 4235,
    "start_time": "2023-05-07T16:49:35.892Z"
   },
   {
    "duration": 19,
    "start_time": "2023-05-07T16:49:40.130Z"
   },
   {
    "duration": 13,
    "start_time": "2023-05-07T16:49:40.151Z"
   },
   {
    "duration": 11,
    "start_time": "2023-05-07T16:49:40.166Z"
   },
   {
    "duration": 22,
    "start_time": "2023-05-07T16:49:40.179Z"
   },
   {
    "duration": 21,
    "start_time": "2023-05-07T16:49:40.203Z"
   },
   {
    "duration": 16,
    "start_time": "2023-05-07T16:49:40.225Z"
   },
   {
    "duration": 8,
    "start_time": "2023-05-07T16:49:40.243Z"
   },
   {
    "duration": 14,
    "start_time": "2023-05-07T16:49:40.252Z"
   },
   {
    "duration": 20,
    "start_time": "2023-05-07T16:49:40.269Z"
   },
   {
    "duration": 22,
    "start_time": "2023-05-07T16:49:40.291Z"
   },
   {
    "duration": 23,
    "start_time": "2023-05-07T16:49:40.317Z"
   },
   {
    "duration": 22,
    "start_time": "2023-05-07T16:49:40.342Z"
   },
   {
    "duration": 124,
    "start_time": "2023-05-07T16:49:40.366Z"
   },
   {
    "duration": 29,
    "start_time": "2023-05-07T16:49:40.492Z"
   },
   {
    "duration": 24,
    "start_time": "2023-05-07T16:49:40.523Z"
   },
   {
    "duration": 14,
    "start_time": "2023-05-07T16:49:40.548Z"
   },
   {
    "duration": 25,
    "start_time": "2023-05-07T16:49:40.564Z"
   },
   {
    "duration": 75,
    "start_time": "2023-05-07T16:49:40.590Z"
   },
   {
    "duration": 287,
    "start_time": "2023-05-07T16:49:40.666Z"
   },
   {
    "duration": 34,
    "start_time": "2023-05-07T16:49:40.955Z"
   },
   {
    "duration": 284,
    "start_time": "2023-05-07T16:49:40.990Z"
   },
   {
    "duration": 305,
    "start_time": "2023-05-07T16:49:41.276Z"
   },
   {
    "duration": 304,
    "start_time": "2023-05-07T16:49:41.583Z"
   },
   {
    "duration": 432,
    "start_time": "2023-05-07T16:49:41.889Z"
   },
   {
    "duration": 247,
    "start_time": "2023-05-07T16:49:42.323Z"
   },
   {
    "duration": 224,
    "start_time": "2023-05-07T16:49:42.572Z"
   },
   {
    "duration": 205,
    "start_time": "2023-05-07T16:49:42.799Z"
   },
   {
    "duration": 137,
    "start_time": "2023-05-07T16:49:43.006Z"
   },
   {
    "duration": 212,
    "start_time": "2023-05-07T16:49:43.144Z"
   },
   {
    "duration": 288,
    "start_time": "2023-05-07T16:49:43.358Z"
   },
   {
    "duration": 303,
    "start_time": "2023-05-07T16:49:43.648Z"
   },
   {
    "duration": 214,
    "start_time": "2023-05-07T16:49:43.953Z"
   },
   {
    "duration": 343,
    "start_time": "2023-05-07T16:49:44.169Z"
   },
   {
    "duration": 209,
    "start_time": "2023-05-07T16:49:44.514Z"
   },
   {
    "duration": 293,
    "start_time": "2023-05-07T16:49:44.725Z"
   },
   {
    "duration": 5,
    "start_time": "2023-05-07T16:49:45.020Z"
   },
   {
    "duration": 256,
    "start_time": "2023-05-07T16:49:45.026Z"
   },
   {
    "duration": 5,
    "start_time": "2023-05-07T16:49:45.284Z"
   },
   {
    "duration": 227,
    "start_time": "2023-05-07T16:49:45.290Z"
   },
   {
    "duration": 226,
    "start_time": "2023-05-07T16:49:45.519Z"
   },
   {
    "duration": 191,
    "start_time": "2023-05-07T16:49:45.747Z"
   },
   {
    "duration": 161,
    "start_time": "2023-05-07T16:49:45.941Z"
   },
   {
    "duration": 186,
    "start_time": "2023-05-07T16:50:56.469Z"
   },
   {
    "duration": 173,
    "start_time": "2023-05-07T16:59:20.844Z"
   },
   {
    "duration": 256,
    "start_time": "2023-05-07T17:00:08.764Z"
   },
   {
    "duration": 11,
    "start_time": "2023-05-07T17:27:12.421Z"
   },
   {
    "duration": 124,
    "start_time": "2023-05-07T17:30:47.458Z"
   },
   {
    "duration": 9,
    "start_time": "2023-05-07T17:30:54.307Z"
   },
   {
    "duration": 43,
    "start_time": "2023-05-07T17:31:52.376Z"
   },
   {
    "duration": 17,
    "start_time": "2023-05-07T17:32:06.205Z"
   },
   {
    "duration": 186,
    "start_time": "2023-05-07T17:33:01.628Z"
   },
   {
    "duration": 32,
    "start_time": "2023-05-07T18:32:10.467Z"
   },
   {
    "duration": 168,
    "start_time": "2023-05-07T18:32:45.787Z"
   },
   {
    "duration": 18,
    "start_time": "2023-05-07T18:48:19.318Z"
   },
   {
    "duration": 32,
    "start_time": "2023-05-07T18:48:25.655Z"
   },
   {
    "duration": 6,
    "start_time": "2023-05-07T18:49:08.543Z"
   },
   {
    "duration": 15,
    "start_time": "2023-05-07T18:49:20.755Z"
   },
   {
    "duration": 11,
    "start_time": "2023-05-07T18:49:32.046Z"
   },
   {
    "duration": 174,
    "start_time": "2023-05-07T18:50:48.201Z"
   },
   {
    "duration": 33,
    "start_time": "2023-05-07T18:57:21.311Z"
   },
   {
    "duration": 11,
    "start_time": "2023-05-07T19:33:11.721Z"
   },
   {
    "duration": 172,
    "start_time": "2023-05-07T19:33:13.364Z"
   },
   {
    "duration": 11,
    "start_time": "2023-05-07T19:43:23.522Z"
   },
   {
    "duration": 172,
    "start_time": "2023-05-07T19:43:25.808Z"
   },
   {
    "duration": 170,
    "start_time": "2023-05-07T19:45:03.316Z"
   },
   {
    "duration": 3032,
    "start_time": "2023-05-07T20:01:06.719Z"
   },
   {
    "duration": 18,
    "start_time": "2023-05-07T20:01:09.753Z"
   },
   {
    "duration": 50,
    "start_time": "2023-05-07T20:01:09.772Z"
   },
   {
    "duration": 38,
    "start_time": "2023-05-07T20:01:09.824Z"
   },
   {
    "duration": 18,
    "start_time": "2023-05-07T20:01:09.865Z"
   },
   {
    "duration": 12,
    "start_time": "2023-05-07T20:01:09.884Z"
   },
   {
    "duration": 5,
    "start_time": "2023-05-07T20:01:09.897Z"
   },
   {
    "duration": 9,
    "start_time": "2023-05-07T20:01:09.904Z"
   },
   {
    "duration": 25,
    "start_time": "2023-05-07T20:01:09.914Z"
   },
   {
    "duration": 42,
    "start_time": "2023-05-07T20:01:09.940Z"
   },
   {
    "duration": 21,
    "start_time": "2023-05-07T20:01:09.984Z"
   },
   {
    "duration": 21,
    "start_time": "2023-05-07T20:01:10.006Z"
   },
   {
    "duration": 20,
    "start_time": "2023-05-07T20:01:10.029Z"
   },
   {
    "duration": 133,
    "start_time": "2023-05-07T20:01:10.052Z"
   },
   {
    "duration": 30,
    "start_time": "2023-05-07T20:01:10.187Z"
   },
   {
    "duration": 29,
    "start_time": "2023-05-07T20:01:10.219Z"
   },
   {
    "duration": 39,
    "start_time": "2023-05-07T20:01:10.250Z"
   },
   {
    "duration": 20,
    "start_time": "2023-05-07T20:01:10.291Z"
   },
   {
    "duration": 26,
    "start_time": "2023-05-07T20:01:10.313Z"
   },
   {
    "duration": 324,
    "start_time": "2023-05-07T20:01:10.340Z"
   },
   {
    "duration": 36,
    "start_time": "2023-05-07T20:01:10.666Z"
   },
   {
    "duration": 219,
    "start_time": "2023-05-07T20:01:10.703Z"
   },
   {
    "duration": 272,
    "start_time": "2023-05-07T20:01:10.923Z"
   },
   {
    "duration": 259,
    "start_time": "2023-05-07T20:01:11.197Z"
   },
   {
    "duration": 353,
    "start_time": "2023-05-07T20:01:11.458Z"
   },
   {
    "duration": 182,
    "start_time": "2023-05-07T20:01:11.812Z"
   },
   {
    "duration": 170,
    "start_time": "2023-05-07T20:01:11.995Z"
   },
   {
    "duration": 164,
    "start_time": "2023-05-07T20:01:12.184Z"
   },
   {
    "duration": 116,
    "start_time": "2023-05-07T20:01:12.350Z"
   },
   {
    "duration": 175,
    "start_time": "2023-05-07T20:01:12.467Z"
   },
   {
    "duration": 242,
    "start_time": "2023-05-07T20:01:12.644Z"
   },
   {
    "duration": 279,
    "start_time": "2023-05-07T20:01:12.888Z"
   },
   {
    "duration": 182,
    "start_time": "2023-05-07T20:01:13.172Z"
   },
   {
    "duration": 291,
    "start_time": "2023-05-07T20:01:13.356Z"
   },
   {
    "duration": 170,
    "start_time": "2023-05-07T20:01:13.649Z"
   },
   {
    "duration": 235,
    "start_time": "2023-05-07T20:01:13.821Z"
   },
   {
    "duration": 3,
    "start_time": "2023-05-07T20:01:14.058Z"
   },
   {
    "duration": 242,
    "start_time": "2023-05-07T20:01:14.071Z"
   },
   {
    "duration": 4,
    "start_time": "2023-05-07T20:01:14.315Z"
   },
   {
    "duration": 218,
    "start_time": "2023-05-07T20:01:14.320Z"
   },
   {
    "duration": 215,
    "start_time": "2023-05-07T20:01:14.543Z"
   },
   {
    "duration": 182,
    "start_time": "2023-05-07T20:01:14.760Z"
   },
   {
    "duration": 180,
    "start_time": "2023-05-07T20:01:14.944Z"
   },
   {
    "duration": 176,
    "start_time": "2023-05-07T20:01:15.126Z"
   },
   {
    "duration": 162,
    "start_time": "2023-05-07T20:01:15.304Z"
   },
   {
    "duration": 258,
    "start_time": "2023-05-07T20:01:15.467Z"
   },
   {
    "duration": 8,
    "start_time": "2023-05-07T20:01:15.727Z"
   },
   {
    "duration": 181,
    "start_time": "2023-05-07T20:01:15.736Z"
   },
   {
    "duration": 18,
    "start_time": "2023-05-07T20:01:15.918Z"
   },
   {
    "duration": 181,
    "start_time": "2023-05-07T20:01:15.937Z"
   },
   {
    "duration": 3466,
    "start_time": "2023-05-08T13:57:47.435Z"
   },
   {
    "duration": 22,
    "start_time": "2023-05-08T13:57:50.904Z"
   },
   {
    "duration": 41,
    "start_time": "2023-05-08T13:57:50.928Z"
   },
   {
    "duration": 33,
    "start_time": "2023-05-08T13:57:50.971Z"
   },
   {
    "duration": 37,
    "start_time": "2023-05-08T13:57:51.007Z"
   },
   {
    "duration": 41,
    "start_time": "2023-05-08T13:57:51.046Z"
   },
   {
    "duration": 50,
    "start_time": "2023-05-08T13:57:51.089Z"
   },
   {
    "duration": 19,
    "start_time": "2023-05-08T13:57:51.141Z"
   },
   {
    "duration": 33,
    "start_time": "2023-05-08T13:57:51.162Z"
   },
   {
    "duration": 20,
    "start_time": "2023-05-08T13:57:51.197Z"
   },
   {
    "duration": 31,
    "start_time": "2023-05-08T13:57:51.219Z"
   },
   {
    "duration": 19,
    "start_time": "2023-05-08T13:57:51.251Z"
   },
   {
    "duration": 19,
    "start_time": "2023-05-08T13:57:51.291Z"
   },
   {
    "duration": 114,
    "start_time": "2023-05-08T13:57:51.313Z"
   },
   {
    "duration": 21,
    "start_time": "2023-05-08T13:57:51.429Z"
   },
   {
    "duration": 44,
    "start_time": "2023-05-08T13:57:51.452Z"
   },
   {
    "duration": 14,
    "start_time": "2023-05-08T13:57:51.498Z"
   },
   {
    "duration": 23,
    "start_time": "2023-05-08T13:57:51.514Z"
   },
   {
    "duration": 59,
    "start_time": "2023-05-08T13:57:51.538Z"
   },
   {
    "duration": 278,
    "start_time": "2023-05-08T13:57:51.599Z"
   },
   {
    "duration": 41,
    "start_time": "2023-05-08T13:57:51.879Z"
   },
   {
    "duration": 257,
    "start_time": "2023-05-08T13:57:51.922Z"
   },
   {
    "duration": 300,
    "start_time": "2023-05-08T13:57:52.181Z"
   },
   {
    "duration": 272,
    "start_time": "2023-05-08T13:57:52.483Z"
   },
   {
    "duration": 402,
    "start_time": "2023-05-08T13:57:52.757Z"
   },
   {
    "duration": 201,
    "start_time": "2023-05-08T13:57:53.160Z"
   },
   {
    "duration": 250,
    "start_time": "2023-05-08T13:57:53.363Z"
   },
   {
    "duration": 237,
    "start_time": "2023-05-08T13:57:53.615Z"
   },
   {
    "duration": 140,
    "start_time": "2023-05-08T13:57:53.855Z"
   },
   {
    "duration": 199,
    "start_time": "2023-05-08T13:57:53.997Z"
   },
   {
    "duration": 306,
    "start_time": "2023-05-08T13:57:54.198Z"
   },
   {
    "duration": 343,
    "start_time": "2023-05-08T13:57:54.506Z"
   },
   {
    "duration": 191,
    "start_time": "2023-05-08T13:57:54.851Z"
   },
   {
    "duration": 315,
    "start_time": "2023-05-08T13:57:55.044Z"
   },
   {
    "duration": 206,
    "start_time": "2023-05-08T13:57:55.361Z"
   },
   {
    "duration": 264,
    "start_time": "2023-05-08T13:57:55.569Z"
   },
   {
    "duration": 5,
    "start_time": "2023-05-08T13:57:55.835Z"
   },
   {
    "duration": 254,
    "start_time": "2023-05-08T13:57:55.841Z"
   },
   {
    "duration": 5,
    "start_time": "2023-05-08T13:57:56.097Z"
   },
   {
    "duration": 245,
    "start_time": "2023-05-08T13:57:56.104Z"
   },
   {
    "duration": 252,
    "start_time": "2023-05-08T13:57:56.352Z"
   },
   {
    "duration": 193,
    "start_time": "2023-05-08T13:57:56.606Z"
   },
   {
    "duration": 154,
    "start_time": "2023-05-08T13:57:56.801Z"
   },
   {
    "duration": 197,
    "start_time": "2023-05-08T13:57:56.956Z"
   },
   {
    "duration": 183,
    "start_time": "2023-05-08T13:57:57.154Z"
   },
   {
    "duration": 309,
    "start_time": "2023-05-08T13:57:57.339Z"
   },
   {
    "duration": 10,
    "start_time": "2023-05-08T13:57:57.650Z"
   },
   {
    "duration": 211,
    "start_time": "2023-05-08T13:57:57.662Z"
   },
   {
    "duration": 19,
    "start_time": "2023-05-08T13:57:57.874Z"
   },
   {
    "duration": 162,
    "start_time": "2023-05-08T13:57:57.895Z"
   },
   {
    "duration": 4,
    "start_time": "2023-05-08T14:00:47.781Z"
   },
   {
    "duration": 14,
    "start_time": "2023-05-08T14:04:18.931Z"
   },
   {
    "duration": 113,
    "start_time": "2023-05-08T14:04:24.439Z"
   },
   {
    "duration": 96,
    "start_time": "2023-05-08T14:04:51.600Z"
   },
   {
    "duration": 7,
    "start_time": "2023-05-08T14:04:54.408Z"
   },
   {
    "duration": 3133,
    "start_time": "2023-05-08T14:08:19.532Z"
   },
   {
    "duration": 18,
    "start_time": "2023-05-08T14:08:22.667Z"
   },
   {
    "duration": 13,
    "start_time": "2023-05-08T14:08:22.687Z"
   },
   {
    "duration": 5,
    "start_time": "2023-05-08T14:08:22.701Z"
   },
   {
    "duration": 5,
    "start_time": "2023-05-08T14:08:22.708Z"
   },
   {
    "duration": 6,
    "start_time": "2023-05-08T14:08:22.715Z"
   },
   {
    "duration": 4,
    "start_time": "2023-05-08T14:08:22.723Z"
   },
   {
    "duration": 5,
    "start_time": "2023-05-08T14:08:22.729Z"
   },
   {
    "duration": 8,
    "start_time": "2023-05-08T14:08:22.736Z"
   },
   {
    "duration": 15,
    "start_time": "2023-05-08T14:08:22.746Z"
   },
   {
    "duration": 24,
    "start_time": "2023-05-08T14:08:22.792Z"
   },
   {
    "duration": 22,
    "start_time": "2023-05-08T14:08:22.817Z"
   },
   {
    "duration": 20,
    "start_time": "2023-05-08T14:08:22.840Z"
   },
   {
    "duration": 115,
    "start_time": "2023-05-08T14:08:22.864Z"
   },
   {
    "duration": 28,
    "start_time": "2023-05-08T14:08:22.981Z"
   },
   {
    "duration": 21,
    "start_time": "2023-05-08T14:08:23.011Z"
   },
   {
    "duration": 12,
    "start_time": "2023-05-08T14:08:23.034Z"
   },
   {
    "duration": 46,
    "start_time": "2023-05-08T14:08:23.048Z"
   },
   {
    "duration": 31,
    "start_time": "2023-05-08T14:08:23.096Z"
   },
   {
    "duration": 314,
    "start_time": "2023-05-08T14:08:23.129Z"
   },
   {
    "duration": 47,
    "start_time": "2023-05-08T14:08:23.445Z"
   },
   {
    "duration": 277,
    "start_time": "2023-05-08T14:08:23.494Z"
   },
   {
    "duration": 312,
    "start_time": "2023-05-08T14:08:23.773Z"
   },
   {
    "duration": 279,
    "start_time": "2023-05-08T14:08:24.087Z"
   },
   {
    "duration": 412,
    "start_time": "2023-05-08T14:08:24.367Z"
   },
   {
    "duration": 192,
    "start_time": "2023-05-08T14:08:24.781Z"
   },
   {
    "duration": 190,
    "start_time": "2023-05-08T14:08:24.975Z"
   },
   {
    "duration": 196,
    "start_time": "2023-05-08T14:08:25.166Z"
   },
   {
    "duration": 120,
    "start_time": "2023-05-08T14:08:25.364Z"
   },
   {
    "duration": 183,
    "start_time": "2023-05-08T14:08:25.486Z"
   },
   {
    "duration": 257,
    "start_time": "2023-05-08T14:08:25.670Z"
   },
   {
    "duration": 275,
    "start_time": "2023-05-08T14:08:25.929Z"
   },
   {
    "duration": 189,
    "start_time": "2023-05-08T14:08:26.205Z"
   },
   {
    "duration": 320,
    "start_time": "2023-05-08T14:08:26.397Z"
   },
   {
    "duration": 189,
    "start_time": "2023-05-08T14:08:26.719Z"
   },
   {
    "duration": 265,
    "start_time": "2023-05-08T14:08:26.909Z"
   },
   {
    "duration": 4,
    "start_time": "2023-05-08T14:08:27.176Z"
   },
   {
    "duration": 253,
    "start_time": "2023-05-08T14:08:27.181Z"
   },
   {
    "duration": 5,
    "start_time": "2023-05-08T14:08:27.435Z"
   },
   {
    "duration": 233,
    "start_time": "2023-05-08T14:08:27.442Z"
   },
   {
    "duration": 282,
    "start_time": "2023-05-08T14:08:27.679Z"
   },
   {
    "duration": 187,
    "start_time": "2023-05-08T14:08:27.964Z"
   },
   {
    "duration": 152,
    "start_time": "2023-05-08T14:08:28.153Z"
   },
   {
    "duration": 190,
    "start_time": "2023-05-08T14:08:28.307Z"
   },
   {
    "duration": 186,
    "start_time": "2023-05-08T14:08:28.498Z"
   },
   {
    "duration": 250,
    "start_time": "2023-05-08T14:08:28.686Z"
   },
   {
    "duration": 8,
    "start_time": "2023-05-08T14:08:28.938Z"
   },
   {
    "duration": 197,
    "start_time": "2023-05-08T14:08:28.948Z"
   },
   {
    "duration": 2,
    "start_time": "2023-05-08T14:08:29.147Z"
   },
   {
    "duration": 145,
    "start_time": "2023-05-08T14:08:29.151Z"
   },
   {
    "duration": 15,
    "start_time": "2023-05-08T14:08:54.026Z"
   },
   {
    "duration": 181,
    "start_time": "2023-05-08T14:09:14.786Z"
   },
   {
    "duration": 17,
    "start_time": "2023-05-08T14:09:59.109Z"
   },
   {
    "duration": 11,
    "start_time": "2023-05-08T14:10:01.046Z"
   },
   {
    "duration": 186,
    "start_time": "2023-05-08T14:10:01.853Z"
   },
   {
    "duration": 52,
    "start_time": "2023-05-09T13:08:52.298Z"
   },
   {
    "duration": 8,
    "start_time": "2023-05-09T13:10:34.513Z"
   },
   {
    "duration": 3949,
    "start_time": "2023-05-09T13:10:42.455Z"
   },
   {
    "duration": 19,
    "start_time": "2023-05-09T13:10:46.406Z"
   },
   {
    "duration": 12,
    "start_time": "2023-05-09T13:10:46.427Z"
   },
   {
    "duration": 13,
    "start_time": "2023-05-09T13:10:46.442Z"
   },
   {
    "duration": 19,
    "start_time": "2023-05-09T13:10:46.457Z"
   },
   {
    "duration": 11,
    "start_time": "2023-05-09T13:10:46.477Z"
   },
   {
    "duration": 7,
    "start_time": "2023-05-09T13:10:46.489Z"
   },
   {
    "duration": 5,
    "start_time": "2023-05-09T13:10:46.498Z"
   },
   {
    "duration": 58,
    "start_time": "2023-05-09T13:10:46.504Z"
   },
   {
    "duration": 47,
    "start_time": "2023-05-09T13:10:46.564Z"
   },
   {
    "duration": 52,
    "start_time": "2023-05-09T13:10:46.613Z"
   },
   {
    "duration": 21,
    "start_time": "2023-05-09T13:10:46.667Z"
   },
   {
    "duration": 45,
    "start_time": "2023-05-09T13:10:46.689Z"
   },
   {
    "duration": 126,
    "start_time": "2023-05-09T13:10:46.737Z"
   },
   {
    "duration": 22,
    "start_time": "2023-05-09T13:10:46.865Z"
   },
   {
    "duration": 35,
    "start_time": "2023-05-09T13:10:46.889Z"
   },
   {
    "duration": 19,
    "start_time": "2023-05-09T13:10:46.925Z"
   },
   {
    "duration": 14,
    "start_time": "2023-05-09T13:10:46.946Z"
   },
   {
    "duration": 24,
    "start_time": "2023-05-09T13:10:46.961Z"
   },
   {
    "duration": 36,
    "start_time": "2023-05-09T13:10:47.017Z"
   },
   {
    "duration": 347,
    "start_time": "2023-05-09T13:10:47.055Z"
   },
   {
    "duration": 41,
    "start_time": "2023-05-09T13:10:47.404Z"
   },
   {
    "duration": 73,
    "start_time": "2023-05-09T13:12:50.489Z"
   },
   {
    "duration": 10,
    "start_time": "2023-05-09T13:12:54.971Z"
   },
   {
    "duration": 6,
    "start_time": "2023-05-09T13:13:13.139Z"
   },
   {
    "duration": 19,
    "start_time": "2023-05-09T13:14:11.478Z"
   },
   {
    "duration": 13,
    "start_time": "2023-05-09T13:14:18.481Z"
   },
   {
    "duration": 11,
    "start_time": "2023-05-09T13:15:00.367Z"
   },
   {
    "duration": 13,
    "start_time": "2023-05-09T13:15:30.709Z"
   },
   {
    "duration": 10,
    "start_time": "2023-05-09T13:32:12.300Z"
   },
   {
    "duration": 15,
    "start_time": "2023-05-09T13:32:28.938Z"
   },
   {
    "duration": 25,
    "start_time": "2023-05-09T13:35:40.918Z"
   },
   {
    "duration": 20,
    "start_time": "2023-05-09T13:36:34.423Z"
   },
   {
    "duration": 276,
    "start_time": "2023-05-09T13:37:04.737Z"
   },
   {
    "duration": 17,
    "start_time": "2023-05-09T13:37:56.635Z"
   },
   {
    "duration": 249,
    "start_time": "2023-05-09T13:38:16.934Z"
   },
   {
    "duration": 292,
    "start_time": "2023-05-09T13:38:37.073Z"
   },
   {
    "duration": 460,
    "start_time": "2023-05-09T13:39:02.431Z"
   },
   {
    "duration": 18,
    "start_time": "2023-05-09T13:59:46.713Z"
   },
   {
    "duration": 198,
    "start_time": "2023-05-09T14:04:23.825Z"
   },
   {
    "duration": 36,
    "start_time": "2023-05-09T14:10:40.432Z"
   },
   {
    "duration": 15,
    "start_time": "2023-05-09T14:11:39.436Z"
   },
   {
    "duration": 9,
    "start_time": "2023-05-09T14:12:59.370Z"
   },
   {
    "duration": 22,
    "start_time": "2023-05-09T14:13:05.912Z"
   },
   {
    "duration": 18,
    "start_time": "2023-05-09T14:13:42.520Z"
   },
   {
    "duration": 12,
    "start_time": "2023-05-09T14:13:55.158Z"
   },
   {
    "duration": 19,
    "start_time": "2023-05-09T14:14:15.314Z"
   },
   {
    "duration": 3,
    "start_time": "2023-05-09T14:16:47.417Z"
   },
   {
    "duration": 2129,
    "start_time": "2023-05-09T14:16:49.814Z"
   },
   {
    "duration": 1167,
    "start_time": "2023-05-09T14:28:21.599Z"
   },
   {
    "duration": 1204,
    "start_time": "2023-05-09T14:28:43.391Z"
   },
   {
    "duration": 3,
    "start_time": "2023-05-09T14:29:03.302Z"
   },
   {
    "duration": 2139,
    "start_time": "2023-05-09T14:29:03.386Z"
   },
   {
    "duration": 20,
    "start_time": "2023-05-09T14:29:05.527Z"
   },
   {
    "duration": 26,
    "start_time": "2023-05-09T14:29:05.549Z"
   },
   {
    "duration": 22,
    "start_time": "2023-05-09T14:29:05.578Z"
   },
   {
    "duration": 17,
    "start_time": "2023-05-09T14:29:05.602Z"
   },
   {
    "duration": 20,
    "start_time": "2023-05-09T14:29:05.621Z"
   },
   {
    "duration": 17,
    "start_time": "2023-05-09T14:29:05.643Z"
   },
   {
    "duration": 26,
    "start_time": "2023-05-09T14:29:05.662Z"
   },
   {
    "duration": 23,
    "start_time": "2023-05-09T14:29:05.690Z"
   },
   {
    "duration": 25,
    "start_time": "2023-05-09T14:29:05.716Z"
   },
   {
    "duration": 21,
    "start_time": "2023-05-09T14:29:05.742Z"
   },
   {
    "duration": 20,
    "start_time": "2023-05-09T14:29:05.766Z"
   },
   {
    "duration": 39,
    "start_time": "2023-05-09T14:29:05.788Z"
   },
   {
    "duration": 113,
    "start_time": "2023-05-09T14:29:05.830Z"
   },
   {
    "duration": 24,
    "start_time": "2023-05-09T14:29:05.945Z"
   },
   {
    "duration": 25,
    "start_time": "2023-05-09T14:29:05.983Z"
   },
   {
    "duration": 13,
    "start_time": "2023-05-09T14:29:06.137Z"
   },
   {
    "duration": 15,
    "start_time": "2023-05-09T14:29:06.499Z"
   },
   {
    "duration": 13,
    "start_time": "2023-05-09T14:29:06.553Z"
   },
   {
    "duration": 20,
    "start_time": "2023-05-09T14:29:06.637Z"
   },
   {
    "duration": 25,
    "start_time": "2023-05-09T14:29:06.892Z"
   },
   {
    "duration": 33,
    "start_time": "2023-05-09T14:29:06.990Z"
   },
   {
    "duration": 370,
    "start_time": "2023-05-09T14:29:07.054Z"
   },
   {
    "duration": 32,
    "start_time": "2023-05-09T14:29:07.426Z"
   },
   {
    "duration": 255,
    "start_time": "2023-05-09T14:29:07.553Z"
   },
   {
    "duration": 292,
    "start_time": "2023-05-09T14:29:07.810Z"
   },
   {
    "duration": 268,
    "start_time": "2023-05-09T14:29:08.104Z"
   },
   {
    "duration": 268,
    "start_time": "2023-05-09T14:29:08.373Z"
   },
   {
    "duration": 199,
    "start_time": "2023-05-09T14:29:08.643Z"
   },
   {
    "duration": 189,
    "start_time": "2023-05-09T14:29:08.843Z"
   },
   {
    "duration": 287,
    "start_time": "2023-05-09T14:29:09.034Z"
   },
   {
    "duration": 126,
    "start_time": "2023-05-09T14:29:09.323Z"
   },
   {
    "duration": 186,
    "start_time": "2023-05-09T14:29:09.452Z"
   },
   {
    "duration": 260,
    "start_time": "2023-05-09T14:29:09.639Z"
   },
   {
    "duration": 275,
    "start_time": "2023-05-09T14:29:09.900Z"
   },
   {
    "duration": 200,
    "start_time": "2023-05-09T14:29:10.177Z"
   },
   {
    "duration": 211,
    "start_time": "2023-05-09T14:29:10.379Z"
   },
   {
    "duration": 196,
    "start_time": "2023-05-09T14:29:10.592Z"
   },
   {
    "duration": 377,
    "start_time": "2023-05-09T14:29:10.790Z"
   },
   {
    "duration": 222,
    "start_time": "2023-05-09T14:29:36.531Z"
   },
   {
    "duration": 274,
    "start_time": "2023-05-09T14:30:40.791Z"
   },
   {
    "duration": 289,
    "start_time": "2023-05-09T14:31:05.321Z"
   },
   {
    "duration": 276,
    "start_time": "2023-05-09T14:31:34.406Z"
   },
   {
    "duration": 188,
    "start_time": "2023-05-09T14:32:32.894Z"
   },
   {
    "duration": 184,
    "start_time": "2023-05-09T14:33:00.199Z"
   },
   {
    "duration": 216,
    "start_time": "2023-05-09T14:33:54.554Z"
   },
   {
    "duration": 121,
    "start_time": "2023-05-09T14:34:31.242Z"
   },
   {
    "duration": 185,
    "start_time": "2023-05-09T14:34:43.400Z"
   },
   {
    "duration": 185,
    "start_time": "2023-05-09T14:35:17.316Z"
   },
   {
    "duration": 239,
    "start_time": "2023-05-09T14:35:32.383Z"
   },
   {
    "duration": 270,
    "start_time": "2023-05-09T14:35:57.804Z"
   },
   {
    "duration": 291,
    "start_time": "2023-05-09T14:43:01.853Z"
   },
   {
    "duration": 282,
    "start_time": "2023-05-09T14:43:16.146Z"
   },
   {
    "duration": 380,
    "start_time": "2023-05-09T14:43:53.244Z"
   },
   {
    "duration": 184,
    "start_time": "2023-05-09T14:45:29.637Z"
   },
   {
    "duration": 272,
    "start_time": "2023-05-09T14:46:18.291Z"
   },
   {
    "duration": 290,
    "start_time": "2023-05-09T14:46:23.655Z"
   },
   {
    "duration": 260,
    "start_time": "2023-05-09T14:46:55.266Z"
   },
   {
    "duration": 282,
    "start_time": "2023-05-09T15:07:06.619Z"
   },
   {
    "duration": 248,
    "start_time": "2023-05-09T15:07:28.613Z"
   },
   {
    "duration": 357,
    "start_time": "2023-05-09T15:07:53.233Z"
   },
   {
    "duration": 198,
    "start_time": "2023-05-09T15:08:34.627Z"
   },
   {
    "duration": 178,
    "start_time": "2023-05-09T15:09:02.202Z"
   },
   {
    "duration": 228,
    "start_time": "2023-05-09T15:09:21.881Z"
   },
   {
    "duration": 203,
    "start_time": "2023-05-09T15:09:37.873Z"
   },
   {
    "duration": 172,
    "start_time": "2023-05-09T15:09:49.884Z"
   },
   {
    "duration": 70,
    "start_time": "2023-05-09T15:10:44.979Z"
   },
   {
    "duration": 9,
    "start_time": "2023-05-09T15:11:02.829Z"
   },
   {
    "duration": 195,
    "start_time": "2023-05-09T15:11:04.434Z"
   },
   {
    "duration": 176,
    "start_time": "2023-05-09T15:13:48.950Z"
   },
   {
    "duration": 3,
    "start_time": "2023-05-09T15:20:38.270Z"
   },
   {
    "duration": 183,
    "start_time": "2023-05-09T15:23:46.851Z"
   },
   {
    "duration": 3,
    "start_time": "2023-05-09T15:24:00.904Z"
   },
   {
    "duration": 5,
    "start_time": "2023-05-09T15:39:55.544Z"
   },
   {
    "duration": 5,
    "start_time": "2023-05-09T15:39:55.847Z"
   },
   {
    "duration": 4,
    "start_time": "2023-05-09T15:39:56.173Z"
   },
   {
    "duration": 1192,
    "start_time": "2023-05-09T15:40:17.345Z"
   },
   {
    "duration": 2212,
    "start_time": "2023-05-09T15:40:18.539Z"
   },
   {
    "duration": 20,
    "start_time": "2023-05-09T15:40:20.754Z"
   },
   {
    "duration": 12,
    "start_time": "2023-05-09T15:40:20.776Z"
   },
   {
    "duration": 7,
    "start_time": "2023-05-09T15:40:20.790Z"
   },
   {
    "duration": 17,
    "start_time": "2023-05-09T15:40:20.798Z"
   },
   {
    "duration": 25,
    "start_time": "2023-05-09T15:40:20.817Z"
   },
   {
    "duration": 12,
    "start_time": "2023-05-09T15:40:20.844Z"
   },
   {
    "duration": 16,
    "start_time": "2023-05-09T15:40:20.858Z"
   },
   {
    "duration": 17,
    "start_time": "2023-05-09T15:40:20.877Z"
   },
   {
    "duration": 19,
    "start_time": "2023-05-09T15:40:20.896Z"
   },
   {
    "duration": 22,
    "start_time": "2023-05-09T15:40:20.917Z"
   },
   {
    "duration": 21,
    "start_time": "2023-05-09T15:40:20.941Z"
   },
   {
    "duration": 21,
    "start_time": "2023-05-09T15:40:20.964Z"
   },
   {
    "duration": 120,
    "start_time": "2023-05-09T15:40:20.987Z"
   },
   {
    "duration": 32,
    "start_time": "2023-05-09T15:40:21.108Z"
   },
   {
    "duration": 24,
    "start_time": "2023-05-09T15:40:21.141Z"
   },
   {
    "duration": 14,
    "start_time": "2023-05-09T15:40:21.167Z"
   },
   {
    "duration": 44,
    "start_time": "2023-05-09T15:40:21.183Z"
   },
   {
    "duration": 13,
    "start_time": "2023-05-09T15:40:21.229Z"
   },
   {
    "duration": 31,
    "start_time": "2023-05-09T15:40:21.244Z"
   },
   {
    "duration": 24,
    "start_time": "2023-05-09T15:40:21.277Z"
   },
   {
    "duration": 33,
    "start_time": "2023-05-09T15:40:21.318Z"
   },
   {
    "duration": 309,
    "start_time": "2023-05-09T15:40:21.353Z"
   },
   {
    "duration": 35,
    "start_time": "2023-05-09T15:40:21.663Z"
   },
   {
    "duration": 324,
    "start_time": "2023-05-09T15:40:21.700Z"
   },
   {
    "duration": 302,
    "start_time": "2023-05-09T15:40:22.026Z"
   },
   {
    "duration": 339,
    "start_time": "2023-05-09T15:40:22.331Z"
   },
   {
    "duration": 430,
    "start_time": "2023-05-09T15:40:22.672Z"
   },
   {
    "duration": 235,
    "start_time": "2023-05-09T15:40:23.104Z"
   },
   {
    "duration": 203,
    "start_time": "2023-05-09T15:40:23.341Z"
   },
   {
    "duration": 213,
    "start_time": "2023-05-09T15:40:23.546Z"
   },
   {
    "duration": 124,
    "start_time": "2023-05-09T15:40:23.760Z"
   },
   {
    "duration": 235,
    "start_time": "2023-05-09T15:40:23.886Z"
   },
   {
    "duration": 310,
    "start_time": "2023-05-09T15:40:24.124Z"
   },
   {
    "duration": 302,
    "start_time": "2023-05-09T15:40:24.435Z"
   },
   {
    "duration": 208,
    "start_time": "2023-05-09T15:40:24.739Z"
   },
   {
    "duration": 325,
    "start_time": "2023-05-09T15:40:24.949Z"
   },
   {
    "duration": 207,
    "start_time": "2023-05-09T15:40:25.275Z"
   },
   {
    "duration": 268,
    "start_time": "2023-05-09T15:40:25.484Z"
   },
   {
    "duration": 4,
    "start_time": "2023-05-09T15:40:25.754Z"
   },
   {
    "duration": 262,
    "start_time": "2023-05-09T15:40:25.760Z"
   },
   {
    "duration": 4,
    "start_time": "2023-05-09T15:40:26.024Z"
   },
   {
    "duration": 268,
    "start_time": "2023-05-09T15:40:26.030Z"
   },
   {
    "duration": 248,
    "start_time": "2023-05-09T15:40:26.300Z"
   },
   {
    "duration": 205,
    "start_time": "2023-05-09T15:40:26.550Z"
   },
   {
    "duration": 169,
    "start_time": "2023-05-09T15:40:26.757Z"
   },
   {
    "duration": 189,
    "start_time": "2023-05-09T15:40:26.928Z"
   },
   {
    "duration": 186,
    "start_time": "2023-05-09T15:40:27.119Z"
   },
   {
    "duration": 267,
    "start_time": "2023-05-09T15:40:27.307Z"
   },
   {
    "duration": 8,
    "start_time": "2023-05-09T15:40:27.576Z"
   },
   {
    "duration": 226,
    "start_time": "2023-05-09T15:40:27.586Z"
   },
   {
    "duration": 3,
    "start_time": "2023-05-09T15:40:27.814Z"
   },
   {
    "duration": 189,
    "start_time": "2023-05-09T15:40:27.819Z"
   },
   {
    "duration": 7,
    "start_time": "2023-05-09T15:40:28.010Z"
   },
   {
    "duration": 3,
    "start_time": "2023-05-09T17:43:35.640Z"
   },
   {
    "duration": 2265,
    "start_time": "2023-05-09T17:43:35.729Z"
   },
   {
    "duration": 32,
    "start_time": "2023-05-09T17:43:37.997Z"
   },
   {
    "duration": 11,
    "start_time": "2023-05-09T17:43:38.031Z"
   },
   {
    "duration": 15,
    "start_time": "2023-05-09T17:43:38.044Z"
   },
   {
    "duration": 15,
    "start_time": "2023-05-09T17:43:38.061Z"
   },
   {
    "duration": 24,
    "start_time": "2023-05-09T17:43:38.077Z"
   },
   {
    "duration": 10,
    "start_time": "2023-05-09T17:43:38.103Z"
   },
   {
    "duration": 17,
    "start_time": "2023-05-09T17:43:38.114Z"
   },
   {
    "duration": 16,
    "start_time": "2023-05-09T17:43:38.133Z"
   },
   {
    "duration": 20,
    "start_time": "2023-05-09T17:43:38.152Z"
   },
   {
    "duration": 23,
    "start_time": "2023-05-09T17:43:38.173Z"
   },
   {
    "duration": 36,
    "start_time": "2023-05-09T17:43:38.198Z"
   },
   {
    "duration": 23,
    "start_time": "2023-05-09T17:43:38.236Z"
   },
   {
    "duration": 113,
    "start_time": "2023-05-09T17:43:38.261Z"
   },
   {
    "duration": 24,
    "start_time": "2023-05-09T17:43:38.377Z"
   },
   {
    "duration": 37,
    "start_time": "2023-05-09T17:43:38.403Z"
   },
   {
    "duration": 15,
    "start_time": "2023-05-09T17:43:38.474Z"
   },
   {
    "duration": 16,
    "start_time": "2023-05-09T17:43:38.808Z"
   },
   {
    "duration": 16,
    "start_time": "2023-05-09T17:43:38.892Z"
   },
   {
    "duration": 21,
    "start_time": "2023-05-09T17:43:38.974Z"
   },
   {
    "duration": 26,
    "start_time": "2023-05-09T17:43:39.226Z"
   },
   {
    "duration": 32,
    "start_time": "2023-05-09T17:43:39.314Z"
   },
   {
    "duration": 279,
    "start_time": "2023-05-09T17:43:39.392Z"
   },
   {
    "duration": 33,
    "start_time": "2023-05-09T17:43:39.673Z"
   },
   {
    "duration": 267,
    "start_time": "2023-05-09T17:43:39.892Z"
   },
   {
    "duration": 313,
    "start_time": "2023-05-09T17:43:40.162Z"
   },
   {
    "duration": 268,
    "start_time": "2023-05-09T17:43:40.477Z"
   },
   {
    "duration": 390,
    "start_time": "2023-05-09T17:43:40.746Z"
   },
   {
    "duration": 188,
    "start_time": "2023-05-09T17:43:41.138Z"
   },
   {
    "duration": 201,
    "start_time": "2023-05-09T17:43:41.327Z"
   },
   {
    "duration": 199,
    "start_time": "2023-05-09T17:43:41.529Z"
   },
   {
    "duration": 144,
    "start_time": "2023-05-09T17:43:41.730Z"
   },
   {
    "duration": 224,
    "start_time": "2023-05-09T17:43:41.876Z"
   },
   {
    "duration": 281,
    "start_time": "2023-05-09T17:43:42.101Z"
   },
   {
    "duration": 372,
    "start_time": "2023-05-09T17:43:42.384Z"
   },
   {
    "duration": 227,
    "start_time": "2023-05-09T17:43:42.758Z"
   },
   {
    "duration": 336,
    "start_time": "2023-05-09T17:43:42.987Z"
   },
   {
    "duration": 219,
    "start_time": "2023-05-09T17:43:43.325Z"
   },
   {
    "duration": 277,
    "start_time": "2023-05-09T17:43:43.546Z"
   },
   {
    "duration": 5,
    "start_time": "2023-05-09T17:43:43.825Z"
   },
   {
    "duration": 273,
    "start_time": "2023-05-09T17:43:43.831Z"
   },
   {
    "duration": 12,
    "start_time": "2023-05-09T17:43:44.106Z"
   },
   {
    "duration": 251,
    "start_time": "2023-05-09T17:43:44.119Z"
   },
   {
    "duration": 252,
    "start_time": "2023-05-09T17:43:44.373Z"
   },
   {
    "duration": 223,
    "start_time": "2023-05-09T17:43:44.627Z"
   },
   {
    "duration": 173,
    "start_time": "2023-05-09T17:43:44.853Z"
   },
   {
    "duration": 199,
    "start_time": "2023-05-09T17:43:45.028Z"
   },
   {
    "duration": 180,
    "start_time": "2023-05-09T17:43:45.324Z"
   },
   {
    "duration": 255,
    "start_time": "2023-05-09T17:43:45.692Z"
   },
   {
    "duration": 9,
    "start_time": "2023-05-09T17:43:46.243Z"
   },
   {
    "duration": 210,
    "start_time": "2023-05-09T17:43:46.462Z"
   },
   {
    "duration": 3,
    "start_time": "2023-05-09T17:43:47.458Z"
   },
   {
    "duration": 176,
    "start_time": "2023-05-09T17:43:48.290Z"
   },
   {
    "duration": 3,
    "start_time": "2023-05-09T17:43:48.588Z"
   },
   {
    "duration": 1241,
    "start_time": "2023-05-10T13:04:27.077Z"
   },
   {
    "duration": 1851,
    "start_time": "2023-05-10T13:04:28.320Z"
   },
   {
    "duration": 17,
    "start_time": "2023-05-10T13:04:30.172Z"
   },
   {
    "duration": 24,
    "start_time": "2023-05-10T13:04:30.191Z"
   },
   {
    "duration": 30,
    "start_time": "2023-05-10T13:04:30.217Z"
   },
   {
    "duration": 48,
    "start_time": "2023-05-10T13:04:30.249Z"
   },
   {
    "duration": 42,
    "start_time": "2023-05-10T13:04:30.299Z"
   },
   {
    "duration": 27,
    "start_time": "2023-05-10T13:04:30.343Z"
   },
   {
    "duration": 28,
    "start_time": "2023-05-10T13:04:30.371Z"
   },
   {
    "duration": 40,
    "start_time": "2023-05-10T13:04:30.401Z"
   },
   {
    "duration": 33,
    "start_time": "2023-05-10T13:04:30.443Z"
   },
   {
    "duration": 46,
    "start_time": "2023-05-10T13:04:30.478Z"
   },
   {
    "duration": 22,
    "start_time": "2023-05-10T13:04:30.526Z"
   },
   {
    "duration": 37,
    "start_time": "2023-05-10T13:04:30.550Z"
   },
   {
    "duration": 111,
    "start_time": "2023-05-10T13:04:30.588Z"
   },
   {
    "duration": 19,
    "start_time": "2023-05-10T13:04:30.701Z"
   },
   {
    "duration": 75,
    "start_time": "2023-05-10T13:04:30.721Z"
   },
   {
    "duration": 60,
    "start_time": "2023-05-10T13:04:30.797Z"
   },
   {
    "duration": 41,
    "start_time": "2023-05-10T13:04:30.859Z"
   },
   {
    "duration": 29,
    "start_time": "2023-05-10T13:04:30.902Z"
   },
   {
    "duration": 50,
    "start_time": "2023-05-10T13:04:30.933Z"
   },
   {
    "duration": 42,
    "start_time": "2023-05-10T13:04:30.985Z"
   },
   {
    "duration": 60,
    "start_time": "2023-05-10T13:04:31.029Z"
   },
   {
    "duration": 283,
    "start_time": "2023-05-10T13:04:31.090Z"
   },
   {
    "duration": 28,
    "start_time": "2023-05-10T13:04:31.374Z"
   },
   {
    "duration": 234,
    "start_time": "2023-05-10T13:04:31.403Z"
   },
   {
    "duration": 240,
    "start_time": "2023-05-10T13:04:31.639Z"
   },
   {
    "duration": 232,
    "start_time": "2023-05-10T13:04:31.882Z"
   },
   {
    "duration": 339,
    "start_time": "2023-05-10T13:04:32.116Z"
   },
   {
    "duration": 213,
    "start_time": "2023-05-10T13:04:32.457Z"
   },
   {
    "duration": 173,
    "start_time": "2023-05-10T13:04:32.672Z"
   },
   {
    "duration": 168,
    "start_time": "2023-05-10T13:04:32.847Z"
   },
   {
    "duration": 106,
    "start_time": "2023-05-10T13:04:33.016Z"
   },
   {
    "duration": 161,
    "start_time": "2023-05-10T13:04:33.123Z"
   },
   {
    "duration": 229,
    "start_time": "2023-05-10T13:04:33.286Z"
   },
   {
    "duration": 236,
    "start_time": "2023-05-10T13:04:33.517Z"
   },
   {
    "duration": 168,
    "start_time": "2023-05-10T13:04:33.754Z"
   },
   {
    "duration": 260,
    "start_time": "2023-05-10T13:04:33.923Z"
   },
   {
    "duration": 169,
    "start_time": "2023-05-10T13:04:34.184Z"
   },
   {
    "duration": 207,
    "start_time": "2023-05-10T13:04:34.354Z"
   },
   {
    "duration": 4,
    "start_time": "2023-05-10T13:04:34.562Z"
   },
   {
    "duration": 219,
    "start_time": "2023-05-10T13:04:34.567Z"
   },
   {
    "duration": 3,
    "start_time": "2023-05-10T13:04:34.788Z"
   },
   {
    "duration": 208,
    "start_time": "2023-05-10T13:04:34.793Z"
   },
   {
    "duration": 200,
    "start_time": "2023-05-10T13:04:35.003Z"
   },
   {
    "duration": 159,
    "start_time": "2023-05-10T13:04:35.205Z"
   },
   {
    "duration": 135,
    "start_time": "2023-05-10T13:04:35.365Z"
   },
   {
    "duration": 164,
    "start_time": "2023-05-10T13:04:35.501Z"
   },
   {
    "duration": 159,
    "start_time": "2023-05-10T13:04:35.667Z"
   },
   {
    "duration": 222,
    "start_time": "2023-05-10T13:04:35.828Z"
   },
   {
    "duration": 8,
    "start_time": "2023-05-10T13:04:36.052Z"
   },
   {
    "duration": 195,
    "start_time": "2023-05-10T13:04:36.061Z"
   },
   {
    "duration": 2,
    "start_time": "2023-05-10T13:04:36.258Z"
   },
   {
    "duration": 169,
    "start_time": "2023-05-10T13:04:36.261Z"
   },
   {
    "duration": 4,
    "start_time": "2023-05-10T13:04:36.432Z"
   },
   {
    "duration": 1041,
    "start_time": "2023-05-10T13:05:31.690Z"
   },
   {
    "duration": 1814,
    "start_time": "2023-05-10T13:05:32.733Z"
   },
   {
    "duration": 16,
    "start_time": "2023-05-10T13:05:34.548Z"
   },
   {
    "duration": 11,
    "start_time": "2023-05-10T13:05:34.566Z"
   },
   {
    "duration": 4,
    "start_time": "2023-05-10T13:05:34.578Z"
   },
   {
    "duration": 5,
    "start_time": "2023-05-10T13:05:34.583Z"
   },
   {
    "duration": 5,
    "start_time": "2023-05-10T13:05:34.590Z"
   },
   {
    "duration": 5,
    "start_time": "2023-05-10T13:05:34.596Z"
   },
   {
    "duration": 5,
    "start_time": "2023-05-10T13:05:34.602Z"
   },
   {
    "duration": 10,
    "start_time": "2023-05-10T13:05:34.609Z"
   },
   {
    "duration": 28,
    "start_time": "2023-05-10T13:05:34.620Z"
   },
   {
    "duration": 18,
    "start_time": "2023-05-10T13:05:34.650Z"
   },
   {
    "duration": 18,
    "start_time": "2023-05-10T13:05:34.669Z"
   },
   {
    "duration": 17,
    "start_time": "2023-05-10T13:05:34.688Z"
   },
   {
    "duration": 77,
    "start_time": "2023-05-10T13:05:34.736Z"
   },
   {
    "duration": 25,
    "start_time": "2023-05-10T13:05:34.814Z"
   },
   {
    "duration": 27,
    "start_time": "2023-05-10T13:05:34.840Z"
   },
   {
    "duration": 10,
    "start_time": "2023-05-10T13:05:34.869Z"
   },
   {
    "duration": 14,
    "start_time": "2023-05-10T13:05:34.880Z"
   },
   {
    "duration": 12,
    "start_time": "2023-05-10T13:05:34.895Z"
   },
   {
    "duration": 39,
    "start_time": "2023-05-10T13:05:34.908Z"
   },
   {
    "duration": 23,
    "start_time": "2023-05-10T13:05:34.948Z"
   },
   {
    "duration": 42,
    "start_time": "2023-05-10T13:05:34.972Z"
   },
   {
    "duration": 251,
    "start_time": "2023-05-10T13:05:35.015Z"
   },
   {
    "duration": 28,
    "start_time": "2023-05-10T13:05:35.268Z"
   },
   {
    "duration": 232,
    "start_time": "2023-05-10T13:05:35.298Z"
   },
   {
    "duration": 250,
    "start_time": "2023-05-10T13:05:35.531Z"
   },
   {
    "duration": 236,
    "start_time": "2023-05-10T13:05:35.784Z"
   },
   {
    "duration": 329,
    "start_time": "2023-05-10T13:05:36.021Z"
   },
   {
    "duration": 170,
    "start_time": "2023-05-10T13:05:36.352Z"
   },
   {
    "duration": 163,
    "start_time": "2023-05-10T13:05:36.523Z"
   },
   {
    "duration": 164,
    "start_time": "2023-05-10T13:05:36.688Z"
   },
   {
    "duration": 109,
    "start_time": "2023-05-10T13:05:36.854Z"
   },
   {
    "duration": 164,
    "start_time": "2023-05-10T13:05:36.964Z"
   },
   {
    "duration": 226,
    "start_time": "2023-05-10T13:05:37.129Z"
   },
   {
    "duration": 237,
    "start_time": "2023-05-10T13:05:37.356Z"
   },
   {
    "duration": 174,
    "start_time": "2023-05-10T13:05:37.595Z"
   },
   {
    "duration": 261,
    "start_time": "2023-05-10T13:05:37.771Z"
   },
   {
    "duration": 166,
    "start_time": "2023-05-10T13:05:38.036Z"
   },
   {
    "duration": 214,
    "start_time": "2023-05-10T13:05:38.204Z"
   },
   {
    "duration": 4,
    "start_time": "2023-05-10T13:05:38.419Z"
   },
   {
    "duration": 218,
    "start_time": "2023-05-10T13:05:38.424Z"
   },
   {
    "duration": 4,
    "start_time": "2023-05-10T13:05:38.643Z"
   },
   {
    "duration": 197,
    "start_time": "2023-05-10T13:05:38.648Z"
   },
   {
    "duration": 218,
    "start_time": "2023-05-10T13:05:38.846Z"
   },
   {
    "duration": 188,
    "start_time": "2023-05-10T13:05:39.066Z"
   },
   {
    "duration": 144,
    "start_time": "2023-05-10T13:05:39.255Z"
   },
   {
    "duration": 168,
    "start_time": "2023-05-10T13:05:39.400Z"
   },
   {
    "duration": 157,
    "start_time": "2023-05-10T13:05:39.570Z"
   },
   {
    "duration": 237,
    "start_time": "2023-05-10T13:05:39.728Z"
   },
   {
    "duration": 8,
    "start_time": "2023-05-10T13:05:39.967Z"
   },
   {
    "duration": 185,
    "start_time": "2023-05-10T13:05:39.976Z"
   },
   {
    "duration": 2,
    "start_time": "2023-05-10T13:05:40.163Z"
   },
   {
    "duration": 161,
    "start_time": "2023-05-10T13:05:40.166Z"
   },
   {
    "duration": 8,
    "start_time": "2023-05-10T13:05:40.328Z"
   },
   {
    "duration": 12,
    "start_time": "2023-05-10T13:06:26.572Z"
   },
   {
    "duration": 78,
    "start_time": "2023-05-10T13:06:30.061Z"
   },
   {
    "duration": 110,
    "start_time": "2023-05-10T13:07:32.816Z"
   },
   {
    "duration": 121,
    "start_time": "2023-05-10T13:07:37.064Z"
   }
  ],
  "kernelspec": {
   "display_name": "Python 3 (ipykernel)",
   "language": "python",
   "name": "python3"
  },
  "language_info": {
   "codemirror_mode": {
    "name": "ipython",
    "version": 3
   },
   "file_extension": ".py",
   "mimetype": "text/x-python",
   "name": "python",
   "nbconvert_exporter": "python",
   "pygments_lexer": "ipython3",
   "version": "3.10.9"
  },
  "toc": {
   "base_numbering": 1,
   "nav_menu": {},
   "number_sections": true,
   "sideBar": true,
   "skip_h1_title": true,
   "title_cell": "Table of Contents",
   "title_sidebar": "Contents",
   "toc_cell": false,
   "toc_position": {},
   "toc_section_display": true,
   "toc_window_display": false
  }
 },
 "nbformat": 4,
 "nbformat_minor": 2
}
