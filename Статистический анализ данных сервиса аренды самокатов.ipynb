{
 "cells": [
  {
   "cell_type": "markdown",
   "id": "1b41c50a",
   "metadata": {},
   "source": [
    "# Статистический анализ данных сервиса аренды самокатов"
   ]
  },
  {
   "cell_type": "markdown",
   "id": "2853435a",
   "metadata": {},
   "source": [
    "### Цель проекта: проанализировать данные и понять, являются ли пользователи, использующие платную подписку, более выгодными для компании по сравнению с обычными пользователями."
   ]
  },
  {
   "cell_type": "markdown",
   "id": "56087317",
   "metadata": {},
   "source": [
    "### Описание проекта:"
   ]
  },
  {
   "cell_type": "markdown",
   "id": "48360224",
   "metadata": {},
   "source": [
    "Для того, чтобы совершать поездки по городу, пользователи сервиса GoFast пользуются мобильным приложением. Сервисом можно пользоваться без подписки (абонентская плата отсутствует; стоимость одной минуты поездки — 8 рублей; стоимость старта (начала поездки) — 50 рублей) или с подпиской Ultra (абонентская плата — 199 рублей в месяц; стоимость одной минуты поездки — 6 рублей; бесплатная стоимость старта).\n",
    "\n",
    "В выборке представлены данные о 1565 пользователях: их id, имена, возраст, город, какой подпиской они пользуются, а также информация об их поездках (расстояние, которое пользователь проехал в текущей сессии, продолжительность и дата совершения поездки).\n",
    "\n",
    "Необходимо объединить эти данные, посчитать объем помесячной выручки с каждого пользователя и проверить следующие гипотезы:\n",
    "\n",
    "   - Тратят ли пользователи с подпиской больше времени на поездки?\n",
    "   - Можно ли сказать, что расстояние, которое проезжают пользователи с подпиской за одну поездку, не превышает 3130 метров?\n",
    "   - Будет ли помесячная выручка от пользователей с подпиской по месяцам выше, чем выручка от пользователей без подписки?\n"
   ]
  },
  {
   "cell_type": "markdown",
   "id": "5919f7db",
   "metadata": {},
   "source": [
    "### План работы:"
   ]
  },
  {
   "cell_type": "markdown",
   "id": "c0aad16e",
   "metadata": {},
   "source": [
    "1. Загрузка датасетов, получение общей информации о каждом наборе данных.\n",
    "2. Предобработка данных: устранение недостатков в данных, создание столбца с номерос месяца на основе столбца date.\n",
    "3. Исследовательский анализ данных: описание и визуализация общей информации о пользователях и поездках.\n",
    "4. Объединение данных о пользователях, поездках и подписках в один датафрейм, создание двух наборов данных из полученного датафрейма с данными о пользователях каждой категории (с платной подпиской и без).\n",
    "5. Подсчёт помесячной выручки, которую принес каждый пользователь, на основании полученных ранее наборов данных. \n",
    "6. Проверка гипотез.\n",
    "7. Итоговый вывод."
   ]
  },
  {
   "cell_type": "code",
   "execution_count": 1,
   "id": "20814a59",
   "metadata": {},
   "outputs": [],
   "source": [
    "# Импортируем необходимые библиотеки\n",
    "import pandas as pd\n",
    "import numpy as np\n",
    "import matplotlib.pyplot as plt\n",
    "import seaborn as sns\n",
    "from scipy import stats as st\n",
    "from math import factorial"
   ]
  },
  {
   "cell_type": "markdown",
   "id": "1e242b2a",
   "metadata": {},
   "source": [
    "#### Шаг 1. Загрузка данных"
   ]
  },
  {
   "cell_type": "code",
   "execution_count": 2,
   "id": "4c9b5e9d",
   "metadata": {},
   "outputs": [],
   "source": [
    "# Загружаем данные из файлов в датафреймы\n",
    "try:\n",
    "    users_data = pd.read_csv('Downloads/users_go.csv')\n",
    "    rides_data = pd.read_csv('Downloads/rides_go.csv')\n",
    "    subs_data = pd.read_csv('Downloads/subscriptions_go.csv')\n",
    "    \n",
    "except:\n",
    "    users_data = pd.read_csv('https://code.s3.yandex.net/datasets//users_go.csv')\n",
    "    rides_data = pd.read_csv('https://code.s3.yandex.net/datasets//rides_go.csv')\n",
    "    subs_data = pd.read_csv('https://code.s3.yandex.net/datasets//subscriptions_go.csv')"
   ]
  },
  {
   "cell_type": "code",
   "execution_count": 3,
   "id": "88a86022",
   "metadata": {},
   "outputs": [
    {
     "name": "stdout",
     "output_type": "stream",
     "text": [
      "<class 'pandas.core.frame.DataFrame'>\n",
      "RangeIndex: 1565 entries, 0 to 1564\n",
      "Data columns (total 5 columns):\n",
      " #   Column             Non-Null Count  Dtype \n",
      "---  ------             --------------  ----- \n",
      " 0   user_id            1565 non-null   int64 \n",
      " 1   name               1565 non-null   object\n",
      " 2   age                1565 non-null   int64 \n",
      " 3   city               1565 non-null   object\n",
      " 4   subscription_type  1565 non-null   object\n",
      "dtypes: int64(2), object(3)\n",
      "memory usage: 61.3+ KB\n"
     ]
    },
    {
     "data": {
      "text/plain": [
       "None"
      ]
     },
     "metadata": {},
     "output_type": "display_data"
    },
    {
     "data": {
      "text/html": [
       "<div>\n",
       "<style scoped>\n",
       "    .dataframe tbody tr th:only-of-type {\n",
       "        vertical-align: middle;\n",
       "    }\n",
       "\n",
       "    .dataframe tbody tr th {\n",
       "        vertical-align: top;\n",
       "    }\n",
       "\n",
       "    .dataframe thead th {\n",
       "        text-align: right;\n",
       "    }\n",
       "</style>\n",
       "<table border=\"1\" class=\"dataframe\">\n",
       "  <thead>\n",
       "    <tr style=\"text-align: right;\">\n",
       "      <th></th>\n",
       "      <th>user_id</th>\n",
       "      <th>name</th>\n",
       "      <th>age</th>\n",
       "      <th>city</th>\n",
       "      <th>subscription_type</th>\n",
       "    </tr>\n",
       "  </thead>\n",
       "  <tbody>\n",
       "    <tr>\n",
       "      <th>0</th>\n",
       "      <td>1</td>\n",
       "      <td>Кира</td>\n",
       "      <td>22</td>\n",
       "      <td>Тюмень</td>\n",
       "      <td>ultra</td>\n",
       "    </tr>\n",
       "    <tr>\n",
       "      <th>1</th>\n",
       "      <td>2</td>\n",
       "      <td>Станислав</td>\n",
       "      <td>31</td>\n",
       "      <td>Омск</td>\n",
       "      <td>ultra</td>\n",
       "    </tr>\n",
       "    <tr>\n",
       "      <th>2</th>\n",
       "      <td>3</td>\n",
       "      <td>Алексей</td>\n",
       "      <td>20</td>\n",
       "      <td>Москва</td>\n",
       "      <td>ultra</td>\n",
       "    </tr>\n",
       "    <tr>\n",
       "      <th>3</th>\n",
       "      <td>4</td>\n",
       "      <td>Константин</td>\n",
       "      <td>26</td>\n",
       "      <td>Ростов-на-Дону</td>\n",
       "      <td>ultra</td>\n",
       "    </tr>\n",
       "    <tr>\n",
       "      <th>4</th>\n",
       "      <td>5</td>\n",
       "      <td>Адель</td>\n",
       "      <td>28</td>\n",
       "      <td>Омск</td>\n",
       "      <td>ultra</td>\n",
       "    </tr>\n",
       "  </tbody>\n",
       "</table>\n",
       "</div>"
      ],
      "text/plain": [
       "   user_id        name  age            city subscription_type\n",
       "0        1        Кира   22          Тюмень             ultra\n",
       "1        2   Станислав   31            Омск             ultra\n",
       "2        3     Алексей   20          Москва             ultra\n",
       "3        4  Константин   26  Ростов-на-Дону             ultra\n",
       "4        5       Адель   28            Омск             ultra"
      ]
     },
     "metadata": {},
     "output_type": "display_data"
    },
    {
     "name": "stdout",
     "output_type": "stream",
     "text": [
      "user_id              0\n",
      "name                 0\n",
      "age                  0\n",
      "city                 0\n",
      "subscription_type    0\n",
      "dtype: int64\n",
      "31\n"
     ]
    }
   ],
   "source": [
    "# Изучаем общую информацию о датафрейме users_data\n",
    "display(users_data.info())\n",
    "display(users_data.head(5))\n",
    "print(users_data.isna().sum())\n",
    "print(users_data.duplicated().sum())"
   ]
  },
  {
   "cell_type": "markdown",
   "id": "c8a197cd",
   "metadata": {},
   "source": [
    "Датасет содержит 1534 строки, 5 столбцов. Дубликаты были выявлены в количестве 31, пропусков не обнаружено. "
   ]
  },
  {
   "cell_type": "code",
   "execution_count": 4,
   "id": "c33dc60f",
   "metadata": {},
   "outputs": [
    {
     "name": "stdout",
     "output_type": "stream",
     "text": [
      "<class 'pandas.core.frame.DataFrame'>\n",
      "RangeIndex: 18068 entries, 0 to 18067\n",
      "Data columns (total 4 columns):\n",
      " #   Column    Non-Null Count  Dtype  \n",
      "---  ------    --------------  -----  \n",
      " 0   user_id   18068 non-null  int64  \n",
      " 1   distance  18068 non-null  float64\n",
      " 2   duration  18068 non-null  float64\n",
      " 3   date      18068 non-null  object \n",
      "dtypes: float64(2), int64(1), object(1)\n",
      "memory usage: 564.8+ KB\n"
     ]
    },
    {
     "data": {
      "text/plain": [
       "None"
      ]
     },
     "metadata": {},
     "output_type": "display_data"
    },
    {
     "data": {
      "text/html": [
       "<div>\n",
       "<style scoped>\n",
       "    .dataframe tbody tr th:only-of-type {\n",
       "        vertical-align: middle;\n",
       "    }\n",
       "\n",
       "    .dataframe tbody tr th {\n",
       "        vertical-align: top;\n",
       "    }\n",
       "\n",
       "    .dataframe thead th {\n",
       "        text-align: right;\n",
       "    }\n",
       "</style>\n",
       "<table border=\"1\" class=\"dataframe\">\n",
       "  <thead>\n",
       "    <tr style=\"text-align: right;\">\n",
       "      <th></th>\n",
       "      <th>user_id</th>\n",
       "      <th>distance</th>\n",
       "      <th>duration</th>\n",
       "      <th>date</th>\n",
       "    </tr>\n",
       "  </thead>\n",
       "  <tbody>\n",
       "    <tr>\n",
       "      <th>0</th>\n",
       "      <td>1</td>\n",
       "      <td>4409.919140</td>\n",
       "      <td>25.599769</td>\n",
       "      <td>2021-01-01</td>\n",
       "    </tr>\n",
       "    <tr>\n",
       "      <th>1</th>\n",
       "      <td>1</td>\n",
       "      <td>2617.592153</td>\n",
       "      <td>15.816871</td>\n",
       "      <td>2021-01-18</td>\n",
       "    </tr>\n",
       "    <tr>\n",
       "      <th>2</th>\n",
       "      <td>1</td>\n",
       "      <td>754.159807</td>\n",
       "      <td>6.232113</td>\n",
       "      <td>2021-04-20</td>\n",
       "    </tr>\n",
       "    <tr>\n",
       "      <th>3</th>\n",
       "      <td>1</td>\n",
       "      <td>2694.783254</td>\n",
       "      <td>18.511000</td>\n",
       "      <td>2021-08-11</td>\n",
       "    </tr>\n",
       "    <tr>\n",
       "      <th>4</th>\n",
       "      <td>1</td>\n",
       "      <td>4028.687306</td>\n",
       "      <td>26.265803</td>\n",
       "      <td>2021-08-28</td>\n",
       "    </tr>\n",
       "  </tbody>\n",
       "</table>\n",
       "</div>"
      ],
      "text/plain": [
       "   user_id     distance   duration        date\n",
       "0        1  4409.919140  25.599769  2021-01-01\n",
       "1        1  2617.592153  15.816871  2021-01-18\n",
       "2        1   754.159807   6.232113  2021-04-20\n",
       "3        1  2694.783254  18.511000  2021-08-11\n",
       "4        1  4028.687306  26.265803  2021-08-28"
      ]
     },
     "metadata": {},
     "output_type": "display_data"
    },
    {
     "name": "stdout",
     "output_type": "stream",
     "text": [
      "user_id     0\n",
      "distance    0\n",
      "duration    0\n",
      "date        0\n",
      "dtype: int64\n",
      "0\n"
     ]
    }
   ],
   "source": [
    "# Изучаем общую информацию о датафрейме rides_data\n",
    "display(rides_data.info())\n",
    "display(rides_data.head(5))\n",
    "print(rides_data.isna().sum())\n",
    "print(rides_data.duplicated().sum())"
   ]
  },
  {
   "cell_type": "markdown",
   "id": "e60d14eb",
   "metadata": {},
   "source": [
    "В датасете 18068 строк, 4 столбца. Пропуски и дубликаты отсутствуют. Тип данных, содержащихся в столбце 'date' следует приветси к типу datetime"
   ]
  },
  {
   "cell_type": "code",
   "execution_count": 5,
   "id": "54be6307",
   "metadata": {},
   "outputs": [
    {
     "name": "stdout",
     "output_type": "stream",
     "text": [
      "<class 'pandas.core.frame.DataFrame'>\n",
      "RangeIndex: 2 entries, 0 to 1\n",
      "Data columns (total 4 columns):\n",
      " #   Column             Non-Null Count  Dtype \n",
      "---  ------             --------------  ----- \n",
      " 0   subscription_type  2 non-null      object\n",
      " 1   minute_price       2 non-null      int64 \n",
      " 2   start_ride_price   2 non-null      int64 \n",
      " 3   subscription_fee   2 non-null      int64 \n",
      "dtypes: int64(3), object(1)\n",
      "memory usage: 192.0+ bytes\n"
     ]
    },
    {
     "data": {
      "text/plain": [
       "None"
      ]
     },
     "metadata": {},
     "output_type": "display_data"
    },
    {
     "data": {
      "text/html": [
       "<div>\n",
       "<style scoped>\n",
       "    .dataframe tbody tr th:only-of-type {\n",
       "        vertical-align: middle;\n",
       "    }\n",
       "\n",
       "    .dataframe tbody tr th {\n",
       "        vertical-align: top;\n",
       "    }\n",
       "\n",
       "    .dataframe thead th {\n",
       "        text-align: right;\n",
       "    }\n",
       "</style>\n",
       "<table border=\"1\" class=\"dataframe\">\n",
       "  <thead>\n",
       "    <tr style=\"text-align: right;\">\n",
       "      <th></th>\n",
       "      <th>subscription_type</th>\n",
       "      <th>minute_price</th>\n",
       "      <th>start_ride_price</th>\n",
       "      <th>subscription_fee</th>\n",
       "    </tr>\n",
       "  </thead>\n",
       "  <tbody>\n",
       "    <tr>\n",
       "      <th>0</th>\n",
       "      <td>free</td>\n",
       "      <td>8</td>\n",
       "      <td>50</td>\n",
       "      <td>0</td>\n",
       "    </tr>\n",
       "    <tr>\n",
       "      <th>1</th>\n",
       "      <td>ultra</td>\n",
       "      <td>6</td>\n",
       "      <td>0</td>\n",
       "      <td>199</td>\n",
       "    </tr>\n",
       "  </tbody>\n",
       "</table>\n",
       "</div>"
      ],
      "text/plain": [
       "  subscription_type  minute_price  start_ride_price  subscription_fee\n",
       "0              free             8                50                 0\n",
       "1             ultra             6                 0               199"
      ]
     },
     "metadata": {},
     "output_type": "display_data"
    }
   ],
   "source": [
    "# Изучаем общую информацию о датафрейме subs_data\n",
    "display(subs_data.info())\n",
    "display(subs_data.head(5))"
   ]
  },
  {
   "cell_type": "markdown",
   "id": "27d7b0d9",
   "metadata": {},
   "source": [
    "В датасете всего две строки, которые содержат информацию о каждом из двух тарифов - без подписки и с подпиской Ultra. Пропуски и дубликаты отсутствуют. "
   ]
  },
  {
   "cell_type": "markdown",
   "id": "61384738",
   "metadata": {},
   "source": [
    "   Вывод:\n",
    "   \n",
    "   - В датасете users_data есть дубликаты, от которых следует избавиться;\n",
    "   - Значения столбца 'date' датасета rides_data следует привети к типу данных datetime;\n",
    "   - Значения столбца 'duration' датасета rides_data можно округлить до целых и привети к типу данных int. "
   ]
  },
  {
   "cell_type": "markdown",
   "id": "48f42ad0",
   "metadata": {},
   "source": [
    "#### Шаг 2. Предобработка данных"
   ]
  },
  {
   "cell_type": "code",
   "execution_count": 6,
   "id": "5156bce4",
   "metadata": {},
   "outputs": [
    {
     "name": "stdout",
     "output_type": "stream",
     "text": [
      "0\n"
     ]
    }
   ],
   "source": [
    "# Удаляем дубликаты в users_data\n",
    "users_data = users_data.drop_duplicates().reset_index(drop=True) \n",
    "print(users_data.duplicated().sum())"
   ]
  },
  {
   "cell_type": "code",
   "execution_count": 7,
   "id": "e66c4879",
   "metadata": {},
   "outputs": [],
   "source": [
    "# Меняем тип данных столбца date на datetime\n",
    "rides_data['date'] = pd.to_datetime(rides_data['date'], format = '%Y-%m-%d')"
   ]
  },
  {
   "cell_type": "code",
   "execution_count": 8,
   "id": "bd483851",
   "metadata": {},
   "outputs": [
    {
     "name": "stdout",
     "output_type": "stream",
     "text": [
      "<class 'pandas.core.frame.DataFrame'>\n",
      "RangeIndex: 18068 entries, 0 to 18067\n",
      "Data columns (total 4 columns):\n",
      " #   Column    Non-Null Count  Dtype         \n",
      "---  ------    --------------  -----         \n",
      " 0   user_id   18068 non-null  int64         \n",
      " 1   distance  18068 non-null  float64       \n",
      " 2   duration  18068 non-null  int64         \n",
      " 3   date      18068 non-null  datetime64[ns]\n",
      "dtypes: datetime64[ns](1), float64(1), int64(2)\n",
      "memory usage: 564.8 KB\n"
     ]
    }
   ],
   "source": [
    "# Округляем значения и меняем тип нанных на целочисленный в столбце duration датасета rides_data\n",
    "rides_data['duration'] = np.ceil(rides_data['duration']).astype('int')\n",
    "rides_data.info()"
   ]
  },
  {
   "cell_type": "code",
   "execution_count": 9,
   "id": "5522e4cc",
   "metadata": {},
   "outputs": [
    {
     "data": {
      "text/html": [
       "<div>\n",
       "<style scoped>\n",
       "    .dataframe tbody tr th:only-of-type {\n",
       "        vertical-align: middle;\n",
       "    }\n",
       "\n",
       "    .dataframe tbody tr th {\n",
       "        vertical-align: top;\n",
       "    }\n",
       "\n",
       "    .dataframe thead th {\n",
       "        text-align: right;\n",
       "    }\n",
       "</style>\n",
       "<table border=\"1\" class=\"dataframe\">\n",
       "  <thead>\n",
       "    <tr style=\"text-align: right;\">\n",
       "      <th></th>\n",
       "      <th>user_id</th>\n",
       "      <th>distance</th>\n",
       "      <th>duration</th>\n",
       "      <th>date</th>\n",
       "      <th>month</th>\n",
       "    </tr>\n",
       "  </thead>\n",
       "  <tbody>\n",
       "    <tr>\n",
       "      <th>0</th>\n",
       "      <td>1</td>\n",
       "      <td>4409.919140</td>\n",
       "      <td>26</td>\n",
       "      <td>2021-01-01</td>\n",
       "      <td>1</td>\n",
       "    </tr>\n",
       "    <tr>\n",
       "      <th>1</th>\n",
       "      <td>1</td>\n",
       "      <td>2617.592153</td>\n",
       "      <td>16</td>\n",
       "      <td>2021-01-18</td>\n",
       "      <td>1</td>\n",
       "    </tr>\n",
       "    <tr>\n",
       "      <th>2</th>\n",
       "      <td>1</td>\n",
       "      <td>754.159807</td>\n",
       "      <td>7</td>\n",
       "      <td>2021-04-20</td>\n",
       "      <td>4</td>\n",
       "    </tr>\n",
       "    <tr>\n",
       "      <th>3</th>\n",
       "      <td>1</td>\n",
       "      <td>2694.783254</td>\n",
       "      <td>19</td>\n",
       "      <td>2021-08-11</td>\n",
       "      <td>8</td>\n",
       "    </tr>\n",
       "    <tr>\n",
       "      <th>4</th>\n",
       "      <td>1</td>\n",
       "      <td>4028.687306</td>\n",
       "      <td>27</td>\n",
       "      <td>2021-08-28</td>\n",
       "      <td>8</td>\n",
       "    </tr>\n",
       "  </tbody>\n",
       "</table>\n",
       "</div>"
      ],
      "text/plain": [
       "   user_id     distance  duration       date  month\n",
       "0        1  4409.919140        26 2021-01-01      1\n",
       "1        1  2617.592153        16 2021-01-18      1\n",
       "2        1   754.159807         7 2021-04-20      4\n",
       "3        1  2694.783254        19 2021-08-11      8\n",
       "4        1  4028.687306        27 2021-08-28      8"
      ]
     },
     "execution_count": 9,
     "metadata": {},
     "output_type": "execute_result"
    }
   ],
   "source": [
    "# В датасете rides_data создаем новый столбец с номером месяца на основе столбца date\n",
    "rides_data['month'] = rides_data['date'].dt.month\n",
    "rides_data.head(5)"
   ]
  },
  {
   "cell_type": "markdown",
   "id": "aee94735",
   "metadata": {},
   "source": [
    "В результате предобработки данных:\n",
    "   - Устранены дубликаты в датасете users_data;\n",
    "   - В датасете rides_data типы данных столбцов 'date' и 'duration' изменены на datetime и int соответственно;\n",
    "   - Создан новый столбцец в датасете rides_data, значения в котором отображают номер месяца поездки."
   ]
  },
  {
   "cell_type": "markdown",
   "id": "d6a20903",
   "metadata": {},
   "source": [
    "#### Шаг 3. Исследовательский анализ данных"
   ]
  },
  {
   "cell_type": "code",
   "execution_count": 10,
   "id": "ef65ac02",
   "metadata": {
    "scrolled": false
   },
   "outputs": [
    {
     "data": {
      "text/plain": [
       "Пятигорск         219\n",
       "Екатеринбург      204\n",
       "Ростов-на-Дону    198\n",
       "Краснодар         193\n",
       "Сочи              189\n",
       "Омск              183\n",
       "Тюмень            180\n",
       "Москва            168\n",
       "Name: city, dtype: int64"
      ]
     },
     "metadata": {},
     "output_type": "display_data"
    },
    {
     "data": {
      "image/png": "[encoded data removed]",
      "text/plain": [
       "<Figure size 640x480 with 1 Axes>"
      ]
     },
     "metadata": {},
     "output_type": "display_data"
    }
   ],
   "source": [
    "# Проанализируем информацию о частоте встречаемости городов. Для этого построим столбчатую диаграмму\n",
    "# Выведем таблицу с числовыми значениями частотности городов\n",
    "top_city = users_data['city'].value_counts().sort_values(ascending = False)\n",
    "display(top_city)\n",
    "\n",
    "# Построим график\n",
    "top_city.plot(kind = 'bar');\n",
    "plt.title('Частота встречаемости городов')\n",
    "plt.show()"
   ]
  },
  {
   "cell_type": "markdown",
   "id": "141b9dd7",
   "metadata": {},
   "source": [
    "Как видно на графике, пользователей из Пятигорска больше всего в представленных данных. Меньше всего пользователей из Москвы."
   ]
  },
  {
   "cell_type": "code",
   "execution_count": 11,
   "id": "09981921",
   "metadata": {},
   "outputs": [
    {
     "name": "stdout",
     "output_type": "stream",
     "text": [
      "Пользователей без подписки: 835\n",
      "Пользователей с подпиской: 699\n"
     ]
    },
    {
     "data": {
      "image/png": "[encoded data removed]",
      "text/plain": [
       "<Figure size 640x480 with 1 Axes>"
      ]
     },
     "metadata": {},
     "output_type": "display_data"
    }
   ],
   "source": [
    "# Исследуем соотношение пользователей с подпиской и без подписки\n",
    "# Вычислим количество пользователей с подпиской и без подписки\n",
    "\n",
    "subs = users_data[users_data['subscription_type'] == 'ultra']['subscription_type'].count()\n",
    "unsubs = users_data[users_data['subscription_type'] == 'free']['subscription_type'].count()\n",
    "print('Пользователей без подписки:', unsubs)\n",
    "print('Пользователей с подпиской:', subs)\n",
    "\n",
    "# Отразим соотношение на круговой диаграмме\n",
    "\n",
    "subscription_types = [subs, unsubs]\n",
    "labels = ['Ultra', 'Free']\n",
    "\n",
    "plt.pie(subscription_types, labels = labels, autopct='%.0f%%', radius = 1.1)\n",
    "plt.title('Соотношение пользователей с подпиской и без подписки')\n",
    "plt.show()"
   ]
  },
  {
   "cell_type": "code",
   "execution_count": 12,
   "id": "ac04314b",
   "metadata": {},
   "outputs": [
    {
     "data": {
      "image/png": "[encoded data removed]",
      "text/plain": [
       "<Figure size 500x500 with 1 Axes>"
      ]
     },
     "metadata": {},
     "output_type": "display_data"
    }
   ],
   "source": [
    "# Построим гистограмму\n",
    "\n",
    "users_data['subscription_type'].hist(bins = 3, figsize = (5, 5));\n",
    "plt.title('Соотношение пользователей с подпиской и без подписки')\n",
    "plt.show()"
   ]
  },
  {
   "cell_type": "markdown",
   "id": "88410f89",
   "metadata": {},
   "source": [
    "Вычисления и графики показали, что пользователей без подписки больше, чем пользователей с подпиской на 8%. Пользователей без подписки всего 835, подпиской пользуется 699 пользователей. "
   ]
  },
  {
   "cell_type": "code",
   "execution_count": 13,
   "id": "a5723242",
   "metadata": {},
   "outputs": [
    {
     "data": {
      "text/plain": [
       "count    1534.000000\n",
       "mean       24.903520\n",
       "std         4.572367\n",
       "min        12.000000\n",
       "25%        22.000000\n",
       "50%        25.000000\n",
       "75%        28.000000\n",
       "max        43.000000\n",
       "Name: age, dtype: float64"
      ]
     },
     "metadata": {},
     "output_type": "display_data"
    },
    {
     "data": {
      "image/png": "[encoded data removed]",
      "text/plain": [
       "<Figure size 1000x500 with 1 Axes>"
      ]
     },
     "metadata": {},
     "output_type": "display_data"
    }
   ],
   "source": [
    "# Исследуем возраст пользователей\n",
    "display(users_data['age'].describe())\n",
    "users_data['age'].hist(bins = 100, figsize = (10, 5));\n",
    "plt.title('Возраст пользователей')\n",
    "plt.show()"
   ]
  },
  {
   "cell_type": "markdown",
   "id": "320e51b9",
   "metadata": {},
   "source": [
    "На графике видно, что основная часть данных распределена в диапазоне от 20 до 30 лет, средний возраст пользователей GoFast - 25 лет. Минимальный возраст среди пользователей в представленных данных - 12 лет. Максимальный возраст пользователя - 43 года. "
   ]
  },
  {
   "cell_type": "code",
   "execution_count": 14,
   "id": "fd3e98da",
   "metadata": {},
   "outputs": [
    {
     "data": {
      "text/plain": [
       "count    18068.000000\n",
       "mean      3070.659976\n",
       "std       1116.831209\n",
       "min          0.855683\n",
       "25%       2543.226360\n",
       "50%       3133.609994\n",
       "75%       3776.222735\n",
       "max       7211.007745\n",
       "Name: distance, dtype: float64"
      ]
     },
     "metadata": {},
     "output_type": "display_data"
    },
    {
     "data": {
      "image/png": "[encoded data removed]",
      "text/plain": [
       "<Figure size 1000x500 with 1 Axes>"
      ]
     },
     "metadata": {},
     "output_type": "display_data"
    }
   ],
   "source": [
    "# Исследуем расстояние, которое преодолевает пользователь за одну поездку\n",
    "\n",
    "display(rides_data['distance'].describe())\n",
    "rides_data['distance'].hist(bins = 200, figsize = (10, 5));\n",
    "plt.title('Расстояние за одну поездку')\n",
    "plt.show()"
   ]
  },
  {
   "cell_type": "markdown",
   "id": "5c1201dd",
   "metadata": {},
   "source": [
    "Судя по графику, поездки можно разделить на короткие (до 1500 м) и длительные (от 1500 м). За одну короткую поездку пользователи проезжают около 750 м, за одну длительную поездку - примерно 3100 м. В среднем пользователи проезжают 3 км за одну поездку. Самое большое расстояние, которое проезжал пользователь равна 7.2 км. "
   ]
  },
  {
   "cell_type": "code",
   "execution_count": 15,
   "id": "72f41e97",
   "metadata": {
    "scrolled": false
   },
   "outputs": [
    {
     "data": {
      "text/plain": [
       "count    18068.000000\n",
       "mean        18.303520\n",
       "std          6.094928\n",
       "min          1.000000\n",
       "25%         14.000000\n",
       "50%         18.000000\n",
       "75%         22.000000\n",
       "max         41.000000\n",
       "Name: duration, dtype: float64"
      ]
     },
     "metadata": {},
     "output_type": "display_data"
    },
    {
     "data": {
      "image/png": "[encoded data removed]",
      "text/plain": [
       "<Figure size 1000x500 with 1 Axes>"
      ]
     },
     "metadata": {},
     "output_type": "display_data"
    }
   ],
   "source": [
    "# Исследуем продолжительность поездок\n",
    "\n",
    "display(rides_data['duration'].describe())\n",
    "rides_data['duration'].hist(bins = 100, figsize = (10, 5));\n",
    "plt.title('Продолжительность поездок')\n",
    "plt.show()"
   ]
  },
  {
   "cell_type": "markdown",
   "id": "2fac9587",
   "metadata": {},
   "source": [
    "Продолжительность поездки в среднем составляет 18 минут. Самая длительная поездка составила 41 минуту, самая короткая - одну минуту. "
   ]
  },
  {
   "cell_type": "markdown",
   "id": "b4405237",
   "metadata": {},
   "source": [
    "    В результате исследовательского анилиза можно сделать следующие выводы:\n",
    "       - Аномальных значений и выбросов в данных не обнаружено\n",
    "       - Визуализация данных позволяет узнать, что:\n",
    "           а) Больше всего пользователей из Пятигорска;\n",
    "           б) Пользователей без подписки больше пользователей с подпиской всего на 8%;\n",
    "           в) Средний возраст пользователей - 25 лет;\n",
    "           г) Среднее расстояние, которое преодолевает пользователь за поездку, составляет 18 минут;\n",
    "           д) Продолжительность одной поездки в среднем равна 3 км. "
   ]
  },
  {
   "cell_type": "markdown",
   "id": "37b336b8",
   "metadata": {},
   "source": [
    "#### Шаг 4. Объединение данных"
   ]
  },
  {
   "cell_type": "code",
   "execution_count": 16,
   "id": "978aae96",
   "metadata": {},
   "outputs": [
    {
     "name": "stdout",
     "output_type": "stream",
     "text": [
      "<class 'pandas.core.frame.DataFrame'>\n",
      "Int64Index: 18068 entries, 0 to 18067\n",
      "Data columns (total 12 columns):\n",
      " #   Column             Non-Null Count  Dtype         \n",
      "---  ------             --------------  -----         \n",
      " 0   user_id            18068 non-null  int64         \n",
      " 1   name               18068 non-null  object        \n",
      " 2   age                18068 non-null  int64         \n",
      " 3   city               18068 non-null  object        \n",
      " 4   subscription_type  18068 non-null  object        \n",
      " 5   distance           18068 non-null  float64       \n",
      " 6   duration           18068 non-null  int64         \n",
      " 7   date               18068 non-null  datetime64[ns]\n",
      " 8   month              18068 non-null  int64         \n",
      " 9   minute_price       18068 non-null  int64         \n",
      " 10  start_ride_price   18068 non-null  int64         \n",
      " 11  subscription_fee   18068 non-null  int64         \n",
      "dtypes: datetime64[ns](1), float64(1), int64(7), object(3)\n",
      "memory usage: 1.8+ MB\n"
     ]
    }
   ],
   "source": [
    "# Объединим данные о пользователях, поездках и подписках в один датафрейм\n",
    "data = users_data.merge(rides_data, on='user_id', how='outer') \n",
    "data = data.merge(subs_data, on='subscription_type', how='outer')\n",
    "\n",
    "data.info()"
   ]
  },
  {
   "cell_type": "code",
   "execution_count": 17,
   "id": "001ae4f0",
   "metadata": {},
   "outputs": [
    {
     "data": {
      "text/html": [
       "<div>\n",
       "<style scoped>\n",
       "    .dataframe tbody tr th:only-of-type {\n",
       "        vertical-align: middle;\n",
       "    }\n",
       "\n",
       "    .dataframe tbody tr th {\n",
       "        vertical-align: top;\n",
       "    }\n",
       "\n",
       "    .dataframe thead th {\n",
       "        text-align: right;\n",
       "    }\n",
       "</style>\n",
       "<table border=\"1\" class=\"dataframe\">\n",
       "  <thead>\n",
       "    <tr style=\"text-align: right;\">\n",
       "      <th></th>\n",
       "      <th>user_id</th>\n",
       "      <th>name</th>\n",
       "      <th>age</th>\n",
       "      <th>city</th>\n",
       "      <th>subscription_type</th>\n",
       "      <th>distance</th>\n",
       "      <th>duration</th>\n",
       "      <th>date</th>\n",
       "      <th>month</th>\n",
       "      <th>minute_price</th>\n",
       "      <th>start_ride_price</th>\n",
       "      <th>subscription_fee</th>\n",
       "    </tr>\n",
       "  </thead>\n",
       "  <tbody>\n",
       "    <tr>\n",
       "      <th>0</th>\n",
       "      <td>1</td>\n",
       "      <td>Кира</td>\n",
       "      <td>22</td>\n",
       "      <td>Тюмень</td>\n",
       "      <td>ultra</td>\n",
       "      <td>4409.919140</td>\n",
       "      <td>26</td>\n",
       "      <td>2021-01-01</td>\n",
       "      <td>1</td>\n",
       "      <td>6</td>\n",
       "      <td>0</td>\n",
       "      <td>199</td>\n",
       "    </tr>\n",
       "    <tr>\n",
       "      <th>1</th>\n",
       "      <td>1</td>\n",
       "      <td>Кира</td>\n",
       "      <td>22</td>\n",
       "      <td>Тюмень</td>\n",
       "      <td>ultra</td>\n",
       "      <td>2617.592153</td>\n",
       "      <td>16</td>\n",
       "      <td>2021-01-18</td>\n",
       "      <td>1</td>\n",
       "      <td>6</td>\n",
       "      <td>0</td>\n",
       "      <td>199</td>\n",
       "    </tr>\n",
       "    <tr>\n",
       "      <th>2</th>\n",
       "      <td>1</td>\n",
       "      <td>Кира</td>\n",
       "      <td>22</td>\n",
       "      <td>Тюмень</td>\n",
       "      <td>ultra</td>\n",
       "      <td>754.159807</td>\n",
       "      <td>7</td>\n",
       "      <td>2021-04-20</td>\n",
       "      <td>4</td>\n",
       "      <td>6</td>\n",
       "      <td>0</td>\n",
       "      <td>199</td>\n",
       "    </tr>\n",
       "  </tbody>\n",
       "</table>\n",
       "</div>"
      ],
      "text/plain": [
       "   user_id  name  age    city subscription_type     distance  duration  \\\n",
       "0        1  Кира   22  Тюмень             ultra  4409.919140        26   \n",
       "1        1  Кира   22  Тюмень             ultra  2617.592153        16   \n",
       "2        1  Кира   22  Тюмень             ultra   754.159807         7   \n",
       "\n",
       "        date  month  minute_price  start_ride_price  subscription_fee  \n",
       "0 2021-01-01      1             6                 0               199  \n",
       "1 2021-01-18      1             6                 0               199  \n",
       "2 2021-04-20      4             6                 0               199  "
      ]
     },
     "execution_count": 17,
     "metadata": {},
     "output_type": "execute_result"
    }
   ],
   "source": [
    "data.head(3)"
   ]
  },
  {
   "cell_type": "markdown",
   "id": "163bfcf3",
   "metadata": {},
   "source": [
    "Новый датафрейм состоит из 18068 строк и 12 столбцов."
   ]
  },
  {
   "cell_type": "code",
   "execution_count": 18,
   "id": "03b42e10",
   "metadata": {
    "scrolled": false
   },
   "outputs": [
    {
     "name": "stdout",
     "output_type": "stream",
     "text": [
      "<class 'pandas.core.frame.DataFrame'>\n",
      "Int64Index: 6500 entries, 0 to 6499\n",
      "Data columns (total 12 columns):\n",
      " #   Column             Non-Null Count  Dtype         \n",
      "---  ------             --------------  -----         \n",
      " 0   user_id            6500 non-null   int64         \n",
      " 1   name               6500 non-null   object        \n",
      " 2   age                6500 non-null   int64         \n",
      " 3   city               6500 non-null   object        \n",
      " 4   subscription_type  6500 non-null   object        \n",
      " 5   distance           6500 non-null   float64       \n",
      " 6   duration           6500 non-null   int64         \n",
      " 7   date               6500 non-null   datetime64[ns]\n",
      " 8   month              6500 non-null   int64         \n",
      " 9   minute_price       6500 non-null   int64         \n",
      " 10  start_ride_price   6500 non-null   int64         \n",
      " 11  subscription_fee   6500 non-null   int64         \n",
      "dtypes: datetime64[ns](1), float64(1), int64(7), object(3)\n",
      "memory usage: 660.2+ KB\n"
     ]
    },
    {
     "data": {
      "text/plain": [
       "None"
      ]
     },
     "metadata": {},
     "output_type": "display_data"
    },
    {
     "name": "stdout",
     "output_type": "stream",
     "text": [
      "<class 'pandas.core.frame.DataFrame'>\n",
      "Int64Index: 11568 entries, 6500 to 18067\n",
      "Data columns (total 12 columns):\n",
      " #   Column             Non-Null Count  Dtype         \n",
      "---  ------             --------------  -----         \n",
      " 0   user_id            11568 non-null  int64         \n",
      " 1   name               11568 non-null  object        \n",
      " 2   age                11568 non-null  int64         \n",
      " 3   city               11568 non-null  object        \n",
      " 4   subscription_type  11568 non-null  object        \n",
      " 5   distance           11568 non-null  float64       \n",
      " 6   duration           11568 non-null  int64         \n",
      " 7   date               11568 non-null  datetime64[ns]\n",
      " 8   month              11568 non-null  int64         \n",
      " 9   minute_price       11568 non-null  int64         \n",
      " 10  start_ride_price   11568 non-null  int64         \n",
      " 11  subscription_fee   11568 non-null  int64         \n",
      "dtypes: datetime64[ns](1), float64(1), int64(7), object(3)\n",
      "memory usage: 1.1+ MB\n"
     ]
    },
    {
     "data": {
      "text/plain": [
       "None"
      ]
     },
     "metadata": {},
     "output_type": "display_data"
    }
   ],
   "source": [
    "# Создадим два датафрейма с данными о пользователях с подпиской (subs_data) и без подписки (unsubs_data)\n",
    "\n",
    "subs_data = data[data['subscription_type'] == 'ultra']\n",
    "unsubs_data = data[data['subscription_type'] == 'free']\n",
    "\n",
    "display(subs_data.info())\n",
    "display(unsubs_data.info())"
   ]
  },
  {
   "cell_type": "code",
   "execution_count": 19,
   "id": "93baa62d",
   "metadata": {
    "scrolled": false
   },
   "outputs": [
    {
     "data": {
      "text/plain": [
       "count    6500.000000\n",
       "mean     3115.445388\n",
       "std       836.895330\n",
       "min       244.210438\n",
       "25%      2785.444017\n",
       "50%      3148.637229\n",
       "75%      3560.574425\n",
       "max      5699.769662\n",
       "Name: distance, dtype: float64"
      ]
     },
     "metadata": {},
     "output_type": "display_data"
    },
    {
     "data": {
      "image/png": "[encoded data removed]",
      "text/plain": [
       "<Figure size 1000x500 with 1 Axes>"
      ]
     },
     "metadata": {},
     "output_type": "display_data"
    }
   ],
   "source": [
    "# Визуализируем информацию о расстоянии и времени поездок для пользователей обеих категорий\n",
    "# Начнем с пользователей с подпиской\n",
    "\n",
    "display(subs_data['distance'].describe())\n",
    "subs_data['distance'].hist(bins = 200, figsize = (10, 5));\n",
    "plt.title('Расстояние за одну поездку для подписчиков GoFast')\n",
    "plt.show()"
   ]
  },
  {
   "cell_type": "markdown",
   "id": "a945cede",
   "metadata": {},
   "source": [
    "В среднем расстояние за одну поездку у пользователей с подпиской не изменилось, по сравнению с общим средним значением - 3 км  "
   ]
  },
  {
   "cell_type": "code",
   "execution_count": 20,
   "id": "3c804577",
   "metadata": {},
   "outputs": [
    {
     "data": {
      "text/plain": [
       "count    6500.000000\n",
       "mean       19.037692\n",
       "std         5.577439\n",
       "min         4.000000\n",
       "25%        15.000000\n",
       "50%        19.000000\n",
       "75%        22.000000\n",
       "max        41.000000\n",
       "Name: duration, dtype: float64"
      ]
     },
     "metadata": {},
     "output_type": "display_data"
    },
    {
     "data": {
      "image/png": "[encoded data removed]",
      "text/plain": [
       "<Figure size 1000x500 with 1 Axes>"
      ]
     },
     "metadata": {},
     "output_type": "display_data"
    }
   ],
   "source": [
    "display(subs_data['duration'].describe())\n",
    "subs_data['duration'].hist(bins = 100, figsize = (10, 5));\n",
    "plt.title('Продолжительность поездок для подписчиков')\n",
    "plt.show()"
   ]
  },
  {
   "cell_type": "markdown",
   "id": "05518ed8",
   "metadata": {},
   "source": [
    "Продолжительность поездок у пользователей с подпиской в среднем составляет 19 минут"
   ]
  },
  {
   "cell_type": "code",
   "execution_count": 21,
   "id": "94a8518d",
   "metadata": {},
   "outputs": [
    {
     "data": {
      "text/plain": [
       "count    11568.000000\n",
       "mean      3045.495282\n",
       "std       1246.173806\n",
       "min          0.855683\n",
       "25%       2366.562689\n",
       "50%       3114.648465\n",
       "75%       3905.697894\n",
       "max       7211.007745\n",
       "Name: distance, dtype: float64"
      ]
     },
     "metadata": {},
     "output_type": "display_data"
    },
    {
     "data": {
      "image/png": "[encoded data removed]",
      "text/plain": [
       "<Figure size 1000x500 with 1 Axes>"
      ]
     },
     "metadata": {},
     "output_type": "display_data"
    }
   ],
   "source": [
    "# Далее исследуем данные о пользователях без подписки\n",
    "\n",
    "display(unsubs_data['distance'].describe())\n",
    "unsubs_data['distance'].hist(bins = 200, figsize = (10, 5));\n",
    "plt.title('Расстояние за одну поездку для пользователей без подписки')\n",
    "plt.show()"
   ]
  },
  {
   "cell_type": "markdown",
   "id": "caaaa02f",
   "metadata": {},
   "source": [
    "Среднее расстояние, которое проезжает пользователь без подписки, составляет 3 км. То же значение, что и у пользователей-подписчиков. "
   ]
  },
  {
   "cell_type": "code",
   "execution_count": 22,
   "id": "fe61dbcb",
   "metadata": {},
   "outputs": [
    {
     "data": {
      "text/plain": [
       "count    11568.000000\n",
       "mean        17.890992\n",
       "std          6.330250\n",
       "min          1.000000\n",
       "25%         13.000000\n",
       "50%         18.000000\n",
       "75%         22.000000\n",
       "max         35.000000\n",
       "Name: duration, dtype: float64"
      ]
     },
     "metadata": {},
     "output_type": "display_data"
    },
    {
     "data": {
      "image/png": "[encoded data removed]",
      "text/plain": [
       "<Figure size 1000x500 with 1 Axes>"
      ]
     },
     "metadata": {},
     "output_type": "display_data"
    }
   ],
   "source": [
    "display(unsubs_data['duration'].describe())\n",
    "unsubs_data['duration'].hist(bins = 100, figsize = (10, 5));\n",
    "plt.title('Продолжительность поездок пользователей без подписки')\n",
    "plt.show()"
   ]
  },
  {
   "cell_type": "markdown",
   "id": "e51f4088",
   "metadata": {},
   "source": [
    "Средняя продолжительность поездок пользователей без подписки составляет 17 минут. Это на две минуты меньше, чем у подписчиков GoFast. "
   ]
  },
  {
   "cell_type": "markdown",
   "id": "a9ba2e13",
   "metadata": {},
   "source": [
    "В результате визуализации информации для пользователей обеих категорий, можно сделать вывод о том, что расстояние одной поездки в среднем одинаковое для пользователей обеих категорий, а среднее время поездки у пользователей без подписки немного меньше (на две минуты). "
   ]
  },
  {
   "cell_type": "markdown",
   "id": "fa8a5f84",
   "metadata": {},
   "source": [
    "#### Шаг 5. Подсчёт выручки"
   ]
  },
  {
   "cell_type": "code",
   "execution_count": 23,
   "id": "20f64e9e",
   "metadata": {},
   "outputs": [
    {
     "data": {
      "text/html": [
       "<div>\n",
       "<style scoped>\n",
       "    .dataframe tbody tr th:only-of-type {\n",
       "        vertical-align: middle;\n",
       "    }\n",
       "\n",
       "    .dataframe tbody tr th {\n",
       "        vertical-align: top;\n",
       "    }\n",
       "\n",
       "    .dataframe thead th {\n",
       "        text-align: right;\n",
       "    }\n",
       "</style>\n",
       "<table border=\"1\" class=\"dataframe\">\n",
       "  <thead>\n",
       "    <tr style=\"text-align: right;\">\n",
       "      <th></th>\n",
       "      <th></th>\n",
       "      <th>rides_count</th>\n",
       "      <th>total_distance</th>\n",
       "      <th>total_duration</th>\n",
       "      <th>minute_price</th>\n",
       "      <th>start_ride_price</th>\n",
       "      <th>subscription_fee</th>\n",
       "      <th>subscription_type</th>\n",
       "    </tr>\n",
       "    <tr>\n",
       "      <th>user_id</th>\n",
       "      <th>month</th>\n",
       "      <th></th>\n",
       "      <th></th>\n",
       "      <th></th>\n",
       "      <th></th>\n",
       "      <th></th>\n",
       "      <th></th>\n",
       "      <th></th>\n",
       "    </tr>\n",
       "  </thead>\n",
       "  <tbody>\n",
       "    <tr>\n",
       "      <th rowspan=\"6\" valign=\"top\">1</th>\n",
       "      <th>1</th>\n",
       "      <td>2</td>\n",
       "      <td>7027.511294</td>\n",
       "      <td>42</td>\n",
       "      <td>6</td>\n",
       "      <td>0</td>\n",
       "      <td>199</td>\n",
       "      <td>ultra</td>\n",
       "    </tr>\n",
       "    <tr>\n",
       "      <th>4</th>\n",
       "      <td>1</td>\n",
       "      <td>754.159807</td>\n",
       "      <td>7</td>\n",
       "      <td>6</td>\n",
       "      <td>0</td>\n",
       "      <td>199</td>\n",
       "      <td>ultra</td>\n",
       "    </tr>\n",
       "    <tr>\n",
       "      <th>8</th>\n",
       "      <td>2</td>\n",
       "      <td>6723.470560</td>\n",
       "      <td>46</td>\n",
       "      <td>6</td>\n",
       "      <td>0</td>\n",
       "      <td>199</td>\n",
       "      <td>ultra</td>\n",
       "    </tr>\n",
       "    <tr>\n",
       "      <th>10</th>\n",
       "      <td>2</td>\n",
       "      <td>5809.911100</td>\n",
       "      <td>32</td>\n",
       "      <td>6</td>\n",
       "      <td>0</td>\n",
       "      <td>199</td>\n",
       "      <td>ultra</td>\n",
       "    </tr>\n",
       "    <tr>\n",
       "      <th>11</th>\n",
       "      <td>3</td>\n",
       "      <td>7003.499363</td>\n",
       "      <td>56</td>\n",
       "      <td>6</td>\n",
       "      <td>0</td>\n",
       "      <td>199</td>\n",
       "      <td>ultra</td>\n",
       "    </tr>\n",
       "    <tr>\n",
       "      <th>12</th>\n",
       "      <td>2</td>\n",
       "      <td>6751.629942</td>\n",
       "      <td>28</td>\n",
       "      <td>6</td>\n",
       "      <td>0</td>\n",
       "      <td>199</td>\n",
       "      <td>ultra</td>\n",
       "    </tr>\n",
       "    <tr>\n",
       "      <th rowspan=\"4\" valign=\"top\">2</th>\n",
       "      <th>3</th>\n",
       "      <td>3</td>\n",
       "      <td>10187.723006</td>\n",
       "      <td>63</td>\n",
       "      <td>6</td>\n",
       "      <td>0</td>\n",
       "      <td>199</td>\n",
       "      <td>ultra</td>\n",
       "    </tr>\n",
       "    <tr>\n",
       "      <th>4</th>\n",
       "      <td>2</td>\n",
       "      <td>6164.381824</td>\n",
       "      <td>40</td>\n",
       "      <td>6</td>\n",
       "      <td>0</td>\n",
       "      <td>199</td>\n",
       "      <td>ultra</td>\n",
       "    </tr>\n",
       "    <tr>\n",
       "      <th>6</th>\n",
       "      <td>1</td>\n",
       "      <td>3255.338202</td>\n",
       "      <td>14</td>\n",
       "      <td>6</td>\n",
       "      <td>0</td>\n",
       "      <td>199</td>\n",
       "      <td>ultra</td>\n",
       "    </tr>\n",
       "    <tr>\n",
       "      <th>7</th>\n",
       "      <td>2</td>\n",
       "      <td>6780.722964</td>\n",
       "      <td>48</td>\n",
       "      <td>6</td>\n",
       "      <td>0</td>\n",
       "      <td>199</td>\n",
       "      <td>ultra</td>\n",
       "    </tr>\n",
       "  </tbody>\n",
       "</table>\n",
       "</div>"
      ],
      "text/plain": [
       "               rides_count  total_distance  total_duration  minute_price  \\\n",
       "user_id month                                                              \n",
       "1       1                2     7027.511294              42             6   \n",
       "        4                1      754.159807               7             6   \n",
       "        8                2     6723.470560              46             6   \n",
       "        10               2     5809.911100              32             6   \n",
       "        11               3     7003.499363              56             6   \n",
       "        12               2     6751.629942              28             6   \n",
       "2       3                3    10187.723006              63             6   \n",
       "        4                2     6164.381824              40             6   \n",
       "        6                1     3255.338202              14             6   \n",
       "        7                2     6780.722964              48             6   \n",
       "\n",
       "               start_ride_price  subscription_fee subscription_type  \n",
       "user_id month                                                        \n",
       "1       1                     0               199             ultra  \n",
       "        4                     0               199             ultra  \n",
       "        8                     0               199             ultra  \n",
       "        10                    0               199             ultra  \n",
       "        11                    0               199             ultra  \n",
       "        12                    0               199             ultra  \n",
       "2       3                     0               199             ultra  \n",
       "        4                     0               199             ultra  \n",
       "        6                     0               199             ultra  \n",
       "        7                     0               199             ultra  "
      ]
     },
     "execution_count": 23,
     "metadata": {},
     "output_type": "execute_result"
    }
   ],
   "source": [
    "# Создаем датафрейм с агрегированными данными о поездках\n",
    "\n",
    "agg_data = data.pivot_table(index = ['user_id', 'month'],\n",
    "                            values = ['distance','duration', 'minute_price', 'start_ride_price', 'subscription_type', 'subscription_fee'],\n",
    "                            aggfunc = {'distance' : ['sum', 'count'],\n",
    "                                      'duration' : 'sum',\n",
    "                                      'minute_price' : 'max',\n",
    "                                      'start_ride_price' : 'max',\n",
    "                                      'subscription_type' : 'max',\n",
    "                                      'subscription_fee' : 'max'}\n",
    "                                      )\n",
    "\n",
    "# Переименуем названия столбцов\n",
    "\n",
    "agg_data.columns = ['rides_count', 'total_distance', 'total_duration', 'minute_price', 'start_ride_price', 'subscription_fee', 'subscription_type']\n",
    "agg_data.head(10)"
   ]
  },
  {
   "cell_type": "code",
   "execution_count": 24,
   "id": "06aa2f92",
   "metadata": {},
   "outputs": [
    {
     "data": {
      "text/html": [
       "<div>\n",
       "<style scoped>\n",
       "    .dataframe tbody tr th:only-of-type {\n",
       "        vertical-align: middle;\n",
       "    }\n",
       "\n",
       "    .dataframe tbody tr th {\n",
       "        vertical-align: top;\n",
       "    }\n",
       "\n",
       "    .dataframe thead th {\n",
       "        text-align: right;\n",
       "    }\n",
       "</style>\n",
       "<table border=\"1\" class=\"dataframe\">\n",
       "  <thead>\n",
       "    <tr style=\"text-align: right;\">\n",
       "      <th></th>\n",
       "      <th></th>\n",
       "      <th>rides_count</th>\n",
       "      <th>total_distance</th>\n",
       "      <th>total_duration</th>\n",
       "      <th>minute_price</th>\n",
       "      <th>start_ride_price</th>\n",
       "      <th>subscription_fee</th>\n",
       "      <th>subscription_type</th>\n",
       "      <th>monthly_income</th>\n",
       "    </tr>\n",
       "    <tr>\n",
       "      <th>user_id</th>\n",
       "      <th>month</th>\n",
       "      <th></th>\n",
       "      <th></th>\n",
       "      <th></th>\n",
       "      <th></th>\n",
       "      <th></th>\n",
       "      <th></th>\n",
       "      <th></th>\n",
       "      <th></th>\n",
       "    </tr>\n",
       "  </thead>\n",
       "  <tbody>\n",
       "    <tr>\n",
       "      <th rowspan=\"6\" valign=\"top\">1</th>\n",
       "      <th>1</th>\n",
       "      <td>2</td>\n",
       "      <td>7027.511294</td>\n",
       "      <td>42</td>\n",
       "      <td>6</td>\n",
       "      <td>0</td>\n",
       "      <td>199</td>\n",
       "      <td>ultra</td>\n",
       "      <td>451</td>\n",
       "    </tr>\n",
       "    <tr>\n",
       "      <th>4</th>\n",
       "      <td>1</td>\n",
       "      <td>754.159807</td>\n",
       "      <td>7</td>\n",
       "      <td>6</td>\n",
       "      <td>0</td>\n",
       "      <td>199</td>\n",
       "      <td>ultra</td>\n",
       "      <td>241</td>\n",
       "    </tr>\n",
       "    <tr>\n",
       "      <th>8</th>\n",
       "      <td>2</td>\n",
       "      <td>6723.470560</td>\n",
       "      <td>46</td>\n",
       "      <td>6</td>\n",
       "      <td>0</td>\n",
       "      <td>199</td>\n",
       "      <td>ultra</td>\n",
       "      <td>475</td>\n",
       "    </tr>\n",
       "    <tr>\n",
       "      <th>10</th>\n",
       "      <td>2</td>\n",
       "      <td>5809.911100</td>\n",
       "      <td>32</td>\n",
       "      <td>6</td>\n",
       "      <td>0</td>\n",
       "      <td>199</td>\n",
       "      <td>ultra</td>\n",
       "      <td>391</td>\n",
       "    </tr>\n",
       "    <tr>\n",
       "      <th>11</th>\n",
       "      <td>3</td>\n",
       "      <td>7003.499363</td>\n",
       "      <td>56</td>\n",
       "      <td>6</td>\n",
       "      <td>0</td>\n",
       "      <td>199</td>\n",
       "      <td>ultra</td>\n",
       "      <td>535</td>\n",
       "    </tr>\n",
       "    <tr>\n",
       "      <th>12</th>\n",
       "      <td>2</td>\n",
       "      <td>6751.629942</td>\n",
       "      <td>28</td>\n",
       "      <td>6</td>\n",
       "      <td>0</td>\n",
       "      <td>199</td>\n",
       "      <td>ultra</td>\n",
       "      <td>367</td>\n",
       "    </tr>\n",
       "    <tr>\n",
       "      <th rowspan=\"4\" valign=\"top\">2</th>\n",
       "      <th>3</th>\n",
       "      <td>3</td>\n",
       "      <td>10187.723006</td>\n",
       "      <td>63</td>\n",
       "      <td>6</td>\n",
       "      <td>0</td>\n",
       "      <td>199</td>\n",
       "      <td>ultra</td>\n",
       "      <td>577</td>\n",
       "    </tr>\n",
       "    <tr>\n",
       "      <th>4</th>\n",
       "      <td>2</td>\n",
       "      <td>6164.381824</td>\n",
       "      <td>40</td>\n",
       "      <td>6</td>\n",
       "      <td>0</td>\n",
       "      <td>199</td>\n",
       "      <td>ultra</td>\n",
       "      <td>439</td>\n",
       "    </tr>\n",
       "    <tr>\n",
       "      <th>6</th>\n",
       "      <td>1</td>\n",
       "      <td>3255.338202</td>\n",
       "      <td>14</td>\n",
       "      <td>6</td>\n",
       "      <td>0</td>\n",
       "      <td>199</td>\n",
       "      <td>ultra</td>\n",
       "      <td>283</td>\n",
       "    </tr>\n",
       "    <tr>\n",
       "      <th>7</th>\n",
       "      <td>2</td>\n",
       "      <td>6780.722964</td>\n",
       "      <td>48</td>\n",
       "      <td>6</td>\n",
       "      <td>0</td>\n",
       "      <td>199</td>\n",
       "      <td>ultra</td>\n",
       "      <td>487</td>\n",
       "    </tr>\n",
       "  </tbody>\n",
       "</table>\n",
       "</div>"
      ],
      "text/plain": [
       "               rides_count  total_distance  total_duration  minute_price  \\\n",
       "user_id month                                                              \n",
       "1       1                2     7027.511294              42             6   \n",
       "        4                1      754.159807               7             6   \n",
       "        8                2     6723.470560              46             6   \n",
       "        10               2     5809.911100              32             6   \n",
       "        11               3     7003.499363              56             6   \n",
       "        12               2     6751.629942              28             6   \n",
       "2       3                3    10187.723006              63             6   \n",
       "        4                2     6164.381824              40             6   \n",
       "        6                1     3255.338202              14             6   \n",
       "        7                2     6780.722964              48             6   \n",
       "\n",
       "               start_ride_price  subscription_fee subscription_type  \\\n",
       "user_id month                                                         \n",
       "1       1                     0               199             ultra   \n",
       "        4                     0               199             ultra   \n",
       "        8                     0               199             ultra   \n",
       "        10                    0               199             ultra   \n",
       "        11                    0               199             ultra   \n",
       "        12                    0               199             ultra   \n",
       "2       3                     0               199             ultra   \n",
       "        4                     0               199             ultra   \n",
       "        6                     0               199             ultra   \n",
       "        7                     0               199             ultra   \n",
       "\n",
       "               monthly_income  \n",
       "user_id month                  \n",
       "1       1                 451  \n",
       "        4                 241  \n",
       "        8                 475  \n",
       "        10                391  \n",
       "        11                535  \n",
       "        12                367  \n",
       "2       3                 577  \n",
       "        4                 439  \n",
       "        6                 283  \n",
       "        7                 487  "
      ]
     },
     "execution_count": 24,
     "metadata": {},
     "output_type": "execute_result"
    }
   ],
   "source": [
    "# Добавим в новый датафрейм столбец с выручкой за месяц для каждого пользователя\n",
    "# Напишем функцию для вычисления помесячной выручки\n",
    "\n",
    "def income_calculate(x):\n",
    "    income = (x['start_ride_price'] * x['rides_count']) +(x['minute_price'] * x['total_duration']) + x['subscription_fee']\n",
    "    return (income)\n",
    "\n",
    "# Применяем функцию к новому датафрейму\n",
    "\n",
    "agg_data['monthly_income'] = agg_data.apply(income_calculate, axis = 1)\n",
    "agg_data.head(10)"
   ]
  },
  {
   "cell_type": "code",
   "execution_count": 25,
   "id": "1640e66f",
   "metadata": {},
   "outputs": [
    {
     "data": {
      "text/plain": [
       "subscription_fee\n",
       "0      328.641365\n",
       "199    362.792191\n",
       "Name: monthly_income, dtype: float64"
      ]
     },
     "execution_count": 25,
     "metadata": {},
     "output_type": "execute_result"
    }
   ],
   "source": [
    "# Код ревьюера\n",
    "agg_data.groupby('subscription_fee')['monthly_income'].mean()"
   ]
  },
  {
   "cell_type": "markdown",
   "id": "fb7d2936",
   "metadata": {},
   "source": [
    "#### Шаг 6. Проверка гипотез"
   ]
  },
  {
   "cell_type": "markdown",
   "id": "731186ca",
   "metadata": {},
   "source": [
    "Проверим гипотезу о том, что пользователи с подпиской больше времени на поездки, чем пользователи без нее:\n",
    "\n",
    "   - Нулевая гипотеза: пользователи с подпиской и пользователи без подписки тратят равное количество времени на поездки.\n",
    "\n",
    "   - Альтернативная гипотеза: пользователи с подпиской тратят больше времени на поездки, чем пользователи без подписки."
   ]
  },
  {
   "cell_type": "code",
   "execution_count": 26,
   "id": "8c13d82d",
   "metadata": {},
   "outputs": [
    {
     "name": "stdout",
     "output_type": "stream",
     "text": [
      "p-значение: 2.4959453720736625e-34\n",
      "p-value 2.50E-34\n",
      "Отвергаем нулевую гипотезу\n"
     ]
    }
   ],
   "source": [
    "alpha = 0.05\n",
    "\n",
    "results = st.ttest_ind(subs_data['duration'], unsubs_data['duration'], alternative = 'greater')\n",
    "\n",
    "print('p-значение:', results.pvalue)\n",
    "print('p-value {:.2E}'.format(results.pvalue))\n",
    "\n",
    "if (results.pvalue < alpha):\n",
    "    print('Отвергаем нулевую гипотезу')\n",
    "else:\n",
    "    print('Не отвергаем нулевую гипотезу')"
   ]
  },
  {
   "cell_type": "markdown",
   "id": "af724866",
   "metadata": {},
   "source": [
    "Результат показал, что, скорее всего, платные подписчики GoFast катаются на самокатах дольше, чем обычные пользователи без подписки. "
   ]
  },
  {
   "cell_type": "markdown",
   "id": "1250f96b",
   "metadata": {},
   "source": [
    "Проверим следующую гипотезу о том, что расстояние, которое проезжают пользователи с подпиской за одну поездку, не превышает 3130 м:\n",
    "\n",
    "   - Нулевая гипотеза: расстояние, которое платные подписчики  проезжают за одну поездку, равно 3130 метров. \n",
    "   - Альтернативная гипотеза: расстояние, которое проезжают платные подписчики за одну поездку, больше 3130 метров. "
   ]
  },
  {
   "cell_type": "code",
   "execution_count": 27,
   "id": "c402276b",
   "metadata": {},
   "outputs": [
    {
     "name": "stdout",
     "output_type": "stream",
     "text": [
      "p-значение: 0.9195368847849785\n",
      "Не отвергаем нулевую гипотезу\n"
     ]
    }
   ],
   "source": [
    "interested_distance = 3130\n",
    "alpha = 0.05\n",
    "\n",
    "results = st.ttest_1samp(subs_data['distance'], interested_distance, alternative = 'greater')\n",
    "\n",
    "print('p-значение:', results.pvalue)\n",
    "\n",
    "if (results.pvalue < alpha):\n",
    "    print('Отвергаем нулевую гипотезу')\n",
    "else:\n",
    "    print('Не отвергаем нулевую гипотезу')"
   ]
  },
  {
   "cell_type": "markdown",
   "id": "8617daba",
   "metadata": {},
   "source": [
    "Результат показал, что отвергнуть гипотезу о том, что расстояние, которое платные подписчики проезжают за одну поездку, равно 3130 метров, мы не можем. Логично предположить, что платные подписчики понимают, что на одну поездку в среднем они тратят меньше денег, поэтому могут себе позволить \"прокатиться подальше\" по сравнению с обычными пользователями, для которых установлена стоимость старта, а также повышенная стоимость одной минуты поездки. "
   ]
  },
  {
   "cell_type": "markdown",
   "id": "4fc6880d",
   "metadata": {},
   "source": [
    "Проверим следующую гипотезу о том, что помесячная выручка от пользователей с подпиской по месяцам выше, чем выручка от пользователей без подписки:\n",
    "    \n",
    "   - Нулевая гипотеза: помесячная выручка от платных подписчиков равна помесячной выручке от пользователей без подписки. \n",
    "   - Альтернативная гипотеза: помесячная выручка от платных подписчиков выше помесячной выручки от пользователей без подписки."
   ]
  },
  {
   "cell_type": "code",
   "execution_count": 28,
   "id": "29efd703",
   "metadata": {},
   "outputs": [],
   "source": [
    "# Для проверки гипотезы необходимо создать два датафрейма со значениями помесячной выручки от каждой категории пользователей\n",
    "\n",
    "subs_data_income = agg_data[agg_data['subscription_fee'] == 199]\n",
    "unsubs_data_income = agg_data[agg_data['subscription_fee'] == 0]"
   ]
  },
  {
   "cell_type": "code",
   "execution_count": 29,
   "id": "90772c1f",
   "metadata": {},
   "outputs": [
    {
     "data": {
      "text/plain": [
       "count    4533.000000\n",
       "mean      362.792191\n",
       "std        88.262737\n",
       "min       223.000000\n",
       "25%       301.000000\n",
       "50%       337.000000\n",
       "75%       409.000000\n",
       "max       955.000000\n",
       "Name: monthly_income, dtype: float64"
      ]
     },
     "metadata": {},
     "output_type": "display_data"
    },
    {
     "data": {
      "text/plain": [
       "count    6798.000000\n",
       "mean      328.641365\n",
       "std       183.868330\n",
       "min        58.000000\n",
       "25%       194.000000\n",
       "50%       274.000000\n",
       "75%       428.000000\n",
       "max      1444.000000\n",
       "Name: monthly_income, dtype: float64"
      ]
     },
     "metadata": {},
     "output_type": "display_data"
    }
   ],
   "source": [
    "display(subs_data_income['monthly_income'].describe())\n",
    "display(unsubs_data_income['monthly_income'].describe())"
   ]
  },
  {
   "cell_type": "code",
   "execution_count": 30,
   "id": "1eb1a80b",
   "metadata": {},
   "outputs": [
    {
     "name": "stdout",
     "output_type": "stream",
     "text": [
      "p-значение: 1.8850394384715216e-31\n",
      "p-value 1.89E-31\n",
      "Отвергаем нулевую гипотезу\n"
     ]
    }
   ],
   "source": [
    "# Приступаем к проверке гипотезы\n",
    "alpha = 0.05\n",
    "results = st.ttest_ind(subs_data_income['monthly_income'], unsubs_data_income['monthly_income'], alternative = 'greater')\n",
    "\n",
    "print('p-значение:', results.pvalue)\n",
    "print('p-value {:.2E}'.format(results.pvalue))\n",
    "\n",
    "if (results.pvalue < alpha):\n",
    "    print('Отвергаем нулевую гипотезу')\n",
    "else:\n",
    "    print('Не отвергаем нулевую гипотезу')"
   ]
  },
  {
   "cell_type": "markdown",
   "id": "4ecc644e",
   "metadata": {},
   "source": [
    "Результат проверки показал, что, скорее всего, платные подписчики GoFast в месяц приносят больше дохода, чем пользователи без подписки. "
   ]
  },
  {
   "cell_type": "markdown",
   "id": "ed8a9456",
   "metadata": {},
   "source": [
    "# Итоговый вывод"
   ]
  },
  {
   "cell_type": "markdown",
   "id": "f058e112",
   "metadata": {},
   "source": [
    "### В ходе выполнения проекта:"
   ]
  },
  {
   "cell_type": "markdown",
   "id": "f7dd3b4a",
   "metadata": {},
   "source": [
    "- Изучена общая информация о первичных данных: три набора данных, содержащих информацию о пользователях GoFast (их id, имя, возраст, город, тип подписки), их поездках (расстояние в метрах и продолжительность сессии в минутах), а также о подписках (тип, стоимость одной минуты поездки, стоимость начала поездки и стоимость ежемесячного платежа);\n",
    "\n",
    "- В результате предобработки данных недостатки были выявлены и устранены, а значения в столбцах были приведены к необходимым типам данных. \n",
    "\n",
    "- Изучена информация о пользователях и поездках, на основании которой можно сделать следующие выводы:\n",
    "\n",
    "   - Больше всего пользователей из Пятигорска;\n",
    "   - Пользователей без подписки больше пользователей с подпиской всего на 8%;\n",
    "   - Средний возраст пользователей - 25 лет;\n",
    "   - Среднее расстояние, которое преодолевает пользователь за поездку, составляет 18 минут;\n",
    "   - Продолжительность одной поездки в среднем равна 3 км; \n",
    "   \n",
    "- Данные о пользователях, поездках и подписках были в один датафрейм. Далее из него были созданы два набора данных с информацие о пользователях с подпиской и без подписки, на основании изучения которых можно сделать следующие выводы:\n",
    "\n",
    "   - Расстояние одной поездки в среднем одинаковое для пользователей обеих категорий;\n",
    "   - Среднее время поездки у пользователей без подписки немного меньше (на две минуты);\n",
    "\n",
    "- Данные о поездках были агрегированны для формирования набора данных, содержащего информацию о суммарном расстоянии, количестве поездок и времени для каждого пользователя за каждый месяц. \n",
    "- На основании полученных данных подсчитан объем помесячной выручки, которую принёс каждый пользователь."
   ]
  },
  {
   "cell_type": "markdown",
   "id": "2dbe325f",
   "metadata": {},
   "source": [
    "- Проведена проверка следующих гипотез:\n",
    "   1. Тратят ли пользователи с подпиской больше времени на поездки?\n",
    "   2. Можно ли сказать, что расстояние, которое проезжают пользователи с подпиской за одну поездку, не превышает 3130 метров?\n",
    "   3. Будет ли помесячная выручка от пользователей с подпиской по месяцам выше, чем выручка от пользователей без подписки?"
   ]
  },
  {
   "cell_type": "markdown",
   "id": "0c664225",
   "metadata": {},
   "source": [
    "- Результат проверки гипотез:\n",
    "    1. Платные подписчики GoFast катаются на самокатах дольше, чем обычные пользователи без подписки. \n",
    "    2. Мы не можем отвергнуть гипотезу о том, что расстояние, которое платные подписчики проезжают за одну поездку, равно 3130 метров.\n",
    "    3. Платные подписчики GoFast в месяц приносят больше дохода, чем пользователи без подписки."
   ]
  },
  {
   "cell_type": "markdown",
   "id": "247e3b0d",
   "metadata": {},
   "source": [
    "##### На основании проведенного исследования и проверки гипотез, можно сделать вывод о том, что платные подписчики GoFast являются более выгодными для компании, поскольку они приносят больше ежемесячной прибыли по сравнению с обычными пользователями."
   ]
  }
 ],
 "metadata": {
  "ExecuteTimeLog": [
   {
    "duration": 1408,
    "start_time": "2023-06-01T11:58:11.293Z"
   },
   {
    "duration": 148,
    "start_time": "2023-06-01T11:58:12.704Z"
   },
   {
    "duration": 0,
    "start_time": "2023-06-01T11:58:12.855Z"
   },
   {
    "duration": 0,
    "start_time": "2023-06-01T11:58:12.856Z"
   },
   {
    "duration": 0,
    "start_time": "2023-06-01T11:58:12.857Z"
   },
   {
    "duration": 0,
    "start_time": "2023-06-01T11:58:12.858Z"
   },
   {
    "duration": 0,
    "start_time": "2023-06-01T11:58:12.859Z"
   },
   {
    "duration": 0,
    "start_time": "2023-06-01T11:58:12.860Z"
   },
   {
    "duration": 0,
    "start_time": "2023-06-01T11:58:12.861Z"
   },
   {
    "duration": 0,
    "start_time": "2023-06-01T11:58:12.862Z"
   },
   {
    "duration": 0,
    "start_time": "2023-06-01T11:58:12.874Z"
   },
   {
    "duration": 0,
    "start_time": "2023-06-01T11:58:12.875Z"
   },
   {
    "duration": 0,
    "start_time": "2023-06-01T11:58:12.876Z"
   },
   {
    "duration": 0,
    "start_time": "2023-06-01T11:58:12.877Z"
   },
   {
    "duration": 0,
    "start_time": "2023-06-01T11:58:12.879Z"
   },
   {
    "duration": 0,
    "start_time": "2023-06-01T11:58:12.880Z"
   },
   {
    "duration": 0,
    "start_time": "2023-06-01T11:58:12.882Z"
   },
   {
    "duration": 0,
    "start_time": "2023-06-01T11:58:12.883Z"
   },
   {
    "duration": 0,
    "start_time": "2023-06-01T11:58:12.883Z"
   },
   {
    "duration": 0,
    "start_time": "2023-06-01T11:58:12.884Z"
   },
   {
    "duration": 0,
    "start_time": "2023-06-01T11:58:12.885Z"
   },
   {
    "duration": 0,
    "start_time": "2023-06-01T11:58:12.886Z"
   },
   {
    "duration": 0,
    "start_time": "2023-06-01T11:58:12.887Z"
   },
   {
    "duration": 0,
    "start_time": "2023-06-01T11:58:12.888Z"
   },
   {
    "duration": 0,
    "start_time": "2023-06-01T11:58:12.889Z"
   },
   {
    "duration": 0,
    "start_time": "2023-06-01T11:58:12.890Z"
   },
   {
    "duration": 0,
    "start_time": "2023-06-01T11:58:12.891Z"
   },
   {
    "duration": 0,
    "start_time": "2023-06-01T11:58:12.893Z"
   },
   {
    "duration": 510,
    "start_time": "2023-06-01T11:59:40.915Z"
   },
   {
    "duration": 1163,
    "start_time": "2023-06-01T11:59:46.219Z"
   },
   {
    "duration": 217,
    "start_time": "2023-06-01T11:59:47.384Z"
   },
   {
    "duration": 24,
    "start_time": "2023-06-01T11:59:47.603Z"
   },
   {
    "duration": 23,
    "start_time": "2023-06-01T11:59:47.629Z"
   },
   {
    "duration": 34,
    "start_time": "2023-06-01T11:59:47.654Z"
   },
   {
    "duration": 9,
    "start_time": "2023-06-01T11:59:47.690Z"
   },
   {
    "duration": 6,
    "start_time": "2023-06-01T11:59:47.701Z"
   },
   {
    "duration": 16,
    "start_time": "2023-06-01T11:59:47.709Z"
   },
   {
    "duration": 16,
    "start_time": "2023-06-01T11:59:47.727Z"
   },
   {
    "duration": 212,
    "start_time": "2023-06-01T11:59:47.745Z"
   },
   {
    "duration": 88,
    "start_time": "2023-06-01T11:59:47.959Z"
   },
   {
    "duration": 138,
    "start_time": "2023-06-01T11:59:48.049Z"
   },
   {
    "duration": 272,
    "start_time": "2023-06-01T11:59:48.189Z"
   },
   {
    "duration": 416,
    "start_time": "2023-06-01T11:59:48.463Z"
   },
   {
    "duration": 352,
    "start_time": "2023-06-01T11:59:48.881Z"
   },
   {
    "duration": 24,
    "start_time": "2023-06-01T11:59:49.235Z"
   },
   {
    "duration": 43,
    "start_time": "2023-06-01T11:59:49.260Z"
   },
   {
    "duration": 448,
    "start_time": "2023-06-01T11:59:49.305Z"
   },
   {
    "duration": 273,
    "start_time": "2023-06-01T11:59:49.754Z"
   },
   {
    "duration": 410,
    "start_time": "2023-06-01T11:59:50.029Z"
   },
   {
    "duration": 370,
    "start_time": "2023-06-01T11:59:50.440Z"
   },
   {
    "duration": 44,
    "start_time": "2023-06-01T11:59:50.811Z"
   },
   {
    "duration": 214,
    "start_time": "2023-06-01T11:59:50.856Z"
   },
   {
    "duration": 11,
    "start_time": "2023-06-01T11:59:51.071Z"
   },
   {
    "duration": 10,
    "start_time": "2023-06-01T11:59:51.084Z"
   },
   {
    "duration": 27,
    "start_time": "2023-06-01T11:59:51.096Z"
   },
   {
    "duration": 37,
    "start_time": "2023-06-01T11:59:51.124Z"
   },
   {
    "duration": 6,
    "start_time": "2023-06-01T11:59:51.165Z"
   },
   {
    "duration": 110,
    "start_time": "2023-06-01T12:08:23.262Z"
   },
   {
    "duration": 9,
    "start_time": "2023-06-01T12:08:39.173Z"
   },
   {
    "duration": 17,
    "start_time": "2023-06-01T12:10:01.173Z"
   },
   {
    "duration": 1370,
    "start_time": "2023-06-01T13:33:42.754Z"
   },
   {
    "duration": 208,
    "start_time": "2023-06-01T13:33:44.126Z"
   },
   {
    "duration": 36,
    "start_time": "2023-06-01T13:33:44.336Z"
   },
   {
    "duration": 24,
    "start_time": "2023-06-01T13:33:44.374Z"
   },
   {
    "duration": 15,
    "start_time": "2023-06-01T13:33:44.400Z"
   },
   {
    "duration": 9,
    "start_time": "2023-06-01T13:33:45.151Z"
   },
   {
    "duration": 10,
    "start_time": "2023-06-01T13:33:45.353Z"
   },
   {
    "duration": 12,
    "start_time": "2023-06-01T13:33:45.553Z"
   },
   {
    "duration": 12,
    "start_time": "2023-06-01T13:33:45.721Z"
   },
   {
    "duration": 179,
    "start_time": "2023-06-01T13:33:46.458Z"
   },
   {
    "duration": 168,
    "start_time": "2023-06-01T13:36:35.790Z"
   },
   {
    "duration": 140,
    "start_time": "2023-06-01T13:40:13.658Z"
   },
   {
    "duration": 130,
    "start_time": "2023-06-01T13:40:27.978Z"
   },
   {
    "duration": 145,
    "start_time": "2023-06-01T13:41:02.651Z"
   },
   {
    "duration": 117,
    "start_time": "2023-06-01T13:43:32.657Z"
   },
   {
    "duration": 146,
    "start_time": "2023-06-01T13:43:44.291Z"
   },
   {
    "duration": 148,
    "start_time": "2023-06-01T13:44:00.241Z"
   },
   {
    "duration": 146,
    "start_time": "2023-06-01T13:44:45.342Z"
   },
   {
    "duration": 247,
    "start_time": "2023-06-01T13:44:57.204Z"
   },
   {
    "duration": 13,
    "start_time": "2023-06-01T13:53:28.376Z"
   },
   {
    "duration": 1212,
    "start_time": "2023-06-01T13:53:40.922Z"
   },
   {
    "duration": 267,
    "start_time": "2023-06-01T13:53:42.136Z"
   },
   {
    "duration": 25,
    "start_time": "2023-06-01T13:53:42.405Z"
   },
   {
    "duration": 24,
    "start_time": "2023-06-01T13:53:42.432Z"
   },
   {
    "duration": 15,
    "start_time": "2023-06-01T13:53:42.458Z"
   },
   {
    "duration": 7,
    "start_time": "2023-06-01T13:53:42.475Z"
   },
   {
    "duration": 6,
    "start_time": "2023-06-01T13:53:42.484Z"
   },
   {
    "duration": 12,
    "start_time": "2023-06-01T13:53:42.491Z"
   },
   {
    "duration": 44,
    "start_time": "2023-06-01T13:53:42.504Z"
   },
   {
    "duration": 155,
    "start_time": "2023-06-01T13:53:42.551Z"
   },
   {
    "duration": 89,
    "start_time": "2023-06-01T13:53:42.708Z"
   },
   {
    "duration": 114,
    "start_time": "2023-06-01T13:53:42.798Z"
   },
   {
    "duration": 261,
    "start_time": "2023-06-01T13:53:42.914Z"
   },
   {
    "duration": 393,
    "start_time": "2023-06-01T13:53:43.176Z"
   },
   {
    "duration": 379,
    "start_time": "2023-06-01T13:53:43.571Z"
   },
   {
    "duration": 28,
    "start_time": "2023-06-01T13:53:43.951Z"
   },
   {
    "duration": 11,
    "start_time": "2023-06-01T13:53:43.981Z"
   },
   {
    "duration": 58,
    "start_time": "2023-06-01T13:53:43.994Z"
   },
   {
    "duration": 412,
    "start_time": "2023-06-01T13:53:44.054Z"
   },
   {
    "duration": 261,
    "start_time": "2023-06-01T13:53:44.468Z"
   },
   {
    "duration": 391,
    "start_time": "2023-06-01T13:53:44.731Z"
   },
   {
    "duration": 415,
    "start_time": "2023-06-01T13:53:45.123Z"
   },
   {
    "duration": 814,
    "start_time": "2023-06-01T13:53:45.542Z"
   },
   {
    "duration": 115,
    "start_time": "2023-06-01T13:53:46.358Z"
   },
   {
    "duration": 0,
    "start_time": "2023-06-01T13:53:46.475Z"
   },
   {
    "duration": 0,
    "start_time": "2023-06-01T13:53:46.476Z"
   },
   {
    "duration": 0,
    "start_time": "2023-06-01T13:53:46.477Z"
   },
   {
    "duration": 0,
    "start_time": "2023-06-01T13:53:46.478Z"
   },
   {
    "duration": 0,
    "start_time": "2023-06-01T13:53:46.479Z"
   },
   {
    "duration": 0,
    "start_time": "2023-06-01T13:53:46.480Z"
   },
   {
    "duration": 824,
    "start_time": "2023-06-01T13:54:44.430Z"
   },
   {
    "duration": 194,
    "start_time": "2023-06-01T13:54:48.919Z"
   },
   {
    "duration": 8,
    "start_time": "2023-06-01T13:54:57.914Z"
   },
   {
    "duration": 6,
    "start_time": "2023-06-01T13:57:07.439Z"
   },
   {
    "duration": 89,
    "start_time": "2023-06-01T14:41:41.300Z"
   },
   {
    "duration": 1223,
    "start_time": "2023-06-01T15:05:17.776Z"
   },
   {
    "duration": 347,
    "start_time": "2023-06-01T15:05:19.001Z"
   },
   {
    "duration": 25,
    "start_time": "2023-06-01T15:05:19.349Z"
   },
   {
    "duration": 26,
    "start_time": "2023-06-01T15:05:19.376Z"
   },
   {
    "duration": 39,
    "start_time": "2023-06-01T15:05:19.404Z"
   },
   {
    "duration": 7,
    "start_time": "2023-06-01T15:05:19.444Z"
   },
   {
    "duration": 8,
    "start_time": "2023-06-01T15:05:19.453Z"
   },
   {
    "duration": 13,
    "start_time": "2023-06-01T15:05:19.463Z"
   },
   {
    "duration": 12,
    "start_time": "2023-06-01T15:05:19.477Z"
   },
   {
    "duration": 183,
    "start_time": "2023-06-01T15:05:19.492Z"
   },
   {
    "duration": 88,
    "start_time": "2023-06-01T15:05:19.676Z"
   },
   {
    "duration": 125,
    "start_time": "2023-06-01T15:05:19.766Z"
   },
   {
    "duration": 274,
    "start_time": "2023-06-01T15:05:19.893Z"
   },
   {
    "duration": 408,
    "start_time": "2023-06-01T15:05:20.169Z"
   },
   {
    "duration": 364,
    "start_time": "2023-06-01T15:05:20.579Z"
   },
   {
    "duration": 27,
    "start_time": "2023-06-01T15:05:20.945Z"
   },
   {
    "duration": 12,
    "start_time": "2023-06-01T15:05:20.973Z"
   },
   {
    "duration": 56,
    "start_time": "2023-06-01T15:05:20.987Z"
   },
   {
    "duration": 391,
    "start_time": "2023-06-01T15:05:21.045Z"
   },
   {
    "duration": 267,
    "start_time": "2023-06-01T15:05:21.438Z"
   },
   {
    "duration": 439,
    "start_time": "2023-06-01T15:05:21.706Z"
   },
   {
    "duration": 389,
    "start_time": "2023-06-01T15:05:22.147Z"
   },
   {
    "duration": 829,
    "start_time": "2023-06-01T15:05:22.538Z"
   },
   {
    "duration": 199,
    "start_time": "2023-06-01T15:05:23.369Z"
   },
   {
    "duration": 6,
    "start_time": "2023-06-01T15:05:23.570Z"
   },
   {
    "duration": 15,
    "start_time": "2023-06-01T15:05:23.578Z"
   },
   {
    "duration": 7,
    "start_time": "2023-06-01T15:05:23.595Z"
   },
   {
    "duration": 13,
    "start_time": "2023-06-01T15:05:23.606Z"
   },
   {
    "duration": 26,
    "start_time": "2023-06-01T15:05:23.621Z"
   },
   {
    "duration": 5,
    "start_time": "2023-06-01T15:05:23.649Z"
   },
   {
    "duration": 1315,
    "start_time": "2023-06-01T18:25:06.449Z"
   },
   {
    "duration": 551,
    "start_time": "2023-06-01T18:25:07.766Z"
   },
   {
    "duration": 31,
    "start_time": "2023-06-01T18:25:08.320Z"
   },
   {
    "duration": 34,
    "start_time": "2023-06-01T18:25:08.353Z"
   },
   {
    "duration": 17,
    "start_time": "2023-06-01T18:25:08.389Z"
   },
   {
    "duration": 46,
    "start_time": "2023-06-01T18:25:08.408Z"
   },
   {
    "duration": 9,
    "start_time": "2023-06-01T18:25:08.456Z"
   },
   {
    "duration": 46,
    "start_time": "2023-06-01T18:25:08.466Z"
   },
   {
    "duration": 22,
    "start_time": "2023-06-01T18:25:08.514Z"
   },
   {
    "duration": 165,
    "start_time": "2023-06-01T18:25:08.537Z"
   },
   {
    "duration": 111,
    "start_time": "2023-06-01T18:25:08.704Z"
   },
   {
    "duration": 122,
    "start_time": "2023-06-01T18:25:08.817Z"
   },
   {
    "duration": 283,
    "start_time": "2023-06-01T18:25:08.941Z"
   },
   {
    "duration": 392,
    "start_time": "2023-06-01T18:25:09.227Z"
   },
   {
    "duration": 350,
    "start_time": "2023-06-01T18:25:09.621Z"
   },
   {
    "duration": 27,
    "start_time": "2023-06-01T18:25:09.973Z"
   },
   {
    "duration": 12,
    "start_time": "2023-06-01T18:25:10.001Z"
   },
   {
    "duration": 51,
    "start_time": "2023-06-01T18:25:10.015Z"
   },
   {
    "duration": 417,
    "start_time": "2023-06-01T18:25:10.068Z"
   },
   {
    "duration": 277,
    "start_time": "2023-06-01T18:25:10.487Z"
   },
   {
    "duration": 399,
    "start_time": "2023-06-01T18:25:10.766Z"
   },
   {
    "duration": 383,
    "start_time": "2023-06-01T18:25:11.167Z"
   },
   {
    "duration": 957,
    "start_time": "2023-06-01T18:25:11.552Z"
   },
   {
    "duration": 208,
    "start_time": "2023-06-01T18:25:12.511Z"
   },
   {
    "duration": 7,
    "start_time": "2023-06-01T18:25:12.720Z"
   },
   {
    "duration": 21,
    "start_time": "2023-06-01T18:25:12.729Z"
   },
   {
    "duration": 5,
    "start_time": "2023-06-01T18:25:12.752Z"
   },
   {
    "duration": 15,
    "start_time": "2023-06-01T18:25:12.759Z"
   },
   {
    "duration": 15,
    "start_time": "2023-06-01T18:25:12.776Z"
   },
   {
    "duration": 9,
    "start_time": "2023-06-01T18:25:12.792Z"
   },
   {
    "duration": 1254,
    "start_time": "2023-06-01T18:25:43.333Z"
   },
   {
    "duration": 202,
    "start_time": "2023-06-01T18:25:44.589Z"
   },
   {
    "duration": 32,
    "start_time": "2023-06-01T18:25:44.793Z"
   },
   {
    "duration": 35,
    "start_time": "2023-06-01T18:25:44.827Z"
   },
   {
    "duration": 24,
    "start_time": "2023-06-01T18:25:44.865Z"
   },
   {
    "duration": 8,
    "start_time": "2023-06-01T18:25:44.891Z"
   },
   {
    "duration": 12,
    "start_time": "2023-06-01T18:25:44.900Z"
   },
   {
    "duration": 46,
    "start_time": "2023-06-01T18:25:44.914Z"
   },
   {
    "duration": 15,
    "start_time": "2023-06-01T18:25:44.962Z"
   },
   {
    "duration": 217,
    "start_time": "2023-06-01T18:25:44.979Z"
   },
   {
    "duration": 99,
    "start_time": "2023-06-01T18:25:45.198Z"
   },
   {
    "duration": 176,
    "start_time": "2023-06-01T18:25:45.299Z"
   },
   {
    "duration": 279,
    "start_time": "2023-06-01T18:25:45.477Z"
   },
   {
    "duration": 403,
    "start_time": "2023-06-01T18:25:45.759Z"
   },
   {
    "duration": 365,
    "start_time": "2023-06-01T18:25:46.164Z"
   },
   {
    "duration": 33,
    "start_time": "2023-06-01T18:25:46.530Z"
   },
   {
    "duration": 12,
    "start_time": "2023-06-01T18:25:46.565Z"
   },
   {
    "duration": 44,
    "start_time": "2023-06-01T18:25:46.579Z"
   },
   {
    "duration": 421,
    "start_time": "2023-06-01T18:25:46.625Z"
   },
   {
    "duration": 277,
    "start_time": "2023-06-01T18:25:47.052Z"
   },
   {
    "duration": 406,
    "start_time": "2023-06-01T18:25:47.330Z"
   },
   {
    "duration": 383,
    "start_time": "2023-06-01T18:25:47.738Z"
   },
   {
    "duration": 907,
    "start_time": "2023-06-01T18:25:48.123Z"
   },
   {
    "duration": 215,
    "start_time": "2023-06-01T18:25:49.032Z"
   },
   {
    "duration": 8,
    "start_time": "2023-06-01T18:25:49.248Z"
   },
   {
    "duration": 7,
    "start_time": "2023-06-01T18:25:49.257Z"
   },
   {
    "duration": 6,
    "start_time": "2023-06-01T18:25:49.265Z"
   },
   {
    "duration": 7,
    "start_time": "2023-06-01T18:25:49.272Z"
   },
   {
    "duration": 12,
    "start_time": "2023-06-01T18:25:49.280Z"
   },
   {
    "duration": 5,
    "start_time": "2023-06-01T18:25:49.294Z"
   }
  ],
  "kernelspec": {
   "display_name": "Python 3 (ipykernel)",
   "language": "python",
   "name": "python3"
  },
  "language_info": {
   "codemirror_mode": {
    "name": "ipython",
    "version": 3
   },
   "file_extension": ".py",
   "mimetype": "text/x-python",
   "name": "python",
   "nbconvert_exporter": "python",
   "pygments_lexer": "ipython3",
   "version": "3.10.9"
  },
  "toc": {
   "base_numbering": 1,
   "nav_menu": {},
   "number_sections": false,
   "sideBar": true,
   "skip_h1_title": true,
   "title_cell": "Table of Contents",
   "title_sidebar": "Contents",
   "toc_cell": false,
   "toc_position": {},
   "toc_section_display": true,
   "toc_window_display": false
  }
 },
 "nbformat": 4,
 "nbformat_minor": 5
}
