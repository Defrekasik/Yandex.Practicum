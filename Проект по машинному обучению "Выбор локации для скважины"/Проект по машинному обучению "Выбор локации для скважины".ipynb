{
 "cells": [
  {
   "cell_type": "markdown",
   "id": "e3b06535",
   "metadata": {},
   "source": [
    "# Выбор локации для скважины"
   ]
  },
  {
   "cell_type": "markdown",
   "id": "f4f0adef",
   "metadata": {},
   "source": [
    "### Цель проекта: построить модель для определения региона, где добыча принесёт наибольшую прибыль, проанализировать возможную прибыль и риски техникой Bootstrap."
   ]
  },
  {
   "cell_type": "markdown",
   "id": "d3cf14c1",
   "metadata": {},
   "source": [
    "### Описание проекта:"
   ]
  },
  {
   "cell_type": "markdown",
   "id": "551c2a2f",
   "metadata": {},
   "source": [
    "Добывающей компании «ГлавРосГосНефть» необходимо решить, где бурить новую скважину.\n",
    "\n",
    "Предоставлены пробы нефти в трёх регионах: в каждом 10 000 месторождений, где измерены качество нефти и объём её запасов. \n",
    "Данные геологоразведки трёх регионов находятся в файлах, в каждом файле содержится уникальный идентификатор скважины (id), три признака точек (f0, f1, f2) - неважно, что они означают, но сами признаки значимы. Также в данных указан объем запасов скажины (product) в тыс. баррелей.\n",
    "\n",
    "Для выбора локации необходимо выполнить следующие действия:\n",
    "\n",
    "- В избранном регионе найти месторождения, для каждого определить значения признаков;\n",
    "- Построить модель и оценить объём запасов;\n",
    "- Выбрать месторождения с самым высокими оценками значений. Количество месторождений зависит от бюджета компании и стоимости разработки одной скважины;\n",
    "- Вычислить прибыль, которая равна суммарной прибыли отобранных месторождений."
   ]
  },
  {
   "cell_type": "markdown",
   "id": "10351b83",
   "metadata": {},
   "source": [
    "### Условия задачи:"
   ]
  },
  {
   "cell_type": "markdown",
   "id": "1ae0a1d0",
   "metadata": {},
   "source": [
    "\n",
    "- Для обучения модели подходит только линейная регрессия (остальные — недостаточно предсказуемые).\n",
    "- При разведке региона исследуют 500 точек, из которых с помощью машинного обучения выбирают 200 лучших для разработки.\n",
    "- Бюджет на разработку скважин в регионе — 10 млрд рублей.\n",
    "- При нынешних ценах один баррель сырья приносит 450 рублей дохода. Доход с каждой единицы продукта составляет 450 тыс. рублей, поскольку объём указан в тысячах баррелей.\n",
    "- После оценки рисков нужно оставить лишь те регионы, в которых вероятность убытков меньше 2.5%. Среди них выбирают регион с наибольшей средней прибылью."
   ]
  },
  {
   "cell_type": "markdown",
   "id": "ba317820",
   "metadata": {},
   "source": [
    "<h1>Содержание:<span class=\"tocSkip\"></span></h1>"
   ]
  },
  {
   "cell_type": "markdown",
   "id": "8f9a7fec",
   "metadata": {},
   "source": [
    "\n",
    "\n",
    "\n",
    "<div class=\"toc\"><ul class=\"toc-item\"><li><span><a href=\"#Загрузка-и-подготовка-данных\" data-toc-modified-id=\"Загрузка-и-подготовка-данных-1\"><span class=\"toc-item-num\">1&nbsp;&nbsp;</span>Загрузка и подготовка данныхх</a></span></li><li><span><a href=\"#Обучение-и-проверка-модели\" data-toc-modified-id=\"Обучение-и-проверка-модели-2\"><span class=\"toc-item-num\">2&nbsp;&nbsp;</span>Обучение и проверка модели</a></span></li><li><span><a href=\"#Подготовка-к-расчёту-прибыли\" data-toc-modified-id=\"Подготовка-к-расчёту-прибыли-3\"><span class=\"toc-item-num\">3&nbsp;&nbsp;</span>Подготовка к расчёту прибыли</a></span></li><li><span><a href=\"#Расчёт-прибыли-и-рисков\" data-toc-modified-id=\"Расчёт-прибыли-и-рисков-4\"><span class=\"toc-item-num\">4&nbsp;&nbsp;</span>Расчёт прибыли и рисков </a></span></li><li><span><a href=\"#Чек-лист-готовности-проекта\" data-toc-modified-id=\"Чек-лист-готовности-проекта-5\"><span class=\"toc-item-num\">5&nbsp;&nbsp;</span>Чек-лист готовности проекта</a></span></li></ul></div>"
   ]
  },
  {
   "cell_type": "markdown",
   "id": "19a5a829",
   "metadata": {},
   "source": [
    "## Загрузка и подготовка данных"
   ]
  },
  {
   "cell_type": "code",
   "execution_count": 1,
   "id": "d0190d18",
   "metadata": {},
   "outputs": [],
   "source": [
    "# Импортируем библиотеки\n",
    "\n",
    "import pandas as pd\n",
    "import numpy as np\n",
    "import matplotlib.pyplot as plt\n",
    "from sklearn.model_selection import train_test_split\n",
    "from sklearn.preprocessing import StandardScaler\n",
    "from sklearn.linear_model import LinearRegression\n",
    "from sklearn.metrics import mean_squared_error"
   ]
  },
  {
   "cell_type": "code",
   "execution_count": 2,
   "id": "23b37564",
   "metadata": {},
   "outputs": [],
   "source": [
    "# Объявляем константы\n",
    "\n",
    "STATE = np.random.RandomState(12345)\n",
    "\n",
    "# Количество точек для исследования\n",
    "SELECTION = 500\n",
    "# Количество отобранных лучших точек для разработки\n",
    "CHOSEN = 200\n",
    "# Бюджет на разработку скважин (млн руб.)\n",
    "BUDGET = 10000 \n",
    "# Доход с одной единицы продукта (млн руб.)\n",
    "REVENUE_PER_PRODUCT = 0.45"
   ]
  },
  {
   "cell_type": "code",
   "execution_count": 3,
   "id": "85188692",
   "metadata": {},
   "outputs": [],
   "source": [
    "# Загружаем данные из файла в датафрейм\n",
    "\n",
    "try:    \n",
    "    geo_data_0 = pd.read_csv('Downloads/geo_data_0.csv')\n",
    "    geo_data_1 = pd.read_csv('Downloads/geo_data_1.csv')\n",
    "    geo_data_2 = pd.read_csv('Downloads/geo_data_2.csv')\n",
    "    \n",
    "except:\n",
    "    geo_data_0 = pd.read_csv('https://code.s3.yandex.net/datasets/geo_data_0.csv')\n",
    "    geo_data_1 = pd.read_csv('https://code.s3.yandex.net/datasets/geo_data_1.csv')\n",
    "    geo_data_2 = pd.read_csv('https://code.s3.yandex.net/datasets/geo_data_1.csv')\n",
    "    \n",
    "pd.set_option('display.float_format', '{:.3f}'.format)"
   ]
  },
  {
   "cell_type": "code",
   "execution_count": 4,
   "id": "8f8c5eab",
   "metadata": {},
   "outputs": [
    {
     "data": {
      "text/html": [
       "<div>\n",
       "<style scoped>\n",
       "    .dataframe tbody tr th:only-of-type {\n",
       "        vertical-align: middle;\n",
       "    }\n",
       "\n",
       "    .dataframe tbody tr th {\n",
       "        vertical-align: top;\n",
       "    }\n",
       "\n",
       "    .dataframe thead th {\n",
       "        text-align: right;\n",
       "    }\n",
       "</style>\n",
       "<table border=\"1\" class=\"dataframe\">\n",
       "  <thead>\n",
       "    <tr style=\"text-align: right;\">\n",
       "      <th></th>\n",
       "      <th>id</th>\n",
       "      <th>f0</th>\n",
       "      <th>f1</th>\n",
       "      <th>f2</th>\n",
       "      <th>product</th>\n",
       "    </tr>\n",
       "  </thead>\n",
       "  <tbody>\n",
       "    <tr>\n",
       "      <th>0</th>\n",
       "      <td>txEyH</td>\n",
       "      <td>0.706</td>\n",
       "      <td>-0.498</td>\n",
       "      <td>1.221</td>\n",
       "      <td>105.280</td>\n",
       "    </tr>\n",
       "    <tr>\n",
       "      <th>1</th>\n",
       "      <td>2acmU</td>\n",
       "      <td>1.335</td>\n",
       "      <td>-0.340</td>\n",
       "      <td>4.365</td>\n",
       "      <td>73.038</td>\n",
       "    </tr>\n",
       "    <tr>\n",
       "      <th>2</th>\n",
       "      <td>409Wp</td>\n",
       "      <td>1.023</td>\n",
       "      <td>0.152</td>\n",
       "      <td>1.420</td>\n",
       "      <td>85.266</td>\n",
       "    </tr>\n",
       "    <tr>\n",
       "      <th>3</th>\n",
       "      <td>iJLyR</td>\n",
       "      <td>-0.032</td>\n",
       "      <td>0.139</td>\n",
       "      <td>2.979</td>\n",
       "      <td>168.621</td>\n",
       "    </tr>\n",
       "    <tr>\n",
       "      <th>4</th>\n",
       "      <td>Xdl7t</td>\n",
       "      <td>1.988</td>\n",
       "      <td>0.155</td>\n",
       "      <td>4.752</td>\n",
       "      <td>154.037</td>\n",
       "    </tr>\n",
       "  </tbody>\n",
       "</table>\n",
       "</div>"
      ],
      "text/plain": [
       "      id     f0     f1    f2  product\n",
       "0  txEyH  0.706 -0.498 1.221  105.280\n",
       "1  2acmU  1.335 -0.340 4.365   73.038\n",
       "2  409Wp  1.023  0.152 1.420   85.266\n",
       "3  iJLyR -0.032  0.139 2.979  168.621\n",
       "4  Xdl7t  1.988  0.155 4.752  154.037"
      ]
     },
     "metadata": {},
     "output_type": "display_data"
    },
    {
     "name": "stdout",
     "output_type": "stream",
     "text": [
      "<class 'pandas.core.frame.DataFrame'>\n",
      "RangeIndex: 100000 entries, 0 to 99999\n",
      "Data columns (total 5 columns):\n",
      " #   Column   Non-Null Count   Dtype  \n",
      "---  ------   --------------   -----  \n",
      " 0   id       100000 non-null  object \n",
      " 1   f0       100000 non-null  float64\n",
      " 2   f1       100000 non-null  float64\n",
      " 3   f2       100000 non-null  float64\n",
      " 4   product  100000 non-null  float64\n",
      "dtypes: float64(4), object(1)\n",
      "memory usage: 3.8+ MB\n"
     ]
    },
    {
     "data": {
      "text/html": [
       "<div>\n",
       "<style scoped>\n",
       "    .dataframe tbody tr th:only-of-type {\n",
       "        vertical-align: middle;\n",
       "    }\n",
       "\n",
       "    .dataframe tbody tr th {\n",
       "        vertical-align: top;\n",
       "    }\n",
       "\n",
       "    .dataframe thead th {\n",
       "        text-align: right;\n",
       "    }\n",
       "</style>\n",
       "<table border=\"1\" class=\"dataframe\">\n",
       "  <thead>\n",
       "    <tr style=\"text-align: right;\">\n",
       "      <th></th>\n",
       "      <th>id</th>\n",
       "      <th>f0</th>\n",
       "      <th>f1</th>\n",
       "      <th>f2</th>\n",
       "      <th>product</th>\n",
       "    </tr>\n",
       "  </thead>\n",
       "  <tbody>\n",
       "    <tr>\n",
       "      <th>0</th>\n",
       "      <td>kBEdx</td>\n",
       "      <td>-15.001</td>\n",
       "      <td>-8.276</td>\n",
       "      <td>-0.006</td>\n",
       "      <td>3.179</td>\n",
       "    </tr>\n",
       "    <tr>\n",
       "      <th>1</th>\n",
       "      <td>62mP7</td>\n",
       "      <td>14.272</td>\n",
       "      <td>-3.475</td>\n",
       "      <td>0.999</td>\n",
       "      <td>26.953</td>\n",
       "    </tr>\n",
       "    <tr>\n",
       "      <th>2</th>\n",
       "      <td>vyE1P</td>\n",
       "      <td>6.263</td>\n",
       "      <td>-5.948</td>\n",
       "      <td>5.001</td>\n",
       "      <td>134.766</td>\n",
       "    </tr>\n",
       "    <tr>\n",
       "      <th>3</th>\n",
       "      <td>KcrkZ</td>\n",
       "      <td>-13.081</td>\n",
       "      <td>-11.506</td>\n",
       "      <td>4.999</td>\n",
       "      <td>137.945</td>\n",
       "    </tr>\n",
       "    <tr>\n",
       "      <th>4</th>\n",
       "      <td>AHL4O</td>\n",
       "      <td>12.702</td>\n",
       "      <td>-8.147</td>\n",
       "      <td>5.004</td>\n",
       "      <td>134.766</td>\n",
       "    </tr>\n",
       "  </tbody>\n",
       "</table>\n",
       "</div>"
      ],
      "text/plain": [
       "      id      f0      f1     f2  product\n",
       "0  kBEdx -15.001  -8.276 -0.006    3.179\n",
       "1  62mP7  14.272  -3.475  0.999   26.953\n",
       "2  vyE1P   6.263  -5.948  5.001  134.766\n",
       "3  KcrkZ -13.081 -11.506  4.999  137.945\n",
       "4  AHL4O  12.702  -8.147  5.004  134.766"
      ]
     },
     "metadata": {},
     "output_type": "display_data"
    },
    {
     "name": "stdout",
     "output_type": "stream",
     "text": [
      "<class 'pandas.core.frame.DataFrame'>\n",
      "RangeIndex: 100000 entries, 0 to 99999\n",
      "Data columns (total 5 columns):\n",
      " #   Column   Non-Null Count   Dtype  \n",
      "---  ------   --------------   -----  \n",
      " 0   id       100000 non-null  object \n",
      " 1   f0       100000 non-null  float64\n",
      " 2   f1       100000 non-null  float64\n",
      " 3   f2       100000 non-null  float64\n",
      " 4   product  100000 non-null  float64\n",
      "dtypes: float64(4), object(1)\n",
      "memory usage: 3.8+ MB\n"
     ]
    },
    {
     "data": {
      "text/html": [
       "<div>\n",
       "<style scoped>\n",
       "    .dataframe tbody tr th:only-of-type {\n",
       "        vertical-align: middle;\n",
       "    }\n",
       "\n",
       "    .dataframe tbody tr th {\n",
       "        vertical-align: top;\n",
       "    }\n",
       "\n",
       "    .dataframe thead th {\n",
       "        text-align: right;\n",
       "    }\n",
       "</style>\n",
       "<table border=\"1\" class=\"dataframe\">\n",
       "  <thead>\n",
       "    <tr style=\"text-align: right;\">\n",
       "      <th></th>\n",
       "      <th>id</th>\n",
       "      <th>f0</th>\n",
       "      <th>f1</th>\n",
       "      <th>f2</th>\n",
       "      <th>product</th>\n",
       "    </tr>\n",
       "  </thead>\n",
       "  <tbody>\n",
       "    <tr>\n",
       "      <th>0</th>\n",
       "      <td>fwXo0</td>\n",
       "      <td>-1.147</td>\n",
       "      <td>0.963</td>\n",
       "      <td>-0.829</td>\n",
       "      <td>27.759</td>\n",
       "    </tr>\n",
       "    <tr>\n",
       "      <th>1</th>\n",
       "      <td>WJtFt</td>\n",
       "      <td>0.263</td>\n",
       "      <td>0.270</td>\n",
       "      <td>-2.530</td>\n",
       "      <td>56.070</td>\n",
       "    </tr>\n",
       "    <tr>\n",
       "      <th>2</th>\n",
       "      <td>ovLUW</td>\n",
       "      <td>0.195</td>\n",
       "      <td>0.289</td>\n",
       "      <td>-5.586</td>\n",
       "      <td>62.872</td>\n",
       "    </tr>\n",
       "    <tr>\n",
       "      <th>3</th>\n",
       "      <td>q6cA6</td>\n",
       "      <td>2.236</td>\n",
       "      <td>-0.554</td>\n",
       "      <td>0.930</td>\n",
       "      <td>114.573</td>\n",
       "    </tr>\n",
       "    <tr>\n",
       "      <th>4</th>\n",
       "      <td>WPMUX</td>\n",
       "      <td>-0.516</td>\n",
       "      <td>1.716</td>\n",
       "      <td>5.899</td>\n",
       "      <td>149.601</td>\n",
       "    </tr>\n",
       "  </tbody>\n",
       "</table>\n",
       "</div>"
      ],
      "text/plain": [
       "      id     f0     f1     f2  product\n",
       "0  fwXo0 -1.147  0.963 -0.829   27.759\n",
       "1  WJtFt  0.263  0.270 -2.530   56.070\n",
       "2  ovLUW  0.195  0.289 -5.586   62.872\n",
       "3  q6cA6  2.236 -0.554  0.930  114.573\n",
       "4  WPMUX -0.516  1.716  5.899  149.601"
      ]
     },
     "metadata": {},
     "output_type": "display_data"
    },
    {
     "name": "stdout",
     "output_type": "stream",
     "text": [
      "<class 'pandas.core.frame.DataFrame'>\n",
      "RangeIndex: 100000 entries, 0 to 99999\n",
      "Data columns (total 5 columns):\n",
      " #   Column   Non-Null Count   Dtype  \n",
      "---  ------   --------------   -----  \n",
      " 0   id       100000 non-null  object \n",
      " 1   f0       100000 non-null  float64\n",
      " 2   f1       100000 non-null  float64\n",
      " 3   f2       100000 non-null  float64\n",
      " 4   product  100000 non-null  float64\n",
      "dtypes: float64(4), object(1)\n",
      "memory usage: 3.8+ MB\n"
     ]
    }
   ],
   "source": [
    "# Изучим данные\n",
    "\n",
    "display(geo_data_0.head())\n",
    "geo_data_0.info()\n",
    "\n",
    "display(geo_data_1.head())\n",
    "geo_data_1.info()\n",
    "\n",
    "display(geo_data_2.head())\n",
    "geo_data_2.info()"
   ]
  },
  {
   "cell_type": "code",
   "execution_count": 5,
   "id": "9544e27b",
   "metadata": {},
   "outputs": [
    {
     "data": {
      "text/html": [
       "<div>\n",
       "<style scoped>\n",
       "    .dataframe tbody tr th:only-of-type {\n",
       "        vertical-align: middle;\n",
       "    }\n",
       "\n",
       "    .dataframe tbody tr th {\n",
       "        vertical-align: top;\n",
       "    }\n",
       "\n",
       "    .dataframe thead th {\n",
       "        text-align: right;\n",
       "    }\n",
       "</style>\n",
       "<table border=\"1\" class=\"dataframe\">\n",
       "  <thead>\n",
       "    <tr style=\"text-align: right;\">\n",
       "      <th></th>\n",
       "      <th>f0</th>\n",
       "      <th>f1</th>\n",
       "      <th>f2</th>\n",
       "      <th>product</th>\n",
       "    </tr>\n",
       "  </thead>\n",
       "  <tbody>\n",
       "    <tr>\n",
       "      <th>count</th>\n",
       "      <td>100000.000</td>\n",
       "      <td>100000.000</td>\n",
       "      <td>100000.000</td>\n",
       "      <td>100000.000</td>\n",
       "    </tr>\n",
       "    <tr>\n",
       "      <th>mean</th>\n",
       "      <td>0.500</td>\n",
       "      <td>0.250</td>\n",
       "      <td>2.503</td>\n",
       "      <td>92.500</td>\n",
       "    </tr>\n",
       "    <tr>\n",
       "      <th>std</th>\n",
       "      <td>0.872</td>\n",
       "      <td>0.504</td>\n",
       "      <td>3.248</td>\n",
       "      <td>44.289</td>\n",
       "    </tr>\n",
       "    <tr>\n",
       "      <th>min</th>\n",
       "      <td>-1.409</td>\n",
       "      <td>-0.848</td>\n",
       "      <td>-12.088</td>\n",
       "      <td>0.000</td>\n",
       "    </tr>\n",
       "    <tr>\n",
       "      <th>25%</th>\n",
       "      <td>-0.073</td>\n",
       "      <td>-0.201</td>\n",
       "      <td>0.288</td>\n",
       "      <td>56.498</td>\n",
       "    </tr>\n",
       "    <tr>\n",
       "      <th>50%</th>\n",
       "      <td>0.502</td>\n",
       "      <td>0.250</td>\n",
       "      <td>2.516</td>\n",
       "      <td>91.850</td>\n",
       "    </tr>\n",
       "    <tr>\n",
       "      <th>75%</th>\n",
       "      <td>1.074</td>\n",
       "      <td>0.701</td>\n",
       "      <td>4.715</td>\n",
       "      <td>128.564</td>\n",
       "    </tr>\n",
       "    <tr>\n",
       "      <th>max</th>\n",
       "      <td>2.362</td>\n",
       "      <td>1.344</td>\n",
       "      <td>16.004</td>\n",
       "      <td>185.364</td>\n",
       "    </tr>\n",
       "  </tbody>\n",
       "</table>\n",
       "</div>"
      ],
      "text/plain": [
       "              f0         f1         f2    product\n",
       "count 100000.000 100000.000 100000.000 100000.000\n",
       "mean       0.500      0.250      2.503     92.500\n",
       "std        0.872      0.504      3.248     44.289\n",
       "min       -1.409     -0.848    -12.088      0.000\n",
       "25%       -0.073     -0.201      0.288     56.498\n",
       "50%        0.502      0.250      2.516     91.850\n",
       "75%        1.074      0.701      4.715    128.564\n",
       "max        2.362      1.344     16.004    185.364"
      ]
     },
     "metadata": {},
     "output_type": "display_data"
    },
    {
     "data": {
      "text/html": [
       "<div>\n",
       "<style scoped>\n",
       "    .dataframe tbody tr th:only-of-type {\n",
       "        vertical-align: middle;\n",
       "    }\n",
       "\n",
       "    .dataframe tbody tr th {\n",
       "        vertical-align: top;\n",
       "    }\n",
       "\n",
       "    .dataframe thead th {\n",
       "        text-align: right;\n",
       "    }\n",
       "</style>\n",
       "<table border=\"1\" class=\"dataframe\">\n",
       "  <thead>\n",
       "    <tr style=\"text-align: right;\">\n",
       "      <th></th>\n",
       "      <th>f0</th>\n",
       "      <th>f1</th>\n",
       "      <th>f2</th>\n",
       "      <th>product</th>\n",
       "    </tr>\n",
       "  </thead>\n",
       "  <tbody>\n",
       "    <tr>\n",
       "      <th>count</th>\n",
       "      <td>100000.000</td>\n",
       "      <td>100000.000</td>\n",
       "      <td>100000.000</td>\n",
       "      <td>100000.000</td>\n",
       "    </tr>\n",
       "    <tr>\n",
       "      <th>mean</th>\n",
       "      <td>1.141</td>\n",
       "      <td>-4.797</td>\n",
       "      <td>2.495</td>\n",
       "      <td>68.825</td>\n",
       "    </tr>\n",
       "    <tr>\n",
       "      <th>std</th>\n",
       "      <td>8.966</td>\n",
       "      <td>5.120</td>\n",
       "      <td>1.704</td>\n",
       "      <td>45.944</td>\n",
       "    </tr>\n",
       "    <tr>\n",
       "      <th>min</th>\n",
       "      <td>-31.610</td>\n",
       "      <td>-26.359</td>\n",
       "      <td>-0.018</td>\n",
       "      <td>0.000</td>\n",
       "    </tr>\n",
       "    <tr>\n",
       "      <th>25%</th>\n",
       "      <td>-6.299</td>\n",
       "      <td>-8.268</td>\n",
       "      <td>1.000</td>\n",
       "      <td>26.953</td>\n",
       "    </tr>\n",
       "    <tr>\n",
       "      <th>50%</th>\n",
       "      <td>1.153</td>\n",
       "      <td>-4.813</td>\n",
       "      <td>2.011</td>\n",
       "      <td>57.086</td>\n",
       "    </tr>\n",
       "    <tr>\n",
       "      <th>75%</th>\n",
       "      <td>8.621</td>\n",
       "      <td>-1.333</td>\n",
       "      <td>4.000</td>\n",
       "      <td>107.813</td>\n",
       "    </tr>\n",
       "    <tr>\n",
       "      <th>max</th>\n",
       "      <td>29.422</td>\n",
       "      <td>18.734</td>\n",
       "      <td>5.020</td>\n",
       "      <td>137.945</td>\n",
       "    </tr>\n",
       "  </tbody>\n",
       "</table>\n",
       "</div>"
      ],
      "text/plain": [
       "              f0         f1         f2    product\n",
       "count 100000.000 100000.000 100000.000 100000.000\n",
       "mean       1.141     -4.797      2.495     68.825\n",
       "std        8.966      5.120      1.704     45.944\n",
       "min      -31.610    -26.359     -0.018      0.000\n",
       "25%       -6.299     -8.268      1.000     26.953\n",
       "50%        1.153     -4.813      2.011     57.086\n",
       "75%        8.621     -1.333      4.000    107.813\n",
       "max       29.422     18.734      5.020    137.945"
      ]
     },
     "metadata": {},
     "output_type": "display_data"
    },
    {
     "data": {
      "text/html": [
       "<div>\n",
       "<style scoped>\n",
       "    .dataframe tbody tr th:only-of-type {\n",
       "        vertical-align: middle;\n",
       "    }\n",
       "\n",
       "    .dataframe tbody tr th {\n",
       "        vertical-align: top;\n",
       "    }\n",
       "\n",
       "    .dataframe thead th {\n",
       "        text-align: right;\n",
       "    }\n",
       "</style>\n",
       "<table border=\"1\" class=\"dataframe\">\n",
       "  <thead>\n",
       "    <tr style=\"text-align: right;\">\n",
       "      <th></th>\n",
       "      <th>f0</th>\n",
       "      <th>f1</th>\n",
       "      <th>f2</th>\n",
       "      <th>product</th>\n",
       "    </tr>\n",
       "  </thead>\n",
       "  <tbody>\n",
       "    <tr>\n",
       "      <th>count</th>\n",
       "      <td>100000.000</td>\n",
       "      <td>100000.000</td>\n",
       "      <td>100000.000</td>\n",
       "      <td>100000.000</td>\n",
       "    </tr>\n",
       "    <tr>\n",
       "      <th>mean</th>\n",
       "      <td>0.002</td>\n",
       "      <td>-0.002</td>\n",
       "      <td>2.495</td>\n",
       "      <td>95.000</td>\n",
       "    </tr>\n",
       "    <tr>\n",
       "      <th>std</th>\n",
       "      <td>1.732</td>\n",
       "      <td>1.730</td>\n",
       "      <td>3.473</td>\n",
       "      <td>44.750</td>\n",
       "    </tr>\n",
       "    <tr>\n",
       "      <th>min</th>\n",
       "      <td>-8.760</td>\n",
       "      <td>-7.084</td>\n",
       "      <td>-11.970</td>\n",
       "      <td>0.000</td>\n",
       "    </tr>\n",
       "    <tr>\n",
       "      <th>25%</th>\n",
       "      <td>-1.162</td>\n",
       "      <td>-1.175</td>\n",
       "      <td>0.130</td>\n",
       "      <td>59.450</td>\n",
       "    </tr>\n",
       "    <tr>\n",
       "      <th>50%</th>\n",
       "      <td>0.009</td>\n",
       "      <td>-0.009</td>\n",
       "      <td>2.484</td>\n",
       "      <td>94.926</td>\n",
       "    </tr>\n",
       "    <tr>\n",
       "      <th>75%</th>\n",
       "      <td>1.159</td>\n",
       "      <td>1.164</td>\n",
       "      <td>4.859</td>\n",
       "      <td>130.595</td>\n",
       "    </tr>\n",
       "    <tr>\n",
       "      <th>max</th>\n",
       "      <td>7.238</td>\n",
       "      <td>7.845</td>\n",
       "      <td>16.739</td>\n",
       "      <td>190.030</td>\n",
       "    </tr>\n",
       "  </tbody>\n",
       "</table>\n",
       "</div>"
      ],
      "text/plain": [
       "              f0         f1         f2    product\n",
       "count 100000.000 100000.000 100000.000 100000.000\n",
       "mean       0.002     -0.002      2.495     95.000\n",
       "std        1.732      1.730      3.473     44.750\n",
       "min       -8.760     -7.084    -11.970      0.000\n",
       "25%       -1.162     -1.175      0.130     59.450\n",
       "50%        0.009     -0.009      2.484     94.926\n",
       "75%        1.159      1.164      4.859    130.595\n",
       "max        7.238      7.845     16.739    190.030"
      ]
     },
     "metadata": {},
     "output_type": "display_data"
    }
   ],
   "source": [
    "# Посмотрим на основные статистические характеристики данных и проверим их на наличие выбросов\n",
    "\n",
    "display(geo_data_0.describe())\n",
    "display(geo_data_1.describe())\n",
    "display(geo_data_2.describe())"
   ]
  },
  {
   "cell_type": "code",
   "execution_count": 6,
   "id": "c4fcb472",
   "metadata": {},
   "outputs": [
    {
     "name": "stdout",
     "output_type": "stream",
     "text": [
      "id         0\n",
      "f0         0\n",
      "f1         0\n",
      "f2         0\n",
      "product    0\n",
      "dtype: int64\n",
      "id         0\n",
      "f0         0\n",
      "f1         0\n",
      "f2         0\n",
      "product    0\n",
      "dtype: int64\n",
      "id         0\n",
      "f0         0\n",
      "f1         0\n",
      "f2         0\n",
      "product    0\n",
      "dtype: int64\n"
     ]
    }
   ],
   "source": [
    "# Проверим данные на наличие пропусков\n",
    "\n",
    "print(geo_data_0.isna().sum())\n",
    "print(geo_data_1.isna().sum())\n",
    "print(geo_data_2.isna().sum())"
   ]
  },
  {
   "cell_type": "markdown",
   "id": "fee1ece4",
   "metadata": {},
   "source": [
    "Пропусков в данных нет"
   ]
  },
  {
   "cell_type": "code",
   "execution_count": 7,
   "id": "c3682d5a",
   "metadata": {},
   "outputs": [
    {
     "name": "stdout",
     "output_type": "stream",
     "text": [
      "0\n"
     ]
    }
   ],
   "source": [
    "# Проверим данные на наличие явных дубликатов\n",
    "\n",
    "print(geo_data_0.duplicated().sum() + geo_data_1.duplicated().sum() + geo_data_2.duplicated().sum())"
   ]
  },
  {
   "cell_type": "markdown",
   "id": "b5b8cb0c",
   "metadata": {},
   "source": [
    "В предоставленных данных столбец 'id' описывает состояние уникальной скважины. Это означает, что в каждом датасете не может быть двух и более записей для одного и того же 'id'. Проверим данные на наличие неявных дубликатов и удалим их:"
   ]
  },
  {
   "cell_type": "code",
   "execution_count": 8,
   "id": "5f586889",
   "metadata": {},
   "outputs": [
    {
     "name": "stdout",
     "output_type": "stream",
     "text": [
      "<class 'pandas.core.frame.DataFrame'>\n",
      "Int64Index: 99990 entries, 0 to 99999\n",
      "Data columns (total 5 columns):\n",
      " #   Column   Non-Null Count  Dtype  \n",
      "---  ------   --------------  -----  \n",
      " 0   id       99990 non-null  object \n",
      " 1   f0       99990 non-null  float64\n",
      " 2   f1       99990 non-null  float64\n",
      " 3   f2       99990 non-null  float64\n",
      " 4   product  99990 non-null  float64\n",
      "dtypes: float64(4), object(1)\n",
      "memory usage: 4.6+ MB\n",
      "<class 'pandas.core.frame.DataFrame'>\n",
      "Int64Index: 99996 entries, 0 to 99999\n",
      "Data columns (total 5 columns):\n",
      " #   Column   Non-Null Count  Dtype  \n",
      "---  ------   --------------  -----  \n",
      " 0   id       99996 non-null  object \n",
      " 1   f0       99996 non-null  float64\n",
      " 2   f1       99996 non-null  float64\n",
      " 3   f2       99996 non-null  float64\n",
      " 4   product  99996 non-null  float64\n",
      "dtypes: float64(4), object(1)\n",
      "memory usage: 4.6+ MB\n",
      "<class 'pandas.core.frame.DataFrame'>\n",
      "Int64Index: 99996 entries, 0 to 99999\n",
      "Data columns (total 5 columns):\n",
      " #   Column   Non-Null Count  Dtype  \n",
      "---  ------   --------------  -----  \n",
      " 0   id       99996 non-null  object \n",
      " 1   f0       99996 non-null  float64\n",
      " 2   f1       99996 non-null  float64\n",
      " 3   f2       99996 non-null  float64\n",
      " 4   product  99996 non-null  float64\n",
      "dtypes: float64(4), object(1)\n",
      "memory usage: 4.6+ MB\n"
     ]
    }
   ],
   "source": [
    "# Удаляем неявные дубликаты (строки с повторяющимися идентификаторами скважины)\n",
    "\n",
    "geo_data_0 = geo_data_0.drop_duplicates(subset=['id'])\n",
    "geo_data_1 = geo_data_1.drop_duplicates(subset=['id'])\n",
    "geo_data_2 = geo_data_2.drop_duplicates(subset=['id'])\n",
    "\n",
    "geo_data_0.info()\n",
    "geo_data_1.info()\n",
    "geo_data_2.info()"
   ]
  },
  {
   "cell_type": "markdown",
   "id": "012915d7",
   "metadata": {},
   "source": [
    "После удаления дубликатов в первом наборе данных осталось 99990 строк (удалено 10 дубликатов), во втором и третьем по 99996 строк (удалено 4 дубликата). "
   ]
  },
  {
   "cell_type": "code",
   "execution_count": 9,
   "id": "7cacd132",
   "metadata": {},
   "outputs": [],
   "source": [
    "# Создадим новые наборы данных без столбца с ненужной информацией\n",
    "\n",
    "data_0 = geo_data_0.drop('id', axis=1)\n",
    "data_1 = geo_data_1.drop('id', axis=1)\n",
    "data_2 = geo_data_2.drop('id', axis=1)"
   ]
  },
  {
   "cell_type": "code",
   "execution_count": 10,
   "id": "d37dd3d6",
   "metadata": {},
   "outputs": [
    {
     "data": {
      "text/html": [
       "<div>\n",
       "<style scoped>\n",
       "    .dataframe tbody tr th:only-of-type {\n",
       "        vertical-align: middle;\n",
       "    }\n",
       "\n",
       "    .dataframe tbody tr th {\n",
       "        vertical-align: top;\n",
       "    }\n",
       "\n",
       "    .dataframe thead th {\n",
       "        text-align: right;\n",
       "    }\n",
       "</style>\n",
       "<table border=\"1\" class=\"dataframe\">\n",
       "  <thead>\n",
       "    <tr style=\"text-align: right;\">\n",
       "      <th></th>\n",
       "      <th>f0</th>\n",
       "      <th>f1</th>\n",
       "      <th>f2</th>\n",
       "      <th>product</th>\n",
       "    </tr>\n",
       "  </thead>\n",
       "  <tbody>\n",
       "    <tr>\n",
       "      <th>0</th>\n",
       "      <td>0.706</td>\n",
       "      <td>-0.498</td>\n",
       "      <td>1.221</td>\n",
       "      <td>105.280</td>\n",
       "    </tr>\n",
       "    <tr>\n",
       "      <th>1</th>\n",
       "      <td>1.335</td>\n",
       "      <td>-0.340</td>\n",
       "      <td>4.365</td>\n",
       "      <td>73.038</td>\n",
       "    </tr>\n",
       "    <tr>\n",
       "      <th>2</th>\n",
       "      <td>1.023</td>\n",
       "      <td>0.152</td>\n",
       "      <td>1.420</td>\n",
       "      <td>85.266</td>\n",
       "    </tr>\n",
       "    <tr>\n",
       "      <th>3</th>\n",
       "      <td>-0.032</td>\n",
       "      <td>0.139</td>\n",
       "      <td>2.979</td>\n",
       "      <td>168.621</td>\n",
       "    </tr>\n",
       "    <tr>\n",
       "      <th>4</th>\n",
       "      <td>1.988</td>\n",
       "      <td>0.155</td>\n",
       "      <td>4.752</td>\n",
       "      <td>154.037</td>\n",
       "    </tr>\n",
       "  </tbody>\n",
       "</table>\n",
       "</div>"
      ],
      "text/plain": [
       "      f0     f1    f2  product\n",
       "0  0.706 -0.498 1.221  105.280\n",
       "1  1.335 -0.340 4.365   73.038\n",
       "2  1.023  0.152 1.420   85.266\n",
       "3 -0.032  0.139 2.979  168.621\n",
       "4  1.988  0.155 4.752  154.037"
      ]
     },
     "execution_count": 10,
     "metadata": {},
     "output_type": "execute_result"
    }
   ],
   "source": [
    "data_0.head()"
   ]
  },
  {
   "cell_type": "code",
   "execution_count": 11,
   "id": "6a23c756",
   "metadata": {},
   "outputs": [
    {
     "data": {
      "text/html": [
       "<div>\n",
       "<style scoped>\n",
       "    .dataframe tbody tr th:only-of-type {\n",
       "        vertical-align: middle;\n",
       "    }\n",
       "\n",
       "    .dataframe tbody tr th {\n",
       "        vertical-align: top;\n",
       "    }\n",
       "\n",
       "    .dataframe thead th {\n",
       "        text-align: right;\n",
       "    }\n",
       "</style>\n",
       "<table border=\"1\" class=\"dataframe\">\n",
       "  <thead>\n",
       "    <tr style=\"text-align: right;\">\n",
       "      <th></th>\n",
       "      <th>f0</th>\n",
       "      <th>f1</th>\n",
       "      <th>f2</th>\n",
       "      <th>product</th>\n",
       "    </tr>\n",
       "  </thead>\n",
       "  <tbody>\n",
       "    <tr>\n",
       "      <th>f0</th>\n",
       "      <td>1.000</td>\n",
       "      <td>-0.441</td>\n",
       "      <td>-0.003</td>\n",
       "      <td>0.144</td>\n",
       "    </tr>\n",
       "    <tr>\n",
       "      <th>f1</th>\n",
       "      <td>-0.441</td>\n",
       "      <td>1.000</td>\n",
       "      <td>0.002</td>\n",
       "      <td>-0.192</td>\n",
       "    </tr>\n",
       "    <tr>\n",
       "      <th>f2</th>\n",
       "      <td>-0.003</td>\n",
       "      <td>0.002</td>\n",
       "      <td>1.000</td>\n",
       "      <td>0.484</td>\n",
       "    </tr>\n",
       "    <tr>\n",
       "      <th>product</th>\n",
       "      <td>0.144</td>\n",
       "      <td>-0.192</td>\n",
       "      <td>0.484</td>\n",
       "      <td>1.000</td>\n",
       "    </tr>\n",
       "  </tbody>\n",
       "</table>\n",
       "</div>"
      ],
      "text/plain": [
       "            f0     f1     f2  product\n",
       "f0       1.000 -0.441 -0.003    0.144\n",
       "f1      -0.441  1.000  0.002   -0.192\n",
       "f2      -0.003  0.002  1.000    0.484\n",
       "product  0.144 -0.192  0.484    1.000"
      ]
     },
     "metadata": {},
     "output_type": "display_data"
    },
    {
     "data": {
      "text/html": [
       "<div>\n",
       "<style scoped>\n",
       "    .dataframe tbody tr th:only-of-type {\n",
       "        vertical-align: middle;\n",
       "    }\n",
       "\n",
       "    .dataframe tbody tr th {\n",
       "        vertical-align: top;\n",
       "    }\n",
       "\n",
       "    .dataframe thead th {\n",
       "        text-align: right;\n",
       "    }\n",
       "</style>\n",
       "<table border=\"1\" class=\"dataframe\">\n",
       "  <thead>\n",
       "    <tr style=\"text-align: right;\">\n",
       "      <th></th>\n",
       "      <th>f0</th>\n",
       "      <th>f1</th>\n",
       "      <th>f2</th>\n",
       "      <th>product</th>\n",
       "    </tr>\n",
       "  </thead>\n",
       "  <tbody>\n",
       "    <tr>\n",
       "      <th>f0</th>\n",
       "      <td>1.000</td>\n",
       "      <td>0.182</td>\n",
       "      <td>-0.002</td>\n",
       "      <td>-0.031</td>\n",
       "    </tr>\n",
       "    <tr>\n",
       "      <th>f1</th>\n",
       "      <td>0.182</td>\n",
       "      <td>1.000</td>\n",
       "      <td>-0.003</td>\n",
       "      <td>-0.010</td>\n",
       "    </tr>\n",
       "    <tr>\n",
       "      <th>f2</th>\n",
       "      <td>-0.002</td>\n",
       "      <td>-0.003</td>\n",
       "      <td>1.000</td>\n",
       "      <td>0.999</td>\n",
       "    </tr>\n",
       "    <tr>\n",
       "      <th>product</th>\n",
       "      <td>-0.031</td>\n",
       "      <td>-0.010</td>\n",
       "      <td>0.999</td>\n",
       "      <td>1.000</td>\n",
       "    </tr>\n",
       "  </tbody>\n",
       "</table>\n",
       "</div>"
      ],
      "text/plain": [
       "            f0     f1     f2  product\n",
       "f0       1.000  0.182 -0.002   -0.031\n",
       "f1       0.182  1.000 -0.003   -0.010\n",
       "f2      -0.002 -0.003  1.000    0.999\n",
       "product -0.031 -0.010  0.999    1.000"
      ]
     },
     "metadata": {},
     "output_type": "display_data"
    },
    {
     "data": {
      "text/html": [
       "<div>\n",
       "<style scoped>\n",
       "    .dataframe tbody tr th:only-of-type {\n",
       "        vertical-align: middle;\n",
       "    }\n",
       "\n",
       "    .dataframe tbody tr th {\n",
       "        vertical-align: top;\n",
       "    }\n",
       "\n",
       "    .dataframe thead th {\n",
       "        text-align: right;\n",
       "    }\n",
       "</style>\n",
       "<table border=\"1\" class=\"dataframe\">\n",
       "  <thead>\n",
       "    <tr style=\"text-align: right;\">\n",
       "      <th></th>\n",
       "      <th>f0</th>\n",
       "      <th>f1</th>\n",
       "      <th>f2</th>\n",
       "      <th>product</th>\n",
       "    </tr>\n",
       "  </thead>\n",
       "  <tbody>\n",
       "    <tr>\n",
       "      <th>f0</th>\n",
       "      <td>1.000</td>\n",
       "      <td>0.001</td>\n",
       "      <td>-0.000</td>\n",
       "      <td>-0.002</td>\n",
       "    </tr>\n",
       "    <tr>\n",
       "      <th>f1</th>\n",
       "      <td>0.001</td>\n",
       "      <td>1.000</td>\n",
       "      <td>0.001</td>\n",
       "      <td>-0.001</td>\n",
       "    </tr>\n",
       "    <tr>\n",
       "      <th>f2</th>\n",
       "      <td>-0.000</td>\n",
       "      <td>0.001</td>\n",
       "      <td>1.000</td>\n",
       "      <td>0.446</td>\n",
       "    </tr>\n",
       "    <tr>\n",
       "      <th>product</th>\n",
       "      <td>-0.002</td>\n",
       "      <td>-0.001</td>\n",
       "      <td>0.446</td>\n",
       "      <td>1.000</td>\n",
       "    </tr>\n",
       "  </tbody>\n",
       "</table>\n",
       "</div>"
      ],
      "text/plain": [
       "            f0     f1     f2  product\n",
       "f0       1.000  0.001 -0.000   -0.002\n",
       "f1       0.001  1.000  0.001   -0.001\n",
       "f2      -0.000  0.001  1.000    0.446\n",
       "product -0.002 -0.001  0.446    1.000"
      ]
     },
     "metadata": {},
     "output_type": "display_data"
    }
   ],
   "source": [
    "# Проведем корреляционный анализ признаков\n",
    "\n",
    "display(data_0.corr())\n",
    "display(data_1.corr())\n",
    "display(data_2.corr())"
   ]
  },
  {
   "cell_type": "markdown",
   "id": "137769a6",
   "metadata": {},
   "source": [
    "Можно сказать, что во всех трех датасетах нет мультиколлинеарности, поскольку зависимость между признаками f0, f1 и f2 практически равна нулю. Однако стоит отметить, что признак f2 влияет на значение product намного сильнее остальных. В первом и третьем наборе данных наблюдается средняя зависимость между f2 и product (около 0.5), а во втором регионе коэффициент коррелляции равен 0.999. "
   ]
  },
  {
   "cell_type": "code",
   "execution_count": 12,
   "id": "02627b2e",
   "metadata": {},
   "outputs": [
    {
     "data": {
      "text/plain": [
       "count   99990.000\n",
       "mean       92.500\n",
       "std        44.288\n",
       "min         0.000\n",
       "25%        56.497\n",
       "50%        91.848\n",
       "75%       128.564\n",
       "max       185.364\n",
       "Name: product, dtype: float64"
      ]
     },
     "metadata": {},
     "output_type": "display_data"
    },
    {
     "data": {
      "image/png": "[encoded data removed]",
      "text/plain": [
       "<Figure size 1000x500 with 1 Axes>"
      ]
     },
     "metadata": {},
     "output_type": "display_data"
    }
   ],
   "source": [
    "# Посмотрим на распределение целевой переменной product\n",
    "\n",
    "display(data_0['product'].describe())\n",
    "data_0.hist('product', bins = 20, figsize = (10, 5));\n",
    "plt.title('Распределение объема запасов в первом регионе')\n",
    "plt.show()"
   ]
  },
  {
   "cell_type": "code",
   "execution_count": 13,
   "id": "7e648d1c",
   "metadata": {},
   "outputs": [
    {
     "data": {
      "text/plain": [
       "count   99996.000\n",
       "mean       68.824\n",
       "std        45.945\n",
       "min         0.000\n",
       "25%        26.953\n",
       "50%        57.086\n",
       "75%       107.813\n",
       "max       137.945\n",
       "Name: product, dtype: float64"
      ]
     },
     "metadata": {},
     "output_type": "display_data"
    },
    {
     "data": {
      "image/png": "[encoded data removed]",
      "text/plain": [
       "<Figure size 1000x500 with 1 Axes>"
      ]
     },
     "metadata": {},
     "output_type": "display_data"
    }
   ],
   "source": [
    "display(data_1['product'].describe())\n",
    "data_1.hist('product', bins = 20, figsize = (10, 5));\n",
    "plt.title('Распределение объема запасов во втором регионе')\n",
    "plt.show()"
   ]
  },
  {
   "cell_type": "code",
   "execution_count": 14,
   "id": "8f623659",
   "metadata": {
    "scrolled": false
   },
   "outputs": [
    {
     "data": {
      "text/plain": [
       "count   99996.000\n",
       "mean       94.998\n",
       "std        44.750\n",
       "min         0.000\n",
       "25%        59.450\n",
       "50%        94.925\n",
       "75%       130.587\n",
       "max       190.030\n",
       "Name: product, dtype: float64"
      ]
     },
     "metadata": {},
     "output_type": "display_data"
    },
    {
     "data": {
      "image/png": "[encoded data removed]",
      "text/plain": [
       "<Figure size 1000x500 with 1 Axes>"
      ]
     },
     "metadata": {},
     "output_type": "display_data"
    }
   ],
   "source": [
    "display(data_2['product'].describe())\n",
    "data_2.hist('product', bins = 20, figsize = (10, 5));\n",
    "plt.title('Распределение объема запасов в третьем регионе')\n",
    "plt.show()"
   ]
  },
  {
   "cell_type": "markdown",
   "id": "e1b7684d",
   "metadata": {},
   "source": [
    "Судя по графикам, данные столбца `product` распределены примерно одинаково (почти нормально) в первом и третьем регионах. Распределение целевой переменной во втором регионе сильно отличается: очень много аномальных значений (как высоких, так и низких). "
   ]
  },
  {
   "cell_type": "markdown",
   "id": "61c12d57",
   "metadata": {},
   "source": [
    "В результате загрузки и изучения данных можно сделать несколько выводов:\n",
    "- Датасеты содержат пять столбцов, 99990 строк в первом и 99996 строк во втором и третьем. Выявлены и удалены строки с повторяющимися id скважин. Выбросов и пропусков в данных не обнаружено;\n",
    "- Проведен коррелляционный анализ признаков. Анализ показал, что между обучающими признаками зависимости нет;\n",
    "- Значения запасов скважин распределены похожим образом в первом и третьем регионах. Во втором регионе целевая переменная распределена с особенностями: очень много аномально низких и аномально высоких значений;\n",
    "- Для того, чтобы алгоритмам было легче обучать модели, признаки необходимо привести к одному масштабу;\n",
    "- Удален столбец, содержащий уникальные идентификаторы скважин, поскольку информация в нем никак не влияет на результат исследования. "
   ]
  },
  {
   "cell_type": "markdown",
   "id": "d31006dc",
   "metadata": {},
   "source": [
    "## Обучение и проверка модели"
   ]
  },
  {
   "cell_type": "code",
   "execution_count": 15,
   "id": "31de1175",
   "metadata": {},
   "outputs": [],
   "source": [
    "# Напишем функцию, которая произведет извлечение признаков и целевого признака, разделит данные на обучающую и валидационную выборки, \n",
    "# а также проведет масштабирование данных\n",
    "\n",
    "def processing(data):\n",
    "    \n",
    "#   Извлекаем признаки и целевой признак\n",
    "    features = data.drop('product', axis=1)\n",
    "    target = data['product']\n",
    "\n",
    "#   Делим данные на обучающую и валидационную\n",
    "    features_train, features_valid, target_train, target_valid = train_test_split(features, target, test_size=0.25, \n",
    "                                                                                  random_state=STATE)\n",
    "#   Масштабируем признаки\n",
    "    numeric = ['f0', 'f1', 'f2']\n",
    "    scaler = StandardScaler()\n",
    "    scaler.fit(features_train[numeric])\n",
    "\n",
    "    features_train[numeric] = scaler.transform(features_train[numeric])\n",
    "    features_valid[numeric] = scaler.transform(features_valid[numeric])\n",
    "    \n",
    "    return features_train, features_valid, target_train, target_valid   "
   ]
  },
  {
   "cell_type": "code",
   "execution_count": 16,
   "id": "152a7ed8",
   "metadata": {},
   "outputs": [
    {
     "name": "stdout",
     "output_type": "stream",
     "text": [
      "Размер обучающей выборки: 149984 строк\n",
      "Размер валидационной выборки: 49996 строки\n"
     ]
    }
   ],
   "source": [
    "# Применяем функцию к данным из каждого региона\n",
    "\n",
    "features_train_0, features_valid_0, target_train_0, target_valid_0 = processing(data_0)\n",
    "features_train_1, features_valid_1, target_train_1, target_valid_1 = processing(data_1)\n",
    "features_train_2, features_valid_2, target_train_2, target_valid_2 = processing(data_2)\n",
    "\n",
    "print('Размер обучающей выборки:', len(features_train_0)+len(target_train_0) , 'строк')\n",
    "print('Размер валидационной выборки:', len(features_valid_0)+len(target_valid_0), 'строки')"
   ]
  },
  {
   "cell_type": "code",
   "execution_count": 17,
   "id": "ac6de171",
   "metadata": {},
   "outputs": [
    {
     "data": {
      "text/html": [
       "<div>\n",
       "<style scoped>\n",
       "    .dataframe tbody tr th:only-of-type {\n",
       "        vertical-align: middle;\n",
       "    }\n",
       "\n",
       "    .dataframe tbody tr th {\n",
       "        vertical-align: top;\n",
       "    }\n",
       "\n",
       "    .dataframe thead th {\n",
       "        text-align: right;\n",
       "    }\n",
       "</style>\n",
       "<table border=\"1\" class=\"dataframe\">\n",
       "  <thead>\n",
       "    <tr style=\"text-align: right;\">\n",
       "      <th></th>\n",
       "      <th>f0</th>\n",
       "      <th>f1</th>\n",
       "      <th>f2</th>\n",
       "    </tr>\n",
       "  </thead>\n",
       "  <tbody>\n",
       "    <tr>\n",
       "      <th>75167</th>\n",
       "      <td>0.776</td>\n",
       "      <td>-1.255</td>\n",
       "      <td>-0.068</td>\n",
       "    </tr>\n",
       "    <tr>\n",
       "      <th>43242</th>\n",
       "      <td>-1.580</td>\n",
       "      <td>-0.177</td>\n",
       "      <td>-1.282</td>\n",
       "    </tr>\n",
       "    <tr>\n",
       "      <th>91995</th>\n",
       "      <td>-0.646</td>\n",
       "      <td>0.137</td>\n",
       "      <td>-0.505</td>\n",
       "    </tr>\n",
       "    <tr>\n",
       "      <th>5094</th>\n",
       "      <td>-0.509</td>\n",
       "      <td>1.254</td>\n",
       "      <td>-0.857</td>\n",
       "    </tr>\n",
       "    <tr>\n",
       "      <th>78252</th>\n",
       "      <td>-0.738</td>\n",
       "      <td>1.534</td>\n",
       "      <td>-0.373</td>\n",
       "    </tr>\n",
       "  </tbody>\n",
       "</table>\n",
       "</div>"
      ],
      "text/plain": [
       "          f0     f1     f2\n",
       "75167  0.776 -1.255 -0.068\n",
       "43242 -1.580 -0.177 -1.282\n",
       "91995 -0.646  0.137 -0.505\n",
       "5094  -0.509  1.254 -0.857\n",
       "78252 -0.738  1.534 -0.373"
      ]
     },
     "execution_count": 17,
     "metadata": {},
     "output_type": "execute_result"
    }
   ],
   "source": [
    "features_train_0.head()"
   ]
  },
  {
   "cell_type": "code",
   "execution_count": 18,
   "id": "9ad725c2",
   "metadata": {},
   "outputs": [
    {
     "data": {
      "text/html": [
       "<div>\n",
       "<style scoped>\n",
       "    .dataframe tbody tr th:only-of-type {\n",
       "        vertical-align: middle;\n",
       "    }\n",
       "\n",
       "    .dataframe tbody tr th {\n",
       "        vertical-align: top;\n",
       "    }\n",
       "\n",
       "    .dataframe thead th {\n",
       "        text-align: right;\n",
       "    }\n",
       "</style>\n",
       "<table border=\"1\" class=\"dataframe\">\n",
       "  <thead>\n",
       "    <tr style=\"text-align: right;\">\n",
       "      <th></th>\n",
       "      <th>f0</th>\n",
       "      <th>f1</th>\n",
       "      <th>f2</th>\n",
       "    </tr>\n",
       "  </thead>\n",
       "  <tbody>\n",
       "    <tr>\n",
       "      <th>count</th>\n",
       "      <td>74992.000</td>\n",
       "      <td>74992.000</td>\n",
       "      <td>74992.000</td>\n",
       "    </tr>\n",
       "    <tr>\n",
       "      <th>mean</th>\n",
       "      <td>-0.000</td>\n",
       "      <td>0.000</td>\n",
       "      <td>0.000</td>\n",
       "    </tr>\n",
       "    <tr>\n",
       "      <th>std</th>\n",
       "      <td>1.000</td>\n",
       "      <td>1.000</td>\n",
       "      <td>1.000</td>\n",
       "    </tr>\n",
       "    <tr>\n",
       "      <th>min</th>\n",
       "      <td>-2.189</td>\n",
       "      <td>-2.177</td>\n",
       "      <td>-3.899</td>\n",
       "    </tr>\n",
       "    <tr>\n",
       "      <th>25%</th>\n",
       "      <td>-0.657</td>\n",
       "      <td>-0.893</td>\n",
       "      <td>-0.682</td>\n",
       "    </tr>\n",
       "    <tr>\n",
       "      <th>50%</th>\n",
       "      <td>-0.002</td>\n",
       "      <td>0.002</td>\n",
       "      <td>0.006</td>\n",
       "    </tr>\n",
       "    <tr>\n",
       "      <th>75%</th>\n",
       "      <td>0.657</td>\n",
       "      <td>0.895</td>\n",
       "      <td>0.683</td>\n",
       "    </tr>\n",
       "    <tr>\n",
       "      <th>max</th>\n",
       "      <td>2.138</td>\n",
       "      <td>2.145</td>\n",
       "      <td>3.989</td>\n",
       "    </tr>\n",
       "  </tbody>\n",
       "</table>\n",
       "</div>"
      ],
      "text/plain": [
       "             f0        f1        f2\n",
       "count 74992.000 74992.000 74992.000\n",
       "mean     -0.000     0.000     0.000\n",
       "std       1.000     1.000     1.000\n",
       "min      -2.189    -2.177    -3.899\n",
       "25%      -0.657    -0.893    -0.682\n",
       "50%      -0.002     0.002     0.006\n",
       "75%       0.657     0.895     0.683\n",
       "max       2.138     2.145     3.989"
      ]
     },
     "execution_count": 18,
     "metadata": {},
     "output_type": "execute_result"
    }
   ],
   "source": [
    "features_train_0.describe()"
   ]
  },
  {
   "cell_type": "code",
   "execution_count": 19,
   "id": "175ec51a",
   "metadata": {},
   "outputs": [],
   "source": [
    "# Напишем функцию для обучения моделей\n",
    "\n",
    "def learning(features_train, features_valid, target_train, target_valid):\n",
    "    \n",
    "#   Обучаем модель и получаем предсказанные значения объема сырья\n",
    "    model = LinearRegression()\n",
    "    model.fit(features_train, target_train)\n",
    "    predicted_valid = model.predict(features_valid)\n",
    "    \n",
    "#   Высчитываем среднее предсказанное значение объема сырья и значение RMSE\n",
    "    pred_mean = predicted_valid.mean()\n",
    "    rmse = mean_squared_error(target_valid, predicted_valid)**0.5\n",
    "    \n",
    "    return predicted_valid, pred_mean, rmse"
   ]
  },
  {
   "cell_type": "code",
   "execution_count": 20,
   "id": "d70c2ebc",
   "metadata": {},
   "outputs": [
    {
     "name": "stdout",
     "output_type": "stream",
     "text": [
      "Cредний запас предсказанного сырья в первом регионе равен 92.78915638280621, RMSE модели 37.853527328872964.\n",
      "Cредний запас предсказанного сырья во втором регионе равен 68.95746560835222, RMSE модели 0.8947795612491991.\n",
      "Cредний запас предсказанного сырья в третьем регионе равен 95.07949668343952, RMSE модели 40.04155743522127.\n"
     ]
    }
   ],
   "source": [
    "# Применяем функцию learning для каждого региона\n",
    "\n",
    "predicted_valid_0, pred_mean_0, rmse_0 = learning(features_train_0, features_valid_0, target_train_0, target_valid_0)\n",
    "predicted_valid_1, pred_mean_1, rmse_1 = learning(features_train_1, features_valid_1, target_train_1, target_valid_1)\n",
    "predicted_valid_2, pred_mean_2, rmse_2 = learning(features_train_2, features_valid_2, target_train_2, target_valid_2)\n",
    "\n",
    "# Напечатаем результаты\n",
    "print(f'Cредний запас предсказанного сырья в первом регионе равен {pred_mean_0}, RMSE модели {rmse_0}.')\n",
    "print(f'Cредний запас предсказанного сырья во втором регионе равен {pred_mean_1}, RMSE модели {rmse_1}.')\n",
    "print(f'Cредний запас предсказанного сырья в третьем регионе равен {pred_mean_2}, RMSE модели {rmse_2}.')"
   ]
  },
  {
   "cell_type": "markdown",
   "id": "1a731f0c",
   "metadata": {},
   "source": [
    "В результате обучения моделей и анализа полученных предсказаний можно сделать пару выводов:"
   ]
  },
  {
   "cell_type": "markdown",
   "id": "8075a8e2",
   "metadata": {},
   "source": [
    "- В первом и третьем регионах модели показали высокое значение среднего запаса предсказанного сырья, однако при этом показали довольно высокое значение среднеквадратичной ошибки.\n",
    "- Модель, обученная для подсчета среднего запаса предсказанного сырья во втором регионе, показала значение запаса скважин меньше, но её RMSE очень близко к нулю, что говорит о высоком качестве данной модели.\n"
   ]
  },
  {
   "cell_type": "markdown",
   "id": "cf6c0212",
   "metadata": {},
   "source": [
    "## Подготовка к расчёту прибыли"
   ]
  },
  {
   "cell_type": "code",
   "execution_count": 21,
   "id": "b01c5d5f",
   "metadata": {},
   "outputs": [
    {
     "name": "stdout",
     "output_type": "stream",
     "text": [
      "Достаточный объём сырья для безубыточной разработки новой скважины равен 111.11111111111111 тыс. баррелей.\n"
     ]
    }
   ],
   "source": [
    "# Расчет бюджета на разработку одной скважины\n",
    "budget_per_chosen = BUDGET / CHOSEN \n",
    "\n",
    "# Расчет достаточного объём сырья для безубыточной разработки новой скважины\n",
    "sufficient_volume = budget_per_chosen / REVENUE_PER_PRODUCT\n",
    "print(f'Достаточный объём сырья для безубыточной разработки новой скважины равен {sufficient_volume} тыс. баррелей.')"
   ]
  },
  {
   "cell_type": "code",
   "execution_count": 22,
   "id": "7c81fe7e",
   "metadata": {},
   "outputs": [
    {
     "name": "stdout",
     "output_type": "stream",
     "text": [
      "Регион 1: 92.49968421774354\n",
      "Регион 2: 68.82391591804064\n",
      "Регион 3: 94.99834211933378\n"
     ]
    }
   ],
   "source": [
    "# Сравним полученный необходимый объем сырья со средним запасом в каждом регионе\n",
    "\n",
    "\n",
    "print('Регион 1:', data_0['product'].mean())\n",
    "print('Регион 2:', data_1['product'].mean())\n",
    "print('Регион 3:', data_2['product'].mean())"
   ]
  },
  {
   "cell_type": "markdown",
   "id": "df587a70",
   "metadata": {},
   "source": [
    "#### Вывод:"
   ]
  },
  {
   "cell_type": "markdown",
   "id": "84d14f70",
   "metadata": {},
   "source": [
    "Среднее значение запаса скважин во всех трех регионах ниже необходимого объема для безубыточной разработки новой скважины. Это значит, что\n",
    "вероятность убытка довольно высока при случайном выборе 200 скважин. Для дальнейшей работы необходимо создать такую модель, которая на основе имеющихся данных могла отобрать 200 точек с максимальным объемом сырья и вычислить финансовый результат работы в них. Чтобы оценить прибыль и риски работы в каждом регионе, необходимо подсчитать среднее от полученных результатов, отбирая точки случайным образом  множество раз. В этом поможет техника bootstrap."
   ]
  },
  {
   "cell_type": "markdown",
   "id": "1872a314",
   "metadata": {},
   "source": [
    "## Расчёт прибыли и рисков "
   ]
  },
  {
   "cell_type": "code",
   "execution_count": 23,
   "id": "899e8177",
   "metadata": {},
   "outputs": [],
   "source": [
    "# Напишем функцию для расчёта прибыли по выбранным скважинам и предсказаниям модели\n",
    "\n",
    "def revenue(target, probabilities, count):\n",
    "    \n",
    "    target = target.reset_index(drop=True)\n",
    "    probs_sorted = pd.Series(probabilities, index=target.index)\n",
    "    selected = target[probs_sorted.sort_values(ascending = False).index][:count]\n",
    "    \n",
    "    return selected.sum() * REVENUE_PER_PRODUCT - BUDGET"
   ]
  },
  {
   "cell_type": "code",
   "execution_count": 24,
   "id": "1e45a385",
   "metadata": {},
   "outputs": [
    {
     "name": "stdout",
     "output_type": "stream",
     "text": [
      "Прибыль в первом регионе - 3365.1872377002874 млн руб.\n",
      "Прибыль в первом регионе - 2415.086696681512 млн руб.\n",
      "Прибыль в первом регионе - 2458.130096355624 млн руб.\n"
     ]
    }
   ],
   "source": [
    "# Применим функцию и посчитаем прибыль для каждого региона\n",
    "\n",
    "print(f'Прибыль в первом регионе - {revenue(target_valid_0, predicted_valid_0, CHOSEN)} млн руб.')\n",
    "print(f'Прибыль в первом регионе - {revenue(target_valid_1, predicted_valid_1, CHOSEN)} млн руб.')\n",
    "print(f'Прибыль в первом регионе - {revenue(target_valid_2, predicted_valid_2, CHOSEN)} млн руб.')"
   ]
  },
  {
   "cell_type": "markdown",
   "id": "f3747c4d",
   "metadata": {},
   "source": [
    "Далее посчитаем риски и прибыль для каждого региона, учитывая условие задачи: найдём среднюю прибыль, 95%-й доверительный интервал и риск убытков в каждом регионе при случайном выборе 500 скважин. "
   ]
  },
  {
   "cell_type": "code",
   "execution_count": 25,
   "id": "b6b5318b",
   "metadata": {},
   "outputs": [],
   "source": [
    "# Напишем функцию для вычисления прибыли и убытков с применением техники Bootstrap\n",
    "\n",
    "def bootstrap(target, probabilities, count):\n",
    "    \n",
    "#   Создаем пустой список для записи значений прибыли с каждой итерации\n",
    "    values = []\n",
    "    for i in range(1000):      \n",
    "#       Выбираем из списка с целевыми значениями необходимое количество скважин\n",
    "        target_subsample = target.reset_index(drop=True).sample(n=SELECTION, replace=True, random_state=STATE)\n",
    "    \n",
    "#       Выбранные случайно скважины ищем в списке с предсказанными значениями по индексам\n",
    "        probs_subsample = probabilities[target_subsample.index]\n",
    "    \n",
    "#       Полученные данные используем для расчета прибыли в функции revenue, результат сохраняем в списке values\n",
    "        values.append(revenue(target_subsample, probs_subsample, CHOSEN))\n",
    "    \n",
    "    values = pd.Series(values)\n",
    "    \n",
    "#   В переменной loss сохраняем значение, равное вероятности убытка\n",
    "    loss = values[values<0].count()/1000\n",
    "\n",
    "    lower = values.quantile(0.025)\n",
    "    upper = values.quantile(0.975)\n",
    "    \n",
    "    print('Средняя прибыль в регионе равна:', values.mean(), 'млн руб.')\n",
    "    print('95% доверительный интервал лежит в диапазоне от {:.2f}'.format(lower),'до {:.2f}'.format(upper))\n",
    "    print('Вероятность убытка равна: {:.2%}'.format(loss))"
   ]
  },
  {
   "cell_type": "code",
   "execution_count": 26,
   "id": "63f88d7f",
   "metadata": {
    "scrolled": false
   },
   "outputs": [
    {
     "name": "stdout",
     "output_type": "stream",
     "text": [
      "Средняя прибыль в регионе равна: 389.04448855708534 млн руб.\n",
      "95% доверительный интервал лежит в диапазоне от -112.97 до 894.00\n",
      "Вероятность убытка равна: 7.40%\n"
     ]
    }
   ],
   "source": [
    "# Считаем прибыль и вероятность убытка в первом регионе\n",
    "\n",
    "bootstrap(target_valid_0, predicted_valid_0, SELECTION)"
   ]
  },
  {
   "cell_type": "code",
   "execution_count": 27,
   "id": "ee42a1ce",
   "metadata": {},
   "outputs": [
    {
     "name": "stdout",
     "output_type": "stream",
     "text": [
      "Средняя прибыль в регионе равна: 439.07238851576784 млн руб.\n",
      "95% доверительный интервал лежит в диапазоне от 33.06 до 850.15\n",
      "Вероятность убытка равна: 1.30%\n"
     ]
    }
   ],
   "source": [
    "# Считаем прибыль и вероятность убытка во втором регионе\n",
    "\n",
    "bootstrap(target_valid_1, predicted_valid_1, SELECTION)"
   ]
  },
  {
   "cell_type": "code",
   "execution_count": 28,
   "id": "47c45ca1",
   "metadata": {},
   "outputs": [
    {
     "name": "stdout",
     "output_type": "stream",
     "text": [
      "Средняя прибыль в регионе равна: 450.22471351034454 млн руб.\n",
      "95% доверительный интервал лежит в диапазоне от -62.39 до 943.66\n",
      "Вероятность убытка равна: 4.60%\n"
     ]
    }
   ],
   "source": [
    "# Считаем прибыль и вероятность убытка в третьем регионе\n",
    "\n",
    "bootstrap(target_valid_2, predicted_valid_2, SELECTION)"
   ]
  },
  {
   "cell_type": "markdown",
   "id": "a59f4138",
   "metadata": {},
   "source": [
    "#### Вывод:"
   ]
  },
  {
   "cell_type": "markdown",
   "id": "28fdb96f",
   "metadata": {},
   "source": [
    "Расчеты средней прибыли и убытков показали, что единственным оптимальным выбором для разработки является регион №2. Риск убытка в этом регионе самый низкий (1.30%, что ниже допустимого порога в 2.5%), а средняя прибыль равна около 439 млн. руб."
   ]
  },
  {
   "cell_type": "markdown",
   "id": "010dfb12",
   "metadata": {},
   "source": [
    "## Итоговый вывод"
   ]
  },
  {
   "cell_type": "markdown",
   "id": "2f258438",
   "metadata": {},
   "source": [
    "- В ходе работы были изучены три набора данных, содержащих по 100000 строк и 5 столбцов. Были обработаны дубликаты, пропуски и дубликаты не обнаружены;\n",
    "- Столбец, содержащий уникальные идентификаторы скважин, был удален из датасетов, поскольку информация в нем никак не влияет на результаты настоящего исследования;\n",
    "- Для того, чтобы алгоритмам было легче обучать модели, признаки были приведены к одному масштабу;"
   ]
  },
  {
   "cell_type": "markdown",
   "id": "2e122827",
   "metadata": {},
   "source": [
    "На основе обработанных данных были обучены модели для предсказания среднего запаса сырья в каждом из трех регионов. Анализ полученных результатов позволил сделать следующие выводы:\n",
    "- В первом и третьем регионах модели показали высокое значение среднего запаса предсказанного сырья, однако при этом показали довольно высокое значение среднеквадратичной ошибки.\n",
    "- Модель, обученная для подсчета среднего запаса предсказанного сырья во втором регионе, показала значение запаса скважин меньше, но её RMSE очень близко к нулю, что говорит о высоком качестве данной модели."
   ]
  },
  {
   "cell_type": "markdown",
   "id": "1ae42745",
   "metadata": {},
   "source": [
    "Далее был произведен расчет достаточного объёма сырья для безубыточной разработки новой скважины. Результат составил около 111 тыс. баррелей. После сравнения полученного результата со средним запасом скважин в каждом регионе, оказалось, что среднее значение запаса скважин во всех трех регионах ниже необходимого объема для безубыточной разработки новой скважины. Поэтому случайный выбор скважин в любом регионе может привести к убыткам."
   ]
  },
  {
   "cell_type": "markdown",
   "id": "7b0d0802",
   "metadata": {},
   "source": [
    "Для того, чтобы добыча принесла максимальную прибыль, следующим этапом работы стало написание функции revenue для расчёта прибыли по выбранным скважинам и предсказаниям модели. Её суть заключается в отборе скважин с наибольшим значением предсказанного объема сырья и вычислении прибыли от полученного общего объема. "
   ]
  },
  {
   "cell_type": "markdown",
   "id": "eead0258",
   "metadata": {},
   "source": [
    "Для подсчета рисков и прибыли для каждого региона была написана функция bootstrap, которая:\n",
    "- применяет технику Bootstrap с 1000 выборок и находит распределение прибыли, подсчитанной функцией revenue\n",
    "- считает среднюю прибыль, 95%-й доверительный интервал и риск убытков\n",
    "\n",
    "Расчеты показали следующие результаты:\n",
    "- Для первого региона:\n",
    "    - Средняя прибыль равна около 389 млн рублей;\n",
    "    - 95% доверительный интервал лежит в диапазоне от -112.97 млн руб до 894 млн руб;\n",
    "    - Вероятность убытка от добычи сырья в первом регионе равна 7.40%, что намного больше допустимого значения в 2.5%\n",
    "    \n",
    "- Для второго региона: \n",
    "    - Средняя прибыль равна около 439 млн рублей;\n",
    "    - 95% доверительный интервал лежит в диапазоне от 33.06 млн руб до 850.15 млн руб;\n",
    "    - Вероятность убытка от добычи сырья в первом регионе равна 1.30%, что ниже допустимого значения в 2.5%\n",
    "- Для третьего региона: \n",
    "    - Средняя прибыль равна около 450 млн рублей;\n",
    "    - 95% доверительный интервал лежит в диапазоне от -62.39 млн руб до 943.66 млн руб;\n",
    "    - Вероятность убытка от добычи сырья в первом регионе равна 4.60%, что больше допустимого значения в 2.5% "
   ]
  },
  {
   "cell_type": "markdown",
   "id": "a4323055",
   "metadata": {},
   "source": [
    "### Таким образом, единственным оптимальным выбором для разработки является второй регион. Риск убытка в нем самый низкий, а средняя прибыль равна 439 млн рублей."
   ]
  }
 ],
 "metadata": {
  "kernelspec": {
   "display_name": "Python 3 (ipykernel)",
   "language": "python",
   "name": "python3"
  },
  "language_info": {
   "codemirror_mode": {
    "name": "ipython",
    "version": 3
   },
   "file_extension": ".py",
   "mimetype": "text/x-python",
   "name": "python",
   "nbconvert_exporter": "python",
   "pygments_lexer": "ipython3",
   "version": "3.10.9"
  },
  "toc": {
   "base_numbering": 1,
   "nav_menu": {},
   "number_sections": false,
   "sideBar": true,
   "skip_h1_title": true,
   "title_cell": "Table of Contents",
   "title_sidebar": "Contents",
   "toc_cell": false,
   "toc_position": {},
   "toc_section_display": true,
   "toc_window_display": false
  }
 },
 "nbformat": 4,
 "nbformat_minor": 5
}
